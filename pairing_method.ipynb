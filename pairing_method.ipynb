{
 "cells": [
  {
   "cell_type": "code",
   "execution_count": 1,
   "metadata": {},
   "outputs": [],
   "source": [
    "import os\n",
    "import h5py\n",
    "import shutil\n",
    "import itertools\n",
    "\n",
    "import numpy as np\n",
    "import multiprocessing as mp\n",
    "\n",
    "from tqdm import tqdm\n",
    "from itertools import repeat\n",
    "\n",
    "N_CORES = 64"
   ]
  },
  {
   "cell_type": "code",
   "execution_count": 2,
   "metadata": {},
   "outputs": [],
   "source": [
    "def all_pairs(lst):\n",
    "    if len(lst) < 2:\n",
    "        yield []\n",
    "        return\n",
    "    if len(lst) % 2 == 1:\n",
    "        # Handle odd length list\n",
    "        for i in range(len(lst)):\n",
    "            for result in all_pairs(lst[:i] + lst[i+1:]):\n",
    "                yield result\n",
    "    else:\n",
    "        a = lst[0]\n",
    "        for i in range(1, len(lst)):\n",
    "            pair = (a,lst[i])\n",
    "            for rest in all_pairs(lst[1:i]+lst[i+1:]):\n",
    "                yield [pair] + rest\n",
    "\n",
    "                \n",
    "def Mjets(jets):\n",
    "    # jets: 一個形狀為 (n, 4) 的 NumPy 陣列，其中 n 是噴射數量，每個噴射有四個屬性（pt, eta, phi, m）\n",
    "\n",
    "    pt, eta, phi, m = jets.T  # 將噴射屬性分解為單獨的陣列\n",
    "\n",
    "    px = pt * np.cos(phi)\n",
    "    py = pt * np.sin(phi)\n",
    "    pz = pt * np.sinh(eta)\n",
    "    e = np.sqrt(m*m + px*px + py*py + pz*pz)\n",
    "\n",
    "    return np.sqrt(e.sum()**2 - px.sum()**2 - py.sum()**2 - pz.sum()**2)\n",
    "\n",
    "\n",
    "def PxPyPzE(jets):\n",
    "    # jets: 一個形狀為 (n, 4) 的 NumPy 陣列，其中 n 是噴射數量，每個噴射有四個屬性（pt, eta, phi, m）\n",
    "    pt, eta, phi, m = jets.T\n",
    "\n",
    "    px = pt * np.cos(phi)\n",
    "    py = pt * np.sin(phi)\n",
    "    pz = pt * np.sinh(eta)\n",
    "    e = np.sqrt(m*m + px*px + py*py + pz*pz)\n",
    "\n",
    "    return px.sum(), py.sum(), pz.sum(), e.sum()\n",
    "\n",
    "\n",
    "def PtEtaPhiM(px, py, pz, e):\n",
    "\n",
    "    P = np.sqrt(px**2 + py**2 + pz**2)\n",
    "    pt = np.sqrt(px**2 + py**2)\n",
    "    eta = 1/2 * np.log((P + pz)/(P - pz))\n",
    "    phi = np.arctan(py/px)\n",
    "    m = np.sqrt(e**2 - px**2 - py**2 - pz**2)\n",
    "\n",
    "    return pt, eta, phi, m"
   ]
  },
  {
   "cell_type": "code",
   "execution_count": 3,
   "metadata": {},
   "outputs": [],
   "source": [
    "def chi2_triHiggs(m1, m2, m3):\n",
    "    mh = 125.0\n",
    "    return (m1 - mh)**2 + (m2 - mh)**2 + (m3 - mh)**2\n",
    "\n",
    "\n",
    "def abs_triHiggs(m1, m2, m3):\n",
    "    return abs(m1 - 120) + abs(m2 - 115) + abs(m3 - 110)"
   ]
  },
  {
   "cell_type": "code",
   "execution_count": 4,
   "metadata": {},
   "outputs": [],
   "source": [
    "def write_pairing_results(file, data: list):\n",
    "    pairing = np.array(data).transpose()\n",
    "\n",
    "    # Write\n",
    "    file['TARGETS/h1/b1'][:] = pairing[0]\n",
    "    file['TARGETS/h1/b2'][:] = pairing[1]\n",
    "    file['TARGETS/h2/b1'][:] = pairing[2]\n",
    "    file['TARGETS/h2/b2'][:] = pairing[3]\n",
    "    file['TARGETS/h3/b1'][:] = pairing[4]\n",
    "    file['TARGETS/h3/b2'][:] = pairing[5]"
   ]
  },
  {
   "cell_type": "code",
   "execution_count": 5,
   "metadata": {},
   "outputs": [],
   "source": [
    "def pair_jets(file_path, pairing_method, start, end):\n",
    "\n",
    "    with h5py.File(file_path, 'r') as f:\n",
    "        pairing_list = []\n",
    "        for event in tqdm(range(start, end)):\n",
    "\n",
    "            nj = f['INPUTS/Source/MASK'][event].sum()\n",
    "            pt = f['INPUTS/Source/pt'][event]\n",
    "            eta = f['INPUTS/Source/eta'][event]\n",
    "            phi = f['INPUTS/Source/phi'][event]\n",
    "            mass = f['INPUTS/Source/mass'][event]\n",
    "            btag = f['INPUTS/Source/btag'][event]\n",
    "\n",
    "            chisq = -1 \n",
    "            pair = []\n",
    "\n",
    "            nbj = np.sum(btag)\n",
    "            if nbj == 4:\n",
    "                jets_index = np.concatenate([np.where(btag)[0][0:4], np.where(~btag)[0][0:2]])\n",
    "            elif nbj == 5:\n",
    "                jets_index = np.concatenate([np.where(btag)[0][0:5], np.where(~btag)[0][0:1]])\n",
    "            elif nbj == 6:\n",
    "                jets_index = np.where(btag)[0][0:6]\n",
    "\n",
    "            for combination in itertools.combinations(jets_index, 6):\n",
    "                for (i1,i2), (i3,i4), (i5,i6) in all_pairs(combination):       \n",
    "                    jets = np.array([[pt[i], eta[i], phi[i], mass[i]] for i in [i1, i2, i3, i4, i5, i6]])\n",
    "            \n",
    "                    pt1, _, _, mh1 = PtEtaPhiM(*PxPyPzE(jets[[0, 1]]))\n",
    "                    pt2, _, _, mh2 = PtEtaPhiM(*PxPyPzE(jets[[2, 3]]))\n",
    "                    pt3, _, _, mh3 = PtEtaPhiM(*PxPyPzE(jets[[4, 5]]))\n",
    "\n",
    "                    pt_mh_pairs = sorted(zip([pt1, pt2, pt3], [mh1, mh2, mh3], [(i1, i2), (i3, i4), (i5, i6)]))\n",
    "                    pt_sorted, mh_sorted, pair_sorted = zip(*pt_mh_pairs)\n",
    "\n",
    "                    mh1, mh2, mh3 = mh_sorted[::-1]\n",
    "                    tem = pairing_method(mh1, mh2, mh3)\n",
    "\n",
    "                    if chisq < 0 or tem < chisq:\n",
    "                        chisq = tem\n",
    "                        pair = [jet for pair in pair_sorted[::-1] for jet in pair]\n",
    "\n",
    "            pairing_list.append(pair)\n",
    "\n",
    "        return pairing_list"
   ]
  },
  {
   "cell_type": "code",
   "execution_count": 6,
   "metadata": {},
   "outputs": [],
   "source": [
    "def perform_jet_pairing(file_path, output_path, pairing_method=chi2_triHiggs):\n",
    "    # file_path: input h5 file path\n",
    "    # output_path: output h5 file path with jet pairing results\n",
    "    # use_btag: whether to use btag information\n",
    "\n",
    "    shutil.copy(file_path, output_path)\n",
    "\n",
    "    with h5py.File(file_path, 'r') as f:\n",
    "        nevent = f['INPUTS/Source/pt'].shape[0]\n",
    "    print(f'Number of events: {nevent}')\n",
    "\n",
    "    # Multi-core processing\n",
    "    print(f'Number of cores: {N_CORES}')\n",
    "    start = [nevent // N_CORES * i for i in range(N_CORES)]\n",
    "    end = [nevent // N_CORES * (i+1) for i in range(N_CORES)]\n",
    "    end[-1] = nevent\n",
    "\n",
    "    with mp.Pool(processes=N_CORES) as pool:\n",
    "        results = pool.starmap(pair_jets, zip(repeat(file_path), repeat(pairing_method), start, end))\n",
    "\n",
    "    pairing_list = [pairing for result_list in results for pairing in result_list]\n",
    "\n",
    "    # write to h5 file\n",
    "    with h5py.File(output_path, 'a') as f_out:\n",
    "        write_pairing_results(f_out, pairing_list)"
   ]
  },
  {
   "cell_type": "code",
   "execution_count": null,
   "metadata": {},
   "outputs": [],
   "source": [
    "file_path = '../SPANet2/data/triHiggs/gghhh_6b_PT40_test.h5'\n",
    "output_path = '../SPANet2/data/triHiggs/gghhh_6b_PT40_test-chi2_pairing.h5'\n",
    "\n",
    "perform_jet_pairing(file_path, output_path, use_btag=True, pairing_method=chi2_triHiggs)"
   ]
  },
  {
   "cell_type": "code",
   "execution_count": null,
   "metadata": {},
   "outputs": [
    {
     "name": "stderr",
     "output_type": "stream",
     "text": [
      "100%|██████████| 40000/40000 [03:18<00:00, 201.83it/s]\n"
     ]
    }
   ],
   "source": [
    "file_path = '../SPANet2/data/triHiggs/gghhh_6b_PT40_test.h5'\n",
    "output_path = '../SPANet2/data/triHiggs/gghhh_6b_PT40_test-abs_pairing.h5'\n",
    "\n",
    "perform_jet_pairing(file_path, output_path, use_btag=True, pairing_method=abs_triHiggs)"
   ]
  },
  {
   "cell_type": "code",
   "execution_count": null,
   "metadata": {},
   "outputs": [
    {
     "name": "stderr",
     "output_type": "stream",
     "text": [
      "100%|██████████| 86694/86694 [07:43<00:00, 187.08it/s]\n"
     ]
    }
   ],
   "source": [
    "file_path = './Sample/SPANet/gghhh_6b_PT40_DNN.h5'\n",
    "output_path = './Sample/SPANet/gghhh_6b_PT40_DNN-chi2_pairing.h5'\n",
    "\n",
    "perform_jet_pairing(file_path, output_path, use_btag=True, pairing_method=chi2_triHiggs)"
   ]
  },
  {
   "cell_type": "code",
   "execution_count": null,
   "metadata": {},
   "outputs": [
    {
     "name": "stderr",
     "output_type": "stream",
     "text": [
      "100%|██████████| 86694/86694 [07:42<00:00, 187.29it/s]\n"
     ]
    }
   ],
   "source": [
    "file_path = './Sample/SPANet/gghhh_6b_PT40_DNN.h5'\n",
    "output_path = './Sample/SPANet/gghhh_6b_PT40_DNN-abs_pairing.h5'\n",
    "\n",
    "perform_jet_pairing(file_path, output_path, use_btag=True, pairing_method=abs_triHiggs)"
   ]
  },
  {
   "cell_type": "code",
   "execution_count": null,
   "metadata": {},
   "outputs": [
    {
     "name": "stderr",
     "output_type": "stream",
     "text": [
      "100%|██████████| 51572/51572 [04:54<00:00, 175.23it/s]\n"
     ]
    }
   ],
   "source": [
    "file_path = './Sample/SPANet/pp6b_6b.h5'\n",
    "output_path = './Sample/SPANet/pp6b_6b-chi2_pairing.h5'\n",
    "\n",
    "perform_jet_pairing(file_path, output_path, use_btag=True, pairing_method=chi2_triHiggs)"
   ]
  },
  {
   "cell_type": "code",
   "execution_count": null,
   "metadata": {},
   "outputs": [
    {
     "name": "stderr",
     "output_type": "stream",
     "text": [
      "100%|██████████| 51572/51572 [05:01<00:00, 170.95it/s]\n"
     ]
    }
   ],
   "source": [
    "file_path = './Sample/SPANet/pp6b_6b.h5'\n",
    "output_path = './Sample/SPANet/pp6b_6b-abs_pairing.h5'\n",
    "\n",
    "perform_jet_pairing(file_path, output_path, use_btag=True, pairing_method=abs_triHiggs)"
   ]
  },
  {
   "cell_type": "markdown",
   "metadata": {},
   "source": [
    "# 4b sample"
   ]
  },
  {
   "cell_type": "code",
   "execution_count": null,
   "metadata": {},
   "outputs": [
    {
     "name": "stdout",
     "output_type": "stream",
     "text": [
      "python perform_jet_pairing.py ./Sample/SPANet/gghhh_4b_PT40_DNN.h5 ./Sample/SPANet/gghhh_4b_PT40_DNN-chi2_pairing.h5 chi2_triHiggs\n",
      "python perform_jet_pairing.py ./Sample/SPANet/gghhh_4b_PT40_DNN.h5 ./Sample/SPANet/gghhh_4b_PT40_DNN-abs_pairing.h5 abs_triHiggs\n"
     ]
    }
   ],
   "source": [
    "file_path = './Sample/SPANet/gghhh_4b_PT40_DNN.h5'\n",
    "output_path = './Sample/SPANet/gghhh_4b_PT40_DNN-chi2_pairing.h5'\n",
    "pairing_method='chi2_triHiggs'\n",
    "\n",
    "cmd = f'python perform_jet_pairing.py {file_path} {output_path} {pairing_method} &'\n",
    "print(cmd)\n",
    "\n",
    "file_path = './Sample/SPANet/gghhh_4b_PT40_DNN.h5'\n",
    "output_path = './Sample/SPANet/gghhh_4b_PT40_DNN-abs_pairing.h5'\n",
    "pairing_method='abs_triHiggs'\n",
    "\n",
    "cmd = f'python perform_jet_pairing.py {file_path} {output_path} {pairing_method} &'\n",
    "print(cmd)"
   ]
  },
  {
   "cell_type": "code",
   "execution_count": 9,
   "metadata": {},
   "outputs": [
    {
     "name": "stdout",
     "output_type": "stream",
     "text": [
      "python perform_jet_pairing.py ./Sample/SPANet/pp6b_4b.h5 ./Sample/SPANet/pp6b_4b-chi2_pairing.h5 chi2_triHiggs\n"
     ]
    }
   ],
   "source": [
    "file_path = './Sample/SPANet/pp6b_4b.h5'\n",
    "output_path = './Sample/SPANet/pp6b_4b-chi2_pairing.h5'\n",
    "pairing_method='chi2_triHiggs'\n",
    "\n",
    "cmd = f'python perform_jet_pairing.py {file_path} {output_path} {pairing_method}'\n",
    "print(cmd)"
   ]
  },
  {
   "cell_type": "code",
   "execution_count": 10,
   "metadata": {},
   "outputs": [
    {
     "name": "stdout",
     "output_type": "stream",
     "text": [
      "python perform_jet_pairing.py ./Sample/SPANet/pp6b_4b.h5 ./Sample/SPANet/pp6b_4b-abs_pairing.h5 abs_triHiggs\n"
     ]
    }
   ],
   "source": [
    "file_path = './Sample/SPANet/pp6b_4b.h5'\n",
    "output_path = './Sample/SPANet/pp6b_4b-abs_pairing.h5'\n",
    "pairing_method='abs_triHiggs'\n",
    "\n",
    "cmd = f'python perform_jet_pairing.py {file_path} {output_path} {pairing_method}'\n",
    "print(cmd)"
   ]
  },
  {
   "cell_type": "markdown",
   "metadata": {},
   "source": [
    "# 4b Train, 6b Test"
   ]
  },
  {
   "cell_type": "code",
   "execution_count": 1,
   "metadata": {},
   "outputs": [
    {
     "name": "stdout",
     "output_type": "stream",
     "text": [
      "python perform_jet_pairing.py ./Sample/SPANet/triHiggs-4pT40_4b-train.h5 ./Sample/SPANet/triHiggs-4pT40_4b-train-chi2_pairing.h5 chi2_triHiggs &\n",
      "python perform_jet_pairing.py ./Sample/SPANet/triHiggs-4pT40_4b-train.h5 ./Sample/SPANet/triHiggs-4pT40_4b-train-abs_pairing.h5 abs_triHiggs &\n",
      "python perform_jet_pairing.py ./Sample/SPANet/triHiggs-4pT40_4b-test.h5 ./Sample/SPANet/triHiggs-4pT40_4b-test-chi2_pairing.h5 chi2_triHiggs &\n",
      "python perform_jet_pairing.py ./Sample/SPANet/triHiggs-4pT40_4b-test.h5 ./Sample/SPANet/triHiggs-4pT40_4b-test-abs_pairing.h5 abs_triHiggs &\n"
     ]
    }
   ],
   "source": [
    "file_path = './Sample/SPANet/triHiggs-4pT40_4b-train.h5'\n",
    "output_path = './Sample/SPANet/triHiggs-4pT40_4b-train-chi2_pairing.h5'\n",
    "pairing_method='chi2_triHiggs'\n",
    "\n",
    "cmd = f'python perform_jet_pairing.py {file_path} {output_path} {pairing_method} &'\n",
    "print(cmd)\n",
    "\n",
    "file_path = './Sample/SPANet/triHiggs-4pT40_4b-train.h5'\n",
    "output_path = './Sample/SPANet/triHiggs-4pT40_4b-train-abs_pairing.h5'\n",
    "pairing_method='abs_triHiggs'\n",
    "\n",
    "cmd = f'python perform_jet_pairing.py {file_path} {output_path} {pairing_method} &'\n",
    "print(cmd)\n",
    "\n",
    "file_path = './Sample/SPANet/triHiggs-4pT40_4b-test.h5'\n",
    "output_path = './Sample/SPANet/triHiggs-4pT40_4b-test-chi2_pairing.h5'\n",
    "pairing_method='chi2_triHiggs'\n",
    "\n",
    "cmd = f'python perform_jet_pairing.py {file_path} {output_path} {pairing_method} &'\n",
    "print(cmd)\n",
    "\n",
    "file_path = './Sample/SPANet/triHiggs-4pT40_4b-test.h5'\n",
    "output_path = './Sample/SPANet/triHiggs-4pT40_4b-test-abs_pairing.h5'\n",
    "pairing_method='abs_triHiggs'\n",
    "\n",
    "cmd = f'python perform_jet_pairing.py {file_path} {output_path} {pairing_method} &'\n",
    "print(cmd)"
   ]
  },
  {
   "cell_type": "code",
   "execution_count": 1,
   "metadata": {},
   "outputs": [
    {
     "name": "stdout",
     "output_type": "stream",
     "text": [
      "python perform_jet_pairing.py ./Sample/SPANet/triHiggs-4pT40_6b.h5 ./Sample/SPANet/triHiggs-4pT40_6b-chi2_pairing.h5 chi2_triHiggs &\n",
      "python perform_jet_pairing.py ./Sample/SPANet/triHiggs-4pT40_6b.h5 ./Sample/SPANet/triHiggs-4pT40_6b-abs_pairing.h5 abs_triHiggs &\n"
     ]
    }
   ],
   "source": [
    "file_path = './Sample/SPANet/triHiggs-4pT40_6b.h5'\n",
    "output_path = './Sample/SPANet/triHiggs-4pT40_6b-chi2_pairing.h5'\n",
    "pairing_method='chi2_triHiggs'\n",
    "\n",
    "cmd = f'python perform_jet_pairing.py {file_path} {output_path} {pairing_method} &'\n",
    "print(cmd)\n",
    "\n",
    "file_path = './Sample/SPANet/triHiggs-4pT40_6b.h5'\n",
    "output_path = './Sample/SPANet/triHiggs-4pT40_6b-abs_pairing.h5'\n",
    "pairing_method='abs_triHiggs'\n",
    "\n",
    "cmd = f'python perform_jet_pairing.py {file_path} {output_path} {pairing_method} &'\n",
    "print(cmd)"
   ]
  }
 ],
 "metadata": {
  "kernelspec": {
   "display_name": "jupyter",
   "language": "python",
   "name": "python3"
  },
  "language_info": {
   "codemirror_mode": {
    "name": "ipython",
    "version": 3
   },
   "file_extension": ".py",
   "mimetype": "text/x-python",
   "name": "python",
   "nbconvert_exporter": "python",
   "pygments_lexer": "ipython3",
   "version": "3.8.16"
  }
 },
 "nbformat": 4,
 "nbformat_minor": 2
}
