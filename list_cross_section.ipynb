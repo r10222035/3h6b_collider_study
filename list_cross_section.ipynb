{
 "cells": [
  {
   "cell_type": "code",
   "execution_count": 2,
   "id": "f1285d5f",
   "metadata": {},
   "outputs": [],
   "source": [
    "import re"
   ]
  },
  {
   "cell_type": "code",
   "execution_count": 3,
   "id": "4921aeca",
   "metadata": {},
   "outputs": [],
   "source": [
    "def get_cross_section_from_MG5(banner_path):\n",
    "    # retuns the cross section in fb\n",
    "    with open(banner_path, 'r') as f:\n",
    "        lines = f.readlines()\n",
    "        #  Integrated weight (pb)  :       0.080199\n",
    "    for line in lines:\n",
    "        match = re.match(r'#  Integrated weight \\(pb\\)  :\\s+(\\d+\\.\\d+)', line)\n",
    "        if match:\n",
    "            integrated_weight = float(match.group(1)) * 1000\n",
    "            return integrated_weight"
   ]
  },
  {
   "cell_type": "code",
   "execution_count": 5,
   "id": "b0802a13",
   "metadata": {},
   "outputs": [],
   "source": [
    "m3_m2_list = [(420, 280), (500, 275), (500, 300), (520, 325), (500, 350)]"
   ]
  },
  {
   "cell_type": "code",
   "execution_count": 11,
   "id": "aff42591",
   "metadata": {},
   "outputs": [
    {
     "name": "stdout",
     "output_type": "stream",
     "text": [
      "m3 = 420, m2 = 280, cross section = 80.20 fb\n",
      "m3 = 500, m2 = 275, cross section = 63.98 fb\n",
      "m3 = 500, m2 = 300, cross section = 60.79 fb\n",
      "m3 = 520, m2 = 325, cross section = 50.43 fb\n",
      "m3 = 500, m2 = 350, cross section = 46.15 fb\n"
     ]
    }
   ],
   "source": [
    "for m3, m2 in m3_m2_list:\n",
    "    cross_section_s = get_cross_section_from_MG5(f'Sample/MG5/TRSM_{m3}_{m2}/Events/run_01/run_01_tag_1_banner.txt')\n",
    "    print(f'm3 = {m3}, m2 = {m2}, cross section = {cross_section_s:.2f} fb')"
   ]
  },
  {
   "cell_type": "code",
   "execution_count": 12,
   "id": "5e3ce426",
   "metadata": {},
   "outputs": [
    {
     "name": "stdout",
     "output_type": "stream",
     "text": [
      "m3 = 420, m2 = 280, cross section = 94.92 fb\n",
      "m3 = 500, m2 = 275, cross section = 76.17 fb\n",
      "m3 = 500, m2 = 300, cross section = 72.40 fb\n",
      "m3 = 520, m2 = 325, cross section = 60.19 fb\n",
      "m3 = 500, m2 = 350, cross section = 54.99 fb\n"
     ]
    }
   ],
   "source": [
    "for m3, m2 in m3_m2_list:\n",
    "    cross_section_s = get_cross_section_from_MG5(f'Sample/MG5/14_TeV/TRSM_{m3}_{m2}/Events/run_01/run_01_tag_1_banner.txt')\n",
    "    print(f'm3 = {m3}, m2 = {m2}, cross section = {cross_section_s:.2f} fb')"
   ]
  }
 ],
 "metadata": {
  "kernelspec": {
   "display_name": "jupyter",
   "language": "python",
   "name": "python3"
  },
  "language_info": {
   "codemirror_mode": {
    "name": "ipython",
    "version": 3
   },
   "file_extension": ".py",
   "mimetype": "text/x-python",
   "name": "python",
   "nbconvert_exporter": "python",
   "pygments_lexer": "ipython3",
   "version": "3.8.16"
  }
 },
 "nbformat": 4,
 "nbformat_minor": 5
}
