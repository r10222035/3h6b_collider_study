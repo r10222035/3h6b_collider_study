{
 "cells": [
  {
   "cell_type": "code",
   "execution_count": 1,
   "id": "f1285d5f",
   "metadata": {},
   "outputs": [],
   "source": [
    "import re"
   ]
  },
  {
   "cell_type": "code",
   "execution_count": 2,
   "id": "4921aeca",
   "metadata": {},
   "outputs": [],
   "source": [
    "def get_cross_section_from_MG5(banner_path):\n",
    "    # retuns the cross section in fb\n",
    "    with open(banner_path, 'r') as f:\n",
    "        lines = f.readlines()\n",
    "        #  Integrated weight (pb)  :       0.080199\n",
    "    for line in lines:\n",
    "        match = re.match(r'#  Integrated weight \\(pb\\)  :\\s+(\\d+\\.\\d+)', line)\n",
    "        if match:\n",
    "            integrated_weight = float(match.group(1)) * 1000\n",
    "            return integrated_weight\n",
    "\n",
    "def get_BR_from_MG5(banner_path):\n",
    "    # returns the branching ratio of eta0 -> h h\n",
    "    with open(banner_path, 'r') as f:\n",
    "        lines = f.readlines()\n",
    "        # 7.017425e-01   2    25  25 # 0.152229982965\n",
    "    for line in lines:\n",
    "        # match the BR\n",
    "        match = re.match(r'\\s*([\\d\\.eE\\+\\-]+)\\s+2\\s+25\\s+25\\s+#', line)\n",
    "        if match:\n",
    "            BR = float(match.group(1))\n",
    "            return BR"
   ]
  },
  {
   "cell_type": "code",
   "execution_count": 44,
   "id": "b0802a13",
   "metadata": {},
   "outputs": [],
   "source": [
    "m3_m2_list = [(420, 280), (500, 275), (500, 300), (520, 325), (500, 350)]"
   ]
  },
  {
   "cell_type": "markdown",
   "id": "a0efa6e3",
   "metadata": {},
   "source": [
    "# TRSM"
   ]
  },
  {
   "cell_type": "code",
   "execution_count": 45,
   "id": "aff42591",
   "metadata": {},
   "outputs": [
    {
     "name": "stdout",
     "output_type": "stream",
     "text": [
      "m3 = 420, m2 = 280, cross section = 80.20 fb\n",
      "m3 = 500, m2 = 275, cross section = 63.98 fb\n",
      "m3 = 500, m2 = 300, cross section = 60.79 fb\n",
      "m3 = 520, m2 = 325, cross section = 50.43 fb\n",
      "m3 = 500, m2 = 350, cross section = 46.15 fb\n"
     ]
    }
   ],
   "source": [
    "for m3, m2 in m3_m2_list:\n",
    "    cross_section_s = get_cross_section_from_MG5(f'Sample/MG5/TRSM_{m3}_{m2}/Events/run_01/run_01_tag_1_banner.txt')\n",
    "    print(f'm3 = {m3}, m2 = {m2}, cross section = {cross_section_s:.2f} fb')"
   ]
  },
  {
   "cell_type": "code",
   "execution_count": 46,
   "id": "5e3ce426",
   "metadata": {},
   "outputs": [
    {
     "name": "stdout",
     "output_type": "stream",
     "text": [
      "m3 = 420, m2 = 280, cross section = 94.92 fb\n",
      "m3 = 500, m2 = 275, cross section = 76.17 fb\n",
      "m3 = 500, m2 = 300, cross section = 72.40 fb\n",
      "m3 = 520, m2 = 325, cross section = 60.19 fb\n",
      "m3 = 500, m2 = 350, cross section = 54.99 fb\n"
     ]
    }
   ],
   "source": [
    "for m3, m2 in m3_m2_list:\n",
    "    cross_section_s = get_cross_section_from_MG5(f'Sample/MG5/14_TeV/TRSM_{m3}_{m2}/Events/run_01/run_01_tag_1_banner.txt')\n",
    "    print(f'm3 = {m3}, m2 = {m2}, cross section = {cross_section_s:.2f} fb')"
   ]
  },
  {
   "cell_type": "markdown",
   "id": "99b5672c",
   "metadata": {},
   "source": [
    "## Comparison with TRSM paper"
   ]
  },
  {
   "cell_type": "code",
   "execution_count": 3,
   "id": "fb5aee86",
   "metadata": {},
   "outputs": [],
   "source": [
    "m3_m2_list = [(504, 255), (455, 263), (502, 287), \n",
    "              (454, 290), (503, 320), (504, 264),\n",
    "              (455, 280), (475, 300), (500, 310),\n",
    "              (500, 280),\n",
    "             ]"
   ]
  },
  {
   "cell_type": "code",
   "execution_count": 4,
   "id": "a4ae3291",
   "metadata": {},
   "outputs": [
    {
     "name": "stdout",
     "output_type": "stream",
     "text": [
      "m3 = 504, m2 = 255, cross section = 32.40 fb\n",
      "m3 = 455, m2 = 263, cross section = 50.36 fb\n",
      "m3 = 502, m2 = 287, cross section = 39.61 fb\n",
      "m3 = 454, m2 = 290, cross section = 49.00 fb\n",
      "m3 = 503, m2 = 320, cross section = 35.88 fb\n",
      "m3 = 504, m2 = 264, cross section = 37.67 fb\n",
      "m3 = 455, m2 = 280, cross section = 51.00 fb\n",
      "m3 = 475, m2 = 300, cross section = 43.92 fb\n",
      "m3 = 500, m2 = 310, cross section = 37.90 fb\n",
      "m3 = 500, m2 = 280, cross section = 40.26 fb\n"
     ]
    }
   ],
   "source": [
    "TRSM_cross_sections = {\n",
    "    (504, 255): 32.40,\n",
    "    (455, 263): 50.36, \n",
    "    (502, 287): 39.61, \n",
    "    (454, 290): 49.00, \n",
    "    (503, 320): 35.88, \n",
    "    (504, 264): 37.67, \n",
    "    (455, 280): 51.00, \n",
    "    (475, 300): 43.92, \n",
    "    (500, 310): 37.90, \n",
    "    (500, 280): 40.26,\n",
    "}\n",
    "for m3, m2 in m3_m2_list:\n",
    "\n",
    "    cross_section_s = TRSM_cross_sections[(m3, m2)]\n",
    "    print(f'm3 = {m3}, m2 = {m2}, cross section = {cross_section_s:.2f} fb')"
   ]
  },
  {
   "cell_type": "code",
   "execution_count": 5,
   "id": "f8afc9c2",
   "metadata": {},
   "outputs": [
    {
     "name": "stdout",
     "output_type": "stream",
     "text": [
      "(504, 255)    32.40     30.93    0.955   41.78   1.289\n",
      "(455, 263)    50.36     49.99    0.993   66.37   1.318\n",
      "(502, 287)    39.61     38.49    0.972   51.51   1.300\n",
      "(454, 290)    49.00     49.53    1.011   65.23   1.331\n",
      "(503, 320)    35.88     35.57    0.991   47.21   1.316\n",
      "(504, 264)    37.67     36.10    0.958   48.65   1.291\n",
      "(455, 280)    51.00     51.14    1.003   67.57   1.325\n",
      "(475, 300)    43.92     43.95    1.001   58.13   1.324\n",
      "(500, 310)    37.90     37.47    0.989   49.82   1.314\n",
      "(500, 280)    40.26     39.04    0.970   52.32   1.300\n"
     ]
    }
   ],
   "source": [
    "for m3, m2 in m3_m2_list:\n",
    "    cross_section_v273 = get_cross_section_from_MG5(f'Sample/MG5/14_TeV/TRSM_{m3}_{m2}_v273/Events/run_01/run_01_tag_1_banner.txt')\n",
    "    BR_h2_hh_v273 = get_BR_from_MG5(f'Sample/MG5/14_TeV/TRSM_{m3}_{m2}_v273/Events/run_01/run_01_tag_1_banner.txt')\n",
    "    cross_section_v273 *= BR_h2_hh_v273\n",
    "\n",
    "    cross_section_v331 = get_cross_section_from_MG5(f'Sample/MG5/14_TeV/TRSM_{m3}_{m2}_v331/Events/run_01/run_01_tag_1_banner.txt')\n",
    "    BR_h2_hh_v331 = get_BR_from_MG5(f'Sample/MG5/14_TeV/TRSM_{m3}_{m2}_v331/Events/run_01/run_01_tag_1_banner.txt')\n",
    "    cross_section_v331 *= BR_h2_hh_v331\n",
    "\n",
    "    cross_section_TRSM = TRSM_cross_sections[(m3, m2)]\n",
    "    k_v273 = cross_section_v273 / cross_section_TRSM\n",
    "    k_v331 = cross_section_v331 / cross_section_TRSM\n",
    "    print(f'({m3}, {m2})    {TRSM_cross_sections[(m3, m2)]:.2f}     {cross_section_v273:.2f}    {k_v273:.3f}   {cross_section_v331:.2f}   {k_v331:.3f}')"
   ]
  },
  {
   "cell_type": "code",
   "execution_count": 6,
   "id": "dac972cf",
   "metadata": {},
   "outputs": [
    {
     "name": "stdout",
     "output_type": "stream",
     "text": [
      "(504, 255)    32.40     30.93    0.955   30.53   0.942   1.013\n",
      "(455, 263)    50.36     49.99    0.993   49.73   0.988   1.005\n",
      "(502, 287)    39.61     38.49    0.972   38.11   0.962   1.010\n",
      "(454, 290)    49.00     49.53    1.011   49.54   1.011   1.000\n",
      "(503, 320)    35.88     35.57    0.991   35.44   0.988   1.004\n",
      "(504, 264)    37.67     36.10    0.958   35.68   0.947   1.012\n",
      "(455, 280)    51.00     51.14    1.003   51.08   1.002   1.001\n",
      "(475, 300)    43.92     43.95    1.001   43.93   1.000   1.001\n",
      "(500, 310)    37.90     37.47    0.989   37.26   0.983   1.006\n",
      "(500, 280)    40.26     39.04    0.970   38.67   0.960   1.010\n"
     ]
    }
   ],
   "source": [
    "for m3, m2 in m3_m2_list:\n",
    "    cross_section_v273 = get_cross_section_from_MG5(f'Sample/MG5/14_TeV/TRSM_{m3}_{m2}_v273/Events/run_01/run_01_tag_1_banner.txt')\n",
    "    BR_h2_hh_v273 = get_BR_from_MG5(f'Sample/MG5/14_TeV/TRSM_{m3}_{m2}_v273/Events/run_01/run_01_tag_1_banner.txt')\n",
    "    cross_section_v273 *= BR_h2_hh_v273\n",
    "\n",
    "    cross_section_v273_pp3h = get_cross_section_from_MG5(f'Sample/MG5/14_TeV/pp3h/TRSM_{m3}_{m2}_v273/Events/run_01/run_01_tag_1_banner.txt')\n",
    "    BR_h2_hh_v273_pp3h = get_BR_from_MG5(f'Sample/MG5/14_TeV/pp3h/TRSM_{m3}_{m2}_v273/Events/run_01/run_01_tag_1_banner.txt')\n",
    "    cross_section_v273_pp3h *= 1\n",
    "\n",
    "    cross_section_TRSM = TRSM_cross_sections[(m3, m2)]\n",
    "    k_v273 = cross_section_v273 / cross_section_TRSM\n",
    "    k_v273_pp3h = cross_section_v273_pp3h / cross_section_TRSM\n",
    "    k = cross_section_v273 / cross_section_v273_pp3h\n",
    "    print(f'({m3}, {m2})    {TRSM_cross_sections[(m3, m2)]:.2f}     {cross_section_v273:.2f}    {k_v273:.3f}   {cross_section_v273_pp3h:.2f}   {k_v273_pp3h:.3f}   {k:.3f}')"
   ]
  },
  {
   "cell_type": "markdown",
   "id": "77bae308",
   "metadata": {},
   "source": [
    "## Comparison with Notes"
   ]
  },
  {
   "cell_type": "code",
   "execution_count": 3,
   "id": "98dde548",
   "metadata": {},
   "outputs": [],
   "source": [
    "m3_m2_list = [(500, 275), (500, 300), (520, 325), (500, 350), (420, 280), \n",
    "            #   (450, 275), (450, 300), (540, 300), (480, 325),\n",
    "             ]"
   ]
  },
  {
   "cell_type": "code",
   "execution_count": 4,
   "id": "baa4505a",
   "metadata": {},
   "outputs": [
    {
     "name": "stdout",
     "output_type": "stream",
     "text": [
      "m3 = 500, m2 = 275, cross section = 52.94 fb\n",
      "m3 = 500, m2 = 300, cross section = 51.68 fb\n",
      "m3 = 520, m2 = 325, cross section = 43.78 fb\n",
      "m3 = 500, m2 = 350, cross section = 37.91 fb\n",
      "m3 = 420, m2 = 280, cross section = 58.90 fb\n"
     ]
    }
   ],
   "source": [
    "ATLAS_cross_sections = {\n",
    "    (420, 280): 58.90,\n",
    "    (500, 275): 52.94,\n",
    "    (500, 300): 51.68,\n",
    "    (520, 325): 43.78,\n",
    "    (500, 350): 37.91,\n",
    "    (450, 275): 65.89,\n",
    "    (450, 300): 56.60,\n",
    "    (540, 300): 42.00,\n",
    "    (480, 325): 47.78,\n",
    "}\n",
    "for m3, m2 in m3_m2_list:\n",
    "    cross_section_s = ATLAS_cross_sections[(m3, m2)]\n",
    "    print(f'm3 = {m3}, m2 = {m2}, cross section = {cross_section_s:.2f} fb')"
   ]
  },
  {
   "cell_type": "code",
   "execution_count": 5,
   "id": "d00d7c45",
   "metadata": {},
   "outputs": [
    {
     "name": "stdout",
     "output_type": "stream",
     "text": [
      "(500, 275)    52.94      37.34   0.705        37.34    0.705 \n",
      "(500, 300)    51.68      36.66   0.709        36.66    0.709 \n",
      "(520, 325)    43.78      30.44   0.695        30.44    0.695 \n",
      "(500, 350)    37.91      27.53   0.726        27.53    0.726 \n",
      "(420, 280)    58.90      47.26   0.802        47.26    0.802 \n"
     ]
    }
   ],
   "source": [
    "# lhaid 280000\n",
    "for m3, m2 in m3_m2_list:\n",
    "\n",
    "    cross_section_v295 = get_cross_section_from_MG5(f'Sample/MG5/13_TeV/TRSM_{m3}_{m2}_v295/Events/run_01/run_01_tag_1_banner.txt')\n",
    "    BR_h2_hh_v295 = get_BR_from_MG5(f'Sample/MG5/13_TeV/TRSM_{m3}_{m2}_v295/Events/run_01/run_01_tag_1_banner.txt')\n",
    "    cross_section_v295 *= BR_h2_hh_v295\n",
    "\n",
    "    cross_section_v331 = get_cross_section_from_MG5(f'Sample/MG5/13_TeV/TRSM_{m3}_{m2}_v331/Events/run_01/run_01_tag_1_banner.txt')\n",
    "    BR_h2_hh_v331 = get_BR_from_MG5(f'Sample/MG5/13_TeV/TRSM_{m3}_{m2}_v331/Events/run_01/run_01_tag_1_banner.txt')\n",
    "    cross_section_v331 *= BR_h2_hh_v331\n",
    "\n",
    "    cross_section_TRSM = ATLAS_cross_sections[(m3, m2)]\n",
    "    k_v295 = cross_section_v295 / cross_section_TRSM\n",
    "    k_v331 = cross_section_v331 / cross_section_TRSM\n",
    "    k = cross_section_v331 / cross_section_v295\n",
    "    print(f'({m3}, {m2})    {ATLAS_cross_sections[(m3, m2)]:.2f}      {cross_section_v295:.2f}   {k_v295:.3f}        {cross_section_v331:.2f}    {k_v331:.3f} ' )\n"
   ]
  },
  {
   "cell_type": "code",
   "execution_count": 6,
   "id": "5d89918e",
   "metadata": {},
   "outputs": [
    {
     "name": "stdout",
     "output_type": "stream",
     "text": [
      "(500, 275)    52.94      37.34   0.705        36.94    0.698      1.011\n",
      "(500, 300)    51.68      36.66   0.709        36.60    0.708      1.002\n",
      "(520, 325)    43.78      30.44   0.695        30.53    0.697      0.997\n",
      "(500, 350)    37.91      27.53   0.726        28.25    0.745      0.975\n",
      "(420, 280)    58.90      47.26   0.802        48.11    0.817      0.982\n"
     ]
    }
   ],
   "source": [
    "# lhaid 280000\n",
    "for m3, m2 in m3_m2_list:\n",
    "\n",
    "    cross_section_v295_pp3h = get_cross_section_from_MG5(f'Sample/MG5/13_TeV/pp3h/TRSM_{m3}_{m2}_v295/Events/run_01/run_01_tag_1_banner.txt')\n",
    "    BR_h2_hh_v295 = get_BR_from_MG5(f'Sample/MG5/13_TeV/pp3h/TRSM_{m3}_{m2}_v295/Events/run_01/run_01_tag_1_banner.txt')\n",
    "    cross_section_v295_pp3h *= 1\n",
    "\n",
    "    cross_section_v295 = get_cross_section_from_MG5(f'Sample/MG5/13_TeV/TRSM_{m3}_{m2}_v295/Events/run_01/run_01_tag_1_banner.txt')\n",
    "    BR_h2_hh_v295 = get_BR_from_MG5(f'Sample/MG5/13_TeV/TRSM_{m3}_{m2}_v295/Events/run_01/run_01_tag_1_banner.txt')\n",
    "    cross_section_v295 *= BR_h2_hh_v295\n",
    "\n",
    "    cross_section_TRSM = ATLAS_cross_sections[(m3, m2)]\n",
    "    k_v295_pp3h = cross_section_v295_pp3h / cross_section_TRSM\n",
    "    k_v295 = cross_section_v295 / cross_section_TRSM\n",
    "    k = cross_section_v295 / cross_section_v295_pp3h\n",
    "    print(f'({m3}, {m2})    {ATLAS_cross_sections[(m3, m2)]:.2f}      {cross_section_v295:.2f}   {k_v295:.3f}        {cross_section_v295_pp3h:.2f}    {k_v295_pp3h:.3f}      {k:.3f}' )\n"
   ]
  },
  {
   "cell_type": "markdown",
   "id": "97f8c462",
   "metadata": {},
   "source": [
    "# DMCPV"
   ]
  },
  {
   "cell_type": "code",
   "execution_count": 53,
   "id": "c4fae628",
   "metadata": {},
   "outputs": [],
   "source": [
    "m3_m2_list = [(420, 280), (500, 275), (500, 300), (520, 325), (500, 350)]"
   ]
  },
  {
   "cell_type": "code",
   "execution_count": 54,
   "id": "d000a0f1",
   "metadata": {},
   "outputs": [
    {
     "name": "stdout",
     "output_type": "stream",
     "text": [
      "m3 = 420, m2 = 280, cross section = 9.32 fb\n",
      "m3 = 500, m2 = 275, cross section = 4.52 fb\n",
      "m3 = 500, m2 = 300, cross section = 4.38 fb\n",
      "m3 = 520, m2 = 325, cross section = 3.16 fb\n",
      "m3 = 500, m2 = 350, cross section = 3.26 fb\n"
     ]
    }
   ],
   "source": [
    "for m3, m2 in m3_m2_list:\n",
    "    cross_section_s = get_cross_section_from_MG5(f'Sample/MG5/13_TeV/DMCPV_{m3}_{m2}/Events/run_01/run_01_tag_1_banner.txt')\n",
    "    print(f'm3 = {m3}, m2 = {m2}, cross section = {cross_section_s:.2f} fb')"
   ]
  },
  {
   "cell_type": "code",
   "execution_count": 55,
   "id": "34b4f6eb",
   "metadata": {},
   "outputs": [
    {
     "name": "stdout",
     "output_type": "stream",
     "text": [
      "m3 = 420, m2 = 280, cross section = 11.10 fb\n",
      "m3 = 500, m2 = 275, cross section = 5.55 fb\n",
      "m3 = 500, m2 = 300, cross section = 5.20 fb\n",
      "m3 = 520, m2 = 325, cross section = 3.77 fb\n",
      "m3 = 500, m2 = 350, cross section = 3.89 fb\n"
     ]
    }
   ],
   "source": [
    "for m3, m2 in m3_m2_list:\n",
    "    cross_section_s = get_cross_section_from_MG5(f'Sample/MG5/14_TeV/DMCPV_{m3}_{m2}/Events/run_01/run_01_tag_1_banner.txt')\n",
    "    print(f'm3 = {m3}, m2 = {m2}, cross section = {cross_section_s:.2f} fb')"
   ]
  }
 ],
 "metadata": {
  "kernelspec": {
   "display_name": "jupyter",
   "language": "python",
   "name": "python3"
  },
  "language_info": {
   "codemirror_mode": {
    "name": "ipython",
    "version": 3
   },
   "file_extension": ".py",
   "mimetype": "text/x-python",
   "name": "python",
   "nbconvert_exporter": "python",
   "pygments_lexer": "ipython3",
   "version": "3.8.16"
  }
 },
 "nbformat": 4,
 "nbformat_minor": 5
}
