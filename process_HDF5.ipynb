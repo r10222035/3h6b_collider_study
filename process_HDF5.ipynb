{
 "cells": [
  {
   "cell_type": "code",
   "execution_count": 1,
   "metadata": {},
   "outputs": [],
   "source": [
    "import os\n",
    "import h5py\n",
    "import shutil\n",
    "\n",
    "import numpy as np\n",
    "\n",
    "from pathlib import Path\n",
    "\n",
    "import utils_HDF5 as utils"
   ]
  },
  {
   "cell_type": "markdown",
   "metadata": {},
   "source": [
    "# TriHiggs"
   ]
  },
  {
   "cell_type": "code",
   "execution_count": 2,
   "metadata": {},
   "outputs": [],
   "source": [
    "def print_triHiggs_h5_info(file_path):\n",
    "    # 印出 triHiggs HDF5 資料中，各 Higgs 數目的事件數\n",
    "    print(file_path)\n",
    "    with h5py.File(file_path, 'r') as f:\n",
    "\n",
    "        h1b1 = f['TARGETS/h1/b1'][...]\n",
    "        h1b2 = f['TARGETS/h1/b2'][...]\n",
    "        h2b1 = f['TARGETS/h2/b1'][...]\n",
    "        h2b2 = f['TARGETS/h2/b2'][...]\n",
    "        h3b1 = f['TARGETS/h3/b1'][...]\n",
    "        h3b2 = f['TARGETS/h3/b2'][...]\n",
    "\n",
    "        quark_jet = np.array([h1b1, h1b2, h2b1, h2b2, h3b1, h3b2]).T\n",
    "\n",
    "        h1_mask = utils.get_particle_mask(quark_jet, (0, 1))\n",
    "        h2_mask = utils.get_particle_mask(quark_jet, (2, 3))\n",
    "        h3_mask = utils.get_particle_mask(quark_jet, (4, 5))\n",
    "        \n",
    "        n_tot = h1_mask.shape[0]\n",
    "        n_0h = ((~h1_mask) & (~h2_mask) & (~h3_mask)).sum()\n",
    "        # 任一個 Higgs 有對應的 jet\n",
    "        n_1h = ((h1_mask & (~h2_mask) & (~h3_mask)) | \n",
    "                ((~h1_mask) & h2_mask & (~h3_mask)) | \n",
    "                ((~h1_mask) & (~h2_mask) & h3_mask)).sum()\n",
    "        \n",
    "        # 任兩個 Higgs 有對應的 jet\n",
    "        n_2h = ((h1_mask & h2_mask & (~h3_mask)) | \n",
    "                ((~h1_mask) & h2_mask & h3_mask) | \n",
    "                (h1_mask & (~h2_mask) & h3_mask)).sum()\n",
    "        n_3h = (h1_mask & h2_mask & h3_mask).sum()\n",
    "\n",
    "    print(f'Dataset size: {n_tot}')\n",
    "    print(f'Number of 0 Higgs events: {n_0h}')\n",
    "    print(f'Number of 1 Higgs events: {n_1h}')\n",
    "    print(f'Number of 2 Higgs events: {n_2h}')\n",
    "    print(f'Number of 3 Higgs events: {n_3h}')\n",
    "    \n",
    "    print(f'\\\\item Total sample size: {n_tot:,}')\n",
    "    print(f'\\\\item 1h sample size: {n_1h:,}')\n",
    "    print(f'\\\\item 2h sample size: {n_2h:,}')\n",
    "    print(f'\\\\item 3h sample size: {n_3h:,}')\n",
    "    \n",
    "    result = {\n",
    "        'total': n_tot,\n",
    "        '0h': n_0h,\n",
    "        '1h': n_1h,\n",
    "        '2h': n_2h,\n",
    "        '3h': n_3h\n",
    "    }\n",
    "    return result\n",
    "\n",
    "def print_h5_sb_info(file):\n",
    "    # 印出訊號與背景的事件數\n",
    "    with h5py.File(file,'r') as f:\n",
    "        n_tot = f['CLASSIFICATIONS/EVENT/signal'][...].shape[0]\n",
    "        ns = (f['CLASSIFICATIONS/EVENT/signal'][...] == 1).sum()\n",
    "        nb = (f['CLASSIFICATIONS/EVENT/signal'][...] == 0).sum()\n",
    "\n",
    "    print(f'\\\\item Total sample size: {n_tot:,}')\n",
    "    print(f'\\\\item Signal sample size: {ns:,}')\n",
    "    print(f'\\\\item Background sample size: {nb:,}')\n",
    "    \n",
    "\n",
    "def select_3h_event(file, output_file):\n",
    "    # 選取 triHiggs HDF5 資料中，有 3 個 Higgs 的事件\n",
    "    # root, ext = os.path.splitext(file)\n",
    "    # new_file = root + '_3h' + ext\n",
    "\n",
    "    with h5py.File(file, 'r') as f:\n",
    "        h1b1 = f['TARGETS/h1/b1'][...]\n",
    "        h1b2 = f['TARGETS/h1/b2'][...]\n",
    "        h2b1 = f['TARGETS/h2/b1'][...]\n",
    "        h2b2 = f['TARGETS/h2/b2'][...]\n",
    "        h3b1 = f['TARGETS/h3/b1'][...]\n",
    "        h3b2 = f['TARGETS/h3/b2'][...]\n",
    "\n",
    "        quark_jet = np.array([h1b1, h1b2, h2b1, h2b2, h3b1, h3b2]).T\n",
    "\n",
    "        h1_mask = utils.get_particle_mask(quark_jet, (0, 1))\n",
    "        h2_mask = utils.get_particle_mask(quark_jet, (2, 3))\n",
    "        h3_mask = utils.get_particle_mask(quark_jet, (4, 5))\n",
    "        \n",
    "        mask = h1_mask & h2_mask & h3_mask\n",
    "        n_3h = mask.sum()\n",
    "\n",
    "        print(f'Number of 3 Higgs events: {n_3h}')\n",
    "\n",
    "        # copy 3h events to new file\n",
    "        shutil.copyfile(file, output_file)\n",
    "        with h5py.File(output_file, 'a') as f_new:\n",
    "            for key in utils.get_dataset_keys(f):\n",
    "                f_new[key].resize(n_3h, axis=0)\n",
    "                f_new[key][:] = f[key][:][mask]\n",
    "\n",
    "    return output_file\n",
    "\n",
    "def select_nb_event(file, output_file, nb=6):\n",
    "    # 選取 triHiggs HDF5 資料中，有 nb 個 b-jets 的事件\n",
    "    # root, ext = os.path.splitext(file)\n",
    "\n",
    "    with h5py.File(file, 'r') as f:\n",
    "        bTag = f['INPUTS/Source/btag'][...]\n",
    "        n_b_jet = np.sum(bTag, axis=1)\n",
    "\n",
    "        mask = n_b_jet >= nb\n",
    "        n_6b = mask.sum()\n",
    "\n",
    "        print(f'Number of {nb} b events: {n_6b}')\n",
    "\n",
    "        # copy 3h events to new file\n",
    "        shutil.copyfile(file, output_file)\n",
    "        with h5py.File(output_file, 'a') as f_new:\n",
    "            for key in utils.get_dataset_keys(f):\n",
    "                f_new[key].resize(n_6b, axis=0)\n",
    "                f_new[key][:] = f[key][:][mask]\n",
    "\n",
    "    return output_file"
   ]
  },
  {
   "cell_type": "markdown",
   "metadata": {},
   "source": [
    "# Example"
   ]
  },
  {
   "cell_type": "code",
   "execution_count": 6,
   "metadata": {
    "metadata": {}
   },
   "outputs": [
    {
     "name": "stdout",
     "output_type": "stream",
     "text": [
      "./Sample/SPANet/gghhh_4b_PT40_test-chi2_pairing.h5\n",
      "Dataset size: 100000\n",
      "CLASSIFICATIONS/EVENT/signal 1\n",
      "INPUTS/Source/MASK [ True  True  True  True  True  True  True False False False False False\n",
      " False False False]\n",
      "INPUTS/Source/btag [False  True False  True  True  True  True False False False False False\n",
      " False False False]\n",
      "INPUTS/Source/eta [-1.7665203  -1.6837091  -2.2155464  -1.8894336  -1.5082266  -2.0863128\n",
      "  0.42711097  0.          0.          0.          0.          0.\n",
      "  0.          0.          0.        ]\n",
      "INPUTS/Source/mass [13.935255  20.908175  10.868314   7.240814   5.5055876  5.445733\n",
      "  6.033167   0.         0.         0.         0.         0.\n",
      "  0.         0.         0.       ]\n",
      "INPUTS/Source/phi [-0.38953632 -2.6495998   0.8172901  -3.0919943   2.8169796   0.20008782\n",
      " -3.092532    0.          0.          0.          0.          0.\n",
      "  0.          0.          0.        ]\n",
      "INPUTS/Source/pt [151.24182  125.23633   53.704266  45.350212  44.67909   43.811172\n",
      "  27.066412   0.         0.         0.         0.         0.\n",
      "   0.         0.         0.      ]\n",
      "TARGETS/h1/b1 4\n",
      "TARGETS/h1/b2 0\n",
      "TARGETS/h2/b1 1\n",
      "TARGETS/h2/b2 5\n",
      "TARGETS/h3/b1 3\n",
      "TARGETS/h3/b2 6\n"
     ]
    }
   ],
   "source": [
    "file_path = './Sample/SPANet/gghhh_4b_PT40_test-chi2_pairing.h5'\n",
    "utils.print_h5_info(file_path, 600)"
   ]
  },
  {
   "cell_type": "code",
   "execution_count": 7,
   "metadata": {},
   "outputs": [
    {
     "name": "stdout",
     "output_type": "stream",
     "text": [
      "./Sample/SPANet/pp6b_4b-chi2_pairing.h5\n",
      "Dataset size: 790372\n",
      "CLASSIFICATIONS/EVENT/signal 0\n",
      "INPUTS/Source/MASK [ True  True  True  True  True  True False False False False False False\n",
      " False False False]\n",
      "INPUTS/Source/btag [ True False  True  True  True  True False False False False False False\n",
      " False False False]\n",
      "INPUTS/Source/eta [-0.26721513  2.1262574   1.4021034   0.74789894  0.98507136 -0.9648843\n",
      "  0.          0.          0.          0.          0.          0.\n",
      "  0.          0.          0.        ]\n",
      "INPUTS/Source/mass [21.368443  16.701664   9.614164   8.568227   7.7939844  6.4743977\n",
      "  0.         0.         0.         0.         0.         0.\n",
      "  0.         0.         0.       ]\n",
      "INPUTS/Source/phi [-0.07474402  1.8793612  -2.0537896   1.8073521   2.9197757   2.2181008\n",
      "  0.          0.          0.          0.          0.          0.\n",
      "  0.          0.          0.        ]\n",
      "INPUTS/Source/pt [115.262054  68.29485   42.868797  36.175068  27.822865  25.04221\n",
      "   0.         0.         0.         0.         0.         0.\n",
      "   0.         0.         0.      ]\n",
      "TARGETS/h1/b1 3\n",
      "TARGETS/h1/b2 1\n",
      "TARGETS/h2/b1 0\n",
      "TARGETS/h2/b2 4\n",
      "TARGETS/h3/b1 2\n",
      "TARGETS/h3/b2 5\n"
     ]
    }
   ],
   "source": [
    "file_path = './Sample/SPANet/pp6b_4b-chi2_pairing.h5'\n",
    "utils.print_h5_info(file_path, 600)"
   ]
  },
  {
   "cell_type": "code",
   "execution_count": 4,
   "metadata": {},
   "outputs": [
    {
     "name": "stdout",
     "output_type": "stream",
     "text": [
      "./Sample/SPANet/pp6b_0b.h5\n",
      "Dataset size: 1000000\n",
      "CLASSIFICATIONS/EVENT/signal 0\n",
      "INPUTS/Source/MASK [ True  True  True  True  True  True  True False False False False False\n",
      " False False False]\n",
      "INPUTS/Source/btag [ True  True  True  True  True False  True False False False False False\n",
      " False False False]\n",
      "INPUTS/Source/eta [ 2.0852013  -0.12259393 -0.97791094  1.5488727  -1.2496984   1.7120894\n",
      " -1.1295338   0.          0.          0.          0.          0.\n",
      "  0.          0.          0.        ]\n",
      "INPUTS/Source/mass [21.311949  31.538649   9.084752   6.073683  11.769427   9.110075\n",
      "  6.4713535  0.         0.         0.         0.         0.\n",
      "  0.         0.         0.       ]\n",
      "INPUTS/Source/phi [-0.6082822  -2.9872162   1.1448561   1.6370041  -2.5668838  -0.15825841\n",
      " -1.85583     0.          0.          0.          0.          0.\n",
      "  0.          0.          0.        ]\n",
      "INPUTS/Source/pt [106.98244  103.65977   66.599106  60.311066  50.98297   37.67056\n",
      "  26.527233   0.         0.         0.         0.         0.\n",
      "   0.         0.         0.      ]\n",
      "TARGETS/h1/b1 -1\n",
      "TARGETS/h1/b2 -1\n",
      "TARGETS/h2/b1 -1\n",
      "TARGETS/h2/b2 -1\n",
      "TARGETS/h3/b1 -1\n",
      "TARGETS/h3/b2 -1\n"
     ]
    }
   ],
   "source": [
    "file_path = './Sample/SPANet/pp6b_0b.h5'\n",
    "utils.print_h5_info(file_path, 600)"
   ]
  },
  {
   "cell_type": "code",
   "execution_count": 8,
   "metadata": {},
   "outputs": [
    {
     "name": "stdout",
     "output_type": "stream",
     "text": [
      "\\item Total sample size: 1,800,000\n",
      "\\item Signal sample size: 900,000\n",
      "\\item Background sample size: 900,000\n",
      "\\item Total sample size: 200,000\n",
      "\\item Signal sample size: 100,000\n",
      "\\item Background sample size: 100,000\n"
     ]
    }
   ],
   "source": [
    "print_h5_sb_info('./Sample/SPANet/triHiggs_0b_train.h5')\n",
    "print_h5_sb_info('./Sample/SPANet/triHiggs_0b_test.h5')"
   ]
  },
  {
   "cell_type": "code",
   "execution_count": 5,
   "metadata": {},
   "outputs": [
    {
     "name": "stdout",
     "output_type": "stream",
     "text": [
      "./Sample/SPANet/triHiggs_0b_train.h5\n",
      "Dataset size: 1800000\n",
      "Number of 0 Higgs events: 1041627\n",
      "Number of 1 Higgs events: 318053\n",
      "Number of 2 Higgs events: 277876\n",
      "Number of 3 Higgs events: 162444\n",
      "\\item Total sample size: 1,800,000\n",
      "\\item 1h sample size: 318,053\n",
      "\\item 2h sample size: 277,876\n",
      "\\item 3h sample size: 162,444\n",
      "./Sample/SPANet/triHiggs_0b_test.h5\n",
      "Dataset size: 200000\n",
      "Number of 0 Higgs events: 115771\n",
      "Number of 1 Higgs events: 35372\n",
      "Number of 2 Higgs events: 30853\n",
      "Number of 3 Higgs events: 18004\n",
      "\\item Total sample size: 200,000\n",
      "\\item 1h sample size: 35,372\n",
      "\\item 2h sample size: 30,853\n",
      "\\item 3h sample size: 18,004\n"
     ]
    },
    {
     "data": {
      "text/plain": [
       "{'total': 200000, '0h': 115771, '1h': 35372, '2h': 30853, '3h': 18004}"
      ]
     },
     "execution_count": 5,
     "metadata": {},
     "output_type": "execute_result"
    }
   ],
   "source": [
    "print_triHiggs_h5_info('./Sample/SPANet/triHiggs_0b_train.h5')\n",
    "print_triHiggs_h5_info('./Sample/SPANet/triHiggs_0b_test.h5')"
   ]
  },
  {
   "cell_type": "code",
   "execution_count": 8,
   "metadata": {},
   "outputs": [
    {
     "name": "stdout",
     "output_type": "stream",
     "text": [
      "../SPANet2/data/triHiggs/gghhh_6b_PT40_train.h5\n",
      "Dataset size: 360000\n",
      "Number of 0 Higgs events: 4607\n",
      "Number of 1 Higgs events: 38595\n",
      "Number of 2 Higgs events: 73036\n",
      "Number of 3 Higgs events: 243762\n",
      "\\item Total sample size: 360,000\n",
      "\\item 1h sample size: 38,595\n",
      "\\item 2h sample size: 73,036\n",
      "\\item 3h sample size: 243,762\n",
      "../SPANet2/data/triHiggs/gghhh_6b_PT40_test.h5\n",
      "Dataset size: 40000\n",
      "Number of 0 Higgs events: 483\n",
      "Number of 1 Higgs events: 4360\n",
      "Number of 2 Higgs events: 8070\n",
      "Number of 3 Higgs events: 27087\n",
      "\\item Total sample size: 40,000\n",
      "\\item 1h sample size: 4,360\n",
      "\\item 2h sample size: 8,070\n",
      "\\item 3h sample size: 27,087\n"
     ]
    },
    {
     "data": {
      "text/plain": [
       "{'total': 40000, '0h': 483, '1h': 4360, '2h': 8070, '3h': 27087}"
      ]
     },
     "execution_count": 8,
     "metadata": {},
     "output_type": "execute_result"
    }
   ],
   "source": [
    "print_triHiggs_h5_info('../SPANet2/data/triHiggs/gghhh_6b_PT40_train.h5')\n",
    "print_triHiggs_h5_info('../SPANet2/data/triHiggs/gghhh_6b_PT40_test.h5')"
   ]
  },
  {
   "cell_type": "code",
   "execution_count": 3,
   "metadata": {},
   "outputs": [
    {
     "name": "stdout",
     "output_type": "stream",
     "text": [
      "../SPANet2/data/triHiggs/gghhh_4b_PT40_train.h5\n",
      "Dataset size: 900000\n",
      "Number of 0 Higgs events: 54693\n",
      "Number of 1 Higgs events: 246462\n",
      "Number of 2 Higgs events: 318057\n",
      "Number of 3 Higgs events: 280788\n",
      "\\item Total sample size: 900,000\n",
      "\\item 1h sample size: 246,462\n",
      "\\item 2h sample size: 318,057\n",
      "\\item 3h sample size: 280,788\n",
      "../SPANet2/data/triHiggs/gghhh_4b_PT40_test.h5\n",
      "Dataset size: 100000\n",
      "Number of 0 Higgs events: 6208\n",
      "Number of 1 Higgs events: 27243\n",
      "Number of 2 Higgs events: 35050\n",
      "Number of 3 Higgs events: 31499\n",
      "\\item Total sample size: 100,000\n",
      "\\item 1h sample size: 27,243\n",
      "\\item 2h sample size: 35,050\n",
      "\\item 3h sample size: 31,499\n"
     ]
    },
    {
     "data": {
      "text/plain": [
       "{'total': 100000, '0h': 6208, '1h': 27243, '2h': 35050, '3h': 31499}"
      ]
     },
     "execution_count": 3,
     "metadata": {},
     "output_type": "execute_result"
    }
   ],
   "source": [
    "print_triHiggs_h5_info('../SPANet2/data/triHiggs/gghhh_4b_PT40_train.h5')\n",
    "print_triHiggs_h5_info('../SPANet2/data/triHiggs/gghhh_4b_PT40_test.h5')"
   ]
  },
  {
   "cell_type": "code",
   "execution_count": 3,
   "metadata": {},
   "outputs": [
    {
     "name": "stdout",
     "output_type": "stream",
     "text": [
      "../SPANet2/data/triHiggs/triHiggs_4b_PT40_train.h5\n",
      "Dataset size: 900000\n",
      "Number of 0 Higgs events: 477508\n",
      "Number of 1 Higgs events: 123141\n",
      "Number of 2 Higgs events: 159219\n",
      "Number of 3 Higgs events: 140132\n",
      "\\item Total sample size: 900,000\n",
      "\\item 1h sample size: 123,141\n",
      "\\item 2h sample size: 159,219\n",
      "\\item 3h sample size: 140,132\n",
      "../SPANet2/data/triHiggs/triHiggs_4b_PT40_test.h5\n",
      "Dataset size: 100000\n",
      "Number of 0 Higgs events: 53099\n",
      "Number of 1 Higgs events: 13785\n",
      "Number of 2 Higgs events: 17448\n",
      "Number of 3 Higgs events: 15668\n",
      "\\item Total sample size: 100,000\n",
      "\\item 1h sample size: 13,785\n",
      "\\item 2h sample size: 17,448\n",
      "\\item 3h sample size: 15,668\n"
     ]
    },
    {
     "data": {
      "text/plain": [
       "{'total': 100000, '0h': 53099, '1h': 13785, '2h': 17448, '3h': 15668}"
      ]
     },
     "execution_count": 3,
     "metadata": {},
     "output_type": "execute_result"
    }
   ],
   "source": [
    "print_triHiggs_h5_info('../SPANet2/data/triHiggs/triHiggs_4b_PT40_train.h5')\n",
    "print_triHiggs_h5_info('../SPANet2/data/triHiggs/triHiggs_4b_PT40_test.h5')"
   ]
  },
  {
   "cell_type": "code",
   "execution_count": 3,
   "metadata": {},
   "outputs": [
    {
     "name": "stdout",
     "output_type": "stream",
     "text": [
      "Sample/SPANet/gghhh_4b_PT40_new.h5\n",
      "Dataset size: 32337\n",
      "Number of 0 Higgs events: 2111\n",
      "Number of 1 Higgs events: 8941\n",
      "Number of 2 Higgs events: 11341\n",
      "Number of 3 Higgs events: 9944\n",
      "\\item Total sample size: 32,337\n",
      "\\item 1h sample size: 8,941\n",
      "\\item 2h sample size: 11,341\n",
      "\\item 3h sample size: 9,944\n"
     ]
    },
    {
     "data": {
      "text/plain": [
       "{'total': 32337, '0h': 2111, '1h': 8941, '2h': 11341, '3h': 9944}"
      ]
     },
     "execution_count": 3,
     "metadata": {},
     "output_type": "execute_result"
    }
   ],
   "source": [
    "print_triHiggs_h5_info('Sample/SPANet/gghhh_4b_PT40_new.h5')"
   ]
  },
  {
   "cell_type": "code",
   "execution_count": 4,
   "metadata": {},
   "outputs": [
    {
     "name": "stdout",
     "output_type": "stream",
     "text": [
      "Sample/SPANet/pphhh_sm_4b_PT40.h5\n",
      "Dataset size: 48734\n",
      "Number of 0 Higgs events: 1775\n",
      "Number of 1 Higgs events: 10759\n",
      "Number of 2 Higgs events: 18601\n",
      "Number of 3 Higgs events: 17599\n",
      "\\item Total sample size: 48,734\n",
      "\\item 1h sample size: 10,759\n",
      "\\item 2h sample size: 18,601\n",
      "\\item 3h sample size: 17,599\n"
     ]
    },
    {
     "data": {
      "text/plain": [
       "{'total': 48734, '0h': 1775, '1h': 10759, '2h': 18601, '3h': 17599}"
      ]
     },
     "execution_count": 4,
     "metadata": {},
     "output_type": "execute_result"
    }
   ],
   "source": [
    "print_triHiggs_h5_info('Sample/SPANet/pphhh_sm_4b_PT40.h5')"
   ]
  },
  {
   "cell_type": "code",
   "execution_count": 3,
   "metadata": {},
   "outputs": [
    {
     "name": "stdout",
     "output_type": "stream",
     "text": [
      "'Sample/SPANet/gghhh_0b_02.h5' and ('Sample/SPANet/gghhh_0b_03.h5', 'Sample/SPANet/gghhh_0b_04.h5', 'Sample/SPANet/gghhh_0b_05.h5', 'Sample/SPANet/gghhh_0b_06.h5', 'Sample/SPANet/gghhh_0b_07.h5', 'Sample/SPANet/gghhh_0b_08.h5', 'Sample/SPANet/gghhh_0b_323.h5', 'Sample/SPANet/gghhh_0b_423.h5', 'Sample/SPANet/gghhh_0b_523.h5', 'Sample/SPANet/gghhh_0b_614.h5', 'Sample/SPANet/gghhh_0b_714.h5') are same structure, can be merged.\n",
      "Sample/SPANet/gghhh_0b_02_merged.h5 not exist. Copy Sample/SPANet/gghhh_0b_02.h5 to Sample/SPANet/gghhh_0b_02_merged.h5\n",
      "Size of Sample/SPANet/gghhh_0b_02.h5: 304372\n",
      "Size of Sample/SPANet/gghhh_0b_03.h5: 303994\n",
      "Size of Sample/SPANet/gghhh_0b_02_merged.h5: 608366\n",
      "Size of Sample/SPANet/gghhh_0b_04.h5: 303915\n",
      "Size of Sample/SPANet/gghhh_0b_02_merged.h5: 912281\n",
      "Size of Sample/SPANet/gghhh_0b_05.h5: 304049\n",
      "Size of Sample/SPANet/gghhh_0b_02_merged.h5: 1216330\n",
      "Size of Sample/SPANet/gghhh_0b_06.h5: 304151\n",
      "Size of Sample/SPANet/gghhh_0b_02_merged.h5: 1520481\n",
      "Size of Sample/SPANet/gghhh_0b_07.h5: 304332\n",
      "Size of Sample/SPANet/gghhh_0b_02_merged.h5: 1824813\n",
      "Size of Sample/SPANet/gghhh_0b_08.h5: 305061\n",
      "Size of Sample/SPANet/gghhh_0b_02_merged.h5: 2129874\n",
      "Size of Sample/SPANet/gghhh_0b_323.h5: 304491\n",
      "Size of Sample/SPANet/gghhh_0b_02_merged.h5: 2434365\n",
      "Size of Sample/SPANet/gghhh_0b_423.h5: 305197\n",
      "Size of Sample/SPANet/gghhh_0b_02_merged.h5: 2739562\n",
      "Size of Sample/SPANet/gghhh_0b_523.h5: 304733\n",
      "Size of Sample/SPANet/gghhh_0b_02_merged.h5: 3044295\n",
      "Size of Sample/SPANet/gghhh_0b_614.h5: 304689\n",
      "Size of Sample/SPANet/gghhh_0b_02_merged.h5: 3348984\n",
      "Size of Sample/SPANet/gghhh_0b_714.h5: 304712\n",
      "Size of Sample/SPANet/gghhh_0b_02_merged.h5: 3653696\n"
     ]
    }
   ],
   "source": [
    "files = [f'Sample/SPANet/gghhh_0b_{i:02}.h5' for i in range(2, 9)] + [f'Sample/SPANet/gghhh_0b_{rnd}.h5' for rnd in [323, 423, 523, 614, 714]]\n",
    "\n",
    "merged_h5 = utils.merge_h5_file(*files)\n",
    "\n",
    "new_file = 'Sample/SPANet/gghhh_4b.h5'\n",
    "\n",
    "os.rename(merged_h5, new_file)"
   ]
  },
  {
   "cell_type": "code",
   "execution_count": 3,
   "metadata": {},
   "outputs": [
    {
     "name": "stdout",
     "output_type": "stream",
     "text": [
      "'Sample/SPANet/gghhh_6b_02.h5' and ('Sample/SPANet/gghhh_6b_03.h5', 'Sample/SPANet/gghhh_6b_04.h5', 'Sample/SPANet/gghhh_6b_05.h5', 'Sample/SPANet/gghhh_6b_06.h5', 'Sample/SPANet/gghhh_6b_07.h5', 'Sample/SPANet/gghhh_6b_08.h5', 'Sample/SPANet/gghhh_6b_323.h5', 'Sample/SPANet/gghhh_6b_423.h5', 'Sample/SPANet/gghhh_6b_523.h5', 'Sample/SPANet/gghhh_6b_614.h5', 'Sample/SPANet/gghhh_6b_714.h5') are same structure, can be merged.\n",
      "Sample/SPANet/gghhh_6b_02_merged.h5 not exist. Copy Sample/SPANet/gghhh_6b_02.h5 to Sample/SPANet/gghhh_6b_02_merged.h5\n",
      "Size of Sample/SPANet/gghhh_6b_02.h5: 40565\n",
      "Size of Sample/SPANet/gghhh_6b_03.h5: 40866\n",
      "Size of Sample/SPANet/gghhh_6b_02_merged.h5: 81431\n",
      "Size of Sample/SPANet/gghhh_6b_04.h5: 40383\n",
      "Size of Sample/SPANet/gghhh_6b_02_merged.h5: 121814\n",
      "Size of Sample/SPANet/gghhh_6b_05.h5: 40879\n",
      "Size of Sample/SPANet/gghhh_6b_02_merged.h5: 162693\n",
      "Size of Sample/SPANet/gghhh_6b_06.h5: 40538\n",
      "Size of Sample/SPANet/gghhh_6b_02_merged.h5: 203231\n",
      "Size of Sample/SPANet/gghhh_6b_07.h5: 40489\n",
      "Size of Sample/SPANet/gghhh_6b_02_merged.h5: 243720\n",
      "Size of Sample/SPANet/gghhh_6b_08.h5: 40675\n",
      "Size of Sample/SPANet/gghhh_6b_02_merged.h5: 284395\n",
      "Size of Sample/SPANet/gghhh_6b_323.h5: 40256\n",
      "Size of Sample/SPANet/gghhh_6b_02_merged.h5: 324651\n",
      "Size of Sample/SPANet/gghhh_6b_423.h5: 40432\n",
      "Size of Sample/SPANet/gghhh_6b_02_merged.h5: 365083\n",
      "Size of Sample/SPANet/gghhh_6b_523.h5: 40623\n",
      "Size of Sample/SPANet/gghhh_6b_02_merged.h5: 405706\n",
      "Size of Sample/SPANet/gghhh_6b_614.h5: 40203\n",
      "Size of Sample/SPANet/gghhh_6b_02_merged.h5: 445909\n",
      "Size of Sample/SPANet/gghhh_6b_714.h5: 40785\n",
      "Size of Sample/SPANet/gghhh_6b_02_merged.h5: 486694\n"
     ]
    }
   ],
   "source": [
    "files = [f'Sample/SPANet/gghhh_6b_{i:02}.h5' for i in range(2, 9)] + [f'Sample/SPANet/gghhh_6b_{rnd}.h5' for rnd in [323, 423, 523, 614, 714]]\n",
    "\n",
    "merged_h5 = utils.merge_h5_file(*files)\n",
    "\n",
    "new_file = 'Sample/SPANet/gghhh_6b.h5'\n",
    "\n",
    "os.rename(merged_h5, new_file)"
   ]
  },
  {
   "cell_type": "markdown",
   "metadata": {},
   "source": [
    "# Make training and testing dataset"
   ]
  },
  {
   "cell_type": "code",
   "execution_count": 4,
   "metadata": {},
   "outputs": [
    {
     "name": "stdout",
     "output_type": "stream",
     "text": [
      "Size of Sample/SPANet/gghhh_0b.h5: 1045417\n",
      "Size of Sample/SPANet/gghhh_0b_split1.h5: 1000000\n",
      "Size of Sample/SPANet/gghhh_0b_split2.h5: 45417\n"
     ]
    }
   ],
   "source": [
    "file_path = 'Sample/SPANet/gghhh_0b.h5'\n",
    "size = 1000000\n",
    "split_h5_size(file_path, size)\n",
    "\n",
    "root, ext = os.path.splitext(file_path)\n",
    "split_file1 = root + '_split1' + ext\n",
    "split_file2 = root + '_split2' + ext\n",
    "\n",
    "os.rename(split_file1, './Sample/SPANet/gghhh_0b.h5')\n",
    "os.remove(split_file2)"
   ]
  },
  {
   "cell_type": "code",
   "execution_count": 5,
   "metadata": {},
   "outputs": [
    {
     "name": "stdout",
     "output_type": "stream",
     "text": [
      "Size of Sample/SPANet/gghhh_0b.h5: 1000000\n",
      "Size of Sample/SPANet/gghhh_0b_split1.h5: 900000\n",
      "Size of Sample/SPANet/gghhh_0b_split2.h5: 100000\n"
     ]
    }
   ],
   "source": [
    "file_path = 'Sample/SPANet/gghhh_0b.h5'\n",
    "r = 0.9\n",
    "split_h5_file(file_path, r)\n",
    "\n",
    "root, ext = os.path.splitext(file_path)\n",
    "split_file1 = root + '_split1' + ext\n",
    "split_file2 = root + '_split2' + ext\n",
    "\n",
    "os.rename(split_file1, './Sample/SPANet/gghhh_0b_train.h5')\n",
    "os.rename(split_file2, './Sample/SPANet/gghhh_0b_test.h5')"
   ]
  },
  {
   "cell_type": "code",
   "execution_count": 6,
   "metadata": {},
   "outputs": [
    {
     "name": "stdout",
     "output_type": "stream",
     "text": [
      "Size of /home/public/3h6b_samples/bg_1m.h5: 1000000\n",
      "Size of /home/public/3h6b_samples/bg_1m_split1.h5: 1000000\n",
      "Size of /home/public/3h6b_samples/bg_1m_split2.h5: 0\n"
     ]
    }
   ],
   "source": [
    "file_path = '/home/public/3h6b_samples/bg_1m.h5'\n",
    "size = 1000000\n",
    "split_h5_size(file_path, size)\n",
    "\n",
    "root, ext = os.path.splitext(file_path)\n",
    "split_file1 = root + '_split1' + ext\n",
    "split_file2 = root + '_split2' + ext\n",
    "\n",
    "os.rename(split_file1, './Sample/SPANet/pp6b_0b.h5')\n",
    "os.remove(split_file2)"
   ]
  },
  {
   "cell_type": "code",
   "execution_count": 7,
   "metadata": {},
   "outputs": [
    {
     "name": "stdout",
     "output_type": "stream",
     "text": [
      "Size of ./Sample/SPANet/pp6b_0b.h5: 1000000\n",
      "Size of ./Sample/SPANet/pp6b_0b_split1.h5: 900000\n",
      "Size of ./Sample/SPANet/pp6b_0b_split2.h5: 100000\n"
     ]
    }
   ],
   "source": [
    "file_path = './Sample/SPANet/pp6b_0b.h5'\n",
    "r = 0.9\n",
    "split_h5_file(file_path, r)\n",
    "\n",
    "root, ext = os.path.splitext(file_path)\n",
    "split_file1 = root + '_split1' + ext\n",
    "split_file2 = root + '_split2' + ext\n",
    "\n",
    "os.rename(split_file1, './Sample/SPANet/pp6b_0b_train.h5')\n",
    "os.rename(split_file2, './Sample/SPANet/pp6b_0b_test.h5')\n"
   ]
  },
  {
   "cell_type": "code",
   "execution_count": 8,
   "metadata": {},
   "outputs": [
    {
     "name": "stdout",
     "output_type": "stream",
     "text": [
      "'./Sample/SPANet/gghhh_0b_train.h5' and ('./Sample/SPANet/pp6b_0b_train.h5',) are same structure, can be merged.\n",
      "./Sample/SPANet/gghhh_0b_train_merged.h5 not exist. Copy ./Sample/SPANet/gghhh_0b_train.h5 to ./Sample/SPANet/gghhh_0b_train_merged.h5\n",
      "Size of ./Sample/SPANet/gghhh_0b_train.h5: 900000\n",
      "Size of ./Sample/SPANet/pp6b_0b_train.h5: 900000\n",
      "Size of ./Sample/SPANet/gghhh_0b_train_merged.h5: 1800000\n",
      "'./Sample/SPANet/gghhh_0b_test.h5' and ('./Sample/SPANet/pp6b_0b_test.h5',) are same structure, can be merged.\n",
      "./Sample/SPANet/gghhh_0b_test_merged.h5 not exist. Copy ./Sample/SPANet/gghhh_0b_test.h5 to ./Sample/SPANet/gghhh_0b_test_merged.h5\n",
      "Size of ./Sample/SPANet/gghhh_0b_test.h5: 100000\n",
      "Size of ./Sample/SPANet/pp6b_0b_test.h5: 100000\n",
      "Size of ./Sample/SPANet/gghhh_0b_test_merged.h5: 200000\n"
     ]
    }
   ],
   "source": [
    "files = ['./Sample/SPANet/gghhh_0b_train.h5', \n",
    "         './Sample/SPANet/pp6b_0b_train.h5']\n",
    "\n",
    "merged_h5 = merge_h5_file(*files)\n",
    "\n",
    "new_file = 'Sample/SPANet/triHiggs_0b_train.h5'\n",
    "\n",
    "os.rename(merged_h5, new_file)\n",
    "\n",
    "files = ['./Sample/SPANet/gghhh_0b_test.h5', \n",
    "         './Sample/SPANet/pp6b_0b_test.h5']\n",
    "\n",
    "merged_h5 = merge_h5_file(*files)\n",
    "\n",
    "new_file = 'Sample/SPANet/triHiggs_0b_test.h5'\n",
    "\n",
    "os.rename(merged_h5, new_file)"
   ]
  },
  {
   "cell_type": "code",
   "execution_count": 12,
   "metadata": {},
   "outputs": [
    {
     "name": "stdout",
     "output_type": "stream",
     "text": [
      "Dataset size: 1800000\n",
      "Dataset size: 200000\n"
     ]
    }
   ],
   "source": [
    "shuffle_h5('Sample/SPANet/triHiggs_0b_train.h5')\n",
    "shuffle_h5('Sample/SPANet/triHiggs_0b_test.h5')"
   ]
  },
  {
   "cell_type": "code",
   "execution_count": 20,
   "metadata": {},
   "outputs": [
    {
     "name": "stdout",
     "output_type": "stream",
     "text": [
      "Sample/SPANet/triHiggs_0b_train.h5\n",
      "Dataset size: 1800000\n",
      "CLASSIFICATIONS/EVENT/signal 1\n",
      "INPUTS/Source/MASK [ True  True  True  True  True  True False False False False False False\n",
      " False False False]\n",
      "INPUTS/Source/btag [False  True False  True False False False False False False False False\n",
      " False False False]\n",
      "INPUTS/Source/eta [-1.7856659 -1.171275  -1.3175582 -2.0036418 -0.5670005 -1.6876249\n",
      "  0.         0.         0.         0.         0.         0.\n",
      "  0.         0.         0.       ]\n",
      "INPUTS/Source/mass [21.988707 27.441921 16.656717 16.225178  8.112517  5.55458   0.\n",
      "  0.        0.        0.        0.        0.        0.        0.\n",
      "  0.      ]\n",
      "INPUTS/Source/phi [ 2.7874901   0.42819452 -0.32609227 -1.9737867  -1.2101762  -2.9208257\n",
      "  0.          0.          0.          0.          0.          0.\n",
      "  0.          0.          0.        ]\n",
      "INPUTS/Source/pt [100.418755  99.07493   57.353085  54.81301   35.30132   26.057392\n",
      "   0.         0.         0.         0.         0.         0.\n",
      "   0.         0.         0.      ]\n",
      "TARGETS/h1/b1 4\n",
      "TARGETS/h1/b2 0\n",
      "TARGETS/h2/b1 -1\n",
      "TARGETS/h2/b2 -1\n",
      "TARGETS/h3/b1 -1\n",
      "TARGETS/h3/b2 -1\n",
      "Sample/SPANet/triHiggs_0b_test.h5\n",
      "Dataset size: 200000\n",
      "CLASSIFICATIONS/EVENT/signal 1\n",
      "INPUTS/Source/MASK [ True  True  True  True  True  True False False False False False False\n",
      " False False False]\n",
      "INPUTS/Source/btag [ True False  True  True  True False False False False False False False\n",
      " False False False]\n",
      "INPUTS/Source/eta [ 0.39031464  0.4222937  -0.66571116 -0.8001544  -0.12386677  0.04117188\n",
      "  0.          0.          0.          0.          0.          0.\n",
      "  0.          0.          0.        ]\n",
      "INPUTS/Source/mass [16.352392  12.979688   9.828033   7.43475    4.927537   6.0124955\n",
      "  0.         0.         0.         0.         0.         0.\n",
      "  0.         0.         0.       ]\n",
      "INPUTS/Source/phi [-0.4296622   2.151697    2.7160301   0.1351555  -0.06146968 -3.0304987\n",
      "  0.          0.          0.          0.          0.          0.\n",
      "  0.          0.          0.        ]\n",
      "INPUTS/Source/pt [82.75499  73.9527   49.312565 31.995384 28.367922 26.83165   0.\n",
      "  0.        0.        0.        0.        0.        0.        0.\n",
      "  0.      ]\n",
      "TARGETS/h1/b1 2\n",
      "TARGETS/h1/b2 4\n",
      "TARGETS/h2/b1 -1\n",
      "TARGETS/h2/b2 -1\n",
      "TARGETS/h3/b1 5\n",
      "TARGETS/h3/b2 0\n"
     ]
    }
   ],
   "source": [
    "print_h5_info('Sample/SPANet/triHiggs_0b_train.h5', event=10)\n",
    "print_h5_info('Sample/SPANet/triHiggs_0b_test.h5')"
   ]
  },
  {
   "cell_type": "code",
   "execution_count": 3,
   "metadata": {},
   "outputs": [
    {
     "name": "stdout",
     "output_type": "stream",
     "text": [
      "./Sample/SPANet/pp6b_2.h5\n",
      "Dataset size: 2971310\n",
      "Number of 0 Higgs events: 2971310\n",
      "Number of 1 Higgs events: 0\n",
      "Number of 2 Higgs events: 0\n",
      "Number of 3 Higgs events: 0\n",
      "\\item Total sample size: 2,971,310\n",
      "\\item 1h sample size: 0\n",
      "\\item 2h sample size: 0\n",
      "\\item 3h sample size: 0\n",
      "Number of 6 b events: 84031\n",
      "./Sample/SPANet/pp6b_6b_2.h5\n",
      "Dataset size: 84031\n",
      "Number of 0 Higgs events: 84031\n",
      "Number of 1 Higgs events: 0\n",
      "Number of 2 Higgs events: 0\n",
      "Number of 3 Higgs events: 0\n",
      "\\item Total sample size: 84,031\n",
      "\\item 1h sample size: 0\n",
      "\\item 2h sample size: 0\n",
      "\\item 3h sample size: 0\n"
     ]
    },
    {
     "data": {
      "text/plain": [
       "{'total': 84031, '0h': 84031, '1h': 0, '2h': 0, '3h': 0}"
      ]
     },
     "execution_count": 3,
     "metadata": {},
     "output_type": "execute_result"
    }
   ],
   "source": [
    "file_path = './Sample/SPANet/pp6b_2.h5'\n",
    "print_triHiggs_h5_info(file_path)\n",
    "\n",
    "output_file = './Sample/SPANet/pp6b_6b_2.h5'\n",
    "six_b_file = select_nb_event(file_path, output_file, nb=6)\n",
    "print_triHiggs_h5_info(six_b_file)"
   ]
  },
  {
   "cell_type": "code",
   "execution_count": 4,
   "metadata": {},
   "outputs": [
    {
     "name": "stdout",
     "output_type": "stream",
     "text": [
      "Size of ./Sample/SPANet/pp6b_6b_2.h5: 84031\n",
      "Size of ./Sample/SPANet/pp6b_6b_2_split1.h5: 40000\n",
      "Size of ./Sample/SPANet/pp6b_6b_2_split2.h5: 44031\n"
     ]
    }
   ],
   "source": [
    "file_path = './Sample/SPANet/pp6b_6b_2.h5'\n",
    "size = 40000\n",
    "utils.split_h5_size(file_path, size)\n",
    "\n",
    "root, ext = os.path.splitext(file_path)\n",
    "split_file1 = root + '_split1' + ext\n",
    "split_file2 = root + '_split2' + ext\n",
    "\n",
    "os.rename(split_file1, './Sample/SPANet/pp6b_6b_test.h5')\n",
    "os.remove(split_file2)"
   ]
  },
  {
   "cell_type": "code",
   "execution_count": 6,
   "metadata": {},
   "outputs": [
    {
     "name": "stdout",
     "output_type": "stream",
     "text": [
      "'./Sample/SPANet/gghhh_6b_PT40_test.h5' and ('./Sample/SPANet/pp6b_6b_test.h5',) are same structure, can be merged.\n",
      "./Sample/SPANet/gghhh_6b_PT40_test_merged.h5 not exist. Copy ./Sample/SPANet/gghhh_6b_PT40_test.h5 to ./Sample/SPANet/gghhh_6b_PT40_test_merged.h5\n",
      "Size of ./Sample/SPANet/gghhh_6b_PT40_test.h5: 40000\n",
      "Size of ./Sample/SPANet/pp6b_6b_test.h5: 40000\n",
      "Size of ./Sample/SPANet/gghhh_6b_PT40_test_merged.h5: 80000\n"
     ]
    }
   ],
   "source": [
    "files = ['./Sample/SPANet/gghhh_6b_PT40_test.h5', \n",
    "         './Sample/SPANet/pp6b_6b_test.h5']\n",
    "\n",
    "merged_h5 = utils.merge_h5_file(*files)\n",
    "\n",
    "new_file = './Sample/SPANet/triHiggs_6b_test.h5'\n",
    "\n",
    "os.rename(merged_h5, new_file)"
   ]
  },
  {
   "cell_type": "markdown",
   "metadata": {},
   "source": [
    "# Prepare 3h training dataset"
   ]
  },
  {
   "cell_type": "code",
   "execution_count": 5,
   "metadata": {},
   "outputs": [
    {
     "name": "stdout",
     "output_type": "stream",
     "text": [
      "./Sample/SPANet/gghhh_0b.h5\n",
      "Dataset size: 6275278\n",
      "Number of 0 Higgs events: 990165\n",
      "Number of 1 Higgs events: 2214899\n",
      "Number of 2 Higgs events: 1937205\n",
      "Number of 3 Higgs events: 1133009\n",
      "\\item Total sample size: 6,275,278\n",
      "\\item 1h sample size: 2,214,899\n",
      "\\item 2h sample size: 1,937,205\n",
      "\\item 3h sample size: 1,133,009\n",
      "Number of 3 Higgs events: 1133009\n",
      "./Sample/SPANet/gghhh_0b_3h.h5\n",
      "Dataset size: 1133009\n",
      "Number of 0 Higgs events: 0\n",
      "Number of 1 Higgs events: 0\n",
      "Number of 2 Higgs events: 0\n",
      "Number of 3 Higgs events: 1133009\n",
      "\\item Total sample size: 1,133,009\n",
      "\\item 1h sample size: 0\n",
      "\\item 2h sample size: 0\n",
      "\\item 3h sample size: 1,133,009\n"
     ]
    },
    {
     "data": {
      "text/plain": [
       "{'total': 1133009, '0h': 0, '1h': 0, '2h': 0, '3h': 1133009}"
      ]
     },
     "execution_count": 5,
     "metadata": {},
     "output_type": "execute_result"
    }
   ],
   "source": [
    "file_path = './Sample/SPANet/gghhh_0b.h5'\n",
    "print_triHiggs_h5_info(file_path)\n",
    "\n",
    "triHiggs_file = select_3h_event(file_path)\n",
    "print_triHiggs_h5_info(triHiggs_file)"
   ]
  },
  {
   "cell_type": "code",
   "execution_count": 6,
   "metadata": {},
   "outputs": [
    {
     "name": "stdout",
     "output_type": "stream",
     "text": [
      "Size of Sample/SPANet/gghhh_0b_3h.h5: 1133009\n",
      "Size of Sample/SPANet/gghhh_0b_3h_split1.h5: 1000000\n",
      "Size of Sample/SPANet/gghhh_0b_3h_split2.h5: 133009\n"
     ]
    }
   ],
   "source": [
    "file_path = 'Sample/SPANet/gghhh_0b_3h.h5'\n",
    "size = 1000000\n",
    "split_h5_size(file_path, size)\n",
    "\n",
    "root, ext = os.path.splitext(file_path)\n",
    "split_file1 = root + '_split1' + ext\n",
    "split_file2 = root + '_split2' + ext\n",
    "\n",
    "os.rename(split_file1, file_path)\n",
    "os.remove(split_file2)"
   ]
  },
  {
   "cell_type": "code",
   "execution_count": 7,
   "metadata": {},
   "outputs": [
    {
     "name": "stdout",
     "output_type": "stream",
     "text": [
      "Size of Sample/SPANet/gghhh_0b_3h.h5: 1000000\n",
      "Size of Sample/SPANet/gghhh_0b_3h_split1.h5: 900000\n",
      "Size of Sample/SPANet/gghhh_0b_3h_split2.h5: 100000\n"
     ]
    }
   ],
   "source": [
    "file_path = 'Sample/SPANet/gghhh_0b_3h.h5'\n",
    "r = 0.9\n",
    "split_h5_file(file_path, r)\n",
    "\n",
    "root, ext = os.path.splitext(file_path)\n",
    "split_file1 = root + '_split1' + ext\n",
    "split_file2 = root + '_split2' + ext\n",
    "\n",
    "os.rename(split_file1, './Sample/SPANet/gghhh_0b_3h_train.h5')\n",
    "os.rename(split_file2, './Sample/SPANet/gghhh_0b_3h_test.h5')"
   ]
  },
  {
   "cell_type": "code",
   "execution_count": 8,
   "metadata": {},
   "outputs": [
    {
     "name": "stdout",
     "output_type": "stream",
     "text": [
      "Size of /home/public/3h6b_samples/bg_1m.h5: 1000000\n",
      "Size of /home/public/3h6b_samples/bg_1m_split1.h5: 1000000\n",
      "Size of /home/public/3h6b_samples/bg_1m_split2.h5: 0\n"
     ]
    }
   ],
   "source": [
    "file_path = '/home/public/3h6b_samples/bg_1m.h5'\n",
    "size = 1000000\n",
    "split_h5_size(file_path, size)\n",
    "\n",
    "root, ext = os.path.splitext(file_path)\n",
    "split_file1 = root + '_split1' + ext\n",
    "split_file2 = root + '_split2' + ext\n",
    "\n",
    "os.rename(split_file1, './Sample/SPANet/pp6b_0b.h5')\n",
    "os.remove(split_file2)"
   ]
  },
  {
   "cell_type": "code",
   "execution_count": 9,
   "metadata": {},
   "outputs": [
    {
     "name": "stdout",
     "output_type": "stream",
     "text": [
      "Size of ./Sample/SPANet/pp6b_0b.h5: 1000000\n",
      "Size of ./Sample/SPANet/pp6b_0b_split1.h5: 900000\n",
      "Size of ./Sample/SPANet/pp6b_0b_split2.h5: 100000\n"
     ]
    }
   ],
   "source": [
    "file_path = './Sample/SPANet/pp6b_0b.h5'\n",
    "r = 0.9\n",
    "split_h5_file(file_path, r)\n",
    "\n",
    "root, ext = os.path.splitext(file_path)\n",
    "split_file1 = root + '_split1' + ext\n",
    "split_file2 = root + '_split2' + ext\n",
    "\n",
    "os.rename(split_file1, './Sample/SPANet/pp6b_0b_train.h5')\n",
    "os.rename(split_file2, './Sample/SPANet/pp6b_0b_test.h5')\n"
   ]
  },
  {
   "cell_type": "code",
   "execution_count": 10,
   "metadata": {},
   "outputs": [
    {
     "name": "stdout",
     "output_type": "stream",
     "text": [
      "'./Sample/SPANet/gghhh_0b_3h_train.h5' and ('./Sample/SPANet/pp6b_0b_train.h5',) are same structure, can be merged.\n",
      "./Sample/SPANet/gghhh_0b_3h_train_merged.h5 not exist. Copy ./Sample/SPANet/gghhh_0b_3h_train.h5 to ./Sample/SPANet/gghhh_0b_3h_train_merged.h5\n",
      "Size of ./Sample/SPANet/gghhh_0b_3h_train.h5: 900000\n",
      "Size of ./Sample/SPANet/pp6b_0b_train.h5: 900000\n",
      "Size of ./Sample/SPANet/gghhh_0b_3h_train_merged.h5: 1800000\n",
      "'./Sample/SPANet/gghhh_0b_3h_test.h5' and ('./Sample/SPANet/pp6b_0b_test.h5',) are same structure, can be merged.\n",
      "./Sample/SPANet/gghhh_0b_3h_test_merged.h5 not exist. Copy ./Sample/SPANet/gghhh_0b_3h_test.h5 to ./Sample/SPANet/gghhh_0b_3h_test_merged.h5\n",
      "Size of ./Sample/SPANet/gghhh_0b_3h_test.h5: 100000\n",
      "Size of ./Sample/SPANet/pp6b_0b_test.h5: 100000\n",
      "Size of ./Sample/SPANet/gghhh_0b_3h_test_merged.h5: 200000\n"
     ]
    }
   ],
   "source": [
    "files = ['./Sample/SPANet/gghhh_0b_3h_train.h5', \n",
    "         './Sample/SPANet/pp6b_0b_train.h5']\n",
    "\n",
    "merged_h5 = merge_h5_file(*files)\n",
    "\n",
    "new_file = 'Sample/SPANet/triHiggs_0b_3h_train.h5'\n",
    "\n",
    "os.rename(merged_h5, new_file)\n",
    "\n",
    "files = ['./Sample/SPANet/gghhh_0b_3h_test.h5', \n",
    "         './Sample/SPANet/pp6b_0b_test.h5']\n",
    "\n",
    "merged_h5 = merge_h5_file(*files)\n",
    "\n",
    "new_file = 'Sample/SPANet/triHiggs_0b_3h_test.h5'\n",
    "\n",
    "os.rename(merged_h5, new_file)"
   ]
  },
  {
   "cell_type": "code",
   "execution_count": 11,
   "metadata": {},
   "outputs": [
    {
     "name": "stdout",
     "output_type": "stream",
     "text": [
      "Dataset size: 1800000\n",
      "Dataset size: 200000\n"
     ]
    }
   ],
   "source": [
    "shuffle_h5('Sample/SPANet/triHiggs_0b_3h_train.h5')\n",
    "shuffle_h5('Sample/SPANet/triHiggs_0b_3h_test.h5')"
   ]
  },
  {
   "cell_type": "code",
   "execution_count": 12,
   "metadata": {},
   "outputs": [
    {
     "name": "stdout",
     "output_type": "stream",
     "text": [
      "Sample/SPANet/triHiggs_0b_3h_train.h5\n",
      "Dataset size: 1800000\n",
      "CLASSIFICATIONS/EVENT/signal 1\n",
      "INPUTS/Source/MASK [ True  True  True  True  True  True  True False False False False False\n",
      " False False False]\n",
      "INPUTS/Source/btag [False False False False False False  True False False False False False\n",
      " False False False]\n",
      "INPUTS/Source/eta [-0.20713721  1.3114525  -0.56443137  0.05710578 -0.4570189   0.25234416\n",
      "  0.90252006  0.          0.          0.          0.          0.\n",
      "  0.          0.          0.        ]\n",
      "INPUTS/Source/mass [ 9.674998  12.387378   6.9249     8.384139   8.646945   3.5128188\n",
      "  6.0978813  0.         0.         0.         0.         0.\n",
      "  0.         0.         0.       ]\n",
      "INPUTS/Source/phi [-2.292494    2.751582   -0.76119405  1.7267805  -0.05098353 -1.8268727\n",
      "  1.4313099   0.          0.          0.          0.          0.\n",
      "  0.          0.          0.        ]\n",
      "INPUTS/Source/pt [60.725346 57.250782 54.543266 53.631428 52.888084 48.29721  29.313828\n",
      "  0.        0.        0.        0.        0.        0.        0.\n",
      "  0.      ]\n",
      "TARGETS/h1/b1 4\n",
      "TARGETS/h1/b2 0\n",
      "TARGETS/h2/b1 3\n",
      "TARGETS/h2/b2 5\n",
      "TARGETS/h3/b1 6\n",
      "TARGETS/h3/b2 2\n",
      "Sample/SPANet/triHiggs_0b_3h_test.h5\n",
      "Dataset size: 200000\n",
      "CLASSIFICATIONS/EVENT/signal 1\n",
      "INPUTS/Source/MASK [ True  True  True  True  True  True  True False False False False False\n",
      " False False False]\n",
      "INPUTS/Source/btag [ True False False  True  True False  True False False False False False\n",
      " False False False]\n",
      "INPUTS/Source/eta [ 0.8822099   0.3692397   0.2367434  -0.9259105   0.64783096 -0.42549276\n",
      "  0.8441024   0.          0.          0.          0.          0.\n",
      "  0.          0.          0.        ]\n",
      "INPUTS/Source/mass [17.978209 19.659922 17.04635  14.921581 12.095266  9.074384  5.523837\n",
      "  0.        0.        0.        0.        0.        0.        0.\n",
      "  0.      ]\n",
      "INPUTS/Source/phi [ 0.9061916  -1.5875945   2.047628   -1.793899   -0.31850162  2.48849\n",
      "  1.500015    0.          0.          0.          0.          0.\n",
      "  0.          0.          0.        ]\n",
      "INPUTS/Source/pt [97.302345 95.169624 91.73294  77.79637  58.015873 49.47172  26.577389\n",
      "  0.        0.        0.        0.        0.        0.        0.\n",
      "  0.      ]\n",
      "TARGETS/h1/b1 6\n",
      "TARGETS/h1/b2 3\n",
      "TARGETS/h2/b1 5\n",
      "TARGETS/h2/b2 4\n",
      "TARGETS/h3/b1 2\n",
      "TARGETS/h3/b2 0\n"
     ]
    }
   ],
   "source": [
    "print_h5_info('Sample/SPANet/triHiggs_0b_3h_train.h5', event=10)\n",
    "print_h5_info('Sample/SPANet/triHiggs_0b_3h_test.h5')"
   ]
  },
  {
   "cell_type": "code",
   "execution_count": 4,
   "metadata": {},
   "outputs": [
    {
     "name": "stdout",
     "output_type": "stream",
     "text": [
      "./Sample/SPANet/pphhh_sm_4b_PT40.h5\n",
      "Dataset size: 48734\n",
      "Number of 0 Higgs events: 1775\n",
      "Number of 1 Higgs events: 10759\n",
      "Number of 2 Higgs events: 18601\n",
      "Number of 3 Higgs events: 17599\n",
      "\\item Total sample size: 48,734\n",
      "\\item 1h sample size: 10,759\n",
      "\\item 2h sample size: 18,601\n",
      "\\item 3h sample size: 17,599\n",
      "Number of 3 Higgs events: 17599\n",
      "./Sample/SPANet/pphhh_sm_4b_PT40_3h.h5\n",
      "Dataset size: 17599\n",
      "Number of 0 Higgs events: 0\n",
      "Number of 1 Higgs events: 0\n",
      "Number of 2 Higgs events: 0\n",
      "Number of 3 Higgs events: 17599\n",
      "\\item Total sample size: 17,599\n",
      "\\item 1h sample size: 0\n",
      "\\item 2h sample size: 0\n",
      "\\item 3h sample size: 17,599\n"
     ]
    },
    {
     "data": {
      "text/plain": [
       "{'total': 17599, '0h': 0, '1h': 0, '2h': 0, '3h': 17599}"
      ]
     },
     "execution_count": 4,
     "metadata": {},
     "output_type": "execute_result"
    }
   ],
   "source": [
    "file_path = './Sample/SPANet/pphhh_sm_4b_PT40.h5'\n",
    "print_triHiggs_h5_info(file_path)\n",
    "\n",
    "output_file = './Sample/SPANet/pphhh_sm_4b_PT40_3h.h5'\n",
    "triHiggs_file = select_3h_event(file_path, output_file)\n",
    "print_triHiggs_h5_info(triHiggs_file)"
   ]
  },
  {
   "cell_type": "code",
   "execution_count": 3,
   "metadata": {},
   "outputs": [
    {
     "name": "stdout",
     "output_type": "stream",
     "text": [
      "../SPANet2/data/triHiggs/gghhh_6b_PT40_test.h5\n",
      "Dataset size: 40000\n",
      "Number of 0 Higgs events: 483\n",
      "Number of 1 Higgs events: 4360\n",
      "Number of 2 Higgs events: 8070\n",
      "Number of 3 Higgs events: 27087\n",
      "\\item Total sample size: 40,000\n",
      "\\item 1h sample size: 4,360\n",
      "\\item 2h sample size: 8,070\n",
      "\\item 3h sample size: 27,087\n",
      "Number of 3 Higgs events: 27087\n",
      "../SPANet2/data/triHiggs/gghhh_6b_PT40_3h_test.h5\n",
      "Dataset size: 27087\n",
      "Number of 0 Higgs events: 0\n",
      "Number of 1 Higgs events: 0\n",
      "Number of 2 Higgs events: 0\n",
      "Number of 3 Higgs events: 27087\n",
      "\\item Total sample size: 27,087\n",
      "\\item 1h sample size: 0\n",
      "\\item 2h sample size: 0\n",
      "\\item 3h sample size: 27,087\n"
     ]
    },
    {
     "data": {
      "text/plain": [
       "{'total': 27087, '0h': 0, '1h': 0, '2h': 0, '3h': 27087}"
      ]
     },
     "execution_count": 3,
     "metadata": {},
     "output_type": "execute_result"
    }
   ],
   "source": [
    "file_path = '../SPANet2/data/triHiggs/gghhh_6b_PT40_test.h5'\n",
    "print_triHiggs_h5_info(file_path)\n",
    "\n",
    "output_file = '../SPANet2/data/triHiggs/gghhh_6b_PT40_3h_test.h5'\n",
    "triHiggs_file = select_3h_event(file_path, output_file)\n",
    "print_triHiggs_h5_info(triHiggs_file)"
   ]
  },
  {
   "cell_type": "markdown",
   "metadata": {},
   "source": [
    "# Generate 6b event"
   ]
  },
  {
   "cell_type": "code",
   "execution_count": 5,
   "metadata": {},
   "outputs": [
    {
     "name": "stdout",
     "output_type": "stream",
     "text": [
      "./Sample/SPANet/pp6b_0b.h5\n",
      "Dataset size: 1000000\n",
      "Number of 0 Higgs events: 1000000\n",
      "Number of 1 Higgs events: 0\n",
      "Number of 2 Higgs events: 0\n",
      "Number of 3 Higgs events: 0\n",
      "\\item Total sample size: 1,000,000\n",
      "\\item 1h sample size: 0\n",
      "\\item 2h sample size: 0\n",
      "\\item 3h sample size: 0\n",
      "Number of 6 b events: 28755\n",
      "./Sample/SPANet/pp6b_6b.h5\n",
      "Dataset size: 28755\n",
      "Number of 0 Higgs events: 28755\n",
      "Number of 1 Higgs events: 0\n",
      "Number of 2 Higgs events: 0\n",
      "Number of 3 Higgs events: 0\n",
      "\\item Total sample size: 28,755\n",
      "\\item 1h sample size: 0\n",
      "\\item 2h sample size: 0\n",
      "\\item 3h sample size: 0\n"
     ]
    },
    {
     "data": {
      "text/plain": [
       "{'total': 28755, '0h': 28755, '1h': 0, '2h': 0, '3h': 0}"
      ]
     },
     "execution_count": 5,
     "metadata": {},
     "output_type": "execute_result"
    }
   ],
   "source": [
    "file_path = './Sample/SPANet/pp6b_0b.h5'\n",
    "print_triHiggs_h5_info(file_path)\n",
    "\n",
    "output_file = './Sample/SPANet/pp6b_6b.h5'\n",
    "six_b_file = select_6b_event(file_path, output_file)\n",
    "print_triHiggs_h5_info(six_b_file)"
   ]
  },
  {
   "cell_type": "code",
   "execution_count": 5,
   "metadata": {},
   "outputs": [
    {
     "name": "stdout",
     "output_type": "stream",
     "text": [
      "'./Sample/SPANet/pp6b_0b.h5' and ('./Sample/SPANet/pp6b_0b_2.h5',) are same structure, can be merged.\n",
      "./Sample/SPANet/pp6b_0b_merged.h5 not exist. Copy ./Sample/SPANet/pp6b_0b.h5 to ./Sample/SPANet/pp6b_0b_merged.h5\n",
      "Size of ./Sample/SPANet/pp6b_0b.h5: 1000000\n",
      "Size of ./Sample/SPANet/pp6b_0b_2.h5: 808254\n",
      "Size of ./Sample/SPANet/pp6b_0b_merged.h5: 1808254\n",
      "./Sample/SPANet/pp6b_0b_merged.h5\n",
      "Dataset size: 1808254\n",
      "Number of 0 Higgs events: 1808254\n",
      "Number of 1 Higgs events: 0\n",
      "Number of 2 Higgs events: 0\n",
      "Number of 3 Higgs events: 0\n",
      "\\item Total sample size: 1,808,254\n",
      "\\item 1h sample size: 0\n",
      "\\item 2h sample size: 0\n",
      "\\item 3h sample size: 0\n",
      "Number of 4 b events: 790372\n",
      "./Sample/SPANet/pp6b_4b.h5\n",
      "Dataset size: 790372\n",
      "Number of 0 Higgs events: 790372\n",
      "Number of 1 Higgs events: 0\n",
      "Number of 2 Higgs events: 0\n",
      "Number of 3 Higgs events: 0\n",
      "\\item Total sample size: 790,372\n",
      "\\item 1h sample size: 0\n",
      "\\item 2h sample size: 0\n",
      "\\item 3h sample size: 0\n"
     ]
    },
    {
     "data": {
      "text/plain": [
       "{'total': 790372, '0h': 790372, '1h': 0, '2h': 0, '3h': 0}"
      ]
     },
     "execution_count": 5,
     "metadata": {},
     "output_type": "execute_result"
    }
   ],
   "source": [
    "files = ['./Sample/SPANet/pp6b_0b.h5', './Sample/SPANet/pp6b_0b_2.h5']\n",
    "file_path = utils.merge_h5_file(*files)\n",
    "print_triHiggs_h5_info(file_path)\n",
    "\n",
    "output_file = './Sample/SPANet/pp6b_4b.h5'\n",
    "nb_file = select_nb_event(file_path, output_file, nb=4)\n",
    "print_triHiggs_h5_info(nb_file)"
   ]
  },
  {
   "cell_type": "code",
   "execution_count": 5,
   "metadata": {},
   "outputs": [
    {
     "name": "stdout",
     "output_type": "stream",
     "text": [
      "../SPANet2/data/triHiggs/triHiggs_0b_3h_test.h5\n",
      "Dataset size: 200000\n",
      "Number of 0 Higgs events: 100000\n",
      "Number of 1 Higgs events: 0\n",
      "Number of 2 Higgs events: 0\n",
      "Number of 3 Higgs events: 100000\n",
      "\\item Total sample size: 200,000\n",
      "\\item 1h sample size: 0\n",
      "\\item 2h sample size: 0\n",
      "\\item 3h sample size: 100,000\n",
      "Number of 6 b events: 11521\n",
      "../SPANet2/data/triHiggs/triHiggs_6b_3h_test.h5\n",
      "Dataset size: 11521\n",
      "Number of 0 Higgs events: 2905\n",
      "Number of 1 Higgs events: 0\n",
      "Number of 2 Higgs events: 0\n",
      "Number of 3 Higgs events: 8616\n",
      "\\item Total sample size: 11,521\n",
      "\\item 1h sample size: 0\n",
      "\\item 2h sample size: 0\n",
      "\\item 3h sample size: 8,616\n"
     ]
    },
    {
     "data": {
      "text/plain": [
       "{'total': 11521, '0h': 2905, '1h': 0, '2h': 0, '3h': 8616}"
      ]
     },
     "execution_count": 5,
     "metadata": {},
     "output_type": "execute_result"
    }
   ],
   "source": [
    "file_path = '../SPANet2/data/triHiggs/triHiggs_0b_3h_test.h5'\n",
    "print_triHiggs_h5_info(file_path)\n",
    "\n",
    "output_file = '../SPANet2/data/triHiggs/triHiggs_6b_3h_test.h5'\n",
    "six_b_file = select_6b_event(file_path, output_file)\n",
    "print_triHiggs_h5_info(six_b_file)"
   ]
  },
  {
   "cell_type": "code",
   "execution_count": null,
   "metadata": {},
   "outputs": [
    {
     "name": "stdout",
     "output_type": "stream",
     "text": [
      "../SPANet2/data/triHiggs/triHiggs_0b_3h_test.h5\n",
      "Dataset size: 200000\n",
      "Number of 0 Higgs events: 100000\n",
      "Number of 1 Higgs events: 0\n",
      "Number of 2 Higgs events: 0\n",
      "Number of 3 Higgs events: 100000\n",
      "\\item Total sample size: 200,000\n",
      "\\item 1h sample size: 0\n",
      "\\item 2h sample size: 0\n",
      "\\item 3h sample size: 100,000\n",
      "Number of 6 b events: 11521\n",
      "../SPANet2/data/triHiggs/triHiggs_6b_3h_test.h5\n",
      "Dataset size: 11521\n",
      "Number of 0 Higgs events: 2905\n",
      "Number of 1 Higgs events: 0\n",
      "Number of 2 Higgs events: 0\n",
      "Number of 3 Higgs events: 8616\n",
      "\\item Total sample size: 11,521\n",
      "\\item 1h sample size: 0\n",
      "\\item 2h sample size: 0\n",
      "\\item 3h sample size: 8,616\n"
     ]
    },
    {
     "data": {
      "text/plain": [
       "{'total': 11521, '0h': 2905, '1h': 0, '2h': 0, '3h': 8616}"
      ]
     },
     "metadata": {},
     "output_type": "display_data"
    }
   ],
   "source": [
    "file_path = '../SPANet2/data/triHiggs/triHiggs_0b_3h_test.h5'\n",
    "print_triHiggs_h5_info(file_path)\n",
    "\n",
    "output_file = '../SPANet2/data/triHiggs/triHiggs_6b_3h_test.h5'\n",
    "six_b_file = select_6b_event(file_path, output_file)\n",
    "print_triHiggs_h5_info(six_b_file)"
   ]
  },
  {
   "cell_type": "markdown",
   "metadata": {},
   "source": [
    "# Prepare training and testing datasets with at least 4 jet $ > 40 \\text{ GeV}$ and 4 $b$-tagged jet"
   ]
  },
  {
   "cell_type": "code",
   "execution_count": 4,
   "metadata": {},
   "outputs": [
    {
     "name": "stdout",
     "output_type": "stream",
     "text": [
      "Size of Sample/SPANet/gghhh_4b.h5: 3653696\n",
      "Size of Sample/SPANet/gghhh_4b_split1.h5: 1000000\n",
      "Size of Sample/SPANet/gghhh_4b_split2.h5: 2653696\n",
      "Size of Sample/SPANet/gghhh_4b_split2.h5: 2653696\n",
      "Size of Sample/SPANet/gghhh_4b_split2_split1.h5: 500000\n",
      "Size of Sample/SPANet/gghhh_4b_split2_split2.h5: 2153696\n"
     ]
    }
   ],
   "source": [
    "file_path = 'Sample/SPANet/gghhh_4b.h5'\n",
    "size = 1000000\n",
    "utils.split_h5_size(file_path, size)\n",
    "\n",
    "root, ext = os.path.splitext(file_path)\n",
    "split_file1 = root + '_split1' + ext\n",
    "split_file2 = root + '_split2' + ext\n",
    "\n",
    "os.rename(split_file1, './Sample/SPANet/gghhh_4b_PT40.h5')\n",
    "\n",
    "size = 500000\n",
    "utils.split_h5_size(split_file2, size)\n",
    "\n",
    "root, ext = os.path.splitext(split_file2)\n",
    "split_file1 = root + '_split1' + ext\n",
    "split_file2 = root + '_split2' + ext\n",
    "\n",
    "os.rename(split_file1, './Sample/SPANet/gghhh_4b_PT40_DNN.h5')\n",
    "os.remove(split_file2)"
   ]
  },
  {
   "cell_type": "code",
   "execution_count": 5,
   "metadata": {},
   "outputs": [
    {
     "name": "stdout",
     "output_type": "stream",
     "text": [
      "Size of ./Sample/SPANet/gghhh_4b_PT40.h5: 1000000\n",
      "Size of ./Sample/SPANet/gghhh_4b_PT40_split1.h5: 900000\n",
      "Size of ./Sample/SPANet/gghhh_4b_PT40_split2.h5: 100000\n"
     ]
    }
   ],
   "source": [
    "file_path = './Sample/SPANet/gghhh_4b_PT40.h5'\n",
    "r = 0.9\n",
    "utils.split_h5_file(file_path, r)\n",
    "\n",
    "root, ext = os.path.splitext(file_path)\n",
    "split_file1 = root + '_split1' + ext\n",
    "split_file2 = root + '_split2' + ext\n",
    "\n",
    "os.rename(split_file1, './Sample/SPANet/gghhh_4b_PT40_train.h5')\n",
    "os.rename(split_file2, './Sample/SPANet/gghhh_4b_PT40_test.h5')"
   ]
  },
  {
   "cell_type": "code",
   "execution_count": 4,
   "metadata": {},
   "outputs": [
    {
     "name": "stdout",
     "output_type": "stream",
     "text": [
      "../SPANet2/data/triHiggs/gghhh_4b_PT40_train.h5\n",
      "Dataset size: 900000\n",
      "Number of 0 Higgs events: 54693\n",
      "Number of 1 Higgs events: 246462\n",
      "Number of 2 Higgs events: 318057\n",
      "Number of 3 Higgs events: 280788\n",
      "\\item Total sample size: 900,000\n",
      "\\item 1h sample size: 246,462\n",
      "\\item 2h sample size: 318,057\n",
      "\\item 3h sample size: 280,788\n",
      "Number of 3 Higgs events: 280788\n",
      "../SPANet2/data/triHiggs/gghhh_4b_PT40_3h_train.h5\n",
      "Dataset size: 280788\n",
      "Number of 0 Higgs events: 0\n",
      "Number of 1 Higgs events: 0\n",
      "Number of 2 Higgs events: 0\n",
      "Number of 3 Higgs events: 280788\n",
      "\\item Total sample size: 280,788\n",
      "\\item 1h sample size: 0\n",
      "\\item 2h sample size: 0\n",
      "\\item 3h sample size: 280,788\n"
     ]
    },
    {
     "data": {
      "text/plain": [
       "{'total': 280788, '0h': 0, '1h': 0, '2h': 0, '3h': 280788}"
      ]
     },
     "execution_count": 4,
     "metadata": {},
     "output_type": "execute_result"
    }
   ],
   "source": [
    "file_path = '../SPANet2/data/triHiggs/gghhh_4b_PT40_train.h5'\n",
    "print_triHiggs_h5_info(file_path)\n",
    "\n",
    "output_file = '../SPANet2/data/triHiggs/gghhh_4b_PT40_3h_train.h5'\n",
    "triHiggs_file = select_3h_event(file_path, output_file)\n",
    "print_triHiggs_h5_info(triHiggs_file)"
   ]
  },
  {
   "cell_type": "code",
   "execution_count": 5,
   "metadata": {},
   "outputs": [
    {
     "name": "stdout",
     "output_type": "stream",
     "text": [
      "../SPANet2/data/triHiggs/gghhh_4b_PT40_test.h5\n",
      "Dataset size: 100000\n",
      "Number of 0 Higgs events: 6208\n",
      "Number of 1 Higgs events: 27243\n",
      "Number of 2 Higgs events: 35050\n",
      "Number of 3 Higgs events: 31499\n",
      "\\item Total sample size: 100,000\n",
      "\\item 1h sample size: 27,243\n",
      "\\item 2h sample size: 35,050\n",
      "\\item 3h sample size: 31,499\n",
      "Number of 3 Higgs events: 31499\n",
      "../SPANet2/data/triHiggs/gghhh_4b_PT40_3h_test.h5\n",
      "Dataset size: 31499\n",
      "Number of 0 Higgs events: 0\n",
      "Number of 1 Higgs events: 0\n",
      "Number of 2 Higgs events: 0\n",
      "Number of 3 Higgs events: 31499\n",
      "\\item Total sample size: 31,499\n",
      "\\item 1h sample size: 0\n",
      "\\item 2h sample size: 0\n",
      "\\item 3h sample size: 31,499\n"
     ]
    },
    {
     "data": {
      "text/plain": [
       "{'total': 31499, '0h': 0, '1h': 0, '2h': 0, '3h': 31499}"
      ]
     },
     "execution_count": 5,
     "metadata": {},
     "output_type": "execute_result"
    }
   ],
   "source": [
    "file_path = '../SPANet2/data/triHiggs/gghhh_4b_PT40_test.h5'\n",
    "print_triHiggs_h5_info(file_path)\n",
    "\n",
    "output_file = '../SPANet2/data/triHiggs/gghhh_4b_PT40_3h_test.h5'\n",
    "triHiggs_file = select_3h_event(file_path, output_file)\n",
    "print_triHiggs_h5_info(triHiggs_file)"
   ]
  },
  {
   "cell_type": "code",
   "execution_count": 7,
   "metadata": {},
   "outputs": [
    {
     "name": "stdout",
     "output_type": "stream",
     "text": [
      "../SPANet2/data/triHiggs/triHiggs_4b_PT40_3h_train.h5\n",
      "Dataset size: 280788\n",
      "Number of 0 Higgs events: 0\n",
      "Number of 1 Higgs events: 0\n",
      "Number of 2 Higgs events: 0\n",
      "Number of 3 Higgs events: 280788\n",
      "\\item Total sample size: 280,788\n",
      "\\item 1h sample size: 0\n",
      "\\item 2h sample size: 0\n",
      "\\item 3h sample size: 280,788\n",
      "Number of 6 b events: 76506\n",
      "../SPANet2/data/triHiggs/triHiggs_6b_PT40_3h_train.h5\n",
      "Dataset size: 76506\n",
      "Number of 0 Higgs events: 0\n",
      "Number of 1 Higgs events: 0\n",
      "Number of 2 Higgs events: 0\n",
      "Number of 3 Higgs events: 76506\n",
      "\\item Total sample size: 76,506\n",
      "\\item 1h sample size: 0\n",
      "\\item 2h sample size: 0\n",
      "\\item 3h sample size: 76,506\n"
     ]
    },
    {
     "data": {
      "text/plain": [
       "{'total': 76506, '0h': 0, '1h': 0, '2h': 0, '3h': 76506}"
      ]
     },
     "execution_count": 7,
     "metadata": {},
     "output_type": "execute_result"
    }
   ],
   "source": [
    "file_path = '../SPANet2/data/triHiggs/triHiggs_4b_PT40_3h_train.h5'\n",
    "print_triHiggs_h5_info(file_path)\n",
    "\n",
    "output_file = '../SPANet2/data/triHiggs/triHiggs_6b_PT40_3h_train.h5'\n",
    "six_b_file = select_6b_event(file_path, output_file)\n",
    "print_triHiggs_h5_info(six_b_file)"
   ]
  },
  {
   "cell_type": "code",
   "execution_count": 3,
   "metadata": {},
   "outputs": [
    {
     "name": "stdout",
     "output_type": "stream",
     "text": [
      "./Sample/SPANet/gghhh_4b_PT40_new.h5\n",
      "Dataset size: 32337\n",
      "Number of 0 Higgs events: 2111\n",
      "Number of 1 Higgs events: 8941\n",
      "Number of 2 Higgs events: 11341\n",
      "Number of 3 Higgs events: 9944\n",
      "\\item Total sample size: 32,337\n",
      "\\item 1h sample size: 8,941\n",
      "\\item 2h sample size: 11,341\n",
      "\\item 3h sample size: 9,944\n",
      "Number of 3 Higgs events: 9944\n",
      "./Sample/SPANet/gghhh_4b_PT40_3h_new.h5\n",
      "Dataset size: 9944\n",
      "Number of 0 Higgs events: 0\n",
      "Number of 1 Higgs events: 0\n",
      "Number of 2 Higgs events: 0\n",
      "Number of 3 Higgs events: 9944\n",
      "\\item Total sample size: 9,944\n",
      "\\item 1h sample size: 0\n",
      "\\item 2h sample size: 0\n",
      "\\item 3h sample size: 9,944\n"
     ]
    },
    {
     "data": {
      "text/plain": [
       "{'total': 9944, '0h': 0, '1h': 0, '2h': 0, '3h': 9944}"
      ]
     },
     "execution_count": 3,
     "metadata": {},
     "output_type": "execute_result"
    }
   ],
   "source": [
    "file_path = './Sample/SPANet/gghhh_4b_PT40_new.h5'\n",
    "print_triHiggs_h5_info(file_path)\n",
    "\n",
    "output_file = './Sample/SPANet/gghhh_4b_PT40_3h_new.h5'\n",
    "triHiggs_file = select_3h_event(file_path, output_file)\n",
    "print_triHiggs_h5_info(triHiggs_file)"
   ]
  },
  {
   "cell_type": "markdown",
   "metadata": {},
   "source": [
    "## classification"
   ]
  },
  {
   "cell_type": "code",
   "execution_count": 5,
   "metadata": {},
   "outputs": [
    {
     "name": "stdout",
     "output_type": "stream",
     "text": [
      "Sample/SPANet/gghhh_4b.h5\n",
      "Dataset size: 3653696\n",
      "Number of 0 Higgs events: 223197\n",
      "Number of 1 Higgs events: 998906\n",
      "Number of 2 Higgs events: 1290603\n",
      "Number of 3 Higgs events: 1140990\n",
      "\\item Total sample size: 3,653,696\n",
      "\\item 1h sample size: 998,906\n",
      "\\item 2h sample size: 1,290,603\n",
      "\\item 3h sample size: 1,140,990\n"
     ]
    },
    {
     "data": {
      "text/plain": [
       "{'total': 3653696, '0h': 223197, '1h': 998906, '2h': 1290603, '3h': 1140990}"
      ]
     },
     "execution_count": 5,
     "metadata": {},
     "output_type": "execute_result"
    }
   ],
   "source": [
    "file_path = 'Sample/SPANet/gghhh_4b.h5'\n",
    "print_triHiggs_h5_info(file_path)"
   ]
  },
  {
   "cell_type": "code",
   "execution_count": 6,
   "metadata": {},
   "outputs": [
    {
     "name": "stdout",
     "output_type": "stream",
     "text": [
      "Size of Sample/SPANet/gghhh_4b.h5: 3653696\n",
      "Size of Sample/SPANet/gghhh_4b_split1.h5: 500000\n",
      "Size of Sample/SPANet/gghhh_4b_split2.h5: 3153696\n"
     ]
    }
   ],
   "source": [
    "file_path = 'Sample/SPANet/gghhh_4b.h5'\n",
    "size = 500000\n",
    "utils.split_h5_size(file_path, size)\n",
    "\n",
    "root, ext = os.path.splitext(file_path)\n",
    "split_file1 = root + '_split1' + ext\n",
    "split_file2 = root + '_split2' + ext\n",
    "\n",
    "os.rename(split_file1, './Sample/SPANet/gghhh_4b_PT40.h5')\n",
    "os.remove(split_file2)"
   ]
  },
  {
   "cell_type": "code",
   "execution_count": 7,
   "metadata": {},
   "outputs": [
    {
     "name": "stdout",
     "output_type": "stream",
     "text": [
      "Size of Sample/SPANet/gghhh_4b_PT40.h5: 500000\n",
      "Size of Sample/SPANet/gghhh_4b_PT40_split1.h5: 450000\n",
      "Size of Sample/SPANet/gghhh_4b_PT40_split2.h5: 50000\n"
     ]
    }
   ],
   "source": [
    "file_path = 'Sample/SPANet/gghhh_4b_PT40.h5'\n",
    "r = 0.9\n",
    "utils.split_h5_file(file_path, r)\n",
    "\n",
    "root, ext = os.path.splitext(file_path)\n",
    "split_file1 = root + '_split1' + ext\n",
    "split_file2 = root + '_split2' + ext\n",
    "\n",
    "os.rename(split_file1, './Sample/SPANet/gghhh_4b_PT40_train.h5')\n",
    "os.rename(split_file2, './Sample/SPANet/gghhh_4b_PT40_test.h5')"
   ]
  },
  {
   "cell_type": "code",
   "execution_count": 8,
   "metadata": {},
   "outputs": [
    {
     "name": "stdout",
     "output_type": "stream",
     "text": [
      "Size of ./Sample/SPANet/pp6b_4b.h5: 790372\n",
      "Size of ./Sample/SPANet/pp6b_4b_split1.h5: 500000\n",
      "Size of ./Sample/SPANet/pp6b_4b_split2.h5: 290372\n"
     ]
    }
   ],
   "source": [
    "file_path = './Sample/SPANet/pp6b_4b.h5'\n",
    "size = 500000\n",
    "utils.split_h5_size(file_path, size)\n",
    "\n",
    "root, ext = os.path.splitext(file_path)\n",
    "split_file1 = root + '_split1' + ext\n",
    "split_file2 = root + '_split2' + ext\n",
    "\n",
    "os.rename(split_file1, './Sample/SPANet/pp6b_4b_PT40.h5')\n",
    "os.remove(split_file2)"
   ]
  },
  {
   "cell_type": "code",
   "execution_count": 9,
   "metadata": {},
   "outputs": [
    {
     "name": "stdout",
     "output_type": "stream",
     "text": [
      "Size of ./Sample/SPANet/pp6b_4b_PT40.h5: 500000\n",
      "Size of ./Sample/SPANet/pp6b_4b_PT40_split1.h5: 450000\n",
      "Size of ./Sample/SPANet/pp6b_4b_PT40_split2.h5: 50000\n"
     ]
    }
   ],
   "source": [
    "file_path = './Sample/SPANet/pp6b_4b_PT40.h5'\n",
    "r = 0.9\n",
    "utils.split_h5_file(file_path, r)\n",
    "\n",
    "root, ext = os.path.splitext(file_path)\n",
    "split_file1 = root + '_split1' + ext\n",
    "split_file2 = root + '_split2' + ext\n",
    "\n",
    "os.rename(split_file1, './Sample/SPANet/pp6b_4b_PT40_train.h5')\n",
    "os.rename(split_file2, './Sample/SPANet/pp6b_4b_PT40_test.h5')\n"
   ]
  },
  {
   "cell_type": "code",
   "execution_count": 10,
   "metadata": {},
   "outputs": [
    {
     "name": "stdout",
     "output_type": "stream",
     "text": [
      "'./Sample/SPANet/gghhh_4b_PT40_train.h5' and ('./Sample/SPANet/pp6b_4b_PT40_train.h5',) are same structure, can be merged.\n",
      "./Sample/SPANet/gghhh_4b_PT40_train_merged.h5 not exist. Copy ./Sample/SPANet/gghhh_4b_PT40_train.h5 to ./Sample/SPANet/gghhh_4b_PT40_train_merged.h5\n",
      "Size of ./Sample/SPANet/gghhh_4b_PT40_train.h5: 450000\n",
      "Size of ./Sample/SPANet/pp6b_4b_PT40_train.h5: 450000\n",
      "Size of ./Sample/SPANet/gghhh_4b_PT40_train_merged.h5: 900000\n",
      "'./Sample/SPANet/gghhh_4b_PT40_test.h5' and ('./Sample/SPANet/pp6b_4b_PT40_test.h5',) are same structure, can be merged.\n",
      "./Sample/SPANet/gghhh_4b_PT40_test_merged.h5 not exist. Copy ./Sample/SPANet/gghhh_4b_PT40_test.h5 to ./Sample/SPANet/gghhh_4b_PT40_test_merged.h5\n",
      "Size of ./Sample/SPANet/gghhh_4b_PT40_test.h5: 50000\n",
      "Size of ./Sample/SPANet/pp6b_4b_PT40_test.h5: 50000\n",
      "Size of ./Sample/SPANet/gghhh_4b_PT40_test_merged.h5: 100000\n"
     ]
    }
   ],
   "source": [
    "files = ['./Sample/SPANet/gghhh_4b_PT40_train.h5', \n",
    "         './Sample/SPANet/pp6b_4b_PT40_train.h5']\n",
    "\n",
    "merged_h5 = utils.merge_h5_file(*files)\n",
    "\n",
    "new_file = 'Sample/SPANet/triHiggs_4b_PT40_train.h5'\n",
    "\n",
    "os.rename(merged_h5, new_file)\n",
    "\n",
    "files = ['./Sample/SPANet/gghhh_4b_PT40_test.h5', \n",
    "         './Sample/SPANet/pp6b_4b_PT40_test.h5']\n",
    "\n",
    "merged_h5 = utils.merge_h5_file(*files)\n",
    "\n",
    "new_file = 'Sample/SPANet/triHiggs_4b_PT40_test.h5'\n",
    "\n",
    "os.rename(merged_h5, new_file)"
   ]
  },
  {
   "cell_type": "code",
   "execution_count": 11,
   "metadata": {},
   "outputs": [
    {
     "name": "stdout",
     "output_type": "stream",
     "text": [
      "Dataset size: 900000\n",
      "Dataset size: 100000\n"
     ]
    }
   ],
   "source": [
    "utils.shuffle_h5('Sample/SPANet/triHiggs_4b_PT40_train.h5')\n",
    "utils.shuffle_h5('Sample/SPANet/triHiggs_4b_PT40_test.h5')"
   ]
  },
  {
   "cell_type": "markdown",
   "metadata": {},
   "source": [
    "# Prepare training and testing datasets in the $6b$ region "
   ]
  },
  {
   "cell_type": "code",
   "execution_count": 6,
   "metadata": {},
   "outputs": [
    {
     "name": "stdout",
     "output_type": "stream",
     "text": [
      "Size of Sample/SPANet/gghhh_6b.h5: 486694\n",
      "Size of Sample/SPANet/gghhh_6b_split1.h5: 400000\n",
      "Size of Sample/SPANet/gghhh_6b_split2.h5: 86694\n"
     ]
    }
   ],
   "source": [
    "file_path = 'Sample/SPANet/gghhh_6b.h5'\n",
    "size = 400000\n",
    "utils.split_h5_size(file_path, size)\n",
    "\n",
    "root, ext = os.path.splitext(file_path)\n",
    "split_file1 = root + '_split1' + ext\n",
    "split_file2 = root + '_split2' + ext\n",
    "\n",
    "os.rename(split_file1, './Sample/SPANet/gghhh_6b_PT40.h5')\n",
    "os.rename(split_file2, './Sample/SPANet/gghhh_6b_PT40_DNN.h5')"
   ]
  },
  {
   "cell_type": "code",
   "execution_count": 5,
   "metadata": {},
   "outputs": [
    {
     "name": "stdout",
     "output_type": "stream",
     "text": [
      "Size of ./Sample/SPANet/gghhh_6b_PT40.h5: 400000\n",
      "Size of ./Sample/SPANet/gghhh_6b_PT40_split1.h5: 360000\n",
      "Size of ./Sample/SPANet/gghhh_6b_PT40_split2.h5: 40000\n"
     ]
    }
   ],
   "source": [
    "file_path = './Sample/SPANet/gghhh_6b_PT40.h5'\n",
    "r = 0.9\n",
    "utils.split_h5_file(file_path, r)\n",
    "\n",
    "root, ext = os.path.splitext(file_path)\n",
    "split_file1 = root + '_split1' + ext\n",
    "split_file2 = root + '_split2' + ext\n",
    "\n",
    "os.rename(split_file1, './Sample/SPANet/gghhh_6b_PT40_train.h5')\n",
    "os.rename(split_file2, './Sample/SPANet/gghhh_6b_PT40_test.h5')"
   ]
  },
  {
   "cell_type": "code",
   "execution_count": 8,
   "metadata": {},
   "outputs": [
    {
     "name": "stdout",
     "output_type": "stream",
     "text": [
      "./Sample/SPANet/gghhh_6b_PT40_train.h5\n",
      "Dataset size: 360000\n",
      "Number of 0 Higgs events: 4607\n",
      "Number of 1 Higgs events: 38595\n",
      "Number of 2 Higgs events: 73036\n",
      "Number of 3 Higgs events: 243762\n",
      "\\item Total sample size: 360,000\n",
      "\\item 1h sample size: 38,595\n",
      "\\item 2h sample size: 73,036\n",
      "\\item 3h sample size: 243,762\n",
      "Number of 3 Higgs events: 243762\n",
      "./Sample/SPANet/gghhh_6b_PT40_3h_train.h5\n",
      "Dataset size: 243762\n",
      "Number of 0 Higgs events: 0\n",
      "Number of 1 Higgs events: 0\n",
      "Number of 2 Higgs events: 0\n",
      "Number of 3 Higgs events: 243762\n",
      "\\item Total sample size: 243,762\n",
      "\\item 1h sample size: 0\n",
      "\\item 2h sample size: 0\n",
      "\\item 3h sample size: 243,762\n"
     ]
    },
    {
     "data": {
      "text/plain": [
       "{'total': 243762, '0h': 0, '1h': 0, '2h': 0, '3h': 243762}"
      ]
     },
     "execution_count": 8,
     "metadata": {},
     "output_type": "execute_result"
    }
   ],
   "source": [
    "file_path = './Sample/SPANet/gghhh_6b_PT40_train.h5'\n",
    "print_triHiggs_h5_info(file_path)\n",
    "\n",
    "output_file = './Sample/SPANet/gghhh_6b_PT40_3h_train.h5'\n",
    "triHiggs_file = select_3h_event(file_path, output_file)\n",
    "print_triHiggs_h5_info(triHiggs_file)"
   ]
  },
  {
   "cell_type": "code",
   "execution_count": 9,
   "metadata": {},
   "outputs": [
    {
     "name": "stdout",
     "output_type": "stream",
     "text": [
      "./Sample/SPANet/gghhh_6b_PT40_test.h5\n",
      "Dataset size: 40000\n",
      "Number of 0 Higgs events: 483\n",
      "Number of 1 Higgs events: 4360\n",
      "Number of 2 Higgs events: 8070\n",
      "Number of 3 Higgs events: 27087\n",
      "\\item Total sample size: 40,000\n",
      "\\item 1h sample size: 4,360\n",
      "\\item 2h sample size: 8,070\n",
      "\\item 3h sample size: 27,087\n",
      "Number of 3 Higgs events: 27087\n",
      "./Sample/SPANet/gghhh_6b_PT40_3h_test.h5\n",
      "Dataset size: 27087\n",
      "Number of 0 Higgs events: 0\n",
      "Number of 1 Higgs events: 0\n",
      "Number of 2 Higgs events: 0\n",
      "Number of 3 Higgs events: 27087\n",
      "\\item Total sample size: 27,087\n",
      "\\item 1h sample size: 0\n",
      "\\item 2h sample size: 0\n",
      "\\item 3h sample size: 27,087\n"
     ]
    },
    {
     "data": {
      "text/plain": [
       "{'total': 27087, '0h': 0, '1h': 0, '2h': 0, '3h': 27087}"
      ]
     },
     "execution_count": 9,
     "metadata": {},
     "output_type": "execute_result"
    }
   ],
   "source": [
    "file_path = './Sample/SPANet/gghhh_6b_PT40_test.h5'\n",
    "print_triHiggs_h5_info(file_path)\n",
    "\n",
    "output_file = './Sample/SPANet/gghhh_6b_PT40_3h_test.h5'\n",
    "triHiggs_file = select_3h_event(file_path, output_file)\n",
    "print_triHiggs_h5_info(triHiggs_file)"
   ]
  }
 ],
 "metadata": {
  "kernelspec": {
   "display_name": "jupyter",
   "language": "python",
   "name": "python3"
  },
  "language_info": {
   "codemirror_mode": {
    "name": "ipython",
    "version": 3
   },
   "file_extension": ".py",
   "mimetype": "text/x-python",
   "name": "python",
   "nbconvert_exporter": "python",
   "pygments_lexer": "ipython3",
   "version": "3.8.16"
  }
 },
 "nbformat": 4,
 "nbformat_minor": 2
}
