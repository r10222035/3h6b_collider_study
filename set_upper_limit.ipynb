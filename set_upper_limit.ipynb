{
 "cells": [
  {
   "cell_type": "code",
   "execution_count": 1,
   "id": "0614768b",
   "metadata": {},
   "outputs": [],
   "source": [
    "import os\n",
    "import pyhf\n",
    "import matplotlib.pyplot as plt\n",
    "import numpy as np\n",
    "import pandas as pd\n",
    "from tqdm import tqdm\n",
    "from scipy import interpolate"
   ]
  },
  {
   "cell_type": "markdown",
   "id": "19560532",
   "metadata": {},
   "source": [
    "## CLs method"
   ]
  },
  {
   "cell_type": "code",
   "execution_count": 2,
   "id": "99a8837c",
   "metadata": {},
   "outputs": [],
   "source": [
    "def get_upperlimit_info(bkg_path, sig_path, n_bin=20, hist_range=[0, 1], L=139):\n",
    "    # Background    \n",
    "    # results after selection\n",
    "    results_b = np.load(bkg_path, allow_pickle=True)\n",
    "    N_bkg, _ = np.histogram(results_b, bins=n_bin, range=hist_range, weights=np.ones_like(results_b) / len(results_b))\n",
    "    \n",
    "\n",
    "    masses, exp_lims, xections = [], [], []      \n",
    "\n",
    "    results_s = np.load(sig_path, allow_pickle=True)\n",
    "    xections.append(results_s[0])\n",
    "\n",
    "    masses.append(results_s[2])       \n",
    "    N_sig, _ = np.histogram(results_s, bins=n_bin, range=hist_range, weights=np.ones_like(results_s) / len(results_s))\n",
    "    \n",
    "    \n",
    "    model = pyhf.simplemodels.uncorrelated_background(\n",
    "        signal=list(N_sig), bkg=list(N_bkg), bkg_uncertainty=[0]*n_bin\n",
    "    )\n",
    "\n",
    "    poi_values = np.linspace(0.5, 10, 100)\n",
    "    obs_limit, exp_limits, (scan, results) = pyhf.infer.intervals.upper_limits.upper_limit(\n",
    "        list(N_bkg) + model.config.auxdata, model, poi_values, level=0.05, return_results=True\n",
    "    )\n",
    "    exp_lims.append(exp_limits)\n",
    "        \n",
    "    results = {\n",
    "        # 'mass': masses,\n",
    "        'Expected limits': exp_lims,\n",
    "        # 'Cross sections': xections,\n",
    "    }\n",
    "    \n",
    "    return results"
   ]
  },
  {
   "cell_type": "code",
   "execution_count": 3,
   "id": "8cad3c94",
   "metadata": {},
   "outputs": [],
   "source": [
    "n_bin = 50\n",
    "hist_range = [0, 1]\n",
    "L = 300"
   ]
  },
  {
   "cell_type": "markdown",
   "id": "8e4f88b8",
   "metadata": {},
   "source": [
    "# DNN selection"
   ]
  },
  {
   "cell_type": "markdown",
   "id": "cfc9903b",
   "metadata": {},
   "source": [
    "## $\\chi^2$ pairing"
   ]
  },
  {
   "cell_type": "code",
   "execution_count": 4,
   "id": "d31ff9b2",
   "metadata": {},
   "outputs": [
    {
     "data": {
      "text/plain": [
       "{'Expected limits': [[array(0.88281772),\n",
       "   array(1.44008888),\n",
       "   array(2.52888665),\n",
       "   array(4.54671009),\n",
       "   array(7.75798338)]]}"
      ]
     },
     "execution_count": 4,
     "metadata": {},
     "output_type": "execute_result"
    }
   ],
   "source": [
    "bkg_path = f'./Upper_limit/DNN_selection/chi2_pairing/bkg.npy'\n",
    "sig_path = f'./Upper_limit/DNN_selection/chi2_pairing/sig.npy'\n",
    "\n",
    "get_upperlimit_info(bkg_path, sig_path, n_bin, hist_range, L)"
   ]
  },
  {
   "cell_type": "markdown",
   "id": "b479bd8f",
   "metadata": {},
   "source": [
    "## Absolute value pairing"
   ]
  },
  {
   "cell_type": "code",
   "execution_count": 5,
   "id": "861488f4",
   "metadata": {},
   "outputs": [
    {
     "data": {
      "text/plain": [
       "{'Expected limits': [[array(0.88352139),\n",
       "   array(1.44094044),\n",
       "   array(2.52970069),\n",
       "   array(4.5466807),\n",
       "   array(7.75616891)]]}"
      ]
     },
     "execution_count": 5,
     "metadata": {},
     "output_type": "execute_result"
    }
   ],
   "source": [
    "bkg_path = f'./Upper_limit/DNN_selection/abs_pairing/bkg.npy'\n",
    "sig_path = f'./Upper_limit/DNN_selection/abs_pairing/sig.npy'\n",
    "\n",
    "get_upperlimit_info(bkg_path, sig_path, n_bin, hist_range, L)"
   ]
  },
  {
   "cell_type": "markdown",
   "id": "f23a3555",
   "metadata": {},
   "source": [
    "## SPANet pairing"
   ]
  },
  {
   "cell_type": "code",
   "execution_count": 6,
   "id": "ba6fff85",
   "metadata": {},
   "outputs": [
    {
     "data": {
      "text/plain": [
       "{'Expected limits': [[array(0.88672512),\n",
       "   array(1.44196782),\n",
       "   array(2.52614166),\n",
       "   array(4.53499814),\n",
       "   array(7.73483792)]]}"
      ]
     },
     "execution_count": 6,
     "metadata": {},
     "output_type": "execute_result"
    }
   ],
   "source": [
    "bkg_path = f'./Upper_limit/DNN_selection/4b_SPANet_pairing/bkg.npy'\n",
    "sig_path = f'./Upper_limit/DNN_selection/4b_SPANet_pairing/sig.npy'\n",
    "\n",
    "get_upperlimit_info(bkg_path, sig_path, n_bin, hist_range, L)"
   ]
  },
  {
   "cell_type": "markdown",
   "metadata": {},
   "source": [
    "# SPANet selection"
   ]
  },
  {
   "cell_type": "code",
   "execution_count": 7,
   "metadata": {},
   "outputs": [
    {
     "data": {
      "text/plain": [
       "{'Expected limits': [[array(0.69298096),\n",
       "   array(1.1877392),\n",
       "   array(2.18511902),\n",
       "   array(4.0796073),\n",
       "   array(7.15293214)]]}"
      ]
     },
     "execution_count": 7,
     "metadata": {},
     "output_type": "execute_result"
    }
   ],
   "source": [
    "bkg_path = f'./Upper_limit/SPANet_selection/bkg.npy'\n",
    "sig_path = f'./Upper_limit/SPANet_selection/sig.npy'\n",
    "\n",
    "get_upperlimit_info(bkg_path, sig_path, n_bin, hist_range, L)"
   ]
  }
 ],
 "metadata": {
  "kernelspec": {
   "display_name": "Python 3 (ipykernel)",
   "language": "python",
   "name": "python3"
  },
  "language_info": {
   "codemirror_mode": {
    "name": "ipython",
    "version": 3
   },
   "file_extension": ".py",
   "mimetype": "text/x-python",
   "name": "python",
   "nbconvert_exporter": "python",
   "pygments_lexer": "ipython3",
   "version": "3.8.16"
  }
 },
 "nbformat": 4,
 "nbformat_minor": 5
}
