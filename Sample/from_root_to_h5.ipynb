{
 "cells": [
  {
   "cell_type": "code",
   "execution_count": 1,
   "metadata": {},
   "outputs": [
    {
     "name": "stdout",
     "output_type": "stream",
     "text": [
      "Welcome to JupyROOT 6.20/08\n"
     ]
    }
   ],
   "source": [
    "import sys\n",
    "import h5py\n",
    "import ROOT\n",
    "\n",
    "import numpy as np\n",
    "import multiprocessing as mp\n",
    "\n",
    "from tqdm import tqdm\n",
    "from itertools import repeat\n",
    "\n",
    "sys.path.append('..')\n",
    "import utils_HDF5 as utils\n",
    "\n",
    "delphes_path = '/usr/local/Delphes-3.4.2'\n",
    "ROOT.gROOT.ProcessLine(f'.include {delphes_path}/')\n",
    "ROOT.gROOT.ProcessLine(f'.include {delphes_path}/external/')\n",
    "ROOT.gInterpreter.Declare(f'#include \"{delphes_path}/classes/DelphesClasses.h\"')\n",
    "ROOT.gInterpreter.Declare(f'#include \"{delphes_path}/external/ExRootAnalysis/ExRootTreeReader.h\"')\n",
    "ROOT.gInterpreter.Declare(f'#include \"{delphes_path}/external/ExRootAnalysis/ExRootConfReader.h\"')\n",
    "ROOT.gInterpreter.Declare(f'#include \"{delphes_path}/external/ExRootAnalysis/ExRootTask.h\"')\n",
    "ROOT.gSystem.Load(f'{delphes_path}/install/lib/libDelphes')\n",
    "\n",
    "MAX_JETS = 15\n",
    "N_CORES = 64"
   ]
  },
  {
   "cell_type": "code",
   "execution_count": 2,
   "metadata": {},
   "outputs": [],
   "source": [
    "def DeltaR(eta1, phi1, eta2, phi2):\n",
    "    dEta = eta1 - eta2\n",
    "    dPhi = np.abs(phi1 - phi2)\n",
    "    \n",
    "    # if dPhi > np.pi:\n",
    "    #     dPhi = 2 * np.pi - dPhi\n",
    "\n",
    "    dPhi = np.where(dPhi > np.pi, 2 * np.pi - dPhi, dPhi)\n",
    "\n",
    "    dR = np.sqrt(dPhi**2 + dEta**2)\n",
    "    return dR\n",
    "\n",
    "\n",
    "def create_triHiggs_dataset(f, nevent, MAX_JETS):\n",
    "    # with b-tagging information\n",
    "    f.create_dataset('INPUTS/Source/MASK', (nevent, MAX_JETS), maxshape=(None, MAX_JETS), dtype='|b1')\n",
    "    f.create_dataset('INPUTS/Source/pt', (nevent, MAX_JETS), maxshape=(None, MAX_JETS), dtype='<f4')\n",
    "    f.create_dataset('INPUTS/Source/eta', (nevent, MAX_JETS), maxshape=(None, MAX_JETS), dtype='<f4')\n",
    "    f.create_dataset('INPUTS/Source/phi', (nevent, MAX_JETS), maxshape=(None, MAX_JETS), dtype='<f4')\n",
    "    f.create_dataset('INPUTS/Source/mass', (nevent, MAX_JETS), maxshape=(None, MAX_JETS), dtype='<f4')\n",
    "    f.create_dataset('INPUTS/Source/btag', (nevent, MAX_JETS), maxshape=(None, MAX_JETS), dtype='|b1')\n",
    "\n",
    "    f.create_dataset('TARGETS/h1/b1', (nevent,), maxshape=(None,), dtype='<i8')\n",
    "    f.create_dataset('TARGETS/h1/b2', (nevent,), maxshape=(None,), dtype='<i8')\n",
    "    f.create_dataset('TARGETS/h2/b1', (nevent,), maxshape=(None,), dtype='<i8')\n",
    "    f.create_dataset('TARGETS/h2/b2', (nevent,), maxshape=(None,), dtype='<i8')\n",
    "    f.create_dataset('TARGETS/h3/b1', (nevent,), maxshape=(None,), dtype='<i8')\n",
    "    f.create_dataset('TARGETS/h3/b2', (nevent,), maxshape=(None,), dtype='<i8')\n",
    "\n",
    "    f.create_dataset('CLASSIFICATIONS/EVENT/signal', (nevent,), maxshape=(None,), dtype='<i8')\n",
    "\n",
    "\n",
    "def write_dataset(file, data: list):\n",
    "    nevent = len(data)\n",
    "\n",
    "    for key in data[0].keys():\n",
    "        # Resize\n",
    "        shape = list(file[key].shape)\n",
    "        shape[0] = nevent\n",
    "        file[key].resize(shape)\n",
    "        # Write\n",
    "        value = np.array([data_dict[key] for data_dict in data])\n",
    "        file[key][:] = value"
   ]
  },
  {
   "cell_type": "code",
   "execution_count": 3,
   "metadata": {},
   "outputs": [],
   "source": [
    "def print_cutflow_table(counts):\n",
    "    n_tot = counts['total']\n",
    "    n_previous = counts['total']\n",
    "    print(f\"{'Cut':<26} {'n':8} {'efficiency':8} {'passing rate':8}\")\n",
    "    for key, value in counts.items():\n",
    "        print(f'{key:<26} {value:8} {value / n_previous:8.2f} {value/n_tot:8.2f}')\n",
    "        n_previous = value"
   ]
  },
  {
   "cell_type": "code",
   "execution_count": 4,
   "metadata": {
    "metadata": {}
   },
   "outputs": [],
   "source": [
    "def select_event(root_path, nbj_min, start, end):\n",
    "    counts = {\n",
    "        'total': 0,\n",
    "        '>= 6 jets': 0,\n",
    "        '>= 4 jets with pT > 40 GeV': 0,\n",
    "        '>= 4 b-jets': 0,\n",
    "        '3 Higgs': 0,\n",
    "    }\n",
    "\n",
    "    f = ROOT.TFile(root_path)\n",
    "    tree = f.Get(\"Delphes\")\n",
    "\n",
    "    data_list = []\n",
    "    for i in tqdm(range(start, end)):\n",
    "        tree.GetEntry(i)\n",
    "\n",
    "        # 夸克資料\n",
    "        # b夸克 衰變前的編號\n",
    "        quarks_id = []\n",
    "        quarks_Eta = []\n",
    "        quarks_Phi = []\n",
    "        quarks_Jet = np.array([-1, -1, -1, -1, -1, -1])\n",
    "\n",
    "        # 找出 3 個 final Higgs\n",
    "        final_h_index = []\n",
    "        for index, particle in enumerate(tree.Particle):\n",
    "            if particle.PID == 25:\n",
    "                h = index\n",
    "                d1 = tree.Particle[h].D1\n",
    "                while tree.Particle[d1].PID == 25:\n",
    "                    h = d1\n",
    "                    d1 = tree.Particle[h].D1\n",
    "                final_h_index.append(h)\n",
    "\n",
    "        final_h_index = list(set(final_h_index))\n",
    "\n",
    "        # 找出 6 個 final b quark\n",
    "        for h in final_h_index:\n",
    "            # h > b b~\n",
    "            b1 = tree.Particle[h].D1\n",
    "            b2 = tree.Particle[h].D2\n",
    "\n",
    "            # 找出 b 衰變前的編號\n",
    "            d1 = tree.Particle[b1].D1\n",
    "            while abs(tree.Particle[d1].PID) == 5:\n",
    "                b1 = d1\n",
    "                d1 = tree.Particle[b1].D1\n",
    "\n",
    "            # 找出 b~ 衰變前的編號\n",
    "            d2 = tree.Particle[b2].D1\n",
    "            while abs(tree.Particle[d2].PID) == 5:\n",
    "                b2 = d2\n",
    "                d2 = tree.Particle[b2].D1\n",
    "\n",
    "            quarks_id.extend([b1, b2])\n",
    "\n",
    "        quarks_Eta.extend(tree.Particle[quark].Eta for quark in quarks_id)\n",
    "        quarks_Phi.extend(tree.Particle[quark].Phi for quark in quarks_id)\n",
    "\n",
    "        # 事件中的 jet 資料\n",
    "        jet_PT = np.array([jet.PT for jet in tree.Jet])\n",
    "        jet_Eta = np.array([jet.Eta for jet in tree.Jet])\n",
    "        jet_Phi = np.array([jet.Phi for jet in tree.Jet])\n",
    "        jet_Mass = np.array([jet.Mass for jet in tree.Jet])\n",
    "        jet_BTag = np.array([jet.BTag for jet in tree.Jet])\n",
    "\n",
    "        # Jet 資料\n",
    "        # |eta| < 2.5 & PT > 20 GeV\n",
    "        eta_pt_cut = np.array((np.abs(jet_Eta) < 2.5) & (jet_PT > 20))\n",
    "        # |eta| < 2.5 & PT > 40 GeV\n",
    "        eta_pt40_cut = np.array((np.abs(jet_Eta) < 2.5) & (jet_PT > 40))\n",
    "\n",
    "        nj = eta_pt_cut.sum()\n",
    "\n",
    "        counts['total'] += 1\n",
    "        # 至少要 6 jet\n",
    "        if nj < 6:\n",
    "            continue\n",
    "        counts['>= 6 jets'] += 1\n",
    "        # 至少要 4 jet pT > 40 GeV\n",
    "        if eta_pt40_cut.sum() < 4:\n",
    "            continue\n",
    "        counts['>= 4 jets with pT > 40 GeV'] += 1\n",
    "        nbj = np.array(jet_BTag[eta_pt_cut][:MAX_JETS]).sum()\n",
    "        # 在前 MAX_JETS jets 中，至少要 nbj_min 個 b-jet\n",
    "        if nbj < nbj_min:\n",
    "            continue\n",
    "        counts['>= 4 b-jets'] += 1\n",
    "        PT = np.array(jet_PT[eta_pt_cut])\n",
    "        Eta = np.array(jet_Eta[eta_pt_cut])\n",
    "        Phi = np.array(jet_Phi[eta_pt_cut])\n",
    "        Mass = np.array(jet_Mass[eta_pt_cut])\n",
    "        BTag = np.array(jet_BTag[eta_pt_cut])\n",
    "\n",
    "        # 找出每個夸克配對的 jet\n",
    "        # more_than_1_jet = False\n",
    "        for quark in range(len(quarks_Jet)):\n",
    "            dR = DeltaR(quarks_Eta[quark], quarks_Phi[quark], Eta, Phi)\n",
    "            if dR.min() < 0.4:\n",
    "                quarks_Jet[quark] = np.argmin(dR)\n",
    "\n",
    "\n",
    "        quark_jet = quarks_Jet.reshape(1, 6)\n",
    "\n",
    "        h1_mask = utils.get_particle_mask(quark_jet, [0, 1])\n",
    "        h2_mask = utils.get_particle_mask(quark_jet, [2, 3])\n",
    "        h3_mask = utils.get_particle_mask(quark_jet, [4, 5])\n",
    "        if h1_mask and h2_mask and h3_mask:\n",
    "            counts['3 Higgs'] += 1\n",
    "        # 準備寫入資料\n",
    "        data_dict = {\n",
    "            'INPUTS/Source/MASK': np.arange(MAX_JETS) < nj,\n",
    "            'INPUTS/Source/pt': PT[:MAX_JETS] if nj > MAX_JETS else np.pad(PT, (0, MAX_JETS-nj)),\n",
    "            'INPUTS/Source/eta': Eta[:MAX_JETS] if nj > MAX_JETS else np.pad(Eta, (0, MAX_JETS-nj)),\n",
    "            'INPUTS/Source/phi': Phi[:MAX_JETS] if nj > MAX_JETS else np.pad(Phi, (0, MAX_JETS-nj)),\n",
    "            'INPUTS/Source/mass': Mass[:MAX_JETS] if nj > MAX_JETS else np.pad(Mass, (0, MAX_JETS-nj)),\n",
    "            'INPUTS/Source/btag': BTag[:MAX_JETS] if nj > MAX_JETS else np.pad(BTag, (0, MAX_JETS-nj)),\n",
    "\n",
    "            'TARGETS/h1/b1': quarks_Jet[0] if h1_mask else -1,\n",
    "            'TARGETS/h1/b2': quarks_Jet[1] if h1_mask else -1,\n",
    "            'TARGETS/h2/b1': quarks_Jet[2] if h2_mask else -1,\n",
    "            'TARGETS/h2/b2': quarks_Jet[3] if h2_mask else -1,\n",
    "            'TARGETS/h3/b1': quarks_Jet[4] if h3_mask else -1,\n",
    "            'TARGETS/h3/b2': quarks_Jet[5] if h3_mask else -1,\n",
    "\n",
    "            'CLASSIFICATIONS/EVENT/signal': 1,\n",
    "\n",
    "        }\n",
    "        data_list.append(data_dict)\n",
    "    print_cutflow_table(counts)\n",
    "    return data_list"
   ]
  },
  {
   "cell_type": "code",
   "execution_count": 5,
   "metadata": {},
   "outputs": [],
   "source": [
    "def from_root_to_h5(root_path, output_path, nbj_min=0):\n",
    "    # root_path: input root file path\n",
    "    # output_path: output h5 file path\n",
    "    # nbj_min: 最少要有幾個 b-jet\n",
    "\n",
    "    f = ROOT.TFile(root_path)\n",
    "    nevent = f.Get(\"Delphes\").GetEntries()\n",
    "    print(f'Number of events: {nevent}')\n",
    "\n",
    "    # Multi-core processing\n",
    "    print(f'Number of cores: {N_CORES}')\n",
    "    start = [nevent // N_CORES * i for i in range(N_CORES)]\n",
    "    end = [nevent // N_CORES * (i+1) for i in range(N_CORES)]\n",
    "    end[-1] = nevent\n",
    "\n",
    "    with mp.Pool(processes=N_CORES) as pool:\n",
    "        results = pool.starmap(select_event, zip(repeat(root_path), repeat(nbj_min), start, end))\n",
    "    data_list = [data_dict for result_list in results for data_dict in result_list]\n",
    "\n",
    "    # write to h5 file\n",
    "    with h5py.File(output_path, 'w') as f_out:\n",
    "        create_triHiggs_dataset(f_out, nevent, MAX_JETS)\n",
    "        write_dataset(f_out, data_list)"
   ]
  },
  {
   "cell_type": "code",
   "execution_count": 8,
   "metadata": {},
   "outputs": [],
   "source": [
    "def compute_cutflow_table(root_path, output_path, nbj_min=0):\n",
    "    f = ROOT.TFile(root_path)\n",
    "    nevent = f.Get(\"Delphes\").GetEntries()\n",
    "    print(f'Number of events: {nevent}')\n",
    "\n",
    "    start = 0\n",
    "    end = nevent\n",
    "\n",
    "    data_list = select_event(root_path, nbj_min, start, end)\n",
    "\n",
    "    # write to h5 file\n",
    "    with h5py.File(output_path, 'w') as f_out:\n",
    "        create_triHiggs_dataset(f_out, nevent, MAX_JETS)\n",
    "        write_dataset(f_out, data_list)"
   ]
  },
  {
   "cell_type": "code",
   "execution_count": null,
   "metadata": {},
   "outputs": [],
   "source": [
    "root_path = './MG5/gghhh_bsm/Events/run_01_decayed_1/tag_1_delphes_events.root'\n",
    "output_path = './SPANet/gghhh_0b_01.h5'\n",
    "nbj_min = 0\n",
    "\n",
    "from_root_to_h5(root_path, output_path, nbj_min=nbj_min)"
   ]
  },
  {
   "cell_type": "code",
   "execution_count": null,
   "metadata": {},
   "outputs": [],
   "source": [
    "root_path = './MG5/gghhh_bsm/Events/run_01_decayed_1/tag_2_delphes_events.root'\n",
    "output_path = './SPANet/gghhh_4b_PT40_new.h5'\n",
    "nbj_min = 4\n",
    "\n",
    "from_root_to_h5(root_path, output_path, nbj_min=nbj_min)"
   ]
  },
  {
   "cell_type": "code",
   "execution_count": 9,
   "metadata": {},
   "outputs": [
    {
     "name": "stdout",
     "output_type": "stream",
     "text": [
      "Number of events: 100000\n"
     ]
    },
    {
     "name": "stderr",
     "output_type": "stream",
     "text": [
      "100%|██████████| 100000/100000 [10:41<00:00, 155.96it/s]\n"
     ]
    },
    {
     "name": "stdout",
     "output_type": "stream",
     "text": [
      "Cut                        n        efficiency passing rate\n",
      "total                        100000     1.00     1.00\n",
      ">= 6 jets                     61454     0.61     0.61\n",
      ">= 4 jets with pT > 40 GeV    50341     0.82     0.50\n",
      ">= 4 b-jets                   32337     0.64     0.32\n",
      "3 Higgs                        9944     0.31     0.10\n"
     ]
    }
   ],
   "source": [
    "root_path = './MG5/gghhh_bsm/Events/run_01_decayed_1/tag_2_delphes_events.root'\n",
    "output_path = './SPANet/gghhh_4b_PT40_new.h5'\n",
    "nbj_min = 4\n",
    "\n",
    "compute_cutflow_table(root_path, output_path, nbj_min=nbj_min)"
   ]
  },
  {
   "cell_type": "code",
   "execution_count": 35,
   "metadata": {},
   "outputs": [
    {
     "name": "stdout",
     "output_type": "stream",
     "text": [
      "Number of events: 100000\n",
      "Number of cores: 64\n"
     ]
    },
    {
     "name": "stderr",
     "output_type": "stream",
     "text": [
      "  5%|▌         | 541/10000 [00:03<00:59, 159.44it/s]"
     ]
    },
    {
     "ename": "KeyboardInterrupt",
     "evalue": "",
     "output_type": "error",
     "traceback": [
      "\u001b[0;31m---------------------------------------------------------------------------\u001b[0m",
      "\u001b[0;31mKeyboardInterrupt\u001b[0m                         Traceback (most recent call last)",
      "Cell \u001b[0;32mIn[35], line 5\u001b[0m\n\u001b[1;32m      2\u001b[0m output_path \u001b[38;5;241m=\u001b[39m \u001b[38;5;124m'\u001b[39m\u001b[38;5;124m./SPANet/gghhh_4b_PT40_new.h5\u001b[39m\u001b[38;5;124m'\u001b[39m\n\u001b[1;32m      3\u001b[0m nbj_min \u001b[38;5;241m=\u001b[39m \u001b[38;5;241m4\u001b[39m\n\u001b[0;32m----> 5\u001b[0m \u001b[43mfrom_root_to_h5\u001b[49m\u001b[43m(\u001b[49m\u001b[43mroot_path\u001b[49m\u001b[43m,\u001b[49m\u001b[43m \u001b[49m\u001b[43moutput_path\u001b[49m\u001b[43m,\u001b[49m\u001b[43m \u001b[49m\u001b[43mnbj_min\u001b[49m\u001b[38;5;241;43m=\u001b[39;49m\u001b[43mnbj_min\u001b[49m\u001b[43m)\u001b[49m\n",
      "Cell \u001b[0;32mIn[4], line 20\u001b[0m, in \u001b[0;36mfrom_root_to_h5\u001b[0;34m(root_path, output_path, nbj_min)\u001b[0m\n\u001b[1;32m     17\u001b[0m end \u001b[38;5;241m=\u001b[39m [\u001b[38;5;241m10000\u001b[39m]\n\u001b[1;32m     19\u001b[0m \u001b[38;5;28;01mwith\u001b[39;00m mp\u001b[38;5;241m.\u001b[39mPool(processes\u001b[38;5;241m=\u001b[39mN_CORES) \u001b[38;5;28;01mas\u001b[39;00m pool:\n\u001b[0;32m---> 20\u001b[0m     results \u001b[38;5;241m=\u001b[39m \u001b[43mpool\u001b[49m\u001b[38;5;241;43m.\u001b[39;49m\u001b[43mstarmap\u001b[49m\u001b[43m(\u001b[49m\u001b[43mselect_event\u001b[49m\u001b[43m,\u001b[49m\u001b[43m \u001b[49m\u001b[38;5;28;43mzip\u001b[39;49m\u001b[43m(\u001b[49m\u001b[43mrepeat\u001b[49m\u001b[43m(\u001b[49m\u001b[43mroot_path\u001b[49m\u001b[43m)\u001b[49m\u001b[43m,\u001b[49m\u001b[43m \u001b[49m\u001b[43mrepeat\u001b[49m\u001b[43m(\u001b[49m\u001b[43mnbj_min\u001b[49m\u001b[43m)\u001b[49m\u001b[43m,\u001b[49m\u001b[43m \u001b[49m\u001b[43mstart\u001b[49m\u001b[43m,\u001b[49m\u001b[43m \u001b[49m\u001b[43mend\u001b[49m\u001b[43m)\u001b[49m\u001b[43m)\u001b[49m\n\u001b[1;32m     21\u001b[0m data_list \u001b[38;5;241m=\u001b[39m [data_dict \u001b[38;5;28;01mfor\u001b[39;00m result_list \u001b[38;5;129;01min\u001b[39;00m results \u001b[38;5;28;01mfor\u001b[39;00m data_dict \u001b[38;5;129;01min\u001b[39;00m result_list]\n\u001b[1;32m     23\u001b[0m \u001b[38;5;66;03m# write to h5 file\u001b[39;00m\n",
      "File \u001b[0;32m~/.conda/envs/jupyter/lib/python3.8/multiprocessing/pool.py:372\u001b[0m, in \u001b[0;36mPool.starmap\u001b[0;34m(self, func, iterable, chunksize)\u001b[0m\n\u001b[1;32m    366\u001b[0m \u001b[38;5;28;01mdef\u001b[39;00m \u001b[38;5;21mstarmap\u001b[39m(\u001b[38;5;28mself\u001b[39m, func, iterable, chunksize\u001b[38;5;241m=\u001b[39m\u001b[38;5;28;01mNone\u001b[39;00m):\n\u001b[1;32m    367\u001b[0m \u001b[38;5;250m    \u001b[39m\u001b[38;5;124;03m'''\u001b[39;00m\n\u001b[1;32m    368\u001b[0m \u001b[38;5;124;03m    Like `map()` method but the elements of the `iterable` are expected to\u001b[39;00m\n\u001b[1;32m    369\u001b[0m \u001b[38;5;124;03m    be iterables as well and will be unpacked as arguments. Hence\u001b[39;00m\n\u001b[1;32m    370\u001b[0m \u001b[38;5;124;03m    `func` and (a, b) becomes func(a, b).\u001b[39;00m\n\u001b[1;32m    371\u001b[0m \u001b[38;5;124;03m    '''\u001b[39;00m\n\u001b[0;32m--> 372\u001b[0m     \u001b[38;5;28;01mreturn\u001b[39;00m \u001b[38;5;28;43mself\u001b[39;49m\u001b[38;5;241;43m.\u001b[39;49m\u001b[43m_map_async\u001b[49m\u001b[43m(\u001b[49m\u001b[43mfunc\u001b[49m\u001b[43m,\u001b[49m\u001b[43m \u001b[49m\u001b[43miterable\u001b[49m\u001b[43m,\u001b[49m\u001b[43m \u001b[49m\u001b[43mstarmapstar\u001b[49m\u001b[43m,\u001b[49m\u001b[43m \u001b[49m\u001b[43mchunksize\u001b[49m\u001b[43m)\u001b[49m\u001b[38;5;241;43m.\u001b[39;49m\u001b[43mget\u001b[49m\u001b[43m(\u001b[49m\u001b[43m)\u001b[49m\n",
      "File \u001b[0;32m~/.conda/envs/jupyter/lib/python3.8/multiprocessing/pool.py:765\u001b[0m, in \u001b[0;36mApplyResult.get\u001b[0;34m(self, timeout)\u001b[0m\n\u001b[1;32m    764\u001b[0m \u001b[38;5;28;01mdef\u001b[39;00m \u001b[38;5;21mget\u001b[39m(\u001b[38;5;28mself\u001b[39m, timeout\u001b[38;5;241m=\u001b[39m\u001b[38;5;28;01mNone\u001b[39;00m):\n\u001b[0;32m--> 765\u001b[0m     \u001b[38;5;28;43mself\u001b[39;49m\u001b[38;5;241;43m.\u001b[39;49m\u001b[43mwait\u001b[49m\u001b[43m(\u001b[49m\u001b[43mtimeout\u001b[49m\u001b[43m)\u001b[49m\n\u001b[1;32m    766\u001b[0m     \u001b[38;5;28;01mif\u001b[39;00m \u001b[38;5;129;01mnot\u001b[39;00m \u001b[38;5;28mself\u001b[39m\u001b[38;5;241m.\u001b[39mready():\n\u001b[1;32m    767\u001b[0m         \u001b[38;5;28;01mraise\u001b[39;00m \u001b[38;5;167;01mTimeoutError\u001b[39;00m\n",
      "File \u001b[0;32m~/.conda/envs/jupyter/lib/python3.8/multiprocessing/pool.py:762\u001b[0m, in \u001b[0;36mApplyResult.wait\u001b[0;34m(self, timeout)\u001b[0m\n\u001b[1;32m    761\u001b[0m \u001b[38;5;28;01mdef\u001b[39;00m \u001b[38;5;21mwait\u001b[39m(\u001b[38;5;28mself\u001b[39m, timeout\u001b[38;5;241m=\u001b[39m\u001b[38;5;28;01mNone\u001b[39;00m):\n\u001b[0;32m--> 762\u001b[0m     \u001b[38;5;28;43mself\u001b[39;49m\u001b[38;5;241;43m.\u001b[39;49m\u001b[43m_event\u001b[49m\u001b[38;5;241;43m.\u001b[39;49m\u001b[43mwait\u001b[49m\u001b[43m(\u001b[49m\u001b[43mtimeout\u001b[49m\u001b[43m)\u001b[49m\n",
      "File \u001b[0;32m~/.conda/envs/jupyter/lib/python3.8/threading.py:558\u001b[0m, in \u001b[0;36mEvent.wait\u001b[0;34m(self, timeout)\u001b[0m\n\u001b[1;32m    556\u001b[0m signaled \u001b[38;5;241m=\u001b[39m \u001b[38;5;28mself\u001b[39m\u001b[38;5;241m.\u001b[39m_flag\n\u001b[1;32m    557\u001b[0m \u001b[38;5;28;01mif\u001b[39;00m \u001b[38;5;129;01mnot\u001b[39;00m signaled:\n\u001b[0;32m--> 558\u001b[0m     signaled \u001b[38;5;241m=\u001b[39m \u001b[38;5;28;43mself\u001b[39;49m\u001b[38;5;241;43m.\u001b[39;49m\u001b[43m_cond\u001b[49m\u001b[38;5;241;43m.\u001b[39;49m\u001b[43mwait\u001b[49m\u001b[43m(\u001b[49m\u001b[43mtimeout\u001b[49m\u001b[43m)\u001b[49m\n\u001b[1;32m    559\u001b[0m \u001b[38;5;28;01mreturn\u001b[39;00m signaled\n",
      "File \u001b[0;32m~/.conda/envs/jupyter/lib/python3.8/threading.py:302\u001b[0m, in \u001b[0;36mCondition.wait\u001b[0;34m(self, timeout)\u001b[0m\n\u001b[1;32m    300\u001b[0m \u001b[38;5;28;01mtry\u001b[39;00m:    \u001b[38;5;66;03m# restore state no matter what (e.g., KeyboardInterrupt)\u001b[39;00m\n\u001b[1;32m    301\u001b[0m     \u001b[38;5;28;01mif\u001b[39;00m timeout \u001b[38;5;129;01mis\u001b[39;00m \u001b[38;5;28;01mNone\u001b[39;00m:\n\u001b[0;32m--> 302\u001b[0m         \u001b[43mwaiter\u001b[49m\u001b[38;5;241;43m.\u001b[39;49m\u001b[43macquire\u001b[49m\u001b[43m(\u001b[49m\u001b[43m)\u001b[49m\n\u001b[1;32m    303\u001b[0m         gotit \u001b[38;5;241m=\u001b[39m \u001b[38;5;28;01mTrue\u001b[39;00m\n\u001b[1;32m    304\u001b[0m     \u001b[38;5;28;01melse\u001b[39;00m:\n",
      "\u001b[0;31mKeyboardInterrupt\u001b[0m: "
     ]
    }
   ],
   "source": [
    "root_path = './MG5/gghhh_bsm/Events/run_01_decayed_1/tag_2_delphes_events.root'\n",
    "output_path = './SPANet/gghhh_4b_PT40_new.h5'\n",
    "nbj_min = 4\n",
    "\n",
    "from_root_to_h5(root_path, output_path, nbj_min=nbj_min)"
   ]
  },
  {
   "cell_type": "code",
   "execution_count": 6,
   "metadata": {
    "metadata": {}
   },
   "outputs": [
    {
     "name": "stdout",
     "output_type": "stream",
     "text": [
      "python from_root_to_h5.py ./MG5/gghhh_bsm/Events/run_01_decayed_1/tag_1_delphes_events.root ./SPANet/gghhh_0b_01.h5 0\n"
     ]
    }
   ],
   "source": [
    "root_path = './MG5/gghhh_bsm/Events/run_01_decayed_1/tag_1_delphes_events.root'\n",
    "output_path = './SPANet/gghhh_0b_01.h5'\n",
    "nbj_min = 0\n",
    "\n",
    "cmd = f'python from_root_to_h5.py {root_path} {output_path} {nbj_min}'\n",
    "print(cmd)"
   ]
  },
  {
   "cell_type": "code",
   "execution_count": 2,
   "metadata": {},
   "outputs": [
    {
     "name": "stdout",
     "output_type": "stream",
     "text": [
      "python from_root_to_h5.py ./MG5/gghhh_bsm/Events/run_02_decayed_1/tag_2_delphes_events.root ./SPANet/gghhh_0b_02.h5 4 &\n",
      "python from_root_to_h5.py ./MG5/gghhh_bsm/Events/run_03_decayed_1/tag_2_delphes_events.root ./SPANet/gghhh_0b_03.h5 4 &\n",
      "python from_root_to_h5.py ./MG5/gghhh_bsm/Events/run_04_decayed_1/tag_2_delphes_events.root ./SPANet/gghhh_0b_04.h5 4 &\n",
      "python from_root_to_h5.py ./MG5/gghhh_bsm/Events/run_05_decayed_1/tag_2_delphes_events.root ./SPANet/gghhh_0b_05.h5 4 &\n",
      "python from_root_to_h5.py ./MG5/gghhh_bsm/Events/run_06_decayed_1/tag_2_delphes_events.root ./SPANet/gghhh_0b_06.h5 4 &\n",
      "python from_root_to_h5.py ./MG5/gghhh_bsm/Events/run_07_decayed_1/tag_2_delphes_events.root ./SPANet/gghhh_0b_07.h5 4 &\n",
      "python from_root_to_h5.py ./MG5/gghhh_bsm/Events/run_08_decayed_1/tag_2_delphes_events.root ./SPANet/gghhh_0b_08.h5 4 &\n"
     ]
    }
   ],
   "source": [
    "for i in range(2, 9):\n",
    "    root_path = f'./MG5/gghhh_bsm/Events/run_{i:02}_decayed_1/tag_2_delphes_events.root'\n",
    "    output_path = f'./SPANet/gghhh_0b_{i:02}.h5'\n",
    "    nbj_min = 4\n",
    "\n",
    "    cmd = f'python from_root_to_h5.py {root_path} {output_path} {nbj_min} &'\n",
    "    print(cmd)"
   ]
  },
  {
   "cell_type": "code",
   "execution_count": 1,
   "metadata": {},
   "outputs": [
    {
     "name": "stdout",
     "output_type": "stream",
     "text": [
      "python from_root_to_h5.py ./MG5/gghhh_bsm_323/Events/run_01_decayed_1/tag_2_delphes_events.root ./SPANet/gghhh_0b_323.h5 4 &\n",
      "python from_root_to_h5.py ./MG5/gghhh_bsm_423/Events/run_01_decayed_1/tag_2_delphes_events.root ./SPANet/gghhh_0b_423.h5 4 &\n",
      "python from_root_to_h5.py ./MG5/gghhh_bsm_523/Events/run_01_decayed_1/tag_2_delphes_events.root ./SPANet/gghhh_0b_523.h5 4 &\n",
      "python from_root_to_h5.py ./MG5/gghhh_bsm_614/Events/run_01_decayed_1/tag_2_delphes_events.root ./SPANet/gghhh_0b_614.h5 4 &\n",
      "python from_root_to_h5.py ./MG5/gghhh_bsm_714/Events/run_01_decayed_1/tag_2_delphes_events.root ./SPANet/gghhh_0b_714.h5 4 &\n"
     ]
    }
   ],
   "source": [
    "rnds = [323, 423, 523, 614, 714]\n",
    "\n",
    "for rnd in rnds:\n",
    "    root_path = f'./MG5/gghhh_bsm_{rnd}/Events/run_01_decayed_1/tag_2_delphes_events.root'\n",
    "    output_path = f'./SPANet/gghhh_0b_{rnd}.h5'\n",
    "    nbj_min = 4\n",
    "\n",
    "    cmd = f'python from_root_to_h5.py {root_path} {output_path} {nbj_min} &'\n",
    "    print(cmd)"
   ]
  },
  {
   "cell_type": "code",
   "execution_count": 8,
   "metadata": {},
   "outputs": [],
   "source": [
    "# if __name__ == '__main__':\n",
    "\n",
    "#     root_path = sys.argv[1]\n",
    "#     output_path = sys.argv[2]\n",
    "#     nbj_min = int(sys.argv[3])\n",
    "\n",
    "#     main(root_path, output_path, nbj_min)"
   ]
  }
 ],
 "metadata": {
  "kernelspec": {
   "display_name": "jupyter",
   "language": "python",
   "name": "python3"
  },
  "language_info": {
   "codemirror_mode": {
    "name": "ipython",
    "version": 3
   },
   "file_extension": ".py",
   "mimetype": "text/x-python",
   "name": "python",
   "nbconvert_exporter": "python",
   "pygments_lexer": "ipython3",
   "version": "3.8.16"
  }
 },
 "nbformat": 4,
 "nbformat_minor": 2
}
