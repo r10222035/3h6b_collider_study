{
 "cells": [
  {
   "cell_type": "code",
   "execution_count": 1,
   "metadata": {},
   "outputs": [],
   "source": [
    "import re"
   ]
  },
  {
   "cell_type": "code",
   "execution_count": 2,
   "metadata": {},
   "outputs": [],
   "source": [
    "m3_m2_list = [(375, 250), (425, 250), (475, 250), (525, 250), (570, 250),\n",
    "              (400, 275), (450, 275), (500, 275), (550, 275),\n",
    "              (425, 300), (450, 300), (500, 300), (540, 300),\n",
    "              (450, 325), (480, 325), (520, 325),\n",
    "              (475, 350), (500, 350),\n",
    "              (420, 280)\n",
    "             ]"
   ]
  },
  {
   "cell_type": "markdown",
   "metadata": {},
   "source": [
    "# Generate parameter cards"
   ]
  },
  {
   "cell_type": "code",
   "execution_count": 3,
   "metadata": {},
   "outputs": [
    {
     "name": "stdout",
     "output_type": "stream",
     "text": [
      "python twosinglet_generatecard.py 250 375 ~/3h6b_collider_study/Sample/MG5/process_cards/TRSM/param_card_375_250.dat\n",
      "python twosinglet_generatecard.py 250 425 ~/3h6b_collider_study/Sample/MG5/process_cards/TRSM/param_card_425_250.dat\n",
      "python twosinglet_generatecard.py 250 475 ~/3h6b_collider_study/Sample/MG5/process_cards/TRSM/param_card_475_250.dat\n",
      "python twosinglet_generatecard.py 250 525 ~/3h6b_collider_study/Sample/MG5/process_cards/TRSM/param_card_525_250.dat\n",
      "python twosinglet_generatecard.py 250 570 ~/3h6b_collider_study/Sample/MG5/process_cards/TRSM/param_card_570_250.dat\n",
      "python twosinglet_generatecard.py 275 400 ~/3h6b_collider_study/Sample/MG5/process_cards/TRSM/param_card_400_275.dat\n",
      "python twosinglet_generatecard.py 275 450 ~/3h6b_collider_study/Sample/MG5/process_cards/TRSM/param_card_450_275.dat\n",
      "python twosinglet_generatecard.py 275 500 ~/3h6b_collider_study/Sample/MG5/process_cards/TRSM/param_card_500_275.dat\n",
      "python twosinglet_generatecard.py 275 550 ~/3h6b_collider_study/Sample/MG5/process_cards/TRSM/param_card_550_275.dat\n",
      "python twosinglet_generatecard.py 300 425 ~/3h6b_collider_study/Sample/MG5/process_cards/TRSM/param_card_425_300.dat\n",
      "python twosinglet_generatecard.py 300 450 ~/3h6b_collider_study/Sample/MG5/process_cards/TRSM/param_card_450_300.dat\n",
      "python twosinglet_generatecard.py 300 500 ~/3h6b_collider_study/Sample/MG5/process_cards/TRSM/param_card_500_300.dat\n",
      "python twosinglet_generatecard.py 300 540 ~/3h6b_collider_study/Sample/MG5/process_cards/TRSM/param_card_540_300.dat\n",
      "python twosinglet_generatecard.py 325 450 ~/3h6b_collider_study/Sample/MG5/process_cards/TRSM/param_card_450_325.dat\n",
      "python twosinglet_generatecard.py 325 480 ~/3h6b_collider_study/Sample/MG5/process_cards/TRSM/param_card_480_325.dat\n",
      "python twosinglet_generatecard.py 325 520 ~/3h6b_collider_study/Sample/MG5/process_cards/TRSM/param_card_520_325.dat\n",
      "python twosinglet_generatecard.py 350 475 ~/3h6b_collider_study/Sample/MG5/process_cards/TRSM/param_card_475_350.dat\n",
      "python twosinglet_generatecard.py 350 500 ~/3h6b_collider_study/Sample/MG5/process_cards/TRSM/param_card_500_350.dat\n",
      "python twosinglet_generatecard.py 280 420 ~/3h6b_collider_study/Sample/MG5/process_cards/TRSM/param_card_420_280.dat\n"
     ]
    }
   ],
   "source": [
    "for m3, m2 in m3_m2_list:\n",
    "    cmd = f'python twosinglet_generatecard.py {m2} {m3} ~/3h6b_collider_study/Sample/MG5/process_cards/TRSM/param_card_{m3}_{m2}.dat'\n",
    "    print(cmd)"
   ]
  },
  {
   "cell_type": "markdown",
   "metadata": {},
   "source": [
    "# Generate MadGraph process cards"
   ]
  },
  {
   "cell_type": "code",
   "execution_count": 4,
   "metadata": {},
   "outputs": [],
   "source": [
    "# open the text file\n",
    "with open('./MG5/process_cards/TRSM/proc_TRSM_m3_m2.txt', 'r') as file:\n",
    "    data = file.read()\n",
    "\n",
    "# find text the m3_m2 and replace by the new ones\n",
    "for m3, m2 in m3_m2_list:\n",
    "    repl = re.sub('m3_m2', f'{m3}_{m2}', data)\n",
    "    with open(f'./MG5/process_cards/TRSM/proc_TRSM_{m3}_{m2}.txt', 'w') as fw:\n",
    "        fw.write(repl)"
   ]
  },
  {
   "cell_type": "markdown",
   "metadata": {},
   "source": [
    "# Run the MadGraph script"
   ]
  },
  {
   "cell_type": "code",
   "execution_count": 5,
   "metadata": {},
   "outputs": [
    {
     "name": "stdout",
     "output_type": "stream",
     "text": [
      "conda activate jupyter\n",
      "cd ~/3h6b_collider_study/Sample\n",
      "~/Software/MG5_aMC_v3_3_1/bin/mg5_aMC MG5/process_cards/TRSM/proc_TRSM_500_275.txt\n",
      "~/Software/MG5_aMC_v3_3_1/bin/mg5_aMC MG5/process_cards/TRSM/proc_TRSM_500_300.txt\n",
      "~/Software/MG5_aMC_v3_3_1/bin/mg5_aMC MG5/process_cards/TRSM/proc_TRSM_520_325.txt\n"
     ]
    }
   ],
   "source": [
    "print('conda activate jupyter')\n",
    "print('cd ~/3h6b_collider_study/Sample')\n",
    "for m3, m2 in [(500, 275), (500, 300), (520, 325)]:\n",
    "    cmd = f'~/Software/MG5_aMC_v3_3_1/bin/mg5_aMC MG5/process_cards/TRSM/proc_TRSM_{m3}_{m2}.txt'\n",
    "    print(cmd)"
   ]
  },
  {
   "cell_type": "code",
   "execution_count": 6,
   "metadata": {},
   "outputs": [
    {
     "name": "stdout",
     "output_type": "stream",
     "text": [
      "~/Software/MG5_aMC_v3_3_1/bin/mg5_aMC MG5/process_cards/TRSM/proc_TRSM_375_250.txt\n",
      "~/Software/MG5_aMC_v3_3_1/bin/mg5_aMC MG5/process_cards/TRSM/proc_TRSM_425_250.txt\n",
      "~/Software/MG5_aMC_v3_3_1/bin/mg5_aMC MG5/process_cards/TRSM/proc_TRSM_475_250.txt\n",
      "~/Software/MG5_aMC_v3_3_1/bin/mg5_aMC MG5/process_cards/TRSM/proc_TRSM_525_250.txt\n",
      "~/Software/MG5_aMC_v3_3_1/bin/mg5_aMC MG5/process_cards/TRSM/proc_TRSM_570_250.txt\n",
      "~/Software/MG5_aMC_v3_3_1/bin/mg5_aMC MG5/process_cards/TRSM/proc_TRSM_400_275.txt\n",
      "~/Software/MG5_aMC_v3_3_1/bin/mg5_aMC MG5/process_cards/TRSM/proc_TRSM_450_275.txt\n",
      "~/Software/MG5_aMC_v3_3_1/bin/mg5_aMC MG5/process_cards/TRSM/proc_TRSM_500_275.txt\n",
      "~/Software/MG5_aMC_v3_3_1/bin/mg5_aMC MG5/process_cards/TRSM/proc_TRSM_550_275.txt\n",
      "~/Software/MG5_aMC_v3_3_1/bin/mg5_aMC MG5/process_cards/TRSM/proc_TRSM_425_300.txt\n",
      "~/Software/MG5_aMC_v3_3_1/bin/mg5_aMC MG5/process_cards/TRSM/proc_TRSM_450_300.txt\n",
      "~/Software/MG5_aMC_v3_3_1/bin/mg5_aMC MG5/process_cards/TRSM/proc_TRSM_500_300.txt\n",
      "~/Software/MG5_aMC_v3_3_1/bin/mg5_aMC MG5/process_cards/TRSM/proc_TRSM_540_300.txt\n",
      "~/Software/MG5_aMC_v3_3_1/bin/mg5_aMC MG5/process_cards/TRSM/proc_TRSM_450_325.txt\n",
      "~/Software/MG5_aMC_v3_3_1/bin/mg5_aMC MG5/process_cards/TRSM/proc_TRSM_480_325.txt\n",
      "~/Software/MG5_aMC_v3_3_1/bin/mg5_aMC MG5/process_cards/TRSM/proc_TRSM_520_325.txt\n",
      "~/Software/MG5_aMC_v3_3_1/bin/mg5_aMC MG5/process_cards/TRSM/proc_TRSM_475_350.txt\n",
      "~/Software/MG5_aMC_v3_3_1/bin/mg5_aMC MG5/process_cards/TRSM/proc_TRSM_500_350.txt\n",
      "~/Software/MG5_aMC_v3_3_1/bin/mg5_aMC MG5/process_cards/TRSM/proc_TRSM_420_280.txt\n"
     ]
    }
   ],
   "source": [
    "for m3, m2 in m3_m2_list:\n",
    "    cmd = f'~/Software/MG5_aMC_v3_3_1/bin/mg5_aMC MG5/process_cards/TRSM/proc_TRSM_{m3}_{m2}.txt'\n",
    "    print(cmd)"
   ]
  }
 ],
 "metadata": {
  "kernelspec": {
   "display_name": "Python 3",
   "language": "python",
   "name": "python3"
  },
  "language_info": {
   "codemirror_mode": {
    "name": "ipython",
    "version": 3
   },
   "file_extension": ".py",
   "mimetype": "text/x-python",
   "name": "python",
   "nbconvert_exporter": "python",
   "pygments_lexer": "ipython3",
   "version": "3.8.16"
  }
 },
 "nbformat": 4,
 "nbformat_minor": 2
}
