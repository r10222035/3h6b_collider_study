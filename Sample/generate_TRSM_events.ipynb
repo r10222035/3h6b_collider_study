{
 "cells": [
  {
   "cell_type": "code",
   "execution_count": 1,
   "metadata": {},
   "outputs": [],
   "source": [
    "import re"
   ]
  },
  {
   "cell_type": "code",
   "execution_count": 2,
   "metadata": {},
   "outputs": [],
   "source": [
    "m3_m2_list = [(375, 250), (425, 250), (475, 250), (525, 250), (570, 250),\n",
    "              (400, 275), (450, 275), (500, 275), (550, 275),\n",
    "              (425, 300), (450, 300), (500, 300), (540, 300),\n",
    "              (450, 325), (480, 325), (520, 325),\n",
    "              (475, 350), (500, 350),\n",
    "              (420, 280)\n",
    "             ]"
   ]
  },
  {
   "cell_type": "code",
   "execution_count": 9,
   "metadata": {},
   "outputs": [],
   "source": [
    "m3_m2_list = [(500, 275), (500, 300), (520, 325), (500, 350), (420, 280), \n",
    "            #   (450, 275), (450, 300), (540, 300), (480, 325),\n",
    "             ]"
   ]
  },
  {
   "cell_type": "code",
   "execution_count": 2,
   "metadata": {},
   "outputs": [],
   "source": [
    "m3_m2_list = [(504, 255), (455, 263), (502, 287), \n",
    "              (454, 290), (503, 320), (504, 264),\n",
    "              (455, 280), (475, 300), (500, 310),\n",
    "              (500, 280),\n",
    "             ]"
   ]
  },
  {
   "cell_type": "markdown",
   "metadata": {},
   "source": [
    "# Generate parameter cards"
   ]
  },
  {
   "cell_type": "code",
   "execution_count": 5,
   "metadata": {},
   "outputs": [
    {
     "name": "stdout",
     "output_type": "stream",
     "text": [
      "python twosinglet_generatecard.py 255 504 ~/3h6b_collider_study/Sample/MG5/process_cards/TRSM/param_card_504_255.dat\n",
      "python twosinglet_generatecard.py 263 455 ~/3h6b_collider_study/Sample/MG5/process_cards/TRSM/param_card_455_263.dat\n",
      "python twosinglet_generatecard.py 287 502 ~/3h6b_collider_study/Sample/MG5/process_cards/TRSM/param_card_502_287.dat\n",
      "python twosinglet_generatecard.py 290 454 ~/3h6b_collider_study/Sample/MG5/process_cards/TRSM/param_card_454_290.dat\n",
      "python twosinglet_generatecard.py 320 503 ~/3h6b_collider_study/Sample/MG5/process_cards/TRSM/param_card_503_320.dat\n",
      "python twosinglet_generatecard.py 264 504 ~/3h6b_collider_study/Sample/MG5/process_cards/TRSM/param_card_504_264.dat\n",
      "python twosinglet_generatecard.py 280 455 ~/3h6b_collider_study/Sample/MG5/process_cards/TRSM/param_card_455_280.dat\n",
      "python twosinglet_generatecard.py 300 475 ~/3h6b_collider_study/Sample/MG5/process_cards/TRSM/param_card_475_300.dat\n",
      "python twosinglet_generatecard.py 310 500 ~/3h6b_collider_study/Sample/MG5/process_cards/TRSM/param_card_500_310.dat\n",
      "python twosinglet_generatecard.py 280 500 ~/3h6b_collider_study/Sample/MG5/process_cards/TRSM/param_card_500_280.dat\n"
     ]
    }
   ],
   "source": [
    "for m3, m2 in m3_m2_list:\n",
    "    cmd = f'python twosinglet_generatecard.py {m2} {m3} ~/3h6b_collider_study/Sample/MG5/process_cards/TRSM/param_card_{m3}_{m2}.dat'\n",
    "    print(cmd)"
   ]
  },
  {
   "cell_type": "code",
   "execution_count": 6,
   "metadata": {},
   "outputs": [
    {
     "name": "stdout",
     "output_type": "stream",
     "text": [
      "python twosinglet_generatecard.py 255 504 ~/3h6b_collider_study/Sample/MG5/process_cards/TRSM/v2_7_3/param_card_504_255.dat &\n",
      "python twosinglet_generatecard.py 263 455 ~/3h6b_collider_study/Sample/MG5/process_cards/TRSM/v2_7_3/param_card_455_263.dat &\n",
      "python twosinglet_generatecard.py 287 502 ~/3h6b_collider_study/Sample/MG5/process_cards/TRSM/v2_7_3/param_card_502_287.dat &\n",
      "python twosinglet_generatecard.py 290 454 ~/3h6b_collider_study/Sample/MG5/process_cards/TRSM/v2_7_3/param_card_454_290.dat &\n",
      "python twosinglet_generatecard.py 320 503 ~/3h6b_collider_study/Sample/MG5/process_cards/TRSM/v2_7_3/param_card_503_320.dat &\n",
      "python twosinglet_generatecard.py 264 504 ~/3h6b_collider_study/Sample/MG5/process_cards/TRSM/v2_7_3/param_card_504_264.dat &\n",
      "python twosinglet_generatecard.py 280 455 ~/3h6b_collider_study/Sample/MG5/process_cards/TRSM/v2_7_3/param_card_455_280.dat &\n",
      "python twosinglet_generatecard.py 300 475 ~/3h6b_collider_study/Sample/MG5/process_cards/TRSM/v2_7_3/param_card_475_300.dat &\n",
      "python twosinglet_generatecard.py 310 500 ~/3h6b_collider_study/Sample/MG5/process_cards/TRSM/v2_7_3/param_card_500_310.dat &\n",
      "python twosinglet_generatecard.py 280 500 ~/3h6b_collider_study/Sample/MG5/process_cards/TRSM/v2_7_3/param_card_500_280.dat &\n"
     ]
    }
   ],
   "source": [
    "for m3, m2 in m3_m2_list:\n",
    "    cmd = f'python twosinglet_generatecard.py {m2} {m3} ~/3h6b_collider_study/Sample/MG5/process_cards/TRSM/v2_7_3/param_card_{m3}_{m2}.dat &'\n",
    "    print(cmd)"
   ]
  },
  {
   "cell_type": "markdown",
   "metadata": {},
   "source": [
    "# Generate MadGraph process cards"
   ]
  },
  {
   "cell_type": "code",
   "execution_count": 7,
   "metadata": {},
   "outputs": [],
   "source": [
    "# open the text file\n",
    "with open('./MG5/process_cards/TRSM/proc_TRSM_m3_m2.txt', 'r') as file:\n",
    "    data = file.read()\n",
    "\n",
    "# find text the m3_m2 and replace by the new ones\n",
    "for m3, m2 in m3_m2_list:\n",
    "    repl = re.sub('m3_m2', f'{m3}_{m2}', data)\n",
    "    with open(f'./MG5/process_cards/TRSM/proc_TRSM_{m3}_{m2}.txt', 'w') as fw:\n",
    "        fw.write(repl)"
   ]
  },
  {
   "cell_type": "markdown",
   "metadata": {},
   "source": [
    "## MG version 2.7.3"
   ]
  },
  {
   "cell_type": "code",
   "execution_count": 3,
   "metadata": {},
   "outputs": [],
   "source": [
    "# open the text file\n",
    "with open('./MG5/process_cards/TRSM/v273/proc_TRSM_m3_m2_14TeV.txt', 'r') as file:\n",
    "    data = file.read()\n",
    "\n",
    "# find text the m3_m2 and replace by the new ones\n",
    "for m3, m2 in m3_m2_list:\n",
    "    repl = re.sub('m3_m2', f'{m3}_{m2}', data)\n",
    "    with open(f'./MG5/process_cards/TRSM/v273/proc_TRSM_{m3}_{m2}_14TeV.txt', 'w') as fw:\n",
    "        fw.write(repl)"
   ]
  },
  {
   "cell_type": "code",
   "execution_count": 4,
   "metadata": {},
   "outputs": [],
   "source": [
    "# open the text file\n",
    "with open('./MG5/process_cards/TRSM/v273/proc_TRSM_m3_m2_14TeV_pp3h.txt', 'r') as file:\n",
    "    data = file.read()\n",
    "\n",
    "# find text the m3_m2 and replace by the new ones\n",
    "for m3, m2 in m3_m2_list:\n",
    "    repl = re.sub('m3_m2', f'{m3}_{m2}', data)\n",
    "    with open(f'./MG5/process_cards/TRSM/v273/proc_TRSM_{m3}_{m2}_14TeV_pp3h.txt', 'w') as fw:\n",
    "        fw.write(repl)"
   ]
  },
  {
   "cell_type": "markdown",
   "metadata": {},
   "source": [
    "## MG version 2.9.5"
   ]
  },
  {
   "cell_type": "code",
   "execution_count": 10,
   "metadata": {},
   "outputs": [],
   "source": [
    "# open the text file\n",
    "with open('./MG5/process_cards/TRSM/v295/proc_TRSM_m3_m2_13TeV_ATLAS.txt', 'r') as file:\n",
    "    data = file.read()\n",
    "\n",
    "# find text the m3_m2 and replace by the new ones\n",
    "for m3, m2 in m3_m2_list:\n",
    "    repl = re.sub('m3_m2', f'{m3}_{m2}', data)\n",
    "    with open(f'./MG5/process_cards/TRSM/v295/proc_TRSM_{m3}_{m2}_13TeV.txt', 'w') as fw:\n",
    "        fw.write(repl)"
   ]
  },
  {
   "cell_type": "code",
   "execution_count": 11,
   "metadata": {},
   "outputs": [],
   "source": [
    "# open the text file\n",
    "with open('./MG5/process_cards/TRSM/v295/proc_TRSM_m3_m2_13TeV_ATLAS_pp3h.txt', 'r') as file:\n",
    "    data = file.read()\n",
    "\n",
    "# find text the m3_m2 and replace by the new ones\n",
    "for m3, m2 in m3_m2_list:\n",
    "    repl = re.sub('m3_m2', f'{m3}_{m2}', data)\n",
    "    with open(f'./MG5/process_cards/TRSM/v295/proc_TRSM_{m3}_{m2}_13TeV_pp3h.txt', 'w') as fw:\n",
    "        fw.write(repl)"
   ]
  },
  {
   "cell_type": "markdown",
   "metadata": {},
   "source": [
    "## MG version 3.3.1"
   ]
  },
  {
   "cell_type": "code",
   "execution_count": 5,
   "metadata": {},
   "outputs": [],
   "source": [
    "# open the text file\n",
    "with open('./MG5/process_cards/TRSM/v331/proc_TRSM_m3_m2_14TeV.txt', 'r') as file:\n",
    "    data = file.read()\n",
    "\n",
    "# find text the m3_m2 and replace by the new ones\n",
    "for m3, m2 in m3_m2_list:\n",
    "    repl = re.sub('m3_m2', f'{m3}_{m2}', data)\n",
    "    with open(f'./MG5/process_cards/TRSM/v331/proc_TRSM_{m3}_{m2}_14TeV.txt', 'w') as fw:\n",
    "        fw.write(repl)"
   ]
  },
  {
   "cell_type": "code",
   "execution_count": 12,
   "metadata": {},
   "outputs": [],
   "source": [
    "# open the text file\n",
    "with open('./MG5/process_cards/TRSM/v331/proc_TRSM_m3_m2_13TeV_ATLAS.txt', 'r') as file:\n",
    "    data = file.read()\n",
    "\n",
    "# find text the m3_m2 and replace by the new ones\n",
    "for m3, m2 in m3_m2_list:\n",
    "    repl = re.sub('m3_m2', f'{m3}_{m2}', data)\n",
    "    with open(f'./MG5/process_cards/TRSM/v331/proc_TRSM_{m3}_{m2}_13TeV.txt', 'w') as fw:\n",
    "        fw.write(repl)"
   ]
  },
  {
   "cell_type": "markdown",
   "metadata": {},
   "source": [
    "# Run the MadGraph script"
   ]
  },
  {
   "cell_type": "code",
   "execution_count": 15,
   "metadata": {},
   "outputs": [
    {
     "name": "stdout",
     "output_type": "stream",
     "text": [
      "conda activate jupyter\n",
      "cd ~/3h6b_collider_study/Sample\n",
      "~/Software/MG5_aMC_v3_3_1/bin/mg5_aMC MG5/process_cards/TRSM/proc_TRSM_500_275.txt\n",
      "~/Software/MG5_aMC_v3_3_1/bin/mg5_aMC MG5/process_cards/TRSM/proc_TRSM_500_300.txt\n",
      "~/Software/MG5_aMC_v3_3_1/bin/mg5_aMC MG5/process_cards/TRSM/proc_TRSM_520_325.txt\n"
     ]
    }
   ],
   "source": [
    "print('conda activate jupyter')\n",
    "print('cd ~/3h6b_collider_study/Sample')\n",
    "for m3, m2 in [(500, 275), (500, 300), (520, 325)]:\n",
    "    cmd = f'~/Software/MG5_aMC_v3_3_1/bin/mg5_aMC MG5/process_cards/TRSM/proc_TRSM_{m3}_{m2}.txt'\n",
    "    print(cmd)"
   ]
  },
  {
   "cell_type": "code",
   "execution_count": 16,
   "metadata": {},
   "outputs": [
    {
     "name": "stdout",
     "output_type": "stream",
     "text": [
      "~/Software/MG5_aMC_v3_3_1/bin/mg5_aMC MG5/process_cards/TRSM/proc_TRSM_504_255.txt\n",
      "~/Software/MG5_aMC_v3_3_1/bin/mg5_aMC MG5/process_cards/TRSM/proc_TRSM_455_263.txt\n",
      "~/Software/MG5_aMC_v3_3_1/bin/mg5_aMC MG5/process_cards/TRSM/proc_TRSM_502_287.txt\n",
      "~/Software/MG5_aMC_v3_3_1/bin/mg5_aMC MG5/process_cards/TRSM/proc_TRSM_454_290.txt\n",
      "~/Software/MG5_aMC_v3_3_1/bin/mg5_aMC MG5/process_cards/TRSM/proc_TRSM_503_320.txt\n",
      "~/Software/MG5_aMC_v3_3_1/bin/mg5_aMC MG5/process_cards/TRSM/proc_TRSM_504_264.txt\n",
      "~/Software/MG5_aMC_v3_3_1/bin/mg5_aMC MG5/process_cards/TRSM/proc_TRSM_455_280.txt\n",
      "~/Software/MG5_aMC_v3_3_1/bin/mg5_aMC MG5/process_cards/TRSM/proc_TRSM_475_300.txt\n",
      "~/Software/MG5_aMC_v3_3_1/bin/mg5_aMC MG5/process_cards/TRSM/proc_TRSM_500_310.txt\n",
      "~/Software/MG5_aMC_v3_3_1/bin/mg5_aMC MG5/process_cards/TRSM/proc_TRSM_500_280.txt\n"
     ]
    }
   ],
   "source": [
    "for m3, m2 in m3_m2_list:\n",
    "    cmd = f'~/Software/MG5_aMC_v3_3_1/bin/mg5_aMC MG5/process_cards/TRSM/proc_TRSM_{m3}_{m2}.txt'\n",
    "    print(cmd)"
   ]
  },
  {
   "cell_type": "markdown",
   "metadata": {},
   "source": [
    "## MG version 2.7.3"
   ]
  },
  {
   "cell_type": "code",
   "execution_count": 6,
   "metadata": {},
   "outputs": [
    {
     "name": "stdout",
     "output_type": "stream",
     "text": [
      "~/Software/MG5_aMC_v2_7_3/bin/mg5_aMC MG5/process_cards/TRSM/v273/proc_TRSM_504_255_14TeV.txt &\n",
      "~/Software/MG5_aMC_v2_7_3/bin/mg5_aMC MG5/process_cards/TRSM/v273/proc_TRSM_455_263_14TeV.txt &\n",
      "~/Software/MG5_aMC_v2_7_3/bin/mg5_aMC MG5/process_cards/TRSM/v273/proc_TRSM_502_287_14TeV.txt &\n",
      "~/Software/MG5_aMC_v2_7_3/bin/mg5_aMC MG5/process_cards/TRSM/v273/proc_TRSM_454_290_14TeV.txt &\n",
      "~/Software/MG5_aMC_v2_7_3/bin/mg5_aMC MG5/process_cards/TRSM/v273/proc_TRSM_503_320_14TeV.txt &\n",
      "~/Software/MG5_aMC_v2_7_3/bin/mg5_aMC MG5/process_cards/TRSM/v273/proc_TRSM_504_264_14TeV.txt &\n",
      "~/Software/MG5_aMC_v2_7_3/bin/mg5_aMC MG5/process_cards/TRSM/v273/proc_TRSM_455_280_14TeV.txt &\n",
      "~/Software/MG5_aMC_v2_7_3/bin/mg5_aMC MG5/process_cards/TRSM/v273/proc_TRSM_475_300_14TeV.txt &\n",
      "~/Software/MG5_aMC_v2_7_3/bin/mg5_aMC MG5/process_cards/TRSM/v273/proc_TRSM_500_310_14TeV.txt &\n",
      "~/Software/MG5_aMC_v2_7_3/bin/mg5_aMC MG5/process_cards/TRSM/v273/proc_TRSM_500_280_14TeV.txt &\n"
     ]
    }
   ],
   "source": [
    "for m3, m2 in m3_m2_list:\n",
    "    cmd = f'~/Software/MG5_aMC_v2_7_3/bin/mg5_aMC MG5/process_cards/TRSM/v273/proc_TRSM_{m3}_{m2}_14TeV.txt &'\n",
    "    print(cmd)"
   ]
  },
  {
   "cell_type": "code",
   "execution_count": 7,
   "metadata": {},
   "outputs": [
    {
     "name": "stdout",
     "output_type": "stream",
     "text": [
      "~/Software/MG5_aMC_v2_7_3/bin/mg5_aMC MG5/process_cards/TRSM/v273/proc_TRSM_504_255_14TeV_pp3h.txt &\n",
      "~/Software/MG5_aMC_v2_7_3/bin/mg5_aMC MG5/process_cards/TRSM/v273/proc_TRSM_455_263_14TeV_pp3h.txt &\n",
      "~/Software/MG5_aMC_v2_7_3/bin/mg5_aMC MG5/process_cards/TRSM/v273/proc_TRSM_502_287_14TeV_pp3h.txt &\n",
      "~/Software/MG5_aMC_v2_7_3/bin/mg5_aMC MG5/process_cards/TRSM/v273/proc_TRSM_454_290_14TeV_pp3h.txt &\n",
      "~/Software/MG5_aMC_v2_7_3/bin/mg5_aMC MG5/process_cards/TRSM/v273/proc_TRSM_503_320_14TeV_pp3h.txt &\n",
      "~/Software/MG5_aMC_v2_7_3/bin/mg5_aMC MG5/process_cards/TRSM/v273/proc_TRSM_504_264_14TeV_pp3h.txt &\n",
      "~/Software/MG5_aMC_v2_7_3/bin/mg5_aMC MG5/process_cards/TRSM/v273/proc_TRSM_455_280_14TeV_pp3h.txt &\n",
      "~/Software/MG5_aMC_v2_7_3/bin/mg5_aMC MG5/process_cards/TRSM/v273/proc_TRSM_475_300_14TeV_pp3h.txt &\n",
      "~/Software/MG5_aMC_v2_7_3/bin/mg5_aMC MG5/process_cards/TRSM/v273/proc_TRSM_500_310_14TeV_pp3h.txt &\n",
      "~/Software/MG5_aMC_v2_7_3/bin/mg5_aMC MG5/process_cards/TRSM/v273/proc_TRSM_500_280_14TeV_pp3h.txt &\n"
     ]
    }
   ],
   "source": [
    "for m3, m2 in m3_m2_list:\n",
    "    cmd = f'~/Software/MG5_aMC_v2_7_3/bin/mg5_aMC MG5/process_cards/TRSM/v273/proc_TRSM_{m3}_{m2}_14TeV_pp3h.txt &'\n",
    "    print(cmd)"
   ]
  },
  {
   "cell_type": "markdown",
   "metadata": {},
   "source": [
    "## MG version 2.9.5"
   ]
  },
  {
   "cell_type": "code",
   "execution_count": 13,
   "metadata": {},
   "outputs": [
    {
     "name": "stdout",
     "output_type": "stream",
     "text": [
      "~/Software/MG5_aMC_v2_9_5/bin/mg5_aMC MG5/process_cards/TRSM/v295/proc_TRSM_500_275_13TeV.txt &\n",
      "~/Software/MG5_aMC_v2_9_5/bin/mg5_aMC MG5/process_cards/TRSM/v295/proc_TRSM_500_300_13TeV.txt &\n",
      "~/Software/MG5_aMC_v2_9_5/bin/mg5_aMC MG5/process_cards/TRSM/v295/proc_TRSM_520_325_13TeV.txt &\n",
      "~/Software/MG5_aMC_v2_9_5/bin/mg5_aMC MG5/process_cards/TRSM/v295/proc_TRSM_500_350_13TeV.txt &\n",
      "~/Software/MG5_aMC_v2_9_5/bin/mg5_aMC MG5/process_cards/TRSM/v295/proc_TRSM_420_280_13TeV.txt &\n"
     ]
    }
   ],
   "source": [
    "for m3, m2 in m3_m2_list:\n",
    "    cmd = f'~/Software/MG5_aMC_v2_9_5/bin/mg5_aMC MG5/process_cards/TRSM/v295/proc_TRSM_{m3}_{m2}_13TeV.txt &'\n",
    "    print(cmd)"
   ]
  },
  {
   "cell_type": "code",
   "execution_count": 14,
   "metadata": {},
   "outputs": [
    {
     "name": "stdout",
     "output_type": "stream",
     "text": [
      "~/Software/MG5_aMC_v2_9_5/bin/mg5_aMC MG5/process_cards/TRSM/v295/proc_TRSM_500_275_13TeV_pp3h.txt &\n",
      "~/Software/MG5_aMC_v2_9_5/bin/mg5_aMC MG5/process_cards/TRSM/v295/proc_TRSM_500_300_13TeV_pp3h.txt &\n",
      "~/Software/MG5_aMC_v2_9_5/bin/mg5_aMC MG5/process_cards/TRSM/v295/proc_TRSM_520_325_13TeV_pp3h.txt &\n",
      "~/Software/MG5_aMC_v2_9_5/bin/mg5_aMC MG5/process_cards/TRSM/v295/proc_TRSM_500_350_13TeV_pp3h.txt &\n",
      "~/Software/MG5_aMC_v2_9_5/bin/mg5_aMC MG5/process_cards/TRSM/v295/proc_TRSM_420_280_13TeV_pp3h.txt &\n"
     ]
    }
   ],
   "source": [
    "for m3, m2 in m3_m2_list:\n",
    "    cmd = f'~/Software/MG5_aMC_v2_9_5/bin/mg5_aMC MG5/process_cards/TRSM/v295/proc_TRSM_{m3}_{m2}_13TeV_pp3h.txt &'\n",
    "    print(cmd)"
   ]
  },
  {
   "cell_type": "markdown",
   "metadata": {},
   "source": [
    "## MG version 3.3.1"
   ]
  },
  {
   "cell_type": "code",
   "execution_count": 8,
   "metadata": {},
   "outputs": [
    {
     "name": "stdout",
     "output_type": "stream",
     "text": [
      "~/Software/MG5_aMC_v3_3_1/bin/mg5_aMC MG5/process_cards/TRSM/v331/proc_TRSM_504_255_14TeV.txt &\n",
      "~/Software/MG5_aMC_v3_3_1/bin/mg5_aMC MG5/process_cards/TRSM/v331/proc_TRSM_455_263_14TeV.txt &\n",
      "~/Software/MG5_aMC_v3_3_1/bin/mg5_aMC MG5/process_cards/TRSM/v331/proc_TRSM_502_287_14TeV.txt &\n",
      "~/Software/MG5_aMC_v3_3_1/bin/mg5_aMC MG5/process_cards/TRSM/v331/proc_TRSM_454_290_14TeV.txt &\n",
      "~/Software/MG5_aMC_v3_3_1/bin/mg5_aMC MG5/process_cards/TRSM/v331/proc_TRSM_503_320_14TeV.txt &\n",
      "~/Software/MG5_aMC_v3_3_1/bin/mg5_aMC MG5/process_cards/TRSM/v331/proc_TRSM_504_264_14TeV.txt &\n",
      "~/Software/MG5_aMC_v3_3_1/bin/mg5_aMC MG5/process_cards/TRSM/v331/proc_TRSM_455_280_14TeV.txt &\n",
      "~/Software/MG5_aMC_v3_3_1/bin/mg5_aMC MG5/process_cards/TRSM/v331/proc_TRSM_475_300_14TeV.txt &\n",
      "~/Software/MG5_aMC_v3_3_1/bin/mg5_aMC MG5/process_cards/TRSM/v331/proc_TRSM_500_310_14TeV.txt &\n",
      "~/Software/MG5_aMC_v3_3_1/bin/mg5_aMC MG5/process_cards/TRSM/v331/proc_TRSM_500_280_14TeV.txt &\n"
     ]
    }
   ],
   "source": [
    "for m3, m2 in m3_m2_list:\n",
    "    cmd = f'~/Software/MG5_aMC_v3_3_1/bin/mg5_aMC MG5/process_cards/TRSM/v331/proc_TRSM_{m3}_{m2}_14TeV.txt &'\n",
    "    print(cmd)"
   ]
  },
  {
   "cell_type": "code",
   "execution_count": 15,
   "metadata": {},
   "outputs": [
    {
     "name": "stdout",
     "output_type": "stream",
     "text": [
      "~/Software/MG5_aMC_v3_3_1/bin/mg5_aMC MG5/process_cards/TRSM/v331/proc_TRSM_500_275_13TeV.txt &\n",
      "~/Software/MG5_aMC_v3_3_1/bin/mg5_aMC MG5/process_cards/TRSM/v331/proc_TRSM_500_300_13TeV.txt &\n",
      "~/Software/MG5_aMC_v3_3_1/bin/mg5_aMC MG5/process_cards/TRSM/v331/proc_TRSM_520_325_13TeV.txt &\n",
      "~/Software/MG5_aMC_v3_3_1/bin/mg5_aMC MG5/process_cards/TRSM/v331/proc_TRSM_500_350_13TeV.txt &\n",
      "~/Software/MG5_aMC_v3_3_1/bin/mg5_aMC MG5/process_cards/TRSM/v331/proc_TRSM_420_280_13TeV.txt &\n"
     ]
    }
   ],
   "source": [
    "for m3, m2 in m3_m2_list:\n",
    "    cmd = f'~/Software/MG5_aMC_v3_3_1/bin/mg5_aMC MG5/process_cards/TRSM/v331/proc_TRSM_{m3}_{m2}_13TeV.txt &'\n",
    "    print(cmd)"
   ]
  }
 ],
 "metadata": {
  "kernelspec": {
   "display_name": "Python 3",
   "language": "python",
   "name": "python3"
  },
  "language_info": {
   "codemirror_mode": {
    "name": "ipython",
    "version": 3
   },
   "file_extension": ".py",
   "mimetype": "text/x-python",
   "name": "python",
   "nbconvert_exporter": "python",
   "pygments_lexer": "ipython3",
   "version": "3.8.16"
  }
 },
 "nbformat": 4,
 "nbformat_minor": 2
}
