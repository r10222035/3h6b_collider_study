{
 "cells": [
  {
   "cell_type": "code",
   "execution_count": 1,
   "metadata": {},
   "outputs": [],
   "source": [
    "import os\n",
    "import re"
   ]
  },
  {
   "cell_type": "code",
   "execution_count": 2,
   "metadata": {},
   "outputs": [],
   "source": [
    "b_tag_rate = 0.7\n",
    "c_mis_tag_rate = 0.1\n",
    "# light jet: u, d, s, g\n",
    "j_mis_tag_rate = 0.01\n"
   ]
  },
  {
   "cell_type": "code",
   "execution_count": 3,
   "metadata": {},
   "outputs": [],
   "source": [
    "def get_info(file_path):\n",
    "    with open(file_path, 'r') as f:\n",
    "        for line in f:\n",
    "            #  Integrated weight (pb)  :       37.28763002403\n",
    "            if 'Integrated weight (pb)' in line:\n",
    "                cross_section = float(re.search(r'(\\d+\\.\\d+)', line).group(1))\n",
    "\n",
    "            # get energy\n",
    "            # 6500.0     = ebeam1  ! beam 1 total energy in GeV\n",
    "            if  '= ebeam1  ! beam 1 total energy in GeV' in line:\n",
    "                energy = float(re.search(r'(\\d+\\.\\d+)', line).group(1)) / 1000 * 2\n",
    "                \n",
    "\n",
    "    return cross_section, energy "
   ]
  },
  {
   "cell_type": "code",
   "execution_count": 4,
   "metadata": {},
   "outputs": [],
   "source": [
    "file_path = 'MG5/pp4b2c/Events/run_01/run_01_tag_1_banner.txt'\n",
    "pp4b2c_13TeV, _ = get_info(file_path)"
   ]
  },
  {
   "cell_type": "code",
   "execution_count": 5,
   "metadata": {},
   "outputs": [],
   "source": [
    "file_path = 'MG5/pp4b2c/Events/run_02/run_02_tag_1_banner.txt'\n",
    "pp4b2c_14TeV, _ = get_info(file_path)"
   ]
  },
  {
   "cell_type": "code",
   "execution_count": 6,
   "metadata": {},
   "outputs": [],
   "source": [
    "file_path = 'MG5/pp2b4c/Events/run_01/run_01_tag_1_banner.txt'\n",
    "pp2b4c_13TeV, _ = get_info(file_path)"
   ]
  },
  {
   "cell_type": "code",
   "execution_count": 7,
   "metadata": {},
   "outputs": [],
   "source": [
    "file_path = 'MG5/pp2b4c/Events/run_02/run_02_tag_1_banner.txt'\n",
    "pp2b4c_14TeV, _ = get_info(file_path)"
   ]
  },
  {
   "cell_type": "code",
   "execution_count": 8,
   "metadata": {},
   "outputs": [],
   "source": [
    "file_path = '/home/r10222035//Software/MG5_aMC_v3_3_1/CPVDM/ppbbbbbb/Events/run_01/run_01_tag_1_banner.txt'\n",
    "pp6b_13TeV, _ = get_info(file_path)"
   ]
  },
  {
   "cell_type": "code",
   "execution_count": 9,
   "metadata": {},
   "outputs": [
    {
     "name": "stdout",
     "output_type": "stream",
     "text": [
      "2531.930354989999\n",
      "272.4510378718599\n",
      "37.28763002403\n"
     ]
    }
   ],
   "source": [
    "print(pp6b_13TeV)\n",
    "print(pp4b2c_13TeV)\n",
    "print(pp2b4c_13TeV)"
   ]
  },
  {
   "cell_type": "code",
   "execution_count": 10,
   "metadata": {},
   "outputs": [
    {
     "name": "stdout",
     "output_type": "stream",
     "text": [
      "297.87907433421833\n",
      "0.6541549419303356\n",
      "0.0018270938711774701\n"
     ]
    }
   ],
   "source": [
    "print(pp6b_13TeV * b_tag_rate**6)\n",
    "print(pp4b2c_13TeV * b_tag_rate**4 * c_mis_tag_rate**2)\n",
    "print(pp2b4c_13TeV * b_tag_rate**2 * c_mis_tag_rate**4)"
   ]
  }
 ],
 "metadata": {
  "kernelspec": {
   "display_name": "jupyter",
   "language": "python",
   "name": "python3"
  },
  "language_info": {
   "codemirror_mode": {
    "name": "ipython",
    "version": 3
   },
   "file_extension": ".py",
   "mimetype": "text/x-python",
   "name": "python",
   "nbconvert_exporter": "python",
   "pygments_lexer": "ipython3",
   "version": "3.8.16"
  }
 },
 "nbformat": 4,
 "nbformat_minor": 2
}
