{
 "cells": [
  {
   "cell_type": "code",
   "execution_count": 1,
   "id": "95ff4cf2",
   "metadata": {},
   "outputs": [],
   "source": [
    "import os\n",
    "import h5py\n",
    "import itertools\n",
    "\n",
    "import numpy as np\n",
    "import pandas as pd\n",
    "import matplotlib.pyplot as plt\n",
    "\n",
    "from tqdm import tqdm"
   ]
  },
  {
   "cell_type": "code",
   "execution_count": 2,
   "id": "d03e0dae",
   "metadata": {},
   "outputs": [],
   "source": [
    "def get_Higgs_result(total_event, total_Higgs, correct_event, correct_Higgs, nh, nj):\n",
    "\n",
    "    start_nj, end_nj = nj\n",
    "\n",
    "    label = ['all' if nh == 'all' else f'{nh}h' for nj in range(start_nj, end_nj+2)]\n",
    "\n",
    "    if nh == 'all':\n",
    "        nh = slice(1, None)\n",
    "        \n",
    "    event_type = [f'Nj={nj}' for nj in range(start_nj, end_nj)]\n",
    "    event_type.append(f'Nj>={end_nj}')\n",
    "    event_type.append('Total')\n",
    "\n",
    "    event_fraction = [total_event[nh, nj].sum() / total_event.sum() for nj in range(start_nj, end_nj)]\n",
    "    event_fraction.append(total_event[nh, end_nj:].sum() / total_event.sum())\n",
    "    event_fraction.append(total_event[nh].sum() / total_event.sum())\n",
    "\n",
    "    event_efficiency = [correct_event[nh, nj].sum() / total_event[nh, nj].sum() for nj in range(start_nj, end_nj)]\n",
    "    event_efficiency.append(correct_event[nh, end_nj:].sum() / total_event[nh, end_nj:].sum())\n",
    "    event_efficiency.append(correct_event[nh].sum() / total_event[nh].sum())\n",
    "\n",
    "    higgs_efficiency = [correct_Higgs[nh, nj].sum() / total_Higgs[nh, nj].sum() for nj in range(start_nj, end_nj)]\n",
    "    higgs_efficiency.append(correct_Higgs[nh, end_nj:].sum() / total_Higgs[nh, end_nj:].sum())\n",
    "    higgs_efficiency.append(correct_Higgs[nh].sum() / total_Higgs[nh].sum())\n",
    "        \n",
    "    result = {'Label':label,\n",
    "              'Event type': event_type,\n",
    "              'Event Fraction': event_fraction,\n",
    "              'Event Efficiency': event_efficiency,\n",
    "              'Higgs Efficiency': higgs_efficiency,\n",
    "             }\n",
    "\n",
    "    df = pd.DataFrame(result)\n",
    "\n",
    "    return df"
   ]
  },
  {
   "cell_type": "code",
   "execution_count": 3,
   "id": "39e5da4b",
   "metadata": {},
   "outputs": [],
   "source": [
    "def compare_jet_list_triHiggs(pair1, pair2, nh_max=3):\n",
    "    h1_true = {pair1[0], pair1[1]}\n",
    "    h2_true = {pair1[2], pair1[3]}\n",
    "    h3_true = {pair1[4], pair1[5]}  \n",
    "    \n",
    "    h1_test = {pair2[0], pair2[1]}\n",
    "    h2_test = {pair2[2], pair2[3]}\n",
    "    h3_test = {pair2[4], pair2[5]}\n",
    "    \n",
    "    test_h = [h1_test, h2_test, h3_test]\n",
    "    \n",
    "    # bug\n",
    "    nh = 0\n",
    "    for id1, id2, id3 in itertools.permutations([0, 1, 2]):\n",
    "        h1 = test_h[id1]\n",
    "        h2 = test_h[id2]\n",
    "        h3 = test_h[id3]\n",
    "        if h1_true == h1:\n",
    "            nh = 1\n",
    "            if h2_true == h2:\n",
    "                nh = 2\n",
    "                if h3_true == h3:\n",
    "                    nh = 3\n",
    "                    break\n",
    "                    \n",
    "    same = True if nh==nh_max else False\n",
    "    return same, nh\n",
    "\n",
    "def compare_jet_list_triHiggs_optimized(pair1, pair2, nh_max=3):\n",
    "    # 將pair1和pair2分別轉換為三個Higgs的集合\n",
    "    h_true_sets = [{pair1[i], pair1[i+1]} for i in range(0, 6, 2)]\n",
    "    h_test_sets = [{pair2[i], pair2[i+1]} for i in range(0, 6, 2)]\n",
    "    \n",
    "    # 計算匹配的Higgs數量\n",
    "    nh = sum(1 for h_true in h_true_sets if h_true in h_test_sets)\n",
    "    \n",
    "    # 判斷是否所有Higgs都匹配\n",
    "    same = nh == nh_max\n",
    "    return same, nh"
   ]
  },
  {
   "cell_type": "code",
   "execution_count": 4,
   "id": "10e7487d",
   "metadata": {},
   "outputs": [],
   "source": [
    "def get_particle_mask(quark_jet, particle_quarks):\n",
    "    # quark_jet: 每個夸克對應的 jet 編號，shape 為 (n_event, 6)\n",
    "    # particle_quarks: 粒子對應的夸克編號，shape 為 (n_quarks,)\n",
    "\n",
    "    # 檢查是否每個夸克都有對應的 jet\n",
    "    mask1 = np.all(quark_jet[:, particle_quarks] != -1, axis=1)\n",
    "\n",
    "    # 對每一個事件，檢查每個夸克對應的 jet 都不重複\n",
    "    count = np.array([[np.sum(event == event[i]) for i in particle_quarks] for event in quark_jet])\n",
    "    mask2 = np.all(count == 1, axis=1)\n",
    "\n",
    "    return mask1 & mask2"
   ]
  },
  {
   "cell_type": "code",
   "execution_count": 5,
   "id": "8c3f1673",
   "metadata": {},
   "outputs": [],
   "source": [
    "def get_Higgs_correct_fraction(events, nh, nj, jet_type='Nj'):\n",
    "    # events: number of events in different categories (nh, nj, n_correct_h)\n",
    "    start_nj, end_nj = nj\n",
    "\n",
    "    label = [f'{nh}h' for _ in range(start_nj, end_nj+2)]\n",
    "\n",
    "    total_event = events[nh].sum(axis=1)\n",
    "\n",
    "    correct_3h_event = events[nh, :, 3]\n",
    "    correct_2h_event = events[nh, :, 2]\n",
    "    correct_1h_event = events[nh, :, 1]\n",
    "    correct_0h_event = events[nh, :, 0]\n",
    "\n",
    "    correct_Higgs = events[nh, :, 3] * 3 + events[nh, :, 2] * 2 + events[nh, :, 1]\n",
    "        \n",
    "    event_type = [f'{jet_type}={nj}' for nj in range(start_nj, end_nj)]\n",
    "    event_type.append(f'{jet_type}>={end_nj}')\n",
    "    event_type.append('Total')\n",
    "\n",
    "    event_fraction = [total_event[nj] / total_event.sum() for nj in range(start_nj, end_nj)]\n",
    "    event_fraction.append(total_event[end_nj:].sum() / total_event.sum())\n",
    "    event_fraction.append(total_event.sum() / total_event.sum())\n",
    "\n",
    "\n",
    "    eff_3h = [correct_3h_event[nj] / total_event[nj] for nj in range(start_nj, end_nj)]\n",
    "    eff_3h.append(correct_3h_event[end_nj:].sum() / total_event[end_nj:].sum())\n",
    "    eff_3h.append(correct_3h_event.sum() / total_event.sum())\n",
    "\n",
    "    eff_2h = [correct_2h_event[nj] / total_event[nj] for nj in range(start_nj, end_nj)]\n",
    "    eff_2h.append(correct_2h_event[end_nj:].sum() / total_event[end_nj:].sum())\n",
    "    eff_2h.append(correct_2h_event.sum() / total_event.sum())\n",
    "\n",
    "    eff_1h = [correct_1h_event[nj] / total_event[nj] for nj in range(start_nj, end_nj)]\n",
    "    eff_1h.append(correct_1h_event[end_nj:].sum() / total_event[end_nj:].sum())\n",
    "    eff_1h.append(correct_1h_event.sum() / total_event.sum())\n",
    "\n",
    "    eff_0h = [correct_0h_event[nj] / total_event[nj] for nj in range(start_nj, end_nj)]\n",
    "    eff_0h.append(correct_0h_event[end_nj:].sum() / total_event[end_nj:].sum())\n",
    "    eff_0h.append(correct_0h_event.sum() / total_event.sum())\n",
    "\n",
    "    eff_Higgs = [correct_Higgs[nj] / (total_event[nj] * nh) for nj in range(start_nj, end_nj)]\n",
    "    eff_Higgs.append(correct_Higgs[end_nj:].sum() / (total_event[end_nj:].sum() * nh))\n",
    "    eff_Higgs.append(correct_Higgs.sum() / (total_event.sum() * nh))\n",
    "        \n",
    "    result = {'Label':label,\n",
    "              'Event type': event_type,\n",
    "              'Event Fraction': event_fraction,\n",
    "              '3h': eff_3h,\n",
    "              '2h': eff_2h,\n",
    "              '1h': eff_1h,\n",
    "              '0h': eff_0h,\n",
    "              'Higgs': eff_Higgs\n",
    "             }\n",
    "\n",
    "    df = pd.DataFrame(result)\n",
    "\n",
    "    return df\n"
   ]
  },
  {
   "cell_type": "code",
   "execution_count": 6,
   "id": "51d83883",
   "metadata": {},
   "outputs": [],
   "source": [
    "# 載入正確配對與測試配對的資料，並計算配對的效率\n",
    "def compute_pairing_efficiency(true_file, test_file, save_path=None):\n",
    "    MAX_JETS = 15\n",
    "\n",
    "    with h5py.File(true_file, 'r') as f_true, h5py.File(test_file, 'r') as f_test:\n",
    "        \n",
    "        # events: 總共有多少該類事件 (nh, nj, n_correct_h)\n",
    "        events = np.zeros((4, MAX_JETS + 1, 4))\n",
    "\n",
    "        nevent = f_true['INPUTS/Source/pt'].shape[0]\n",
    "\n",
    "        for event in tqdm(range(nevent)):\n",
    "\n",
    "            nj = f_true['INPUTS/Source/MASK'][event].sum()\n",
    "\n",
    "            h1_b1 = f_true['TARGETS/h1/b1'][event]\n",
    "            h1_b2 = f_true['TARGETS/h1/b2'][event]\n",
    "            h2_b1 = f_true['TARGETS/h2/b1'][event]\n",
    "            h2_b2 = f_true['TARGETS/h2/b2'][event]\n",
    "            h3_b1 = f_true['TARGETS/h3/b1'][event]\n",
    "            h3_b2 = f_true['TARGETS/h3/b2'][event]\n",
    "\n",
    "            quark_jet = np.array([h1_b1, h1_b2, h2_b1, h2_b2, h3_b1, h3_b2]).reshape(1, 6)\n",
    "\n",
    "            h1_mask = get_particle_mask(quark_jet, [0, 1])\n",
    "            h2_mask = get_particle_mask(quark_jet, [2, 3])\n",
    "            h3_mask = get_particle_mask(quark_jet, [4, 5])\n",
    "\n",
    "            event_h = [h1_mask, h2_mask, h3_mask].count(True)\n",
    "\n",
    "            true_pair = [h1_b1,h1_b2, h2_b1,h2_b2, h3_b1,h3_b2]\n",
    "\n",
    "            try: \n",
    "                h1_b1 = f_test['TARGETS/h1/b1'][event]\n",
    "                h1_b2 = f_test['TARGETS/h1/b2'][event]\n",
    "                h2_b1 = f_test['TARGETS/h2/b1'][event]\n",
    "                h2_b2 = f_test['TARGETS/h2/b2'][event]\n",
    "                h3_b1 = f_test['TARGETS/h3/b1'][event]\n",
    "                h3_b2 = f_test['TARGETS/h3/b2'][event]\n",
    "            except KeyError:\n",
    "                h1_b1 = f_test['SpecialKey.Targets/h1/b1'][event]\n",
    "                h1_b2 = f_test['SpecialKey.Targets/h1/b2'][event]\n",
    "                h2_b1 = f_test['SpecialKey.Targets/h2/b1'][event]\n",
    "                h2_b2 = f_test['SpecialKey.Targets/h2/b2'][event]\n",
    "                h3_b1 = f_test['SpecialKey.Targets/h3/b1'][event]\n",
    "                h3_b2 = f_test['SpecialKey.Targets/h3/b2'][event]\n",
    "            pair = [h1_b1,h1_b2, h2_b1,h2_b2, h3_b1,h3_b2]\n",
    "\n",
    "\n",
    "            if event_h == 3:\n",
    "                _, nh = compare_jet_list_triHiggs_optimized(true_pair, pair, nh_max=3)\n",
    "                events[3, nj, nh] += 1\n",
    "            elif event_h == 2:\n",
    "                _, nh = compare_jet_list_triHiggs_optimized(true_pair, pair, nh_max=2)\n",
    "                events[2, nj, nh] += 1\n",
    "            elif event_h == 1:\n",
    "                _, nh = compare_jet_list_triHiggs_optimized(true_pair, pair, nh_max=1)\n",
    "                events[1, nj, nh] += 1\n",
    "            elif event_h == 0:\n",
    "                events[0, nj, 0] += 1\n",
    "        \n",
    "        \n",
    "        df_3h = get_Higgs_correct_fraction(events, nh=3, nj=(6, 8), jet_type='Nj')  \n",
    "        print('3 Higgs Events:')\n",
    "        print(df_3h)\n",
    "        \n",
    "        if save_path is not None:\n",
    "            os.makedirs(os.path.dirname(save_path), exist_ok=True)\n",
    "            df_3h.to_csv(save_path, index=False)\n",
    "\n",
    "        df_style = df_3h.style.format({\n",
    "            'Event Fraction': '{:.3f}',\n",
    "            '3h': '{:.3f}',\n",
    "            '2h': '{:.3f}',\n",
    "            '1h': '{:.3f}',\n",
    "            '0h': '{:.3f}',\n",
    "            'Higgs': '{:.3f}'\n",
    "        })\n",
    "        print(df_style.to_latex(column_format='c|cccc|c'))\n"
   ]
  },
  {
   "cell_type": "markdown",
   "id": "2586c05e",
   "metadata": {},
   "source": [
    "# Test on $6b$ dataset"
   ]
  },
  {
   "cell_type": "code",
   "execution_count": 7,
   "id": "2ac179c8",
   "metadata": {},
   "outputs": [
    {
     "name": "stderr",
     "output_type": "stream",
     "text": [
      "  0%|          | 0/40000 [00:00<?, ?it/s]"
     ]
    },
    {
     "name": "stderr",
     "output_type": "stream",
     "text": [
      "100%|██████████| 40000/40000 [01:37<00:00, 409.95it/s]\n"
     ]
    },
    {
     "name": "stdout",
     "output_type": "stream",
     "text": [
      "3 Higgs Events:\n",
      "  Label Event type  Event Fraction        3h        2h        1h        0h  \\\n",
      "0    3h       Nj=6        0.210876  0.509454  0.000000  0.363095  0.127451   \n",
      "1    3h       Nj=7        0.318160  0.428986  0.024019  0.370852  0.176143   \n",
      "2    3h      Nj>=8        0.470964  0.310653  0.059654  0.375559  0.254135   \n",
      "3    3h      Total        1.000000  0.390224  0.035737  0.371433  0.202606   \n",
      "\n",
      "      Higgs  \n",
      "0  0.630486  \n",
      "1  0.568616  \n",
      "2  0.475608  \n",
      "3  0.537859  \n",
      "\\begin{tabular}{c|cccc|c}\n",
      " & Label & Event type & Event Fraction & 3h & 2h & 1h & 0h & Higgs \\\\\n",
      "0 & 3h & Nj=6 & 0.211 & 0.509 & 0.000 & 0.363 & 0.127 & 0.630 \\\\\n",
      "1 & 3h & Nj=7 & 0.318 & 0.429 & 0.024 & 0.371 & 0.176 & 0.569 \\\\\n",
      "2 & 3h & Nj>=8 & 0.471 & 0.311 & 0.060 & 0.376 & 0.254 & 0.476 \\\\\n",
      "3 & 3h & Total & 1.000 & 0.390 & 0.036 & 0.371 & 0.203 & 0.538 \\\\\n",
      "\\end{tabular}\n",
      "\n"
     ]
    }
   ],
   "source": [
    "file_path = '../SPANet2/data/triHiggs/gghhh_6b_PT40_test.h5'\n",
    "output_path = '../SPANet2/data/triHiggs/gghhh_6b_PT40_test-chi2_pairing.h5'\n",
    "\n",
    "compute_pairing_efficiency(file_path, output_path)"
   ]
  },
  {
   "cell_type": "code",
   "execution_count": 8,
   "id": "f03b6091",
   "metadata": {},
   "outputs": [
    {
     "name": "stderr",
     "output_type": "stream",
     "text": [
      "100%|██████████| 40000/40000 [01:39<00:00, 403.28it/s]"
     ]
    },
    {
     "name": "stdout",
     "output_type": "stream",
     "text": [
      "3 Higgs Events:\n",
      "  Label Event type  Event Fraction        3h        2h        1h        0h  \\\n",
      "0    3h       Nj=6        0.210876  0.454832  0.000000  0.375350  0.169818   \n",
      "1    3h       Nj=7        0.318160  0.387561  0.024368  0.384428  0.203644   \n",
      "2    3h      Nj>=8        0.470964  0.277808  0.057380  0.387160  0.277651   \n",
      "3    3h      Total        1.000000  0.350057  0.034777  0.383800  0.231366   \n",
      "\n",
      "      Higgs  \n",
      "0  0.579949  \n",
      "1  0.531949  \n",
      "2  0.445115  \n",
      "3  0.501175  \n",
      "\\begin{tabular}{c|cccc|c}\n",
      " & Label & Event type & Event Fraction & 3h & 2h & 1h & 0h & Higgs \\\\\n",
      "0 & 3h & Nj=6 & 0.211 & 0.455 & 0.000 & 0.375 & 0.170 & 0.580 \\\\\n",
      "1 & 3h & Nj=7 & 0.318 & 0.388 & 0.024 & 0.384 & 0.204 & 0.532 \\\\\n",
      "2 & 3h & Nj>=8 & 0.471 & 0.278 & 0.057 & 0.387 & 0.278 & 0.445 \\\\\n",
      "3 & 3h & Total & 1.000 & 0.350 & 0.035 & 0.384 & 0.231 & 0.501 \\\\\n",
      "\\end{tabular}\n",
      "\n"
     ]
    },
    {
     "name": "stderr",
     "output_type": "stream",
     "text": [
      "\n"
     ]
    }
   ],
   "source": [
    "file_path = '../SPANet2/data/triHiggs/gghhh_6b_PT40_test.h5'\n",
    "output_path = '../SPANet2/data/triHiggs/gghhh_6b_PT40_test-abs_pairing.h5'\n",
    "\n",
    "compute_pairing_efficiency(file_path, output_path)"
   ]
  },
  {
   "cell_type": "code",
   "execution_count": 9,
   "id": "76396d61",
   "metadata": {},
   "outputs": [
    {
     "name": "stderr",
     "output_type": "stream",
     "text": [
      "100%|██████████| 40000/40000 [01:39<00:00, 403.49it/s]"
     ]
    },
    {
     "name": "stdout",
     "output_type": "stream",
     "text": [
      "3 Higgs Events:\n",
      "  Label Event type  Event Fraction        3h        2h        1h        0h  \\\n",
      "0    3h       Nj=6        0.210876  0.417367  0.000000  0.414216  0.168417   \n",
      "1    3h       Nj=7        0.318160  0.317707  0.024368  0.439545  0.218380   \n",
      "2    3h      Nj>=8        0.470964  0.219174  0.058243  0.424943  0.297641   \n",
      "3    3h      Total        1.000000  0.292317  0.035183  0.427327  0.245173   \n",
      "\n",
      "      Higgs  \n",
      "0  0.555439  \n",
      "1  0.480467  \n",
      "2  0.399650  \n",
      "3  0.458215  \n",
      "\\begin{tabular}{c|cccc|c}\n",
      " & Label & Event type & Event Fraction & 3h & 2h & 1h & 0h & Higgs \\\\\n",
      "0 & 3h & Nj=6 & 0.211 & 0.417 & 0.000 & 0.414 & 0.168 & 0.555 \\\\\n",
      "1 & 3h & Nj=7 & 0.318 & 0.318 & 0.024 & 0.440 & 0.218 & 0.480 \\\\\n",
      "2 & 3h & Nj>=8 & 0.471 & 0.219 & 0.058 & 0.425 & 0.298 & 0.400 \\\\\n",
      "3 & 3h & Total & 1.000 & 0.292 & 0.035 & 0.427 & 0.245 & 0.458 \\\\\n",
      "\\end{tabular}\n",
      "\n"
     ]
    },
    {
     "name": "stderr",
     "output_type": "stream",
     "text": [
      "\n"
     ]
    }
   ],
   "source": [
    "file_path = '../SPANet2/data/triHiggs/gghhh_6b_PT40_test.h5'\n",
    "output_path = '../SPANet2/data/triHiggs/gghhh_6b_PT40_test-6b_SPANet_pairing.h5'\n",
    "\n",
    "compute_pairing_efficiency(file_path, output_path)"
   ]
  },
  {
   "cell_type": "code",
   "execution_count": 10,
   "id": "3d1153b1",
   "metadata": {},
   "outputs": [
    {
     "name": "stderr",
     "output_type": "stream",
     "text": [
      "100%|██████████| 40000/40000 [01:39<00:00, 402.39it/s]"
     ]
    },
    {
     "name": "stdout",
     "output_type": "stream",
     "text": [
      "3 Higgs Events:\n",
      "  Label Event type  Event Fraction        3h        2h        1h        0h  \\\n",
      "0    3h       Nj=6        0.210876  0.648109  0.000000  0.274860  0.077031   \n",
      "1    3h       Nj=7        0.318160  0.538988  0.038640  0.308424  0.113948   \n",
      "2    3h      Nj>=8        0.470964  0.390217  0.082386  0.350004  0.177393   \n",
      "3    3h      Total        1.000000  0.491933  0.051095  0.320929  0.136043   \n",
      "\n",
      "      Higgs  \n",
      "0  0.739729  \n",
      "1  0.667556  \n",
      "2  0.561809  \n",
      "3  0.632973  \n",
      "\\begin{tabular}{c|cccc|c}\n",
      " & Label & Event type & Event Fraction & 3h & 2h & 1h & 0h & Higgs \\\\\n",
      "0 & 3h & Nj=6 & 0.211 & 0.648 & 0.000 & 0.275 & 0.077 & 0.740 \\\\\n",
      "1 & 3h & Nj=7 & 0.318 & 0.539 & 0.039 & 0.308 & 0.114 & 0.668 \\\\\n",
      "2 & 3h & Nj>=8 & 0.471 & 0.390 & 0.082 & 0.350 & 0.177 & 0.562 \\\\\n",
      "3 & 3h & Total & 1.000 & 0.492 & 0.051 & 0.321 & 0.136 & 0.633 \\\\\n",
      "\\end{tabular}\n",
      "\n"
     ]
    },
    {
     "name": "stderr",
     "output_type": "stream",
     "text": [
      "\n"
     ]
    }
   ],
   "source": [
    "file_path = '../SPANet2/data/triHiggs/gghhh_6b_PT40_test.h5'\n",
    "output_path = '../SPANet2/data/triHiggs/gghhh_6b_PT40_test-4b_SPANet_pairing.h5'\n",
    "\n",
    "compute_pairing_efficiency(file_path, output_path)"
   ]
  },
  {
   "cell_type": "code",
   "execution_count": 7,
   "id": "95365ecf",
   "metadata": {},
   "outputs": [
    {
     "name": "stderr",
     "output_type": "stream",
     "text": [
      "100%|██████████| 200000/200000 [09:39<00:00, 345.36it/s]\n"
     ]
    },
    {
     "name": "stdout",
     "output_type": "stream",
     "text": [
      "3 Higgs Events:\n",
      "  Label Event type  Event Fraction        3h        2h        1h        0h  \\\n",
      "0    3h       Nj=6        0.220804  0.434105  0.000000  0.400612  0.165283   \n",
      "1    3h       Nj=7        0.334405  0.289327  0.067019  0.414038  0.229615   \n",
      "2    3h      Nj>=8        0.444791  0.190125  0.100051  0.402877  0.306947   \n",
      "3    3h      Total        1.000000  0.277170  0.066913  0.406109  0.249807   \n",
      "\n",
      "      Higgs  \n",
      "0  0.567642  \n",
      "1  0.472019  \n",
      "2  0.391118  \n",
      "3  0.457149  \n",
      "\\begin{tabular}{c|cccc|c}\n",
      " & Label & Event type & Event Fraction & 3h & 2h & 1h & 0h & Higgs \\\\\n",
      "0 & 3h & Nj=6 & 0.221 & 0.434 & 0.000 & 0.401 & 0.165 & 0.568 \\\\\n",
      "1 & 3h & Nj=7 & 0.334 & 0.289 & 0.067 & 0.414 & 0.230 & 0.472 \\\\\n",
      "2 & 3h & Nj>=8 & 0.445 & 0.190 & 0.100 & 0.403 & 0.307 & 0.391 \\\\\n",
      "3 & 3h & Total & 1.000 & 0.277 & 0.067 & 0.406 & 0.250 & 0.457 \\\\\n",
      "\\end{tabular}\n",
      "\n"
     ]
    }
   ],
   "source": [
    "file_path = './Sample/SPANet/triHiggs-4pT40_4b-mix-test.h5'\n",
    "output_path = './Sample/SPANet/triHiggs-4pT40_4b-mix-test-4b_SPANet_pairing.h5'\n",
    "\n",
    "compute_pairing_efficiency(file_path, output_path)"
   ]
  },
  {
   "cell_type": "markdown",
   "id": "641d052a",
   "metadata": {},
   "source": [
    "# Evaluate the pairing performance at each mass point"
   ]
  },
  {
   "cell_type": "code",
   "execution_count": 20,
   "id": "2a4c85f7",
   "metadata": {},
   "outputs": [
    {
     "name": "stdout",
     "output_type": "stream",
     "text": [
      "gghhh_bsm_420_280\n"
     ]
    },
    {
     "name": "stderr",
     "output_type": "stream",
     "text": [
      "100%|██████████| 25000/25000 [00:58<00:00, 428.98it/s]\n"
     ]
    },
    {
     "name": "stdout",
     "output_type": "stream",
     "text": [
      "3 Higgs Events:\n",
      "  Label Event type  Event Fraction        3h        2h        1h        0h  \\\n",
      "0    3h       Nj=6        0.243485  0.432319  0.000000  0.412907  0.154774   \n",
      "1    3h       Nj=7        0.340445  0.311820  0.056285  0.413133  0.218762   \n",
      "2    3h      Nj>=8        0.416071  0.213387  0.083205  0.419097  0.284311   \n",
      "3    3h      Total        1.000000  0.300204  0.053781  0.415560  0.230455   \n",
      "\n",
      "      Higgs  \n",
      "0  0.569955  \n",
      "1  0.487054  \n",
      "2  0.408556  \n",
      "3  0.474578  \n",
      "\\begin{tabular}{c|cccc|c}\n",
      " & Label & Event type & Event Fraction & 3h & 2h & 1h & 0h & Higgs \\\\\n",
      "0 & 3h & Nj=6 & 0.243 & 0.432 & 0.000 & 0.413 & 0.155 & 0.570 \\\\\n",
      "1 & 3h & Nj=7 & 0.340 & 0.312 & 0.056 & 0.413 & 0.219 & 0.487 \\\\\n",
      "2 & 3h & Nj>=8 & 0.416 & 0.213 & 0.083 & 0.419 & 0.284 & 0.409 \\\\\n",
      "3 & 3h & Total & 1.000 & 0.300 & 0.054 & 0.416 & 0.230 & 0.475 \\\\\n",
      "\\end{tabular}\n",
      "\n",
      "gghhh_bsm_500_275\n"
     ]
    },
    {
     "name": "stderr",
     "output_type": "stream",
     "text": [
      "100%|██████████| 25000/25000 [00:58<00:00, 429.87it/s]\n"
     ]
    },
    {
     "name": "stdout",
     "output_type": "stream",
     "text": [
      "3 Higgs Events:\n",
      "  Label Event type  Event Fraction        3h        2h        1h        0h  \\\n",
      "0    3h       Nj=6        0.221003  0.397754  0.000000  0.413712  0.188534   \n",
      "1    3h       Nj=7        0.340778  0.256420  0.075891  0.414718  0.252970   \n",
      "2    3h      Nj>=8        0.438218  0.168107  0.096572  0.411326  0.323994   \n",
      "3    3h      Total        1.000000  0.248955  0.068182  0.413009  0.269854   \n",
      "\n",
      "      Higgs  \n",
      "0  0.535658  \n",
      "1  0.445254  \n",
      "2  0.369598  \n",
      "3  0.432079  \n",
      "\\begin{tabular}{c|cccc|c}\n",
      " & Label & Event type & Event Fraction & 3h & 2h & 1h & 0h & Higgs \\\\\n",
      "0 & 3h & Nj=6 & 0.221 & 0.398 & 0.000 & 0.414 & 0.189 & 0.536 \\\\\n",
      "1 & 3h & Nj=7 & 0.341 & 0.256 & 0.076 & 0.415 & 0.253 & 0.445 \\\\\n",
      "2 & 3h & Nj>=8 & 0.438 & 0.168 & 0.097 & 0.411 & 0.324 & 0.370 \\\\\n",
      "3 & 3h & Total & 1.000 & 0.249 & 0.068 & 0.413 & 0.270 & 0.432 \\\\\n",
      "\\end{tabular}\n",
      "\n",
      "gghhh_bsm_500_300\n"
     ]
    },
    {
     "name": "stderr",
     "output_type": "stream",
     "text": [
      "100%|██████████| 25000/25000 [00:58<00:00, 428.90it/s]\n"
     ]
    },
    {
     "name": "stdout",
     "output_type": "stream",
     "text": [
      "3 Higgs Events:\n",
      "  Label Event type  Event Fraction        3h        2h        1h        0h  \\\n",
      "0    3h       Nj=6        0.208950  0.459426  0.000000  0.375229  0.165345   \n",
      "1    3h       Nj=7        0.318205  0.304087  0.055689  0.419071  0.221154   \n",
      "2    3h      Nj>=8        0.472845  0.203559  0.100027  0.396333  0.300081   \n",
      "3    3h      Total        1.000000  0.289011  0.065018  0.399159  0.246813   \n",
      "\n",
      "      Higgs  \n",
      "0  0.584503  \n",
      "1  0.480903  \n",
      "2  0.402355  \n",
      "3  0.465409  \n",
      "\\begin{tabular}{c|cccc|c}\n",
      " & Label & Event type & Event Fraction & 3h & 2h & 1h & 0h & Higgs \\\\\n",
      "0 & 3h & Nj=6 & 0.209 & 0.459 & 0.000 & 0.375 & 0.165 & 0.585 \\\\\n",
      "1 & 3h & Nj=7 & 0.318 & 0.304 & 0.056 & 0.419 & 0.221 & 0.481 \\\\\n",
      "2 & 3h & Nj>=8 & 0.473 & 0.204 & 0.100 & 0.396 & 0.300 & 0.402 \\\\\n",
      "3 & 3h & Total & 1.000 & 0.289 & 0.065 & 0.399 & 0.247 & 0.465 \\\\\n",
      "\\end{tabular}\n",
      "\n",
      "gghhh_bsm_520_325\n"
     ]
    },
    {
     "name": "stderr",
     "output_type": "stream",
     "text": [
      "100%|██████████| 25000/25000 [00:58<00:00, 427.57it/s]"
     ]
    },
    {
     "name": "stdout",
     "output_type": "stream",
     "text": [
      "3 Higgs Events:\n",
      "  Label Event type  Event Fraction        3h        2h        1h        0h  \\\n",
      "0    3h       Nj=6        0.209727  0.448466  0.000000  0.398160  0.153374   \n",
      "1    3h       Nj=7        0.338394  0.285171  0.079848  0.409506  0.225475   \n",
      "2    3h      Nj>=8        0.451879  0.175399  0.119021  0.386674  0.318907   \n",
      "3    3h      Total        1.000000  0.269815  0.080803  0.396809  0.252573   \n",
      "\n",
      "      Higgs  \n",
      "0  0.581186  \n",
      "1  0.474905  \n",
      "2  0.383637  \n",
      "3  0.455953  \n",
      "\\begin{tabular}{c|cccc|c}\n",
      " & Label & Event type & Event Fraction & 3h & 2h & 1h & 0h & Higgs \\\\\n",
      "0 & 3h & Nj=6 & 0.210 & 0.448 & 0.000 & 0.398 & 0.153 & 0.581 \\\\\n",
      "1 & 3h & Nj=7 & 0.338 & 0.285 & 0.080 & 0.410 & 0.225 & 0.475 \\\\\n",
      "2 & 3h & Nj>=8 & 0.452 & 0.175 & 0.119 & 0.387 & 0.319 & 0.384 \\\\\n",
      "3 & 3h & Total & 1.000 & 0.270 & 0.081 & 0.397 & 0.253 & 0.456 \\\\\n",
      "\\end{tabular}\n",
      "\n"
     ]
    },
    {
     "name": "stderr",
     "output_type": "stream",
     "text": [
      "\n"
     ]
    }
   ],
   "source": [
    "for m3_m2 in ['420_280', '500_275', '500_300', '520_325']:\n",
    "    print(f'gghhh_bsm_{m3_m2}')\n",
    "    true_path = f'./Sample/SPANet/sig/gghhh_bsm_{m3_m2}/gghhh-4pT40_4b-test.h5'\n",
    "    predict_path = f'./Sample/SPANet/sig/gghhh_bsm_{m3_m2}/gghhh-4pT40_4b-test-4b_SPANet_predict.h5'\n",
    "    csv_path = f'./pairing_performance/gghhh_bsm_{m3_m2}/gghhh-4pT40_4b-test-4b_SPANet_pairing.csv'\n",
    "    compute_pairing_efficiency(true_path, predict_path, save_path=csv_path)\n",
    "\n",
    "for m3_m2 in ['420_280', '500_275', '500_300', '520_325']:\n",
    "    print(f'gghhh_bsm_{m3_m2}')\n",
    "    true_path = f'./Sample/SPANet/sig/gghhh_bsm_{m3_m2}/gghhh-4pT40_4b-test.h5'\n",
    "    predict_path = f'./Sample/SPANet/sig/gghhh_bsm_{m3_m2}/gghhh-4pT40_4b-test-chi2_pairing.h5'\n",
    "    csv_path = f'./pairing_performance/gghhh_bsm_{m3_m2}/gghhh-4pT40_4b-test-chi2_pairing.csv'\n",
    "    compute_pairing_efficiency(true_path, predict_path, save_path=csv_path)\n",
    "\n",
    "for m3_m2 in ['420_280', '500_275', '500_300', '520_325']:\n",
    "    print(f'gghhh_bsm_{m3_m2}')\n",
    "    true_path = f'./Sample/SPANet/sig/gghhh_bsm_{m3_m2}/gghhh-4pT40_4b-test.h5'\n",
    "    predict_path = f'./Sample/SPANet/sig/gghhh_bsm_{m3_m2}/gghhh-4pT40_4b-test-abs_pairing.h5'\n",
    "    csv_path = f'./pairing_performance/gghhh_bsm_{m3_m2}/gghhh-4pT40_4b-test-abs_pairing.csv'\n",
    "    compute_pairing_efficiency(true_path, predict_path, save_path=csv_path)"
   ]
  },
  {
   "cell_type": "code",
   "execution_count": 46,
   "id": "4cf3eff9",
   "metadata": {},
   "outputs": [
    {
     "name": "stdout",
     "output_type": "stream",
     "text": [
      "gghhh_bsm_420_280\n"
     ]
    },
    {
     "name": "stderr",
     "output_type": "stream",
     "text": [
      "100%|██████████| 12500/12500 [00:29<00:00, 430.75it/s]\n"
     ]
    },
    {
     "name": "stdout",
     "output_type": "stream",
     "text": [
      "3 Higgs Events:\n",
      "  Label Event type  Event Fraction        3h        2h        1h        0h  \\\n",
      "0    3h       Nj=6        0.220331  0.496825  0.000000  0.370370  0.132804   \n",
      "1    3h       Nj=7        0.314409  0.366333  0.029663  0.416389  0.187616   \n",
      "2    3h      Nj>=8        0.465260  0.262841  0.065147  0.415936  0.256076   \n",
      "3    3h      Total        1.000000  0.346934  0.039636  0.406039  0.207391   \n",
      "\n",
      "      Higgs  \n",
      "0  0.620282  \n",
      "1  0.524904  \n",
      "2  0.444918  \n",
      "3  0.508704  \n",
      "\\begin{tabular}{c|cccc|c}\n",
      " & Label & Event type & Event Fraction & 3h & 2h & 1h & 0h & Higgs \\\\\n",
      "0 & 3h & Nj=6 & 0.220 & 0.497 & 0.000 & 0.370 & 0.133 & 0.620 \\\\\n",
      "1 & 3h & Nj=7 & 0.314 & 0.366 & 0.030 & 0.416 & 0.188 & 0.525 \\\\\n",
      "2 & 3h & Nj>=8 & 0.465 & 0.263 & 0.065 & 0.416 & 0.256 & 0.445 \\\\\n",
      "3 & 3h & Total & 1.000 & 0.347 & 0.040 & 0.406 & 0.207 & 0.509 \\\\\n",
      "\\end{tabular}\n",
      "\n",
      "gghhh_bsm_500_275\n"
     ]
    },
    {
     "name": "stderr",
     "output_type": "stream",
     "text": [
      "100%|██████████| 12500/12500 [00:29<00:00, 430.87it/s]\n"
     ]
    },
    {
     "name": "stdout",
     "output_type": "stream",
     "text": [
      "3 Higgs Events:\n",
      "  Label Event type  Event Fraction        3h        2h        1h        0h  \\\n",
      "0    3h       Nj=6        0.182518  0.432806  0.000000  0.393939  0.173254   \n",
      "1    3h       Nj=7        0.294337  0.306781  0.034722  0.417484  0.241013   \n",
      "2    3h      Nj>=8        0.523145  0.205930  0.069409  0.392324  0.332337   \n",
      "3    3h      Total        1.000000  0.277023  0.046531  0.400024  0.276422   \n",
      "\n",
      "      Higgs  \n",
      "0  0.564119  \n",
      "1  0.469090  \n",
      "2  0.382977  \n",
      "3  0.441385  \n",
      "\\begin{tabular}{c|cccc|c}\n",
      " & Label & Event type & Event Fraction & 3h & 2h & 1h & 0h & Higgs \\\\\n",
      "0 & 3h & Nj=6 & 0.183 & 0.433 & 0.000 & 0.394 & 0.173 & 0.564 \\\\\n",
      "1 & 3h & Nj=7 & 0.294 & 0.307 & 0.035 & 0.417 & 0.241 & 0.469 \\\\\n",
      "2 & 3h & Nj>=8 & 0.523 & 0.206 & 0.069 & 0.392 & 0.332 & 0.383 \\\\\n",
      "3 & 3h & Total & 1.000 & 0.277 & 0.047 & 0.400 & 0.276 & 0.441 \\\\\n",
      "\\end{tabular}\n",
      "\n",
      "gghhh_bsm_500_300\n"
     ]
    },
    {
     "name": "stderr",
     "output_type": "stream",
     "text": [
      "100%|██████████| 12500/12500 [00:29<00:00, 429.76it/s]\n"
     ]
    },
    {
     "name": "stdout",
     "output_type": "stream",
     "text": [
      "3 Higgs Events:\n",
      "  Label Event type  Event Fraction        3h        2h        1h        0h  \\\n",
      "0    3h       Nj=6        0.177469  0.450167  0.000000  0.397993  0.151839   \n",
      "1    3h       Nj=7        0.300451  0.375346  0.036744  0.384433  0.203477   \n",
      "2    3h      Nj>=8        0.522080  0.234879  0.072533  0.395407  0.297181   \n",
      "3    3h      Total        1.000000  0.315290  0.048908  0.392569  0.243234   \n",
      "\n",
      "      Higgs  \n",
      "0  0.582832  \n",
      "1  0.527986  \n",
      "2  0.415037  \n",
      "3  0.478751  \n",
      "\\begin{tabular}{c|cccc|c}\n",
      " & Label & Event type & Event Fraction & 3h & 2h & 1h & 0h & Higgs \\\\\n",
      "0 & 3h & Nj=6 & 0.177 & 0.450 & 0.000 & 0.398 & 0.152 & 0.583 \\\\\n",
      "1 & 3h & Nj=7 & 0.300 & 0.375 & 0.037 & 0.384 & 0.203 & 0.528 \\\\\n",
      "2 & 3h & Nj>=8 & 0.522 & 0.235 & 0.073 & 0.395 & 0.297 & 0.415 \\\\\n",
      "3 & 3h & Total & 1.000 & 0.315 & 0.049 & 0.393 & 0.243 & 0.479 \\\\\n",
      "\\end{tabular}\n",
      "\n",
      "gghhh_bsm_520_325\n"
     ]
    },
    {
     "name": "stderr",
     "output_type": "stream",
     "text": [
      "100%|██████████| 12500/12500 [00:29<00:00, 430.45it/s]\n"
     ]
    },
    {
     "name": "stdout",
     "output_type": "stream",
     "text": [
      "3 Higgs Events:\n",
      "  Label Event type  Event Fraction        3h        2h        1h        0h  \\\n",
      "0    3h       Nj=6        0.160249  0.440939  0.000000  0.369741  0.189320   \n",
      "1    3h       Nj=7        0.288733  0.328693  0.053435  0.392905  0.224966   \n",
      "2    3h      Nj>=8        0.551018  0.201647  0.084706  0.392706  0.320941   \n",
      "3    3h      Total        1.000000  0.276676  0.062103  0.389083  0.272138   \n",
      "\n",
      "      Higgs  \n",
      "0  0.564186  \n",
      "1  0.495285  \n",
      "2  0.389020  \n",
      "3  0.447772  \n",
      "\\begin{tabular}{c|cccc|c}\n",
      " & Label & Event type & Event Fraction & 3h & 2h & 1h & 0h & Higgs \\\\\n",
      "0 & 3h & Nj=6 & 0.160 & 0.441 & 0.000 & 0.370 & 0.189 & 0.564 \\\\\n",
      "1 & 3h & Nj=7 & 0.289 & 0.329 & 0.053 & 0.393 & 0.225 & 0.495 \\\\\n",
      "2 & 3h & Nj>=8 & 0.551 & 0.202 & 0.085 & 0.393 & 0.321 & 0.389 \\\\\n",
      "3 & 3h & Total & 1.000 & 0.277 & 0.062 & 0.389 & 0.272 & 0.448 \\\\\n",
      "\\end{tabular}\n",
      "\n",
      "gghhh_bsm_420_280\n"
     ]
    },
    {
     "name": "stderr",
     "output_type": "stream",
     "text": [
      "100%|██████████| 12500/12500 [00:28<00:00, 436.14it/s]\n"
     ]
    },
    {
     "name": "stdout",
     "output_type": "stream",
     "text": [
      "3 Higgs Events:\n",
      "  Label Event type  Event Fraction        3h        2h        1h        0h  \\\n",
      "0    3h       Nj=6        0.220331  0.527513  0.000000  0.355556  0.116931   \n",
      "1    3h       Nj=7        0.314409  0.430478  0.029663  0.363367  0.176492   \n",
      "2    3h      Nj>=8        0.465260  0.323728  0.056878  0.364320  0.255074   \n",
      "3    3h      Total        1.000000  0.402192  0.035789  0.362089  0.199930   \n",
      "\n",
      "      Higgs  \n",
      "0  0.646032  \n",
      "1  0.571376  \n",
      "2  0.483087  \n",
      "3  0.546747  \n",
      "\\begin{tabular}{c|cccc|c}\n",
      " & Label & Event type & Event Fraction & 3h & 2h & 1h & 0h & Higgs \\\\\n",
      "0 & 3h & Nj=6 & 0.220 & 0.528 & 0.000 & 0.356 & 0.117 & 0.646 \\\\\n",
      "1 & 3h & Nj=7 & 0.314 & 0.430 & 0.030 & 0.363 & 0.176 & 0.571 \\\\\n",
      "2 & 3h & Nj>=8 & 0.465 & 0.324 & 0.057 & 0.364 & 0.255 & 0.483 \\\\\n",
      "3 & 3h & Total & 1.000 & 0.402 & 0.036 & 0.362 & 0.200 & 0.547 \\\\\n",
      "\\end{tabular}\n",
      "\n",
      "gghhh_bsm_500_275\n"
     ]
    },
    {
     "name": "stderr",
     "output_type": "stream",
     "text": [
      "100%|██████████| 12500/12500 [00:28<00:00, 434.95it/s]\n"
     ]
    },
    {
     "name": "stdout",
     "output_type": "stream",
     "text": [
      "3 Higgs Events:\n",
      "  Label Event type  Event Fraction        3h        2h        1h        0h  \\\n",
      "0    3h       Nj=6        0.182518  0.407773  0.000000  0.381423  0.210804   \n",
      "1    3h       Nj=7        0.294337  0.308007  0.021242  0.375000  0.295752   \n",
      "2    3h      Nj>=8        0.523145  0.195357  0.052861  0.382211  0.369570   \n",
      "3    3h      Total        1.000000  0.267284  0.033906  0.379945  0.318865   \n",
      "\n",
      "      Higgs  \n",
      "0  0.534914  \n",
      "1  0.447168  \n",
      "2  0.358002  \n",
      "3  0.416536  \n",
      "\\begin{tabular}{c|cccc|c}\n",
      " & Label & Event type & Event Fraction & 3h & 2h & 1h & 0h & Higgs \\\\\n",
      "0 & 3h & Nj=6 & 0.183 & 0.408 & 0.000 & 0.381 & 0.211 & 0.535 \\\\\n",
      "1 & 3h & Nj=7 & 0.294 & 0.308 & 0.021 & 0.375 & 0.296 & 0.447 \\\\\n",
      "2 & 3h & Nj>=8 & 0.523 & 0.195 & 0.053 & 0.382 & 0.370 & 0.358 \\\\\n",
      "3 & 3h & Total & 1.000 & 0.267 & 0.034 & 0.380 & 0.319 & 0.417 \\\\\n",
      "\\end{tabular}\n",
      "\n",
      "gghhh_bsm_500_300\n"
     ]
    },
    {
     "name": "stderr",
     "output_type": "stream",
     "text": [
      "100%|██████████| 12500/12500 [00:28<00:00, 436.62it/s]\n"
     ]
    },
    {
     "name": "stdout",
     "output_type": "stream",
     "text": [
      "3 Higgs Events:\n",
      "  Label Event type  Event Fraction        3h        2h        1h        0h  \\\n",
      "0    3h       Nj=6        0.177469  0.371237  0.000000  0.391304  0.237458   \n",
      "1    3h       Nj=7        0.300451  0.311339  0.019360  0.395891  0.273410   \n",
      "2    3h      Nj>=8        0.522080  0.191905  0.044111  0.396317  0.367667   \n",
      "3    3h      Total        1.000000  0.259615  0.028846  0.395299  0.316239   \n",
      "\n",
      "      Higgs  \n",
      "0  0.501672  \n",
      "1  0.456210  \n",
      "2  0.353418  \n",
      "3  0.410613  \n",
      "\\begin{tabular}{c|cccc|c}\n",
      " & Label & Event type & Event Fraction & 3h & 2h & 1h & 0h & Higgs \\\\\n",
      "0 & 3h & Nj=6 & 0.177 & 0.371 & 0.000 & 0.391 & 0.237 & 0.502 \\\\\n",
      "1 & 3h & Nj=7 & 0.300 & 0.311 & 0.019 & 0.396 & 0.273 & 0.456 \\\\\n",
      "2 & 3h & Nj>=8 & 0.522 & 0.192 & 0.044 & 0.396 & 0.368 & 0.353 \\\\\n",
      "3 & 3h & Total & 1.000 & 0.260 & 0.029 & 0.395 & 0.316 & 0.411 \\\\\n",
      "\\end{tabular}\n",
      "\n",
      "gghhh_bsm_520_325\n"
     ]
    },
    {
     "name": "stderr",
     "output_type": "stream",
     "text": [
      "100%|██████████| 12500/12500 [00:28<00:00, 437.00it/s]\n"
     ]
    },
    {
     "name": "stdout",
     "output_type": "stream",
     "text": [
      "3 Higgs Events:\n",
      "  Label Event type  Event Fraction        3h        2h        1h        0h  \\\n",
      "0    3h       Nj=6        0.160249  0.363269  0.000000  0.403722  0.233010   \n",
      "1    3h       Nj=7        0.288733  0.287831  0.034127  0.393354  0.284688   \n",
      "2    3h      Nj>=8        0.551018  0.180941  0.054824  0.387765  0.376471   \n",
      "3    3h      Total        1.000000  0.241022  0.040062  0.391936  0.326980   \n",
      "\n",
      "      Higgs  \n",
      "0  0.497843  \n",
      "1  0.441700  \n",
      "2  0.346745  \n",
      "3  0.398375  \n",
      "\\begin{tabular}{c|cccc|c}\n",
      " & Label & Event type & Event Fraction & 3h & 2h & 1h & 0h & Higgs \\\\\n",
      "0 & 3h & Nj=6 & 0.160 & 0.363 & 0.000 & 0.404 & 0.233 & 0.498 \\\\\n",
      "1 & 3h & Nj=7 & 0.289 & 0.288 & 0.034 & 0.393 & 0.285 & 0.442 \\\\\n",
      "2 & 3h & Nj>=8 & 0.551 & 0.181 & 0.055 & 0.388 & 0.376 & 0.347 \\\\\n",
      "3 & 3h & Total & 1.000 & 0.241 & 0.040 & 0.392 & 0.327 & 0.398 \\\\\n",
      "\\end{tabular}\n",
      "\n",
      "gghhh_bsm_420_280\n"
     ]
    },
    {
     "name": "stderr",
     "output_type": "stream",
     "text": [
      "100%|██████████| 12500/12500 [00:28<00:00, 436.63it/s]\n"
     ]
    },
    {
     "name": "stdout",
     "output_type": "stream",
     "text": [
      "3 Higgs Events:\n",
      "  Label Event type  Event Fraction        3h        2h        1h        0h  \\\n",
      "0    3h       Nj=6        0.220331  0.465079  0.000000  0.381481  0.153439   \n",
      "1    3h       Nj=7        0.314409  0.374490  0.028550  0.381164  0.215795   \n",
      "2    3h      Nj>=8        0.465260  0.295665  0.054623  0.372839  0.276873   \n",
      "3    3h      Total        1.000000  0.357776  0.034390  0.377361  0.230473   \n",
      "\n",
      "      Higgs  \n",
      "0  0.592240  \n",
      "1  0.520578  \n",
      "2  0.456360  \n",
      "3  0.506489  \n",
      "\\begin{tabular}{c|cccc|c}\n",
      " & Label & Event type & Event Fraction & 3h & 2h & 1h & 0h & Higgs \\\\\n",
      "0 & 3h & Nj=6 & 0.220 & 0.465 & 0.000 & 0.381 & 0.153 & 0.592 \\\\\n",
      "1 & 3h & Nj=7 & 0.314 & 0.374 & 0.029 & 0.381 & 0.216 & 0.521 \\\\\n",
      "2 & 3h & Nj>=8 & 0.465 & 0.296 & 0.055 & 0.373 & 0.277 & 0.456 \\\\\n",
      "3 & 3h & Total & 1.000 & 0.358 & 0.034 & 0.377 & 0.230 & 0.506 \\\\\n",
      "\\end{tabular}\n",
      "\n",
      "gghhh_bsm_500_275\n"
     ]
    },
    {
     "name": "stderr",
     "output_type": "stream",
     "text": [
      "100%|██████████| 12500/12500 [00:28<00:00, 436.45it/s]\n"
     ]
    },
    {
     "name": "stdout",
     "output_type": "stream",
     "text": [
      "3 Higgs Events:\n",
      "  Label Event type  Event Fraction        3h        2h        1h        0h  \\\n",
      "0    3h       Nj=6        0.182518  0.456522  0.000000  0.353755  0.189723   \n",
      "1    3h       Nj=7        0.294337  0.349265  0.023693  0.378268  0.248775   \n",
      "2    3h      Nj>=8        0.523145  0.220179  0.056539  0.385888  0.337394   \n",
      "3    3h      Total        1.000000  0.301311  0.036552  0.377780  0.284357   \n",
      "\n",
      "      Higgs  \n",
      "0  0.574440  \n",
      "1  0.491149  \n",
      "2  0.386501  \n",
      "3  0.451605  \n",
      "\\begin{tabular}{c|cccc|c}\n",
      " & Label & Event type & Event Fraction & 3h & 2h & 1h & 0h & Higgs \\\\\n",
      "0 & 3h & Nj=6 & 0.183 & 0.457 & 0.000 & 0.354 & 0.190 & 0.574 \\\\\n",
      "1 & 3h & Nj=7 & 0.294 & 0.349 & 0.024 & 0.378 & 0.249 & 0.491 \\\\\n",
      "2 & 3h & Nj>=8 & 0.523 & 0.220 & 0.057 & 0.386 & 0.337 & 0.387 \\\\\n",
      "3 & 3h & Total & 1.000 & 0.301 & 0.037 & 0.378 & 0.284 & 0.452 \\\\\n",
      "\\end{tabular}\n",
      "\n",
      "gghhh_bsm_500_300\n"
     ]
    },
    {
     "name": "stderr",
     "output_type": "stream",
     "text": [
      "100%|██████████| 12500/12500 [00:28<00:00, 437.49it/s]\n"
     ]
    },
    {
     "name": "stdout",
     "output_type": "stream",
     "text": [
      "3 Higgs Events:\n",
      "  Label Event type  Event Fraction        3h        2h        1h        0h  \\\n",
      "0    3h       Nj=6        0.177469  0.439465  0.000000  0.367224  0.193311   \n",
      "1    3h       Nj=7        0.300451  0.362702  0.022916  0.371000  0.243382   \n",
      "2    3h      Nj>=8        0.522080  0.232833  0.052524  0.370396  0.344247   \n",
      "3    3h      Total        1.000000  0.308523  0.034307  0.370014  0.287156   \n",
      "\n",
      "      Higgs  \n",
      "0  0.561873  \n",
      "1  0.501646  \n",
      "2  0.391314  \n",
      "3  0.454733  \n",
      "\\begin{tabular}{c|cccc|c}\n",
      " & Label & Event type & Event Fraction & 3h & 2h & 1h & 0h & Higgs \\\\\n",
      "0 & 3h & Nj=6 & 0.177 & 0.439 & 0.000 & 0.367 & 0.193 & 0.562 \\\\\n",
      "1 & 3h & Nj=7 & 0.300 & 0.363 & 0.023 & 0.371 & 0.243 & 0.502 \\\\\n",
      "2 & 3h & Nj>=8 & 0.522 & 0.233 & 0.053 & 0.370 & 0.344 & 0.391 \\\\\n",
      "3 & 3h & Total & 1.000 & 0.309 & 0.034 & 0.370 & 0.287 & 0.455 \\\\\n",
      "\\end{tabular}\n",
      "\n",
      "gghhh_bsm_520_325\n"
     ]
    },
    {
     "name": "stderr",
     "output_type": "stream",
     "text": [
      "100%|██████████| 12500/12500 [00:28<00:00, 436.67it/s]"
     ]
    },
    {
     "name": "stdout",
     "output_type": "stream",
     "text": [
      "3 Higgs Events:\n",
      "  Label Event type  Event Fraction        3h        2h        1h        0h  \\\n",
      "0    3h       Nj=6        0.160249  0.433657  0.000000  0.372168  0.194175   \n",
      "1    3h       Nj=7        0.288733  0.333633  0.037719  0.380781  0.247867   \n",
      "2    3h      Nj>=8        0.551018  0.212000  0.068471  0.380941  0.338588   \n",
      "3    3h      Total        1.000000  0.282640  0.048619  0.379489  0.289252   \n",
      "\n",
      "      Higgs  \n",
      "0  0.557713  \n",
      "1  0.485706  \n",
      "2  0.384627  \n",
      "3  0.441549  \n",
      "\\begin{tabular}{c|cccc|c}\n",
      " & Label & Event type & Event Fraction & 3h & 2h & 1h & 0h & Higgs \\\\\n",
      "0 & 3h & Nj=6 & 0.160 & 0.434 & 0.000 & 0.372 & 0.194 & 0.558 \\\\\n",
      "1 & 3h & Nj=7 & 0.289 & 0.334 & 0.038 & 0.381 & 0.248 & 0.486 \\\\\n",
      "2 & 3h & Nj>=8 & 0.551 & 0.212 & 0.068 & 0.381 & 0.339 & 0.385 \\\\\n",
      "3 & 3h & Total & 1.000 & 0.283 & 0.049 & 0.379 & 0.289 & 0.442 \\\\\n",
      "\\end{tabular}\n",
      "\n"
     ]
    },
    {
     "name": "stderr",
     "output_type": "stream",
     "text": [
      "\n"
     ]
    }
   ],
   "source": [
    "for m3_m2 in ['420_280', '500_275', '500_300', '520_325']:\n",
    "    print(f'gghhh_bsm_{m3_m2}')\n",
    "    true_path = f'./Sample/SPANet/sig/gghhh_bsm_{m3_m2}/gghhh-4pT40_6b-1.h5'\n",
    "    predict_path = f'./Sample/SPANet/sig/gghhh_bsm_{m3_m2}/gghhh-4pT40_6b-1-4b_SPANet_predict.h5'\n",
    "    csv_path = f'./pairing_performance/gghhh_bsm_{m3_m2}/gghhh-4pT40_6b-1-4b_SPANet_pairing.csv'\n",
    "    compute_pairing_efficiency(true_path, predict_path, save_path=csv_path)\n",
    "\n",
    "for m3_m2 in ['420_280', '500_275', '500_300', '520_325']:\n",
    "    print(f'gghhh_bsm_{m3_m2}')\n",
    "    true_path = f'./Sample/SPANet/sig/gghhh_bsm_{m3_m2}/gghhh-4pT40_6b-1.h5'\n",
    "    predict_path = f'./Sample/SPANet/sig/gghhh_bsm_{m3_m2}/gghhh-4pT40_6b-1-chi2_pairing.h5'\n",
    "    csv_path = f'./pairing_performance/gghhh_bsm_{m3_m2}/gghhh-4pT40_6b-1-chi2_pairing.csv'\n",
    "    compute_pairing_efficiency(true_path, predict_path, save_path=csv_path)\n",
    "\n",
    "for m3_m2 in ['420_280', '500_275', '500_300', '520_325']:\n",
    "    print(f'gghhh_bsm_{m3_m2}')\n",
    "    true_path = f'./Sample/SPANet/sig/gghhh_bsm_{m3_m2}/gghhh-4pT40_6b-1.h5'\n",
    "    predict_path = f'./Sample/SPANet/sig/gghhh_bsm_{m3_m2}/gghhh-4pT40_6b-1-abs_pairing.h5'\n",
    "    csv_path = f'./pairing_performance/gghhh_bsm_{m3_m2}/gghhh-4pT40_6b-1-abs_pairing.csv'\n",
    "    compute_pairing_efficiency(true_path, predict_path, save_path=csv_path)"
   ]
  },
  {
   "cell_type": "markdown",
   "id": "38033d7e",
   "metadata": {},
   "source": [
    "# TRSM"
   ]
  },
  {
   "cell_type": "code",
   "execution_count": 7,
   "id": "8c80b92f",
   "metadata": {},
   "outputs": [
    {
     "name": "stdout",
     "output_type": "stream",
     "text": [
      "gghhh_bsm_420_280\n"
     ]
    },
    {
     "name": "stderr",
     "output_type": "stream",
     "text": [
      "100%|██████████| 32385/32385 [01:21<00:00, 398.59it/s]\n"
     ]
    },
    {
     "name": "stdout",
     "output_type": "stream",
     "text": [
      "3 Higgs Events:\n",
      "  Label Event type  Event Fraction        3h        2h        1h        0h  \\\n",
      "0    3h       Nj=6        0.238944  0.493122  0.000000  0.361817  0.145060   \n",
      "1    3h       Nj=7        0.338446  0.271925  0.085639  0.394644  0.247793   \n",
      "2    3h      Nj>=8        0.422610  0.154843  0.108650  0.389347  0.347160   \n",
      "3    3h      Total        1.000000  0.275299  0.074900  0.384562  0.265239   \n",
      "\n",
      "      Higgs  \n",
      "0  0.613728  \n",
      "1  0.460565  \n",
      "2  0.357059  \n",
      "3  0.453420  \n",
      "\\begin{tabular}{c|cccc|c}\n",
      " & Label & Event type & Event Fraction & 3h & 2h & 1h & 0h & Higgs \\\\\n",
      "0 & 3h & Nj=6 & 0.239 & 0.493 & 0.000 & 0.362 & 0.145 & 0.614 \\\\\n",
      "1 & 3h & Nj=7 & 0.338 & 0.272 & 0.086 & 0.395 & 0.248 & 0.461 \\\\\n",
      "2 & 3h & Nj>=8 & 0.423 & 0.155 & 0.109 & 0.389 & 0.347 & 0.357 \\\\\n",
      "3 & 3h & Total & 1.000 & 0.275 & 0.075 & 0.385 & 0.265 & 0.453 \\\\\n",
      "\\end{tabular}\n",
      "\n",
      "gghhh_bsm_420_280\n"
     ]
    },
    {
     "name": "stderr",
     "output_type": "stream",
     "text": [
      "100%|██████████| 32385/32385 [01:21<00:00, 395.30it/s]"
     ]
    },
    {
     "name": "stdout",
     "output_type": "stream",
     "text": [
      "3 Higgs Events:\n",
      "  Label Event type  Event Fraction        3h        2h        1h        0h  \\\n",
      "0    3h       Nj=6        0.238944  0.438099  0.000000  0.377657  0.184243   \n",
      "1    3h       Nj=7        0.338446  0.237198  0.077104  0.396704  0.288994   \n",
      "2    3h      Nj>=8        0.422610  0.140702  0.099929  0.389819  0.369550   \n",
      "3    3h      Total        1.000000  0.244422  0.068327  0.389243  0.298008   \n",
      "\n",
      "      Higgs  \n",
      "0  0.563985  \n",
      "1  0.420836  \n",
      "2  0.337261  \n",
      "3  0.419721  \n",
      "\\begin{tabular}{c|cccc|c}\n",
      " & Label & Event type & Event Fraction & 3h & 2h & 1h & 0h & Higgs \\\\\n",
      "0 & 3h & Nj=6 & 0.239 & 0.438 & 0.000 & 0.378 & 0.184 & 0.564 \\\\\n",
      "1 & 3h & Nj=7 & 0.338 & 0.237 & 0.077 & 0.397 & 0.289 & 0.421 \\\\\n",
      "2 & 3h & Nj>=8 & 0.423 & 0.141 & 0.100 & 0.390 & 0.370 & 0.337 \\\\\n",
      "3 & 3h & Total & 1.000 & 0.244 & 0.068 & 0.389 & 0.298 & 0.420 \\\\\n",
      "\\end{tabular}\n",
      "\n"
     ]
    },
    {
     "name": "stderr",
     "output_type": "stream",
     "text": [
      "\n"
     ]
    }
   ],
   "source": [
    "# for m3_m2 in ['420_280']:\n",
    "#     print(f'gghhh_bsm_{m3_m2}')\n",
    "#     true_path = f'./Sample/SPANet/TRSM_{m3_m2}/gghhh_4b_PT40.h5'\n",
    "#     predict_path = f'./Sample/SPANet/TRSM_{m3_m2}/gghhh_4b_PT40-4b_SPANet_predict.h5'\n",
    "#     csv_path = f'./pairing_performance/TRSM_{m3_m2}/gghhh_4b_PT40-4b_SPANet_pairing.csv'\n",
    "#     compute_pairing_efficiency(true_path, predict_path, save_path=csv_path)\n",
    "\n",
    "for m3_m2 in ['420_280']:\n",
    "    print(f'gghhh_bsm_{m3_m2}')\n",
    "    true_path = f'./Sample/SPANet/TRSM_{m3_m2}/gghhh_4b_PT40.h5'\n",
    "    predict_path = f'./Sample/SPANet/TRSM_{m3_m2}/gghhh_4b_PT40-chi2_pairing.h5'\n",
    "    csv_path = f'./pairing_performance/TRSM_{m3_m2}/gghhh_4b_PT40-chi2_pairing.csv'\n",
    "    compute_pairing_efficiency(true_path, predict_path, save_path=csv_path)\n",
    "\n",
    "for m3_m2 in ['420_280']:\n",
    "    print(f'gghhh_bsm_{m3_m2}')\n",
    "    true_path = f'./Sample/SPANet/TRSM_{m3_m2}/gghhh_4b_PT40.h5'\n",
    "    predict_path = f'./Sample/SPANet/TRSM_{m3_m2}/gghhh_4b_PT40-abs_pairing.h5'\n",
    "    csv_path = f'./pairing_performance/TRSM_{m3_m2}/gghhh_4b_PT40-abs_pairing.csv'\n",
    "    compute_pairing_efficiency(true_path, predict_path, save_path=csv_path)"
   ]
  },
  {
   "cell_type": "markdown",
   "id": "8ad183ba",
   "metadata": {},
   "source": [
    "# Plot the event efficiency"
   ]
  },
  {
   "cell_type": "code",
   "execution_count": 2,
   "id": "ee54e45d",
   "metadata": {},
   "outputs": [
    {
     "data": {
      "image/png": "[encoded data removed]",
      "text/plain": [
       "<Figure size 500x400 with 1 Axes>"
      ]
     },
     "metadata": {},
     "output_type": "display_data"
    }
   ],
   "source": [
    "# load pairing results\n",
    "SPANet_effs = [] \n",
    "chi2_effs = []\n",
    "abs_effs = []\n",
    "\n",
    "for m3_m2 in ['420_280', '500_275', '500_300', '520_325']:\n",
    "\n",
    "    csv_path = f'./pairing_performance/gghhh_bsm_{m3_m2}/gghhh-4pT40_4b-test-4b_SPANet_pairing.csv'\n",
    "    df = pd.read_csv(csv_path)\n",
    "    SPANet_effs.append(df[df['Event type'] == 'Total']['3h'])\n",
    "\n",
    "    csv_path = f'./pairing_performance/gghhh_bsm_{m3_m2}/gghhh-4pT40_4b-test-chi2_pairing.csv'\n",
    "    df = pd.read_csv(csv_path)\n",
    "    chi2_effs.append(df[df['Event type'] == 'Total']['3h'])\n",
    "\n",
    "    csv_path = f'./pairing_performance/gghhh_bsm_{m3_m2}/gghhh-4pT40_4b-test-abs_pairing.csv'\n",
    "    df = pd.read_csv(csv_path)\n",
    "    abs_effs.append(df[df['Event type'] == 'Total']['3h'])\n",
    "\n",
    "# plot the results\n",
    "m3_m2 = ['420/280', '500/275', '500/300', '520/325']\n",
    "fig, ax = plt.subplots(figsize=(5, 4))\n",
    "\n",
    "ax.plot(m3_m2, SPANet_effs, marker='o', label='SPANet')\n",
    "ax.plot(m3_m2, chi2_effs, marker='o', label='$(m - m_h)^2$')\n",
    "ax.plot(m3_m2, abs_effs, marker='o', label='$|m - m_h|$')\n",
    "ax.set_title('$4b$ datasets')\n",
    "ax.set_xlabel('$m_{h_3}/m_{h_2}$ [GeV]')\n",
    "ax.set_ylabel('Event Efficiency')\n",
    "ax.legend(frameon=False)\n",
    "\n",
    "plt.savefig('./figures/pairing_performance-4b_datasets.pdf', dpi=300, facecolor='White', bbox_inches='tight')\n",
    "plt.show()"
   ]
  },
  {
   "cell_type": "code",
   "execution_count": 3,
   "id": "d8eb3bca",
   "metadata": {},
   "outputs": [
    {
     "data": {
      "image/png": "[encoded data removed]",
      "text/plain": [
       "<Figure size 500x400 with 1 Axes>"
      ]
     },
     "metadata": {},
     "output_type": "display_data"
    }
   ],
   "source": [
    "# load pairing results\n",
    "SPANet_effs = [] \n",
    "chi2_effs = []\n",
    "abs_effs = []\n",
    "\n",
    "for m3_m2 in ['420_280', '500_275', '500_300', '520_325']:\n",
    "\n",
    "    csv_path = f'./pairing_performance/gghhh_bsm_{m3_m2}/gghhh-4pT40_6b-1-4b_SPANet_pairing.csv'\n",
    "    SPANet_effs.append(df[df['Event type'] == 'Total']['3h'])\n",
    "    df = pd.read_csv(csv_path)\n",
    "\n",
    "    csv_path = f'./pairing_performance/gghhh_bsm_{m3_m2}/gghhh-4pT40_6b-1-chi2_pairing.csv'\n",
    "    df = pd.read_csv(csv_path)\n",
    "    chi2_effs.append(df[df['Event type'] == 'Total']['3h'])\n",
    "\n",
    "    csv_path = f'./pairing_performance/gghhh_bsm_{m3_m2}/gghhh-4pT40_6b-1-abs_pairing.csv'\n",
    "    df = pd.read_csv(csv_path)\n",
    "    abs_effs.append(df[df['Event type'] == 'Total']['3h'])\n",
    "\n",
    "# plot the results\n",
    "m3_m2 = ['420/280', '500/275', '500/300', '520/325']\n",
    "fig, ax = plt.subplots(figsize=(5, 4))\n",
    "\n",
    "ax.plot(m3_m2, SPANet_effs, marker='o', label='SPANet')\n",
    "ax.plot(m3_m2, chi2_effs, marker='o', label='$(m - m_h)^2$')\n",
    "ax.plot(m3_m2, abs_effs, marker='o', label='$|m - m_h|$')\n",
    "ax.set_title('$6b$ datasets')\n",
    "ax.set_xlabel('$m_{h_3}/m_{h_2}$ [GeV]')\n",
    "ax.set_ylabel('Event Efficiency')\n",
    "ax.legend(frameon=False)\n",
    "\n",
    "plt.savefig('./figures/pairing_performance-6b_datasets.pdf', dpi=300, facecolor='White', bbox_inches='tight')\n",
    "plt.show()"
   ]
  }
 ],
 "metadata": {
  "kernelspec": {
   "display_name": "Python 3 (ipykernel)",
   "language": "python",
   "name": "python3"
  },
  "language_info": {
   "codemirror_mode": {
    "name": "ipython",
    "version": 3
   },
   "file_extension": ".py",
   "mimetype": "text/x-python",
   "name": "python",
   "nbconvert_exporter": "python",
   "pygments_lexer": "ipython3",
   "version": "3.8.16"
  }
 },
 "nbformat": 4,
 "nbformat_minor": 5
}
