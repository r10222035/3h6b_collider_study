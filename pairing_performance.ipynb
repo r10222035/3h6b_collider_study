{
 "cells": [
  {
   "cell_type": "code",
   "execution_count": 1,
   "id": "95ff4cf2",
   "metadata": {},
   "outputs": [],
   "source": [
    "import os\n",
    "import h5py\n",
    "import itertools\n",
    "\n",
    "import numpy as np\n",
    "import pandas as pd\n",
    "import matplotlib.pyplot as plt\n",
    "\n",
    "from tqdm import tqdm"
   ]
  },
  {
   "cell_type": "code",
   "execution_count": 2,
   "id": "d03e0dae",
   "metadata": {},
   "outputs": [],
   "source": [
    "def get_Higgs_result(total_event, total_Higgs, correct_event, correct_Higgs, nh, nj):\n",
    "\n",
    "    start_nj, end_nj = nj\n",
    "\n",
    "    label = ['all' if nh == 'all' else f'{nh}h' for nj in range(start_nj, end_nj+2)]\n",
    "\n",
    "    if nh == 'all':\n",
    "        nh = slice(1, None)\n",
    "        \n",
    "    event_type = [f'Nj={nj}' for nj in range(start_nj, end_nj)]\n",
    "    event_type.append(f'Nj>={end_nj}')\n",
    "    event_type.append('Total')\n",
    "\n",
    "    event_fraction = [total_event[nh, nj].sum() / total_event.sum() for nj in range(start_nj, end_nj)]\n",
    "    event_fraction.append(total_event[nh, end_nj:].sum() / total_event.sum())\n",
    "    event_fraction.append(total_event[nh].sum() / total_event.sum())\n",
    "\n",
    "    event_efficiency = [correct_event[nh, nj].sum() / total_event[nh, nj].sum() for nj in range(start_nj, end_nj)]\n",
    "    event_efficiency.append(correct_event[nh, end_nj:].sum() / total_event[nh, end_nj:].sum())\n",
    "    event_efficiency.append(correct_event[nh].sum() / total_event[nh].sum())\n",
    "\n",
    "    higgs_efficiency = [correct_Higgs[nh, nj].sum() / total_Higgs[nh, nj].sum() for nj in range(start_nj, end_nj)]\n",
    "    higgs_efficiency.append(correct_Higgs[nh, end_nj:].sum() / total_Higgs[nh, end_nj:].sum())\n",
    "    higgs_efficiency.append(correct_Higgs[nh].sum() / total_Higgs[nh].sum())\n",
    "        \n",
    "    result = {'Label':label,\n",
    "              'Event type': event_type,\n",
    "              'Event Fraction': event_fraction,\n",
    "              'Event Efficiency': event_efficiency,\n",
    "              'Higgs Efficiency': higgs_efficiency,\n",
    "             }\n",
    "\n",
    "    df = pd.DataFrame(result)\n",
    "\n",
    "    return df"
   ]
  },
  {
   "cell_type": "code",
   "execution_count": 3,
   "id": "39e5da4b",
   "metadata": {},
   "outputs": [],
   "source": [
    "def compare_jet_list_triHiggs(pair1, pair2, nh_max=3):\n",
    "    h1_true = {pair1[0], pair1[1]}\n",
    "    h2_true = {pair1[2], pair1[3]}\n",
    "    h3_true = {pair1[4], pair1[5]}  \n",
    "    \n",
    "    h1_test = {pair2[0], pair2[1]}\n",
    "    h2_test = {pair2[2], pair2[3]}\n",
    "    h3_test = {pair2[4], pair2[5]}\n",
    "    \n",
    "    test_h = [h1_test, h2_test, h3_test]\n",
    "    \n",
    "    # bug\n",
    "    nh = 0\n",
    "    for id1, id2, id3 in itertools.permutations([0, 1, 2]):\n",
    "        h1 = test_h[id1]\n",
    "        h2 = test_h[id2]\n",
    "        h3 = test_h[id3]\n",
    "        if h1_true == h1:\n",
    "            nh = 1\n",
    "            if h2_true == h2:\n",
    "                nh = 2\n",
    "                if h3_true == h3:\n",
    "                    nh = 3\n",
    "                    break\n",
    "                    \n",
    "    same = True if nh==nh_max else False\n",
    "    return same, nh\n",
    "\n",
    "def compare_jet_list_triHiggs_optimized(pair1, pair2, nh_max=3):\n",
    "    # 將pair1和pair2分別轉換為三個Higgs的集合\n",
    "    h_true_sets = [{pair1[i], pair1[i+1]} for i in range(0, 6, 2)]\n",
    "    h_test_sets = [{pair2[i], pair2[i+1]} for i in range(0, 6, 2)]\n",
    "    \n",
    "    # 計算匹配的Higgs數量\n",
    "    nh = sum(1 for h_true in h_true_sets if h_true in h_test_sets)\n",
    "    \n",
    "    # 判斷是否所有Higgs都匹配\n",
    "    same = nh == nh_max\n",
    "    return same, nh"
   ]
  },
  {
   "cell_type": "code",
   "execution_count": 4,
   "id": "10e7487d",
   "metadata": {},
   "outputs": [],
   "source": [
    "def get_particle_mask(quark_jet, particle_quarks):\n",
    "    # quark_jet: 每個夸克對應的 jet 編號，shape 為 (n_event, 6)\n",
    "    # particle_quarks: 粒子對應的夸克編號，shape 為 (n_quarks,)\n",
    "\n",
    "    # 檢查是否每個夸克都有對應的 jet\n",
    "    mask1 = np.all(quark_jet[:, particle_quarks] != -1, axis=1)\n",
    "\n",
    "    # 對每一個事件，檢查每個夸克對應的 jet 都不重複\n",
    "    count = np.array([[np.sum(event == event[i]) for i in particle_quarks] for event in quark_jet])\n",
    "    mask2 = np.all(count == 1, axis=1)\n",
    "\n",
    "    return mask1 & mask2"
   ]
  },
  {
   "cell_type": "code",
   "execution_count": 5,
   "id": "8c3f1673",
   "metadata": {},
   "outputs": [],
   "source": [
    "def get_Higgs_correct_fraction(events, nh, nj, jet_type='Nj'):\n",
    "    # events: number of events in different categories (nh, nj, n_correct_h)\n",
    "    start_nj, end_nj = nj\n",
    "\n",
    "    label = [f'{nh}h' for _ in range(start_nj, end_nj+2)]\n",
    "\n",
    "    total_event = events[nh].sum(axis=1)\n",
    "\n",
    "    correct_3h_event = events[nh, :, 3]\n",
    "    correct_2h_event = events[nh, :, 2]\n",
    "    correct_1h_event = events[nh, :, 1]\n",
    "    correct_0h_event = events[nh, :, 0]\n",
    "\n",
    "    correct_Higgs = events[nh, :, 3] * 3 + events[nh, :, 2] * 2 + events[nh, :, 1]\n",
    "        \n",
    "    event_type = [f'{jet_type}={nj}' for nj in range(start_nj, end_nj)]\n",
    "    event_type.append(f'{jet_type}>={end_nj}')\n",
    "    event_type.append('Total')\n",
    "\n",
    "    event_fraction = [total_event[nj] / total_event.sum() for nj in range(start_nj, end_nj)]\n",
    "    event_fraction.append(total_event[end_nj:].sum() / total_event.sum())\n",
    "    event_fraction.append(total_event.sum() / total_event.sum())\n",
    "\n",
    "\n",
    "    eff_3h = [correct_3h_event[nj] / total_event[nj] for nj in range(start_nj, end_nj)]\n",
    "    eff_3h.append(correct_3h_event[end_nj:].sum() / total_event[end_nj:].sum())\n",
    "    eff_3h.append(correct_3h_event.sum() / total_event.sum())\n",
    "\n",
    "    eff_2h = [correct_2h_event[nj] / total_event[nj] for nj in range(start_nj, end_nj)]\n",
    "    eff_2h.append(correct_2h_event[end_nj:].sum() / total_event[end_nj:].sum())\n",
    "    eff_2h.append(correct_2h_event.sum() / total_event.sum())\n",
    "\n",
    "    eff_1h = [correct_1h_event[nj] / total_event[nj] for nj in range(start_nj, end_nj)]\n",
    "    eff_1h.append(correct_1h_event[end_nj:].sum() / total_event[end_nj:].sum())\n",
    "    eff_1h.append(correct_1h_event.sum() / total_event.sum())\n",
    "\n",
    "    eff_0h = [correct_0h_event[nj] / total_event[nj] for nj in range(start_nj, end_nj)]\n",
    "    eff_0h.append(correct_0h_event[end_nj:].sum() / total_event[end_nj:].sum())\n",
    "    eff_0h.append(correct_0h_event.sum() / total_event.sum())\n",
    "\n",
    "    eff_Higgs = [correct_Higgs[nj] / (total_event[nj] * nh) for nj in range(start_nj, end_nj)]\n",
    "    eff_Higgs.append(correct_Higgs[end_nj:].sum() / (total_event[end_nj:].sum() * nh))\n",
    "    eff_Higgs.append(correct_Higgs.sum() / (total_event.sum() * nh))\n",
    "        \n",
    "    result = {'Label':label,\n",
    "              'Event type': event_type,\n",
    "              'Event Fraction': event_fraction,\n",
    "              '3h': eff_3h,\n",
    "              '2h': eff_2h,\n",
    "              '1h': eff_1h,\n",
    "              '0h': eff_0h,\n",
    "              'Higgs': eff_Higgs\n",
    "             }\n",
    "\n",
    "    df = pd.DataFrame(result)\n",
    "\n",
    "    return df\n"
   ]
  },
  {
   "cell_type": "code",
   "execution_count": 6,
   "id": "51d83883",
   "metadata": {},
   "outputs": [],
   "source": [
    "# 載入正確配對與測試配對的資料，並計算配對的效率\n",
    "def compute_pairing_efficiency(true_file, test_file, save_path=None):\n",
    "    MAX_JETS = 15\n",
    "\n",
    "    with h5py.File(true_file, 'r') as f_true, h5py.File(test_file, 'r') as f_test:\n",
    "        \n",
    "        # events: 總共有多少該類事件 (nh, nj, n_correct_h)\n",
    "        events = np.zeros((4, MAX_JETS + 1, 4))\n",
    "\n",
    "        nevent = f_true['INPUTS/Source/pt'].shape[0]\n",
    "\n",
    "        for event in tqdm(range(nevent)):\n",
    "\n",
    "            nj = f_true['INPUTS/Source/MASK'][event].sum()\n",
    "\n",
    "            h1_b1 = f_true['TARGETS/h1/b1'][event]\n",
    "            h1_b2 = f_true['TARGETS/h1/b2'][event]\n",
    "            h2_b1 = f_true['TARGETS/h2/b1'][event]\n",
    "            h2_b2 = f_true['TARGETS/h2/b2'][event]\n",
    "            h3_b1 = f_true['TARGETS/h3/b1'][event]\n",
    "            h3_b2 = f_true['TARGETS/h3/b2'][event]\n",
    "\n",
    "            quark_jet = np.array([h1_b1, h1_b2, h2_b1, h2_b2, h3_b1, h3_b2]).reshape(1, 6)\n",
    "\n",
    "            h1_mask = get_particle_mask(quark_jet, [0, 1])\n",
    "            h2_mask = get_particle_mask(quark_jet, [2, 3])\n",
    "            h3_mask = get_particle_mask(quark_jet, [4, 5])\n",
    "\n",
    "            event_h = [h1_mask, h2_mask, h3_mask].count(True)\n",
    "\n",
    "            true_pair = [h1_b1,h1_b2, h2_b1,h2_b2, h3_b1,h3_b2]\n",
    "\n",
    "            try: \n",
    "                h1_b1 = f_test['TARGETS/h1/b1'][event]\n",
    "                h1_b2 = f_test['TARGETS/h1/b2'][event]\n",
    "                h2_b1 = f_test['TARGETS/h2/b1'][event]\n",
    "                h2_b2 = f_test['TARGETS/h2/b2'][event]\n",
    "                h3_b1 = f_test['TARGETS/h3/b1'][event]\n",
    "                h3_b2 = f_test['TARGETS/h3/b2'][event]\n",
    "            except KeyError:\n",
    "                h1_b1 = f_test['SpecialKey.Targets/h1/b1'][event]\n",
    "                h1_b2 = f_test['SpecialKey.Targets/h1/b2'][event]\n",
    "                h2_b1 = f_test['SpecialKey.Targets/h2/b1'][event]\n",
    "                h2_b2 = f_test['SpecialKey.Targets/h2/b2'][event]\n",
    "                h3_b1 = f_test['SpecialKey.Targets/h3/b1'][event]\n",
    "                h3_b2 = f_test['SpecialKey.Targets/h3/b2'][event]\n",
    "            pair = [h1_b1,h1_b2, h2_b1,h2_b2, h3_b1,h3_b2]\n",
    "\n",
    "\n",
    "            if event_h == 3:\n",
    "                _, nh = compare_jet_list_triHiggs_optimized(true_pair, pair, nh_max=3)\n",
    "                events[3, nj, nh] += 1\n",
    "            elif event_h == 2:\n",
    "                _, nh = compare_jet_list_triHiggs_optimized(true_pair, pair, nh_max=2)\n",
    "                events[2, nj, nh] += 1\n",
    "            elif event_h == 1:\n",
    "                _, nh = compare_jet_list_triHiggs_optimized(true_pair, pair, nh_max=1)\n",
    "                events[1, nj, nh] += 1\n",
    "            elif event_h == 0:\n",
    "                events[0, nj, 0] += 1\n",
    "        \n",
    "        \n",
    "        df_3h = get_Higgs_correct_fraction(events, nh=3, nj=(6, 8), jet_type='Nj')  \n",
    "        print('3 Higgs Events:')\n",
    "        print(df_3h)\n",
    "        \n",
    "        if save_path is not None:\n",
    "            os.makedirs(os.path.dirname(save_path), exist_ok=True)\n",
    "            df_3h.to_csv(save_path, index=False)\n",
    "\n",
    "        df_style = df_3h.style.format({\n",
    "            'Event Fraction': '{:.3f}',\n",
    "            '3h': '{:.3f}',\n",
    "            '2h': '{:.3f}',\n",
    "            '1h': '{:.3f}',\n",
    "            '0h': '{:.3f}',\n",
    "            'Higgs': '{:.3f}'\n",
    "        })\n",
    "        print(df_style.to_latex(column_format='c|cccc|c'))\n"
   ]
  },
  {
   "cell_type": "markdown",
   "id": "2586c05e",
   "metadata": {},
   "source": [
    "# Test on $6b$ dataset"
   ]
  },
  {
   "cell_type": "code",
   "execution_count": 7,
   "id": "2ac179c8",
   "metadata": {},
   "outputs": [
    {
     "name": "stderr",
     "output_type": "stream",
     "text": [
      "  0%|          | 0/40000 [00:00<?, ?it/s]"
     ]
    },
    {
     "name": "stderr",
     "output_type": "stream",
     "text": [
      "100%|██████████| 40000/40000 [01:37<00:00, 409.95it/s]\n"
     ]
    },
    {
     "name": "stdout",
     "output_type": "stream",
     "text": [
      "3 Higgs Events:\n",
      "  Label Event type  Event Fraction        3h        2h        1h        0h  \\\n",
      "0    3h       Nj=6        0.210876  0.509454  0.000000  0.363095  0.127451   \n",
      "1    3h       Nj=7        0.318160  0.428986  0.024019  0.370852  0.176143   \n",
      "2    3h      Nj>=8        0.470964  0.310653  0.059654  0.375559  0.254135   \n",
      "3    3h      Total        1.000000  0.390224  0.035737  0.371433  0.202606   \n",
      "\n",
      "      Higgs  \n",
      "0  0.630486  \n",
      "1  0.568616  \n",
      "2  0.475608  \n",
      "3  0.537859  \n",
      "\\begin{tabular}{c|cccc|c}\n",
      " & Label & Event type & Event Fraction & 3h & 2h & 1h & 0h & Higgs \\\\\n",
      "0 & 3h & Nj=6 & 0.211 & 0.509 & 0.000 & 0.363 & 0.127 & 0.630 \\\\\n",
      "1 & 3h & Nj=7 & 0.318 & 0.429 & 0.024 & 0.371 & 0.176 & 0.569 \\\\\n",
      "2 & 3h & Nj>=8 & 0.471 & 0.311 & 0.060 & 0.376 & 0.254 & 0.476 \\\\\n",
      "3 & 3h & Total & 1.000 & 0.390 & 0.036 & 0.371 & 0.203 & 0.538 \\\\\n",
      "\\end{tabular}\n",
      "\n"
     ]
    }
   ],
   "source": [
    "file_path = '../SPANet2/data/triHiggs/gghhh_6b_PT40_test.h5'\n",
    "output_path = '../SPANet2/data/triHiggs/gghhh_6b_PT40_test-chi2_pairing.h5'\n",
    "\n",
    "compute_pairing_efficiency(file_path, output_path)"
   ]
  },
  {
   "cell_type": "code",
   "execution_count": 8,
   "id": "f03b6091",
   "metadata": {},
   "outputs": [
    {
     "name": "stderr",
     "output_type": "stream",
     "text": [
      "100%|██████████| 40000/40000 [01:39<00:00, 403.28it/s]"
     ]
    },
    {
     "name": "stdout",
     "output_type": "stream",
     "text": [
      "3 Higgs Events:\n",
      "  Label Event type  Event Fraction        3h        2h        1h        0h  \\\n",
      "0    3h       Nj=6        0.210876  0.454832  0.000000  0.375350  0.169818   \n",
      "1    3h       Nj=7        0.318160  0.387561  0.024368  0.384428  0.203644   \n",
      "2    3h      Nj>=8        0.470964  0.277808  0.057380  0.387160  0.277651   \n",
      "3    3h      Total        1.000000  0.350057  0.034777  0.383800  0.231366   \n",
      "\n",
      "      Higgs  \n",
      "0  0.579949  \n",
      "1  0.531949  \n",
      "2  0.445115  \n",
      "3  0.501175  \n",
      "\\begin{tabular}{c|cccc|c}\n",
      " & Label & Event type & Event Fraction & 3h & 2h & 1h & 0h & Higgs \\\\\n",
      "0 & 3h & Nj=6 & 0.211 & 0.455 & 0.000 & 0.375 & 0.170 & 0.580 \\\\\n",
      "1 & 3h & Nj=7 & 0.318 & 0.388 & 0.024 & 0.384 & 0.204 & 0.532 \\\\\n",
      "2 & 3h & Nj>=8 & 0.471 & 0.278 & 0.057 & 0.387 & 0.278 & 0.445 \\\\\n",
      "3 & 3h & Total & 1.000 & 0.350 & 0.035 & 0.384 & 0.231 & 0.501 \\\\\n",
      "\\end{tabular}\n",
      "\n"
     ]
    },
    {
     "name": "stderr",
     "output_type": "stream",
     "text": [
      "\n"
     ]
    }
   ],
   "source": [
    "file_path = '../SPANet2/data/triHiggs/gghhh_6b_PT40_test.h5'\n",
    "output_path = '../SPANet2/data/triHiggs/gghhh_6b_PT40_test-abs_pairing.h5'\n",
    "\n",
    "compute_pairing_efficiency(file_path, output_path)"
   ]
  },
  {
   "cell_type": "code",
   "execution_count": 9,
   "id": "76396d61",
   "metadata": {},
   "outputs": [
    {
     "name": "stderr",
     "output_type": "stream",
     "text": [
      "100%|██████████| 40000/40000 [01:39<00:00, 403.49it/s]"
     ]
    },
    {
     "name": "stdout",
     "output_type": "stream",
     "text": [
      "3 Higgs Events:\n",
      "  Label Event type  Event Fraction        3h        2h        1h        0h  \\\n",
      "0    3h       Nj=6        0.210876  0.417367  0.000000  0.414216  0.168417   \n",
      "1    3h       Nj=7        0.318160  0.317707  0.024368  0.439545  0.218380   \n",
      "2    3h      Nj>=8        0.470964  0.219174  0.058243  0.424943  0.297641   \n",
      "3    3h      Total        1.000000  0.292317  0.035183  0.427327  0.245173   \n",
      "\n",
      "      Higgs  \n",
      "0  0.555439  \n",
      "1  0.480467  \n",
      "2  0.399650  \n",
      "3  0.458215  \n",
      "\\begin{tabular}{c|cccc|c}\n",
      " & Label & Event type & Event Fraction & 3h & 2h & 1h & 0h & Higgs \\\\\n",
      "0 & 3h & Nj=6 & 0.211 & 0.417 & 0.000 & 0.414 & 0.168 & 0.555 \\\\\n",
      "1 & 3h & Nj=7 & 0.318 & 0.318 & 0.024 & 0.440 & 0.218 & 0.480 \\\\\n",
      "2 & 3h & Nj>=8 & 0.471 & 0.219 & 0.058 & 0.425 & 0.298 & 0.400 \\\\\n",
      "3 & 3h & Total & 1.000 & 0.292 & 0.035 & 0.427 & 0.245 & 0.458 \\\\\n",
      "\\end{tabular}\n",
      "\n"
     ]
    },
    {
     "name": "stderr",
     "output_type": "stream",
     "text": [
      "\n"
     ]
    }
   ],
   "source": [
    "file_path = '../SPANet2/data/triHiggs/gghhh_6b_PT40_test.h5'\n",
    "output_path = '../SPANet2/data/triHiggs/gghhh_6b_PT40_test-6b_SPANet_pairing.h5'\n",
    "\n",
    "compute_pairing_efficiency(file_path, output_path)"
   ]
  },
  {
   "cell_type": "code",
   "execution_count": 10,
   "id": "3d1153b1",
   "metadata": {},
   "outputs": [
    {
     "name": "stderr",
     "output_type": "stream",
     "text": [
      "100%|██████████| 40000/40000 [01:39<00:00, 402.39it/s]"
     ]
    },
    {
     "name": "stdout",
     "output_type": "stream",
     "text": [
      "3 Higgs Events:\n",
      "  Label Event type  Event Fraction        3h        2h        1h        0h  \\\n",
      "0    3h       Nj=6        0.210876  0.648109  0.000000  0.274860  0.077031   \n",
      "1    3h       Nj=7        0.318160  0.538988  0.038640  0.308424  0.113948   \n",
      "2    3h      Nj>=8        0.470964  0.390217  0.082386  0.350004  0.177393   \n",
      "3    3h      Total        1.000000  0.491933  0.051095  0.320929  0.136043   \n",
      "\n",
      "      Higgs  \n",
      "0  0.739729  \n",
      "1  0.667556  \n",
      "2  0.561809  \n",
      "3  0.632973  \n",
      "\\begin{tabular}{c|cccc|c}\n",
      " & Label & Event type & Event Fraction & 3h & 2h & 1h & 0h & Higgs \\\\\n",
      "0 & 3h & Nj=6 & 0.211 & 0.648 & 0.000 & 0.275 & 0.077 & 0.740 \\\\\n",
      "1 & 3h & Nj=7 & 0.318 & 0.539 & 0.039 & 0.308 & 0.114 & 0.668 \\\\\n",
      "2 & 3h & Nj>=8 & 0.471 & 0.390 & 0.082 & 0.350 & 0.177 & 0.562 \\\\\n",
      "3 & 3h & Total & 1.000 & 0.492 & 0.051 & 0.321 & 0.136 & 0.633 \\\\\n",
      "\\end{tabular}\n",
      "\n"
     ]
    },
    {
     "name": "stderr",
     "output_type": "stream",
     "text": [
      "\n"
     ]
    }
   ],
   "source": [
    "file_path = '../SPANet2/data/triHiggs/gghhh_6b_PT40_test.h5'\n",
    "output_path = '../SPANet2/data/triHiggs/gghhh_6b_PT40_test-4b_SPANet_pairing.h5'\n",
    "\n",
    "compute_pairing_efficiency(file_path, output_path)"
   ]
  },
  {
   "cell_type": "code",
   "execution_count": 7,
   "id": "95365ecf",
   "metadata": {},
   "outputs": [
    {
     "name": "stderr",
     "output_type": "stream",
     "text": [
      "100%|██████████| 200000/200000 [09:39<00:00, 345.36it/s]\n"
     ]
    },
    {
     "name": "stdout",
     "output_type": "stream",
     "text": [
      "3 Higgs Events:\n",
      "  Label Event type  Event Fraction        3h        2h        1h        0h  \\\n",
      "0    3h       Nj=6        0.220804  0.434105  0.000000  0.400612  0.165283   \n",
      "1    3h       Nj=7        0.334405  0.289327  0.067019  0.414038  0.229615   \n",
      "2    3h      Nj>=8        0.444791  0.190125  0.100051  0.402877  0.306947   \n",
      "3    3h      Total        1.000000  0.277170  0.066913  0.406109  0.249807   \n",
      "\n",
      "      Higgs  \n",
      "0  0.567642  \n",
      "1  0.472019  \n",
      "2  0.391118  \n",
      "3  0.457149  \n",
      "\\begin{tabular}{c|cccc|c}\n",
      " & Label & Event type & Event Fraction & 3h & 2h & 1h & 0h & Higgs \\\\\n",
      "0 & 3h & Nj=6 & 0.221 & 0.434 & 0.000 & 0.401 & 0.165 & 0.568 \\\\\n",
      "1 & 3h & Nj=7 & 0.334 & 0.289 & 0.067 & 0.414 & 0.230 & 0.472 \\\\\n",
      "2 & 3h & Nj>=8 & 0.445 & 0.190 & 0.100 & 0.403 & 0.307 & 0.391 \\\\\n",
      "3 & 3h & Total & 1.000 & 0.277 & 0.067 & 0.406 & 0.250 & 0.457 \\\\\n",
      "\\end{tabular}\n",
      "\n"
     ]
    }
   ],
   "source": [
    "file_path = './Sample/SPANet/triHiggs-4pT40_4b-mix-test.h5'\n",
    "output_path = './Sample/SPANet/triHiggs-4pT40_4b-mix-test-4b_SPANet_pairing.h5'\n",
    "\n",
    "compute_pairing_efficiency(file_path, output_path)"
   ]
  },
  {
   "cell_type": "markdown",
   "id": "641d052a",
   "metadata": {},
   "source": [
    "# Evaluate the pairing performance at each mass point"
   ]
  },
  {
   "cell_type": "code",
   "execution_count": 20,
   "id": "2a4c85f7",
   "metadata": {},
   "outputs": [
    {
     "name": "stdout",
     "output_type": "stream",
     "text": [
      "gghhh_bsm_420_280\n"
     ]
    },
    {
     "name": "stderr",
     "output_type": "stream",
     "text": [
      "100%|██████████| 25000/25000 [00:58<00:00, 428.98it/s]\n"
     ]
    },
    {
     "name": "stdout",
     "output_type": "stream",
     "text": [
      "3 Higgs Events:\n",
      "  Label Event type  Event Fraction        3h        2h        1h        0h  \\\n",
      "0    3h       Nj=6        0.243485  0.432319  0.000000  0.412907  0.154774   \n",
      "1    3h       Nj=7        0.340445  0.311820  0.056285  0.413133  0.218762   \n",
      "2    3h      Nj>=8        0.416071  0.213387  0.083205  0.419097  0.284311   \n",
      "3    3h      Total        1.000000  0.300204  0.053781  0.415560  0.230455   \n",
      "\n",
      "      Higgs  \n",
      "0  0.569955  \n",
      "1  0.487054  \n",
      "2  0.408556  \n",
      "3  0.474578  \n",
      "\\begin{tabular}{c|cccc|c}\n",
      " & Label & Event type & Event Fraction & 3h & 2h & 1h & 0h & Higgs \\\\\n",
      "0 & 3h & Nj=6 & 0.243 & 0.432 & 0.000 & 0.413 & 0.155 & 0.570 \\\\\n",
      "1 & 3h & Nj=7 & 0.340 & 0.312 & 0.056 & 0.413 & 0.219 & 0.487 \\\\\n",
      "2 & 3h & Nj>=8 & 0.416 & 0.213 & 0.083 & 0.419 & 0.284 & 0.409 \\\\\n",
      "3 & 3h & Total & 1.000 & 0.300 & 0.054 & 0.416 & 0.230 & 0.475 \\\\\n",
      "\\end{tabular}\n",
      "\n",
      "gghhh_bsm_500_275\n"
     ]
    },
    {
     "name": "stderr",
     "output_type": "stream",
     "text": [
      "100%|██████████| 25000/25000 [00:58<00:00, 429.87it/s]\n"
     ]
    },
    {
     "name": "stdout",
     "output_type": "stream",
     "text": [
      "3 Higgs Events:\n",
      "  Label Event type  Event Fraction        3h        2h        1h        0h  \\\n",
      "0    3h       Nj=6        0.221003  0.397754  0.000000  0.413712  0.188534   \n",
      "1    3h       Nj=7        0.340778  0.256420  0.075891  0.414718  0.252970   \n",
      "2    3h      Nj>=8        0.438218  0.168107  0.096572  0.411326  0.323994   \n",
      "3    3h      Total        1.000000  0.248955  0.068182  0.413009  0.269854   \n",
      "\n",
      "      Higgs  \n",
      "0  0.535658  \n",
      "1  0.445254  \n",
      "2  0.369598  \n",
      "3  0.432079  \n",
      "\\begin{tabular}{c|cccc|c}\n",
      " & Label & Event type & Event Fraction & 3h & 2h & 1h & 0h & Higgs \\\\\n",
      "0 & 3h & Nj=6 & 0.221 & 0.398 & 0.000 & 0.414 & 0.189 & 0.536 \\\\\n",
      "1 & 3h & Nj=7 & 0.341 & 0.256 & 0.076 & 0.415 & 0.253 & 0.445 \\\\\n",
      "2 & 3h & Nj>=8 & 0.438 & 0.168 & 0.097 & 0.411 & 0.324 & 0.370 \\\\\n",
      "3 & 3h & Total & 1.000 & 0.249 & 0.068 & 0.413 & 0.270 & 0.432 \\\\\n",
      "\\end{tabular}\n",
      "\n",
      "gghhh_bsm_500_300\n"
     ]
    },
    {
     "name": "stderr",
     "output_type": "stream",
     "text": [
      "100%|██████████| 25000/25000 [00:58<00:00, 428.90it/s]\n"
     ]
    },
    {
     "name": "stdout",
     "output_type": "stream",
     "text": [
      "3 Higgs Events:\n",
      "  Label Event type  Event Fraction        3h        2h        1h        0h  \\\n",
      "0    3h       Nj=6        0.208950  0.459426  0.000000  0.375229  0.165345   \n",
      "1    3h       Nj=7        0.318205  0.304087  0.055689  0.419071  0.221154   \n",
      "2    3h      Nj>=8        0.472845  0.203559  0.100027  0.396333  0.300081   \n",
      "3    3h      Total        1.000000  0.289011  0.065018  0.399159  0.246813   \n",
      "\n",
      "      Higgs  \n",
      "0  0.584503  \n",
      "1  0.480903  \n",
      "2  0.402355  \n",
      "3  0.465409  \n",
      "\\begin{tabular}{c|cccc|c}\n",
      " & Label & Event type & Event Fraction & 3h & 2h & 1h & 0h & Higgs \\\\\n",
      "0 & 3h & Nj=6 & 0.209 & 0.459 & 0.000 & 0.375 & 0.165 & 0.585 \\\\\n",
      "1 & 3h & Nj=7 & 0.318 & 0.304 & 0.056 & 0.419 & 0.221 & 0.481 \\\\\n",
      "2 & 3h & Nj>=8 & 0.473 & 0.204 & 0.100 & 0.396 & 0.300 & 0.402 \\\\\n",
      "3 & 3h & Total & 1.000 & 0.289 & 0.065 & 0.399 & 0.247 & 0.465 \\\\\n",
      "\\end{tabular}\n",
      "\n",
      "gghhh_bsm_520_325\n"
     ]
    },
    {
     "name": "stderr",
     "output_type": "stream",
     "text": [
      "100%|██████████| 25000/25000 [00:58<00:00, 427.57it/s]"
     ]
    },
    {
     "name": "stdout",
     "output_type": "stream",
     "text": [
      "3 Higgs Events:\n",
      "  Label Event type  Event Fraction        3h        2h        1h        0h  \\\n",
      "0    3h       Nj=6        0.209727  0.448466  0.000000  0.398160  0.153374   \n",
      "1    3h       Nj=7        0.338394  0.285171  0.079848  0.409506  0.225475   \n",
      "2    3h      Nj>=8        0.451879  0.175399  0.119021  0.386674  0.318907   \n",
      "3    3h      Total        1.000000  0.269815  0.080803  0.396809  0.252573   \n",
      "\n",
      "      Higgs  \n",
      "0  0.581186  \n",
      "1  0.474905  \n",
      "2  0.383637  \n",
      "3  0.455953  \n",
      "\\begin{tabular}{c|cccc|c}\n",
      " & Label & Event type & Event Fraction & 3h & 2h & 1h & 0h & Higgs \\\\\n",
      "0 & 3h & Nj=6 & 0.210 & 0.448 & 0.000 & 0.398 & 0.153 & 0.581 \\\\\n",
      "1 & 3h & Nj=7 & 0.338 & 0.285 & 0.080 & 0.410 & 0.225 & 0.475 \\\\\n",
      "2 & 3h & Nj>=8 & 0.452 & 0.175 & 0.119 & 0.387 & 0.319 & 0.384 \\\\\n",
      "3 & 3h & Total & 1.000 & 0.270 & 0.081 & 0.397 & 0.253 & 0.456 \\\\\n",
      "\\end{tabular}\n",
      "\n"
     ]
    },
    {
     "name": "stderr",
     "output_type": "stream",
     "text": [
      "\n"
     ]
    }
   ],
   "source": [
    "for m3_m2 in ['420_280', '500_275', '500_300', '520_325']:\n",
    "    print(f'gghhh_bsm_{m3_m2}')\n",
    "    true_path = f'./Sample/SPANet/sig/gghhh_bsm_{m3_m2}/gghhh-4pT40_4b-test.h5'\n",
    "    predict_path = f'./Sample/SPANet/sig/gghhh_bsm_{m3_m2}/gghhh-4pT40_4b-test-4b_SPANet_predict.h5'\n",
    "    csv_path = f'./pairing_performance/gghhh_bsm_{m3_m2}/gghhh-4pT40_4b-test-4b_SPANet_pairing.csv'\n",
    "    compute_pairing_efficiency(true_path, predict_path, save_path=csv_path)\n",
    "\n",
    "for m3_m2 in ['420_280', '500_275', '500_300', '520_325']:\n",
    "    print(f'gghhh_bsm_{m3_m2}')\n",
    "    true_path = f'./Sample/SPANet/sig/gghhh_bsm_{m3_m2}/gghhh-4pT40_4b-test.h5'\n",
    "    predict_path = f'./Sample/SPANet/sig/gghhh_bsm_{m3_m2}/gghhh-4pT40_4b-test-chi2_pairing.h5'\n",
    "    csv_path = f'./pairing_performance/gghhh_bsm_{m3_m2}/gghhh-4pT40_4b-test-chi2_pairing.csv'\n",
    "    compute_pairing_efficiency(true_path, predict_path, save_path=csv_path)\n",
    "\n",
    "for m3_m2 in ['420_280', '500_275', '500_300', '520_325']:\n",
    "    print(f'gghhh_bsm_{m3_m2}')\n",
    "    true_path = f'./Sample/SPANet/sig/gghhh_bsm_{m3_m2}/gghhh-4pT40_4b-test.h5'\n",
    "    predict_path = f'./Sample/SPANet/sig/gghhh_bsm_{m3_m2}/gghhh-4pT40_4b-test-abs_pairing.h5'\n",
    "    csv_path = f'./pairing_performance/gghhh_bsm_{m3_m2}/gghhh-4pT40_4b-test-abs_pairing.csv'\n",
    "    compute_pairing_efficiency(true_path, predict_path, save_path=csv_path)"
   ]
  },
  {
   "cell_type": "code",
   "execution_count": 46,
   "id": "4cf3eff9",
   "metadata": {},
   "outputs": [
    {
     "name": "stdout",
     "output_type": "stream",
     "text": [
      "gghhh_bsm_420_280\n"
     ]
    },
    {
     "name": "stderr",
     "output_type": "stream",
     "text": [
      "100%|██████████| 12500/12500 [00:29<00:00, 430.75it/s]\n"
     ]
    },
    {
     "name": "stdout",
     "output_type": "stream",
     "text": [
      "3 Higgs Events:\n",
      "  Label Event type  Event Fraction        3h        2h        1h        0h  \\\n",
      "0    3h       Nj=6        0.220331  0.496825  0.000000  0.370370  0.132804   \n",
      "1    3h       Nj=7        0.314409  0.366333  0.029663  0.416389  0.187616   \n",
      "2    3h      Nj>=8        0.465260  0.262841  0.065147  0.415936  0.256076   \n",
      "3    3h      Total        1.000000  0.346934  0.039636  0.406039  0.207391   \n",
      "\n",
      "      Higgs  \n",
      "0  0.620282  \n",
      "1  0.524904  \n",
      "2  0.444918  \n",
      "3  0.508704  \n",
      "\\begin{tabular}{c|cccc|c}\n",
      " & Label & Event type & Event Fraction & 3h & 2h & 1h & 0h & Higgs \\\\\n",
      "0 & 3h & Nj=6 & 0.220 & 0.497 & 0.000 & 0.370 & 0.133 & 0.620 \\\\\n",
      "1 & 3h & Nj=7 & 0.314 & 0.366 & 0.030 & 0.416 & 0.188 & 0.525 \\\\\n",
      "2 & 3h & Nj>=8 & 0.465 & 0.263 & 0.065 & 0.416 & 0.256 & 0.445 \\\\\n",
      "3 & 3h & Total & 1.000 & 0.347 & 0.040 & 0.406 & 0.207 & 0.509 \\\\\n",
      "\\end{tabular}\n",
      "\n",
      "gghhh_bsm_500_275\n"
     ]
    },
    {
     "name": "stderr",
     "output_type": "stream",
     "text": [
      "100%|██████████| 12500/12500 [00:29<00:00, 430.87it/s]\n"
     ]
    },
    {
     "name": "stdout",
     "output_type": "stream",
     "text": [
      "3 Higgs Events:\n",
      "  Label Event type  Event Fraction        3h        2h        1h        0h  \\\n",
      "0    3h       Nj=6        0.182518  0.432806  0.000000  0.393939  0.173254   \n",
      "1    3h       Nj=7        0.294337  0.306781  0.034722  0.417484  0.241013   \n",
      "2    3h      Nj>=8        0.523145  0.205930  0.069409  0.392324  0.332337   \n",
      "3    3h      Total        1.000000  0.277023  0.046531  0.400024  0.276422   \n",
      "\n",
      "      Higgs  \n",
      "0  0.564119  \n",
      "1  0.469090  \n",
      "2  0.382977  \n",
      "3  0.441385  \n",
      "\\begin{tabular}{c|cccc|c}\n",
      " & Label & Event type & Event Fraction & 3h & 2h & 1h & 0h & Higgs \\\\\n",
      "0 & 3h & Nj=6 & 0.183 & 0.433 & 0.000 & 0.394 & 0.173 & 0.564 \\\\\n",
      "1 & 3h & Nj=7 & 0.294 & 0.307 & 0.035 & 0.417 & 0.241 & 0.469 \\\\\n",
      "2 & 3h & Nj>=8 & 0.523 & 0.206 & 0.069 & 0.392 & 0.332 & 0.383 \\\\\n",
      "3 & 3h & Total & 1.000 & 0.277 & 0.047 & 0.400 & 0.276 & 0.441 \\\\\n",
      "\\end{tabular}\n",
      "\n",
      "gghhh_bsm_500_300\n"
     ]
    },
    {
     "name": "stderr",
     "output_type": "stream",
     "text": [
      "100%|██████████| 12500/12500 [00:29<00:00, 429.76it/s]\n"
     ]
    },
    {
     "name": "stdout",
     "output_type": "stream",
     "text": [
      "3 Higgs Events:\n",
      "  Label Event type  Event Fraction        3h        2h        1h        0h  \\\n",
      "0    3h       Nj=6        0.177469  0.450167  0.000000  0.397993  0.151839   \n",
      "1    3h       Nj=7        0.300451  0.375346  0.036744  0.384433  0.203477   \n",
      "2    3h      Nj>=8        0.522080  0.234879  0.072533  0.395407  0.297181   \n",
      "3    3h      Total        1.000000  0.315290  0.048908  0.392569  0.243234   \n",
      "\n",
      "      Higgs  \n",
      "0  0.582832  \n",
      "1  0.527986  \n",
      "2  0.415037  \n",
      "3  0.478751  \n",
      "\\begin{tabular}{c|cccc|c}\n",
      " & Label & Event type & Event Fraction & 3h & 2h & 1h & 0h & Higgs \\\\\n",
      "0 & 3h & Nj=6 & 0.177 & 0.450 & 0.000 & 0.398 & 0.152 & 0.583 \\\\\n",
      "1 & 3h & Nj=7 & 0.300 & 0.375 & 0.037 & 0.384 & 0.203 & 0.528 \\\\\n",
      "2 & 3h & Nj>=8 & 0.522 & 0.235 & 0.073 & 0.395 & 0.297 & 0.415 \\\\\n",
      "3 & 3h & Total & 1.000 & 0.315 & 0.049 & 0.393 & 0.243 & 0.479 \\\\\n",
      "\\end{tabular}\n",
      "\n",
      "gghhh_bsm_520_325\n"
     ]
    },
    {
     "name": "stderr",
     "output_type": "stream",
     "text": [
      "100%|██████████| 12500/12500 [00:29<00:00, 430.45it/s]\n"
     ]
    },
    {
     "name": "stdout",
     "output_type": "stream",
     "text": [
      "3 Higgs Events:\n",
      "  Label Event type  Event Fraction        3h        2h        1h        0h  \\\n",
      "0    3h       Nj=6        0.160249  0.440939  0.000000  0.369741  0.189320   \n",
      "1    3h       Nj=7        0.288733  0.328693  0.053435  0.392905  0.224966   \n",
      "2    3h      Nj>=8        0.551018  0.201647  0.084706  0.392706  0.320941   \n",
      "3    3h      Total        1.000000  0.276676  0.062103  0.389083  0.272138   \n",
      "\n",
      "      Higgs  \n",
      "0  0.564186  \n",
      "1  0.495285  \n",
      "2  0.389020  \n",
      "3  0.447772  \n",
      "\\begin{tabular}{c|cccc|c}\n",
      " & Label & Event type & Event Fraction & 3h & 2h & 1h & 0h & Higgs \\\\\n",
      "0 & 3h & Nj=6 & 0.160 & 0.441 & 0.000 & 0.370 & 0.189 & 0.564 \\\\\n",
      "1 & 3h & Nj=7 & 0.289 & 0.329 & 0.053 & 0.393 & 0.225 & 0.495 \\\\\n",
      "2 & 3h & Nj>=8 & 0.551 & 0.202 & 0.085 & 0.393 & 0.321 & 0.389 \\\\\n",
      "3 & 3h & Total & 1.000 & 0.277 & 0.062 & 0.389 & 0.272 & 0.448 \\\\\n",
      "\\end{tabular}\n",
      "\n",
      "gghhh_bsm_420_280\n"
     ]
    },
    {
     "name": "stderr",
     "output_type": "stream",
     "text": [
      "100%|██████████| 12500/12500 [00:28<00:00, 436.14it/s]\n"
     ]
    },
    {
     "name": "stdout",
     "output_type": "stream",
     "text": [
      "3 Higgs Events:\n",
      "  Label Event type  Event Fraction        3h        2h        1h        0h  \\\n",
      "0    3h       Nj=6        0.220331  0.527513  0.000000  0.355556  0.116931   \n",
      "1    3h       Nj=7        0.314409  0.430478  0.029663  0.363367  0.176492   \n",
      "2    3h      Nj>=8        0.465260  0.323728  0.056878  0.364320  0.255074   \n",
      "3    3h      Total        1.000000  0.402192  0.035789  0.362089  0.199930   \n",
      "\n",
      "      Higgs  \n",
      "0  0.646032  \n",
      "1  0.571376  \n",
      "2  0.483087  \n",
      "3  0.546747  \n",
      "\\begin{tabular}{c|cccc|c}\n",
      " & Label & Event type & Event Fraction & 3h & 2h & 1h & 0h & Higgs \\\\\n",
      "0 & 3h & Nj=6 & 0.220 & 0.528 & 0.000 & 0.356 & 0.117 & 0.646 \\\\\n",
      "1 & 3h & Nj=7 & 0.314 & 0.430 & 0.030 & 0.363 & 0.176 & 0.571 \\\\\n",
      "2 & 3h & Nj>=8 & 0.465 & 0.324 & 0.057 & 0.364 & 0.255 & 0.483 \\\\\n",
      "3 & 3h & Total & 1.000 & 0.402 & 0.036 & 0.362 & 0.200 & 0.547 \\\\\n",
      "\\end{tabular}\n",
      "\n",
      "gghhh_bsm_500_275\n"
     ]
    },
    {
     "name": "stderr",
     "output_type": "stream",
     "text": [
      "100%|██████████| 12500/12500 [00:28<00:00, 434.95it/s]\n"
     ]
    },
    {
     "name": "stdout",
     "output_type": "stream",
     "text": [
      "3 Higgs Events:\n",
      "  Label Event type  Event Fraction        3h        2h        1h        0h  \\\n",
      "0    3h       Nj=6        0.182518  0.407773  0.000000  0.381423  0.210804   \n",
      "1    3h       Nj=7        0.294337  0.308007  0.021242  0.375000  0.295752   \n",
      "2    3h      Nj>=8        0.523145  0.195357  0.052861  0.382211  0.369570   \n",
      "3    3h      Total        1.000000  0.267284  0.033906  0.379945  0.318865   \n",
      "\n",
      "      Higgs  \n",
      "0  0.534914  \n",
      "1  0.447168  \n",
      "2  0.358002  \n",
      "3  0.416536  \n",
      "\\begin{tabular}{c|cccc|c}\n",
      " & Label & Event type & Event Fraction & 3h & 2h & 1h & 0h & Higgs \\\\\n",
      "0 & 3h & Nj=6 & 0.183 & 0.408 & 0.000 & 0.381 & 0.211 & 0.535 \\\\\n",
      "1 & 3h & Nj=7 & 0.294 & 0.308 & 0.021 & 0.375 & 0.296 & 0.447 \\\\\n",
      "2 & 3h & Nj>=8 & 0.523 & 0.195 & 0.053 & 0.382 & 0.370 & 0.358 \\\\\n",
      "3 & 3h & Total & 1.000 & 0.267 & 0.034 & 0.380 & 0.319 & 0.417 \\\\\n",
      "\\end{tabular}\n",
      "\n",
      "gghhh_bsm_500_300\n"
     ]
    },
    {
     "name": "stderr",
     "output_type": "stream",
     "text": [
      "100%|██████████| 12500/12500 [00:28<00:00, 436.62it/s]\n"
     ]
    },
    {
     "name": "stdout",
     "output_type": "stream",
     "text": [
      "3 Higgs Events:\n",
      "  Label Event type  Event Fraction        3h        2h        1h        0h  \\\n",
      "0    3h       Nj=6        0.177469  0.371237  0.000000  0.391304  0.237458   \n",
      "1    3h       Nj=7        0.300451  0.311339  0.019360  0.395891  0.273410   \n",
      "2    3h      Nj>=8        0.522080  0.191905  0.044111  0.396317  0.367667   \n",
      "3    3h      Total        1.000000  0.259615  0.028846  0.395299  0.316239   \n",
      "\n",
      "      Higgs  \n",
      "0  0.501672  \n",
      "1  0.456210  \n",
      "2  0.353418  \n",
      "3  0.410613  \n",
      "\\begin{tabular}{c|cccc|c}\n",
      " & Label & Event type & Event Fraction & 3h & 2h & 1h & 0h & Higgs \\\\\n",
      "0 & 3h & Nj=6 & 0.177 & 0.371 & 0.000 & 0.391 & 0.237 & 0.502 \\\\\n",
      "1 & 3h & Nj=7 & 0.300 & 0.311 & 0.019 & 0.396 & 0.273 & 0.456 \\\\\n",
      "2 & 3h & Nj>=8 & 0.522 & 0.192 & 0.044 & 0.396 & 0.368 & 0.353 \\\\\n",
      "3 & 3h & Total & 1.000 & 0.260 & 0.029 & 0.395 & 0.316 & 0.411 \\\\\n",
      "\\end{tabular}\n",
      "\n",
      "gghhh_bsm_520_325\n"
     ]
    },
    {
     "name": "stderr",
     "output_type": "stream",
     "text": [
      "100%|██████████| 12500/12500 [00:28<00:00, 437.00it/s]\n"
     ]
    },
    {
     "name": "stdout",
     "output_type": "stream",
     "text": [
      "3 Higgs Events:\n",
      "  Label Event type  Event Fraction        3h        2h        1h        0h  \\\n",
      "0    3h       Nj=6        0.160249  0.363269  0.000000  0.403722  0.233010   \n",
      "1    3h       Nj=7        0.288733  0.287831  0.034127  0.393354  0.284688   \n",
      "2    3h      Nj>=8        0.551018  0.180941  0.054824  0.387765  0.376471   \n",
      "3    3h      Total        1.000000  0.241022  0.040062  0.391936  0.326980   \n",
      "\n",
      "      Higgs  \n",
      "0  0.497843  \n",
      "1  0.441700  \n",
      "2  0.346745  \n",
      "3  0.398375  \n",
      "\\begin{tabular}{c|cccc|c}\n",
      " & Label & Event type & Event Fraction & 3h & 2h & 1h & 0h & Higgs \\\\\n",
      "0 & 3h & Nj=6 & 0.160 & 0.363 & 0.000 & 0.404 & 0.233 & 0.498 \\\\\n",
      "1 & 3h & Nj=7 & 0.289 & 0.288 & 0.034 & 0.393 & 0.285 & 0.442 \\\\\n",
      "2 & 3h & Nj>=8 & 0.551 & 0.181 & 0.055 & 0.388 & 0.376 & 0.347 \\\\\n",
      "3 & 3h & Total & 1.000 & 0.241 & 0.040 & 0.392 & 0.327 & 0.398 \\\\\n",
      "\\end{tabular}\n",
      "\n",
      "gghhh_bsm_420_280\n"
     ]
    },
    {
     "name": "stderr",
     "output_type": "stream",
     "text": [
      "100%|██████████| 12500/12500 [00:28<00:00, 436.63it/s]\n"
     ]
    },
    {
     "name": "stdout",
     "output_type": "stream",
     "text": [
      "3 Higgs Events:\n",
      "  Label Event type  Event Fraction        3h        2h        1h        0h  \\\n",
      "0    3h       Nj=6        0.220331  0.465079  0.000000  0.381481  0.153439   \n",
      "1    3h       Nj=7        0.314409  0.374490  0.028550  0.381164  0.215795   \n",
      "2    3h      Nj>=8        0.465260  0.295665  0.054623  0.372839  0.276873   \n",
      "3    3h      Total        1.000000  0.357776  0.034390  0.377361  0.230473   \n",
      "\n",
      "      Higgs  \n",
      "0  0.592240  \n",
      "1  0.520578  \n",
      "2  0.456360  \n",
      "3  0.506489  \n",
      "\\begin{tabular}{c|cccc|c}\n",
      " & Label & Event type & Event Fraction & 3h & 2h & 1h & 0h & Higgs \\\\\n",
      "0 & 3h & Nj=6 & 0.220 & 0.465 & 0.000 & 0.381 & 0.153 & 0.592 \\\\\n",
      "1 & 3h & Nj=7 & 0.314 & 0.374 & 0.029 & 0.381 & 0.216 & 0.521 \\\\\n",
      "2 & 3h & Nj>=8 & 0.465 & 0.296 & 0.055 & 0.373 & 0.277 & 0.456 \\\\\n",
      "3 & 3h & Total & 1.000 & 0.358 & 0.034 & 0.377 & 0.230 & 0.506 \\\\\n",
      "\\end{tabular}\n",
      "\n",
      "gghhh_bsm_500_275\n"
     ]
    },
    {
     "name": "stderr",
     "output_type": "stream",
     "text": [
      "100%|██████████| 12500/12500 [00:28<00:00, 436.45it/s]\n"
     ]
    },
    {
     "name": "stdout",
     "output_type": "stream",
     "text": [
      "3 Higgs Events:\n",
      "  Label Event type  Event Fraction        3h        2h        1h        0h  \\\n",
      "0    3h       Nj=6        0.182518  0.456522  0.000000  0.353755  0.189723   \n",
      "1    3h       Nj=7        0.294337  0.349265  0.023693  0.378268  0.248775   \n",
      "2    3h      Nj>=8        0.523145  0.220179  0.056539  0.385888  0.337394   \n",
      "3    3h      Total        1.000000  0.301311  0.036552  0.377780  0.284357   \n",
      "\n",
      "      Higgs  \n",
      "0  0.574440  \n",
      "1  0.491149  \n",
      "2  0.386501  \n",
      "3  0.451605  \n",
      "\\begin{tabular}{c|cccc|c}\n",
      " & Label & Event type & Event Fraction & 3h & 2h & 1h & 0h & Higgs \\\\\n",
      "0 & 3h & Nj=6 & 0.183 & 0.457 & 0.000 & 0.354 & 0.190 & 0.574 \\\\\n",
      "1 & 3h & Nj=7 & 0.294 & 0.349 & 0.024 & 0.378 & 0.249 & 0.491 \\\\\n",
      "2 & 3h & Nj>=8 & 0.523 & 0.220 & 0.057 & 0.386 & 0.337 & 0.387 \\\\\n",
      "3 & 3h & Total & 1.000 & 0.301 & 0.037 & 0.378 & 0.284 & 0.452 \\\\\n",
      "\\end{tabular}\n",
      "\n",
      "gghhh_bsm_500_300\n"
     ]
    },
    {
     "name": "stderr",
     "output_type": "stream",
     "text": [
      "100%|██████████| 12500/12500 [00:28<00:00, 437.49it/s]\n"
     ]
    },
    {
     "name": "stdout",
     "output_type": "stream",
     "text": [
      "3 Higgs Events:\n",
      "  Label Event type  Event Fraction        3h        2h        1h        0h  \\\n",
      "0    3h       Nj=6        0.177469  0.439465  0.000000  0.367224  0.193311   \n",
      "1    3h       Nj=7        0.300451  0.362702  0.022916  0.371000  0.243382   \n",
      "2    3h      Nj>=8        0.522080  0.232833  0.052524  0.370396  0.344247   \n",
      "3    3h      Total        1.000000  0.308523  0.034307  0.370014  0.287156   \n",
      "\n",
      "      Higgs  \n",
      "0  0.561873  \n",
      "1  0.501646  \n",
      "2  0.391314  \n",
      "3  0.454733  \n",
      "\\begin{tabular}{c|cccc|c}\n",
      " & Label & Event type & Event Fraction & 3h & 2h & 1h & 0h & Higgs \\\\\n",
      "0 & 3h & Nj=6 & 0.177 & 0.439 & 0.000 & 0.367 & 0.193 & 0.562 \\\\\n",
      "1 & 3h & Nj=7 & 0.300 & 0.363 & 0.023 & 0.371 & 0.243 & 0.502 \\\\\n",
      "2 & 3h & Nj>=8 & 0.522 & 0.233 & 0.053 & 0.370 & 0.344 & 0.391 \\\\\n",
      "3 & 3h & Total & 1.000 & 0.309 & 0.034 & 0.370 & 0.287 & 0.455 \\\\\n",
      "\\end{tabular}\n",
      "\n",
      "gghhh_bsm_520_325\n"
     ]
    },
    {
     "name": "stderr",
     "output_type": "stream",
     "text": [
      "100%|██████████| 12500/12500 [00:28<00:00, 436.67it/s]"
     ]
    },
    {
     "name": "stdout",
     "output_type": "stream",
     "text": [
      "3 Higgs Events:\n",
      "  Label Event type  Event Fraction        3h        2h        1h        0h  \\\n",
      "0    3h       Nj=6        0.160249  0.433657  0.000000  0.372168  0.194175   \n",
      "1    3h       Nj=7        0.288733  0.333633  0.037719  0.380781  0.247867   \n",
      "2    3h      Nj>=8        0.551018  0.212000  0.068471  0.380941  0.338588   \n",
      "3    3h      Total        1.000000  0.282640  0.048619  0.379489  0.289252   \n",
      "\n",
      "      Higgs  \n",
      "0  0.557713  \n",
      "1  0.485706  \n",
      "2  0.384627  \n",
      "3  0.441549  \n",
      "\\begin{tabular}{c|cccc|c}\n",
      " & Label & Event type & Event Fraction & 3h & 2h & 1h & 0h & Higgs \\\\\n",
      "0 & 3h & Nj=6 & 0.160 & 0.434 & 0.000 & 0.372 & 0.194 & 0.558 \\\\\n",
      "1 & 3h & Nj=7 & 0.289 & 0.334 & 0.038 & 0.381 & 0.248 & 0.486 \\\\\n",
      "2 & 3h & Nj>=8 & 0.551 & 0.212 & 0.068 & 0.381 & 0.339 & 0.385 \\\\\n",
      "3 & 3h & Total & 1.000 & 0.283 & 0.049 & 0.379 & 0.289 & 0.442 \\\\\n",
      "\\end{tabular}\n",
      "\n"
     ]
    },
    {
     "name": "stderr",
     "output_type": "stream",
     "text": [
      "\n"
     ]
    }
   ],
   "source": [
    "for m3_m2 in ['420_280', '500_275', '500_300', '520_325']:\n",
    "    print(f'gghhh_bsm_{m3_m2}')\n",
    "    true_path = f'./Sample/SPANet/sig/gghhh_bsm_{m3_m2}/gghhh-4pT40_6b-1.h5'\n",
    "    predict_path = f'./Sample/SPANet/sig/gghhh_bsm_{m3_m2}/gghhh-4pT40_6b-1-4b_SPANet_predict.h5'\n",
    "    csv_path = f'./pairing_performance/gghhh_bsm_{m3_m2}/gghhh-4pT40_6b-1-4b_SPANet_pairing.csv'\n",
    "    compute_pairing_efficiency(true_path, predict_path, save_path=csv_path)\n",
    "\n",
    "for m3_m2 in ['420_280', '500_275', '500_300', '520_325']:\n",
    "    print(f'gghhh_bsm_{m3_m2}')\n",
    "    true_path = f'./Sample/SPANet/sig/gghhh_bsm_{m3_m2}/gghhh-4pT40_6b-1.h5'\n",
    "    predict_path = f'./Sample/SPANet/sig/gghhh_bsm_{m3_m2}/gghhh-4pT40_6b-1-chi2_pairing.h5'\n",
    "    csv_path = f'./pairing_performance/gghhh_bsm_{m3_m2}/gghhh-4pT40_6b-1-chi2_pairing.csv'\n",
    "    compute_pairing_efficiency(true_path, predict_path, save_path=csv_path)\n",
    "\n",
    "for m3_m2 in ['420_280', '500_275', '500_300', '520_325']:\n",
    "    print(f'gghhh_bsm_{m3_m2}')\n",
    "    true_path = f'./Sample/SPANet/sig/gghhh_bsm_{m3_m2}/gghhh-4pT40_6b-1.h5'\n",
    "    predict_path = f'./Sample/SPANet/sig/gghhh_bsm_{m3_m2}/gghhh-4pT40_6b-1-abs_pairing.h5'\n",
    "    csv_path = f'./pairing_performance/gghhh_bsm_{m3_m2}/gghhh-4pT40_6b-1-abs_pairing.csv'\n",
    "    compute_pairing_efficiency(true_path, predict_path, save_path=csv_path)"
   ]
  },
  {
   "cell_type": "markdown",
   "id": "38033d7e",
   "metadata": {},
   "source": [
    "# TRSM"
   ]
  },
  {
   "cell_type": "code",
   "execution_count": 7,
   "id": "d2b087b9",
   "metadata": {},
   "outputs": [
    {
     "name": "stderr",
     "output_type": "stream",
     "text": [
      "100%|██████████| 200000/200000 [07:49<00:00, 425.75it/s]\n"
     ]
    },
    {
     "name": "stdout",
     "output_type": "stream",
     "text": [
      "3 Higgs Events:\n",
      "  Label Event type  Event Fraction        3h        2h        1h        0h  \\\n",
      "0    3h       Nj=6        0.193890  0.428939  0.000000  0.410932  0.160129   \n",
      "1    3h       Nj=7        0.319825  0.311891  0.048733  0.421832  0.217544   \n",
      "2    3h      Nj>=8        0.486284  0.204872  0.083590  0.421538  0.290000   \n",
      "3    3h      Total        1.000000  0.282544  0.056234  0.419576  0.241646   \n",
      "\n",
      "      Higgs  \n",
      "0  0.565916  \n",
      "1  0.484990  \n",
      "2  0.401111  \n",
      "3  0.459892  \n",
      "\\begin{tabular}{c|cccc|c}\n",
      " & Label & Event type & Event Fraction & 3h & 2h & 1h & 0h & Higgs \\\\\n",
      "0 & 3h & Nj=6 & 0.194 & 0.429 & 0.000 & 0.411 & 0.160 & 0.566 \\\\\n",
      "1 & 3h & Nj=7 & 0.320 & 0.312 & 0.049 & 0.422 & 0.218 & 0.485 \\\\\n",
      "2 & 3h & Nj>=8 & 0.486 & 0.205 & 0.084 & 0.422 & 0.290 & 0.401 \\\\\n",
      "3 & 3h & Total & 1.000 & 0.283 & 0.056 & 0.420 & 0.242 & 0.460 \\\\\n",
      "\\end{tabular}\n",
      "\n"
     ]
    }
   ],
   "source": [
    "file_path = './Sample/SPANet/triHiggs_TRSM-4pT40_4b-mix_4-test.h5'\n",
    "output_path = './Sample/SPANet/triHiggs_TRSM-4pT40_4b-mix_4-test-4b_SPANet_pairing.h5'\n",
    "\n",
    "compute_pairing_efficiency(file_path, output_path)"
   ]
  },
  {
   "cell_type": "code",
   "execution_count": 8,
   "id": "4378ba52",
   "metadata": {},
   "outputs": [
    {
     "name": "stdout",
     "output_type": "stream",
     "text": [
      "TRSM_420_280\n"
     ]
    },
    {
     "name": "stderr",
     "output_type": "stream",
     "text": [
      "100%|██████████| 25000/25000 [00:59<00:00, 423.66it/s]\n"
     ]
    },
    {
     "name": "stdout",
     "output_type": "stream",
     "text": [
      "3 Higgs Events:\n",
      "  Label Event type  Event Fraction        3h        2h        1h        0h  \\\n",
      "0    3h       Nj=6        0.234874  0.420122  0.000000  0.411277  0.168601   \n",
      "1    3h       Nj=7        0.337315  0.302925  0.054657  0.428022  0.214396   \n",
      "2    3h      Nj>=8        0.427811  0.217602  0.090744  0.430349  0.261305   \n",
      "3    3h      Total        1.000000  0.293950  0.057258  0.425084  0.223708   \n",
      "\n",
      "      Higgs  \n",
      "0  0.557214  \n",
      "1  0.482037  \n",
      "2  0.421548  \n",
      "3  0.473816  \n",
      "\\begin{tabular}{c|cccc|c}\n",
      " & Label & Event type & Event Fraction & 3h & 2h & 1h & 0h & Higgs \\\\\n",
      "0 & 3h & Nj=6 & 0.235 & 0.420 & 0.000 & 0.411 & 0.169 & 0.557 \\\\\n",
      "1 & 3h & Nj=7 & 0.337 & 0.303 & 0.055 & 0.428 & 0.214 & 0.482 \\\\\n",
      "2 & 3h & Nj>=8 & 0.428 & 0.218 & 0.091 & 0.430 & 0.261 & 0.422 \\\\\n",
      "3 & 3h & Total & 1.000 & 0.294 & 0.057 & 0.425 & 0.224 & 0.474 \\\\\n",
      "\\end{tabular}\n",
      "\n",
      "TRSM_500_275\n"
     ]
    },
    {
     "name": "stderr",
     "output_type": "stream",
     "text": [
      "100%|██████████| 25000/25000 [00:58<00:00, 428.28it/s]\n"
     ]
    },
    {
     "name": "stdout",
     "output_type": "stream",
     "text": [
      "3 Higgs Events:\n",
      "  Label Event type  Event Fraction        3h        2h        1h        0h  \\\n",
      "0    3h       Nj=6        0.202948  0.385475  0.000000  0.425822  0.188703   \n",
      "1    3h       Nj=7        0.328546  0.305598  0.053298  0.403374  0.237730   \n",
      "2    3h      Nj>=8        0.468506  0.192525  0.089271  0.421619  0.296585   \n",
      "3    3h      Total        1.000000  0.268833  0.059335  0.416478  0.255354   \n",
      "\n",
      "      Higgs  \n",
      "0  0.527416  \n",
      "1  0.475588  \n",
      "2  0.392579  \n",
      "3  0.447216  \n",
      "\\begin{tabular}{c|cccc|c}\n",
      " & Label & Event type & Event Fraction & 3h & 2h & 1h & 0h & Higgs \\\\\n",
      "0 & 3h & Nj=6 & 0.203 & 0.385 & 0.000 & 0.426 & 0.189 & 0.527 \\\\\n",
      "1 & 3h & Nj=7 & 0.329 & 0.306 & 0.053 & 0.403 & 0.238 & 0.476 \\\\\n",
      "2 & 3h & Nj>=8 & 0.469 & 0.193 & 0.089 & 0.422 & 0.297 & 0.393 \\\\\n",
      "3 & 3h & Total & 1.000 & 0.269 & 0.059 & 0.416 & 0.255 & 0.447 \\\\\n",
      "\\end{tabular}\n",
      "\n",
      "TRSM_500_300\n"
     ]
    },
    {
     "name": "stderr",
     "output_type": "stream",
     "text": [
      "100%|██████████| 25000/25000 [00:58<00:00, 426.58it/s]\n"
     ]
    },
    {
     "name": "stdout",
     "output_type": "stream",
     "text": [
      "3 Higgs Events:\n",
      "  Label Event type  Event Fraction        3h        2h        1h        0h  \\\n",
      "0    3h       Nj=6        0.199795  0.414634  0.000000  0.390886  0.194480   \n",
      "1    3h       Nj=7        0.316107  0.297363  0.060446  0.410953  0.231237   \n",
      "2    3h      Nj>=8        0.484098  0.224106  0.081854  0.409536  0.284503   \n",
      "3    3h      Total        1.000000  0.285330  0.058733  0.406258  0.249679   \n",
      "\n",
      "      Higgs  \n",
      "0  0.544929  \n",
      "1  0.474645  \n",
      "2  0.415188  \n",
      "3  0.459904  \n",
      "\\begin{tabular}{c|cccc|c}\n",
      " & Label & Event type & Event Fraction & 3h & 2h & 1h & 0h & Higgs \\\\\n",
      "0 & 3h & Nj=6 & 0.200 & 0.415 & 0.000 & 0.391 & 0.194 & 0.545 \\\\\n",
      "1 & 3h & Nj=7 & 0.316 & 0.297 & 0.060 & 0.411 & 0.231 & 0.475 \\\\\n",
      "2 & 3h & Nj>=8 & 0.484 & 0.224 & 0.082 & 0.410 & 0.285 & 0.415 \\\\\n",
      "3 & 3h & Total & 1.000 & 0.285 & 0.059 & 0.406 & 0.250 & 0.460 \\\\\n",
      "\\end{tabular}\n",
      "\n",
      "TRSM_520_325\n"
     ]
    },
    {
     "name": "stderr",
     "output_type": "stream",
     "text": [
      "100%|██████████| 25000/25000 [00:58<00:00, 427.63it/s]\n"
     ]
    },
    {
     "name": "stdout",
     "output_type": "stream",
     "text": [
      "3 Higgs Events:\n",
      "  Label Event type  Event Fraction        3h        2h        1h        0h  \\\n",
      "0    3h       Nj=6        0.193890  0.428939  0.000000  0.410932  0.160129   \n",
      "1    3h       Nj=7        0.319825  0.311891  0.048733  0.421832  0.217544   \n",
      "2    3h      Nj>=8        0.486284  0.204872  0.083590  0.421538  0.290000   \n",
      "3    3h      Total        1.000000  0.282544  0.056234  0.419576  0.241646   \n",
      "\n",
      "      Higgs  \n",
      "0  0.565916  \n",
      "1  0.484990  \n",
      "2  0.401111  \n",
      "3  0.459892  \n",
      "\\begin{tabular}{c|cccc|c}\n",
      " & Label & Event type & Event Fraction & 3h & 2h & 1h & 0h & Higgs \\\\\n",
      "0 & 3h & Nj=6 & 0.194 & 0.429 & 0.000 & 0.411 & 0.160 & 0.566 \\\\\n",
      "1 & 3h & Nj=7 & 0.320 & 0.312 & 0.049 & 0.422 & 0.218 & 0.485 \\\\\n",
      "2 & 3h & Nj>=8 & 0.486 & 0.205 & 0.084 & 0.422 & 0.290 & 0.401 \\\\\n",
      "3 & 3h & Total & 1.000 & 0.283 & 0.056 & 0.420 & 0.242 & 0.460 \\\\\n",
      "\\end{tabular}\n",
      "\n",
      "TRSM_420_280\n"
     ]
    },
    {
     "name": "stderr",
     "output_type": "stream",
     "text": [
      "100%|██████████| 25000/25000 [00:57<00:00, 431.62it/s]\n"
     ]
    },
    {
     "name": "stdout",
     "output_type": "stream",
     "text": [
      "3 Higgs Events:\n",
      "  Label Event type  Event Fraction        3h        2h        1h        0h  \\\n",
      "0    3h       Nj=6        0.234874  0.496407  0.000000  0.358209  0.145384   \n",
      "1    3h       Nj=7        0.337315  0.268668  0.096228  0.376059  0.259045   \n",
      "2    3h      Nj>=8        0.427811  0.144461  0.108346  0.404249  0.342944   \n",
      "3    3h      Total        1.000000  0.269021  0.078811  0.383926  0.268242   \n",
      "\n",
      "      Higgs  \n",
      "0  0.615810  \n",
      "1  0.458173  \n",
      "2  0.351442  \n",
      "3  0.449537  \n",
      "\\begin{tabular}{c|cccc|c}\n",
      " & Label & Event type & Event Fraction & 3h & 2h & 1h & 0h & Higgs \\\\\n",
      "0 & 3h & Nj=6 & 0.235 & 0.496 & 0.000 & 0.358 & 0.145 & 0.616 \\\\\n",
      "1 & 3h & Nj=7 & 0.337 & 0.269 & 0.096 & 0.376 & 0.259 & 0.458 \\\\\n",
      "2 & 3h & Nj>=8 & 0.428 & 0.144 & 0.108 & 0.404 & 0.343 & 0.351 \\\\\n",
      "3 & 3h & Total & 1.000 & 0.269 & 0.079 & 0.384 & 0.268 & 0.450 \\\\\n",
      "\\end{tabular}\n",
      "\n",
      "TRSM_500_275\n"
     ]
    },
    {
     "name": "stderr",
     "output_type": "stream",
     "text": [
      "100%|██████████| 25000/25000 [00:58<00:00, 430.04it/s]\n"
     ]
    },
    {
     "name": "stdout",
     "output_type": "stream",
     "text": [
      "3 Higgs Events:\n",
      "  Label Event type  Event Fraction        3h        2h        1h        0h  \\\n",
      "0    3h       Nj=6        0.202948  0.374302  0.000000  0.385475  0.240223   \n",
      "1    3h       Nj=7        0.328546  0.222393  0.070936  0.362730  0.343942   \n",
      "2    3h      Nj>=8        0.468506  0.101102  0.095456  0.387201  0.416241   \n",
      "3    3h      Total        1.000000  0.196397  0.068027  0.378811  0.356765   \n",
      "\n",
      "      Higgs  \n",
      "0  0.502793  \n",
      "1  0.390593  \n",
      "2  0.293807  \n",
      "3  0.368019  \n",
      "\\begin{tabular}{c|cccc|c}\n",
      " & Label & Event type & Event Fraction & 3h & 2h & 1h & 0h & Higgs \\\\\n",
      "0 & 3h & Nj=6 & 0.203 & 0.374 & 0.000 & 0.385 & 0.240 & 0.503 \\\\\n",
      "1 & 3h & Nj=7 & 0.329 & 0.222 & 0.071 & 0.363 & 0.344 & 0.391 \\\\\n",
      "2 & 3h & Nj>=8 & 0.469 & 0.101 & 0.095 & 0.387 & 0.416 & 0.294 \\\\\n",
      "3 & 3h & Total & 1.000 & 0.196 & 0.068 & 0.379 & 0.357 & 0.368 \\\\\n",
      "\\end{tabular}\n",
      "\n",
      "TRSM_500_300\n"
     ]
    },
    {
     "name": "stderr",
     "output_type": "stream",
     "text": [
      "100%|██████████| 25000/25000 [00:57<00:00, 431.43it/s]\n"
     ]
    },
    {
     "name": "stdout",
     "output_type": "stream",
     "text": [
      "3 Higgs Events:\n",
      "  Label Event type  Event Fraction        3h        2h        1h        0h  \\\n",
      "0    3h       Nj=6        0.199795  0.380616  0.000000  0.375481  0.243902   \n",
      "1    3h       Nj=7        0.316107  0.181744  0.070994  0.415416  0.331846   \n",
      "2    3h      Nj>=8        0.484098  0.103841  0.090066  0.394172  0.411921   \n",
      "3    3h      Total        1.000000  0.183765  0.066043  0.397153  0.353039   \n",
      "\n",
      "      Higgs  \n",
      "0  0.505777  \n",
      "1  0.367546  \n",
      "2  0.295276  \n",
      "3  0.360178  \n",
      "\\begin{tabular}{c|cccc|c}\n",
      " & Label & Event type & Event Fraction & 3h & 2h & 1h & 0h & Higgs \\\\\n",
      "0 & 3h & Nj=6 & 0.200 & 0.381 & 0.000 & 0.375 & 0.244 & 0.506 \\\\\n",
      "1 & 3h & Nj=7 & 0.316 & 0.182 & 0.071 & 0.415 & 0.332 & 0.368 \\\\\n",
      "2 & 3h & Nj>=8 & 0.484 & 0.104 & 0.090 & 0.394 & 0.412 & 0.295 \\\\\n",
      "3 & 3h & Total & 1.000 & 0.184 & 0.066 & 0.397 & 0.353 & 0.360 \\\\\n",
      "\\end{tabular}\n",
      "\n",
      "TRSM_520_325\n"
     ]
    },
    {
     "name": "stderr",
     "output_type": "stream",
     "text": [
      "100%|██████████| 25000/25000 [00:57<00:00, 431.91it/s]\n"
     ]
    },
    {
     "name": "stdout",
     "output_type": "stream",
     "text": [
      "3 Higgs Events:\n",
      "  Label Event type  Event Fraction        3h        2h        1h        0h  \\\n",
      "0    3h       Nj=6        0.193890  0.402572  0.000000  0.384566  0.212862   \n",
      "1    3h       Nj=7        0.319825  0.198051  0.070955  0.412865  0.318129   \n",
      "2    3h      Nj>=8        0.486284  0.112051  0.093333  0.371795  0.422821   \n",
      "3    3h      Total        1.000000  0.195885  0.068080  0.387406  0.348628   \n",
      "\n",
      "      Higgs  \n",
      "0  0.530761  \n",
      "1  0.382976  \n",
      "2  0.298205  \n",
      "3  0.370407  \n",
      "\\begin{tabular}{c|cccc|c}\n",
      " & Label & Event type & Event Fraction & 3h & 2h & 1h & 0h & Higgs \\\\\n",
      "0 & 3h & Nj=6 & 0.194 & 0.403 & 0.000 & 0.385 & 0.213 & 0.531 \\\\\n",
      "1 & 3h & Nj=7 & 0.320 & 0.198 & 0.071 & 0.413 & 0.318 & 0.383 \\\\\n",
      "2 & 3h & Nj>=8 & 0.486 & 0.112 & 0.093 & 0.372 & 0.423 & 0.298 \\\\\n",
      "3 & 3h & Total & 1.000 & 0.196 & 0.068 & 0.387 & 0.349 & 0.370 \\\\\n",
      "\\end{tabular}\n",
      "\n",
      "TRSM_420_280\n"
     ]
    },
    {
     "name": "stderr",
     "output_type": "stream",
     "text": [
      "100%|██████████| 25000/25000 [00:57<00:00, 431.37it/s]\n"
     ]
    },
    {
     "name": "stdout",
     "output_type": "stream",
     "text": [
      "3 Higgs Events:\n",
      "  Label Event type  Event Fraction        3h        2h        1h        0h  \\\n",
      "0    3h       Nj=6        0.234874  0.446103  0.000000  0.383637  0.170260   \n",
      "1    3h       Nj=7        0.337315  0.232487  0.091994  0.387221  0.288299   \n",
      "2    3h      Nj>=8        0.427811  0.129894  0.103187  0.397269  0.369651   \n",
      "3    3h      Total        1.000000  0.238769  0.075175  0.390678  0.295378   \n",
      "\n",
      "      Higgs  \n",
      "0  0.573982  \n",
      "1  0.422889  \n",
      "2  0.331108  \n",
      "3  0.419112  \n",
      "\\begin{tabular}{c|cccc|c}\n",
      " & Label & Event type & Event Fraction & 3h & 2h & 1h & 0h & Higgs \\\\\n",
      "0 & 3h & Nj=6 & 0.235 & 0.446 & 0.000 & 0.384 & 0.170 & 0.574 \\\\\n",
      "1 & 3h & Nj=7 & 0.337 & 0.232 & 0.092 & 0.387 & 0.288 & 0.423 \\\\\n",
      "2 & 3h & Nj>=8 & 0.428 & 0.130 & 0.103 & 0.397 & 0.370 & 0.331 \\\\\n",
      "3 & 3h & Total & 1.000 & 0.239 & 0.075 & 0.391 & 0.295 & 0.419 \\\\\n",
      "\\end{tabular}\n",
      "\n",
      "TRSM_500_275\n"
     ]
    },
    {
     "name": "stderr",
     "output_type": "stream",
     "text": [
      "100%|██████████| 25000/25000 [00:57<00:00, 433.96it/s]\n"
     ]
    },
    {
     "name": "stdout",
     "output_type": "stream",
     "text": [
      "3 Higgs Events:\n",
      "  Label Event type  Event Fraction        3h        2h        1h        0h  \\\n",
      "0    3h       Nj=6        0.202948  0.412166  0.000000  0.374922  0.212911   \n",
      "1    3h       Nj=7        0.328546  0.255368  0.080905  0.357362  0.306365   \n",
      "2    3h      Nj>=8        0.468506  0.115622  0.108362  0.392310  0.383705   \n",
      "3    3h      Total        1.000000  0.221718  0.077349  0.377299  0.323633   \n",
      "\n",
      "      Higgs  \n",
      "0  0.537140  \n",
      "1  0.428425  \n",
      "2  0.318634  \n",
      "3  0.399051  \n",
      "\\begin{tabular}{c|cccc|c}\n",
      " & Label & Event type & Event Fraction & 3h & 2h & 1h & 0h & Higgs \\\\\n",
      "0 & 3h & Nj=6 & 0.203 & 0.412 & 0.000 & 0.375 & 0.213 & 0.537 \\\\\n",
      "1 & 3h & Nj=7 & 0.329 & 0.255 & 0.081 & 0.357 & 0.306 & 0.428 \\\\\n",
      "2 & 3h & Nj>=8 & 0.469 & 0.116 & 0.108 & 0.392 & 0.384 & 0.319 \\\\\n",
      "3 & 3h & Total & 1.000 & 0.222 & 0.077 & 0.377 & 0.324 & 0.399 \\\\\n",
      "\\end{tabular}\n",
      "\n",
      "TRSM_500_300\n"
     ]
    },
    {
     "name": "stderr",
     "output_type": "stream",
     "text": [
      "100%|██████████| 25000/25000 [00:57<00:00, 432.76it/s]\n"
     ]
    },
    {
     "name": "stdout",
     "output_type": "stream",
     "text": [
      "3 Higgs Events:\n",
      "  Label Event type  Event Fraction        3h        2h        1h        0h  \\\n",
      "0    3h       Nj=6        0.199795  0.446085  0.000000  0.336970  0.216945   \n",
      "1    3h       Nj=7        0.316107  0.215416  0.081542  0.410142  0.292901   \n",
      "2    3h      Nj>=8        0.484098  0.126623  0.104106  0.392318  0.376954   \n",
      "3    3h      Total        1.000000  0.218518  0.076173  0.386894  0.318415   \n",
      "\n",
      "      Higgs  \n",
      "0  0.558408  \n",
      "1  0.406491  \n",
      "2  0.326799  \n",
      "3  0.398265  \n",
      "\\begin{tabular}{c|cccc|c}\n",
      " & Label & Event type & Event Fraction & 3h & 2h & 1h & 0h & Higgs \\\\\n",
      "0 & 3h & Nj=6 & 0.200 & 0.446 & 0.000 & 0.337 & 0.217 & 0.558 \\\\\n",
      "1 & 3h & Nj=7 & 0.316 & 0.215 & 0.082 & 0.410 & 0.293 & 0.406 \\\\\n",
      "2 & 3h & Nj>=8 & 0.484 & 0.127 & 0.104 & 0.392 & 0.377 & 0.327 \\\\\n",
      "3 & 3h & Total & 1.000 & 0.219 & 0.076 & 0.387 & 0.318 & 0.398 \\\\\n",
      "\\end{tabular}\n",
      "\n",
      "TRSM_520_325\n"
     ]
    },
    {
     "name": "stderr",
     "output_type": "stream",
     "text": [
      "100%|██████████| 25000/25000 [00:57<00:00, 436.72it/s]"
     ]
    },
    {
     "name": "stdout",
     "output_type": "stream",
     "text": [
      "3 Higgs Events:\n",
      "  Label Event type  Event Fraction        3h        2h        1h        0h  \\\n",
      "0    3h       Nj=6        0.193890  0.479100  0.000000  0.357556  0.163344   \n",
      "1    3h       Nj=7        0.319825  0.240546  0.081481  0.417154  0.260819   \n",
      "2    3h      Nj>=8        0.486284  0.130000  0.104872  0.386410  0.378718   \n",
      "3    3h      Total        1.000000  0.233042  0.077057  0.390648  0.299252   \n",
      "\n",
      "      Higgs  \n",
      "0  0.598285  \n",
      "1  0.433918  \n",
      "2  0.328718  \n",
      "3  0.414630  \n",
      "\\begin{tabular}{c|cccc|c}\n",
      " & Label & Event type & Event Fraction & 3h & 2h & 1h & 0h & Higgs \\\\\n",
      "0 & 3h & Nj=6 & 0.194 & 0.479 & 0.000 & 0.358 & 0.163 & 0.598 \\\\\n",
      "1 & 3h & Nj=7 & 0.320 & 0.241 & 0.081 & 0.417 & 0.261 & 0.434 \\\\\n",
      "2 & 3h & Nj>=8 & 0.486 & 0.130 & 0.105 & 0.386 & 0.379 & 0.329 \\\\\n",
      "3 & 3h & Total & 1.000 & 0.233 & 0.077 & 0.391 & 0.299 & 0.415 \\\\\n",
      "\\end{tabular}\n",
      "\n"
     ]
    },
    {
     "name": "stderr",
     "output_type": "stream",
     "text": [
      "\n"
     ]
    }
   ],
   "source": [
    "for m3_m2 in ['420_280', '500_275', '500_300', '520_325']:\n",
    "    print(f'TRSM_{m3_m2}')\n",
    "    true_path = f'./Sample/SPANet/TRSM/TRSM_{m3_m2}/gghhh-4pT40_4b-test.h5'\n",
    "    predict_path = f'./Sample/SPANet/TRSM/TRSM_{m3_m2}/gghhh-4pT40_4b-test-4b_SPANet_predict.h5'\n",
    "    csv_path = f'./pairing_performance/TRSM_{m3_m2}/gghhh-4pT40_4b-test-4b_SPANet_pairing.csv'\n",
    "    compute_pairing_efficiency(true_path, predict_path, save_path=csv_path)\n",
    "\n",
    "for m3_m2 in ['420_280', '500_275', '500_300', '520_325']:\n",
    "    print(f'TRSM_{m3_m2}')\n",
    "    true_path = f'./Sample/SPANet/TRSM/TRSM_{m3_m2}/gghhh-4pT40_4b-test.h5'\n",
    "    predict_path = f'./Sample/SPANet/TRSM/TRSM_{m3_m2}/gghhh-4pT40_4b-test-chi2_pairing.h5'\n",
    "    csv_path = f'./pairing_performance/TRSM_{m3_m2}/gghhh-4pT40_4b-test-chi2_pairing.csv'\n",
    "    compute_pairing_efficiency(true_path, predict_path, save_path=csv_path)\n",
    "\n",
    "for m3_m2 in ['420_280', '500_275', '500_300', '520_325']:\n",
    "    print(f'TRSM_{m3_m2}')\n",
    "    true_path = f'./Sample/SPANet/TRSM/TRSM_{m3_m2}/gghhh-4pT40_4b-test.h5'\n",
    "    predict_path = f'./Sample/SPANet/TRSM/TRSM_{m3_m2}/gghhh-4pT40_4b-test-abs_pairing.h5'\n",
    "    csv_path = f'./pairing_performance/TRSM_{m3_m2}/gghhh-4pT40_4b-test-abs_pairing.csv'\n",
    "    compute_pairing_efficiency(true_path, predict_path, save_path=csv_path)"
   ]
  },
  {
   "cell_type": "code",
   "execution_count": 9,
   "id": "a58a357a",
   "metadata": {},
   "outputs": [
    {
     "name": "stdout",
     "output_type": "stream",
     "text": [
      "TRSM_420_280\n"
     ]
    },
    {
     "name": "stderr",
     "output_type": "stream",
     "text": [
      "100%|██████████| 12500/12500 [00:29<00:00, 430.56it/s]\n"
     ]
    },
    {
     "name": "stdout",
     "output_type": "stream",
     "text": [
      "3 Higgs Events:\n",
      "  Label Event type  Event Fraction        3h        2h        1h        0h  \\\n",
      "0    3h       Nj=6        0.210470  0.460504  0.000000  0.394398  0.145098   \n",
      "1    3h       Nj=7        0.318241  0.370137  0.028159  0.401260  0.200445   \n",
      "2    3h      Nj>=8        0.471289  0.261696  0.057043  0.421316  0.259945   \n",
      "3    3h      Total        1.000000  0.338050  0.035845  0.409268  0.216838   \n",
      "\n",
      "      Higgs  \n",
      "0  0.591970  \n",
      "1  0.522663  \n",
      "2  0.440163  \n",
      "3  0.498369  \n",
      "\\begin{tabular}{c|cccc|c}\n",
      " & Label & Event type & Event Fraction & 3h & 2h & 1h & 0h & Higgs \\\\\n",
      "0 & 3h & Nj=6 & 0.210 & 0.461 & 0.000 & 0.394 & 0.145 & 0.592 \\\\\n",
      "1 & 3h & Nj=7 & 0.318 & 0.370 & 0.028 & 0.401 & 0.200 & 0.523 \\\\\n",
      "2 & 3h & Nj>=8 & 0.471 & 0.262 & 0.057 & 0.421 & 0.260 & 0.440 \\\\\n",
      "3 & 3h & Total & 1.000 & 0.338 & 0.036 & 0.409 & 0.217 & 0.498 \\\\\n",
      "\\end{tabular}\n",
      "\n",
      "TRSM_500_275\n"
     ]
    },
    {
     "name": "stderr",
     "output_type": "stream",
     "text": [
      "100%|██████████| 12500/12500 [00:29<00:00, 430.34it/s]\n"
     ]
    },
    {
     "name": "stdout",
     "output_type": "stream",
     "text": [
      "3 Higgs Events:\n",
      "  Label Event type  Event Fraction        3h        2h        1h        0h  \\\n",
      "0    3h       Nj=6        0.176491  0.466934  0.000000  0.359385  0.173681   \n",
      "1    3h       Nj=7        0.297925  0.347843  0.027305  0.395726  0.229125   \n",
      "2    3h      Nj>=8        0.525584  0.242037  0.056079  0.406685  0.295200   \n",
      "3    3h      Total        1.000000  0.313252  0.037609  0.395072  0.254067   \n",
      "\n",
      "      Higgs  \n",
      "0  0.586729  \n",
      "1  0.497955  \n",
      "2  0.414984  \n",
      "3  0.470015  \n",
      "\\begin{tabular}{c|cccc|c}\n",
      " & Label & Event type & Event Fraction & 3h & 2h & 1h & 0h & Higgs \\\\\n",
      "0 & 3h & Nj=6 & 0.176 & 0.467 & 0.000 & 0.359 & 0.174 & 0.587 \\\\\n",
      "1 & 3h & Nj=7 & 0.298 & 0.348 & 0.027 & 0.396 & 0.229 & 0.498 \\\\\n",
      "2 & 3h & Nj>=8 & 0.526 & 0.242 & 0.056 & 0.407 & 0.295 & 0.415 \\\\\n",
      "3 & 3h & Total & 1.000 & 0.313 & 0.038 & 0.395 & 0.254 & 0.470 \\\\\n",
      "\\end{tabular}\n",
      "\n",
      "TRSM_500_300\n"
     ]
    },
    {
     "name": "stderr",
     "output_type": "stream",
     "text": [
      "100%|██████████| 12500/12500 [00:28<00:00, 431.13it/s]\n"
     ]
    },
    {
     "name": "stdout",
     "output_type": "stream",
     "text": [
      "3 Higgs Events:\n",
      "  Label Event type  Event Fraction        3h        2h        1h        0h  \\\n",
      "0    3h       Nj=6        0.173241  0.441015  0.000000  0.401920  0.157064   \n",
      "1    3h       Nj=7        0.306202  0.367482  0.024835  0.410943  0.196740   \n",
      "2    3h      Nj>=8        0.520556  0.253367  0.060945  0.390778  0.294910   \n",
      "3    3h      Total        1.000000  0.320817  0.039330  0.398883  0.240970   \n",
      "\n",
      "      Higgs  \n",
      "0  0.574989  \n",
      "1  0.521019  \n",
      "2  0.424256  \n",
      "3  0.479998  \n",
      "\\begin{tabular}{c|cccc|c}\n",
      " & Label & Event type & Event Fraction & 3h & 2h & 1h & 0h & Higgs \\\\\n",
      "0 & 3h & Nj=6 & 0.173 & 0.441 & 0.000 & 0.402 & 0.157 & 0.575 \\\\\n",
      "1 & 3h & Nj=7 & 0.306 & 0.367 & 0.025 & 0.411 & 0.197 & 0.521 \\\\\n",
      "2 & 3h & Nj>=8 & 0.521 & 0.253 & 0.061 & 0.391 & 0.295 & 0.424 \\\\\n",
      "3 & 3h & Total & 1.000 & 0.321 & 0.039 & 0.399 & 0.241 & 0.480 \\\\\n",
      "\\end{tabular}\n",
      "\n",
      "TRSM_520_325\n"
     ]
    },
    {
     "name": "stderr",
     "output_type": "stream",
     "text": [
      "100%|██████████| 12500/12500 [00:29<00:00, 429.75it/s]\n"
     ]
    },
    {
     "name": "stdout",
     "output_type": "stream",
     "text": [
      "3 Higgs Events:\n",
      "  Label Event type  Event Fraction        3h        2h        1h        0h  \\\n",
      "0    3h       Nj=6        0.156734  0.461597  0.000000  0.385551  0.152852   \n",
      "1    3h       Nj=7        0.310250  0.372647  0.035344  0.376489  0.215521   \n",
      "2    3h      Nj>=8        0.533015  0.243739  0.060823  0.415474  0.279964   \n",
      "3    3h      Total        1.000000  0.317878  0.043385  0.398689  0.240048   \n",
      "\n",
      "      Higgs  \n",
      "0  0.590114  \n",
      "1  0.521706  \n",
      "2  0.422779  \n",
      "3  0.479698  \n",
      "\\begin{tabular}{c|cccc|c}\n",
      " & Label & Event type & Event Fraction & 3h & 2h & 1h & 0h & Higgs \\\\\n",
      "0 & 3h & Nj=6 & 0.157 & 0.462 & 0.000 & 0.386 & 0.153 & 0.590 \\\\\n",
      "1 & 3h & Nj=7 & 0.310 & 0.373 & 0.035 & 0.376 & 0.216 & 0.522 \\\\\n",
      "2 & 3h & Nj>=8 & 0.533 & 0.244 & 0.061 & 0.415 & 0.280 & 0.423 \\\\\n",
      "3 & 3h & Total & 1.000 & 0.318 & 0.043 & 0.399 & 0.240 & 0.480 \\\\\n",
      "\\end{tabular}\n",
      "\n",
      "TRSM_420_280\n"
     ]
    },
    {
     "name": "stderr",
     "output_type": "stream",
     "text": [
      "100%|██████████| 12500/12500 [00:28<00:00, 435.97it/s]\n"
     ]
    },
    {
     "name": "stdout",
     "output_type": "stream",
     "text": [
      "3 Higgs Events:\n",
      "  Label Event type  Event Fraction        3h        2h        1h        0h  \\\n",
      "0    3h       Nj=6        0.210470  0.503081  0.000000  0.353501  0.143417   \n",
      "1    3h       Nj=7        0.318241  0.429789  0.026677  0.367914  0.175621   \n",
      "2    3h      Nj>=8        0.471289  0.306230  0.055792  0.375782  0.262197   \n",
      "3    3h      Total        1.000000  0.386983  0.034784  0.368589  0.209645   \n",
      "\n",
      "      Higgs  \n",
      "0  0.620915  \n",
      "1  0.570211  \n",
      "2  0.468685  \n",
      "3  0.533035  \n",
      "\\begin{tabular}{c|cccc|c}\n",
      " & Label & Event type & Event Fraction & 3h & 2h & 1h & 0h & Higgs \\\\\n",
      "0 & 3h & Nj=6 & 0.210 & 0.503 & 0.000 & 0.354 & 0.143 & 0.621 \\\\\n",
      "1 & 3h & Nj=7 & 0.318 & 0.430 & 0.027 & 0.368 & 0.176 & 0.570 \\\\\n",
      "2 & 3h & Nj>=8 & 0.471 & 0.306 & 0.056 & 0.376 & 0.262 & 0.469 \\\\\n",
      "3 & 3h & Total & 1.000 & 0.387 & 0.035 & 0.369 & 0.210 & 0.533 \\\\\n",
      "\\end{tabular}\n",
      "\n",
      "TRSM_500_275\n"
     ]
    },
    {
     "name": "stderr",
     "output_type": "stream",
     "text": [
      "100%|██████████| 12500/12500 [00:28<00:00, 436.71it/s]\n"
     ]
    },
    {
     "name": "stdout",
     "output_type": "stream",
     "text": [
      "3 Higgs Events:\n",
      "  Label Event type  Event Fraction        3h        2h        1h        0h  \\\n",
      "0    3h       Nj=6        0.176491  0.414162  0.000000  0.349365  0.236473   \n",
      "1    3h       Nj=7        0.297925  0.303918  0.021369  0.383854  0.290859   \n",
      "2    3h      Nj>=8        0.525584  0.209511  0.042171  0.385823  0.362494   \n",
      "3    3h      Total        1.000000  0.273756  0.028531  0.378802  0.318911   \n",
      "\n",
      "      Higgs  \n",
      "0  0.530617  \n",
      "1  0.446115  \n",
      "2  0.366233  \n",
      "3  0.419044  \n",
      "\\begin{tabular}{c|cccc|c}\n",
      " & Label & Event type & Event Fraction & 3h & 2h & 1h & 0h & Higgs \\\\\n",
      "0 & 3h & Nj=6 & 0.176 & 0.414 & 0.000 & 0.349 & 0.236 & 0.531 \\\\\n",
      "1 & 3h & Nj=7 & 0.298 & 0.304 & 0.021 & 0.384 & 0.291 & 0.446 \\\\\n",
      "2 & 3h & Nj>=8 & 0.526 & 0.210 & 0.042 & 0.386 & 0.362 & 0.366 \\\\\n",
      "3 & 3h & Total & 1.000 & 0.274 & 0.029 & 0.379 & 0.319 & 0.419 \\\\\n",
      "\\end{tabular}\n",
      "\n",
      "TRSM_500_300\n"
     ]
    },
    {
     "name": "stderr",
     "output_type": "stream",
     "text": [
      "100%|██████████| 12500/12500 [00:28<00:00, 438.78it/s]\n"
     ]
    },
    {
     "name": "stdout",
     "output_type": "stream",
     "text": [
      "3 Higgs Events:\n",
      "  Label Event type  Event Fraction        3h        2h        1h        0h  \\\n",
      "0    3h       Nj=6        0.173241  0.370370  0.000000  0.414952  0.214678   \n",
      "1    3h       Nj=7        0.306202  0.285215  0.018626  0.403570  0.292588   \n",
      "2    3h      Nj>=8        0.520556  0.191737  0.048847  0.402876  0.356540   \n",
      "3    3h      Total        1.000000  0.251307  0.031131  0.405181  0.312381   \n",
      "\n",
      "      Higgs  \n",
      "0  0.508688  \n",
      "1  0.432156  \n",
      "2  0.358594  \n",
      "3  0.407121  \n",
      "\\begin{tabular}{c|cccc|c}\n",
      " & Label & Event type & Event Fraction & 3h & 2h & 1h & 0h & Higgs \\\\\n",
      "0 & 3h & Nj=6 & 0.173 & 0.370 & 0.000 & 0.415 & 0.215 & 0.509 \\\\\n",
      "1 & 3h & Nj=7 & 0.306 & 0.285 & 0.019 & 0.404 & 0.293 & 0.432 \\\\\n",
      "2 & 3h & Nj>=8 & 0.521 & 0.192 & 0.049 & 0.403 & 0.357 & 0.359 \\\\\n",
      "3 & 3h & Total & 1.000 & 0.251 & 0.031 & 0.405 & 0.312 & 0.407 \\\\\n",
      "\\end{tabular}\n",
      "\n",
      "TRSM_520_325\n"
     ]
    },
    {
     "name": "stderr",
     "output_type": "stream",
     "text": [
      "100%|██████████| 12500/12500 [00:28<00:00, 438.31it/s]\n"
     ]
    },
    {
     "name": "stdout",
     "output_type": "stream",
     "text": [
      "3 Higgs Events:\n",
      "  Label Event type  Event Fraction        3h        2h        1h        0h  \\\n",
      "0    3h       Nj=6        0.156734  0.417490  0.000000  0.384030  0.198479   \n",
      "1    3h       Nj=7        0.310250  0.297733  0.022666  0.404533  0.275067   \n",
      "2    3h      Nj>=8        0.533015  0.195886  0.042710  0.402952  0.358453   \n",
      "3    3h      Total        1.000000  0.262217  0.029797  0.400477  0.307509   \n",
      "\n",
      "      Higgs  \n",
      "0  0.545501  \n",
      "1  0.447689  \n",
      "2  0.358676  \n",
      "3  0.415574  \n",
      "\\begin{tabular}{c|cccc|c}\n",
      " & Label & Event type & Event Fraction & 3h & 2h & 1h & 0h & Higgs \\\\\n",
      "0 & 3h & Nj=6 & 0.157 & 0.417 & 0.000 & 0.384 & 0.198 & 0.546 \\\\\n",
      "1 & 3h & Nj=7 & 0.310 & 0.298 & 0.023 & 0.405 & 0.275 & 0.448 \\\\\n",
      "2 & 3h & Nj>=8 & 0.533 & 0.196 & 0.043 & 0.403 & 0.358 & 0.359 \\\\\n",
      "3 & 3h & Total & 1.000 & 0.262 & 0.030 & 0.400 & 0.308 & 0.416 \\\\\n",
      "\\end{tabular}\n",
      "\n",
      "TRSM_420_280\n"
     ]
    },
    {
     "name": "stderr",
     "output_type": "stream",
     "text": [
      "100%|██████████| 12500/12500 [00:28<00:00, 438.96it/s]\n"
     ]
    },
    {
     "name": "stdout",
     "output_type": "stream",
     "text": [
      "3 Higgs Events:\n",
      "  Label Event type  Event Fraction        3h        2h        1h        0h  \\\n",
      "0    3h       Nj=6        0.210470  0.447059  0.000000  0.380392  0.172549   \n",
      "1    3h       Nj=7        0.318241  0.382734  0.024824  0.374954  0.217488   \n",
      "2    3h      Nj>=8        0.471289  0.279209  0.055542  0.387290  0.277958   \n",
      "3    3h      Total        1.000000  0.347483  0.034076  0.381913  0.236529   \n",
      "\n",
      "      Higgs  \n",
      "0  0.573856  \n",
      "1  0.524268  \n",
      "2  0.445334  \n",
      "3  0.497504  \n",
      "\\begin{tabular}{c|cccc|c}\n",
      " & Label & Event type & Event Fraction & 3h & 2h & 1h & 0h & Higgs \\\\\n",
      "0 & 3h & Nj=6 & 0.210 & 0.447 & 0.000 & 0.380 & 0.173 & 0.574 \\\\\n",
      "1 & 3h & Nj=7 & 0.318 & 0.383 & 0.025 & 0.375 & 0.217 & 0.524 \\\\\n",
      "2 & 3h & Nj>=8 & 0.471 & 0.279 & 0.056 & 0.387 & 0.278 & 0.445 \\\\\n",
      "3 & 3h & Total & 1.000 & 0.347 & 0.034 & 0.382 & 0.237 & 0.498 \\\\\n",
      "\\end{tabular}\n",
      "\n",
      "TRSM_500_275\n"
     ]
    },
    {
     "name": "stderr",
     "output_type": "stream",
     "text": [
      "100%|██████████| 12500/12500 [00:28<00:00, 439.51it/s]\n"
     ]
    },
    {
     "name": "stdout",
     "output_type": "stream",
     "text": [
      "3 Higgs Events:\n",
      "  Label Event type  Event Fraction        3h        2h        1h        0h  \\\n",
      "0    3h       Nj=6        0.176491  0.460922  0.000000  0.331997  0.207081   \n",
      "1    3h       Nj=7        0.297925  0.361694  0.025722  0.375940  0.236644   \n",
      "2    3h      Nj>=8        0.525584  0.235307  0.049349  0.387169  0.328174   \n",
      "3    3h      Total        1.000000  0.312780  0.033601  0.374086  0.279533   \n",
      "\n",
      "      Higgs  \n",
      "0  0.571588  \n",
      "1  0.504155  \n",
      "2  0.397263  \n",
      "3  0.459876  \n",
      "\\begin{tabular}{c|cccc|c}\n",
      " & Label & Event type & Event Fraction & 3h & 2h & 1h & 0h & Higgs \\\\\n",
      "0 & 3h & Nj=6 & 0.176 & 0.461 & 0.000 & 0.332 & 0.207 & 0.572 \\\\\n",
      "1 & 3h & Nj=7 & 0.298 & 0.362 & 0.026 & 0.376 & 0.237 & 0.504 \\\\\n",
      "2 & 3h & Nj>=8 & 0.526 & 0.235 & 0.049 & 0.387 & 0.328 & 0.397 \\\\\n",
      "3 & 3h & Total & 1.000 & 0.313 & 0.034 & 0.374 & 0.280 & 0.460 \\\\\n",
      "\\end{tabular}\n",
      "\n",
      "TRSM_500_300\n"
     ]
    },
    {
     "name": "stderr",
     "output_type": "stream",
     "text": [
      "100%|██████████| 12500/12500 [00:28<00:00, 440.04it/s]\n"
     ]
    },
    {
     "name": "stdout",
     "output_type": "stream",
     "text": [
      "3 Higgs Events:\n",
      "  Label Event type  Event Fraction        3h        2h        1h        0h  \\\n",
      "0    3h       Nj=6        0.173241  0.447874  0.000000  0.361454  0.190672   \n",
      "1    3h       Nj=7        0.306202  0.341870  0.022507  0.384168  0.251455   \n",
      "2    3h      Nj>=8        0.520556  0.231454  0.053641  0.387583  0.327323   \n",
      "3    3h      Total        1.000000  0.302757  0.034815  0.382010  0.280418   \n",
      "\n",
      "      Higgs  \n",
      "0  0.568358  \n",
      "1  0.484931  \n",
      "2  0.396409  \n",
      "3  0.453303  \n",
      "\\begin{tabular}{c|cccc|c}\n",
      " & Label & Event type & Event Fraction & 3h & 2h & 1h & 0h & Higgs \\\\\n",
      "0 & 3h & Nj=6 & 0.173 & 0.448 & 0.000 & 0.361 & 0.191 & 0.568 \\\\\n",
      "1 & 3h & Nj=7 & 0.306 & 0.342 & 0.023 & 0.384 & 0.251 & 0.485 \\\\\n",
      "2 & 3h & Nj>=8 & 0.521 & 0.231 & 0.054 & 0.388 & 0.327 & 0.396 \\\\\n",
      "3 & 3h & Total & 1.000 & 0.303 & 0.035 & 0.382 & 0.280 & 0.453 \\\\\n",
      "\\end{tabular}\n",
      "\n",
      "TRSM_520_325\n"
     ]
    },
    {
     "name": "stderr",
     "output_type": "stream",
     "text": [
      "100%|██████████| 12500/12500 [00:28<00:00, 440.17it/s]"
     ]
    },
    {
     "name": "stdout",
     "output_type": "stream",
     "text": [
      "3 Higgs Events:\n",
      "  Label Event type  Event Fraction        3h        2h        1h        0h  \\\n",
      "0    3h       Nj=6        0.156734  0.485932  0.000000  0.344487  0.169582   \n",
      "1    3h       Nj=7        0.310250  0.353438  0.029197  0.372647  0.244718   \n",
      "2    3h      Nj>=8        0.533015  0.236583  0.056351  0.393560  0.313506   \n",
      "3    3h      Total        1.000000  0.311919  0.039094  0.379380  0.269607   \n",
      "\n",
      "      Higgs  \n",
      "0  0.600760  \n",
      "1  0.497119  \n",
      "2  0.405337  \n",
      "3  0.464442  \n",
      "\\begin{tabular}{c|cccc|c}\n",
      " & Label & Event type & Event Fraction & 3h & 2h & 1h & 0h & Higgs \\\\\n",
      "0 & 3h & Nj=6 & 0.157 & 0.486 & 0.000 & 0.344 & 0.170 & 0.601 \\\\\n",
      "1 & 3h & Nj=7 & 0.310 & 0.353 & 0.029 & 0.373 & 0.245 & 0.497 \\\\\n",
      "2 & 3h & Nj>=8 & 0.533 & 0.237 & 0.056 & 0.394 & 0.314 & 0.405 \\\\\n",
      "3 & 3h & Total & 1.000 & 0.312 & 0.039 & 0.379 & 0.270 & 0.464 \\\\\n",
      "\\end{tabular}\n",
      "\n"
     ]
    },
    {
     "name": "stderr",
     "output_type": "stream",
     "text": [
      "\n"
     ]
    }
   ],
   "source": [
    "for m3_m2 in ['420_280', '500_275', '500_300', '520_325']:\n",
    "    print(f'TRSM_{m3_m2}')\n",
    "    true_path = f'./Sample/SPANet/TRSM/TRSM_{m3_m2}/gghhh-4pT40_6b-1.h5'\n",
    "    predict_path = f'./Sample/SPANet/TRSM/TRSM_{m3_m2}/gghhh-4pT40_6b-1-4b_SPANet_predict.h5'\n",
    "    csv_path = f'./pairing_performance/TRSM_{m3_m2}/gghhh-4pT40_6b-1-4b_SPANet_pairing.csv'\n",
    "    compute_pairing_efficiency(true_path, predict_path, save_path=csv_path)\n",
    "\n",
    "for m3_m2 in ['420_280', '500_275', '500_300', '520_325']:\n",
    "    print(f'TRSM_{m3_m2}')\n",
    "    true_path = f'./Sample/SPANet/TRSM/TRSM_{m3_m2}/gghhh-4pT40_6b-1.h5'\n",
    "    predict_path = f'./Sample/SPANet/TRSM/TRSM_{m3_m2}/gghhh-4pT40_6b-1-chi2_pairing.h5'\n",
    "    csv_path = f'./pairing_performance/TRSM_{m3_m2}/gghhh-4pT40_6b-1-chi2_pairing.csv'\n",
    "    compute_pairing_efficiency(true_path, predict_path, save_path=csv_path)\n",
    "\n",
    "for m3_m2 in ['420_280', '500_275', '500_300', '520_325']:\n",
    "    print(f'TRSM_{m3_m2}')\n",
    "    true_path = f'./Sample/SPANet/TRSM/TRSM_{m3_m2}/gghhh-4pT40_6b-1.h5'\n",
    "    predict_path = f'./Sample/SPANet/TRSM/TRSM_{m3_m2}/gghhh-4pT40_6b-1-abs_pairing.h5'\n",
    "    csv_path = f'./pairing_performance/TRSM_{m3_m2}/gghhh-4pT40_6b-1-abs_pairing.csv'\n",
    "    compute_pairing_efficiency(true_path, predict_path, save_path=csv_path)"
   ]
  },
  {
   "cell_type": "markdown",
   "id": "8ad183ba",
   "metadata": {},
   "source": [
    "# Plot the event efficiency"
   ]
  },
  {
   "cell_type": "markdown",
   "id": "908e7a3a",
   "metadata": {},
   "source": [
    "## DM-CPV"
   ]
  },
  {
   "cell_type": "code",
   "execution_count": 10,
   "id": "ee54e45d",
   "metadata": {},
   "outputs": [
    {
     "data": {
      "image/png": "[encoded data removed]",
      "text/plain": [
       "<Figure size 500x400 with 1 Axes>"
      ]
     },
     "metadata": {},
     "output_type": "display_data"
    }
   ],
   "source": [
    "# load pairing results\n",
    "SPANet_effs = [] \n",
    "chi2_effs = []\n",
    "abs_effs = []\n",
    "\n",
    "for m3_m2 in ['420_280', '500_275', '500_300', '520_325']:\n",
    "\n",
    "    csv_path = f'./pairing_performance/gghhh_bsm_{m3_m2}/gghhh-4pT40_4b-test-4b_SPANet_pairing.csv'\n",
    "    df = pd.read_csv(csv_path)\n",
    "    SPANet_effs.append(df[df['Event type'] == 'Total']['3h'])\n",
    "\n",
    "    csv_path = f'./pairing_performance/gghhh_bsm_{m3_m2}/gghhh-4pT40_4b-test-chi2_pairing.csv'\n",
    "    df = pd.read_csv(csv_path)\n",
    "    chi2_effs.append(df[df['Event type'] == 'Total']['3h'])\n",
    "\n",
    "    csv_path = f'./pairing_performance/gghhh_bsm_{m3_m2}/gghhh-4pT40_4b-test-abs_pairing.csv'\n",
    "    df = pd.read_csv(csv_path)\n",
    "    abs_effs.append(df[df['Event type'] == 'Total']['3h'])\n",
    "\n",
    "# plot the results\n",
    "m3_m2 = ['420/280', '500/275', '500/300', '520/325']\n",
    "fig, ax = plt.subplots(figsize=(5, 4))\n",
    "\n",
    "ax.plot(m3_m2, SPANet_effs, marker='o', label='SPANet')\n",
    "ax.plot(m3_m2, chi2_effs, marker='o', label='$(m - m_h)^2$')\n",
    "ax.plot(m3_m2, abs_effs, marker='o', label='$|m - m_h|$')\n",
    "ax.set_title('$4b$ datasets')\n",
    "ax.set_xlabel('$m_{h_3}/m_{h_2}$ [GeV]')\n",
    "ax.set_ylabel('Event Efficiency')\n",
    "ax.legend(frameon=False)\n",
    "\n",
    "plt.savefig('./figures/pairing_performance-4b_datasets.pdf', dpi=300, facecolor='White', bbox_inches='tight')\n",
    "plt.show()"
   ]
  },
  {
   "cell_type": "code",
   "execution_count": 11,
   "id": "d8eb3bca",
   "metadata": {},
   "outputs": [
    {
     "data": {
      "image/png": "[encoded data removed]",
      "text/plain": [
       "<Figure size 500x400 with 1 Axes>"
      ]
     },
     "metadata": {},
     "output_type": "display_data"
    }
   ],
   "source": [
    "# load pairing results\n",
    "SPANet_effs = [] \n",
    "chi2_effs = []\n",
    "abs_effs = []\n",
    "\n",
    "for m3_m2 in ['420_280', '500_275', '500_300', '520_325']:\n",
    "\n",
    "    csv_path = f'./pairing_performance/gghhh_bsm_{m3_m2}/gghhh-4pT40_6b-1-4b_SPANet_pairing.csv'\n",
    "    SPANet_effs.append(df[df['Event type'] == 'Total']['3h'])\n",
    "    df = pd.read_csv(csv_path)\n",
    "\n",
    "    csv_path = f'./pairing_performance/gghhh_bsm_{m3_m2}/gghhh-4pT40_6b-1-chi2_pairing.csv'\n",
    "    df = pd.read_csv(csv_path)\n",
    "    chi2_effs.append(df[df['Event type'] == 'Total']['3h'])\n",
    "\n",
    "    csv_path = f'./pairing_performance/gghhh_bsm_{m3_m2}/gghhh-4pT40_6b-1-abs_pairing.csv'\n",
    "    df = pd.read_csv(csv_path)\n",
    "    abs_effs.append(df[df['Event type'] == 'Total']['3h'])\n",
    "\n",
    "# plot the results\n",
    "m3_m2 = ['420/280', '500/275', '500/300', '520/325']\n",
    "fig, ax = plt.subplots(figsize=(5, 4))\n",
    "\n",
    "ax.plot(m3_m2, SPANet_effs, marker='o', label='SPANet')\n",
    "ax.plot(m3_m2, chi2_effs, marker='o', label='$(m - m_h)^2$')\n",
    "ax.plot(m3_m2, abs_effs, marker='o', label='$|m - m_h|$')\n",
    "ax.set_title('$6b$ datasets')\n",
    "ax.set_xlabel('$m_{h_3}/m_{h_2}$ [GeV]')\n",
    "ax.set_ylabel('Event Efficiency')\n",
    "ax.legend(frameon=False)\n",
    "\n",
    "plt.savefig('./figures/pairing_performance-6b_datasets.pdf', dpi=300, facecolor='White', bbox_inches='tight')\n",
    "plt.show()"
   ]
  },
  {
   "cell_type": "markdown",
   "id": "55b73496",
   "metadata": {},
   "source": [
    "## TRSM"
   ]
  },
  {
   "cell_type": "code",
   "execution_count": 12,
   "id": "709db486",
   "metadata": {},
   "outputs": [
    {
     "data": {
      "image/png": "[encoded data removed]",
      "text/plain": [
       "<Figure size 500x400 with 1 Axes>"
      ]
     },
     "metadata": {},
     "output_type": "display_data"
    }
   ],
   "source": [
    "# load pairing results\n",
    "SPANet_effs = [] \n",
    "chi2_effs = []\n",
    "abs_effs = []\n",
    "\n",
    "for m3_m2 in ['420_280', '500_275', '500_300', '520_325']:\n",
    "\n",
    "    csv_path = f'./pairing_performance/TRSM_{m3_m2}/gghhh-4pT40_4b-test-4b_SPANet_pairing.csv'\n",
    "    df = pd.read_csv(csv_path)\n",
    "    SPANet_effs.append(df[df['Event type'] == 'Total']['3h'])\n",
    "\n",
    "    csv_path = f'./pairing_performance/TRSM_{m3_m2}/gghhh-4pT40_4b-test-chi2_pairing.csv'\n",
    "    df = pd.read_csv(csv_path)\n",
    "    chi2_effs.append(df[df['Event type'] == 'Total']['3h'])\n",
    "\n",
    "    csv_path = f'./pairing_performance/TRSM_{m3_m2}/gghhh-4pT40_4b-test-abs_pairing.csv'\n",
    "    df = pd.read_csv(csv_path)\n",
    "    abs_effs.append(df[df['Event type'] == 'Total']['3h'])\n",
    "\n",
    "# plot the results\n",
    "m3_m2 = ['420/280', '500/275', '500/300', '520/325']\n",
    "fig, ax = plt.subplots(figsize=(5, 4))\n",
    "\n",
    "ax.plot(m3_m2, SPANet_effs, marker='o', label='SPANet')\n",
    "ax.plot(m3_m2, chi2_effs, marker='o', label='$(m - m_h)^2$')\n",
    "ax.plot(m3_m2, abs_effs, marker='o', label='$|m - m_h|$')\n",
    "ax.set_title('$4b$ datasets')\n",
    "ax.set_xlabel('$m_{h_3}/m_{h_2}$ [GeV]')\n",
    "ax.set_ylabel('Event Efficiency')\n",
    "ax.legend(frameon=False)\n",
    "\n",
    "plt.savefig('./figures/pairing_performance-4b_datasets-TRSM.pdf', dpi=300, facecolor='White', bbox_inches='tight')\n",
    "plt.show()"
   ]
  },
  {
   "cell_type": "code",
   "execution_count": 13,
   "id": "98e3b962",
   "metadata": {},
   "outputs": [
    {
     "data": {
      "image/png": "[encoded data removed]",
      "text/plain": [
       "<Figure size 500x400 with 1 Axes>"
      ]
     },
     "metadata": {},
     "output_type": "display_data"
    }
   ],
   "source": [
    "# load pairing results\n",
    "SPANet_effs = [] \n",
    "chi2_effs = []\n",
    "abs_effs = []\n",
    "\n",
    "for m3_m2 in ['420_280', '500_275', '500_300', '520_325']:\n",
    "\n",
    "    csv_path = f'./pairing_performance/TRSM_{m3_m2}/gghhh-4pT40_6b-1-4b_SPANet_pairing.csv'\n",
    "    SPANet_effs.append(df[df['Event type'] == 'Total']['3h'])\n",
    "    df = pd.read_csv(csv_path)\n",
    "\n",
    "    csv_path = f'./pairing_performance/TRSM_{m3_m2}/gghhh-4pT40_6b-1-chi2_pairing.csv'\n",
    "    df = pd.read_csv(csv_path)\n",
    "    chi2_effs.append(df[df['Event type'] == 'Total']['3h'])\n",
    "\n",
    "    csv_path = f'./pairing_performance/TRSM_{m3_m2}/gghhh-4pT40_6b-1-abs_pairing.csv'\n",
    "    df = pd.read_csv(csv_path)\n",
    "    abs_effs.append(df[df['Event type'] == 'Total']['3h'])\n",
    "\n",
    "# plot the results\n",
    "m3_m2 = ['420/280', '500/275', '500/300', '520/325']\n",
    "fig, ax = plt.subplots(figsize=(5, 4))\n",
    "\n",
    "ax.plot(m3_m2, SPANet_effs, marker='o', label='SPANet')\n",
    "ax.plot(m3_m2, chi2_effs, marker='o', label='$(m - m_h)^2$')\n",
    "ax.plot(m3_m2, abs_effs, marker='o', label='$|m - m_h|$')\n",
    "ax.set_title('$6b$ datasets')\n",
    "ax.set_xlabel('$m_{h_3}/m_{h_2}$ [GeV]')\n",
    "ax.set_ylabel('Event Efficiency')\n",
    "ax.legend(frameon=False)\n",
    "\n",
    "plt.savefig('./figures/pairing_performance-6b_datasets-TRSM.pdf', dpi=300, facecolor='White', bbox_inches='tight')\n",
    "plt.show()"
   ]
  }
 ],
 "metadata": {
  "kernelspec": {
   "display_name": "Python 3 (ipykernel)",
   "language": "python",
   "name": "python3"
  },
  "language_info": {
   "codemirror_mode": {
    "name": "ipython",
    "version": 3
   },
   "file_extension": ".py",
   "mimetype": "text/x-python",
   "name": "python",
   "nbconvert_exporter": "python",
   "pygments_lexer": "ipython3",
   "version": "3.8.16"
  }
 },
 "nbformat": 4,
 "nbformat_minor": 5
}
