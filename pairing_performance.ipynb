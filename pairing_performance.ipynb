{
 "cells": [
  {
   "cell_type": "code",
   "execution_count": 1,
   "id": "95ff4cf2",
   "metadata": {},
   "outputs": [],
   "source": [
    "import os\n",
    "import h5py\n",
    "import itertools\n",
    "\n",
    "import numpy as np\n",
    "import pandas as pd\n",
    "\n",
    "from tqdm import tqdm"
   ]
  },
  {
   "cell_type": "code",
   "execution_count": 2,
   "id": "cae2ac14",
   "metadata": {},
   "outputs": [],
   "source": [
    "def all_pairs(lst):\n",
    "    if len(lst) < 2:\n",
    "        yield []\n",
    "        return\n",
    "    if len(lst) % 2 == 1:\n",
    "        # Handle odd length list\n",
    "        for i in range(len(lst)):\n",
    "            for result in all_pairs(lst[:i] + lst[i+1:]):\n",
    "                yield result\n",
    "    else:\n",
    "        a = lst[0]\n",
    "        for i in range(1, len(lst)):\n",
    "            pair = (a,lst[i])\n",
    "            for rest in all_pairs(lst[1:i]+lst[i+1:]):\n",
    "                yield [pair] + rest\n",
    "\n",
    "def Mjets(jets):\n",
    "    # jets: 一個形狀為 (n, 4) 的 NumPy 陣列，其中 n 是噴射數量，每個噴射有四個屬性（pt, eta, phi, m）\n",
    "\n",
    "    pt, eta, phi, m = jets.T  # 將噴射屬性分解為單獨的陣列\n",
    "\n",
    "    px = pt * np.cos(phi)\n",
    "    py = pt * np.sin(phi)\n",
    "    pz = pt * np.sinh(eta)\n",
    "    e = np.sqrt(m*m + px*px + py*py + pz*pz)\n",
    "\n",
    "    return np.sqrt(e.sum()**2 - px.sum()**2 - py.sum()**2 - pz.sum()**2)\n",
    "\n",
    "def PxPyPzE(jets):\n",
    "    # jets: 一個形狀為 (n, 4) 的 NumPy 陣列，其中 n 是噴射數量，每個噴射有四個屬性（pt, eta, phi, m）\n",
    "    pt, eta, phi, m = jets.T\n",
    "\n",
    "    px = pt * np.cos(phi)\n",
    "    py = pt * np.sin(phi)\n",
    "    pz = pt * np.sinh(eta)\n",
    "    e = np.sqrt(m*m + px*px + py*py + pz*pz)\n",
    "\n",
    "    return px.sum(), py.sum(), pz.sum(), e.sum()\n",
    "\n",
    "def PtEtaPhiM(px, py, pz, e):\n",
    "\n",
    "    P = np.sqrt(px**2 + py**2 + pz**2)\n",
    "    pt = np.sqrt(px**2 + py**2)\n",
    "    eta = 1/2 * np.log((P + pz)/(P - pz))\n",
    "    phi = np.arctan(py/px)\n",
    "    m = np.sqrt(e**2 - px**2 - py**2 - pz**2)\n",
    "\n",
    "    return pt, eta, phi, m"
   ]
  },
  {
   "cell_type": "code",
   "execution_count": 3,
   "id": "d03e0dae",
   "metadata": {},
   "outputs": [],
   "source": [
    "def get_Higgs_result(total_event, total_Higgs, correct_event, correct_Higgs, nh, nj):\n",
    "\n",
    "    start_nj, end_nj = nj\n",
    "\n",
    "    label = ['all' if nh == 'all' else f'{nh}h' for nj in range(start_nj, end_nj+2)]\n",
    "\n",
    "    if nh == 'all':\n",
    "        nh = slice(1, None)\n",
    "        \n",
    "    event_type = [f'Nj={nj}' for nj in range(start_nj, end_nj)]\n",
    "    event_type.append(f'Nj>={end_nj}')\n",
    "    event_type.append('Total')\n",
    "\n",
    "    event_fraction = [total_event[nh, nj].sum() / total_event.sum() for nj in range(start_nj, end_nj)]\n",
    "    event_fraction.append(total_event[nh, end_nj:].sum() / total_event.sum())\n",
    "    event_fraction.append(total_event[nh].sum() / total_event.sum())\n",
    "\n",
    "    event_efficiency = [correct_event[nh, nj].sum() / total_event[nh, nj].sum() for nj in range(start_nj, end_nj)]\n",
    "    event_efficiency.append(correct_event[nh, end_nj:].sum() / total_event[nh, end_nj:].sum())\n",
    "    event_efficiency.append(correct_event[nh].sum() / total_event[nh].sum())\n",
    "\n",
    "    higgs_efficiency = [correct_Higgs[nh, nj].sum() / total_Higgs[nh, nj].sum() for nj in range(start_nj, end_nj)]\n",
    "    higgs_efficiency.append(correct_Higgs[nh, end_nj:].sum() / total_Higgs[nh, end_nj:].sum())\n",
    "    higgs_efficiency.append(correct_Higgs[nh].sum() / total_Higgs[nh].sum())\n",
    "        \n",
    "    result = {'Label':label,\n",
    "              'Event type': event_type,\n",
    "              'Event Fraction': event_fraction,\n",
    "              'Event Efficiency': event_efficiency,\n",
    "              'Higgs Efficiency': higgs_efficiency,\n",
    "             }\n",
    "\n",
    "    df = pd.DataFrame(result)\n",
    "\n",
    "    return df"
   ]
  },
  {
   "cell_type": "code",
   "execution_count": 4,
   "id": "39e5da4b",
   "metadata": {},
   "outputs": [],
   "source": [
    "def chi2_triHiggs(m1, m2, m3):\n",
    "    mh = 125.0\n",
    "    return (m1 - mh)**2 + (m2 - mh)**2 + (m3 - mh)**2\n",
    "\n",
    "def chi2_triHiggs_abs(m1, m2, m3):\n",
    "    return abs(m1 - 119) + abs(m2 - 115) + abs(m3 - 111)\n",
    "\n",
    "def compare_jet_list_triHiggs(pair1, pair2, nh_max=3):\n",
    "    h1_true = {pair1[0], pair1[1]}\n",
    "    h2_true = {pair1[2], pair1[3]}\n",
    "    h3_true = {pair1[4], pair1[5]}  \n",
    "    \n",
    "    h1_test = {pair2[0], pair2[1]}\n",
    "    h2_test = {pair2[2], pair2[3]}\n",
    "    h3_test = {pair2[4], pair2[5]}\n",
    "    \n",
    "    test_h = [h1_test, h2_test, h3_test]\n",
    "    \n",
    "    nh = 0\n",
    "    for id1, id2, id3 in itertools.permutations([0, 1, 2]):\n",
    "        h1 = test_h[id1]\n",
    "        h2 = test_h[id2]\n",
    "        h3 = test_h[id3]\n",
    "        if h1_true == h1:\n",
    "            nh = 1\n",
    "            if h2_true == h2:\n",
    "                nh = 2\n",
    "                if h3_true == h3:\n",
    "                    nh = 3\n",
    "                    break\n",
    "                    \n",
    "    same = True if nh==nh_max else False\n",
    "    return same, nh\n",
    "\n",
    "def compare_jet_list_triHiggs_optimized(pair1, pair2, nh_max=3):\n",
    "    # 將pair1和pair2分別轉換為三個Higgs的集合\n",
    "    h_true_sets = [{pair1[i], pair1[i+1]} for i in range(0, 6, 2)]\n",
    "    h_test_sets = [{pair2[i], pair2[i+1]} for i in range(0, 6, 2)]\n",
    "    \n",
    "    # 計算匹配的Higgs數量\n",
    "    nh = sum(1 for h_true in h_true_sets if h_true in h_test_sets)\n",
    "    \n",
    "    # 判斷是否所有Higgs都匹配\n",
    "    same = nh == nh_max\n",
    "    return same, nh"
   ]
  },
  {
   "cell_type": "code",
   "execution_count": 5,
   "id": "10e7487d",
   "metadata": {},
   "outputs": [],
   "source": [
    "def get_particle_mask(quark_jet, particle_quarks):\n",
    "    # quark_jet: 每個夸克對應的 jet 編號，shape 為 (n_event, 6)\n",
    "    # particle_quarks: 粒子對應的夸克編號，shape 為 (n_quarks,)\n",
    "\n",
    "    # 檢查是否每個夸克都有對應的 jet\n",
    "    mask1 = np.all(quark_jet[:, particle_quarks] != -1, axis=1)\n",
    "\n",
    "    # 對每一個事件，檢查每個夸克對應的 jet 都不重複\n",
    "    count = np.array([[np.sum(event == event[i]) for i in particle_quarks] for event in quark_jet])\n",
    "    mask2 = np.all(count == 1, axis=1)\n",
    "\n",
    "    return mask1 & mask2\n",
    "\n",
    "def chi2_method_triHiggs(file_path, use_btag=False):\n",
    "    MAX_JETS = 15\n",
    "\n",
    "    with h5py.File(file_path, 'r') as f:\n",
    "        \n",
    "        total_event = np.zeros((4, MAX_JETS + 1))\n",
    "        total_Higgs = np.zeros((4, MAX_JETS + 1))\n",
    "        correct_event = np.zeros((4, MAX_JETS + 1))\n",
    "        correct_Higgs = np.zeros((4, MAX_JETS + 1))\n",
    "\n",
    "        nevent = f['INPUTS/Source/pt'].shape[0]\n",
    "        nevent = 1000\n",
    "\n",
    "        for event in tqdm(range(nevent)):\n",
    "\n",
    "            nj = f['INPUTS/Source/MASK'][event].sum()\n",
    "            pt = f['INPUTS/Source/pt'][event]\n",
    "            eta = f['INPUTS/Source/eta'][event]\n",
    "            phi = f['INPUTS/Source/phi'][event]\n",
    "            mass = f['INPUTS/Source/mass'][event]\n",
    "            btag = f['INPUTS/Source/btag'][event]\n",
    "\n",
    "            \n",
    "            h1_b1 = f['TARGETS/h1/b1'][event] \n",
    "            h1_b2 = f['TARGETS/h1/b2'][event] \n",
    "            h2_b1 = f['TARGETS/h2/b1'][event] \n",
    "            h2_b2 = f['TARGETS/h2/b2'][event] \n",
    "            h3_b1 = f['TARGETS/h3/b1'][event] \n",
    "            h3_b2 = f['TARGETS/h3/b2'][event] \n",
    "\n",
    "            quark_jet = np.array([h1_b1, h1_b2, h2_b1, h2_b2, h3_b1, h3_b2]).reshape(1, 6)\n",
    "\n",
    "            h1_mask = get_particle_mask(quark_jet, [0, 1])\n",
    "            h2_mask = get_particle_mask(quark_jet, [2, 3])\n",
    "            h3_mask = get_particle_mask(quark_jet, [4, 5])\n",
    "            \n",
    "            is_3h_event = h1_mask and h2_mask and h3_mask\n",
    "            is_2h_event = (~h1_mask and h2_mask and h3_mask) or (h1_mask and ~h2_mask and h3_mask) or (h1_mask and h2_mask and ~h3_mask)\n",
    "            is_1h_event = (~h1_mask and ~h2_mask and h3_mask) or (~h1_mask and h2_mask and ~h3_mask) or (h1_mask and ~h2_mask and ~h3_mask)\n",
    "            is_0h_event = ~h1_mask and ~h2_mask and ~h3_mask\n",
    "            \n",
    "            if is_3h_event:\n",
    "                total_event[3, nj] += 1\n",
    "                total_Higgs[3, nj] += 3\n",
    "            if is_2h_event:\n",
    "                total_event[2, nj] += 1\n",
    "                total_Higgs[2, nj] += 2   \n",
    "            if is_1h_event:\n",
    "                total_event[1, nj] += 1\n",
    "                total_Higgs[1, nj] += 1   \n",
    "            if is_0h_event:\n",
    "                total_event[0, nj] += 1\n",
    "                continue\n",
    "\n",
    "            true_pair = [h1_b1,h1_b2, h2_b1,h2_b2, h3_b1,h3_b2]\n",
    "\n",
    "            chisq = -1 \n",
    "            pair = []\n",
    "\n",
    "            jets_index = np.where(btag)[0] if use_btag else range(nj)\n",
    "\n",
    "            for combination in itertools.combinations(jets_index, 6):\n",
    "                for (i1,i2), (i3,i4), (i5,i6) in all_pairs(combination):       \n",
    "                    jets = np.array([[pt[i], eta[i], phi[i], mass[i]] for i in [i1, i2, i3, i4, i5, i6]])\n",
    "\n",
    "                    mh1, mh2, mh3 = Mjets(jets[[0, 1]]), Mjets(jets[[2, 3]]), Mjets(jets[[4, 5]])\n",
    "\n",
    "                    tem = chi2_triHiggs(mh1, mh2, mh3)\n",
    "\n",
    "                    if chisq < 0 or tem < chisq:\n",
    "                        chisq = tem\n",
    "                        pair = [i1, i2, i3, i4, i5, i6]\n",
    "\n",
    "                        \n",
    "            if is_3h_event:\n",
    "                same, nh = compare_jet_list_triHiggs(true_pair, pair, nh_max=3)\n",
    "                correct_Higgs[3, nj] += nh\n",
    "                if same: correct_event[3, nj] += 1 \n",
    "            if is_2h_event:\n",
    "                same, nh = compare_jet_list_triHiggs(true_pair, pair, nh_max=2)\n",
    "                correct_Higgs[2, nj] += nh\n",
    "                if same: correct_event[2, nj] += 1     \n",
    "            if is_1h_event:\n",
    "                same, nh = compare_jet_list_triHiggs(true_pair, pair, nh_max=1)\n",
    "                correct_Higgs[1, nj] += nh\n",
    "                if same: correct_event[1, nj] += 1\n",
    "\n",
    "        Nj = (6, 8)\n",
    "        \n",
    "        df_all = get_Higgs_result(total_event, total_Higgs, correct_event, correct_Higgs, nh='all', nj=Nj)\n",
    "        print('All Events:')\n",
    "        print(df_all)\n",
    "        df_1h = get_Higgs_result(total_event, total_Higgs, correct_event, correct_Higgs, nh=1, nj=Nj)\n",
    "        print('1 Higgs Events:')\n",
    "        print(df_1h)\n",
    "        df_2h = get_Higgs_result(total_event, total_Higgs, correct_event, correct_Higgs, nh=2, nj=Nj)\n",
    "        print('2 Higgs Events:')\n",
    "        print(df_2h)\n",
    "        df_3h = get_Higgs_result(total_event, total_Higgs, correct_event, correct_Higgs, nh=3, nj=Nj)\n",
    "        print('3 Higgs Events:')\n",
    "        print(df_3h)\n",
    "        \n",
    "        file_name = os.path.splitext(os.path.basename(file_path))[0]\n",
    "        \n",
    "        frames = [df_all, df_1h, df_2h, df_3h]\n",
    "        result = pd.concat(frames)\n",
    "        \n",
    "        result.to_csv(f'{file_name}--chisq_result.csv')"
   ]
  },
  {
   "cell_type": "code",
   "execution_count": 6,
   "id": "8c3f1673",
   "metadata": {},
   "outputs": [],
   "source": [
    "def get_Higgs_correct_fraction(events, nh, nj, jet_type='Nj'):\n",
    "    # events: number of events in different categories (nh, nj, n_correct_h)\n",
    "    start_nj, end_nj = nj\n",
    "\n",
    "    label = [f'{nh}h' for _ in range(start_nj, end_nj+2)]\n",
    "\n",
    "    total_event = events[nh].sum(axis=1)\n",
    "\n",
    "    correct_3h_event = events[nh, :, 3]\n",
    "    correct_2h_event = events[nh, :, 2]\n",
    "    correct_1h_event = events[nh, :, 1]\n",
    "    correct_0h_event = events[nh, :, 0]\n",
    "\n",
    "    correct_Higgs = events[nh, :, 3] * 3 + events[nh, :, 2] * 2 + events[nh, :, 1]\n",
    "        \n",
    "    event_type = [f'{jet_type}={nj}' for nj in range(start_nj, end_nj)]\n",
    "    event_type.append(f'{jet_type}>={end_nj}')\n",
    "    event_type.append('Total')\n",
    "\n",
    "    event_fraction = [total_event[nj] / total_event.sum() for nj in range(start_nj, end_nj)]\n",
    "    event_fraction.append(total_event[end_nj:].sum() / total_event.sum())\n",
    "    event_fraction.append(total_event.sum() / total_event.sum())\n",
    "\n",
    "\n",
    "    eff_3h = [correct_3h_event[nj] / total_event[nj] for nj in range(start_nj, end_nj)]\n",
    "    eff_3h.append(correct_3h_event[end_nj:].sum() / total_event[end_nj:].sum())\n",
    "    eff_3h.append(correct_3h_event.sum() / total_event.sum())\n",
    "\n",
    "    eff_2h = [correct_2h_event[nj] / total_event[nj] for nj in range(start_nj, end_nj)]\n",
    "    eff_2h.append(correct_2h_event[end_nj:].sum() / total_event[end_nj:].sum())\n",
    "    eff_2h.append(correct_2h_event.sum() / total_event.sum())\n",
    "\n",
    "    eff_1h = [correct_1h_event[nj] / total_event[nj] for nj in range(start_nj, end_nj)]\n",
    "    eff_1h.append(correct_1h_event[end_nj:].sum() / total_event[end_nj:].sum())\n",
    "    eff_1h.append(correct_1h_event.sum() / total_event.sum())\n",
    "\n",
    "    eff_0h = [correct_0h_event[nj] / total_event[nj] for nj in range(start_nj, end_nj)]\n",
    "    eff_0h.append(correct_0h_event[end_nj:].sum() / total_event[end_nj:].sum())\n",
    "    eff_0h.append(correct_0h_event.sum() / total_event.sum())\n",
    "\n",
    "    eff_Higgs = [correct_Higgs[nj] / (total_event[nj] * nh) for nj in range(start_nj, end_nj)]\n",
    "    eff_Higgs.append(correct_Higgs[end_nj:].sum() / (total_event[end_nj:].sum() * nh))\n",
    "    eff_Higgs.append(correct_Higgs.sum() / (total_event.sum() * nh))\n",
    "        \n",
    "    result = {'Label':label,\n",
    "              'Event type': event_type,\n",
    "              'Event Fraction': event_fraction,\n",
    "              '3h': eff_3h,\n",
    "              '2h': eff_2h,\n",
    "              '1h': eff_1h,\n",
    "              '0h': eff_0h,\n",
    "              'Higgs': eff_Higgs\n",
    "             }\n",
    "\n",
    "    df = pd.DataFrame(result)\n",
    "\n",
    "    return df\n",
    "\n",
    "def chi2_method_triHiggs_2(file_path, use_btag=False, pairing_method=chi2_triHiggs):\n",
    "    MAX_JETS = 15\n",
    "\n",
    "    with h5py.File(file_path, 'r') as f:\n",
    "        \n",
    "        # events: 總共有多少該類事件 (nh, nj, n_correct_h)\n",
    "        events = np.zeros((4, MAX_JETS + 1, 4))\n",
    "        events_nbj = np.zeros((4, MAX_JETS + 1, 4))\n",
    "\n",
    "        nevent = min(10000, f['INPUTS/Source/pt'].shape[0])\n",
    "\n",
    "        for event in tqdm(range(nevent)):\n",
    "\n",
    "            nj = f['INPUTS/Source/MASK'][event].sum()\n",
    "            pt = f['INPUTS/Source/pt'][event]\n",
    "            eta = f['INPUTS/Source/eta'][event]\n",
    "            phi = f['INPUTS/Source/phi'][event]\n",
    "            mass = f['INPUTS/Source/mass'][event]\n",
    "            btag = f['INPUTS/Source/btag'][event]\n",
    "            nbj = btag.sum()\n",
    "\n",
    "            \n",
    "            h1_b1 = f['TARGETS/h1/b1'][event] \n",
    "            h1_b2 = f['TARGETS/h1/b2'][event] \n",
    "            h2_b1 = f['TARGETS/h2/b1'][event] \n",
    "            h2_b2 = f['TARGETS/h2/b2'][event] \n",
    "            h3_b1 = f['TARGETS/h3/b1'][event] \n",
    "            h3_b2 = f['TARGETS/h3/b2'][event] \n",
    "\n",
    "            quark_jet = np.array([h1_b1, h1_b2, h2_b1, h2_b2, h3_b1, h3_b2]).reshape(1, 6)\n",
    "\n",
    "            h1_mask = get_particle_mask(quark_jet, [0, 1])\n",
    "            h2_mask = get_particle_mask(quark_jet, [2, 3])\n",
    "            h3_mask = get_particle_mask(quark_jet, [4, 5])\n",
    "\n",
    "            event_h = [h1_mask, h2_mask, h3_mask].count(True)\n",
    "\n",
    "            true_pair = [h1_b1,h1_b2, h2_b1,h2_b2, h3_b1,h3_b2]\n",
    "\n",
    "            chisq = -1 \n",
    "            pair = []\n",
    "\n",
    "            if use_btag:\n",
    "                if nbj >= 6:\n",
    "                    jets_index = np.where(btag)[0][:6]\n",
    "                elif nbj == 5:\n",
    "                    jets_index = np.concatenate([np.where(btag)[0], np.where(~btag)[0][:1]])\n",
    "                elif nbj == 4:\n",
    "                    jets_index = np.concatenate([np.where(btag)[0], np.where(~btag)[0][:2]])\n",
    "            else:\n",
    "                jets_index = range(nj)\n",
    "\n",
    "            for combination in itertools.combinations(jets_index, 6):\n",
    "                for (i1,i2), (i3,i4), (i5,i6) in all_pairs(combination):       \n",
    "                    jets = np.array([[pt[i], eta[i], phi[i], mass[i]] for i in [i1, i2, i3, i4, i5, i6]])\n",
    "\n",
    "                    pt1, _, _, mh1 = PtEtaPhiM(*PxPyPzE(jets[[0, 1]]))\n",
    "                    pt2, _, _, mh2 = PtEtaPhiM(*PxPyPzE(jets[[2, 3]]))\n",
    "                    pt3, _, _, mh3 = PtEtaPhiM(*PxPyPzE(jets[[4, 5]]))\n",
    "\n",
    "                    pt_mh_pairs = sorted(zip([pt1, pt2, pt3], [mh1, mh2, mh3]))\n",
    "                    pt_sorted, mh_sorted = zip(*pt_mh_pairs)\n",
    "\n",
    "                    mh1, mh2, mh3 = mh_sorted[::-1]\n",
    "\n",
    "                    tem = pairing_method(mh1, mh2, mh3)\n",
    "\n",
    "                    if chisq < 0 or tem < chisq:\n",
    "                        chisq = tem\n",
    "                        pair = [i1, i2, i3, i4, i5, i6]\n",
    "\n",
    "            if event_h == 3:\n",
    "                _, nh = compare_jet_list_triHiggs(true_pair, pair, nh_max=3)\n",
    "                events[3, nj, nh] += 1\n",
    "                events_nbj[3, nbj, nh] += 1\n",
    "            elif event_h == 2:\n",
    "                _, nh = compare_jet_list_triHiggs(true_pair, pair, nh_max=2)\n",
    "                events[2, nj, nh] += 1\n",
    "                events_nbj[2, nbj, nh] += 1\n",
    "            elif event_h == 1:\n",
    "                _, nh = compare_jet_list_triHiggs(true_pair, pair, nh_max=1)\n",
    "                events[1, nj, nh] += 1\n",
    "                events_nbj[1, nbj, nh] += 1\n",
    "            elif event_h == 0:\n",
    "                events[0, nj, 0] += 1\n",
    "                events_nbj[0, nbj, 0] += 1\n",
    "        \n",
    "        \n",
    "        df_3h = get_Higgs_correct_fraction(events, nh=3, nj=(6, 8), jet_type='Nj')  \n",
    "        print('3 Higgs Events:')\n",
    "        print(df_3h)\n",
    "\n",
    "        df_style = df_3h.style.format({\n",
    "            'Event Fraction': '{:.3f}',\n",
    "            '3h': '{:.3f}',\n",
    "            '2h': '{:.3f}',\n",
    "            '1h': '{:.3f}',\n",
    "            '0h': '{:.3f}',\n",
    "            'Higgs': '{:.3f}'\n",
    "        })\n",
    "        print(df_style.to_latex(column_format='c|cccc|c'))\n",
    "\n",
    "\n",
    "        df_3h_nbj = get_Higgs_correct_fraction(events_nbj, nh=3, nj=(4, 6), jet_type='Nbj')\n",
    "        print('3 Higgs Events (nbj):')\n",
    "        print(df_3h_nbj)\n",
    "\n",
    "        df_style_nbj = df_3h_nbj.style.format({\n",
    "            'Event Fraction': '{:.3f}',\n",
    "            '3h': '{:.3f}',\n",
    "            '2h': '{:.3f}',\n",
    "            '1h': '{:.3f}',\n",
    "            '0h': '{:.3f}',\n",
    "            'Higgs': '{:.3f}'\n",
    "        })\n",
    "        print(df_style_nbj.to_latex(column_format='c|cccc|c'))\n",
    "\n",
    "\n",
    "\n",
    "def SPANet_pairing_triHiggs(true_file, predict_file, nevent_max=50000):\n",
    "    MAX_JETS = 15\n",
    "\n",
    "    with h5py.File(true_file, 'r') as f_true, h5py.File(predict_file, 'r') as f_pre:\n",
    "        \n",
    "        # events: 總共有多少該類事件 (nh, nj, n_correct_h)\n",
    "        events = np.zeros((4, MAX_JETS + 1, 4))\n",
    "\n",
    "        nevent = min(f_true['INPUTS/Source/pt'].shape[0], nevent_max)\n",
    "\n",
    "        for event in tqdm(range(nevent)):\n",
    "\n",
    "            nj = f_true['INPUTS/Source/MASK'][event].sum()\n",
    "\n",
    "            h1_b1 = f_true['TARGETS/h1/b1'][event] \n",
    "            h1_b2 = f_true['TARGETS/h1/b2'][event]\n",
    "            h2_b1 = f_true['TARGETS/h2/b1'][event] \n",
    "            h2_b2 = f_true['TARGETS/h2/b2'][event]\n",
    "            h3_b1 = f_true['TARGETS/h3/b1'][event]\n",
    "            h3_b2 = f_true['TARGETS/h3/b2'][event]\n",
    "\n",
    "            quark_jet = np.array([h1_b1, h1_b2, h2_b1, h2_b2, h3_b1, h3_b2]).reshape(1, 6)\n",
    "\n",
    "            h1_mask = get_particle_mask(quark_jet, [0, 1])\n",
    "            h2_mask = get_particle_mask(quark_jet, [2, 3])\n",
    "            h3_mask = get_particle_mask(quark_jet, [4, 5])\n",
    "            \n",
    "            is_3h_event = h1_mask and h2_mask and h3_mask\n",
    "            is_2h_event = (~h1_mask and h2_mask and h3_mask) or (h1_mask and ~h2_mask and h3_mask) or (h1_mask and h2_mask and ~h3_mask)\n",
    "            is_1h_event = (~h1_mask and ~h2_mask and h3_mask) or (~h1_mask and h2_mask and ~h3_mask) or (h1_mask and ~h2_mask and ~h3_mask)\n",
    "            is_0h_event = ~h1_mask and ~h2_mask and ~h3_mask\n",
    "\n",
    "            true_pair = [h1_b1,h1_b2, h2_b1,h2_b2, h3_b1,h3_b2]\n",
    "\n",
    "            pair = [f_pre['TARGETS/h1/b1'][event],\n",
    "                    f_pre['TARGETS/h1/b2'][event],\n",
    "                    f_pre['TARGETS/h2/b1'][event],\n",
    "                    f_pre['TARGETS/h2/b2'][event],\n",
    "                    f_pre['TARGETS/h3/b1'][event],\n",
    "                    f_pre['TARGETS/h3/b2'][event]]\n",
    "\n",
    "            if is_3h_event:\n",
    "                _, nh = compare_jet_list_triHiggs(true_pair, pair, nh_max=3)\n",
    "                events[3, nj, nh] += 1\n",
    "            if is_2h_event:\n",
    "                _, nh = compare_jet_list_triHiggs(true_pair, pair, nh_max=2)\n",
    "                events[2, nj, nh] += 1   \n",
    "            if is_1h_event:\n",
    "                _, nh = compare_jet_list_triHiggs(true_pair, pair, nh_max=1)\n",
    "                events[1, nj, nh] += 1\n",
    "            if is_0h_event:\n",
    "                events[0, nj, 0] += 1\n",
    "\n",
    "        Nj = (6, 8)\n",
    "        \n",
    "        df_3h = get_Higgs_correct_fraction(events, nh=3, nj=Nj)\n",
    "        print('3 Higgs Events:')\n",
    "        print(df_3h)\n",
    "        print(df_3h.to_latex(index=False, column_format='c|cccc|c', float_format='{:0.3f}'.format))\n"
   ]
  },
  {
   "cell_type": "code",
   "execution_count": 18,
   "id": "e82750d6",
   "metadata": {},
   "outputs": [
    {
     "ename": "TypeError",
     "evalue": "chi2_method_triHiggs_2() got an unexpected keyword argument 'use_first_6_bjet'",
     "output_type": "error",
     "traceback": [
      "\u001b[0;31m---------------------------------------------------------------------------\u001b[0m",
      "\u001b[0;31mTypeError\u001b[0m                                 Traceback (most recent call last)",
      "Cell \u001b[0;32mIn[18], line 1\u001b[0m\n\u001b[0;32m----> 1\u001b[0m \u001b[43mchi2_method_triHiggs_2\u001b[49m\u001b[43m(\u001b[49m\u001b[38;5;124;43m'\u001b[39;49m\u001b[38;5;124;43m/home/r10222035/SPANet2/data/triHiggs/triHiggs_0b_3h_test.h5\u001b[39;49m\u001b[38;5;124;43m'\u001b[39;49m\u001b[43m,\u001b[49m\u001b[43m \u001b[49m\u001b[43muse_first_6_bjet\u001b[49m\u001b[38;5;241;43m=\u001b[39;49m\u001b[38;5;28;43;01mFalse\u001b[39;49;00m\u001b[43m)\u001b[49m\n",
      "\u001b[0;31mTypeError\u001b[0m: chi2_method_triHiggs_2() got an unexpected keyword argument 'use_first_6_bjet'"
     ]
    }
   ],
   "source": [
    "chi2_method_triHiggs_2('/home/r10222035/SPANet2/data/triHiggs/triHiggs_0b_3h_test.h5', use_first_6_bjet=False)"
   ]
  },
  {
   "cell_type": "code",
   "execution_count": 10,
   "id": "d70a81ee",
   "metadata": {},
   "outputs": [
    {
     "name": "stderr",
     "output_type": "stream",
     "text": [
      "100%|██████████| 1000/1000 [00:04<00:00, 208.47it/s]"
     ]
    },
    {
     "name": "stdout",
     "output_type": "stream",
     "text": [
      "3 Higgs Events:\n",
      "  Label Event type        3h        2h        1h        0h     Higgs\n",
      "0    3h       Nj=6  0.500000  0.000000  0.123529  0.376471  0.541176\n",
      "1    3h       Nj=7  0.322464  0.007246  0.184783  0.485507  0.388889\n",
      "2    3h      Nj>=8  0.238411  0.026490  0.155629  0.579470  0.307947\n",
      "3    3h      Total  0.328877  0.013369  0.159091  0.498663  0.390820\n"
     ]
    },
    {
     "name": "stderr",
     "output_type": "stream",
     "text": [
      "\n"
     ]
    }
   ],
   "source": [
    "chi2_method_triHiggs_2('Sample/SPANet/triHiggs_6b_3h_test.h5', use_first_6_bjet=True)"
   ]
  },
  {
   "cell_type": "code",
   "execution_count": 11,
   "id": "c3733aaa",
   "metadata": {},
   "outputs": [
    {
     "name": "stderr",
     "output_type": "stream",
     "text": [
      "100%|██████████| 1000/1000 [00:04<00:00, 209.91it/s]"
     ]
    },
    {
     "name": "stdout",
     "output_type": "stream",
     "text": [
      "3 Higgs Events:\n",
      "  Label Event type        3h        2h        1h        0h     Higgs\n",
      "0    3h       Nj=6  0.476471  0.000000  0.135294  0.388235  0.521569\n",
      "1    3h       Nj=7  0.293478  0.010870  0.184783  0.510870  0.362319\n",
      "2    3h      Nj>=8  0.215232  0.026490  0.168874  0.589404  0.289183\n",
      "3    3h      Total  0.303476  0.014706  0.167112  0.514706  0.368984\n"
     ]
    },
    {
     "name": "stderr",
     "output_type": "stream",
     "text": [
      "\n"
     ]
    }
   ],
   "source": [
    "chi2_method_triHiggs_2('Sample/SPANet/triHiggs_6b_3h_test.h5', use_first_6_bjet=True, pairing_method=chi2_triHiggs_abs)"
   ]
  },
  {
   "cell_type": "code",
   "execution_count": 9,
   "id": "88746c4a",
   "metadata": {},
   "outputs": [
    {
     "name": "stderr",
     "output_type": "stream",
     "text": [
      "  0%|          | 0/10000 [00:00<?, ?it/s]"
     ]
    },
    {
     "name": "stderr",
     "output_type": "stream",
     "text": [
      "100%|██████████| 10000/10000 [00:25<00:00, 384.63it/s]\n"
     ]
    },
    {
     "name": "stdout",
     "output_type": "stream",
     "text": [
      "3 Higgs Events:\n",
      "  Label Event type  Event Fraction        3h        2h        1h        0h  \\\n",
      "0    3h       Nj=6        0.212901  0.516637  0.000000  0.098074  0.385289   \n",
      "1    3h       Nj=7        0.326622  0.444064  0.006849  0.135845  0.413242   \n",
      "2    3h      Nj>=8        0.460477  0.309312  0.007287  0.166802  0.516599   \n",
      "3    3h      Total        1.000000  0.397465  0.005593  0.142058  0.454884   \n",
      "\n",
      "      Higgs  \n",
      "0  0.549329  \n",
      "1  0.493912  \n",
      "2  0.369771  \n",
      "3  0.448546  \n",
      "\\begin{tabular}{c|cccc|c}\n",
      " & Label & Event type & Event Fraction & 3h & 2h & 1h & 0h & Higgs \\\\\n",
      "0 & 3h & Nj=6 & 0.213 & 0.517 & 0.000 & 0.098 & 0.385 & 0.549 \\\\\n",
      "1 & 3h & Nj=7 & 0.327 & 0.444 & 0.007 & 0.136 & 0.413 & 0.494 \\\\\n",
      "2 & 3h & Nj>=8 & 0.460 & 0.309 & 0.007 & 0.167 & 0.517 & 0.370 \\\\\n",
      "3 & 3h & Total & 1.000 & 0.397 & 0.006 & 0.142 & 0.455 & 0.449 \\\\\n",
      "\\end{tabular}\n",
      "\n"
     ]
    }
   ],
   "source": [
    "chi2_method_triHiggs_2('../SPANet2/data/triHiggs/gghhh_4b_PT40_3h_test.h5', use_btag=True)"
   ]
  },
  {
   "cell_type": "code",
   "execution_count": 15,
   "id": "24e49242",
   "metadata": {},
   "outputs": [
    {
     "name": "stderr",
     "output_type": "stream",
     "text": [
      "100%|██████████| 9944/9944 [00:48<00:00, 206.24it/s]"
     ]
    },
    {
     "name": "stdout",
     "output_type": "stream",
     "text": [
      "3 Higgs Events:\n",
      "  Label Event type  Event Fraction        3h        2h        1h        0h  \\\n",
      "0    3h       Nj=6        0.242257  0.520133  0.000000  0.112080  0.367787   \n",
      "1    3h       Nj=7        0.335278  0.277445  0.006599  0.182364  0.533593   \n",
      "2    3h      Nj>=8        0.422466  0.160676  0.008331  0.189717  0.641276   \n",
      "3    3h      Total        1.000000  0.286907  0.005732  0.168443  0.538918   \n",
      "\n",
      "      Higgs  \n",
      "0  0.557493  \n",
      "1  0.342631  \n",
      "2  0.229469  \n",
      "3  0.346876  \n",
      "\\begin{tabular}{c|cccc|c}\n",
      " & Label & Event type & Event Fraction & 3h & 2h & 1h & 0h & Higgs \\\\\n",
      "0 & 3h & Nj=6 & 0.242 & 0.520 & 0.000 & 0.112 & 0.368 & 0.557 \\\\\n",
      "1 & 3h & Nj=7 & 0.335 & 0.277 & 0.007 & 0.182 & 0.534 & 0.343 \\\\\n",
      "2 & 3h & Nj>=8 & 0.422 & 0.161 & 0.008 & 0.190 & 0.641 & 0.229 \\\\\n",
      "3 & 3h & Total & 1.000 & 0.287 & 0.006 & 0.168 & 0.539 & 0.347 \\\\\n",
      "\\end{tabular}\n",
      "\n"
     ]
    },
    {
     "name": "stderr",
     "output_type": "stream",
     "text": [
      "\n"
     ]
    }
   ],
   "source": [
    "chi2_method_triHiggs_2('./Sample/SPANet/gghhh_4b_PT40_3h_new.h5', use_btag=True)"
   ]
  },
  {
   "cell_type": "code",
   "execution_count": 7,
   "id": "7db91cd1",
   "metadata": {},
   "outputs": [
    {
     "name": "stderr",
     "output_type": "stream",
     "text": [
      "  0%|          | 0/10000 [00:00<?, ?it/s]"
     ]
    },
    {
     "name": "stderr",
     "output_type": "stream",
     "text": [
      "100%|██████████| 10000/10000 [00:52<00:00, 191.86it/s]\n"
     ]
    },
    {
     "name": "stdout",
     "output_type": "stream",
     "text": [
      "3 Higgs Events:\n",
      "  Label Event type  Event Fraction        3h        2h        1h        0h  \\\n",
      "0    3h       Nj=6        0.168849  0.555735  0.000000  0.106624  0.337641   \n",
      "1    3h       Nj=7        0.310693  0.333626  0.007902  0.153644  0.504829   \n",
      "2    3h      Nj>=8        0.520458  0.192872  0.006813  0.204403  0.595912   \n",
      "3    3h      Total        1.000000  0.297872  0.006001  0.172122  0.524004   \n",
      "\n",
      "      Higgs  \n",
      "0  0.591276  \n",
      "1  0.390108  \n",
      "2  0.265549  \n",
      "3  0.359247  \n",
      "\\begin{tabular}{c|cccc|c}\n",
      " & Label & Event type & Event Fraction & 3h & 2h & 1h & 0h & Higgs \\\\\n",
      "0 & 3h & Nj=6 & 0.169 & 0.556 & 0.000 & 0.107 & 0.338 & 0.591 \\\\\n",
      "1 & 3h & Nj=7 & 0.311 & 0.334 & 0.008 & 0.154 & 0.505 & 0.390 \\\\\n",
      "2 & 3h & Nj>=8 & 0.520 & 0.193 & 0.007 & 0.204 & 0.596 & 0.266 \\\\\n",
      "3 & 3h & Total & 1.000 & 0.298 & 0.006 & 0.172 & 0.524 & 0.359 \\\\\n",
      "\\end{tabular}\n",
      "\n"
     ]
    }
   ],
   "source": [
    "chi2_method_triHiggs_2('./Sample/SPANet/pphhh_sm_4b_PT40.h5', use_btag=True)"
   ]
  },
  {
   "cell_type": "code",
   "execution_count": 10,
   "id": "60fb9a14",
   "metadata": {},
   "outputs": [
    {
     "name": "stderr",
     "output_type": "stream",
     "text": [
      "100%|██████████| 10000/10000 [00:52<00:00, 191.03it/s]"
     ]
    },
    {
     "name": "stdout",
     "output_type": "stream",
     "text": [
      "3 Higgs Events:\n",
      "  Label Event type  Event Fraction        3h        2h        1h        0h  \\\n",
      "0    3h       Nj=6          0.2413  0.456693  0.000000  0.130957  0.412350   \n",
      "1    3h       Nj=7          0.3347  0.239020  0.009262  0.183747  0.567971   \n",
      "2    3h      Nj>=8          0.4240  0.135849  0.006604  0.196698  0.660849   \n",
      "3    3h      Total          1.0000  0.247800  0.005900  0.176500  0.569800   \n",
      "\n",
      "      Higgs  \n",
      "0  0.500345  \n",
      "1  0.306444  \n",
      "2  0.205818  \n",
      "3  0.310567  \n",
      "\\begin{tabular}{c|cccc|c}\n",
      " & Label & Event type & Event Fraction & 3h & 2h & 1h & 0h & Higgs \\\\\n",
      "0 & 3h & Nj=6 & 0.241 & 0.457 & 0.000 & 0.131 & 0.412 & 0.500 \\\\\n",
      "1 & 3h & Nj=7 & 0.335 & 0.239 & 0.009 & 0.184 & 0.568 & 0.306 \\\\\n",
      "2 & 3h & Nj>=8 & 0.424 & 0.136 & 0.007 & 0.197 & 0.661 & 0.206 \\\\\n",
      "3 & 3h & Total & 1.000 & 0.248 & 0.006 & 0.176 & 0.570 & 0.311 \\\\\n",
      "\\end{tabular}\n",
      "\n"
     ]
    },
    {
     "name": "stderr",
     "output_type": "stream",
     "text": [
      "\n"
     ]
    }
   ],
   "source": [
    "chi2_method_triHiggs_2('../SPANet2/data/triHiggs/gghhh_4b_PT40_3h_test.h5', use_btag=True, pairing_method=chi2_triHiggs_abs)"
   ]
  },
  {
   "cell_type": "code",
   "execution_count": 7,
   "id": "95cfcc30",
   "metadata": {},
   "outputs": [
    {
     "name": "stderr",
     "output_type": "stream",
     "text": [
      "  0%|          | 0/9944 [00:00<?, ?it/s]"
     ]
    },
    {
     "name": "stderr",
     "output_type": "stream",
     "text": [
      "100%|██████████| 9944/9944 [00:47<00:00, 210.78it/s]\n"
     ]
    },
    {
     "name": "stdout",
     "output_type": "stream",
     "text": [
      "3 Higgs Events:\n",
      "  Label Event type  Event Fraction        3h        2h        1h        0h  \\\n",
      "0    3h       Nj=6        0.242257  0.449979  0.000000  0.131590  0.418431   \n",
      "1    3h       Nj=7        0.335278  0.249250  0.007499  0.177265  0.565987   \n",
      "2    3h      Nj>=8        0.422466  0.144965  0.008569  0.193525  0.652940   \n",
      "3    3h      Total        1.000000  0.253821  0.006134  0.173069  0.566975   \n",
      "\n",
      "      Higgs  \n",
      "0  0.493843  \n",
      "1  0.313337  \n",
      "2  0.215187  \n",
      "3  0.315601  \n",
      "\\begin{tabular}{c|cccc|c}\n",
      " & Label & Event type & Event Fraction & 3h & 2h & 1h & 0h & Higgs \\\\\n",
      "0 & 3h & Nj=6 & 0.242 & 0.450 & 0.000 & 0.132 & 0.418 & 0.494 \\\\\n",
      "1 & 3h & Nj=7 & 0.335 & 0.249 & 0.007 & 0.177 & 0.566 & 0.313 \\\\\n",
      "2 & 3h & Nj>=8 & 0.422 & 0.145 & 0.009 & 0.194 & 0.653 & 0.215 \\\\\n",
      "3 & 3h & Total & 1.000 & 0.254 & 0.006 & 0.173 & 0.567 & 0.316 \\\\\n",
      "\\end{tabular}\n",
      "\n",
      "3 Higgs Events (nbj):\n",
      "  Label Event type  Event Fraction        3h        2h        1h        0h  \\\n",
      "0    3h      Nbj=4        0.309332  0.189857  0.007802  0.188557  0.613784   \n",
      "1    3h      Nbj=5        0.423673  0.225255  0.005459  0.178732  0.590553   \n",
      "2    3h     Nbj>=6        0.266995  0.373258  0.005273  0.146139  0.475330   \n",
      "3    3h      Total        1.000000  0.253821  0.006134  0.173069  0.566975   \n",
      "\n",
      "      Higgs  \n",
      "0  0.257911  \n",
      "1  0.288472  \n",
      "2  0.425487  \n",
      "3  0.315601  \n",
      "\\begin{tabular}{c|cccc|c}\n",
      " & Label & Event type & Event Fraction & 3h & 2h & 1h & 0h & Higgs \\\\\n",
      "0 & 3h & Nbj=4 & 0.309 & 0.190 & 0.008 & 0.189 & 0.614 & 0.258 \\\\\n",
      "1 & 3h & Nbj=5 & 0.424 & 0.225 & 0.005 & 0.179 & 0.591 & 0.288 \\\\\n",
      "2 & 3h & Nbj>=6 & 0.267 & 0.373 & 0.005 & 0.146 & 0.475 & 0.425 \\\\\n",
      "3 & 3h & Total & 1.000 & 0.254 & 0.006 & 0.173 & 0.567 & 0.316 \\\\\n",
      "\\end{tabular}\n",
      "\n"
     ]
    }
   ],
   "source": [
    "chi2_method_triHiggs_2('./Sample/SPANet/gghhh_4b_PT40_3h_new.h5', use_btag=True, pairing_method=chi2_triHiggs_abs)"
   ]
  },
  {
   "cell_type": "code",
   "execution_count": 8,
   "id": "845678c9",
   "metadata": {},
   "outputs": [
    {
     "name": "stderr",
     "output_type": "stream",
     "text": [
      "100%|██████████| 10000/10000 [00:48<00:00, 206.44it/s]"
     ]
    },
    {
     "name": "stdout",
     "output_type": "stream",
     "text": [
      "3 Higgs Events:\n",
      "  Label Event type  Event Fraction        3h        2h        1h        0h  \\\n",
      "0    3h       Nj=6        0.168849  0.651050  0.000000  0.095315  0.253635   \n",
      "1    3h       Nj=7        0.310693  0.401229  0.014047  0.158033  0.426690   \n",
      "2    3h      Nj>=8        0.520458  0.225891  0.009434  0.212788  0.551887   \n",
      "3    3h      Total        1.000000  0.352155  0.009274  0.175941  0.462630   \n",
      "\n",
      "      Higgs  \n",
      "0  0.682822  \n",
      "1  0.463272  \n",
      "2  0.303110  \n",
      "3  0.416985  \n",
      "\\begin{tabular}{c|cccc|c}\n",
      " & Label & Event type & Event Fraction & 3h & 2h & 1h & 0h & Higgs \\\\\n",
      "0 & 3h & Nj=6 & 0.169 & 0.651 & 0.000 & 0.095 & 0.254 & 0.683 \\\\\n",
      "1 & 3h & Nj=7 & 0.311 & 0.401 & 0.014 & 0.158 & 0.427 & 0.463 \\\\\n",
      "2 & 3h & Nj>=8 & 0.520 & 0.226 & 0.009 & 0.213 & 0.552 & 0.303 \\\\\n",
      "3 & 3h & Total & 1.000 & 0.352 & 0.009 & 0.176 & 0.463 & 0.417 \\\\\n",
      "\\end{tabular}\n",
      "\n",
      "3 Higgs Events (nbj):\n",
      "  Label Event type  Event Fraction        3h        2h        1h        0h  \\\n",
      "0    3h      Nbj=4        0.300600  0.294918  0.010889  0.180581  0.513612   \n",
      "1    3h      Nbj=5        0.419258  0.309694  0.011061  0.193234  0.486012   \n",
      "2    3h     Nbj>=6        0.280142  0.477118  0.004869  0.145083  0.372931   \n",
      "3    3h      Total        1.000000  0.352155  0.009274  0.175941  0.462630   \n",
      "\n",
      "      Higgs  \n",
      "0  0.362371  \n",
      "1  0.381479  \n",
      "2  0.528724  \n",
      "3  0.416985  \n",
      "\\begin{tabular}{c|cccc|c}\n",
      " & Label & Event type & Event Fraction & 3h & 2h & 1h & 0h & Higgs \\\\\n",
      "0 & 3h & Nbj=4 & 0.301 & 0.295 & 0.011 & 0.181 & 0.514 & 0.362 \\\\\n",
      "1 & 3h & Nbj=5 & 0.419 & 0.310 & 0.011 & 0.193 & 0.486 & 0.381 \\\\\n",
      "2 & 3h & Nbj>=6 & 0.280 & 0.477 & 0.005 & 0.145 & 0.373 & 0.529 \\\\\n",
      "3 & 3h & Total & 1.000 & 0.352 & 0.009 & 0.176 & 0.463 & 0.417 \\\\\n",
      "\\end{tabular}\n",
      "\n"
     ]
    },
    {
     "name": "stderr",
     "output_type": "stream",
     "text": [
      "\n"
     ]
    }
   ],
   "source": [
    "chi2_method_triHiggs_2('./Sample/SPANet/pphhh_sm_4b_PT40.h5', use_btag=True, pairing_method=chi2_triHiggs_abs)"
   ]
  },
  {
   "cell_type": "markdown",
   "id": "f5ba89d0",
   "metadata": {},
   "source": [
    "## SPANet pairing"
   ]
  },
  {
   "cell_type": "code",
   "execution_count": 9,
   "id": "1962ddb1",
   "metadata": {},
   "outputs": [
    {
     "name": "stderr",
     "output_type": "stream",
     "text": [
      "100%|██████████| 52290/52290 [02:27<00:00, 353.85it/s]"
     ]
    },
    {
     "name": "stdout",
     "output_type": "stream",
     "text": [
      "1 Higgs Events:\n",
      "  Label Event type   3h   2h        1h        0h     Higgs\n",
      "0    1h       Nj=6  0.0  0.0  0.162483  0.837517  0.162483\n",
      "1    1h       Nj=7  0.0  0.0  0.150334  0.849666  0.150334\n",
      "2    1h      Nj>=8  0.0  0.0  0.145794  0.854206  0.145794\n",
      "3    1h      Total  0.0  0.0  0.155971  0.844029  0.155971\n",
      "2 Higgs Events:\n",
      "  Label Event type   3h        2h        1h        0h     Higgs\n",
      "0    2h       Nj=6  0.0  0.054968  0.288859  0.656173  0.199397\n",
      "1    2h       Nj=7  0.0  0.051811  0.258854  0.689334  0.181239\n",
      "2    2h      Nj>=8  0.0  0.034583  0.247899  0.717518  0.158533\n",
      "3    2h      Total  0.0  0.050102  0.271850  0.678048  0.186027\n",
      "3 Higgs Events:\n",
      "  Label Event type        3h        2h        1h        0h     Higgs\n",
      "0    3h       Nj=6  0.532476  0.000000  0.119234  0.348290  0.572220\n",
      "1    3h       Nj=7  0.344528  0.020845  0.165605  0.469021  0.413627\n",
      "2    3h      Nj>=8  0.237457  0.021993  0.186254  0.554296  0.314204\n",
      "3    3h      Total  0.374620  0.014239  0.156423  0.454717  0.436254\n"
     ]
    },
    {
     "name": "stderr",
     "output_type": "stream",
     "text": [
      "\n"
     ]
    }
   ],
   "source": [
    "true_file = '/home/r10222035/SPANet2/data/triHiggs/gghhh_0b_test.h5'\n",
    "predict_file = '/home/r10222035/SPANet2/data/triHiggs/gghhh_0b_test-predict.h5'\n",
    "SPANet_pairing_triHiggs(true_file, predict_file)"
   ]
  },
  {
   "cell_type": "code",
   "execution_count": 7,
   "id": "4e97007a",
   "metadata": {},
   "outputs": [
    {
     "name": "stderr",
     "output_type": "stream",
     "text": [
      "100%|██████████| 10000/10000 [00:23<00:00, 422.96it/s]\n"
     ]
    },
    {
     "name": "stdout",
     "output_type": "stream",
     "text": [
      "1 Higgs Events:\n",
      "  Label Event type   3h   2h        1h        0h     Higgs\n",
      "0    1h       Nj=6  0.0  0.0  0.168159  0.831841  0.168159\n",
      "1    1h       Nj=7  0.0  0.0  0.171756  0.828244  0.171756\n",
      "2    1h      Nj>=8  0.0  0.0  0.122257  0.877743  0.122257\n",
      "3    1h      Total  0.0  0.0  0.161255  0.838745  0.161255\n",
      "2 Higgs Events:\n",
      "  Label Event type   3h        2h        1h        0h     Higgs\n",
      "0    2h       Nj=6  0.0  0.082079  0.280438  0.637483  0.222298\n",
      "1    2h       Nj=7  0.0  0.061630  0.276342  0.662028  0.199801\n",
      "2    2h      Nj>=8  0.0  0.035211  0.253521  0.711268  0.161972\n",
      "3    2h      Total  0.0  0.066535  0.274045  0.659420  0.203557\n",
      "3 Higgs Events:\n",
      "  Label Event type        3h        2h        1h        0h     Higgs\n",
      "0    3h       Nj=6  0.656463  0.000000  0.081633  0.261905  0.683673\n",
      "1    3h       Nj=7  0.436416  0.017341  0.167630  0.378613  0.503854\n",
      "2    3h      Nj>=8  0.341727  0.017986  0.172662  0.467626  0.411271\n",
      "3    3h      Total  0.478214  0.011983  0.141612  0.368192  0.533406\n"
     ]
    }
   ],
   "source": [
    "true_file = '/home/r10222035/SPANet2/data/triHiggs/triHiggs_0b_test.h5'\n",
    "predict_file = '/home/r10222035/SPANet2/data/triHiggs/triHiggs_0b_test-predict.h5'\n",
    "SPANet_pairing_triHiggs(true_file, predict_file)"
   ]
  },
  {
   "cell_type": "code",
   "execution_count": 12,
   "id": "ef164d55",
   "metadata": {},
   "outputs": [
    {
     "name": "stderr",
     "output_type": "stream",
     "text": [
      "100%|██████████| 50000/50000 [01:56<00:00, 430.49it/s]"
     ]
    },
    {
     "name": "stdout",
     "output_type": "stream",
     "text": [
      "3 Higgs Events:\n",
      "  Label Event type        3h        2h        1h        0h     Higgs\n",
      "0    3h       Nj=6  0.679690  0.000000  0.084163  0.236147  0.707745\n",
      "1    3h       Nj=7  0.476826  0.014456  0.149746  0.358972  0.536379\n",
      "2    3h      Nj>=8  0.311074  0.027201  0.184350  0.477375  0.390658\n",
      "3    3h      Total  0.491466  0.013703  0.139114  0.355718  0.546972\n"
     ]
    },
    {
     "name": "stderr",
     "output_type": "stream",
     "text": [
      "\n"
     ]
    }
   ],
   "source": [
    "true_file = '/home/r10222035/SPANet2/data/triHiggs/triHiggs_0b_3h_test.h5'\n",
    "predict_file = '/home/r10222035/SPANet2/data/triHiggs/triHiggs_0b_3h_test-predict.h5'\n",
    "SPANet_pairing_triHiggs(true_file, predict_file)"
   ]
  },
  {
   "cell_type": "code",
   "execution_count": 13,
   "id": "1a5d11d0",
   "metadata": {},
   "outputs": [
    {
     "name": "stderr",
     "output_type": "stream",
     "text": [
      "100%|██████████| 11521/11521 [00:26<00:00, 434.74it/s]"
     ]
    },
    {
     "name": "stdout",
     "output_type": "stream",
     "text": [
      "3 Higgs Events:\n",
      "  Label Event type        3h        2h        1h        0h     Higgs\n",
      "0    3h       Nj=6  0.679505  0.000000  0.074180  0.246315  0.704232\n",
      "1    3h       Nj=7  0.522939  0.013298  0.126995  0.336769  0.574136\n",
      "2    3h      Nj>=8  0.354066  0.019401  0.179743  0.446790  0.426914\n",
      "3    3h      Total  0.492456  0.012535  0.135562  0.359448  0.546000\n"
     ]
    },
    {
     "name": "stderr",
     "output_type": "stream",
     "text": [
      "\n"
     ]
    }
   ],
   "source": [
    "true_file = '/home/r10222035/SPANet2/data/triHiggs/triHiggs_6b_3h_test.h5'\n",
    "predict_file = '/home/r10222035/SPANet2/data/triHiggs/triHiggs_6b_3h_test-predict.h5'\n",
    "SPANet_pairing_triHiggs(true_file, predict_file)"
   ]
  },
  {
   "cell_type": "code",
   "execution_count": 9,
   "id": "95460d07",
   "metadata": {},
   "outputs": [
    {
     "name": "stderr",
     "output_type": "stream",
     "text": [
      "100%|██████████| 50000/50000 [01:54<00:00, 435.21it/s]"
     ]
    },
    {
     "name": "stdout",
     "output_type": "stream",
     "text": [
      "3 Higgs Events:\n",
      "  Label Event type        3h        2h        1h        0h     Higgs\n",
      "0    3h       Nj=6  0.619405  0.000000  0.097283  0.283312  0.651833\n",
      "1    3h       Nj=7  0.480795  0.007947  0.150047  0.361211  0.536108\n",
      "2    3h      Nj>=8  0.349703  0.010682  0.171068  0.468546  0.413848\n",
      "3    3h      Total  0.458905  0.007174  0.146130  0.387791  0.512398\n",
      "\\begin{tabular}{c|cccc|c}\n",
      "\\toprule\n",
      "Label & Event type &    3h &    2h &    1h &    0h &  Higgs \\\\\n",
      "\\midrule\n",
      "   3h &       Nj=6 & 0.619 & 0.000 & 0.097 & 0.283 &  0.652 \\\\\n",
      "   3h &       Nj=7 & 0.481 & 0.008 & 0.150 & 0.361 &  0.536 \\\\\n",
      "   3h &      Nj>=8 & 0.350 & 0.011 & 0.171 & 0.469 &  0.414 \\\\\n",
      "   3h &      Total & 0.459 & 0.007 & 0.146 & 0.388 &  0.512 \\\\\n",
      "\\bottomrule\n",
      "\\end{tabular}\n",
      "\n"
     ]
    },
    {
     "name": "stderr",
     "output_type": "stream",
     "text": [
      "\n",
      "/tmp/ipykernel_2615392/495308457.py:206: FutureWarning: In future versions `DataFrame.to_latex` is expected to utilise the base implementation of `Styler.to_latex` for formatting and rendering. The arguments signature may therefore change. It is recommended instead to use `DataFrame.style.to_latex` which also contains additional functionality.\n",
      "  print(df_3h.to_latex(index=False, column_format='c|cccc|c', float_format='{:0.3f}'.format))\n"
     ]
    }
   ],
   "source": [
    "true_file = '/home/r10222035/SPANet2/data/triHiggs/gghhh_4b_PT40_test.h5'\n",
    "predict_file = '/home/r10222035/SPANet2/data/triHiggs/gghhh_4b_PT40_test-predict.h5'\n",
    "SPANet_pairing_triHiggs(true_file, predict_file)"
   ]
  }
 ],
 "metadata": {
  "kernelspec": {
   "display_name": "Python 3 (ipykernel)",
   "language": "python",
   "name": "python3"
  },
  "language_info": {
   "codemirror_mode": {
    "name": "ipython",
    "version": 3
   },
   "file_extension": ".py",
   "mimetype": "text/x-python",
   "name": "python",
   "nbconvert_exporter": "python",
   "pygments_lexer": "ipython3",
   "version": "3.8.16"
  }
 },
 "nbformat": 4,
 "nbformat_minor": 5
}
