{
 "cells": [
  {
   "cell_type": "code",
   "execution_count": 1,
   "id": "95ff4cf2",
   "metadata": {},
   "outputs": [],
   "source": [
    "import os\n",
    "import h5py\n",
    "import itertools\n",
    "\n",
    "import numpy as np\n",
    "import pandas as pd\n",
    "\n",
    "from tqdm import tqdm"
   ]
  },
  {
   "cell_type": "code",
   "execution_count": 2,
   "id": "d03e0dae",
   "metadata": {},
   "outputs": [],
   "source": [
    "def get_Higgs_result(total_event, total_Higgs, correct_event, correct_Higgs, nh, nj):\n",
    "\n",
    "    start_nj, end_nj = nj\n",
    "\n",
    "    label = ['all' if nh == 'all' else f'{nh}h' for nj in range(start_nj, end_nj+2)]\n",
    "\n",
    "    if nh == 'all':\n",
    "        nh = slice(1, None)\n",
    "        \n",
    "    event_type = [f'Nj={nj}' for nj in range(start_nj, end_nj)]\n",
    "    event_type.append(f'Nj>={end_nj}')\n",
    "    event_type.append('Total')\n",
    "\n",
    "    event_fraction = [total_event[nh, nj].sum() / total_event.sum() for nj in range(start_nj, end_nj)]\n",
    "    event_fraction.append(total_event[nh, end_nj:].sum() / total_event.sum())\n",
    "    event_fraction.append(total_event[nh].sum() / total_event.sum())\n",
    "\n",
    "    event_efficiency = [correct_event[nh, nj].sum() / total_event[nh, nj].sum() for nj in range(start_nj, end_nj)]\n",
    "    event_efficiency.append(correct_event[nh, end_nj:].sum() / total_event[nh, end_nj:].sum())\n",
    "    event_efficiency.append(correct_event[nh].sum() / total_event[nh].sum())\n",
    "\n",
    "    higgs_efficiency = [correct_Higgs[nh, nj].sum() / total_Higgs[nh, nj].sum() for nj in range(start_nj, end_nj)]\n",
    "    higgs_efficiency.append(correct_Higgs[nh, end_nj:].sum() / total_Higgs[nh, end_nj:].sum())\n",
    "    higgs_efficiency.append(correct_Higgs[nh].sum() / total_Higgs[nh].sum())\n",
    "        \n",
    "    result = {'Label':label,\n",
    "              'Event type': event_type,\n",
    "              'Event Fraction': event_fraction,\n",
    "              'Event Efficiency': event_efficiency,\n",
    "              'Higgs Efficiency': higgs_efficiency,\n",
    "             }\n",
    "\n",
    "    df = pd.DataFrame(result)\n",
    "\n",
    "    return df"
   ]
  },
  {
   "cell_type": "code",
   "execution_count": 3,
   "id": "39e5da4b",
   "metadata": {},
   "outputs": [],
   "source": [
    "def compare_jet_list_triHiggs(pair1, pair2, nh_max=3):\n",
    "    h1_true = {pair1[0], pair1[1]}\n",
    "    h2_true = {pair1[2], pair1[3]}\n",
    "    h3_true = {pair1[4], pair1[5]}  \n",
    "    \n",
    "    h1_test = {pair2[0], pair2[1]}\n",
    "    h2_test = {pair2[2], pair2[3]}\n",
    "    h3_test = {pair2[4], pair2[5]}\n",
    "    \n",
    "    test_h = [h1_test, h2_test, h3_test]\n",
    "    \n",
    "    nh = 0\n",
    "    for id1, id2, id3 in itertools.permutations([0, 1, 2]):\n",
    "        h1 = test_h[id1]\n",
    "        h2 = test_h[id2]\n",
    "        h3 = test_h[id3]\n",
    "        if h1_true == h1:\n",
    "            nh = 1\n",
    "            if h2_true == h2:\n",
    "                nh = 2\n",
    "                if h3_true == h3:\n",
    "                    nh = 3\n",
    "                    break\n",
    "                    \n",
    "    same = True if nh==nh_max else False\n",
    "    return same, nh\n",
    "\n",
    "def compare_jet_list_triHiggs_optimized(pair1, pair2, nh_max=3):\n",
    "    # 將pair1和pair2分別轉換為三個Higgs的集合\n",
    "    h_true_sets = [{pair1[i], pair1[i+1]} for i in range(0, 6, 2)]\n",
    "    h_test_sets = [{pair2[i], pair2[i+1]} for i in range(0, 6, 2)]\n",
    "    \n",
    "    # 計算匹配的Higgs數量\n",
    "    nh = sum(1 for h_true in h_true_sets if h_true in h_test_sets)\n",
    "    \n",
    "    # 判斷是否所有Higgs都匹配\n",
    "    same = nh == nh_max\n",
    "    return same, nh"
   ]
  },
  {
   "cell_type": "code",
   "execution_count": 4,
   "id": "10e7487d",
   "metadata": {},
   "outputs": [],
   "source": [
    "def get_particle_mask(quark_jet, particle_quarks):\n",
    "    # quark_jet: 每個夸克對應的 jet 編號，shape 為 (n_event, 6)\n",
    "    # particle_quarks: 粒子對應的夸克編號，shape 為 (n_quarks,)\n",
    "\n",
    "    # 檢查是否每個夸克都有對應的 jet\n",
    "    mask1 = np.all(quark_jet[:, particle_quarks] != -1, axis=1)\n",
    "\n",
    "    # 對每一個事件，檢查每個夸克對應的 jet 都不重複\n",
    "    count = np.array([[np.sum(event == event[i]) for i in particle_quarks] for event in quark_jet])\n",
    "    mask2 = np.all(count == 1, axis=1)\n",
    "\n",
    "    return mask1 & mask2"
   ]
  },
  {
   "cell_type": "code",
   "execution_count": 5,
   "id": "8c3f1673",
   "metadata": {},
   "outputs": [],
   "source": [
    "def get_Higgs_correct_fraction(events, nh, nj, jet_type='Nj'):\n",
    "    # events: number of events in different categories (nh, nj, n_correct_h)\n",
    "    start_nj, end_nj = nj\n",
    "\n",
    "    label = [f'{nh}h' for _ in range(start_nj, end_nj+2)]\n",
    "\n",
    "    total_event = events[nh].sum(axis=1)\n",
    "\n",
    "    correct_3h_event = events[nh, :, 3]\n",
    "    correct_2h_event = events[nh, :, 2]\n",
    "    correct_1h_event = events[nh, :, 1]\n",
    "    correct_0h_event = events[nh, :, 0]\n",
    "\n",
    "    correct_Higgs = events[nh, :, 3] * 3 + events[nh, :, 2] * 2 + events[nh, :, 1]\n",
    "        \n",
    "    event_type = [f'{jet_type}={nj}' for nj in range(start_nj, end_nj)]\n",
    "    event_type.append(f'{jet_type}>={end_nj}')\n",
    "    event_type.append('Total')\n",
    "\n",
    "    event_fraction = [total_event[nj] / total_event.sum() for nj in range(start_nj, end_nj)]\n",
    "    event_fraction.append(total_event[end_nj:].sum() / total_event.sum())\n",
    "    event_fraction.append(total_event.sum() / total_event.sum())\n",
    "\n",
    "\n",
    "    eff_3h = [correct_3h_event[nj] / total_event[nj] for nj in range(start_nj, end_nj)]\n",
    "    eff_3h.append(correct_3h_event[end_nj:].sum() / total_event[end_nj:].sum())\n",
    "    eff_3h.append(correct_3h_event.sum() / total_event.sum())\n",
    "\n",
    "    eff_2h = [correct_2h_event[nj] / total_event[nj] for nj in range(start_nj, end_nj)]\n",
    "    eff_2h.append(correct_2h_event[end_nj:].sum() / total_event[end_nj:].sum())\n",
    "    eff_2h.append(correct_2h_event.sum() / total_event.sum())\n",
    "\n",
    "    eff_1h = [correct_1h_event[nj] / total_event[nj] for nj in range(start_nj, end_nj)]\n",
    "    eff_1h.append(correct_1h_event[end_nj:].sum() / total_event[end_nj:].sum())\n",
    "    eff_1h.append(correct_1h_event.sum() / total_event.sum())\n",
    "\n",
    "    eff_0h = [correct_0h_event[nj] / total_event[nj] for nj in range(start_nj, end_nj)]\n",
    "    eff_0h.append(correct_0h_event[end_nj:].sum() / total_event[end_nj:].sum())\n",
    "    eff_0h.append(correct_0h_event.sum() / total_event.sum())\n",
    "\n",
    "    eff_Higgs = [correct_Higgs[nj] / (total_event[nj] * nh) for nj in range(start_nj, end_nj)]\n",
    "    eff_Higgs.append(correct_Higgs[end_nj:].sum() / (total_event[end_nj:].sum() * nh))\n",
    "    eff_Higgs.append(correct_Higgs.sum() / (total_event.sum() * nh))\n",
    "        \n",
    "    result = {'Label':label,\n",
    "              'Event type': event_type,\n",
    "              'Event Fraction': event_fraction,\n",
    "              '3h': eff_3h,\n",
    "              '2h': eff_2h,\n",
    "              '1h': eff_1h,\n",
    "              '0h': eff_0h,\n",
    "              'Higgs': eff_Higgs\n",
    "             }\n",
    "\n",
    "    df = pd.DataFrame(result)\n",
    "\n",
    "    return df\n"
   ]
  },
  {
   "cell_type": "code",
   "execution_count": 6,
   "id": "51d83883",
   "metadata": {},
   "outputs": [],
   "source": [
    "# 載入正確配對與測試配對的資料，並計算配對的效率\n",
    "def compute_pairing_efficiency(true_file, test_file):\n",
    "    MAX_JETS = 15\n",
    "\n",
    "    with h5py.File(true_file, 'r') as f_true, h5py.File(test_file, 'r') as f_test:\n",
    "        \n",
    "        # events: 總共有多少該類事件 (nh, nj, n_correct_h)\n",
    "        events = np.zeros((4, MAX_JETS + 1, 4))\n",
    "\n",
    "        nevent = f_true['INPUTS/Source/pt'].shape[0]\n",
    "\n",
    "        for event in tqdm(range(nevent)):\n",
    "\n",
    "            nj = f_true['INPUTS/Source/MASK'][event].sum()\n",
    "\n",
    "            h1_b1 = f_true['TARGETS/h1/b1'][event]\n",
    "            h1_b2 = f_true['TARGETS/h1/b2'][event]\n",
    "            h2_b1 = f_true['TARGETS/h2/b1'][event]\n",
    "            h2_b2 = f_true['TARGETS/h2/b2'][event]\n",
    "            h3_b1 = f_true['TARGETS/h3/b1'][event]\n",
    "            h3_b2 = f_true['TARGETS/h3/b2'][event]\n",
    "\n",
    "            quark_jet = np.array([h1_b1, h1_b2, h2_b1, h2_b2, h3_b1, h3_b2]).reshape(1, 6)\n",
    "\n",
    "            h1_mask = get_particle_mask(quark_jet, [0, 1])\n",
    "            h2_mask = get_particle_mask(quark_jet, [2, 3])\n",
    "            h3_mask = get_particle_mask(quark_jet, [4, 5])\n",
    "\n",
    "            event_h = [h1_mask, h2_mask, h3_mask].count(True)\n",
    "\n",
    "            true_pair = [h1_b1,h1_b2, h2_b1,h2_b2, h3_b1,h3_b2]\n",
    "\n",
    "\n",
    "            h1_b1 = f_test['TARGETS/h1/b1'][event]\n",
    "            h1_b2 = f_test['TARGETS/h1/b2'][event]\n",
    "            h2_b1 = f_test['TARGETS/h2/b1'][event]\n",
    "            h2_b2 = f_test['TARGETS/h2/b2'][event]\n",
    "            h3_b1 = f_test['TARGETS/h3/b1'][event]\n",
    "            h3_b2 = f_test['TARGETS/h3/b2'][event]\n",
    "            pair = [h1_b1,h1_b2, h2_b1,h2_b2, h3_b1,h3_b2]\n",
    "\n",
    "\n",
    "            if event_h == 3:\n",
    "                _, nh = compare_jet_list_triHiggs(true_pair, pair, nh_max=3)\n",
    "                events[3, nj, nh] += 1\n",
    "            elif event_h == 2:\n",
    "                _, nh = compare_jet_list_triHiggs(true_pair, pair, nh_max=2)\n",
    "                events[2, nj, nh] += 1\n",
    "            elif event_h == 1:\n",
    "                _, nh = compare_jet_list_triHiggs(true_pair, pair, nh_max=1)\n",
    "                events[1, nj, nh] += 1\n",
    "            elif event_h == 0:\n",
    "                events[0, nj, 0] += 1\n",
    "        \n",
    "        \n",
    "        df_3h = get_Higgs_correct_fraction(events, nh=3, nj=(6, 8), jet_type='Nj')  \n",
    "        print('3 Higgs Events:')\n",
    "        print(df_3h)\n",
    "\n",
    "        df_style = df_3h.style.format({\n",
    "            'Event Fraction': '{:.3f}',\n",
    "            '3h': '{:.3f}',\n",
    "            '2h': '{:.3f}',\n",
    "            '1h': '{:.3f}',\n",
    "            '0h': '{:.3f}',\n",
    "            'Higgs': '{:.3f}'\n",
    "        })\n",
    "        print(df_style.to_latex(column_format='c|cccc|c'))\n"
   ]
  },
  {
   "cell_type": "markdown",
   "id": "2586c05e",
   "metadata": {},
   "source": [
    "# Test on $6b$ dataset"
   ]
  },
  {
   "cell_type": "code",
   "execution_count": 8,
   "id": "2ac179c8",
   "metadata": {},
   "outputs": [
    {
     "name": "stderr",
     "output_type": "stream",
     "text": [
      "100%|██████████| 40000/40000 [01:29<00:00, 445.38it/s]\n"
     ]
    },
    {
     "name": "stdout",
     "output_type": "stream",
     "text": [
      "3 Higgs Events:\n",
      "  Label Event type  Event Fraction        3h        2h        1h        0h  \\\n",
      "0    3h       Nj=6        0.210876  0.509454  0.000000  0.123599  0.366947   \n",
      "1    3h       Nj=7        0.318160  0.428986  0.004874  0.135414  0.430726   \n",
      "2    3h      Nj>=8        0.470964  0.310653  0.010818  0.148154  0.530375   \n",
      "3    3h      Total        1.000000  0.390224  0.006645  0.138923  0.464208   \n",
      "\n",
      "      Higgs  \n",
      "0  0.550654  \n",
      "1  0.477373  \n",
      "2  0.367249  \n",
      "3  0.440962  \n",
      "\\begin{tabular}{c|cccc|c}\n",
      " & Label & Event type & Event Fraction & 3h & 2h & 1h & 0h & Higgs \\\\\n",
      "0 & 3h & Nj=6 & 0.211 & 0.509 & 0.000 & 0.124 & 0.367 & 0.551 \\\\\n",
      "1 & 3h & Nj=7 & 0.318 & 0.429 & 0.005 & 0.135 & 0.431 & 0.477 \\\\\n",
      "2 & 3h & Nj>=8 & 0.471 & 0.311 & 0.011 & 0.148 & 0.530 & 0.367 \\\\\n",
      "3 & 3h & Total & 1.000 & 0.390 & 0.007 & 0.139 & 0.464 & 0.441 \\\\\n",
      "\\end{tabular}\n",
      "\n"
     ]
    }
   ],
   "source": [
    "file_path = '../SPANet2/data/triHiggs/gghhh_6b_PT40_test.h5'\n",
    "output_path = '../SPANet2/data/triHiggs/gghhh_6b_PT40_test-chi2_pairing.h5'\n",
    "\n",
    "compute_pairing_efficiency(file_path, output_path)"
   ]
  },
  {
   "cell_type": "code",
   "execution_count": 12,
   "id": "f03b6091",
   "metadata": {},
   "outputs": [
    {
     "name": "stderr",
     "output_type": "stream",
     "text": [
      "100%|██████████| 40000/40000 [01:31<00:00, 438.53it/s]"
     ]
    },
    {
     "name": "stdout",
     "output_type": "stream",
     "text": [
      "3 Higgs Events:\n",
      "  Label Event type  Event Fraction        3h        2h        1h        0h  \\\n",
      "0    3h       Nj=6        0.210876  0.456057  0.000000  0.126225  0.417717   \n",
      "1    3h       Nj=7        0.318160  0.388257  0.004293  0.141332  0.466117   \n",
      "2    3h      Nj>=8        0.470964  0.279925  0.009877  0.152622  0.557576   \n",
      "3    3h      Total        1.000000  0.351534  0.006018  0.143464  0.498985   \n",
      "\n",
      "      Higgs  \n",
      "0  0.498133  \n",
      "1  0.438230  \n",
      "2  0.337383  \n",
      "3  0.403367  \n",
      "\\begin{tabular}{c|cccc|c}\n",
      " & Label & Event type & Event Fraction & 3h & 2h & 1h & 0h & Higgs \\\\\n",
      "0 & 3h & Nj=6 & 0.211 & 0.456 & 0.000 & 0.126 & 0.418 & 0.498 \\\\\n",
      "1 & 3h & Nj=7 & 0.318 & 0.388 & 0.004 & 0.141 & 0.466 & 0.438 \\\\\n",
      "2 & 3h & Nj>=8 & 0.471 & 0.280 & 0.010 & 0.153 & 0.558 & 0.337 \\\\\n",
      "3 & 3h & Total & 1.000 & 0.352 & 0.006 & 0.143 & 0.499 & 0.403 \\\\\n",
      "\\end{tabular}\n",
      "\n"
     ]
    },
    {
     "name": "stderr",
     "output_type": "stream",
     "text": [
      "\n"
     ]
    }
   ],
   "source": [
    "file_path = '../SPANet2/data/triHiggs/gghhh_6b_PT40_test.h5'\n",
    "output_path = '../SPANet2/data/triHiggs/gghhh_6b_PT40_test-abs_pairing.h5'\n",
    "\n",
    "compute_pairing_efficiency(file_path, output_path)"
   ]
  },
  {
   "cell_type": "code",
   "execution_count": 11,
   "id": "76396d61",
   "metadata": {},
   "outputs": [
    {
     "name": "stderr",
     "output_type": "stream",
     "text": [
      "100%|██████████| 40000/40000 [01:31<00:00, 435.51it/s]"
     ]
    },
    {
     "name": "stdout",
     "output_type": "stream",
     "text": [
      "3 Higgs Events:\n",
      "  Label Event type  Event Fraction        3h        2h        1h        0h  \\\n",
      "0    3h       Nj=6        0.210876  0.417367  0.000000  0.136555  0.446078   \n",
      "1    3h       Nj=7        0.318160  0.317707  0.003133  0.155721  0.523439   \n",
      "2    3h      Nj>=8        0.470964  0.219174  0.010034  0.171827  0.598965   \n",
      "3    3h      Total        1.000000  0.292317  0.005722  0.159265  0.542696   \n",
      "\n",
      "      Higgs  \n",
      "0  0.462885  \n",
      "1  0.371703  \n",
      "2  0.283139  \n",
      "3  0.349220  \n",
      "\\begin{tabular}{c|cccc|c}\n",
      " & Label & Event type & Event Fraction & 3h & 2h & 1h & 0h & Higgs \\\\\n",
      "0 & 3h & Nj=6 & 0.211 & 0.417 & 0.000 & 0.137 & 0.446 & 0.463 \\\\\n",
      "1 & 3h & Nj=7 & 0.318 & 0.318 & 0.003 & 0.156 & 0.523 & 0.372 \\\\\n",
      "2 & 3h & Nj>=8 & 0.471 & 0.219 & 0.010 & 0.172 & 0.599 & 0.283 \\\\\n",
      "3 & 3h & Total & 1.000 & 0.292 & 0.006 & 0.159 & 0.543 & 0.349 \\\\\n",
      "\\end{tabular}\n",
      "\n"
     ]
    },
    {
     "name": "stderr",
     "output_type": "stream",
     "text": [
      "\n"
     ]
    }
   ],
   "source": [
    "file_path = '../SPANet2/data/triHiggs/gghhh_6b_PT40_test.h5'\n",
    "output_path = '../SPANet2/data/triHiggs/gghhh_6b_PT40_test-6b_SPANet_pairing.h5'\n",
    "\n",
    "compute_pairing_efficiency(file_path, output_path)"
   ]
  },
  {
   "cell_type": "code",
   "execution_count": 9,
   "id": "3d1153b1",
   "metadata": {},
   "outputs": [
    {
     "name": "stderr",
     "output_type": "stream",
     "text": [
      "100%|██████████| 40000/40000 [01:31<00:00, 437.96it/s]"
     ]
    },
    {
     "name": "stdout",
     "output_type": "stream",
     "text": [
      "3 Higgs Events:\n",
      "  Label Event type  Event Fraction        3h        2h        1h        0h  \\\n",
      "0    3h       Nj=6        0.210876  0.648109  0.000000  0.087885  0.264006   \n",
      "1    3h       Nj=7        0.318160  0.538988  0.005222  0.119633  0.336157   \n",
      "2    3h      Nj>=8        0.470964  0.390217  0.012621  0.160383  0.436780   \n",
      "3    3h      Total        1.000000  0.491933  0.007605  0.132130  0.368332   \n",
      "\n",
      "      Higgs  \n",
      "0  0.677404  \n",
      "1  0.582347  \n",
      "2  0.452092  \n",
      "3  0.541047  \n",
      "\\begin{tabular}{c|cccc|c}\n",
      " & Label & Event type & Event Fraction & 3h & 2h & 1h & 0h & Higgs \\\\\n",
      "0 & 3h & Nj=6 & 0.211 & 0.648 & 0.000 & 0.088 & 0.264 & 0.677 \\\\\n",
      "1 & 3h & Nj=7 & 0.318 & 0.539 & 0.005 & 0.120 & 0.336 & 0.582 \\\\\n",
      "2 & 3h & Nj>=8 & 0.471 & 0.390 & 0.013 & 0.160 & 0.437 & 0.452 \\\\\n",
      "3 & 3h & Total & 1.000 & 0.492 & 0.008 & 0.132 & 0.368 & 0.541 \\\\\n",
      "\\end{tabular}\n",
      "\n"
     ]
    },
    {
     "name": "stderr",
     "output_type": "stream",
     "text": [
      "\n"
     ]
    }
   ],
   "source": [
    "file_path = '../SPANet2/data/triHiggs/gghhh_6b_PT40_test.h5'\n",
    "output_path = '../SPANet2/data/triHiggs/gghhh_6b_PT40_test-4b_SPANet_pairing.h5'\n",
    "\n",
    "compute_pairing_efficiency(file_path, output_path)"
   ]
  }
 ],
 "metadata": {
  "kernelspec": {
   "display_name": "Python 3 (ipykernel)",
   "language": "python",
   "name": "python3"
  },
  "language_info": {
   "codemirror_mode": {
    "name": "ipython",
    "version": 3
   },
   "file_extension": ".py",
   "mimetype": "text/x-python",
   "name": "python",
   "nbconvert_exporter": "python",
   "pygments_lexer": "ipython3",
   "version": "3.8.16"
  }
 },
 "nbformat": 4,
 "nbformat_minor": 5
}
