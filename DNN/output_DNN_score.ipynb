{
 "cells": [
  {
   "cell_type": "code",
   "execution_count": 1,
   "metadata": {},
   "outputs": [
    {
     "name": "stderr",
     "output_type": "stream",
     "text": [
      "2025-04-29 12:11:41.468438: I tensorflow/core/platform/cpu_feature_guard.cc:193] This TensorFlow binary is optimized with oneAPI Deep Neural Network Library (oneDNN) to use the following CPU instructions in performance-critical operations:  SSE4.1 SSE4.2 AVX AVX2 AVX512F AVX512_VNNI FMA\n",
      "To enable them in other operations, rebuild TensorFlow with the appropriate compiler flags.\n",
      "2025-04-29 12:11:41.551866: I tensorflow/core/util/port.cc:104] oneDNN custom operations are on. You may see slightly different numerical results due to floating-point round-off errors from different computation orders. To turn them off, set the environment variable `TF_ENABLE_ONEDNN_OPTS=0`.\n"
     ]
    }
   ],
   "source": [
    "import os\n",
    "import json\n",
    "\n",
    "import numpy as np\n",
    "import tensorflow as tf\n",
    "import matplotlib.pyplot as plt\n",
    "\n",
    "from pathlib import Path\n",
    "\n",
    "os.environ['CUDA_VISIBLE_DEVICES'] = '2'\n",
    "# solve the problem of \"libdevice not found at ./libdevice.10.bc\"\n",
    "os.environ['XLA_FLAGS'] = '--xla_gpu_cuda_data_dir=/home/r10222035/.conda/envs/tf2'"
   ]
  },
  {
   "cell_type": "code",
   "execution_count": 2,
   "metadata": {},
   "outputs": [],
   "source": [
    "def get_testing_data(pairing_method):\n",
    "    config_file = f'config_files/{pairing_method}_config_01.json'\n",
    "\n",
    "    sig_path = f'./DNN_features/resonant-{pairing_method}.npy'\n",
    "    bkg_path = f'./DNN_features/pp6b-{pairing_method}.npy'\n",
    "\n",
    "    with open(config_file, 'r') as f:\n",
    "        config = json.load(f)\n",
    "\n",
    "    ns, nb = 50000, 50000\n",
    "    X_s = np.load(sig_path)[:ns]\n",
    "    X_b = np.load(bkg_path)[:nb]\n",
    "\n",
    "    r_train, r_val, r_test = 0.7, 0.15, 0.15\n",
    "\n",
    "    X_s_test = X_s[int(len(X_s)*(r_train+r_val)):]\n",
    "    X_b_test = X_b[int(len(X_b)*(r_train+r_val)):]\n",
    "\n",
    "    X_test = np.concatenate((X_s_test, X_b_test), axis=0)\n",
    "    y_test = np.concatenate((np.ones(len(X_s_test)), np.zeros(len(X_b_test))), axis=0)\n",
    "\n",
    "    return X_test, y_test\n",
    "\n",
    "def get_sample_size(y):\n",
    "    if len(y.shape) == 1:\n",
    "        ns = (y == 1).sum()\n",
    "        nb = (y == 0).sum()\n",
    "    else:\n",
    "        ns = (y.argmax(axis=1) == 1).sum()\n",
    "        nb = (y.argmax(axis=1) == 0).sum()\n",
    "    print(ns, nb)\n",
    "    return ns, nb"
   ]
  },
  {
   "cell_type": "markdown",
   "metadata": {},
   "source": [
    "# DM-CPV"
   ]
  },
  {
   "cell_type": "code",
   "execution_count": 3,
   "metadata": {},
   "outputs": [],
   "source": [
    "# pairing_method = 'chi2_pairing'\n",
    "# pairing_method = 'abs_pairing'\n",
    "pairing_method = '4b_SPANet_pairing'\n",
    "config_file = f'config_files/{pairing_method}_4b_1M_config_01.json'"
   ]
  },
  {
   "cell_type": "code",
   "execution_count": 4,
   "metadata": {},
   "outputs": [],
   "source": [
    "# Read config file\n",
    "with open(config_file, 'r') as f:\n",
    "    config = json.load(f)\n",
    "\n",
    "# sig_path = config['signal_npy_path']\n",
    "# bkg_path = config['background_npy_path']\n",
    "# ns = config['signal_size']\n",
    "# nb = config['background_size']\n",
    "batch_size = config['batch_size']\n",
    "\n",
    "model_name = config['model_name']\n",
    "sample_type = config['sample_type']"
   ]
  },
  {
   "cell_type": "markdown",
   "metadata": {},
   "source": [
    "## Datasets"
   ]
  },
  {
   "cell_type": "code",
   "execution_count": 25,
   "metadata": {},
   "outputs": [
    {
     "name": "stdout",
     "output_type": "stream",
     "text": [
      "50000 50000\n"
     ]
    }
   ],
   "source": [
    "# X_test, y_test = get_testing_data(pairing_method)\n",
    "X_test = np.load(f'./DNN_features/triHiggs-4pT40_6b-{pairing_method}-data.npy')\n",
    "y_test = np.load(f'./DNN_features/triHiggs-4pT40_6b-{pairing_method}-label.npy')\n",
    "test_size = get_sample_size(y_test)"
   ]
  },
  {
   "cell_type": "code",
   "execution_count": 26,
   "metadata": {},
   "outputs": [],
   "source": [
    "BATCH_SIZE = batch_size\n",
    "with tf.device('CPU'):\n",
    "    test_dataset = tf.data.Dataset.from_tensor_slices((X_test, y_test))\n",
    "    test_dataset = test_dataset.batch(BATCH_SIZE)"
   ]
  },
  {
   "cell_type": "markdown",
   "metadata": {},
   "source": [
    "## Event score distribution"
   ]
  },
  {
   "cell_type": "code",
   "execution_count": 27,
   "metadata": {},
   "outputs": [],
   "source": [
    "save_model_name = f'DNN_models/last_model_{model_name}/'\n",
    "loaded_model = tf.keras.models.load_model(save_model_name)"
   ]
  },
  {
   "cell_type": "code",
   "execution_count": 28,
   "metadata": {},
   "outputs": [
    {
     "name": "stdout",
     "output_type": "stream",
     "text": [
      "49/49 [==============================] - 0s 4ms/step - loss: 0.3279 - accuracy: 0.8652\n",
      "Testing Loss = 0.328, Testing Accuracy = 0.865\n"
     ]
    }
   ],
   "source": [
    "results = loaded_model.evaluate(test_dataset)\n",
    "print(f'Testing Loss = {results[0]:.3}, Testing Accuracy = {results[1]:.3}')"
   ]
  },
  {
   "cell_type": "code",
   "execution_count": 29,
   "metadata": {},
   "outputs": [
    {
     "name": "stdout",
     "output_type": "stream",
     "text": [
      "25/25 [==============================] - 0s 2ms/step\n",
      "25/25 [==============================] - 0s 2ms/step\n"
     ]
    },
    {
     "data": {
      "image/png": "[encoded data removed]",
      "text/plain": [
       "<Figure size 500x400 with 1 Axes>"
      ]
     },
     "metadata": {},
     "output_type": "display_data"
    }
   ],
   "source": [
    "# plot DNN score distribution\n",
    "fig, ax = plt.subplots(1, 1, figsize=(5, 4))\n",
    "\n",
    "y_pred_s = loaded_model.predict(X_test[y_test == 1], batch_size=BATCH_SIZE)\n",
    "y_pred_b = loaded_model.predict(X_test[y_test == 0], batch_size=BATCH_SIZE)\n",
    "\n",
    "ax.hist(y_pred_s, bins=50, histtype='step', label='Signal', density=True)\n",
    "ax.hist(y_pred_b, bins=50, histtype='step', label='Background', density=True)\n",
    "\n",
    "ax.set_xlabel('Event score')\n",
    "ax.set_ylabel('Normalized counts')\n",
    "ax.legend(frameon=False, loc='upper left')\n",
    "\n",
    "# plt.savefig('../figures/DNN_event_score_resonant.pdf', dpi=300, facecolor='White', bbox_inches='tight')\n",
    "plt.show()"
   ]
  },
  {
   "cell_type": "code",
   "execution_count": 30,
   "metadata": {},
   "outputs": [],
   "source": [
    "np.save(f'../Upper_limit/DNN_selection/{pairing_method}/sig-1M.npy', y_pred_s)\n",
    "np.save(f'../Upper_limit/DNN_selection/{pairing_method}/bkg-1M.npy', y_pred_b)"
   ]
  },
  {
   "cell_type": "markdown",
   "metadata": {},
   "source": [
    "## Event score distribution"
   ]
  },
  {
   "cell_type": "code",
   "execution_count": 12,
   "metadata": {},
   "outputs": [],
   "source": [
    "# Dense Neural Network\n",
    "chi_s = np.load(f'../Upper_limit/DNN_selection/chi2_pairing/sig.npy')\n",
    "chi_b = np.load(f'../Upper_limit/DNN_selection/chi2_pairing/bkg.npy')\n",
    "abs_s = np.load(f'../Upper_limit/DNN_selection/abs_pairing/sig.npy')\n",
    "abs_b = np.load(f'../Upper_limit/DNN_selection/abs_pairing/bkg.npy')\n",
    "spanet_s = np.load(f'../Upper_limit/DNN_selection/4b_SPANet_pairing/sig.npy')\n",
    "spanet_b = np.load(f'../Upper_limit/DNN_selection/4b_SPANet_pairing/bkg.npy')\n",
    "\n",
    "# SPANet classifier\n",
    "spanet_cls_s = np.load(f'../Upper_limit/SPANet_selection/sig.npy')\n",
    "spanet_cls_b = np.load(f'../Upper_limit/SPANet_selection/bkg.npy')"
   ]
  },
  {
   "cell_type": "code",
   "execution_count": 13,
   "metadata": {},
   "outputs": [],
   "source": [
    "n_bins = 50"
   ]
  },
  {
   "cell_type": "code",
   "execution_count": 14,
   "metadata": {},
   "outputs": [
    {
     "data": {
      "image/png": "[encoded data removed]",
      "text/plain": [
       "<Figure size 500x400 with 1 Axes>"
      ]
     },
     "metadata": {},
     "output_type": "display_data"
    }
   ],
   "source": [
    "# plot event score distribution\n",
    "fig, ax = plt.subplots(1, 1, figsize=(5, 4))\n",
    "\n",
    "ax.hist(chi_s, bins=n_bins, histtype='step', label='Dense-NN, $\\chi^2$ pairing', density=True)\n",
    "ax.hist(abs_s, bins=n_bins, histtype='step', label='Dense-NN, absolute value pairing', density=True)\n",
    "ax.hist(spanet_s, bins=n_bins, histtype='step', label='Dense-NN, $4b$-SPANet pairing', density=True)\n",
    "ax.hist(spanet_cls_s, bins=n_bins, histtype='step', label='$4b$-SPANet', density=True)\n",
    "\n",
    "ax.set_title('Signal')\n",
    "ax.set_xlabel('Event score')\n",
    "ax.set_ylabel('Normalized counts')\n",
    "ax.legend(frameon=False, loc='upper left')\n",
    "\n",
    "ax.set_yscale('log')\n",
    "\n",
    "plt.savefig('../figures/event_score_sig.pdf', dpi=300, facecolor='White', bbox_inches='tight')\n",
    "plt.show()"
   ]
  },
  {
   "cell_type": "code",
   "execution_count": 15,
   "metadata": {},
   "outputs": [
    {
     "data": {
      "image/png": "[encoded data removed]",
      "text/plain": [
       "<Figure size 500x400 with 1 Axes>"
      ]
     },
     "metadata": {},
     "output_type": "display_data"
    }
   ],
   "source": [
    "# plot event score distribution\n",
    "fig, ax = plt.subplots(1, 1, figsize=(5, 4))\n",
    "\n",
    "ax.hist(chi_b, bins=n_bins, histtype='step', label='Dense-NN, $\\chi^2$ pairing', density=True)\n",
    "ax.hist(abs_b, bins=n_bins, histtype='step', label='Dense-NN, absolute value pairing', density=True)\n",
    "ax.hist(spanet_b, bins=n_bins, histtype='step', label='Dense-NN, $4b$-SPANet pairing', density=True)\n",
    "ax.hist(spanet_cls_b, bins=n_bins, histtype='step', label='$4b$-SPANet', density=True)\n",
    "\n",
    "ax.set_title('Background')\n",
    "ax.set_xlabel('Event score')\n",
    "ax.set_ylabel('Normalized counts')\n",
    "ax.legend(frameon=False)\n",
    "\n",
    "ax.set_yscale('log')\n",
    "\n",
    "plt.savefig('../figures/event_score_bkg.pdf', dpi=300, facecolor='White', bbox_inches='tight')\n",
    "plt.show()"
   ]
  },
  {
   "cell_type": "markdown",
   "metadata": {},
   "source": [
    "# TRSM"
   ]
  },
  {
   "cell_type": "markdown",
   "metadata": {},
   "source": [
    "## 4 mass points mixed: 4b 750k sig + 1M bkg; 6b 12.5k sig + 50k bkg"
   ]
  },
  {
   "cell_type": "code",
   "execution_count": 6,
   "metadata": {},
   "outputs": [
    {
     "name": "stdout",
     "output_type": "stream",
     "text": [
      "5/5 [==============================] - 0s 2ms/step\n",
      "5/5 [==============================] - 0s 2ms/step\n",
      "5/5 [==============================] - 0s 2ms/step\n",
      "5/5 [==============================] - 0s 3ms/step\n",
      "25/25 [==============================] - 0s 1ms/step\n",
      "5/5 [==============================] - 0s 2ms/step\n",
      "5/5 [==============================] - 0s 2ms/step\n",
      "5/5 [==============================] - 0s 2ms/step\n",
      "5/5 [==============================] - 0s 2ms/step\n",
      "25/25 [==============================] - 0s 2ms/step\n",
      "7/7 [==============================] - 0s 2ms/step\n",
      "7/7 [==============================] - 0s 2ms/step\n",
      "7/7 [==============================] - 0s 2ms/step\n",
      "7/7 [==============================] - 0s 2ms/step\n",
      "25/25 [==============================] - 0s 1ms/step\n"
     ]
    }
   ],
   "source": [
    "m3_m2_list = [(420, 280), (500, 275), (500, 300), (520, 325)]\n",
    "for pairing_method in ['chi2_pairing', 'abs_pairing', '4b_SPANet_pairing']:\n",
    "    config_file = f'config_files/{pairing_method}-trsm_4b-mix_4-750k_config_01.json'\n",
    "\n",
    "    # Read config file\n",
    "    with open(config_file, 'r') as f:\n",
    "        config = json.load(f)\n",
    "\n",
    "    six_b_test_path = config['6b_test_npy_path']\n",
    "    batch_size = config['batch_size']\n",
    "\n",
    "    model_name = config['model_name']\n",
    "    sample_type = config['sample_type']\n",
    "\n",
    "    save_model_name = f'DNN_models/last_model_{model_name}/'\n",
    "    loaded_model = tf.keras.models.load_model(save_model_name)\n",
    "    \n",
    "    # predict event score for each mass point and background\n",
    "    for m3, m2 in m3_m2_list:\n",
    "        six_b_test_path = f'./DNN_features/TRSM/TRSM_{m3}_{m2}/gghhh-4pT40_6b-1-{pairing_method}.npy'\n",
    "        X_test = np.load(six_b_test_path.replace('.npy', '-data.npy'))\n",
    "        y_test = np.load(six_b_test_path.replace('.npy', '-label.npy'))\n",
    "\n",
    "        BATCH_SIZE = batch_size\n",
    "        with tf.device('CPU'):\n",
    "            test_dataset = tf.data.Dataset.from_tensor_slices((X_test, y_test))\n",
    "            test_dataset = test_dataset.batch(BATCH_SIZE)\n",
    "\n",
    "        y_pred = loaded_model.predict(X_test, batch_size=BATCH_SIZE)\n",
    "\n",
    "        output_dir = Path(f'../Upper_limit/DNN_selection/{pairing_method}/TRSM/TRSM_{m3}_{m2}')\n",
    "        output_dir.mkdir(parents=True, exist_ok=True)\n",
    "\n",
    "        np.save(output_dir / f'sig-mix_4-750k.npy', y_pred)\n",
    "\n",
    "    six_b_test_path = f'./DNN_features/bkg/pp6b-4pT40_6b-1-{pairing_method}.npy'\n",
    "    X_test = np.load(six_b_test_path.replace('.npy', '-data.npy'))\n",
    "    y_test = np.load(six_b_test_path.replace('.npy', '-label.npy'))\n",
    "\n",
    "    BATCH_SIZE = batch_size\n",
    "    with tf.device('CPU'):\n",
    "        test_dataset = tf.data.Dataset.from_tensor_slices((X_test, y_test))\n",
    "        test_dataset = test_dataset.batch(BATCH_SIZE)\n",
    "\n",
    "    y_pred = loaded_model.predict(X_test, batch_size=BATCH_SIZE)\n",
    "\n",
    "    output_dir = Path(f'../Upper_limit/DNN_selection/{pairing_method}/TRSM/pp6b')\n",
    "    output_dir.mkdir(parents=True, exist_ok=True)\n",
    "\n",
    "    np.save(output_dir / f'bkg-mix_4-750k.npy', y_pred)"
   ]
  },
  {
   "cell_type": "markdown",
   "metadata": {},
   "source": [
    "## 5 mass points mixed: 4b 250k sig + 1M bkg; 6b 10k sig + 50k bkg"
   ]
  },
  {
   "cell_type": "code",
   "execution_count": 7,
   "metadata": {},
   "outputs": [
    {
     "name": "stdout",
     "output_type": "stream",
     "text": [
      "5/5 [==============================] - 0s 2ms/step\n",
      "5/5 [==============================] - 0s 2ms/step\n",
      "5/5 [==============================] - 0s 3ms/step\n",
      "5/5 [==============================] - 0s 2ms/step\n",
      "5/5 [==============================] - 0s 2ms/step\n",
      "25/25 [==============================] - 0s 3ms/step\n",
      "5/5 [==============================] - 0s 2ms/step\n",
      "5/5 [==============================] - 0s 2ms/step\n",
      "5/5 [==============================] - 0s 2ms/step\n",
      "5/5 [==============================] - 0s 2ms/step\n",
      "5/5 [==============================] - 0s 2ms/step\n",
      "25/25 [==============================] - 0s 1ms/step\n",
      "5/5 [==============================] - 0s 2ms/step\n",
      "5/5 [==============================] - 0s 2ms/step\n",
      "5/5 [==============================] - 0s 2ms/step\n",
      "5/5 [==============================] - 0s 2ms/step\n",
      "5/5 [==============================] - 0s 2ms/step\n",
      "25/25 [==============================] - 0s 2ms/step\n"
     ]
    }
   ],
   "source": [
    "m3_m2_list = [(420, 280), (500, 275), (500, 300), (520, 325), (500, 350)]\n",
    "\n",
    "for pairing_method in ['chi2_pairing', 'abs_pairing', '4b_SPANet_pairing']:\n",
    "    config_file = f'config_files/{pairing_method}-trsm_4b-mix_5-250k_config_01.json'\n",
    "\n",
    "    # Read config file\n",
    "    with open(config_file, 'r') as f:\n",
    "        config = json.load(f)\n",
    "        six_b_test_path = config['6b_test_npy_path']\n",
    "        batch_size = config['batch_size']\n",
    "        model_name = config['model_name']\n",
    "        sample_type = config['sample_type']\n",
    "\n",
    "    save_model_name = f'DNN_models/last_model_{model_name}/'\n",
    "    loaded_model = tf.keras.models.load_model(save_model_name)\n",
    "    \n",
    "    # predict event score for each mass point and background\n",
    "    pair_method = 'mix_5-4b_SPANet_pairing' if pairing_method == '4b_SPANet_pairing' else pairing_method\n",
    "    for m3, m2 in m3_m2_list:\n",
    "        six_b_test_path = f'./DNN_features/TRSM/TRSM_{m3}_{m2}/gghhh-4pT40_6b-1-{pair_method}.npy'\n",
    "        X_test = np.load(six_b_test_path.replace('.npy', '-data.npy'))\n",
    "        y_test = np.load(six_b_test_path.replace('.npy', '-label.npy'))\n",
    "\n",
    "        BATCH_SIZE = batch_size\n",
    "        with tf.device('CPU'):\n",
    "            test_dataset = tf.data.Dataset.from_tensor_slices((X_test, y_test))\n",
    "            test_dataset = test_dataset.batch(BATCH_SIZE)\n",
    "\n",
    "        y_pred = loaded_model.predict(X_test, batch_size=BATCH_SIZE)\n",
    "\n",
    "        output_dir = Path(f'../Upper_limit/DNN_selection/{pairing_method}/TRSM/TRSM_{m3}_{m2}')\n",
    "        output_dir.mkdir(parents=True, exist_ok=True)\n",
    "\n",
    "        np.save(output_dir / f'sig-mix_5-250k.npy', y_pred)\n",
    "\n",
    "    six_b_test_path = f'./DNN_features/bkg/pp6b-4pT40_6b-1-{pair_method}.npy'\n",
    "    X_test = np.load(six_b_test_path.replace('.npy', '-data.npy'))\n",
    "    y_test = np.load(six_b_test_path.replace('.npy', '-label.npy'))\n",
    "\n",
    "    BATCH_SIZE = batch_size\n",
    "    with tf.device('CPU'):\n",
    "        test_dataset = tf.data.Dataset.from_tensor_slices((X_test, y_test))\n",
    "        test_dataset = test_dataset.batch(BATCH_SIZE)\n",
    "\n",
    "    y_pred = loaded_model.predict(X_test, batch_size=BATCH_SIZE)\n",
    "\n",
    "    output_dir = Path(f'../Upper_limit/DNN_selection/{pairing_method}/TRSM/pp6b')\n",
    "    output_dir.mkdir(parents=True, exist_ok=True)\n",
    "\n",
    "    np.save(output_dir / f'bkg-mix_5-250k.npy', y_pred)"
   ]
  },
  {
   "cell_type": "markdown",
   "metadata": {},
   "source": [
    "## 5 mass points mixed: 4b 1M sig + 1M bkg; 6b 10k sig + 50k bkg"
   ]
  },
  {
   "cell_type": "code",
   "execution_count": 3,
   "metadata": {},
   "outputs": [
    {
     "name": "stderr",
     "output_type": "stream",
     "text": [
      "2025-04-10 16:12:28.997518: I tensorflow/core/platform/cpu_feature_guard.cc:193] This TensorFlow binary is optimized with oneAPI Deep Neural Network Library (oneDNN) to use the following CPU instructions in performance-critical operations:  SSE4.1 SSE4.2 AVX AVX2 AVX512F AVX512_VNNI FMA\n",
      "To enable them in other operations, rebuild TensorFlow with the appropriate compiler flags.\n",
      "2025-04-10 16:12:29.655837: I tensorflow/core/common_runtime/gpu/gpu_device.cc:1613] Created device /job:localhost/replica:0/task:0/device:GPU:0 with 22288 MB memory:  -> device: 0, name: NVIDIA GeForce RTX 3090, pci bus id: 0000:d8:00.0, compute capability: 8.6\n"
     ]
    },
    {
     "name": "stdout",
     "output_type": "stream",
     "text": [
      "5/5 [==============================] - 1s 3ms/step\n",
      "5/5 [==============================] - 0s 2ms/step\n",
      "5/5 [==============================] - 0s 2ms/step\n"
     ]
    },
    {
     "name": "stderr",
     "output_type": "stream",
     "text": [
      "2025-04-10 16:12:31.672320: I tensorflow/compiler/xla/stream_executor/cuda/cuda_blas.cc:630] TensorFloat-32 will be used for the matrix multiplication. This will only be logged once.\n"
     ]
    },
    {
     "name": "stdout",
     "output_type": "stream",
     "text": [
      "5/5 [==============================] - 0s 2ms/step\n",
      "5/5 [==============================] - 0s 2ms/step\n",
      "25/25 [==============================] - 0s 2ms/step\n",
      "5/5 [==============================] - 0s 2ms/step\n",
      "5/5 [==============================] - 0s 2ms/step\n",
      "5/5 [==============================] - 0s 2ms/step\n",
      "5/5 [==============================] - 0s 2ms/step\n",
      "5/5 [==============================] - 0s 3ms/step\n",
      "25/25 [==============================] - 0s 2ms/step\n",
      "5/5 [==============================] - 0s 2ms/step\n",
      "5/5 [==============================] - 0s 2ms/step\n",
      "5/5 [==============================] - 0s 2ms/step\n",
      "5/5 [==============================] - 0s 2ms/step\n",
      "5/5 [==============================] - 0s 2ms/step\n",
      "25/25 [==============================] - 0s 1ms/step\n"
     ]
    }
   ],
   "source": [
    "m3_m2_list = [(420, 280), (500, 275), (500, 300), (520, 325), (500, 350)]\n",
    "\n",
    "for pairing_method in ['chi2_pairing', 'abs_pairing', '4b_SPANet_pairing-mix_5-1M']:\n",
    "    config_file = f'config_files/{pairing_method}-trsm_4b-mix_5-1M_config_01.json'\n",
    "\n",
    "    # Read config file\n",
    "    with open(config_file, 'r') as f:\n",
    "        config = json.load(f)\n",
    "        six_b_test_path = config['6b_test_npy_path']\n",
    "        batch_size = config['batch_size']\n",
    "        model_name = config['model_name']\n",
    "        sample_type = config['sample_type']\n",
    "\n",
    "    save_model_name = f'DNN_models/last_model_{model_name}/'\n",
    "    loaded_model = tf.keras.models.load_model(save_model_name)\n",
    "    \n",
    "    # predict event score for each mass point and background\n",
    "    for m3, m2 in m3_m2_list:\n",
    "        six_b_test_path = f'./DNN_features/TRSM/TRSM_{m3}_{m2}/gghhh-4pT40_6b-test-{pairing_method}.npy'\n",
    "        X_test = np.load(six_b_test_path.replace('.npy', '-data.npy'))\n",
    "        y_test = np.load(six_b_test_path.replace('.npy', '-label.npy'))\n",
    "\n",
    "        BATCH_SIZE = batch_size\n",
    "        with tf.device('CPU'):\n",
    "            test_dataset = tf.data.Dataset.from_tensor_slices((X_test, y_test))\n",
    "            test_dataset = test_dataset.batch(BATCH_SIZE)\n",
    "\n",
    "        y_pred = loaded_model.predict(X_test, batch_size=BATCH_SIZE)\n",
    "\n",
    "        output_dir = Path(f'../Upper_limit/DNN_selection/{pairing_method}/TRSM/TRSM_{m3}_{m2}')\n",
    "        output_dir.mkdir(parents=True, exist_ok=True)\n",
    "\n",
    "        np.save(output_dir / f'sig-mix_5-1M.npy', y_pred)\n",
    "\n",
    "    six_b_test_path = f'./DNN_features/bkg/pp6b-4pT40_6b-test-{pairing_method}.npy'\n",
    "    X_test = np.load(six_b_test_path.replace('.npy', '-data.npy'))\n",
    "    y_test = np.load(six_b_test_path.replace('.npy', '-label.npy'))\n",
    "\n",
    "    BATCH_SIZE = batch_size\n",
    "    with tf.device('CPU'):\n",
    "        test_dataset = tf.data.Dataset.from_tensor_slices((X_test, y_test))\n",
    "        test_dataset = test_dataset.batch(BATCH_SIZE)\n",
    "\n",
    "    y_pred = loaded_model.predict(X_test, batch_size=BATCH_SIZE)\n",
    "\n",
    "    output_dir = Path(f'../Upper_limit/DNN_selection/{pairing_method}/TRSM/pp6b')\n",
    "    output_dir.mkdir(parents=True, exist_ok=True)\n",
    "\n",
    "    np.save(output_dir / f'bkg-mix_5-1M.npy', y_pred)"
   ]
  },
  {
   "cell_type": "markdown",
   "metadata": {},
   "source": [
    "## 5 mass points mixed: 4b 1M sig + 1M bkg; 6b 10k sig + 50k bkg, 24 nodes x 3"
   ]
  },
  {
   "cell_type": "code",
   "execution_count": 3,
   "metadata": {},
   "outputs": [
    {
     "name": "stderr",
     "output_type": "stream",
     "text": [
      "2025-04-29 09:07:00.859426: I tensorflow/core/platform/cpu_feature_guard.cc:193] This TensorFlow binary is optimized with oneAPI Deep Neural Network Library (oneDNN) to use the following CPU instructions in performance-critical operations:  SSE4.1 SSE4.2 AVX AVX2 AVX512F AVX512_VNNI FMA\n",
      "To enable them in other operations, rebuild TensorFlow with the appropriate compiler flags.\n",
      "2025-04-29 09:07:01.503766: I tensorflow/core/common_runtime/gpu/gpu_device.cc:1613] Created device /job:localhost/replica:0/task:0/device:GPU:0 with 22288 MB memory:  -> device: 0, name: NVIDIA GeForce RTX 3090, pci bus id: 0000:d8:00.0, compute capability: 8.6\n"
     ]
    },
    {
     "name": "stdout",
     "output_type": "stream",
     "text": [
      "5/5 [==============================] - 1s 2ms/step\n",
      "5/5 [==============================] - 0s 2ms/step\n",
      "5/5 [==============================] - 0s 2ms/step\n"
     ]
    },
    {
     "name": "stderr",
     "output_type": "stream",
     "text": [
      "2025-04-29 09:07:03.421892: I tensorflow/compiler/xla/stream_executor/cuda/cuda_blas.cc:630] TensorFloat-32 will be used for the matrix multiplication. This will only be logged once.\n"
     ]
    },
    {
     "name": "stdout",
     "output_type": "stream",
     "text": [
      "5/5 [==============================] - 0s 2ms/step\n",
      "5/5 [==============================] - 0s 2ms/step\n",
      "25/25 [==============================] - 0s 1ms/step\n",
      "5/5 [==============================] - 0s 2ms/step\n",
      "5/5 [==============================] - 0s 2ms/step\n",
      "5/5 [==============================] - 0s 2ms/step\n",
      "5/5 [==============================] - 0s 2ms/step\n",
      "5/5 [==============================] - 0s 2ms/step\n",
      "25/25 [==============================] - 0s 2ms/step\n",
      "5/5 [==============================] - 0s 2ms/step\n",
      "5/5 [==============================] - 0s 2ms/step\n",
      "5/5 [==============================] - 0s 2ms/step\n",
      "5/5 [==============================] - 0s 2ms/step\n",
      "5/5 [==============================] - 0s 2ms/step\n",
      "25/25 [==============================] - 0s 2ms/step\n"
     ]
    }
   ],
   "source": [
    "m3_m2_list = [(420, 280), (500, 275), (500, 300), (520, 325), (500, 350)]\n",
    "\n",
    "for pairing_method in ['chi2_pairing', 'abs_pairing', '4b_SPANet_pairing-mix_5-1M']:\n",
    "    config_file = f'config_files/{pairing_method}-trsm_4b-mix_5-1M-24_nodes-config_01.json'\n",
    "\n",
    "    # Read config file\n",
    "    with open(config_file, 'r') as f:\n",
    "        config = json.load(f)\n",
    "        six_b_test_path = config['6b_test_npy_path']\n",
    "        batch_size = config['batch_size']\n",
    "        model_name = config['model_name']\n",
    "        sample_type = config['sample_type']\n",
    "\n",
    "    save_model_name = f'DNN_models/last_model_{model_name}/'\n",
    "    loaded_model = tf.keras.models.load_model(save_model_name)\n",
    "    \n",
    "    # predict event score for each mass point and background\n",
    "    for m3, m2 in m3_m2_list:\n",
    "        six_b_test_path = f'./DNN_features/TRSM/TRSM_{m3}_{m2}/gghhh-4pT40_6b-test-{pairing_method}.npy'\n",
    "        X_test = np.load(six_b_test_path.replace('.npy', '-data.npy'))\n",
    "        y_test = np.load(six_b_test_path.replace('.npy', '-label.npy'))\n",
    "\n",
    "        BATCH_SIZE = batch_size\n",
    "        with tf.device('CPU'):\n",
    "            test_dataset = tf.data.Dataset.from_tensor_slices((X_test, y_test))\n",
    "            test_dataset = test_dataset.batch(BATCH_SIZE)\n",
    "\n",
    "        y_pred = loaded_model.predict(X_test, batch_size=BATCH_SIZE)\n",
    "\n",
    "        output_dir = Path(f'../Upper_limit/DNN_selection/{pairing_method}/TRSM/TRSM_{m3}_{m2}')\n",
    "        output_dir.mkdir(parents=True, exist_ok=True)\n",
    "\n",
    "        np.save(output_dir / f'sig-mix_5-1M-24_nodes.npy', y_pred)\n",
    "\n",
    "    six_b_test_path = f'./DNN_features/bkg/pp6b-4pT40_6b-test-{pairing_method}.npy'\n",
    "    X_test = np.load(six_b_test_path.replace('.npy', '-data.npy'))\n",
    "    y_test = np.load(six_b_test_path.replace('.npy', '-label.npy'))\n",
    "\n",
    "    BATCH_SIZE = batch_size\n",
    "    with tf.device('CPU'):\n",
    "        test_dataset = tf.data.Dataset.from_tensor_slices((X_test, y_test))\n",
    "        test_dataset = test_dataset.batch(BATCH_SIZE)\n",
    "\n",
    "    y_pred = loaded_model.predict(X_test, batch_size=BATCH_SIZE)\n",
    "\n",
    "    output_dir = Path(f'../Upper_limit/DNN_selection/{pairing_method}/TRSM/pp6b')\n",
    "    output_dir.mkdir(parents=True, exist_ok=True)\n",
    "\n",
    "    np.save(output_dir / f'bkg-mix_5-1M-24_nodes.npy', y_pred)"
   ]
  },
  {
   "cell_type": "markdown",
   "metadata": {},
   "source": [
    "## 5 mass points mixed: 4b 150k sig + 150k bkg; 6b 10k sig + 50k bkg, 24 nodes x 3"
   ]
  },
  {
   "cell_type": "code",
   "execution_count": 3,
   "metadata": {},
   "outputs": [
    {
     "name": "stderr",
     "output_type": "stream",
     "text": [
      "2025-04-29 12:12:03.279820: I tensorflow/core/platform/cpu_feature_guard.cc:193] This TensorFlow binary is optimized with oneAPI Deep Neural Network Library (oneDNN) to use the following CPU instructions in performance-critical operations:  SSE4.1 SSE4.2 AVX AVX2 AVX512F AVX512_VNNI FMA\n",
      "To enable them in other operations, rebuild TensorFlow with the appropriate compiler flags.\n",
      "2025-04-29 12:12:03.944328: I tensorflow/core/common_runtime/gpu/gpu_device.cc:1613] Created device /job:localhost/replica:0/task:0/device:GPU:0 with 22288 MB memory:  -> device: 0, name: NVIDIA GeForce RTX 3090, pci bus id: 0000:d8:00.0, compute capability: 8.6\n"
     ]
    },
    {
     "name": "stdout",
     "output_type": "stream",
     "text": [
      "5/5 [==============================] - 1s 3ms/step\n",
      "5/5 [==============================] - 0s 2ms/step\n",
      "5/5 [==============================] - 0s 2ms/step\n"
     ]
    },
    {
     "name": "stderr",
     "output_type": "stream",
     "text": [
      "2025-04-29 12:12:05.930983: I tensorflow/compiler/xla/stream_executor/cuda/cuda_blas.cc:630] TensorFloat-32 will be used for the matrix multiplication. This will only be logged once.\n"
     ]
    },
    {
     "name": "stdout",
     "output_type": "stream",
     "text": [
      "5/5 [==============================] - 0s 2ms/step\n",
      "5/5 [==============================] - 0s 2ms/step\n",
      "25/25 [==============================] - 0s 1ms/step\n",
      "5/5 [==============================] - 0s 2ms/step\n",
      "5/5 [==============================] - 0s 2ms/step\n",
      "5/5 [==============================] - 0s 2ms/step\n",
      "5/5 [==============================] - 0s 2ms/step\n",
      "5/5 [==============================] - 0s 2ms/step\n",
      "25/25 [==============================] - 0s 1ms/step\n",
      "5/5 [==============================] - 0s 2ms/step\n",
      "5/5 [==============================] - 0s 2ms/step\n",
      "5/5 [==============================] - 0s 2ms/step\n",
      "5/5 [==============================] - 0s 2ms/step\n",
      "5/5 [==============================] - 0s 2ms/step\n",
      "25/25 [==============================] - 0s 1ms/step\n"
     ]
    }
   ],
   "source": [
    "m3_m2_list = [(420, 280), (500, 275), (500, 300), (520, 325), (500, 350)]\n",
    "\n",
    "for pairing_method in ['chi2_pairing', 'abs_pairing', '4b_SPANet_pairing-mix_5-1M']:\n",
    "    config_file = f'config_files/{pairing_method}-trsm_4b-mix_5-150k-24_nodes-config_01.json'\n",
    "\n",
    "    # Read config file\n",
    "    with open(config_file, 'r') as f:\n",
    "        config = json.load(f)\n",
    "        six_b_test_path = config['6b_test_npy_path']\n",
    "        batch_size = config['batch_size']\n",
    "        model_name = config['model_name']\n",
    "        sample_type = config['sample_type']\n",
    "\n",
    "    save_model_name = f'DNN_models/last_model_{model_name}/'\n",
    "    loaded_model = tf.keras.models.load_model(save_model_name)\n",
    "    \n",
    "    # predict event score for each mass point and background\n",
    "    for m3, m2 in m3_m2_list:\n",
    "        six_b_test_path = f'./DNN_features/TRSM/TRSM_{m3}_{m2}/gghhh-4pT40_6b-test-{pairing_method}.npy'\n",
    "        X_test = np.load(six_b_test_path.replace('.npy', '-data.npy'))\n",
    "        y_test = np.load(six_b_test_path.replace('.npy', '-label.npy'))\n",
    "\n",
    "        BATCH_SIZE = batch_size\n",
    "        with tf.device('CPU'):\n",
    "            test_dataset = tf.data.Dataset.from_tensor_slices((X_test, y_test))\n",
    "            test_dataset = test_dataset.batch(BATCH_SIZE)\n",
    "\n",
    "        y_pred = loaded_model.predict(X_test, batch_size=BATCH_SIZE)\n",
    "\n",
    "        output_dir = Path(f'../Upper_limit/DNN_selection/{pairing_method}/TRSM/TRSM_{m3}_{m2}')\n",
    "        output_dir.mkdir(parents=True, exist_ok=True)\n",
    "\n",
    "        np.save(output_dir / f'sig-mix_5-150k-24_nodes.npy', y_pred)\n",
    "\n",
    "    six_b_test_path = f'./DNN_features/bkg/pp6b-4pT40_6b-test-{pairing_method}.npy'\n",
    "    X_test = np.load(six_b_test_path.replace('.npy', '-data.npy'))\n",
    "    y_test = np.load(six_b_test_path.replace('.npy', '-label.npy'))\n",
    "\n",
    "    BATCH_SIZE = batch_size\n",
    "    with tf.device('CPU'):\n",
    "        test_dataset = tf.data.Dataset.from_tensor_slices((X_test, y_test))\n",
    "        test_dataset = test_dataset.batch(BATCH_SIZE)\n",
    "\n",
    "    y_pred = loaded_model.predict(X_test, batch_size=BATCH_SIZE)\n",
    "\n",
    "    output_dir = Path(f'../Upper_limit/DNN_selection/{pairing_method}/TRSM/pp6b')\n",
    "    output_dir.mkdir(parents=True, exist_ok=True)\n",
    "\n",
    "    np.save(output_dir / f'bkg-mix_5-150k-24_nodes.npy', y_pred)"
   ]
  }
 ],
 "metadata": {
  "kernelspec": {
   "display_name": "tf2",
   "language": "python",
   "name": "python3"
  },
  "language_info": {
   "codemirror_mode": {
    "name": "ipython",
    "version": 3
   },
   "file_extension": ".py",
   "mimetype": "text/x-python",
   "name": "python",
   "nbconvert_exporter": "python",
   "pygments_lexer": "ipython3",
   "version": "3.8.16"
  }
 },
 "nbformat": 4,
 "nbformat_minor": 2
}
