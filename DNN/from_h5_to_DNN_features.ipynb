{
 "cells": [
  {
   "cell_type": "code",
   "execution_count": 1,
   "metadata": {},
   "outputs": [],
   "source": [
    "import h5py\n",
    "import numpy as np\n",
    "\n",
    "from tqdm import tqdm\n",
    "from scipy.stats import skew"
   ]
  },
  {
   "cell_type": "code",
   "execution_count": 2,
   "metadata": {},
   "outputs": [],
   "source": [
    "def DeltaR(eta1, phi1, eta2, phi2):\n",
    "    dEta = eta1 - eta2\n",
    "    dPhi = np.abs(phi1 - phi2)\n",
    "    dPhi = np.where(dPhi > np.pi, 2 * np.pi - dPhi, dPhi)\n",
    "    dR = np.sqrt(dPhi**2 + dEta**2)\n",
    "    return dR\n",
    "\n",
    "\n",
    "def DeltaA(eta1, phi1, eta2, phi2):\n",
    "    dEta = eta1 - eta2\n",
    "    dPhi = np.abs(phi1 - phi2)\n",
    "    dPhi = np.where(dPhi > np.pi, 2 * np.pi - dPhi, dPhi)\n",
    "    dA = np.cosh(dEta) - np.cos(dPhi)\n",
    "    return dA\n",
    "\n",
    "\n",
    "def PxPyPzE(jets):\n",
    "    # jets: 一個形狀為 (n, 4) 的 NumPy 陣列，其中 n 是噴射數量，每個噴射有四個屬性（pt, eta, phi, m）\n",
    "    pt, eta, phi, m = jets.T\n",
    "\n",
    "    px = pt * np.cos(phi)\n",
    "    py = pt * np.sin(phi)\n",
    "    pz = pt * np.sinh(eta)\n",
    "    e = np.sqrt(m*m + px*px + py*py + pz*pz)\n",
    "\n",
    "    return px.sum(), py.sum(), pz.sum(), e.sum()\n",
    "\n",
    "\n",
    "def PtEtaPhiM(px, py, pz, e):\n",
    "\n",
    "    P = np.sqrt(px**2 + py**2 + pz**2)\n",
    "    pt = np.sqrt(px**2 + py**2)\n",
    "    eta = 1 / 2 * np.log((P + pz) / (P - pz))\n",
    "    phi = np.arctan(py / px)\n",
    "    m = np.sqrt(e**2 - px**2 - py**2 - pz**2)\n",
    "\n",
    "    return pt, eta, phi, m"
   ]
  },
  {
   "cell_type": "code",
   "execution_count": 3,
   "metadata": {},
   "outputs": [],
   "source": [
    "def from_h5_to_DNN_feature(h5_file, output_file):\n",
    "    with h5py.File(h5_file, 'r') as f:\n",
    "\n",
    "        nevent = f['INPUTS/Source/pt'].shape[0]\n",
    "        # nevent = 1000\n",
    "\n",
    "        dR = [[], [], []]\n",
    "        rms_dR = []\n",
    "        dA_skew = []\n",
    "        HT = []\n",
    "        mhCostheta = []\n",
    "        eta_mhhh_fraction = []\n",
    "        sphericity = []\n",
    "        aplanarity = []\n",
    "\n",
    "        for event in tqdm(range(nevent)):\n",
    "\n",
    "            nj = f['INPUTS/Source/MASK'][event].sum()\n",
    "            pt = f['INPUTS/Source/pt'][event]\n",
    "            eta = f['INPUTS/Source/eta'][event]\n",
    "            phi = f['INPUTS/Source/phi'][event]\n",
    "            mass = f['INPUTS/Source/mass'][event]\n",
    "            btag = f['INPUTS/Source/btag'][event]\n",
    "\n",
    "            # for pairing\n",
    "            jets_index = np.where(btag)[0][0:6]\n",
    "\n",
    "            h1b1 = f['TARGETS/h1/b1'][event]\n",
    "            h1b2 = f['TARGETS/h1/b2'][event]\n",
    "            h2b1 = f['TARGETS/h2/b1'][event]\n",
    "            h2b2 = f['TARGETS/h2/b2'][event]\n",
    "            h3b1 = f['TARGETS/h3/b1'][event]\n",
    "            h3b2 = f['TARGETS/h3/b2'][event]\n",
    "\n",
    "            dR1 = DeltaR(eta[h1b1], phi[h1b1], eta[h1b2], phi[h1b2])\n",
    "            dR2 = DeltaR(eta[h2b1], phi[h2b1], eta[h2b2], phi[h2b2])\n",
    "            dR3 = DeltaR(eta[h3b1], phi[h3b1], eta[h3b2], phi[h3b2])\n",
    "\n",
    "\n",
    "            dR[0].append(dR1)\n",
    "            dR[1].append(dR2)\n",
    "            dR[2].append(dR3)\n",
    "\n",
    "            # compute rms of dR, consider all possible combinations\n",
    "            dR_dijets = [DeltaR(eta[i], phi[i], eta[j], phi[j]) for i in jets_index for j in jets_index if i < j]\n",
    "            rms_dR.append(np.sqrt(np.mean(np.square(dR_dijets))))\n",
    "\n",
    "            # compute skewness of dA\n",
    "            dA_dijets = [DeltaA(eta[i], phi[i], eta[j], phi[j]) for i in jets_index for j in jets_index if i < j]\n",
    "            dA_skew.append(skew(dA_dijets))\n",
    "\n",
    "            jets = np.array([[pt[i], eta[i], phi[i], mass[i]] for i in [h1b1, h1b2, h2b1, h2b2, h3b1, h3b2]])\n",
    "\n",
    "            _, _, _, mh1 = PtEtaPhiM(*PxPyPzE(jets[[0, 1]]))\n",
    "            _, _, _, mh2 = PtEtaPhiM(*PxPyPzE(jets[[2, 3]]))\n",
    "            _, _, _, mh3 = PtEtaPhiM(*PxPyPzE(jets[[4, 5]]))\n",
    "\n",
    "            HT.append(jets[:,0].sum())\n",
    "\n",
    "            mh_rec = np.array([mh1, mh2, mh3])\n",
    "            mh_ref = np.array([120, 115, 110])\n",
    "\n",
    "            mhCostheta.append(mh_rec.dot(mh_ref) / (np.linalg.norm(mh_rec) * np.linalg.norm(mh_ref)))\n",
    "\n",
    "            # eta - mhhh fraction\n",
    "            _, _, _, mhhh = PtEtaPhiM(*PxPyPzE(jets))\n",
    "\n",
    "            tmp = 0\n",
    "            for i in jets_index:\n",
    "                for j in jets_index:\n",
    "                    if i < j:\n",
    "                        tmp += 2 * pt[i] * pt[j] * (np.cosh(eta[i] - eta[j]) - 1)\n",
    "\n",
    "            eta_mhhh_fraction.append(tmp / mhhh**2)\n",
    "\n",
    "            # Sphericity and Aplanarity\n",
    "            Mxyz = np.zeros((3, 3))\n",
    "            p_total = 0\n",
    "            for i in range(6):\n",
    "                px, py, pz, _ = PxPyPzE(jets[i])\n",
    "\n",
    "                Mxyz += np.outer([px, py, pz], [px, py, pz])\n",
    "\n",
    "                p_total += (px**2 + py**2 + pz**2)\n",
    "\n",
    "            Mxyz /= p_total\n",
    "            eigvals = np.linalg.eigvals(Mxyz)\n",
    "            eigvals = np.sort(eigvals)[::-1]\n",
    "\n",
    "            sphericity.append(3/2 * (eigvals[1] + eigvals[2]))\n",
    "            aplanarity.append(3/2 * eigvals[2])\n",
    "\n",
    "    # save the features to npy file\n",
    "    results = np.array([dR[0], dR[1], dR[2], rms_dR, dA_skew, HT, mhCostheta, eta_mhhh_fraction, sphericity, aplanarity]).transpose()\n",
    "    np.save(output_file, results)\n"
   ]
  },
  {
   "cell_type": "code",
   "execution_count": 4,
   "metadata": {},
   "outputs": [
    {
     "name": "stderr",
     "output_type": "stream",
     "text": [
      "  0%|          | 0/40000 [00:00<?, ?it/s]"
     ]
    },
    {
     "name": "stderr",
     "output_type": "stream",
     "text": [
      "100%|██████████| 40000/40000 [02:19<00:00, 286.12it/s]\n"
     ]
    }
   ],
   "source": [
    "h5_file = '../../SPANet2/data/triHiggs/gghhh_6b_PT40_test-chi2_pairing.h5'\n",
    "output_file = './DNN_features/resonant-chi2_pairing.npy'\n",
    "from_h5_to_DNN_feature(h5_file, output_file)"
   ]
  },
  {
   "cell_type": "code",
   "execution_count": 5,
   "metadata": {},
   "outputs": [
    {
     "name": "stderr",
     "output_type": "stream",
     "text": [
      "100%|██████████| 40000/40000 [02:19<00:00, 285.80it/s]\n"
     ]
    }
   ],
   "source": [
    "h5_file = '../../SPANet2/data/triHiggs/gghhh_6b_PT40_test-abs_pairing.h5'\n",
    "output_file = './DNN_features/resonant-abs_pairing.npy'\n",
    "from_h5_to_DNN_feature(h5_file, output_file)"
   ]
  },
  {
   "cell_type": "code",
   "execution_count": 6,
   "metadata": {},
   "outputs": [
    {
     "name": "stderr",
     "output_type": "stream",
     "text": [
      "100%|██████████| 40000/40000 [02:07<00:00, 314.95it/s]\n"
     ]
    }
   ],
   "source": [
    "h5_file = '../../SPANet2/data/triHiggs/gghhh_6b_PT40_test-4b_SPANet_pairing.h5'\n",
    "output_file = './DNN_features/resonant-4b_SPANet_pairing.npy'\n",
    "from_h5_to_DNN_feature(h5_file, output_file)"
   ]
  },
  {
   "cell_type": "code",
   "execution_count": 7,
   "metadata": {},
   "outputs": [
    {
     "name": "stderr",
     "output_type": "stream",
     "text": [
      "100%|██████████| 28755/28755 [01:59<00:00, 241.23it/s]\n"
     ]
    }
   ],
   "source": [
    "h5_file = '../Sample/SPANet/pp6b_6b-chi2_pairing.h5'\n",
    "output_file = './DNN_features/pp6b-chi2_pairing.npy'\n",
    "from_h5_to_DNN_feature(h5_file, output_file)"
   ]
  },
  {
   "cell_type": "code",
   "execution_count": 8,
   "metadata": {},
   "outputs": [
    {
     "name": "stderr",
     "output_type": "stream",
     "text": [
      "100%|██████████| 28755/28755 [01:59<00:00, 241.38it/s]\n"
     ]
    }
   ],
   "source": [
    "h5_file = '../Sample/SPANet/pp6b_6b-abs_pairing.h5'\n",
    "output_file = './DNN_features/pp6b-abs_pairing.npy'\n",
    "from_h5_to_DNN_feature(h5_file, output_file)"
   ]
  },
  {
   "cell_type": "code",
   "execution_count": 4,
   "metadata": {},
   "outputs": [
    {
     "name": "stdout",
     "output_type": "stream",
     "text": [
      "python from_h5_to_DNN_features.py ../Sample/SPANet/pp6b_6b-abs_pairing.h5 ./DNN_features/pp6b-abs_pairing.npy\n"
     ]
    }
   ],
   "source": [
    "h5_file = '../Sample/SPANet/pp6b_6b-abs_pairing.h5'\n",
    "output_file = './DNN_features/pp6b-abs_pairing.npy'\n",
    "\n",
    "cmd = f'python from_h5_to_DNN_features.py {h5_file} {output_file}'\n",
    "print(cmd)"
   ]
  }
 ],
 "metadata": {
  "kernelspec": {
   "display_name": "jupyter",
   "language": "python",
   "name": "python3"
  },
  "language_info": {
   "codemirror_mode": {
    "name": "ipython",
    "version": 3
   },
   "file_extension": ".py",
   "mimetype": "text/x-python",
   "name": "python",
   "nbconvert_exporter": "python",
   "pygments_lexer": "ipython3",
   "version": "3.8.16"
  }
 },
 "nbformat": 4,
 "nbformat_minor": 2
}
