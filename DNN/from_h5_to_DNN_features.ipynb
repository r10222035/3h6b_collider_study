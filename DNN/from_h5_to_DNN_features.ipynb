{
 "cells": [
  {
   "cell_type": "code",
   "execution_count": 1,
   "metadata": {},
   "outputs": [],
   "source": [
    "import h5py\n",
    "import numpy as np\n",
    "import multiprocessing as mp\n",
    "\n",
    "from tqdm import tqdm\n",
    "from pathlib import Path\n",
    "from scipy.stats import skew\n",
    "from itertools import repeat\n",
    "\n",
    "N_CORES = 64"
   ]
  },
  {
   "cell_type": "code",
   "execution_count": 2,
   "metadata": {},
   "outputs": [],
   "source": [
    "def DeltaR(eta1, phi1, eta2, phi2):\n",
    "    dEta = eta1 - eta2\n",
    "    dPhi = np.abs(phi1 - phi2)\n",
    "    dPhi = np.where(dPhi > np.pi, 2 * np.pi - dPhi, dPhi)\n",
    "    dR = np.sqrt(dPhi**2 + dEta**2)\n",
    "    return dR\n",
    "\n",
    "\n",
    "def DeltaA(eta1, phi1, eta2, phi2):\n",
    "    dEta = eta1 - eta2\n",
    "    dPhi = np.abs(phi1 - phi2)\n",
    "    dPhi = np.where(dPhi > np.pi, 2 * np.pi - dPhi, dPhi)\n",
    "    dA = np.cosh(dEta) - np.cos(dPhi)\n",
    "    return dA\n",
    "\n",
    "\n",
    "def PxPyPzE(jets):\n",
    "    # jets: 一個形狀為 (n, 4) 的 NumPy 陣列，其中 n 是噴射數量，每個噴射有四個屬性（pt, eta, phi, m）\n",
    "    pt, eta, phi, m = jets.T\n",
    "\n",
    "    px = pt * np.cos(phi)\n",
    "    py = pt * np.sin(phi)\n",
    "    pz = pt * np.sinh(eta)\n",
    "    e = np.sqrt(m*m + px*px + py*py + pz*pz)\n",
    "\n",
    "    return px.sum(), py.sum(), pz.sum(), e.sum()\n",
    "\n",
    "\n",
    "def PtEtaPhiM(px, py, pz, e):\n",
    "\n",
    "    P = np.sqrt(px**2 + py**2 + pz**2)\n",
    "    pt = np.sqrt(px**2 + py**2)\n",
    "    eta = 1 / 2 * np.log((P + pz) / (P - pz))\n",
    "    phi = np.arctan(py / px)\n",
    "    m = np.sqrt(e**2 - px**2 - py**2 - pz**2)\n",
    "\n",
    "    return pt, eta, phi, m"
   ]
  },
  {
   "cell_type": "code",
   "execution_count": 3,
   "metadata": {},
   "outputs": [],
   "source": [
    "def construct_inputs(h5_file, start, end):\n",
    "\n",
    "    with h5py.File(h5_file, 'r') as f:\n",
    "\n",
    "        dR = [[], [], []]\n",
    "        rms_dR = []\n",
    "        dA_skew = []\n",
    "        HT = []\n",
    "        mhCostheta = []\n",
    "        eta_mhhh_fraction = []\n",
    "        sphericity = []\n",
    "        aplanarity = []\n",
    "\n",
    "        label = f['CLASSIFICATIONS/EVENT/signal'][start:end]\n",
    "\n",
    "        for event in tqdm(range(start, end)):\n",
    "\n",
    "            nj = f['INPUTS/Source/MASK'][event].sum()\n",
    "            pt = f['INPUTS/Source/pt'][event]\n",
    "            eta = f['INPUTS/Source/eta'][event]\n",
    "            phi = f['INPUTS/Source/phi'][event]\n",
    "            mass = f['INPUTS/Source/mass'][event]\n",
    "            btag = f['INPUTS/Source/btag'][event]\n",
    "\n",
    "            # for pairing\n",
    "            jets_index = np.where(btag)[0][0:6]\n",
    "\n",
    "            h1b1 = f['TARGETS/h1/b1'][event]\n",
    "            h1b2 = f['TARGETS/h1/b2'][event]\n",
    "            h2b1 = f['TARGETS/h2/b1'][event]\n",
    "            h2b2 = f['TARGETS/h2/b2'][event]\n",
    "            h3b1 = f['TARGETS/h3/b1'][event]\n",
    "            h3b2 = f['TARGETS/h3/b2'][event]\n",
    "\n",
    "            dR1 = DeltaR(eta[h1b1], phi[h1b1], eta[h1b2], phi[h1b2])\n",
    "            dR2 = DeltaR(eta[h2b1], phi[h2b1], eta[h2b2], phi[h2b2])\n",
    "            dR3 = DeltaR(eta[h3b1], phi[h3b1], eta[h3b2], phi[h3b2])\n",
    "\n",
    "            dR[0].append(dR1)\n",
    "            dR[1].append(dR2)\n",
    "            dR[2].append(dR3)\n",
    "\n",
    "            # compute rms of dR, consider all possible combinations\n",
    "            dR_dijets = [DeltaR(eta[i], phi[i], eta[j], phi[j]) for i in jets_index for j in jets_index if i < j]\n",
    "            rms_dR.append(np.sqrt(np.mean(np.square(dR_dijets))))\n",
    "\n",
    "            # compute skewness of dA\n",
    "            dA_dijets = [DeltaA(eta[i], phi[i], eta[j], phi[j]) for i in jets_index for j in jets_index if i < j]\n",
    "            dA_skew.append(skew(dA_dijets))\n",
    "\n",
    "            jets = np.array([[pt[i], eta[i], phi[i], mass[i]] for i in [h1b1, h1b2, h2b1, h2b2, h3b1, h3b2]])\n",
    "\n",
    "            _, _, _, mh1 = PtEtaPhiM(*PxPyPzE(jets[[0, 1]]))\n",
    "            _, _, _, mh2 = PtEtaPhiM(*PxPyPzE(jets[[2, 3]]))\n",
    "            _, _, _, mh3 = PtEtaPhiM(*PxPyPzE(jets[[4, 5]]))\n",
    "\n",
    "            HT.append(jets[:, 0].sum())\n",
    "\n",
    "            mh_ref = np.array([120, 115, 110])\n",
    "            mh_rec = np.array([mh1, mh2, mh3]) - mh_ref\n",
    "\n",
    "            mhCostheta.append(mh_rec.dot(mh_ref) / (np.linalg.norm(mh_rec) * np.linalg.norm(mh_ref)))\n",
    "\n",
    "            # eta - mhhh fraction\n",
    "            _, _, _, mhhh = PtEtaPhiM(*PxPyPzE(jets))\n",
    "\n",
    "            tmp = 0\n",
    "            for i in jets_index:\n",
    "                for j in jets_index:\n",
    "                    if i < j:\n",
    "                        tmp += 2 * pt[i] * pt[j] * (np.cosh(eta[i] - eta[j]) - 1)\n",
    "\n",
    "            eta_mhhh_fraction.append(tmp / mhhh**2)\n",
    "\n",
    "            # Sphericity and Aplanarity\n",
    "            Mxyz = np.zeros((3, 3))\n",
    "            p_total = 0\n",
    "            for i in range(6):\n",
    "                px, py, pz, _ = PxPyPzE(jets[i])\n",
    "\n",
    "                Mxyz += np.outer([px, py, pz], [px, py, pz])\n",
    "\n",
    "                p_total += (px**2 + py**2 + pz**2)\n",
    "\n",
    "            Mxyz /= p_total\n",
    "            eigvals = np.linalg.eigvals(Mxyz)\n",
    "            eigvals = np.sort(eigvals)[::-1]\n",
    "\n",
    "            sphericity.append(3 / 2 * (eigvals[1] + eigvals[2]))\n",
    "            aplanarity.append(3 / 2 * eigvals[2])\n",
    "\n",
    "        # save the features to npy file\n",
    "        results = np.array([dR[0], dR[1], dR[2], rms_dR, dA_skew, HT, mhCostheta, eta_mhhh_fraction, sphericity, aplanarity, label]).transpose()\n",
    "        \n",
    "        return results"
   ]
  },
  {
   "cell_type": "code",
   "execution_count": 4,
   "metadata": {},
   "outputs": [],
   "source": [
    "def from_h5_to_DNN_feature(h5_file, output_file):\n",
    "    # file_path: input h5 file path\n",
    "    # output_path: output h5 file path with jet pairing results\n",
    "    # use_btag: whether to use btag information\n",
    "\n",
    "\n",
    "    with h5py.File(h5_file, 'r') as f:\n",
    "        nevent = f['INPUTS/Source/pt'].shape[0]\n",
    "    print(f'Number of events: {nevent}')\n",
    "\n",
    "    # Multi-core processing\n",
    "    print(f'Number of cores: {N_CORES}')\n",
    "    start = [nevent // N_CORES * i for i in range(N_CORES)]\n",
    "    end = [nevent // N_CORES * (i+1) for i in range(N_CORES)]\n",
    "    end[-1] = nevent\n",
    "\n",
    "    with mp.Pool(processes=N_CORES) as pool:\n",
    "        results = pool.starmap(construct_inputs, zip(repeat(h5_file), start, end))\n",
    "\n",
    "    data = np.concatenate(results)\n",
    "    # save the features and label to npy file\n",
    "    # the last column is the label\n",
    "    features, labels = data[:, :-1], data[:, -1]\n",
    "    np.save(output_file.replace('.npy', '-data.npy'), features)\n",
    "    np.save(output_file.replace('.npy', '-label.npy'), labels)\n"
   ]
  },
  {
   "cell_type": "code",
   "execution_count": 5,
   "metadata": {},
   "outputs": [
    {
     "name": "stdout",
     "output_type": "stream",
     "text": [
      "Number of events: 50000\n",
      "Number of cores: 64\n"
     ]
    },
    {
     "name": "stderr",
     "output_type": "stream",
     "text": [
      "100%|██████████| 781/781 [00:03<00:00, 196.02it/s]\n",
      "100%|██████████| 781/781 [00:04<00:00, 194.78it/s]\n",
      "100%|██████████| 781/781 [00:04<00:00, 184.38it/s]\n",
      " 69%|██████▉   | 542/781 [00:04<00:01, 123.03it/s]\n",
      "100%|██████████| 781/781 [00:04<00:00, 181.83it/s]\n",
      "100%|██████████| 781/781 [00:04<00:00, 180.04it/s]\n",
      "100%|██████████| 781/781 [00:04<00:00, 177.74it/s]\n",
      "100%|██████████| 781/781 [00:04<00:00, 177.75it/s]\n",
      " 96%|█████████▌| 748/781 [00:04<00:00, 182.52it/s]\n",
      "100%|██████████| 781/781 [00:04<00:00, 175.60it/s]\n",
      "\n",
      "100%|██████████| 781/781 [00:04<00:00, 174.98it/s]\n",
      "100%|██████████| 781/781 [00:04<00:00, 171.96it/s]\n",
      "100%|██████████| 781/781 [00:04<00:00, 170.83it/s]\n",
      "100%|██████████| 781/781 [00:04<00:00, 170.27it/s]\n",
      "\n",
      "100%|██████████| 781/781 [00:04<00:00, 168.86it/s]\n",
      "100%|██████████| 781/781 [00:04<00:00, 166.64it/s]\n",
      "100%|██████████| 781/781 [00:04<00:00, 166.06it/s]\n",
      "100%|██████████| 781/781 [00:04<00:00, 164.91it/s]\n",
      "100%|██████████| 781/781 [00:04<00:00, 163.52it/s]\n",
      "100%|██████████| 781/781 [00:04<00:00, 163.31it/s]\n",
      " 72%|███████▏  | 560/781 [00:04<00:01, 115.00it/s]\n",
      "100%|██████████| 781/781 [00:04<00:00, 161.65it/s]\n",
      "100%|██████████| 781/781 [00:04<00:00, 161.34it/s]\n",
      "100%|██████████| 781/781 [00:04<00:00, 160.58it/s]\n",
      " 90%|████████▉ | 702/781 [00:04<00:00, 118.33it/s]\n",
      "100%|██████████| 781/781 [00:05<00:00, 153.21it/s]\n",
      "100%|██████████| 781/781 [00:05<00:00, 152.18it/s]\n",
      "100%|██████████| 781/781 [00:05<00:00, 152.95it/s]\n",
      " 79%|███████▉  | 620/781 [00:05<00:01, 116.84it/s]\n",
      "100%|██████████| 781/781 [00:05<00:00, 146.50it/s]\n",
      "100%|██████████| 781/781 [00:05<00:00, 144.95it/s]\n",
      "\n",
      "100%|██████████| 781/781 [00:05<00:00, 144.58it/s]\n",
      " 88%|████████▊ | 689/781 [00:05<00:00, 113.56it/s]\n",
      "100%|██████████| 781/781 [00:05<00:00, 143.73it/s]\n",
      "100%|██████████| 781/781 [00:05<00:00, 143.84it/s]\n",
      "100%|██████████| 781/781 [00:05<00:00, 143.19it/s]\n",
      "100%|██████████| 797/797 [00:05<00:00, 146.13it/s]\n",
      "100%|██████████| 781/781 [00:05<00:00, 142.91it/s]\n",
      " 96%|█████████▌| 751/781 [00:05<00:00, 117.00it/s]\n",
      "100%|██████████| 781/781 [00:05<00:00, 141.99it/s]\n",
      "100%|██████████| 781/781 [00:05<00:00, 141.20it/s]\n",
      "100%|██████████| 781/781 [00:05<00:00, 138.76it/s]\n",
      "100%|██████████| 781/781 [00:05<00:00, 138.62it/s]\n",
      "100%|██████████| 781/781 [00:05<00:00, 136.90it/s]\n",
      "100%|██████████| 781/781 [00:05<00:00, 136.84it/s]\n",
      "100%|██████████| 781/781 [00:05<00:00, 136.62it/s]\n",
      "100%|██████████| 781/781 [00:05<00:00, 136.02it/s]\n",
      "100%|██████████| 781/781 [00:05<00:00, 135.77it/s]\n",
      "100%|██████████| 781/781 [00:05<00:00, 134.27it/s]\n",
      "100%|██████████| 781/781 [00:05<00:00, 133.56it/s]\n",
      "100%|██████████| 781/781 [00:05<00:00, 133.53it/s]\n",
      "100%|██████████| 781/781 [00:05<00:00, 133.64it/s]\n",
      "100%|██████████| 781/781 [00:05<00:00, 131.66it/s]\n",
      "100%|██████████| 781/781 [00:05<00:00, 131.23it/s]\n",
      " 95%|█████████▌| 745/781 [00:06<00:00, 194.59it/s]\n",
      "100%|██████████| 781/781 [00:06<00:00, 127.68it/s]\n",
      "100%|██████████| 781/781 [00:06<00:00, 127.60it/s]\n",
      "100%|██████████| 781/781 [00:06<00:00, 126.56it/s]\n",
      "100%|██████████| 781/781 [00:06<00:00, 126.25it/s]\n",
      "100%|██████████| 781/781 [00:06<00:00, 126.19it/s]\n",
      "100%|██████████| 781/781 [00:06<00:00, 123.50it/s]\n"
     ]
    }
   ],
   "source": [
    "h5_file = '../Sample/SPANet/sig/gghhh-4pT40_6b-chi2_pairing.h5'\n",
    "output_file = './DNN_features/resonant_6b_new-chi2_pairing.npy'\n",
    "from_h5_to_DNN_feature(h5_file, output_file)"
   ]
  },
  {
   "cell_type": "code",
   "execution_count": 5,
   "metadata": {},
   "outputs": [
    {
     "name": "stderr",
     "output_type": "stream",
     "text": [
      "  0%|          | 0/40000 [00:00<?, ?it/s]"
     ]
    },
    {
     "name": "stderr",
     "output_type": "stream",
     "text": [
      "100%|██████████| 40000/40000 [02:30<00:00, 265.58it/s]\n"
     ]
    }
   ],
   "source": [
    "h5_file = '../../SPANet2/data/triHiggs/gghhh_6b_PT40_test-abs_pairing.h5'\n",
    "output_file = './DNN_features/resonant-abs_pairing.npy'\n",
    "from_h5_to_DNN_feature(h5_file, output_file)"
   ]
  },
  {
   "cell_type": "code",
   "execution_count": 6,
   "metadata": {},
   "outputs": [
    {
     "name": "stderr",
     "output_type": "stream",
     "text": [
      "100%|██████████| 40000/40000 [02:07<00:00, 314.95it/s]\n"
     ]
    }
   ],
   "source": [
    "h5_file = '../../SPANet2/data/triHiggs/gghhh_6b_PT40_test-4b_SPANet_pairing.h5'\n",
    "output_file = './DNN_features/resonant-4b_SPANet_pairing.npy'\n",
    "from_h5_to_DNN_feature(h5_file, output_file)"
   ]
  },
  {
   "cell_type": "code",
   "execution_count": 7,
   "metadata": {},
   "outputs": [
    {
     "name": "stderr",
     "output_type": "stream",
     "text": [
      "100%|██████████| 28755/28755 [01:59<00:00, 241.23it/s]\n"
     ]
    }
   ],
   "source": [
    "h5_file = '../Sample/SPANet/pp6b_6b-chi2_pairing.h5'\n",
    "output_file = './DNN_features/pp6b-chi2_pairing.npy'\n",
    "from_h5_to_DNN_feature(h5_file, output_file)"
   ]
  },
  {
   "cell_type": "code",
   "execution_count": 4,
   "metadata": {},
   "outputs": [
    {
     "name": "stderr",
     "output_type": "stream",
     "text": [
      "100%|██████████| 28755/28755 [02:02<00:00, 234.94it/s]\n"
     ]
    }
   ],
   "source": [
    "h5_file = '../Sample/SPANet/pp6b_6b-abs_pairing.h5'\n",
    "output_file = './DNN_features/pp6b-abs_pairing.npy'\n",
    "from_h5_to_DNN_feature(h5_file, output_file)"
   ]
  },
  {
   "cell_type": "code",
   "execution_count": 2,
   "metadata": {},
   "outputs": [
    {
     "name": "stdout",
     "output_type": "stream",
     "text": [
      "python from_h5_to_DNN_features.py ../Sample/SPANet/gghhh_6b_PT40_DNN-chi2_pairing.h5 ./DNN_features/resonant-chi2_pairing.npy &\n",
      "python from_h5_to_DNN_features.py ../Sample/SPANet/gghhh_6b_PT40_DNN-abs_pairing.h5 ./DNN_features/resonant-abs_pairing.npy &\n",
      "python from_h5_to_DNN_features.py ../Sample/SPANet/gghhh_6b_PT40_DNN-4b_SPANet_pairing.h5 ./DNN_features/resonant-4b_SPANet_pairing.npy &\n",
      "python from_h5_to_DNN_features.py ../../SPANet2/data/triHiggs/gghhh_6b_PT40_3h_test.h5 ./DNN_features/resonant-truth_pairing.npy &\n",
      "python from_h5_to_DNN_features.py ../Sample/SPANet/pp6b_6b-chi2_pairing.h5 ./DNN_features/pp6b-chi2_pairing.npy &\n",
      "python from_h5_to_DNN_features.py ../Sample/SPANet/pp6b_6b-abs_pairing.h5 ./DNN_features/pp6b-abs_pairing.npy &\n",
      "python from_h5_to_DNN_features.py ../Sample/SPANet/pp6b_6b-4b_SPANet_pairing.h5 ./DNN_features/pp6b-4b_SPANet_pairing.npy &\n"
     ]
    }
   ],
   "source": [
    "h5_file = '../Sample/SPANet/gghhh_6b_PT40_DNN-chi2_pairing.h5'\n",
    "output_file = './DNN_features/resonant-chi2_pairing.npy'\n",
    "cmd = f'python from_h5_to_DNN_features.py {h5_file} {output_file} &'\n",
    "print(cmd)\n",
    "\n",
    "h5_file = '../Sample/SPANet/gghhh_6b_PT40_DNN-abs_pairing.h5'\n",
    "output_file = './DNN_features/resonant-abs_pairing.npy'\n",
    "cmd = f'python from_h5_to_DNN_features.py {h5_file} {output_file} &'\n",
    "print(cmd)\n",
    "\n",
    "h5_file = '../Sample/SPANet/gghhh_6b_PT40_DNN-4b_SPANet_pairing.h5'\n",
    "output_file = './DNN_features/resonant-4b_SPANet_pairing.npy'\n",
    "cmd = f'python from_h5_to_DNN_features.py {h5_file} {output_file} &'\n",
    "print(cmd)\n",
    "\n",
    "h5_file = '../../SPANet2/data/triHiggs/gghhh_6b_PT40_3h_test.h5'\n",
    "output_file = './DNN_features/resonant-truth_pairing.npy'\n",
    "cmd = f'python from_h5_to_DNN_features.py {h5_file} {output_file} &'\n",
    "print(cmd)\n",
    "\n",
    "h5_file = '../Sample/SPANet/pp6b_6b-chi2_pairing.h5'\n",
    "output_file = './DNN_features/pp6b-chi2_pairing.npy'\n",
    "cmd = f'python from_h5_to_DNN_features.py {h5_file} {output_file} &'\n",
    "print(cmd)\n",
    "\n",
    "h5_file = '../Sample/SPANet/pp6b_6b-abs_pairing.h5'\n",
    "output_file = './DNN_features/pp6b-abs_pairing.npy'\n",
    "cmd = f'python from_h5_to_DNN_features.py {h5_file} {output_file} &'\n",
    "print(cmd)\n",
    "\n",
    "h5_file = '../Sample/SPANet/pp6b_6b-4b_SPANet_pairing.h5'\n",
    "output_file = './DNN_features/pp6b-4b_SPANet_pairing.npy'\n",
    "cmd = f'python from_h5_to_DNN_features.py {h5_file} {output_file} &'\n",
    "print(cmd)"
   ]
  },
  {
   "cell_type": "markdown",
   "metadata": {},
   "source": [
    "# 4b samples"
   ]
  },
  {
   "cell_type": "code",
   "execution_count": 2,
   "metadata": {},
   "outputs": [
    {
     "name": "stdout",
     "output_type": "stream",
     "text": [
      "python from_h5_to_DNN_features.py ../Sample/SPANet/gghhh_4b_PT40_DNN-chi2_pairing.h5 ./DNN_features/resonant_4b-chi2_pairing.npy &\n",
      "python from_h5_to_DNN_features.py ../Sample/SPANet/gghhh_4b_PT40_DNN-abs_pairing.h5 ./DNN_features/resonant_4b-abs_pairing.npy &\n",
      "python from_h5_to_DNN_features.py ../Sample/SPANet/gghhh_4b_PT40_DNN-4b_SPANet_pairing.h5 ./DNN_features/resonant_4b-4b_SPANet_pairing.npy &\n",
      "python from_h5_to_DNN_features.py ../Sample/SPANet/pp6b_4b-chi2_pairing.h5 ./DNN_features/pp6b_4b-chi2_pairing.npy &\n",
      "python from_h5_to_DNN_features.py ../Sample/SPANet/pp6b_4b-abs_pairing.h5 ./DNN_features/pp6b_4b-abs_pairing.npy &\n",
      "python from_h5_to_DNN_features.py ../Sample/SPANet/pp6b_4b-4b_SPANet_pairing.h5 ./DNN_features/pp6b_4b-4b_SPANet_pairing.npy &\n"
     ]
    }
   ],
   "source": [
    "h5_file = '../Sample/SPANet/gghhh_4b_PT40_DNN-chi2_pairing.h5'\n",
    "output_file = './DNN_features/resonant_4b-chi2_pairing.npy'\n",
    "cmd = f'python from_h5_to_DNN_features.py {h5_file} {output_file} &'\n",
    "print(cmd)\n",
    "\n",
    "h5_file = '../Sample/SPANet/gghhh_4b_PT40_DNN-abs_pairing.h5'\n",
    "output_file = './DNN_features/resonant_4b-abs_pairing.npy'\n",
    "cmd = f'python from_h5_to_DNN_features.py {h5_file} {output_file} &'\n",
    "print(cmd)\n",
    "\n",
    "h5_file = '../Sample/SPANet/gghhh_4b_PT40_DNN-4b_SPANet_pairing.h5'\n",
    "output_file = './DNN_features/resonant_4b-4b_SPANet_pairing.npy'\n",
    "cmd = f'python from_h5_to_DNN_features.py {h5_file} {output_file} &'\n",
    "print(cmd)\n",
    "\n",
    "h5_file = '../Sample/SPANet/pp6b_4b-chi2_pairing.h5'\n",
    "output_file = './DNN_features/pp6b_4b-chi2_pairing.npy'\n",
    "cmd = f'python from_h5_to_DNN_features.py {h5_file} {output_file} &'\n",
    "print(cmd)\n",
    "\n",
    "h5_file = '../Sample/SPANet/pp6b_4b-abs_pairing.h5'\n",
    "output_file = './DNN_features/pp6b_4b-abs_pairing.npy'\n",
    "cmd = f'python from_h5_to_DNN_features.py {h5_file} {output_file} &'\n",
    "print(cmd)\n",
    "\n",
    "h5_file = '../Sample/SPANet/pp6b_4b-4b_SPANet_pairing.h5'\n",
    "output_file = './DNN_features/pp6b_4b-4b_SPANet_pairing.npy'\n",
    "cmd = f'python from_h5_to_DNN_features.py {h5_file} {output_file} &'\n",
    "print(cmd)"
   ]
  },
  {
   "cell_type": "markdown",
   "metadata": {},
   "source": [
    "# 1M 4b + 50k 6b"
   ]
  },
  {
   "cell_type": "code",
   "execution_count": 6,
   "metadata": {},
   "outputs": [
    {
     "name": "stdout",
     "output_type": "stream",
     "text": [
      "python from_h5_to_DNN_features.py ../Sample/SPANet/triHiggs-4pT40_4b-train-chi2_pairing.h5 ./DNN_features/triHiggs-4pT40_4b-train-chi2_pairing.npy &\n",
      "python from_h5_to_DNN_features.py ../Sample/SPANet/triHiggs-4pT40_4b-train-abs_pairing.h5 ./DNN_features/triHiggs-4pT40_4b-train-abs_pairing.npy &\n",
      "python from_h5_to_DNN_features.py ../Sample/SPANet/triHiggs-4pT40_4b-train-4b_SPANet_pairing.h5 ./DNN_features/triHiggs-4pT40_4b-train-4b_SPANet_pairing.npy &\n",
      "python from_h5_to_DNN_features.py ../Sample/SPANet/triHiggs-4pT40_4b-test-chi2_pairing.h5 ./DNN_features/triHiggs-4pT40_4b-test-chi2_pairing.npy &\n",
      "python from_h5_to_DNN_features.py ../Sample/SPANet/triHiggs-4pT40_4b-test-abs_pairing.h5 ./DNN_features/triHiggs-4pT40_4b-test-abs_pairing.npy &\n",
      "python from_h5_to_DNN_features.py ../Sample/SPANet/triHiggs-4pT40_4b-test-4b_SPANet_pairing.h5 ./DNN_features/triHiggs-4pT40_4b-test-4b_SPANet_pairing.npy &\n"
     ]
    }
   ],
   "source": [
    "h5_file = '../Sample/SPANet/triHiggs-4pT40_4b-train-chi2_pairing.h5'\n",
    "output_file = './DNN_features/triHiggs-4pT40_4b-train-chi2_pairing.npy'\n",
    "cmd = f'python from_h5_to_DNN_features.py {h5_file} {output_file} &'\n",
    "print(cmd)\n",
    "\n",
    "h5_file = '../Sample/SPANet/triHiggs-4pT40_4b-train-abs_pairing.h5'\n",
    "output_file = './DNN_features/triHiggs-4pT40_4b-train-abs_pairing.npy'\n",
    "cmd = f'python from_h5_to_DNN_features.py {h5_file} {output_file} &'\n",
    "print(cmd)\n",
    "\n",
    "h5_file = '../Sample/SPANet/triHiggs-4pT40_4b-train-4b_SPANet_pairing.h5'\n",
    "output_file = './DNN_features/triHiggs-4pT40_4b-train-4b_SPANet_pairing.npy'\n",
    "cmd = f'python from_h5_to_DNN_features.py {h5_file} {output_file} &'\n",
    "print(cmd)\n",
    "\n",
    "h5_file = '../Sample/SPANet/triHiggs-4pT40_4b-test-chi2_pairing.h5'\n",
    "output_file = './DNN_features/triHiggs-4pT40_4b-test-chi2_pairing.npy'\n",
    "cmd = f'python from_h5_to_DNN_features.py {h5_file} {output_file} &'\n",
    "print(cmd)\n",
    "\n",
    "h5_file = '../Sample/SPANet/triHiggs-4pT40_4b-test-abs_pairing.h5'\n",
    "output_file = './DNN_features/triHiggs-4pT40_4b-test-abs_pairing.npy'\n",
    "cmd = f'python from_h5_to_DNN_features.py {h5_file} {output_file} &'\n",
    "print(cmd)\n",
    "\n",
    "h5_file = '../Sample/SPANet/triHiggs-4pT40_4b-test-4b_SPANet_pairing.h5'\n",
    "output_file = './DNN_features/triHiggs-4pT40_4b-test-4b_SPANet_pairing.npy'\n",
    "cmd = f'python from_h5_to_DNN_features.py {h5_file} {output_file} &'\n",
    "print(cmd)"
   ]
  },
  {
   "cell_type": "code",
   "execution_count": 1,
   "metadata": {},
   "outputs": [
    {
     "name": "stdout",
     "output_type": "stream",
     "text": [
      "python from_h5_to_DNN_features.py ../Sample/SPANet/triHiggs-4pT40_6b-chi2_pairing.h5 ./DNN_features/triHiggs-4pT40_6b-chi2_pairing.npy &\n",
      "python from_h5_to_DNN_features.py ../Sample/SPANet/triHiggs-4pT40_6b-abs_pairing.h5 ./DNN_features/triHiggs-4pT40_6b-abs_pairing.npy &\n",
      "python from_h5_to_DNN_features.py ../Sample/SPANet/triHiggs-4pT40_6b-4b_SPANet_pairing.h5 ./DNN_features/triHiggs-4pT40_6b-4b_SPANet_pairing.npy &\n"
     ]
    }
   ],
   "source": [
    "h5_file = '../Sample/SPANet/triHiggs-4pT40_6b-chi2_pairing.h5'\n",
    "output_file = './DNN_features/triHiggs-4pT40_6b-chi2_pairing.npy'\n",
    "cmd = f'python from_h5_to_DNN_features.py {h5_file} {output_file} &'\n",
    "print(cmd)\n",
    "\n",
    "h5_file = '../Sample/SPANet/triHiggs-4pT40_6b-abs_pairing.h5'\n",
    "output_file = './DNN_features/triHiggs-4pT40_6b-abs_pairing.npy'\n",
    "cmd = f'python from_h5_to_DNN_features.py {h5_file} {output_file} &'\n",
    "print(cmd)\n",
    "\n",
    "h5_file = '../Sample/SPANet/triHiggs-4pT40_6b-4b_SPANet_pairing.h5'\n",
    "output_file = './DNN_features/triHiggs-4pT40_6b-4b_SPANet_pairing.npy'\n",
    "cmd = f'python from_h5_to_DNN_features.py {h5_file} {output_file} &'\n",
    "print(cmd)"
   ]
  },
  {
   "cell_type": "markdown",
   "metadata": {},
   "source": [
    "# Mixed mass: 1M 4b + 50k 6b"
   ]
  },
  {
   "cell_type": "code",
   "execution_count": 1,
   "metadata": {},
   "outputs": [
    {
     "name": "stdout",
     "output_type": "stream",
     "text": [
      "python from_h5_to_DNN_features.py ../Sample/SPANet/triHiggs-4pT40_4b-mix-train-chi2_pairing.h5 ./DNN_features/triHiggs-4pT40_4b-mix-train-chi2_pairing.npy &\n",
      "python from_h5_to_DNN_features.py ../Sample/SPANet/triHiggs-4pT40_4b-mix-train-abs_pairing.h5 ./DNN_features/triHiggs-4pT40_4b-mix-train-abs_pairing.npy &\n",
      "python from_h5_to_DNN_features.py ../Sample/SPANet/triHiggs-4pT40_4b-mix-train-4b_SPANet_pairing.h5 ./DNN_features/triHiggs-4pT40_4b-mix-train-4b_SPANet_pairing.npy &\n",
      "python from_h5_to_DNN_features.py ../Sample/SPANet/triHiggs-4pT40_4b-mix-test-chi2_pairing.h5 ./DNN_features/triHiggs-4pT40_4b-mix-test-chi2_pairing.npy &\n",
      "python from_h5_to_DNN_features.py ../Sample/SPANet/triHiggs-4pT40_4b-mix-test-abs_pairing.h5 ./DNN_features/triHiggs-4pT40_4b-mix-test-abs_pairing.npy &\n",
      "python from_h5_to_DNN_features.py ../Sample/SPANet/triHiggs-4pT40_4b-mix-test-4b_SPANet_pairing.h5 ./DNN_features/triHiggs-4pT40_4b-mix-test-4b_SPANet_pairing.npy &\n",
      "python from_h5_to_DNN_features.py ../Sample/SPANet/triHiggs-4pT40_6b-mix-chi2_pairing.h5 ./DNN_features/triHiggs-4pT40_6b-mix-chi2_pairing.npy &\n",
      "python from_h5_to_DNN_features.py ../Sample/SPANet/triHiggs-4pT40_6b-mix-abs_pairing.h5 ./DNN_features/triHiggs-4pT40_6b-mix-abs_pairing.npy &\n",
      "python from_h5_to_DNN_features.py ../Sample/SPANet/triHiggs-4pT40_6b-mix-4b_SPANet_pairing.h5 ./DNN_features/triHiggs-4pT40_6b-mix-4b_SPANet_pairing.npy &\n"
     ]
    }
   ],
   "source": [
    "h5_file = '../Sample/SPANet/triHiggs-4pT40_4b-mix-train-chi2_pairing.h5'\n",
    "output_file = './DNN_features/triHiggs-4pT40_4b-mix-train-chi2_pairing.npy'\n",
    "cmd = f'python from_h5_to_DNN_features.py {h5_file} {output_file} &'\n",
    "print(cmd)\n",
    "\n",
    "h5_file = '../Sample/SPANet/triHiggs-4pT40_4b-mix-train-abs_pairing.h5'\n",
    "output_file = './DNN_features/triHiggs-4pT40_4b-mix-train-abs_pairing.npy'\n",
    "cmd = f'python from_h5_to_DNN_features.py {h5_file} {output_file} &'\n",
    "print(cmd)\n",
    "\n",
    "h5_file = '../Sample/SPANet/triHiggs-4pT40_4b-mix-train-4b_SPANet_pairing.h5'\n",
    "output_file = './DNN_features/triHiggs-4pT40_4b-mix-train-4b_SPANet_pairing.npy'\n",
    "cmd = f'python from_h5_to_DNN_features.py {h5_file} {output_file} &'\n",
    "print(cmd)\n",
    "\n",
    "h5_file = '../Sample/SPANet/triHiggs-4pT40_4b-mix-test-chi2_pairing.h5'\n",
    "output_file = './DNN_features/triHiggs-4pT40_4b-mix-test-chi2_pairing.npy'\n",
    "cmd = f'python from_h5_to_DNN_features.py {h5_file} {output_file} &'\n",
    "print(cmd)\n",
    "\n",
    "h5_file = '../Sample/SPANet/triHiggs-4pT40_4b-mix-test-abs_pairing.h5'\n",
    "output_file = './DNN_features/triHiggs-4pT40_4b-mix-test-abs_pairing.npy'\n",
    "cmd = f'python from_h5_to_DNN_features.py {h5_file} {output_file} &'\n",
    "print(cmd)\n",
    "\n",
    "h5_file = '../Sample/SPANet/triHiggs-4pT40_4b-mix-test-4b_SPANet_pairing.h5'\n",
    "output_file = './DNN_features/triHiggs-4pT40_4b-mix-test-4b_SPANet_pairing.npy'\n",
    "cmd = f'python from_h5_to_DNN_features.py {h5_file} {output_file} &'\n",
    "print(cmd)\n",
    "\n",
    "h5_file = '../Sample/SPANet/triHiggs-4pT40_6b-mix-chi2_pairing.h5'\n",
    "output_file = './DNN_features/triHiggs-4pT40_6b-mix-chi2_pairing.npy'\n",
    "cmd = f'python from_h5_to_DNN_features.py {h5_file} {output_file} &'\n",
    "print(cmd)\n",
    "\n",
    "h5_file = '../Sample/SPANet/triHiggs-4pT40_6b-mix-abs_pairing.h5'\n",
    "output_file = './DNN_features/triHiggs-4pT40_6b-mix-abs_pairing.npy'\n",
    "cmd = f'python from_h5_to_DNN_features.py {h5_file} {output_file} &'\n",
    "print(cmd)\n",
    "\n",
    "h5_file = '../Sample/SPANet/triHiggs-4pT40_6b-mix-4b_SPANet_pairing.h5'\n",
    "output_file = './DNN_features/triHiggs-4pT40_6b-mix-4b_SPANet_pairing.npy'\n",
    "cmd = f'python from_h5_to_DNN_features.py {h5_file} {output_file} &'\n",
    "print(cmd)"
   ]
  },
  {
   "cell_type": "code",
   "execution_count": 3,
   "metadata": {},
   "outputs": [
    {
     "name": "stdout",
     "output_type": "stream",
     "text": [
      "python from_h5_to_DNN_features.py ../Sample/SPANet/sig/gghhh_bsm_420_280/gghhh-4pT40_4b-test-chi2_pairing.h5 DNN_features/sig/gghhh_bsm_420_280/gghhh-4pT40_4b-test-chi2_pairing.npy &\n",
      "python from_h5_to_DNN_features.py ../Sample/SPANet/sig/gghhh_bsm_420_280/gghhh-4pT40_4b-test-abs_pairing.h5 DNN_features/sig/gghhh_bsm_420_280/gghhh-4pT40_4b-test-abs_pairing.npy &\n",
      "python from_h5_to_DNN_features.py ../Sample/SPANet/sig/gghhh_bsm_420_280/gghhh-4pT40_4b-test-4b_SPANet_pairing.h5 DNN_features/sig/gghhh_bsm_420_280/gghhh-4pT40_4b-test-4b_SPANet_pairing.npy &\n",
      "python from_h5_to_DNN_features.py ../Sample/SPANet/sig/gghhh_bsm_420_280/gghhh-4pT40_6b-1-chi2_pairing.h5 DNN_features/sig/gghhh_bsm_420_280/gghhh-4pT40_6b-chi2_pairing.npy &\n",
      "python from_h5_to_DNN_features.py ../Sample/SPANet/sig/gghhh_bsm_420_280/gghhh-4pT40_6b-1-abs_pairing.h5 DNN_features/sig/gghhh_bsm_420_280/gghhh-4pT40_6b-abs_pairing.npy &\n",
      "python from_h5_to_DNN_features.py ../Sample/SPANet/sig/gghhh_bsm_420_280/gghhh-4pT40_6b-1-4b_SPANet_pairing.h5 DNN_features/sig/gghhh_bsm_420_280/gghhh-4pT40_6b-4b_SPANet_pairing.npy &\n",
      "python from_h5_to_DNN_features.py ../Sample/SPANet/sig/gghhh_bsm_500_275/gghhh-4pT40_4b-test-chi2_pairing.h5 DNN_features/sig/gghhh_bsm_500_275/gghhh-4pT40_4b-test-chi2_pairing.npy &\n",
      "python from_h5_to_DNN_features.py ../Sample/SPANet/sig/gghhh_bsm_500_275/gghhh-4pT40_4b-test-abs_pairing.h5 DNN_features/sig/gghhh_bsm_500_275/gghhh-4pT40_4b-test-abs_pairing.npy &\n",
      "python from_h5_to_DNN_features.py ../Sample/SPANet/sig/gghhh_bsm_500_275/gghhh-4pT40_4b-test-4b_SPANet_pairing.h5 DNN_features/sig/gghhh_bsm_500_275/gghhh-4pT40_4b-test-4b_SPANet_pairing.npy &\n",
      "python from_h5_to_DNN_features.py ../Sample/SPANet/sig/gghhh_bsm_500_275/gghhh-4pT40_6b-1-chi2_pairing.h5 DNN_features/sig/gghhh_bsm_500_275/gghhh-4pT40_6b-chi2_pairing.npy &\n",
      "python from_h5_to_DNN_features.py ../Sample/SPANet/sig/gghhh_bsm_500_275/gghhh-4pT40_6b-1-abs_pairing.h5 DNN_features/sig/gghhh_bsm_500_275/gghhh-4pT40_6b-abs_pairing.npy &\n",
      "python from_h5_to_DNN_features.py ../Sample/SPANet/sig/gghhh_bsm_500_275/gghhh-4pT40_6b-1-4b_SPANet_pairing.h5 DNN_features/sig/gghhh_bsm_500_275/gghhh-4pT40_6b-4b_SPANet_pairing.npy &\n",
      "python from_h5_to_DNN_features.py ../Sample/SPANet/sig/gghhh_bsm_500_300/gghhh-4pT40_4b-test-chi2_pairing.h5 DNN_features/sig/gghhh_bsm_500_300/gghhh-4pT40_4b-test-chi2_pairing.npy &\n",
      "python from_h5_to_DNN_features.py ../Sample/SPANet/sig/gghhh_bsm_500_300/gghhh-4pT40_4b-test-abs_pairing.h5 DNN_features/sig/gghhh_bsm_500_300/gghhh-4pT40_4b-test-abs_pairing.npy &\n",
      "python from_h5_to_DNN_features.py ../Sample/SPANet/sig/gghhh_bsm_500_300/gghhh-4pT40_4b-test-4b_SPANet_pairing.h5 DNN_features/sig/gghhh_bsm_500_300/gghhh-4pT40_4b-test-4b_SPANet_pairing.npy &\n",
      "python from_h5_to_DNN_features.py ../Sample/SPANet/sig/gghhh_bsm_500_300/gghhh-4pT40_6b-1-chi2_pairing.h5 DNN_features/sig/gghhh_bsm_500_300/gghhh-4pT40_6b-chi2_pairing.npy &\n",
      "python from_h5_to_DNN_features.py ../Sample/SPANet/sig/gghhh_bsm_500_300/gghhh-4pT40_6b-1-abs_pairing.h5 DNN_features/sig/gghhh_bsm_500_300/gghhh-4pT40_6b-abs_pairing.npy &\n",
      "python from_h5_to_DNN_features.py ../Sample/SPANet/sig/gghhh_bsm_500_300/gghhh-4pT40_6b-1-4b_SPANet_pairing.h5 DNN_features/sig/gghhh_bsm_500_300/gghhh-4pT40_6b-4b_SPANet_pairing.npy &\n",
      "python from_h5_to_DNN_features.py ../Sample/SPANet/sig/gghhh_bsm_520_325/gghhh-4pT40_4b-test-chi2_pairing.h5 DNN_features/sig/gghhh_bsm_520_325/gghhh-4pT40_4b-test-chi2_pairing.npy &\n",
      "python from_h5_to_DNN_features.py ../Sample/SPANet/sig/gghhh_bsm_520_325/gghhh-4pT40_4b-test-abs_pairing.h5 DNN_features/sig/gghhh_bsm_520_325/gghhh-4pT40_4b-test-abs_pairing.npy &\n",
      "python from_h5_to_DNN_features.py ../Sample/SPANet/sig/gghhh_bsm_520_325/gghhh-4pT40_4b-test-4b_SPANet_pairing.h5 DNN_features/sig/gghhh_bsm_520_325/gghhh-4pT40_4b-test-4b_SPANet_pairing.npy &\n",
      "python from_h5_to_DNN_features.py ../Sample/SPANet/sig/gghhh_bsm_520_325/gghhh-4pT40_6b-1-chi2_pairing.h5 DNN_features/sig/gghhh_bsm_520_325/gghhh-4pT40_6b-chi2_pairing.npy &\n",
      "python from_h5_to_DNN_features.py ../Sample/SPANet/sig/gghhh_bsm_520_325/gghhh-4pT40_6b-1-abs_pairing.h5 DNN_features/sig/gghhh_bsm_520_325/gghhh-4pT40_6b-abs_pairing.npy &\n",
      "python from_h5_to_DNN_features.py ../Sample/SPANet/sig/gghhh_bsm_520_325/gghhh-4pT40_6b-1-4b_SPANet_pairing.h5 DNN_features/sig/gghhh_bsm_520_325/gghhh-4pT40_6b-4b_SPANet_pairing.npy &\n",
      "python from_h5_to_DNN_features.py ../Sample/SPANet/bkg/pp6b-4pT40_4b-test-chi2_pairing.h5 DNN_features/bkg/pp6b-4pT40_4b-test-chi2_pairing.npy &\n",
      "python from_h5_to_DNN_features.py ../Sample/SPANet/bkg/pp6b-4pT40_4b-test-abs_pairing.h5 DNN_features/bkg/pp6b-4pT40_4b-test-abs_pairing.npy &\n",
      "python from_h5_to_DNN_features.py ../Sample/SPANet/bkg/pp6b-4pT40_4b-test-4b_SPANet_pairing.h5 DNN_features/bkg/pp6b-4pT40_4b-test-4b_SPANet_pairing.npy &\n",
      "python from_h5_to_DNN_features.py ../Sample/SPANet/bkg/pp6b-4pT40_6b-1-chi2_pairing.h5 DNN_features/bkg/pp6b-4pT40_6b-chi2_pairing.npy &\n",
      "python from_h5_to_DNN_features.py ../Sample/SPANet/bkg/pp6b-4pT40_6b-1-abs_pairing.h5 DNN_features/bkg/pp6b-4pT40_6b-abs_pairing.npy &\n",
      "python from_h5_to_DNN_features.py ../Sample/SPANet/bkg/pp6b-4pT40_6b-1-4b_SPANet_pairing.h5 DNN_features/bkg/pp6b-4pT40_6b-4b_SPANet_pairing.npy &\n"
     ]
    }
   ],
   "source": [
    "for m3_m2 in ['420_280', '500_275', '500_300', '520_325']:\n",
    "    h5_dir = Path(f'../Sample/SPANet/sig/gghhh_bsm_{m3_m2}')\n",
    "    output_dir = Path(f'./DNN_features/sig/gghhh_bsm_{m3_m2}')\n",
    "    output_dir.mkdir(parents=True, exist_ok=True)\n",
    "\n",
    "    h5_file = h5_dir / 'gghhh-4pT40_4b-test-chi2_pairing.h5'\n",
    "    output_file = output_dir / 'gghhh-4pT40_4b-test-chi2_pairing.npy'\n",
    "    cmd = f'python from_h5_to_DNN_features.py {h5_file} {output_file} &'\n",
    "    print(cmd)\n",
    "\n",
    "    h5_file = h5_dir / 'gghhh-4pT40_4b-test-abs_pairing.h5'\n",
    "    output_file = output_dir / 'gghhh-4pT40_4b-test-abs_pairing.npy'\n",
    "    cmd = f'python from_h5_to_DNN_features.py {h5_file} {output_file} &'\n",
    "    print(cmd)\n",
    "\n",
    "    h5_file = h5_dir / 'gghhh-4pT40_4b-test-4b_SPANet_pairing.h5'\n",
    "    output_file = output_dir / 'gghhh-4pT40_4b-test-4b_SPANet_pairing.npy'\n",
    "    cmd = f'python from_h5_to_DNN_features.py {h5_file} {output_file} &'\n",
    "    print(cmd)\n",
    "\n",
    "    h5_file = h5_dir / 'gghhh-4pT40_6b-1-chi2_pairing.h5'\n",
    "    output_file = output_dir / 'gghhh-4pT40_6b-chi2_pairing.npy'\n",
    "    cmd = f'python from_h5_to_DNN_features.py {h5_file} {output_file} &'\n",
    "    print(cmd)\n",
    "\n",
    "    h5_file = h5_dir / 'gghhh-4pT40_6b-1-abs_pairing.h5'\n",
    "    output_file = output_dir / 'gghhh-4pT40_6b-abs_pairing.npy'\n",
    "    cmd = f'python from_h5_to_DNN_features.py {h5_file} {output_file} &'\n",
    "    print(cmd)\n",
    "\n",
    "    h5_file = h5_dir / 'gghhh-4pT40_6b-1-4b_SPANet_pairing.h5'\n",
    "    output_file = output_dir / 'gghhh-4pT40_6b-4b_SPANet_pairing.npy'\n",
    "    cmd = f'python from_h5_to_DNN_features.py {h5_file} {output_file} &'\n",
    "    print(cmd)\n",
    "\n",
    "h5_dir = Path(f'../Sample/SPANet/bkg')\n",
    "output_dir = Path(f'./DNN_features/bkg')\n",
    "output_dir.mkdir(parents=True, exist_ok=True)\n",
    "\n",
    "h5_file = h5_dir / 'pp6b-4pT40_4b-test-chi2_pairing.h5'\n",
    "output_file = output_dir / 'pp6b-4pT40_4b-test-chi2_pairing.npy'\n",
    "cmd = f'python from_h5_to_DNN_features.py {h5_file} {output_file} &'\n",
    "print(cmd)\n",
    "\n",
    "h5_file = h5_dir / 'pp6b-4pT40_4b-test-abs_pairing.h5'\n",
    "output_file = output_dir / 'pp6b-4pT40_4b-test-abs_pairing.npy'\n",
    "cmd = f'python from_h5_to_DNN_features.py {h5_file} {output_file} &'\n",
    "print(cmd)\n",
    "\n",
    "h5_file = h5_dir / 'pp6b-4pT40_4b-test-4b_SPANet_pairing.h5'\n",
    "output_file = output_dir / 'pp6b-4pT40_4b-test-4b_SPANet_pairing.npy'\n",
    "cmd = f'python from_h5_to_DNN_features.py {h5_file} {output_file} &'\n",
    "print(cmd)\n",
    "\n",
    "h5_file = h5_dir / 'pp6b-4pT40_6b-1-chi2_pairing.h5'\n",
    "output_file = output_dir / 'pp6b-4pT40_6b-chi2_pairing.npy'\n",
    "cmd = f'python from_h5_to_DNN_features.py {h5_file} {output_file} &'\n",
    "print(cmd)\n",
    "\n",
    "h5_file = h5_dir / 'pp6b-4pT40_6b-1-abs_pairing.h5'\n",
    "output_file = output_dir / 'pp6b-4pT40_6b-abs_pairing.npy'\n",
    "cmd = f'python from_h5_to_DNN_features.py {h5_file} {output_file} &'\n",
    "print(cmd)\n",
    "\n",
    "h5_file = h5_dir / 'pp6b-4pT40_6b-1-4b_SPANet_pairing.h5'\n",
    "output_file = output_dir / 'pp6b-4pT40_6b-4b_SPANet_pairing.npy'\n",
    "cmd = f'python from_h5_to_DNN_features.py {h5_file} {output_file} &'\n",
    "print(cmd)"
   ]
  }
 ],
 "metadata": {
  "kernelspec": {
   "display_name": "jupyter",
   "language": "python",
   "name": "python3"
  },
  "language_info": {
   "codemirror_mode": {
    "name": "ipython",
    "version": 3
   },
   "file_extension": ".py",
   "mimetype": "text/x-python",
   "name": "python",
   "nbconvert_exporter": "python",
   "pygments_lexer": "ipython3",
   "version": "3.8.16"
  }
 },
 "nbformat": 4,
 "nbformat_minor": 2
}
