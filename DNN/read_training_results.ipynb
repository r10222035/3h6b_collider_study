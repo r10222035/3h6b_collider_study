{
 "cells": [
  {
   "cell_type": "code",
   "execution_count": 1,
   "metadata": {},
   "outputs": [],
   "source": [
    "import pandas as pd"
   ]
  },
  {
   "cell_type": "code",
   "execution_count": 2,
   "metadata": {},
   "outputs": [],
   "source": [
    "file_name = './resonant_DNN_training_results.csv'\n",
    "df = pd.read_csv(file_name)\n",
    "df = df.query(\"time > '2024-10-08' and time < '2024-10-09'\")"
   ]
  },
  {
   "cell_type": "code",
   "execution_count": 3,
   "metadata": {},
   "outputs": [
    {
     "name": "stdout",
     "output_type": "stream",
     "text": [
      "Resonant, Absolute value pairing\n",
      "ACC: 0.836 ± 0.003\n",
      "AUC: 0.899 ± 0.005\n"
     ]
    }
   ],
   "source": [
    "ACC = df[df['Sample Type'] == 'Resonant, Absolute value pairing']['ACC']\n",
    "AUC = df[df['Sample Type'] == 'Resonant, Absolute value pairing']['AUC']\n",
    "\n",
    "print('Resonant, Absolute value pairing')\n",
    "print(f'ACC: {ACC.mean():.3f} ± {ACC.std():.3f}')\n",
    "print(f'AUC: {AUC.mean():.3f} ± {AUC.std():.3f}')"
   ]
  },
  {
   "cell_type": "code",
   "execution_count": 4,
   "metadata": {},
   "outputs": [
    {
     "name": "stdout",
     "output_type": "stream",
     "text": [
      "Resonant, SPANet pairing\n",
      "ACC: 0.831 ± 0.006\n",
      "AUC: 0.900 ± 0.007\n"
     ]
    }
   ],
   "source": [
    "ACC = df[df['Sample Type'] == 'Resonant, 4b SPANet pairing']['ACC']\n",
    "AUC = df[df['Sample Type'] == 'Resonant, 4b SPANet pairing']['AUC']\n",
    "\n",
    "print('Resonant, SPANet pairing')\n",
    "print(f'ACC: {ACC.mean():.3f} ± {ACC.std():.3f}')\n",
    "print(f'AUC: {AUC.mean():.3f} ± {AUC.std():.3f}')"
   ]
  },
  {
   "cell_type": "code",
   "execution_count": 5,
   "metadata": {},
   "outputs": [
    {
     "name": "stdout",
     "output_type": "stream",
     "text": [
      "Resonant, chi2 pairing\n",
      "ACC: 0.836 ± 0.002\n",
      "AUC: 0.902 ± 0.003\n"
     ]
    }
   ],
   "source": [
    "ACC = df[df['Sample Type'] == 'Resonant, chi2 pairing']['ACC']\n",
    "AUC = df[df['Sample Type'] == 'Resonant, chi2 pairing']['AUC']\n",
    "\n",
    "print('Resonant, chi2 pairing')\n",
    "print(f'ACC: {ACC.mean():.3f} ± {ACC.std():.3f}')\n",
    "print(f'AUC: {AUC.mean():.3f} ± {AUC.std():.3f}')"
   ]
  },
  {
   "cell_type": "code",
   "execution_count": 6,
   "metadata": {},
   "outputs": [],
   "source": [
    "file_name = './resonant_DNN_training_results.csv'\n",
    "df = pd.read_csv(file_name)\n",
    "df = df.query(\"time > '2024-10-29' and time < '2024-10-29 16'\")"
   ]
  },
  {
   "cell_type": "code",
   "execution_count": 7,
   "metadata": {},
   "outputs": [
    {
     "name": "stdout",
     "output_type": "stream",
     "text": [
      "Resonant, Absolute value pairing\n",
      "ACC: 0.846 ± 0.002\n",
      "AUC: 0.910 ± 0.003\n"
     ]
    }
   ],
   "source": [
    "ACC = df[df['Sample Type'] == 'Resonant, Absolute value pairing']['ACC']\n",
    "AUC = df[df['Sample Type'] == 'Resonant, Absolute value pairing']['AUC']\n",
    "\n",
    "print('Resonant, Absolute value pairing')\n",
    "print(f'ACC: {ACC.mean():.3f} ± {ACC.std():.3f}')\n",
    "print(f'AUC: {AUC.mean():.3f} ± {AUC.std():.3f}')"
   ]
  },
  {
   "cell_type": "code",
   "execution_count": 9,
   "metadata": {},
   "outputs": [
    {
     "name": "stdout",
     "output_type": "stream",
     "text": [
      "Resonant, chi2 pairing\n",
      "ACC: 0.842 ± 0.004\n",
      "AUC: 0.907 ± 0.004\n"
     ]
    }
   ],
   "source": [
    "ACC = df[df['Sample Type'] == 'Resonant, chi2 pairing']['ACC']\n",
    "AUC = df[df['Sample Type'] == 'Resonant, chi2 pairing']['AUC']\n",
    "\n",
    "print('Resonant, chi2 pairing')\n",
    "print(f'ACC: {ACC.mean():.3f} ± {ACC.std():.3f}')\n",
    "print(f'AUC: {AUC.mean():.3f} ± {AUC.std():.3f}')"
   ]
  },
  {
   "cell_type": "code",
   "execution_count": 8,
   "metadata": {},
   "outputs": [
    {
     "name": "stdout",
     "output_type": "stream",
     "text": [
      "Resonant, SPANet pairing\n",
      "ACC: 0.837 ± 0.005\n",
      "AUC: 0.907 ± 0.005\n"
     ]
    }
   ],
   "source": [
    "ACC = df[df['Sample Type'] == 'Resonant, 4b SPANet pairing']['ACC']\n",
    "AUC = df[df['Sample Type'] == 'Resonant, 4b SPANet pairing']['AUC']\n",
    "\n",
    "print('Resonant, SPANet pairing')\n",
    "print(f'ACC: {ACC.mean():.3f} ± {ACC.std():.3f}')\n",
    "print(f'AUC: {AUC.mean():.3f} ± {AUC.std():.3f}')"
   ]
  },
  {
   "cell_type": "code",
   "execution_count": 10,
   "metadata": {},
   "outputs": [],
   "source": [
    "file_name = './resonant_DNN_training_results.csv'\n",
    "df = pd.read_csv(file_name)\n",
    "df = df.query(\"time > '2024-11-05 15' and time < '2024-11-05 21:11:18'\")"
   ]
  },
  {
   "cell_type": "code",
   "execution_count": 11,
   "metadata": {},
   "outputs": [
    {
     "name": "stdout",
     "output_type": "stream",
     "text": [
      "Resonant, Absolute value pairing\n",
      "ACC: 0.782 ± 0.057\n",
      "AUC: 0.844 ± 0.076\n"
     ]
    }
   ],
   "source": [
    "ACC = df[df['Sample Type'] == 'Resonant, Absolute value pairing, 4 b-tagged jets']['ACC']\n",
    "AUC = df[df['Sample Type'] == 'Resonant, Absolute value pairing, 4 b-tagged jets']['AUC']\n",
    "\n",
    "print('Resonant, Absolute value pairing')\n",
    "print(f'ACC: {ACC.mean():.3f} ± {ACC.std():.3f}')\n",
    "print(f'AUC: {AUC.mean():.3f} ± {AUC.std():.3f}')"
   ]
  },
  {
   "cell_type": "code",
   "execution_count": 13,
   "metadata": {},
   "outputs": [
    {
     "name": "stdout",
     "output_type": "stream",
     "text": [
      "Resonant, chi2 pairing\n",
      "ACC: 0.800 ± 0.004\n",
      "AUC: 0.867 ± 0.005\n"
     ]
    }
   ],
   "source": [
    "ACC = df[df['Sample Type'] == 'Resonant, chi2 pairing, 4 b-tagged jets']['ACC']\n",
    "AUC = df[df['Sample Type'] == 'Resonant, chi2 pairing, 4 b-tagged jets']['AUC']\n",
    "\n",
    "print('Resonant, chi2 pairing')\n",
    "print(f'ACC: {ACC.mean():.3f} ± {ACC.std():.3f}')\n",
    "print(f'AUC: {AUC.mean():.3f} ± {AUC.std():.3f}')"
   ]
  },
  {
   "cell_type": "code",
   "execution_count": 12,
   "metadata": {},
   "outputs": [
    {
     "name": "stdout",
     "output_type": "stream",
     "text": [
      "Resonant, SPANet pairing\n",
      "ACC: 0.798 ± 0.004\n",
      "AUC: 0.870 ± 0.008\n"
     ]
    }
   ],
   "source": [
    "ACC = df[df['Sample Type'] == 'Resonant, 4b SPANet pairing, 4 b-tagged jets']['ACC']\n",
    "AUC = df[df['Sample Type'] == 'Resonant, 4b SPANet pairing, 4 b-tagged jets']['AUC']\n",
    "\n",
    "print('Resonant, SPANet pairing')\n",
    "print(f'ACC: {ACC.mean():.3f} ± {ACC.std():.3f}')\n",
    "print(f'AUC: {AUC.mean():.3f} ± {AUC.std():.3f}')"
   ]
  },
  {
   "cell_type": "code",
   "execution_count": 14,
   "metadata": {},
   "outputs": [],
   "source": [
    "file_name = './resonant_DNN_training_results.csv'\n",
    "df = pd.read_csv(file_name)\n",
    "df = df.query(\"time > '2024-11-05 21:11:18' and time < '2024-11-06 08'\")"
   ]
  },
  {
   "cell_type": "code",
   "execution_count": 15,
   "metadata": {},
   "outputs": [
    {
     "name": "stdout",
     "output_type": "stream",
     "text": [
      "Resonant, Absolute value pairing\n",
      "ACC: 0.803 ± 0.005\n",
      "AUC: 0.870 ± 0.006\n"
     ]
    }
   ],
   "source": [
    "ACC = df[df['Sample Type'] == 'Resonant, Absolute value pairing, 4 b-tagged jets']['ACC']\n",
    "AUC = df[df['Sample Type'] == 'Resonant, Absolute value pairing, 4 b-tagged jets']['AUC']\n",
    "\n",
    "print('Resonant, Absolute value pairing')\n",
    "print(f'ACC: {ACC.mean():.3f} ± {ACC.std():.3f}')\n",
    "print(f'AUC: {AUC.mean():.3f} ± {AUC.std():.3f}')"
   ]
  },
  {
   "cell_type": "code",
   "execution_count": 17,
   "metadata": {},
   "outputs": [
    {
     "name": "stdout",
     "output_type": "stream",
     "text": [
      "Resonant, chi2 pairing\n",
      "ACC: 0.803 ± 0.005\n",
      "AUC: 0.871 ± 0.005\n"
     ]
    }
   ],
   "source": [
    "ACC = df[df['Sample Type'] == 'Resonant, chi2 pairing, 4 b-tagged jets']['ACC']\n",
    "AUC = df[df['Sample Type'] == 'Resonant, chi2 pairing, 4 b-tagged jets']['AUC']\n",
    "\n",
    "print('Resonant, chi2 pairing')\n",
    "print(f'ACC: {ACC.mean():.3f} ± {ACC.std():.3f}')\n",
    "print(f'AUC: {AUC.mean():.3f} ± {AUC.std():.3f}')"
   ]
  },
  {
   "cell_type": "code",
   "execution_count": 16,
   "metadata": {},
   "outputs": [
    {
     "name": "stdout",
     "output_type": "stream",
     "text": [
      "Resonant, SPANet pairing\n",
      "ACC: 0.807 ± 0.008\n",
      "AUC: 0.878 ± 0.007\n"
     ]
    }
   ],
   "source": [
    "ACC = df[df['Sample Type'] == 'Resonant, 4b SPANet pairing, 4 b-tagged jets']['ACC']\n",
    "AUC = df[df['Sample Type'] == 'Resonant, 4b SPANet pairing, 4 b-tagged jets']['AUC']\n",
    "\n",
    "print('Resonant, SPANet pairing')\n",
    "print(f'ACC: {ACC.mean():.3f} ± {ACC.std():.3f}')\n",
    "print(f'AUC: {AUC.mean():.3f} ± {AUC.std():.3f}')"
   ]
  }
 ],
 "metadata": {
  "kernelspec": {
   "display_name": "jupyter",
   "language": "python",
   "name": "python3"
  },
  "language_info": {
   "codemirror_mode": {
    "name": "ipython",
    "version": 3
   },
   "file_extension": ".py",
   "mimetype": "text/x-python",
   "name": "python",
   "nbconvert_exporter": "python",
   "pygments_lexer": "ipython3",
   "version": "3.8.16"
  }
 },
 "nbformat": 4,
 "nbformat_minor": 2
}
