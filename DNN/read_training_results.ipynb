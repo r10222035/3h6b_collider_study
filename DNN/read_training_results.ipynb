{
 "cells": [
  {
   "cell_type": "code",
   "execution_count": 1,
   "metadata": {},
   "outputs": [],
   "source": [
    "import pandas as pd"
   ]
  },
  {
   "cell_type": "code",
   "execution_count": 2,
   "metadata": {},
   "outputs": [],
   "source": [
    "def print_ACC_AUC(df, sample_type):\n",
    "    ACC = df[df['Sample Type'] == sample_type]['ACC']\n",
    "    AUC = df[df['Sample Type'] == sample_type]['AUC']\n",
    "\n",
    "    print(sample_type)\n",
    "    print(f'ACC: {ACC.mean():.4f} ± {ACC.std():.4f}')\n",
    "    print(f'AUC: {AUC.mean():.4f} ± {AUC.std():.4f}')\n",
    "    print(f'${ACC.mean():.4f} \\pm {ACC.std():.4f}$ & ${AUC.mean():.4f} \\pm {AUC.std():.4f}$')"
   ]
  },
  {
   "cell_type": "markdown",
   "metadata": {},
   "source": [
    "# 6b 25k"
   ]
  },
  {
   "cell_type": "code",
   "execution_count": 3,
   "metadata": {},
   "outputs": [],
   "source": [
    "file_name = './resonant_DNN_training_results.csv'\n",
    "df = pd.read_csv(file_name)\n",
    "df = df.query(\"time > '2024-10-08' and time < '2024-10-09'\")"
   ]
  },
  {
   "cell_type": "code",
   "execution_count": 4,
   "metadata": {},
   "outputs": [
    {
     "name": "stdout",
     "output_type": "stream",
     "text": [
      "Resonant, Absolute value pairing\n",
      "ACC: 0.836 ± 0.003\n",
      "AUC: 0.899 ± 0.005\n"
     ]
    }
   ],
   "source": [
    "ACC = df[df['Sample Type'] == 'Resonant, Absolute value pairing']['ACC']\n",
    "AUC = df[df['Sample Type'] == 'Resonant, Absolute value pairing']['AUC']\n",
    "\n",
    "print('Resonant, Absolute value pairing')\n",
    "print(f'ACC: {ACC.mean():.3f} ± {ACC.std():.3f}')\n",
    "print(f'AUC: {AUC.mean():.3f} ± {AUC.std():.3f}')"
   ]
  },
  {
   "cell_type": "code",
   "execution_count": 5,
   "metadata": {},
   "outputs": [
    {
     "name": "stdout",
     "output_type": "stream",
     "text": [
      "Resonant, SPANet pairing\n",
      "ACC: 0.831 ± 0.006\n",
      "AUC: 0.900 ± 0.007\n"
     ]
    }
   ],
   "source": [
    "ACC = df[df['Sample Type'] == 'Resonant, 4b SPANet pairing']['ACC']\n",
    "AUC = df[df['Sample Type'] == 'Resonant, 4b SPANet pairing']['AUC']\n",
    "\n",
    "print('Resonant, SPANet pairing')\n",
    "print(f'ACC: {ACC.mean():.3f} ± {ACC.std():.3f}')\n",
    "print(f'AUC: {AUC.mean():.3f} ± {AUC.std():.3f}')"
   ]
  },
  {
   "cell_type": "code",
   "execution_count": 6,
   "metadata": {},
   "outputs": [
    {
     "name": "stdout",
     "output_type": "stream",
     "text": [
      "Resonant, chi2 pairing\n",
      "ACC: 0.836 ± 0.002\n",
      "AUC: 0.902 ± 0.003\n"
     ]
    }
   ],
   "source": [
    "ACC = df[df['Sample Type'] == 'Resonant, chi2 pairing']['ACC']\n",
    "AUC = df[df['Sample Type'] == 'Resonant, chi2 pairing']['AUC']\n",
    "\n",
    "print('Resonant, chi2 pairing')\n",
    "print(f'ACC: {ACC.mean():.3f} ± {ACC.std():.3f}')\n",
    "print(f'AUC: {AUC.mean():.3f} ± {AUC.std():.3f}')"
   ]
  },
  {
   "cell_type": "markdown",
   "metadata": {},
   "source": [
    "# 6b 50k"
   ]
  },
  {
   "cell_type": "code",
   "execution_count": 7,
   "metadata": {},
   "outputs": [],
   "source": [
    "file_name = './resonant_DNN_training_results.csv'\n",
    "df = pd.read_csv(file_name)\n",
    "df = df.query(\"time > '2024-10-29' and time < '2024-10-29 16'\")"
   ]
  },
  {
   "cell_type": "code",
   "execution_count": 8,
   "metadata": {},
   "outputs": [
    {
     "name": "stdout",
     "output_type": "stream",
     "text": [
      "Resonant, Absolute value pairing\n",
      "ACC: 0.846 ± 0.002\n",
      "AUC: 0.910 ± 0.003\n"
     ]
    }
   ],
   "source": [
    "ACC = df[df['Sample Type'] == 'Resonant, Absolute value pairing']['ACC']\n",
    "AUC = df[df['Sample Type'] == 'Resonant, Absolute value pairing']['AUC']\n",
    "\n",
    "print('Resonant, Absolute value pairing')\n",
    "print(f'ACC: {ACC.mean():.3f} ± {ACC.std():.3f}')\n",
    "print(f'AUC: {AUC.mean():.3f} ± {AUC.std():.3f}')"
   ]
  },
  {
   "cell_type": "code",
   "execution_count": 9,
   "metadata": {},
   "outputs": [
    {
     "name": "stdout",
     "output_type": "stream",
     "text": [
      "Resonant, chi2 pairing\n",
      "ACC: 0.842 ± 0.004\n",
      "AUC: 0.907 ± 0.004\n"
     ]
    }
   ],
   "source": [
    "ACC = df[df['Sample Type'] == 'Resonant, chi2 pairing']['ACC']\n",
    "AUC = df[df['Sample Type'] == 'Resonant, chi2 pairing']['AUC']\n",
    "\n",
    "print('Resonant, chi2 pairing')\n",
    "print(f'ACC: {ACC.mean():.3f} ± {ACC.std():.3f}')\n",
    "print(f'AUC: {AUC.mean():.3f} ± {AUC.std():.3f}')"
   ]
  },
  {
   "cell_type": "code",
   "execution_count": 10,
   "metadata": {},
   "outputs": [
    {
     "name": "stdout",
     "output_type": "stream",
     "text": [
      "Resonant, SPANet pairing\n",
      "ACC: 0.837 ± 0.005\n",
      "AUC: 0.907 ± 0.005\n"
     ]
    }
   ],
   "source": [
    "ACC = df[df['Sample Type'] == 'Resonant, 4b SPANet pairing']['ACC']\n",
    "AUC = df[df['Sample Type'] == 'Resonant, 4b SPANet pairing']['AUC']\n",
    "\n",
    "print('Resonant, SPANet pairing')\n",
    "print(f'ACC: {ACC.mean():.3f} ± {ACC.std():.3f}')\n",
    "print(f'AUC: {AUC.mean():.3f} ± {AUC.std():.3f}')"
   ]
  },
  {
   "cell_type": "markdown",
   "metadata": {},
   "source": [
    "# 4b 50k"
   ]
  },
  {
   "cell_type": "code",
   "execution_count": 11,
   "metadata": {},
   "outputs": [],
   "source": [
    "file_name = './resonant_DNN_training_results.csv'\n",
    "df = pd.read_csv(file_name)\n",
    "df = df.query(\"time > '2024-11-05 15' and time < '2024-11-05 21:11:18'\")"
   ]
  },
  {
   "cell_type": "code",
   "execution_count": 12,
   "metadata": {},
   "outputs": [
    {
     "name": "stdout",
     "output_type": "stream",
     "text": [
      "Resonant, Absolute value pairing\n",
      "ACC: 0.782 ± 0.057\n",
      "AUC: 0.844 ± 0.076\n"
     ]
    }
   ],
   "source": [
    "ACC = df[df['Sample Type'] == 'Resonant, Absolute value pairing, 4 b-tagged jets']['ACC']\n",
    "AUC = df[df['Sample Type'] == 'Resonant, Absolute value pairing, 4 b-tagged jets']['AUC']\n",
    "\n",
    "print('Resonant, Absolute value pairing')\n",
    "print(f'ACC: {ACC.mean():.3f} ± {ACC.std():.3f}')\n",
    "print(f'AUC: {AUC.mean():.3f} ± {AUC.std():.3f}')"
   ]
  },
  {
   "cell_type": "code",
   "execution_count": 13,
   "metadata": {},
   "outputs": [
    {
     "name": "stdout",
     "output_type": "stream",
     "text": [
      "Resonant, chi2 pairing\n",
      "ACC: 0.800 ± 0.004\n",
      "AUC: 0.867 ± 0.005\n"
     ]
    }
   ],
   "source": [
    "ACC = df[df['Sample Type'] == 'Resonant, chi2 pairing, 4 b-tagged jets']['ACC']\n",
    "AUC = df[df['Sample Type'] == 'Resonant, chi2 pairing, 4 b-tagged jets']['AUC']\n",
    "\n",
    "print('Resonant, chi2 pairing')\n",
    "print(f'ACC: {ACC.mean():.3f} ± {ACC.std():.3f}')\n",
    "print(f'AUC: {AUC.mean():.3f} ± {AUC.std():.3f}')"
   ]
  },
  {
   "cell_type": "code",
   "execution_count": 14,
   "metadata": {},
   "outputs": [
    {
     "name": "stdout",
     "output_type": "stream",
     "text": [
      "Resonant, SPANet pairing\n",
      "ACC: 0.798 ± 0.004\n",
      "AUC: 0.870 ± 0.008\n"
     ]
    }
   ],
   "source": [
    "ACC = df[df['Sample Type'] == 'Resonant, 4b SPANet pairing, 4 b-tagged jets']['ACC']\n",
    "AUC = df[df['Sample Type'] == 'Resonant, 4b SPANet pairing, 4 b-tagged jets']['AUC']\n",
    "\n",
    "print('Resonant, SPANet pairing')\n",
    "print(f'ACC: {ACC.mean():.3f} ± {ACC.std():.3f}')\n",
    "print(f'AUC: {AUC.mean():.3f} ± {AUC.std():.3f}')"
   ]
  },
  {
   "cell_type": "markdown",
   "metadata": {},
   "source": [
    "# 4b 100k"
   ]
  },
  {
   "cell_type": "code",
   "execution_count": 15,
   "metadata": {},
   "outputs": [],
   "source": [
    "file_name = './resonant_DNN_training_results.csv'\n",
    "df = pd.read_csv(file_name)\n",
    "df = df.query(\"time > '2024-11-05 21:11:18' and time < '2024-11-06 08'\")"
   ]
  },
  {
   "cell_type": "code",
   "execution_count": 16,
   "metadata": {},
   "outputs": [
    {
     "name": "stdout",
     "output_type": "stream",
     "text": [
      "Resonant, Absolute value pairing\n",
      "ACC: 0.803 ± 0.005\n",
      "AUC: 0.870 ± 0.006\n"
     ]
    }
   ],
   "source": [
    "ACC = df[df['Sample Type'] == 'Resonant, Absolute value pairing, 4 b-tagged jets']['ACC']\n",
    "AUC = df[df['Sample Type'] == 'Resonant, Absolute value pairing, 4 b-tagged jets']['AUC']\n",
    "\n",
    "print('Resonant, Absolute value pairing')\n",
    "print(f'ACC: {ACC.mean():.3f} ± {ACC.std():.3f}')\n",
    "print(f'AUC: {AUC.mean():.3f} ± {AUC.std():.3f}')"
   ]
  },
  {
   "cell_type": "code",
   "execution_count": 17,
   "metadata": {},
   "outputs": [
    {
     "name": "stdout",
     "output_type": "stream",
     "text": [
      "Resonant, chi2 pairing\n",
      "ACC: 0.803 ± 0.005\n",
      "AUC: 0.871 ± 0.005\n"
     ]
    }
   ],
   "source": [
    "ACC = df[df['Sample Type'] == 'Resonant, chi2 pairing, 4 b-tagged jets']['ACC']\n",
    "AUC = df[df['Sample Type'] == 'Resonant, chi2 pairing, 4 b-tagged jets']['AUC']\n",
    "\n",
    "print('Resonant, chi2 pairing')\n",
    "print(f'ACC: {ACC.mean():.3f} ± {ACC.std():.3f}')\n",
    "print(f'AUC: {AUC.mean():.3f} ± {AUC.std():.3f}')"
   ]
  },
  {
   "cell_type": "code",
   "execution_count": 18,
   "metadata": {},
   "outputs": [
    {
     "name": "stdout",
     "output_type": "stream",
     "text": [
      "Resonant, SPANet pairing\n",
      "ACC: 0.807 ± 0.008\n",
      "AUC: 0.878 ± 0.007\n"
     ]
    }
   ],
   "source": [
    "ACC = df[df['Sample Type'] == 'Resonant, 4b SPANet pairing, 4 b-tagged jets']['ACC']\n",
    "AUC = df[df['Sample Type'] == 'Resonant, 4b SPANet pairing, 4 b-tagged jets']['AUC']\n",
    "\n",
    "print('Resonant, SPANet pairing')\n",
    "print(f'ACC: {ACC.mean():.3f} ± {ACC.std():.3f}')\n",
    "print(f'AUC: {AUC.mean():.3f} ± {AUC.std():.3f}')"
   ]
  },
  {
   "cell_type": "markdown",
   "metadata": {},
   "source": [
    "# 4b 500k"
   ]
  },
  {
   "cell_type": "code",
   "execution_count": 19,
   "metadata": {},
   "outputs": [],
   "source": [
    "file_name = './resonant_DNN_training_results.csv'\n",
    "df = pd.read_csv(file_name)\n",
    "df = df.query(\"time > '2024-11-18' and time < '2024-11-19'\")"
   ]
  },
  {
   "cell_type": "code",
   "execution_count": 20,
   "metadata": {},
   "outputs": [
    {
     "name": "stdout",
     "output_type": "stream",
     "text": [
      "Resonant, Absolute value pairing\n",
      "ACC: 0.813 ± 0.007\n",
      "AUC: 0.881 ± 0.012\n"
     ]
    }
   ],
   "source": [
    "ACC = df[df['Sample Type'] == 'Resonant, Absolute value pairing, 4 b-tagged jets']['ACC']\n",
    "AUC = df[df['Sample Type'] == 'Resonant, Absolute value pairing, 4 b-tagged jets']['AUC']\n",
    "\n",
    "print('Resonant, Absolute value pairing')\n",
    "print(f'ACC: {ACC.mean():.3f} ± {ACC.std():.3f}')\n",
    "print(f'AUC: {AUC.mean():.3f} ± {AUC.std():.3f}')"
   ]
  },
  {
   "cell_type": "code",
   "execution_count": 21,
   "metadata": {},
   "outputs": [
    {
     "name": "stdout",
     "output_type": "stream",
     "text": [
      "Resonant, chi2 pairing\n",
      "ACC: 0.813 ± 0.004\n",
      "AUC: 0.882 ± 0.005\n"
     ]
    }
   ],
   "source": [
    "ACC = df[df['Sample Type'] == 'Resonant, chi2 pairing, 4 b-tagged jets']['ACC']\n",
    "AUC = df[df['Sample Type'] == 'Resonant, chi2 pairing, 4 b-tagged jets']['AUC']\n",
    "\n",
    "print('Resonant, chi2 pairing')\n",
    "print(f'ACC: {ACC.mean():.3f} ± {ACC.std():.3f}')\n",
    "print(f'AUC: {AUC.mean():.3f} ± {AUC.std():.3f}')"
   ]
  },
  {
   "cell_type": "code",
   "execution_count": 22,
   "metadata": {},
   "outputs": [
    {
     "name": "stdout",
     "output_type": "stream",
     "text": [
      "Resonant, SPANet pairing\n",
      "ACC: 0.810 ± 0.004\n",
      "AUC: 0.881 ± 0.006\n"
     ]
    }
   ],
   "source": [
    "ACC = df[df['Sample Type'] == 'Resonant, 4b SPANet pairing, 4 b-tagged jets']['ACC']\n",
    "AUC = df[df['Sample Type'] == 'Resonant, 4b SPANet pairing, 4 b-tagged jets']['AUC']\n",
    "\n",
    "print('Resonant, SPANet pairing')\n",
    "print(f'ACC: {ACC.mean():.3f} ± {ACC.std():.3f}')\n",
    "print(f'AUC: {AUC.mean():.3f} ± {AUC.std():.3f}')"
   ]
  },
  {
   "cell_type": "markdown",
   "metadata": {},
   "source": [
    "# 4b 500k 256 nodes"
   ]
  },
  {
   "cell_type": "code",
   "execution_count": 23,
   "metadata": {},
   "outputs": [],
   "source": [
    "file_name = './resonant_DNN_training_results.csv'\n",
    "df = pd.read_csv(file_name)\n",
    "df = df.query(\"time > '2024-11-19' and time < '2024-11-20'\")"
   ]
  },
  {
   "cell_type": "code",
   "execution_count": 24,
   "metadata": {},
   "outputs": [
    {
     "name": "stdout",
     "output_type": "stream",
     "text": [
      "Resonant, Absolute value pairing\n",
      "ACC: 0.8290 ± 0.0002\n",
      "AUC: 0.9024 ± 0.0002\n"
     ]
    }
   ],
   "source": [
    "ACC = df[df['Sample Type'] == 'Resonant, Absolute value pairing, 4 b-tagged jets']['ACC']\n",
    "AUC = df[df['Sample Type'] == 'Resonant, Absolute value pairing, 4 b-tagged jets']['AUC']\n",
    "\n",
    "print('Resonant, Absolute value pairing')\n",
    "print(f'ACC: {ACC.mean():.4f} ± {ACC.std():.4f}')\n",
    "print(f'AUC: {AUC.mean():.4f} ± {AUC.std():.4f}')"
   ]
  },
  {
   "cell_type": "code",
   "execution_count": 25,
   "metadata": {},
   "outputs": [
    {
     "name": "stdout",
     "output_type": "stream",
     "text": [
      "Resonant, chi2 pairing\n",
      "ACC: 0.8288 ± 0.0002\n",
      "AUC: 0.9022 ± 0.0002\n"
     ]
    }
   ],
   "source": [
    "ACC = df[df['Sample Type'] == 'Resonant, chi2 pairing, 4 b-tagged jets']['ACC']\n",
    "AUC = df[df['Sample Type'] == 'Resonant, chi2 pairing, 4 b-tagged jets']['AUC']\n",
    "\n",
    "print('Resonant, chi2 pairing')\n",
    "print(f'ACC: {ACC.mean():.4f} ± {ACC.std():.4f}')\n",
    "print(f'AUC: {AUC.mean():.4f} ± {AUC.std():.4f}')"
   ]
  },
  {
   "cell_type": "code",
   "execution_count": 26,
   "metadata": {},
   "outputs": [
    {
     "name": "stdout",
     "output_type": "stream",
     "text": [
      "Resonant, SPANet pairing\n",
      "ACC: 0.8318 ± 0.0003\n",
      "AUC: 0.9065 ± 0.0001\n"
     ]
    }
   ],
   "source": [
    "ACC = df[df['Sample Type'] == 'Resonant, 4b SPANet pairing, 4 b-tagged jets']['ACC']\n",
    "AUC = df[df['Sample Type'] == 'Resonant, 4b SPANet pairing, 4 b-tagged jets']['AUC']\n",
    "\n",
    "print('Resonant, SPANet pairing')\n",
    "print(f'ACC: {ACC.mean():.4f} ± {ACC.std():.4f}')\n",
    "print(f'AUC: {AUC.mean():.4f} ± {AUC.std():.4f}')"
   ]
  },
  {
   "cell_type": "markdown",
   "metadata": {},
   "source": [
    "# 4b 1M 256 nodes"
   ]
  },
  {
   "cell_type": "code",
   "execution_count": 27,
   "metadata": {},
   "outputs": [],
   "source": [
    "file_name = './resonant_DNN_training_results.csv'\n",
    "df = pd.read_csv(file_name)\n",
    "df = df.query(\"time > '2024-12-03' and time < '2024-12-04'\")"
   ]
  },
  {
   "cell_type": "code",
   "execution_count": 28,
   "metadata": {},
   "outputs": [
    {
     "name": "stdout",
     "output_type": "stream",
     "text": [
      "Resonant, Absolute value pairing\n",
      "ACC: 0.8418 ± 0.0002\n",
      "AUC: 0.9116 ± 0.0001\n"
     ]
    }
   ],
   "source": [
    "ACC = df[df['Sample Type'] == 'Resonant, Absolute value pairing, 4 b-tagged jets']['ACC']\n",
    "AUC = df[df['Sample Type'] == 'Resonant, Absolute value pairing, 4 b-tagged jets']['AUC']\n",
    "\n",
    "print('Resonant, Absolute value pairing')\n",
    "print(f'ACC: {ACC.mean():.4f} ± {ACC.std():.4f}')\n",
    "print(f'AUC: {AUC.mean():.4f} ± {AUC.std():.4f}')"
   ]
  },
  {
   "cell_type": "code",
   "execution_count": 29,
   "metadata": {},
   "outputs": [
    {
     "name": "stdout",
     "output_type": "stream",
     "text": [
      "Resonant, chi2 pairing\n",
      "ACC: 0.8412 ± 0.0002\n",
      "AUC: 0.9114 ± 0.0001\n"
     ]
    }
   ],
   "source": [
    "ACC = df[df['Sample Type'] == 'Resonant, chi2 pairing, 4 b-tagged jets']['ACC']\n",
    "AUC = df[df['Sample Type'] == 'Resonant, chi2 pairing, 4 b-tagged jets']['AUC']\n",
    "\n",
    "print('Resonant, chi2 pairing')\n",
    "print(f'ACC: {ACC.mean():.4f} ± {ACC.std():.4f}')\n",
    "print(f'AUC: {AUC.mean():.4f} ± {AUC.std():.4f}')"
   ]
  },
  {
   "cell_type": "code",
   "execution_count": 30,
   "metadata": {},
   "outputs": [
    {
     "name": "stdout",
     "output_type": "stream",
     "text": [
      "Resonant, SPANet pairing\n",
      "ACC: 0.8450 ± 0.0002\n",
      "AUC: 0.9164 ± 0.0002\n"
     ]
    }
   ],
   "source": [
    "ACC = df[df['Sample Type'] == 'Resonant, 4b SPANet pairing, 4 b-tagged jets']['ACC']\n",
    "AUC = df[df['Sample Type'] == 'Resonant, 4b SPANet pairing, 4 b-tagged jets']['AUC']\n",
    "\n",
    "print('Resonant, SPANet pairing')\n",
    "print(f'ACC: {ACC.mean():.4f} ± {ACC.std():.4f}')\n",
    "print(f'AUC: {AUC.mean():.4f} ± {AUC.std():.4f}')"
   ]
  },
  {
   "cell_type": "markdown",
   "metadata": {},
   "source": [
    "# 4b mixed mass 1M, 256 nodes"
   ]
  },
  {
   "cell_type": "code",
   "execution_count": 31,
   "metadata": {},
   "outputs": [],
   "source": [
    "file_name = './resonant_DNN_training_results.csv'\n",
    "df = pd.read_csv(file_name)\n",
    "df = df.query(\"time > '2024-12-17' and time < '2024-12-19'\")"
   ]
  },
  {
   "cell_type": "code",
   "execution_count": 32,
   "metadata": {},
   "outputs": [
    {
     "name": "stdout",
     "output_type": "stream",
     "text": [
      "Resonant, Mixed mass, Absolute value pairing, 4 b-tagged jets\n",
      "ACC: 0.7922 ± 0.0003\n",
      "AUC: 0.8680 ± 0.0002\n",
      "$0.7922 \\pm 0.0003$ & $0.8680 \\pm 0.0002$\n"
     ]
    }
   ],
   "source": [
    "sample_type = 'Resonant, Mixed mass, Absolute value pairing, 4 b-tagged jets'\n",
    "print_ACC_AUC(df, sample_type)"
   ]
  },
  {
   "cell_type": "code",
   "execution_count": 33,
   "metadata": {},
   "outputs": [
    {
     "name": "stdout",
     "output_type": "stream",
     "text": [
      "Resonant, Mixed mass, chi2 pairing, 4 b-tagged jets\n",
      "ACC: 0.7916 ± 0.0002\n",
      "AUC: 0.8670 ± 0.0001\n",
      "$0.7916 \\pm 0.0002$ & $0.8670 \\pm 0.0001$\n"
     ]
    }
   ],
   "source": [
    "sample_type = 'Resonant, Mixed mass, chi2 pairing, 4 b-tagged jets'\n",
    "print_ACC_AUC(df, sample_type)"
   ]
  },
  {
   "cell_type": "code",
   "execution_count": 34,
   "metadata": {},
   "outputs": [
    {
     "name": "stdout",
     "output_type": "stream",
     "text": [
      "Resonant, Mixed mass, 4b SPANet pairing, 4 b-tagged jets\n",
      "ACC: 0.7921 ± 0.0003\n",
      "AUC: 0.8679 ± 0.0001\n",
      "$0.7921 \\pm 0.0003$ & $0.8679 \\pm 0.0001$\n"
     ]
    }
   ],
   "source": [
    "sample_type = 'Resonant, Mixed mass, 4b SPANet pairing, 4 b-tagged jets'\n",
    "print_ACC_AUC(df, sample_type)"
   ]
  },
  {
   "cell_type": "markdown",
   "metadata": {},
   "source": [
    "# TRSM 4b mixed mass 1M, 256 nodes"
   ]
  },
  {
   "cell_type": "code",
   "execution_count": 35,
   "metadata": {},
   "outputs": [],
   "source": [
    "file_name = './resonant_DNN_training_results.csv'\n",
    "df = pd.read_csv(file_name)\n",
    "df = df.query(\"time > '2025-03-25' and time < '2025-03-26'\")"
   ]
  },
  {
   "cell_type": "code",
   "execution_count": 36,
   "metadata": {},
   "outputs": [
    {
     "name": "stdout",
     "output_type": "stream",
     "text": [
      "TRSM, 4 mass mixed, Absolute value pairing, 4 b-tagged jets\n",
      "ACC: 0.7966 ± 0.0007\n",
      "AUC: 0.8759 ± 0.0007\n",
      "$0.7966 \\pm 0.0007$ & $0.8759 \\pm 0.0007$\n",
      "TRSM, 4 mass mixed, chi2 pairing, 4 b-tagged jets\n",
      "ACC: 0.7949 ± 0.0008\n",
      "AUC: 0.8740 ± 0.0007\n",
      "$0.7949 \\pm 0.0008$ & $0.8740 \\pm 0.0007$\n",
      "TRSM, 4 mass mixed, 4b SPANet pairing, 4 b-tagged jets\n",
      "ACC: 0.8041 ± 0.0007\n",
      "AUC: 0.8857 ± 0.0005\n",
      "$0.8041 \\pm 0.0007$ & $0.8857 \\pm 0.0005$\n"
     ]
    }
   ],
   "source": [
    "sample_type = 'TRSM, 4 mass mixed, Absolute value pairing, 4 b-tagged jets'\n",
    "print_ACC_AUC(df, sample_type)\n",
    "\n",
    "sample_type = 'TRSM, 4 mass mixed, chi2 pairing, 4 b-tagged jets'\n",
    "print_ACC_AUC(df, sample_type)\n",
    "\n",
    "sample_type = 'TRSM, 4 mass mixed, 4b SPANet pairing, 4 b-tagged jets'\n",
    "print_ACC_AUC(df, sample_type)"
   ]
  }
 ],
 "metadata": {
  "kernelspec": {
   "display_name": "jupyter",
   "language": "python",
   "name": "python3"
  },
  "language_info": {
   "codemirror_mode": {
    "name": "ipython",
    "version": 3
   },
   "file_extension": ".py",
   "mimetype": "text/x-python",
   "name": "python",
   "nbconvert_exporter": "python",
   "pygments_lexer": "ipython3",
   "version": "3.8.16"
  }
 },
 "nbformat": 4,
 "nbformat_minor": 2
}
