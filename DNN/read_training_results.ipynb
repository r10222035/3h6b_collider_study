{
 "cells": [
  {
   "cell_type": "code",
   "execution_count": 1,
   "metadata": {},
   "outputs": [],
   "source": [
    "import pandas as pd"
   ]
  },
  {
   "cell_type": "code",
   "execution_count": 2,
   "metadata": {},
   "outputs": [],
   "source": [
    "def print_ACC_AUC(df, sample_type):\n",
    "    ACC = df[df['Sample Type'] == sample_type]['ACC']\n",
    "    AUC = df[df['Sample Type'] == sample_type]['AUC']\n",
    "\n",
    "    print(sample_type)\n",
    "    print('4b results:')\n",
    "    print(f'ACC: {ACC.mean():.4f} ± {ACC.std():.4f}')\n",
    "    print(f'AUC: {AUC.mean():.4f} ± {AUC.std():.4f}')\n",
    "    print(f'${ACC.mean():.4f} \\pm {ACC.std():.4f}$ & ${AUC.mean():.4f} \\pm {AUC.std():.4f}$')\n",
    "\n",
    "\n",
    "    ACC = df[df['Sample Type'] == sample_type]['ACC_6b']\n",
    "    AUC = df[df['Sample Type'] == sample_type]['AUC_6b']\n",
    "\n",
    "    if not pd.isna(ACC.mean()):\n",
    "        print('6b results:')\n",
    "\n",
    "        print(f'ACC: {ACC.mean():.4f} ± {ACC.std():.4f}')\n",
    "        print(f'AUC: {AUC.mean():.4f} ± {AUC.std():.4f}')\n",
    "        print(f'${ACC.mean():.4f} \\pm {ACC.std():.4f}$ & ${AUC.mean():.4f} \\pm {AUC.std():.4f}$')"
   ]
  },
  {
   "cell_type": "markdown",
   "metadata": {},
   "source": [
    "# DM-CPV"
   ]
  },
  {
   "cell_type": "markdown",
   "metadata": {},
   "source": [
    "## 4b mixed mass 1M, 256 nodes"
   ]
  },
  {
   "cell_type": "code",
   "execution_count": 3,
   "metadata": {},
   "outputs": [],
   "source": [
    "file_name = './resonant_DNN_training_results.csv'\n",
    "df = pd.read_csv(file_name)\n",
    "df = df.query(\"time > '2024-12-17' and time < '2024-12-19'\")"
   ]
  },
  {
   "cell_type": "code",
   "execution_count": 4,
   "metadata": {},
   "outputs": [
    {
     "name": "stdout",
     "output_type": "stream",
     "text": [
      "Resonant, Mixed mass, Absolute value pairing, 4 b-tagged jets\n",
      "4b results:\n",
      "ACC: 0.7922 ± 0.0003\n",
      "AUC: 0.8680 ± 0.0002\n",
      "$0.7922 \\pm 0.0003$ & $0.8680 \\pm 0.0002$\n"
     ]
    }
   ],
   "source": [
    "sample_type = 'Resonant, Mixed mass, Absolute value pairing, 4 b-tagged jets'\n",
    "print_ACC_AUC(df, sample_type)"
   ]
  },
  {
   "cell_type": "code",
   "execution_count": 5,
   "metadata": {},
   "outputs": [
    {
     "name": "stdout",
     "output_type": "stream",
     "text": [
      "Resonant, Mixed mass, chi2 pairing, 4 b-tagged jets\n",
      "4b results:\n",
      "ACC: 0.7916 ± 0.0002\n",
      "AUC: 0.8670 ± 0.0001\n",
      "$0.7916 \\pm 0.0002$ & $0.8670 \\pm 0.0001$\n"
     ]
    }
   ],
   "source": [
    "sample_type = 'Resonant, Mixed mass, chi2 pairing, 4 b-tagged jets'\n",
    "print_ACC_AUC(df, sample_type)"
   ]
  },
  {
   "cell_type": "code",
   "execution_count": 6,
   "metadata": {},
   "outputs": [
    {
     "name": "stdout",
     "output_type": "stream",
     "text": [
      "Resonant, Mixed mass, 4b SPANet pairing, 4 b-tagged jets\n",
      "4b results:\n",
      "ACC: 0.7921 ± 0.0003\n",
      "AUC: 0.8679 ± 0.0001\n",
      "$0.7921 \\pm 0.0003$ & $0.8679 \\pm 0.0001$\n"
     ]
    }
   ],
   "source": [
    "sample_type = 'Resonant, Mixed mass, 4b SPANet pairing, 4 b-tagged jets'\n",
    "print_ACC_AUC(df, sample_type)"
   ]
  },
  {
   "cell_type": "markdown",
   "metadata": {},
   "source": [
    "# TRSM"
   ]
  },
  {
   "cell_type": "markdown",
   "metadata": {},
   "source": [
    "## 4 mass points mixed: 4b 250k sig + 1M bkg; 6b 12.5k sig + 50k bkg"
   ]
  },
  {
   "cell_type": "code",
   "execution_count": 7,
   "metadata": {},
   "outputs": [],
   "source": [
    "file_name = './resonant_DNN_training_results.csv'\n",
    "df = pd.read_csv(file_name)\n",
    "df = df.query(\"time > '2025-03-25' and time < '2025-03-26'\")"
   ]
  },
  {
   "cell_type": "code",
   "execution_count": 8,
   "metadata": {},
   "outputs": [
    {
     "name": "stdout",
     "output_type": "stream",
     "text": [
      "TRSM, 4 mass mixed, Absolute value pairing, 4 b-tagged jets\n",
      "4b results:\n",
      "ACC: 0.7966 ± 0.0007\n",
      "AUC: 0.8759 ± 0.0007\n",
      "$0.7966 \\pm 0.0007$ & $0.8759 \\pm 0.0007$\n",
      "TRSM, 4 mass mixed, chi2 pairing, 4 b-tagged jets\n",
      "4b results:\n",
      "ACC: 0.7949 ± 0.0008\n",
      "AUC: 0.8740 ± 0.0007\n",
      "$0.7949 \\pm 0.0008$ & $0.8740 \\pm 0.0007$\n",
      "TRSM, 4 mass mixed, 4b SPANet pairing, 4 b-tagged jets\n",
      "4b results:\n",
      "ACC: 0.8041 ± 0.0007\n",
      "AUC: 0.8857 ± 0.0005\n",
      "$0.8041 \\pm 0.0007$ & $0.8857 \\pm 0.0005$\n"
     ]
    }
   ],
   "source": [
    "sample_type = 'TRSM, 4 mass mixed, Absolute value pairing, 4 b-tagged jets'\n",
    "print_ACC_AUC(df, sample_type)\n",
    "\n",
    "sample_type = 'TRSM, 4 mass mixed, chi2 pairing, 4 b-tagged jets'\n",
    "print_ACC_AUC(df, sample_type)\n",
    "\n",
    "sample_type = 'TRSM, 4 mass mixed, 4b SPANet pairing, 4 b-tagged jets'\n",
    "print_ACC_AUC(df, sample_type)"
   ]
  },
  {
   "cell_type": "markdown",
   "metadata": {},
   "source": [
    "## 4 mass points mixed: 4b 750k sig + 1M bkg; 6b 12.5k sig + 50k bkg"
   ]
  },
  {
   "cell_type": "code",
   "execution_count": 9,
   "metadata": {},
   "outputs": [],
   "source": [
    "file_name = './resonant_DNN_training_results.csv'\n",
    "df = pd.read_csv(file_name)\n",
    "df = df.query(\"time > '2025-04-01' and time < '2025-04-03'\")"
   ]
  },
  {
   "cell_type": "code",
   "execution_count": 10,
   "metadata": {},
   "outputs": [
    {
     "name": "stdout",
     "output_type": "stream",
     "text": [
      "TRSM, 4 mass mixed, Absolute value pairing, 4 b-tagged jets\n",
      "4b results:\n",
      "ACC: 0.8597 ± 0.0001\n",
      "AUC: 0.8763 ± 0.0006\n",
      "$0.8597 \\pm 0.0001$ & $0.8763 \\pm 0.0006$\n",
      "6b results:\n",
      "ACC: 0.8345 ± 0.0005\n",
      "AUC: 0.9047 ± 0.0005\n",
      "$0.8345 \\pm 0.0005$ & $0.9047 \\pm 0.0005$\n",
      "TRSM, 4 mass mixed, chi2 pairing, 4 b-tagged jets\n",
      "4b results:\n",
      "ACC: 0.8585 ± 0.0001\n",
      "AUC: 0.8740 ± 0.0004\n",
      "$0.8585 \\pm 0.0001$ & $0.8740 \\pm 0.0004$\n",
      "6b results:\n",
      "ACC: 0.8330 ± 0.0006\n",
      "AUC: 0.9022 ± 0.0006\n",
      "$0.8330 \\pm 0.0006$ & $0.9022 \\pm 0.0006$\n",
      "TRSM, 4 mass mixed, 4b SPANet pairing, 4 b-tagged jets\n",
      "4b results:\n",
      "ACC: 0.8640 ± 0.0002\n",
      "AUC: 0.8881 ± 0.0005\n",
      "$0.8640 \\pm 0.0002$ & $0.8881 \\pm 0.0005$\n",
      "6b results:\n",
      "ACC: 0.8361 ± 0.0004\n",
      "AUC: 0.9082 ± 0.0003\n",
      "$0.8361 \\pm 0.0004$ & $0.9082 \\pm 0.0003$\n"
     ]
    }
   ],
   "source": [
    "sample_type = 'TRSM, 4 mass mixed, Absolute value pairing, 4 b-tagged jets'\n",
    "print_ACC_AUC(df, sample_type)\n",
    "\n",
    "sample_type = 'TRSM, 4 mass mixed, chi2 pairing, 4 b-tagged jets'\n",
    "print_ACC_AUC(df, sample_type)\n",
    "\n",
    "sample_type = 'TRSM, 4 mass mixed, 4b SPANet pairing, 4 b-tagged jets'\n",
    "print_ACC_AUC(df, sample_type)"
   ]
  },
  {
   "cell_type": "markdown",
   "metadata": {},
   "source": [
    "## 5 mass points mixed: 4b 250k sig + 1M bkg; 6b 10k sig + 50k bkg"
   ]
  },
  {
   "cell_type": "code",
   "execution_count": 11,
   "metadata": {},
   "outputs": [],
   "source": [
    "file_name = './resonant_DNN_training_results.csv'\n",
    "df = pd.read_csv(file_name)\n",
    "df = df.query(\"time > '2025-04-08' and time < '2025-04-09'\")"
   ]
  },
  {
   "cell_type": "code",
   "execution_count": 12,
   "metadata": {},
   "outputs": [
    {
     "name": "stdout",
     "output_type": "stream",
     "text": [
      "TRSM, 4 mass mixed, Absolute value pairing, 4 b-tagged jets\n",
      "4b results:\n",
      "ACC: 0.8936 ± 0.0002\n",
      "AUC: 0.8807 ± 0.0002\n",
      "$0.8936 \\pm 0.0002$ & $0.8807 \\pm 0.0002$\n",
      "6b results:\n",
      "ACC: 0.8329 ± 0.0006\n",
      "AUC: 0.9023 ± 0.0005\n",
      "$0.8329 \\pm 0.0006$ & $0.9023 \\pm 0.0005$\n",
      "TRSM, 4 mass mixed, chi2 pairing, 4 b-tagged jets\n",
      "4b results:\n",
      "ACC: 0.8933 ± 0.0002\n",
      "AUC: 0.8786 ± 0.0003\n",
      "$0.8933 \\pm 0.0002$ & $0.8786 \\pm 0.0003$\n",
      "6b results:\n",
      "ACC: 0.8308 ± 0.0008\n",
      "AUC: 0.9001 ± 0.0006\n",
      "$0.8308 \\pm 0.0008$ & $0.9001 \\pm 0.0006$\n",
      "TRSM, 4 mass mixed, 4b SPANet pairing, 4 b-tagged jets\n",
      "4b results:\n",
      "ACC: 0.8948 ± 0.0001\n",
      "AUC: 0.8843 ± 0.0002\n",
      "$0.8948 \\pm 0.0001$ & $0.8843 \\pm 0.0002$\n",
      "6b results:\n",
      "ACC: 0.8308 ± 0.0005\n",
      "AUC: 0.9029 ± 0.0003\n",
      "$0.8308 \\pm 0.0005$ & $0.9029 \\pm 0.0003$\n"
     ]
    }
   ],
   "source": [
    "sample_type = 'TRSM, 4 mass mixed, Absolute value pairing, 4 b-tagged jets'\n",
    "print_ACC_AUC(df, sample_type)\n",
    "\n",
    "sample_type = 'TRSM, 4 mass mixed, chi2 pairing, 4 b-tagged jets'\n",
    "print_ACC_AUC(df, sample_type)\n",
    "\n",
    "sample_type = 'TRSM, 4 mass mixed, 4b SPANet pairing, 4 b-tagged jets'\n",
    "print_ACC_AUC(df, sample_type)"
   ]
  },
  {
   "cell_type": "markdown",
   "metadata": {},
   "source": [
    "## 5 mass points mixed: 4b 1M sig + 1M bkg; 6b 10k sig + 50k bkg"
   ]
  },
  {
   "cell_type": "code",
   "execution_count": 13,
   "metadata": {},
   "outputs": [],
   "source": [
    "file_name = './resonant_DNN_training_results.csv'\n",
    "df = pd.read_csv(file_name)\n",
    "df = df.query(\"time > '2025-04-10' and time < '2025-04-11'\")"
   ]
  },
  {
   "cell_type": "code",
   "execution_count": 14,
   "metadata": {},
   "outputs": [
    {
     "name": "stdout",
     "output_type": "stream",
     "text": [
      "TRSM, 5 mass mixed, Absolute value pairing, 4 b-tagged jets\n",
      "4b results:\n",
      "ACC: 0.8971 ± 0.0001\n",
      "AUC: 0.8827 ± 0.0001\n",
      "$0.8971 \\pm 0.0001$ & $0.8827 \\pm 0.0001$\n",
      "6b results:\n",
      "ACC: 0.8328 ± 0.0007\n",
      "AUC: 0.9026 ± 0.0007\n",
      "$0.8328 \\pm 0.0007$ & $0.9026 \\pm 0.0007$\n",
      "TRSM, 5 mass mixed, chi2 pairing, 4 b-tagged jets\n",
      "4b results:\n",
      "ACC: 0.8965 ± 0.0001\n",
      "AUC: 0.8814 ± 0.0002\n",
      "$0.8965 \\pm 0.0001$ & $0.8814 \\pm 0.0002$\n",
      "6b results:\n",
      "ACC: 0.8310 ± 0.0006\n",
      "AUC: 0.9003 ± 0.0006\n",
      "$0.8310 \\pm 0.0006$ & $0.9003 \\pm 0.0006$\n",
      "TRSM, 5 mass mixed, 4b SPANet pairing: mix-5, 1M, 4 b-tagged jets\n",
      "4b results:\n",
      "ACC: 0.8989 ± 0.0002\n",
      "AUC: 0.8908 ± 0.0002\n",
      "$0.8989 \\pm 0.0002$ & $0.8908 \\pm 0.0002$\n",
      "6b results:\n",
      "ACC: 0.8325 ± 0.0004\n",
      "AUC: 0.9057 ± 0.0002\n",
      "$0.8325 \\pm 0.0004$ & $0.9057 \\pm 0.0002$\n"
     ]
    }
   ],
   "source": [
    "sample_type = 'TRSM, 5 mass mixed, Absolute value pairing, 4 b-tagged jets'\n",
    "print_ACC_AUC(df, sample_type)\n",
    "\n",
    "sample_type = 'TRSM, 5 mass mixed, chi2 pairing, 4 b-tagged jets'\n",
    "print_ACC_AUC(df, sample_type)\n",
    "\n",
    "sample_type = 'TRSM, 5 mass mixed, 4b SPANet pairing: mix-5, 1M, 4 b-tagged jets'\n",
    "print_ACC_AUC(df, sample_type)"
   ]
  },
  {
   "cell_type": "markdown",
   "metadata": {},
   "source": [
    "## 5 mass points mixed: 4b 1M sig + 1M bkg; 6b 10k sig + 50k bkg, 24 nodes x 3"
   ]
  },
  {
   "cell_type": "code",
   "execution_count": 15,
   "metadata": {},
   "outputs": [],
   "source": [
    "file_name = './resonant_DNN_training_results.csv'\n",
    "df = pd.read_csv(file_name)\n",
    "df = df.query(\"time > '2025-04-28' and time < '2025-04-29'\")"
   ]
  },
  {
   "cell_type": "code",
   "execution_count": 16,
   "metadata": {},
   "outputs": [
    {
     "name": "stdout",
     "output_type": "stream",
     "text": [
      "TRSM, 5 mass mixed, Absolute value pairing, 4 b-tagged jets\n",
      "4b results:\n",
      "ACC: 0.8939 ± 0.0002\n",
      "AUC: 0.8744 ± 0.0005\n",
      "$0.8939 \\pm 0.0002$ & $0.8744 \\pm 0.0005$\n",
      "6b results:\n",
      "ACC: 0.8269 ± 0.0007\n",
      "AUC: 0.8950 ± 0.0005\n",
      "$0.8269 \\pm 0.0007$ & $0.8950 \\pm 0.0005$\n",
      "TRSM, 5 mass mixed, chi2 pairing, 4 b-tagged jets\n",
      "4b results:\n",
      "ACC: 0.8936 ± 0.0002\n",
      "AUC: 0.8733 ± 0.0003\n",
      "$0.8936 \\pm 0.0002$ & $0.8733 \\pm 0.0003$\n",
      "6b results:\n",
      "ACC: 0.8255 ± 0.0007\n",
      "AUC: 0.8925 ± 0.0008\n",
      "$0.8255 \\pm 0.0007$ & $0.8925 \\pm 0.0008$\n",
      "TRSM, 5 mass mixed, 4b SPANet pairing: mix-5, 1M, 4 b-tagged jets\n",
      "4b results:\n",
      "ACC: 0.8965 ± 0.0002\n",
      "AUC: 0.8836 ± 0.0005\n",
      "$0.8965 \\pm 0.0002$ & $0.8836 \\pm 0.0005$\n",
      "6b results:\n",
      "ACC: 0.8281 ± 0.0007\n",
      "AUC: 0.9003 ± 0.0005\n",
      "$0.8281 \\pm 0.0007$ & $0.9003 \\pm 0.0005$\n"
     ]
    }
   ],
   "source": [
    "sample_type = 'TRSM, 5 mass mixed, Absolute value pairing, 4 b-tagged jets'\n",
    "print_ACC_AUC(df, sample_type)\n",
    "\n",
    "sample_type = 'TRSM, 5 mass mixed, chi2 pairing, 4 b-tagged jets'\n",
    "print_ACC_AUC(df, sample_type)\n",
    "\n",
    "sample_type = 'TRSM, 5 mass mixed, 4b SPANet pairing: mix-5, 1M, 4 b-tagged jets'\n",
    "print_ACC_AUC(df, sample_type)"
   ]
  },
  {
   "cell_type": "markdown",
   "metadata": {},
   "source": [
    "## 5 mass points mixed: 4b 150k sig + 150k bkg; 6b 10k sig + 50k bkg, 24 nodes x 3"
   ]
  },
  {
   "cell_type": "code",
   "execution_count": 17,
   "metadata": {},
   "outputs": [],
   "source": [
    "file_name = './resonant_DNN_training_results.csv'\n",
    "df = pd.read_csv(file_name)\n",
    "df = df.query(\"time > '2025-04-29' and time < '2025-04-30'\")"
   ]
  },
  {
   "cell_type": "code",
   "execution_count": 18,
   "metadata": {},
   "outputs": [
    {
     "name": "stdout",
     "output_type": "stream",
     "text": [
      "TRSM, 5 mass mixed, Absolute value pairing, 4 b-tagged jets\n",
      "4b results:\n",
      "ACC: 0.8927 ± 0.0002\n",
      "AUC: 0.8724 ± 0.0006\n",
      "$0.8927 \\pm 0.0002$ & $0.8724 \\pm 0.0006$\n",
      "6b results:\n",
      "ACC: 0.8255 ± 0.0008\n",
      "AUC: 0.8929 ± 0.0009\n",
      "$0.8255 \\pm 0.0008$ & $0.8929 \\pm 0.0009$\n",
      "TRSM, 5 mass mixed, chi2 pairing, 4 b-tagged jets\n",
      "4b results:\n",
      "ACC: 0.8924 ± 0.0005\n",
      "AUC: 0.8707 ± 0.0017\n",
      "$0.8924 \\pm 0.0005$ & $0.8707 \\pm 0.0017$\n",
      "6b results:\n",
      "ACC: 0.8241 ± 0.0013\n",
      "AUC: 0.8898 ± 0.0014\n",
      "$0.8241 \\pm 0.0013$ & $0.8898 \\pm 0.0014$\n",
      "TRSM, 5 mass mixed, 4b SPANet pairing: mix-5, 1M, 4 b-tagged jets\n",
      "4b results:\n",
      "ACC: 0.8956 ± 0.0002\n",
      "AUC: 0.8821 ± 0.0008\n",
      "$0.8956 \\pm 0.0002$ & $0.8821 \\pm 0.0008$\n",
      "6b results:\n",
      "ACC: 0.8275 ± 0.0007\n",
      "AUC: 0.8990 ± 0.0008\n",
      "$0.8275 \\pm 0.0007$ & $0.8990 \\pm 0.0008$\n"
     ]
    }
   ],
   "source": [
    "sample_type = 'TRSM, 5 mass mixed, Absolute value pairing, 4 b-tagged jets'\n",
    "print_ACC_AUC(df, sample_type)\n",
    "\n",
    "sample_type = 'TRSM, 5 mass mixed, chi2 pairing, 4 b-tagged jets'\n",
    "print_ACC_AUC(df, sample_type)\n",
    "\n",
    "sample_type = 'TRSM, 5 mass mixed, 4b SPANet pairing: mix-5, 1M, 4 b-tagged jets'\n",
    "print_ACC_AUC(df, sample_type)"
   ]
  }
 ],
 "metadata": {
  "kernelspec": {
   "display_name": "jupyter",
   "language": "python",
   "name": "python3"
  },
  "language_info": {
   "codemirror_mode": {
    "name": "ipython",
    "version": 3
   },
   "file_extension": ".py",
   "mimetype": "text/x-python",
   "name": "python",
   "nbconvert_exporter": "python",
   "pygments_lexer": "ipython3",
   "version": "3.8.16"
  }
 },
 "nbformat": 4,
 "nbformat_minor": 2
}
