{
 "cells": [
  {
   "cell_type": "code",
   "execution_count": 1,
   "metadata": {},
   "outputs": [
    {
     "name": "stderr",
     "output_type": "stream",
     "text": [
      "2024-12-18 09:27:03.044565: I tensorflow/core/platform/cpu_feature_guard.cc:193] This TensorFlow binary is optimized with oneAPI Deep Neural Network Library (oneDNN) to use the following CPU instructions in performance-critical operations:  SSE4.1 SSE4.2 AVX AVX2 AVX512F AVX512_VNNI FMA\n",
      "To enable them in other operations, rebuild TensorFlow with the appropriate compiler flags.\n",
      "2024-12-18 09:27:03.245556: I tensorflow/core/util/port.cc:104] oneDNN custom operations are on. You may see slightly different numerical results due to floating-point round-off errors from different computation orders. To turn them off, set the environment variable `TF_ENABLE_ONEDNN_OPTS=0`.\n"
     ]
    }
   ],
   "source": [
    "import os\n",
    "import json\n",
    "\n",
    "import numpy as np\n",
    "import tensorflow as tf\n",
    "\n",
    "from sklearn.metrics import roc_curve, roc_auc_score, accuracy_score\n",
    "\n",
    "os.environ['CUDA_VISIBLE_DEVICES'] = '2'\n",
    "# solve the problem of \"libdevice not found at ./libdevice.10.bc\"\n",
    "os.environ['XLA_FLAGS'] = '--xla_gpu_cuda_data_dir=/home/r10222035/.conda/envs/tf2'"
   ]
  },
  {
   "cell_type": "code",
   "execution_count": 2,
   "metadata": {},
   "outputs": [],
   "source": [
    "def get_highest_accuracy(y_true, y_pred):\n",
    "    _, _, thresholds = roc_curve(y_true, y_pred)\n",
    "    # compute highest accuracy\n",
    "    thresholds = np.array(thresholds)\n",
    "    if len(thresholds) > 1000:\n",
    "        thresholds = np.percentile(thresholds, np.linspace(0, 100, 1001))\n",
    "    accuracy_scores = []\n",
    "    for threshold in thresholds:\n",
    "        accuracy_scores.append(accuracy_score(y_true, y_pred>threshold))\n",
    "\n",
    "    accuracies = np.array(accuracy_scores)\n",
    "    return accuracies.max()"
   ]
  },
  {
   "cell_type": "code",
   "execution_count": 3,
   "metadata": {},
   "outputs": [],
   "source": [
    "def get_sample_size(y):\n",
    "    if len(y.shape) == 1:\n",
    "        ns = (y == 1).sum()\n",
    "        nb = (y == 0).sum()\n",
    "    else:\n",
    "        ns = (y.argmax(axis=1) == 1).sum()\n",
    "        nb = (y.argmax(axis=1) == 0).sum()\n",
    "    print(ns, nb)\n",
    "    return ns, nb"
   ]
  },
  {
   "cell_type": "code",
   "execution_count": 4,
   "metadata": {},
   "outputs": [],
   "source": [
    "def get_testing_data(pairing_method):\n",
    "    config_file = f'config_files/{pairing_method}_config_01.json'\n",
    "\n",
    "    sig_path = f'./DNN_features/resonant-{pairing_method}.npy'\n",
    "    bkg_path = f'./DNN_features/pp6b-{pairing_method}.npy'\n",
    "\n",
    "    with open(config_file, 'r') as f:\n",
    "        config = json.load(f)\n",
    "        batch_size = config['batch_size']\n",
    "\n",
    "    ns, nb = 50000, 50000\n",
    "    X_s = np.load(sig_path)[:ns]\n",
    "    X_b = np.load(bkg_path)[:nb]\n",
    "\n",
    "    r_train, r_val, r_test = 0.7, 0.15, 0.15\n",
    "\n",
    "    X_s_test = X_s[int(len(X_s)*(r_train+r_val)):]\n",
    "    X_b_test = X_b[int(len(X_b)*(r_train+r_val)):]\n",
    "\n",
    "    X_test = np.concatenate((X_s_test, X_b_test), axis=0)\n",
    "    y_test = np.concatenate((np.ones(len(X_s_test)), np.zeros(len(X_b_test))), axis=0)\n",
    "\n",
    "    return X_test, y_test"
   ]
  },
  {
   "cell_type": "code",
   "execution_count": 5,
   "metadata": {},
   "outputs": [],
   "source": [
    "def print_ACC_AUC(model_name, X, y):\n",
    "    AUC, ACC = [], []\n",
    "    for i in range(1, 11):\n",
    "\n",
    "        save_model_name = f'{model_name}_{i:02}/'\n",
    "        loaded_model = tf.keras.models.load_model(save_model_name)\n",
    "        y_pred = loaded_model.predict(X, batch_size=2048)\n",
    "        auc = roc_auc_score(y, y_pred)\n",
    "        acc = get_highest_accuracy(y, y_pred)\n",
    "        AUC.append(auc)\n",
    "        ACC.append(acc)\n",
    "\n",
    "    AUC = np.array(AUC)\n",
    "    ACC = np.array(ACC)\n",
    "\n",
    "    print(f'ACC: {ACC.mean():.4f} ± {ACC.std():.4f}')\n",
    "    print(f'AUC: {AUC.mean():.4f} ± {AUC.std():.4f}')\n",
    "    print(f'${ACC.mean():.4f} \\pm {ACC.std():.4f}$ & ${AUC.mean():.4f} \\pm {AUC.std():.4f}$')"
   ]
  },
  {
   "cell_type": "markdown",
   "metadata": {},
   "source": [
    "# Training results"
   ]
  },
  {
   "cell_type": "markdown",
   "metadata": {},
   "source": [
    "## 50k datasets"
   ]
  },
  {
   "cell_type": "code",
   "execution_count": 7,
   "metadata": {},
   "outputs": [],
   "source": [
    "pairing_method = 'abs_pairing'\n",
    "X_test, y_test = get_testing_data(pairing_method)"
   ]
  },
  {
   "cell_type": "code",
   "execution_count": 8,
   "metadata": {},
   "outputs": [
    {
     "name": "stdout",
     "output_type": "stream",
     "text": [
      "469/469 [==============================] - 1s 2ms/step\n",
      "469/469 [==============================] - 1s 2ms/step\n",
      "469/469 [==============================] - 1s 1ms/step\n",
      "469/469 [==============================] - 1s 2ms/step\n",
      "469/469 [==============================] - 1s 2ms/step\n",
      "469/469 [==============================] - 1s 2ms/step\n",
      "469/469 [==============================] - 1s 2ms/step\n",
      "469/469 [==============================] - 1s 2ms/step\n",
      "469/469 [==============================] - 1s 2ms/step\n",
      "469/469 [==============================] - 1s 2ms/step\n",
      "ACC: 0.827 ± 0.038\n",
      "AUC: 0.886 ± 0.048\n"
     ]
    }
   ],
   "source": [
    "AUC, ACC = [], []\n",
    "for i in range(1, 11):\n",
    "\n",
    "    save_model_name = f'DNN_models/last_model_resonant_{pairing_method}_{i:02}/'\n",
    "    loaded_model = tf.keras.models.load_model(save_model_name)\n",
    "    X, y = X_test, y_test\n",
    "    y_pred = loaded_model.predict(X)\n",
    "    auc = roc_auc_score(y, y_pred)\n",
    "    acc = get_highest_accuracy(y, y_pred)\n",
    "    AUC.append(auc)\n",
    "    ACC.append(acc)\n",
    "\n",
    "AUC = np.array(AUC)\n",
    "ACC = np.array(ACC)\n",
    "\n",
    "print(f'ACC: {ACC.mean():.3f} ± {ACC.std():.3f}')\n",
    "print(f'AUC: {AUC.mean():.3f} ± {AUC.std():.3f}')"
   ]
  },
  {
   "cell_type": "code",
   "execution_count": 9,
   "metadata": {},
   "outputs": [],
   "source": [
    "pairing_method = 'chi2_pairing'\n",
    "X_test, y_test = get_testing_data(pairing_method)"
   ]
  },
  {
   "cell_type": "code",
   "execution_count": 10,
   "metadata": {},
   "outputs": [
    {
     "name": "stdout",
     "output_type": "stream",
     "text": [
      "469/469 [==============================] - 1s 2ms/step\n",
      "469/469 [==============================] - 1s 2ms/step\n",
      "469/469 [==============================] - 1s 2ms/step\n",
      "469/469 [==============================] - 1s 2ms/step\n",
      "469/469 [==============================] - 1s 2ms/step\n",
      "469/469 [==============================] - 1s 2ms/step\n",
      "469/469 [==============================] - 1s 2ms/step\n",
      "469/469 [==============================] - 1s 1ms/step\n",
      "469/469 [==============================] - 1s 2ms/step\n",
      "469/469 [==============================] - 1s 2ms/step\n",
      "ACC: 0.837 ± 0.003\n",
      "AUC: 0.900 ± 0.002\n"
     ]
    }
   ],
   "source": [
    "AUC, ACC = [], []\n",
    "for i in range(1, 11):\n",
    "\n",
    "    save_model_name = f'DNN_models/last_model_resonant_{pairing_method}_{i:02}/'\n",
    "    loaded_model = tf.keras.models.load_model(save_model_name)\n",
    "    X, y = X_test, y_test\n",
    "    y_pred = loaded_model.predict(X)\n",
    "    auc = roc_auc_score(y, y_pred)\n",
    "    acc = get_highest_accuracy(y, y_pred)\n",
    "    AUC.append(auc)\n",
    "    ACC.append(acc)\n",
    "\n",
    "AUC = np.array(AUC)\n",
    "ACC = np.array(ACC)\n",
    "\n",
    "print(f'ACC: {ACC.mean():.3f} ± {ACC.std():.3f}')\n",
    "print(f'AUC: {AUC.mean():.3f} ± {AUC.std():.3f}')"
   ]
  },
  {
   "cell_type": "code",
   "execution_count": 11,
   "metadata": {},
   "outputs": [],
   "source": [
    "pairing_method = '4b_SPANet_pairing'\n",
    "X_test, y_test = get_testing_data(pairing_method)"
   ]
  },
  {
   "cell_type": "code",
   "execution_count": 12,
   "metadata": {},
   "outputs": [
    {
     "name": "stdout",
     "output_type": "stream",
     "text": [
      "469/469 [==============================] - 1s 2ms/step\n",
      "469/469 [==============================] - 1s 2ms/step\n",
      "469/469 [==============================] - 1s 2ms/step\n",
      "469/469 [==============================] - 1s 2ms/step\n",
      "469/469 [==============================] - 1s 2ms/step\n",
      "469/469 [==============================] - 1s 1ms/step\n",
      "469/469 [==============================] - 1s 1ms/step\n",
      "469/469 [==============================] - 1s 2ms/step\n",
      "469/469 [==============================] - 1s 2ms/step\n",
      "469/469 [==============================] - 1s 1ms/step\n",
      "ACC: 0.829 ± 0.004\n",
      "AUC: 0.899 ± 0.006\n"
     ]
    }
   ],
   "source": [
    "AUC, ACC = [], []\n",
    "for i in range(1, 11):\n",
    "\n",
    "    save_model_name = f'DNN_models/last_model_resonant_{pairing_method}_{i:02}/'\n",
    "    loaded_model = tf.keras.models.load_model(save_model_name)\n",
    "    X, y = X_test, y_test\n",
    "    y_pred = loaded_model.predict(X)\n",
    "    auc = roc_auc_score(y, y_pred)\n",
    "    acc = get_highest_accuracy(y, y_pred)\n",
    "    AUC.append(auc)\n",
    "    ACC.append(acc)\n",
    "\n",
    "AUC = np.array(AUC)\n",
    "ACC = np.array(ACC)\n",
    "\n",
    "print(f'ACC: {ACC.mean():.3f} ± {ACC.std():.3f}')\n",
    "print(f'AUC: {AUC.mean():.3f} ± {AUC.std():.3f}')"
   ]
  },
  {
   "cell_type": "markdown",
   "metadata": {},
   "source": [
    "## 100k datasets"
   ]
  },
  {
   "cell_type": "code",
   "execution_count": 13,
   "metadata": {},
   "outputs": [],
   "source": [
    "pairing_method = 'abs_pairing'\n",
    "X_test, y_test = get_testing_data(pairing_method)"
   ]
  },
  {
   "cell_type": "code",
   "execution_count": 14,
   "metadata": {},
   "outputs": [
    {
     "name": "stdout",
     "output_type": "stream",
     "text": [
      "469/469 [==============================] - 1s 2ms/step\n",
      "469/469 [==============================] - 1s 2ms/step\n",
      "469/469 [==============================] - 1s 2ms/step\n",
      "469/469 [==============================] - 1s 1ms/step\n",
      "469/469 [==============================] - 1s 2ms/step\n",
      "469/469 [==============================] - 1s 2ms/step\n",
      "469/469 [==============================] - 1s 2ms/step\n",
      "469/469 [==============================] - 1s 2ms/step\n",
      "469/469 [==============================] - 1s 2ms/step\n",
      "469/469 [==============================] - 1s 1ms/step\n",
      "ACC: 0.841 ± 0.003\n",
      "AUC: 0.903 ± 0.003\n"
     ]
    }
   ],
   "source": [
    "AUC, ACC = [], []\n",
    "for i in range(1, 11):\n",
    "\n",
    "    save_model_name = f'DNN_models/last_model_resonant_4b-{pairing_method}_{i:02}/'\n",
    "    loaded_model = tf.keras.models.load_model(save_model_name)\n",
    "    X, y = X_test, y_test\n",
    "    y_pred = loaded_model.predict(X)\n",
    "    auc = roc_auc_score(y, y_pred)\n",
    "    acc = get_highest_accuracy(y, y_pred)\n",
    "    AUC.append(auc)\n",
    "    ACC.append(acc)\n",
    "\n",
    "AUC = np.array(AUC)\n",
    "ACC = np.array(ACC)\n",
    "\n",
    "print(f'ACC: {ACC.mean():.3f} ± {ACC.std():.3f}')\n",
    "print(f'AUC: {AUC.mean():.3f} ± {AUC.std():.3f}')"
   ]
  },
  {
   "cell_type": "code",
   "execution_count": 15,
   "metadata": {},
   "outputs": [],
   "source": [
    "pairing_method = 'chi2_pairing'\n",
    "X_test, y_test = get_testing_data(pairing_method)"
   ]
  },
  {
   "cell_type": "code",
   "execution_count": 16,
   "metadata": {},
   "outputs": [
    {
     "name": "stdout",
     "output_type": "stream",
     "text": [
      "469/469 [==============================] - 1s 2ms/step\n",
      "469/469 [==============================] - 1s 1ms/step\n",
      "469/469 [==============================] - 1s 1ms/step\n",
      "469/469 [==============================] - 1s 2ms/step\n",
      "469/469 [==============================] - 1s 2ms/step\n",
      "469/469 [==============================] - 1s 2ms/step\n",
      "469/469 [==============================] - 1s 2ms/step\n",
      "469/469 [==============================] - 1s 2ms/step\n",
      "469/469 [==============================] - 1s 1ms/step\n",
      "469/469 [==============================] - 1s 2ms/step\n",
      "ACC: 0.838 ± 0.003\n",
      "AUC: 0.901 ± 0.002\n"
     ]
    }
   ],
   "source": [
    "AUC, ACC = [], []\n",
    "for i in range(1, 11):\n",
    "\n",
    "    save_model_name = f'DNN_models/last_model_resonant_4b-{pairing_method}_{i:02}/'\n",
    "    loaded_model = tf.keras.models.load_model(save_model_name)\n",
    "    X, y = X_test, y_test\n",
    "    y_pred = loaded_model.predict(X)\n",
    "    auc = roc_auc_score(y, y_pred)\n",
    "    acc = get_highest_accuracy(y, y_pred)\n",
    "    AUC.append(auc)\n",
    "    ACC.append(acc)\n",
    "\n",
    "AUC = np.array(AUC)\n",
    "ACC = np.array(ACC)\n",
    "\n",
    "print(f'ACC: {ACC.mean():.3f} ± {ACC.std():.3f}')\n",
    "print(f'AUC: {AUC.mean():.3f} ± {AUC.std():.3f}')"
   ]
  },
  {
   "cell_type": "code",
   "execution_count": 17,
   "metadata": {},
   "outputs": [],
   "source": [
    "pairing_method = '4b_SPANet_pairing'\n",
    "X_test, y_test = get_testing_data(pairing_method)"
   ]
  },
  {
   "cell_type": "code",
   "execution_count": null,
   "metadata": {},
   "outputs": [
    {
     "name": "stdout",
     "output_type": "stream",
     "text": [
      "469/469 [==============================] - 1s 2ms/step\n",
      "469/469 [==============================] - 1s 1ms/step\n",
      "469/469 [==============================] - 1s 2ms/step\n",
      "469/469 [==============================] - 1s 2ms/step\n",
      "469/469 [==============================] - 1s 2ms/step\n",
      "469/469 [==============================] - 1s 2ms/step\n",
      "469/469 [==============================] - 1s 1ms/step\n",
      "469/469 [==============================] - 1s 2ms/step\n",
      "469/469 [==============================] - 1s 2ms/step\n",
      "469/469 [==============================] - 1s 2ms/step\n",
      "ACC: 0.834 ± 0.006\n",
      "AUC: 0.905 ± 0.005\n"
     ]
    },
    {
     "ename": "",
     "evalue": "",
     "output_type": "error",
     "traceback": [
      "\u001b[1;31m在目前儲存格或上一個儲存格中執行程式碼時，Kernel 已損毀。\n",
      "\u001b[1;31m請檢閱儲存格中的程式碼，找出失敗的可能原因。\n",
      "\u001b[1;31m如需詳細資訊，請按一下<a href='https://aka.ms/vscodeJupyterKernelCrash'>這裡</a>。\n",
      "\u001b[1;31m如需詳細資料，請檢視 Jupyter <a href='command:jupyter.viewOutput'>記錄</a>。"
     ]
    }
   ],
   "source": [
    "AUC, ACC = [], []\n",
    "for i in range(1, 11):\n",
    "\n",
    "    save_model_name = f'DNN_models/last_model_resonant_4b-{pairing_method}_{i:02}/'\n",
    "    loaded_model = tf.keras.models.load_model(save_model_name)\n",
    "    X, y = X_test, y_test\n",
    "    y_pred = loaded_model.predict(X)\n",
    "    auc = roc_auc_score(y, y_pred)\n",
    "    acc = get_highest_accuracy(y, y_pred)\n",
    "    AUC.append(auc)\n",
    "    ACC.append(acc)\n",
    "\n",
    "AUC = np.array(AUC)\n",
    "ACC = np.array(ACC)\n",
    "\n",
    "print(f'ACC: {ACC.mean():.3f} ± {ACC.std():.3f}')\n",
    "print(f'AUC: {AUC.mean():.3f} ± {AUC.std():.3f}')"
   ]
  },
  {
   "cell_type": "markdown",
   "metadata": {},
   "source": [
    "## 4b 500k datasets"
   ]
  },
  {
   "cell_type": "code",
   "execution_count": 6,
   "metadata": {},
   "outputs": [
    {
     "name": "stderr",
     "output_type": "stream",
     "text": [
      "2024-11-19 15:27:34.481087: I tensorflow/core/platform/cpu_feature_guard.cc:193] This TensorFlow binary is optimized with oneAPI Deep Neural Network Library (oneDNN) to use the following CPU instructions in performance-critical operations:  SSE4.1 SSE4.2 AVX AVX2 AVX512F AVX512_VNNI FMA\n",
      "To enable them in other operations, rebuild TensorFlow with the appropriate compiler flags.\n",
      "2024-11-19 15:27:35.122989: I tensorflow/core/common_runtime/gpu/gpu_device.cc:1613] Created device /job:localhost/replica:0/task:0/device:GPU:0 with 22288 MB memory:  -> device: 0, name: NVIDIA GeForce RTX 3090, pci bus id: 0000:d8:00.0, compute capability: 8.6\n"
     ]
    },
    {
     "name": "stdout",
     "output_type": "stream",
     "text": [
      " 66/469 [===>..........................] - ETA: 0s"
     ]
    },
    {
     "name": "stderr",
     "output_type": "stream",
     "text": [
      "2024-11-19 15:27:37.105512: I tensorflow/compiler/xla/stream_executor/cuda/cuda_blas.cc:630] TensorFloat-32 will be used for the matrix multiplication. This will only be logged once.\n"
     ]
    },
    {
     "name": "stdout",
     "output_type": "stream",
     "text": [
      "469/469 [==============================] - 2s 2ms/step\n",
      "469/469 [==============================] - 1s 1ms/step\n",
      "469/469 [==============================] - 1s 2ms/step\n",
      "469/469 [==============================] - 1s 2ms/step\n",
      "469/469 [==============================] - 1s 1ms/step\n",
      "469/469 [==============================] - 1s 2ms/step\n",
      "469/469 [==============================] - 1s 2ms/step\n",
      "469/469 [==============================] - 1s 2ms/step\n",
      "469/469 [==============================] - 1s 2ms/step\n",
      "469/469 [==============================] - 1s 1ms/step\n",
      "ACC: 0.844 ± 0.007\n",
      "AUC: 0.906 ± 0.008\n"
     ]
    }
   ],
   "source": [
    "pairing_method = 'abs_pairing'\n",
    "model_name = f'DNN_models/last_model_resonant_4b-{pairing_method}'\n",
    "X_test, y_test = get_testing_data(pairing_method)\n",
    "\n",
    "print_ACC_AUC(model_name, X_test, y_test)"
   ]
  },
  {
   "cell_type": "code",
   "execution_count": 7,
   "metadata": {},
   "outputs": [
    {
     "name": "stdout",
     "output_type": "stream",
     "text": [
      "469/469 [==============================] - 1s 2ms/step\n",
      "469/469 [==============================] - 1s 2ms/step\n",
      "469/469 [==============================] - 1s 2ms/step\n",
      "469/469 [==============================] - 1s 2ms/step\n",
      "469/469 [==============================] - 1s 1ms/step\n",
      "469/469 [==============================] - 1s 1ms/step\n",
      "469/469 [==============================] - 1s 2ms/step\n",
      "469/469 [==============================] - 1s 2ms/step\n",
      "469/469 [==============================] - 1s 2ms/step\n",
      "469/469 [==============================] - 1s 2ms/step\n",
      "ACC: 0.844 ± 0.003\n",
      "AUC: 0.908 ± 0.004\n"
     ]
    }
   ],
   "source": [
    "pairing_method = 'chi2_pairing'\n",
    "model_name = f'DNN_models/last_model_resonant_4b-{pairing_method}'\n",
    "X_test, y_test = get_testing_data(pairing_method)\n",
    "\n",
    "print_ACC_AUC(model_name, X_test, y_test)"
   ]
  },
  {
   "cell_type": "code",
   "execution_count": 8,
   "metadata": {},
   "outputs": [
    {
     "name": "stdout",
     "output_type": "stream",
     "text": [
      "469/469 [==============================] - 1s 2ms/step\n",
      "469/469 [==============================] - 1s 2ms/step\n",
      "469/469 [==============================] - 1s 1ms/step\n",
      "469/469 [==============================] - 1s 1ms/step\n",
      "469/469 [==============================] - 1s 1ms/step\n",
      "469/469 [==============================] - 1s 2ms/step\n",
      "469/469 [==============================] - 1s 2ms/step\n",
      "469/469 [==============================] - 1s 2ms/step\n",
      "469/469 [==============================] - 1s 2ms/step\n",
      "469/469 [==============================] - 1s 2ms/step\n",
      "ACC: 0.836 ± 0.004\n",
      "AUC: 0.907 ± 0.004\n"
     ]
    }
   ],
   "source": [
    "pairing_method = '4b_SPANet_pairing'\n",
    "model_name = f'DNN_models/last_model_resonant_4b-{pairing_method}'\n",
    "X_test, y_test = get_testing_data(pairing_method)\n",
    "\n",
    "print_ACC_AUC(model_name, X_test, y_test)"
   ]
  },
  {
   "cell_type": "markdown",
   "metadata": {},
   "source": [
    "## 4b 500k datasets, 256 nodes"
   ]
  },
  {
   "cell_type": "code",
   "execution_count": 6,
   "metadata": {},
   "outputs": [
    {
     "name": "stderr",
     "output_type": "stream",
     "text": [
      "2024-11-19 16:05:19.594318: I tensorflow/core/platform/cpu_feature_guard.cc:193] This TensorFlow binary is optimized with oneAPI Deep Neural Network Library (oneDNN) to use the following CPU instructions in performance-critical operations:  SSE4.1 SSE4.2 AVX AVX2 AVX512F AVX512_VNNI FMA\n",
      "To enable them in other operations, rebuild TensorFlow with the appropriate compiler flags.\n",
      "2024-11-19 16:05:20.198835: I tensorflow/core/common_runtime/gpu/gpu_device.cc:1613] Created device /job:localhost/replica:0/task:0/device:GPU:0 with 22288 MB memory:  -> device: 0, name: NVIDIA GeForce RTX 3090, pci bus id: 0000:d8:00.0, compute capability: 8.6\n"
     ]
    },
    {
     "name": "stdout",
     "output_type": "stream",
     "text": [
      " 56/469 [==>...........................] - ETA: 1s"
     ]
    },
    {
     "name": "stderr",
     "output_type": "stream",
     "text": [
      "2024-11-19 16:05:22.098015: I tensorflow/compiler/xla/stream_executor/cuda/cuda_blas.cc:630] TensorFloat-32 will be used for the matrix multiplication. This will only be logged once.\n"
     ]
    },
    {
     "name": "stdout",
     "output_type": "stream",
     "text": [
      "469/469 [==============================] - 2s 3ms/step\n",
      "469/469 [==============================] - 1s 3ms/step\n",
      "469/469 [==============================] - 1s 3ms/step\n",
      "469/469 [==============================] - 1s 3ms/step\n",
      "469/469 [==============================] - 1s 3ms/step\n",
      "469/469 [==============================] - 1s 3ms/step\n",
      "469/469 [==============================] - 1s 3ms/step\n",
      "469/469 [==============================] - 1s 3ms/step\n",
      "469/469 [==============================] - 1s 3ms/step\n",
      "469/469 [==============================] - 1s 3ms/step\n",
      "ACC: 0.8552 ± 0.0015\n",
      "AUC: 0.9221 ± 0.0006\n"
     ]
    }
   ],
   "source": [
    "pairing_method = 'abs_pairing'\n",
    "model_name = f'DNN_models/last_model_resonant_4b_node_256-{pairing_method}'\n",
    "X_test, y_test = get_testing_data(pairing_method)\n",
    "\n",
    "print_ACC_AUC(model_name, X_test, y_test)"
   ]
  },
  {
   "cell_type": "code",
   "execution_count": 7,
   "metadata": {},
   "outputs": [
    {
     "name": "stdout",
     "output_type": "stream",
     "text": [
      "469/469 [==============================] - 1s 3ms/step\n",
      "469/469 [==============================] - 1s 3ms/step\n",
      "469/469 [==============================] - 1s 3ms/step\n",
      "469/469 [==============================] - 1s 3ms/step\n",
      "469/469 [==============================] - 1s 3ms/step\n",
      "469/469 [==============================] - 1s 3ms/step\n",
      "469/469 [==============================] - 1s 3ms/step\n",
      "469/469 [==============================] - 1s 3ms/step\n",
      "469/469 [==============================] - 1s 3ms/step\n",
      "469/469 [==============================] - 1s 3ms/step\n",
      "ACC: 0.8537 ± 0.0009\n",
      "AUC: 0.9212 ± 0.0006\n"
     ]
    }
   ],
   "source": [
    "pairing_method = 'chi2_pairing'\n",
    "model_name = f'DNN_models/last_model_resonant_4b_node_256-{pairing_method}'\n",
    "X_test, y_test = get_testing_data(pairing_method)\n",
    "\n",
    "print_ACC_AUC(model_name, X_test, y_test)"
   ]
  },
  {
   "cell_type": "code",
   "execution_count": 8,
   "metadata": {},
   "outputs": [
    {
     "name": "stdout",
     "output_type": "stream",
     "text": [
      "469/469 [==============================] - 1s 3ms/step\n",
      "469/469 [==============================] - 1s 3ms/step\n",
      "469/469 [==============================] - 1s 3ms/step\n",
      "469/469 [==============================] - 1s 3ms/step\n",
      "469/469 [==============================] - 1s 3ms/step\n",
      "469/469 [==============================] - 1s 3ms/step\n",
      "469/469 [==============================] - 1s 3ms/step\n",
      "469/469 [==============================] - 1s 3ms/step\n",
      "469/469 [==============================] - 1s 3ms/step\n",
      "469/469 [==============================] - 1s 3ms/step\n",
      "ACC: 0.8543 ± 0.0009\n",
      "AUC: 0.9241 ± 0.0003\n"
     ]
    }
   ],
   "source": [
    "pairing_method = '4b_SPANet_pairing'\n",
    "model_name = f'DNN_models/last_model_resonant_4b_node_256-{pairing_method}'\n",
    "X_test, y_test = get_testing_data(pairing_method)\n",
    "\n",
    "print_ACC_AUC(model_name, X_test, y_test)"
   ]
  },
  {
   "cell_type": "markdown",
   "metadata": {},
   "source": [
    "## 4b 1M datasets, 256 nodes"
   ]
  },
  {
   "cell_type": "code",
   "execution_count": 6,
   "metadata": {},
   "outputs": [
    {
     "name": "stderr",
     "output_type": "stream",
     "text": [
      "2024-12-03 16:08:41.487551: I tensorflow/core/platform/cpu_feature_guard.cc:193] This TensorFlow binary is optimized with oneAPI Deep Neural Network Library (oneDNN) to use the following CPU instructions in performance-critical operations:  SSE4.1 SSE4.2 AVX AVX2 AVX512F AVX512_VNNI FMA\n",
      "To enable them in other operations, rebuild TensorFlow with the appropriate compiler flags.\n",
      "2024-12-03 16:08:42.101323: I tensorflow/core/common_runtime/gpu/gpu_device.cc:1613] Created device /job:localhost/replica:0/task:0/device:GPU:0 with 21847 MB memory:  -> device: 0, name: NVIDIA GeForce RTX 3090, pci bus id: 0000:d8:00.0, compute capability: 8.6\n"
     ]
    },
    {
     "name": "stdout",
     "output_type": "stream",
     "text": [
      "49/49 [==============================] - 1s 3ms/step\n"
     ]
    },
    {
     "name": "stderr",
     "output_type": "stream",
     "text": [
      "2024-12-03 16:08:44.000042: I tensorflow/compiler/xla/stream_executor/cuda/cuda_blas.cc:630] TensorFloat-32 will be used for the matrix multiplication. This will only be logged once.\n"
     ]
    },
    {
     "name": "stdout",
     "output_type": "stream",
     "text": [
      "49/49 [==============================] - 0s 2ms/step\n",
      "49/49 [==============================] - 0s 2ms/step\n",
      "49/49 [==============================] - 0s 2ms/step\n",
      "49/49 [==============================] - 0s 2ms/step\n",
      "49/49 [==============================] - 0s 2ms/step\n",
      "49/49 [==============================] - 0s 2ms/step\n",
      "49/49 [==============================] - 0s 2ms/step\n",
      "49/49 [==============================] - 0s 2ms/step\n",
      "49/49 [==============================] - 0s 2ms/step\n",
      "ACC: 0.8651 ± 0.0009\n",
      "AUC: 0.9317 ± 0.0005\n"
     ]
    }
   ],
   "source": [
    "pairing_method = 'abs_pairing'\n",
    "model_name = f'DNN_models/last_model_resonant_4b_1M-{pairing_method}'\n",
    "X_test = np.load(f'./DNN_features/triHiggs-4pT40_6b-{pairing_method}-data.npy')\n",
    "y_test = np.load(f'./DNN_features/triHiggs-4pT40_6b-{pairing_method}-label.npy')\n",
    "\n",
    "print_ACC_AUC(model_name, X_test, y_test)"
   ]
  },
  {
   "cell_type": "code",
   "execution_count": 7,
   "metadata": {},
   "outputs": [
    {
     "name": "stdout",
     "output_type": "stream",
     "text": [
      "49/49 [==============================] - 0s 2ms/step\n",
      "49/49 [==============================] - 0s 2ms/step\n",
      "49/49 [==============================] - 0s 2ms/step\n",
      "49/49 [==============================] - 0s 2ms/step\n",
      "49/49 [==============================] - 0s 2ms/step\n",
      "49/49 [==============================] - 0s 2ms/step\n",
      "49/49 [==============================] - 0s 2ms/step\n",
      "49/49 [==============================] - 0s 3ms/step\n",
      "49/49 [==============================] - 0s 2ms/step\n",
      "49/49 [==============================] - 0s 2ms/step\n",
      "ACC: 0.8645 ± 0.0006\n",
      "AUC: 0.9311 ± 0.0004\n"
     ]
    }
   ],
   "source": [
    "pairing_method = 'chi2_pairing'\n",
    "model_name = f'DNN_models/last_model_resonant_4b_1M-{pairing_method}'\n",
    "X_test = np.load(f'./DNN_features/triHiggs-4pT40_6b-{pairing_method}-data.npy')\n",
    "y_test = np.load(f'./DNN_features/triHiggs-4pT40_6b-{pairing_method}-label.npy')\n",
    "\n",
    "print_ACC_AUC(model_name, X_test, y_test)"
   ]
  },
  {
   "cell_type": "code",
   "execution_count": 8,
   "metadata": {},
   "outputs": [
    {
     "name": "stdout",
     "output_type": "stream",
     "text": [
      "49/49 [==============================] - 0s 2ms/step\n",
      "49/49 [==============================] - 0s 2ms/step\n",
      "49/49 [==============================] - 0s 2ms/step\n",
      "49/49 [==============================] - 0s 2ms/step\n",
      "49/49 [==============================] - 0s 2ms/step\n",
      "49/49 [==============================] - 1s 2ms/step\n",
      "49/49 [==============================] - 0s 2ms/step\n",
      "49/49 [==============================] - 0s 2ms/step\n",
      "49/49 [==============================] - 0s 2ms/step\n",
      "49/49 [==============================] - 0s 3ms/step\n",
      "ACC: 0.8648 ± 0.0004\n",
      "AUC: 0.9330 ± 0.0004\n"
     ]
    }
   ],
   "source": [
    "pairing_method = '4b_SPANet_pairing'\n",
    "model_name = f'DNN_models/last_model_resonant_4b_1M-{pairing_method}'\n",
    "X_test = np.load(f'./DNN_features/triHiggs-4pT40_6b-{pairing_method}-data.npy')\n",
    "y_test = np.load(f'./DNN_features/triHiggs-4pT40_6b-{pairing_method}-label.npy')\n",
    "\n",
    "print_ACC_AUC(model_name, X_test, y_test)"
   ]
  },
  {
   "cell_type": "markdown",
   "metadata": {},
   "source": [
    "## 4b mixed mass 1M datasets, 256 nodes"
   ]
  },
  {
   "cell_type": "code",
   "execution_count": 6,
   "metadata": {},
   "outputs": [
    {
     "name": "stderr",
     "output_type": "stream",
     "text": [
      "2024-12-18 09:27:15.379710: I tensorflow/core/platform/cpu_feature_guard.cc:193] This TensorFlow binary is optimized with oneAPI Deep Neural Network Library (oneDNN) to use the following CPU instructions in performance-critical operations:  SSE4.1 SSE4.2 AVX AVX2 AVX512F AVX512_VNNI FMA\n",
      "To enable them in other operations, rebuild TensorFlow with the appropriate compiler flags.\n",
      "2024-12-18 09:27:16.566897: I tensorflow/core/common_runtime/gpu/gpu_device.cc:1613] Created device /job:localhost/replica:0/task:0/device:GPU:0 with 22288 MB memory:  -> device: 0, name: NVIDIA GeForce RTX 3090, pci bus id: 0000:d8:00.0, compute capability: 8.6\n"
     ]
    },
    {
     "name": "stdout",
     "output_type": "stream",
     "text": [
      "49/49 [==============================] - 2s 2ms/step\n"
     ]
    },
    {
     "name": "stderr",
     "output_type": "stream",
     "text": [
      "2024-12-18 09:27:20.783602: I tensorflow/compiler/xla/stream_executor/cuda/cuda_blas.cc:630] TensorFloat-32 will be used for the matrix multiplication. This will only be logged once.\n"
     ]
    },
    {
     "name": "stdout",
     "output_type": "stream",
     "text": [
      "49/49 [==============================] - 0s 3ms/step\n",
      "49/49 [==============================] - 0s 2ms/step\n",
      "49/49 [==============================] - 0s 2ms/step\n",
      "49/49 [==============================] - 0s 3ms/step\n",
      "49/49 [==============================] - 0s 2ms/step\n",
      "49/49 [==============================] - 0s 2ms/step\n",
      "49/49 [==============================] - 0s 2ms/step\n",
      "49/49 [==============================] - 0s 2ms/step\n",
      "49/49 [==============================] - 0s 2ms/step\n",
      "ACC: 0.8262 ± 0.0004\n",
      "AUC: 0.8968 ± 0.0003\n",
      "$0.8262 \\pm 0.0004$ & $0.8968 \\pm 0.0003$\n"
     ]
    }
   ],
   "source": [
    "pairing_method = 'abs_pairing'\n",
    "model_name = f'DNN_models/last_model_resonant_4b_mix_1M-{pairing_method}'\n",
    "X_test = np.load(f'./DNN_features/triHiggs-4pT40_6b-mix-{pairing_method}-data.npy')\n",
    "y_test = np.load(f'./DNN_features/triHiggs-4pT40_6b-mix-{pairing_method}-label.npy')\n",
    "\n",
    "print_ACC_AUC(model_name, X_test, y_test)"
   ]
  },
  {
   "cell_type": "code",
   "execution_count": 7,
   "metadata": {},
   "outputs": [
    {
     "name": "stdout",
     "output_type": "stream",
     "text": [
      "49/49 [==============================] - 0s 2ms/step\n",
      "49/49 [==============================] - 0s 3ms/step\n",
      "49/49 [==============================] - 0s 2ms/step\n",
      "49/49 [==============================] - 0s 2ms/step\n",
      "49/49 [==============================] - 0s 2ms/step\n",
      "49/49 [==============================] - 0s 2ms/step\n",
      "49/49 [==============================] - 0s 2ms/step\n",
      "49/49 [==============================] - 0s 2ms/step\n",
      "49/49 [==============================] - 0s 2ms/step\n",
      "49/49 [==============================] - 0s 2ms/step\n",
      "ACC: 0.8248 ± 0.0004\n",
      "AUC: 0.8953 ± 0.0003\n",
      "$0.8248 \\pm 0.0004$ & $0.8953 \\pm 0.0003$\n"
     ]
    }
   ],
   "source": [
    "pairing_method = 'chi2_pairing'\n",
    "model_name = f'DNN_models/last_model_resonant_4b_mix_1M-{pairing_method}'\n",
    "X_test = np.load(f'./DNN_features/triHiggs-4pT40_6b-mix-{pairing_method}-data.npy')\n",
    "y_test = np.load(f'./DNN_features/triHiggs-4pT40_6b-mix-{pairing_method}-label.npy')\n",
    "\n",
    "print_ACC_AUC(model_name, X_test, y_test)"
   ]
  },
  {
   "cell_type": "code",
   "execution_count": 8,
   "metadata": {},
   "outputs": [
    {
     "name": "stdout",
     "output_type": "stream",
     "text": [
      "49/49 [==============================] - 0s 2ms/step\n",
      "49/49 [==============================] - 0s 2ms/step\n",
      "49/49 [==============================] - 0s 2ms/step\n",
      "49/49 [==============================] - 0s 2ms/step\n",
      "49/49 [==============================] - 0s 2ms/step\n",
      "49/49 [==============================] - 0s 2ms/step\n",
      "49/49 [==============================] - 0s 2ms/step\n",
      "49/49 [==============================] - 0s 2ms/step\n",
      "49/49 [==============================] - 0s 2ms/step\n",
      "49/49 [==============================] - 0s 2ms/step\n",
      "ACC: 0.8215 ± 0.0008\n",
      "AUC: 0.8939 ± 0.0003\n",
      "$0.8215 \\pm 0.0008$ & $0.8939 \\pm 0.0003$\n"
     ]
    }
   ],
   "source": [
    "pairing_method = '4b_SPANet_pairing'\n",
    "model_name = f'DNN_models/last_model_resonant_4b_mix_1M-{pairing_method}'\n",
    "X_test = np.load(f'./DNN_features/triHiggs-4pT40_6b-mix-{pairing_method}-data.npy')\n",
    "y_test = np.load(f'./DNN_features/triHiggs-4pT40_6b-mix-{pairing_method}-label.npy')\n",
    "\n",
    "print_ACC_AUC(model_name, X_test, y_test)"
   ]
  }
 ],
 "metadata": {
  "kernelspec": {
   "display_name": "tf2",
   "language": "python",
   "name": "python3"
  },
  "language_info": {
   "codemirror_mode": {
    "name": "ipython",
    "version": 3
   },
   "file_extension": ".py",
   "mimetype": "text/x-python",
   "name": "python",
   "nbconvert_exporter": "python",
   "pygments_lexer": "ipython3",
   "version": "3.8.16"
  }
 },
 "nbformat": 4,
 "nbformat_minor": 2
}
