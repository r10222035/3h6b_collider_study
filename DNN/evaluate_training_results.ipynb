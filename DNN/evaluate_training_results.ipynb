{
 "cells": [
  {
   "cell_type": "code",
   "execution_count": 1,
   "metadata": {},
   "outputs": [
    {
     "name": "stderr",
     "output_type": "stream",
     "text": [
      "2024-12-24 12:44:06.806461: I tensorflow/core/platform/cpu_feature_guard.cc:193] This TensorFlow binary is optimized with oneAPI Deep Neural Network Library (oneDNN) to use the following CPU instructions in performance-critical operations:  SSE4.1 SSE4.2 AVX AVX2 AVX512F AVX512_VNNI FMA\n",
      "To enable them in other operations, rebuild TensorFlow with the appropriate compiler flags.\n",
      "2024-12-24 12:44:06.889088: I tensorflow/core/util/port.cc:104] oneDNN custom operations are on. You may see slightly different numerical results due to floating-point round-off errors from different computation orders. To turn them off, set the environment variable `TF_ENABLE_ONEDNN_OPTS=0`.\n"
     ]
    }
   ],
   "source": [
    "import os\n",
    "import json\n",
    "\n",
    "import numpy as np\n",
    "import pandas as pd\n",
    "import tensorflow as tf\n",
    "\n",
    "from tqdm import tqdm\n",
    "from pathlib import Path\n",
    "from sklearn.metrics import roc_curve, roc_auc_score, accuracy_score\n",
    "\n",
    "os.environ['CUDA_VISIBLE_DEVICES'] = '2'\n",
    "# solve the problem of \"libdevice not found at ./libdevice.10.bc\"\n",
    "os.environ['XLA_FLAGS'] = '--xla_gpu_cuda_data_dir=/home/r10222035/.conda/envs/tf2'"
   ]
  },
  {
   "cell_type": "code",
   "execution_count": 2,
   "metadata": {},
   "outputs": [],
   "source": [
    "def get_highest_accuracy(y_true, y_pred):\n",
    "    _, _, thresholds = roc_curve(y_true, y_pred)\n",
    "    # compute highest accuracy\n",
    "    thresholds = np.array(thresholds)\n",
    "    if len(thresholds) > 1000:\n",
    "        thresholds = np.percentile(thresholds, np.linspace(0, 100, 1001))\n",
    "    accuracy_scores = []\n",
    "    for threshold in thresholds:\n",
    "        accuracy_scores.append(accuracy_score(y_true, y_pred>threshold))\n",
    "\n",
    "    accuracies = np.array(accuracy_scores)\n",
    "    return accuracies.max()"
   ]
  },
  {
   "cell_type": "code",
   "execution_count": 3,
   "metadata": {},
   "outputs": [],
   "source": [
    "def get_sample_size(y):\n",
    "    if len(y.shape) == 1:\n",
    "        ns = (y == 1).sum()\n",
    "        nb = (y == 0).sum()\n",
    "    else:\n",
    "        ns = (y.argmax(axis=1) == 1).sum()\n",
    "        nb = (y.argmax(axis=1) == 0).sum()\n",
    "    print(ns, nb)\n",
    "    return ns, nb"
   ]
  },
  {
   "cell_type": "code",
   "execution_count": 4,
   "metadata": {},
   "outputs": [],
   "source": [
    "def get_testing_data(pairing_method):\n",
    "    config_file = f'config_files/{pairing_method}_config_01.json'\n",
    "\n",
    "    sig_path = f'./DNN_features/resonant-{pairing_method}.npy'\n",
    "    bkg_path = f'./DNN_features/pp6b-{pairing_method}.npy'\n",
    "\n",
    "    with open(config_file, 'r') as f:\n",
    "        config = json.load(f)\n",
    "        batch_size = config['batch_size']\n",
    "\n",
    "    ns, nb = 50000, 50000\n",
    "    X_s = np.load(sig_path)[:ns]\n",
    "    X_b = np.load(bkg_path)[:nb]\n",
    "\n",
    "    r_train, r_val, r_test = 0.7, 0.15, 0.15\n",
    "\n",
    "    X_s_test = X_s[int(len(X_s)*(r_train+r_val)):]\n",
    "    X_b_test = X_b[int(len(X_b)*(r_train+r_val)):]\n",
    "\n",
    "    X_test = np.concatenate((X_s_test, X_b_test), axis=0)\n",
    "    y_test = np.concatenate((np.ones(len(X_s_test)), np.zeros(len(X_b_test))), axis=0)\n",
    "\n",
    "    return X_test, y_test"
   ]
  },
  {
   "cell_type": "code",
   "execution_count": 5,
   "metadata": {},
   "outputs": [],
   "source": [
    "def print_ACC_AUC(model_name, X, y):\n",
    "    AUC, ACC = [], []\n",
    "    for i in range(1, 11):\n",
    "\n",
    "        save_model_name = f'{model_name}_{i:02}/'\n",
    "        loaded_model = tf.keras.models.load_model(save_model_name)\n",
    "        y_pred = loaded_model.predict(X, batch_size=2048)\n",
    "        auc = roc_auc_score(y, y_pred)\n",
    "        acc = get_highest_accuracy(y, y_pred)\n",
    "        AUC.append(auc)\n",
    "        ACC.append(acc)\n",
    "\n",
    "    AUC = np.array(AUC)\n",
    "    ACC = np.array(ACC)\n",
    "\n",
    "    print(f'ACC: {ACC.mean():.4f} ± {ACC.std():.4f}')\n",
    "    print(f'AUC: {AUC.mean():.4f} ± {AUC.std():.4f}')\n",
    "    print(f'${ACC.mean():.4f} \\pm {ACC.std():.4f}$ & ${AUC.mean():.4f} \\pm {AUC.std():.4f}$')"
   ]
  },
  {
   "cell_type": "code",
   "execution_count": null,
   "metadata": {},
   "outputs": [],
   "source": [
    "def get_AUC_ACC(y, y_pred):\n",
    "    AUC = roc_auc_score(y, y_pred)\n",
    "    fpr, tpr, thresholds = roc_curve(y, y_pred)\n",
    "    accuracy_scores = []\n",
    "    # 最多用 1000 個\n",
    "    if len(thresholds) > 1000:\n",
    "        thresholds = np.percentile(thresholds, np.linspace(0, 100, 1001))\n",
    "\n",
    "    for threshold in tqdm(thresholds):\n",
    "        accuracy_scores.append(accuracy_score(y, y_pred > threshold))\n",
    "\n",
    "    accuracies = np.array(accuracy_scores)\n",
    "    ACC = accuracies.max()\n",
    "\n",
    "    return AUC, ACC"
   ]
  },
  {
   "cell_type": "markdown",
   "metadata": {},
   "source": [
    "# Training results"
   ]
  },
  {
   "cell_type": "markdown",
   "metadata": {},
   "source": [
    "## 50k datasets"
   ]
  },
  {
   "cell_type": "code",
   "execution_count": 7,
   "metadata": {},
   "outputs": [],
   "source": [
    "pairing_method = 'abs_pairing'\n",
    "X_test, y_test = get_testing_data(pairing_method)"
   ]
  },
  {
   "cell_type": "code",
   "execution_count": 8,
   "metadata": {},
   "outputs": [
    {
     "name": "stdout",
     "output_type": "stream",
     "text": [
      "469/469 [==============================] - 1s 2ms/step\n",
      "469/469 [==============================] - 1s 2ms/step\n",
      "469/469 [==============================] - 1s 1ms/step\n",
      "469/469 [==============================] - 1s 2ms/step\n",
      "469/469 [==============================] - 1s 2ms/step\n",
      "469/469 [==============================] - 1s 2ms/step\n",
      "469/469 [==============================] - 1s 2ms/step\n",
      "469/469 [==============================] - 1s 2ms/step\n",
      "469/469 [==============================] - 1s 2ms/step\n",
      "469/469 [==============================] - 1s 2ms/step\n",
      "ACC: 0.827 ± 0.038\n",
      "AUC: 0.886 ± 0.048\n"
     ]
    }
   ],
   "source": [
    "AUC, ACC = [], []\n",
    "for i in range(1, 11):\n",
    "\n",
    "    save_model_name = f'DNN_models/last_model_resonant_{pairing_method}_{i:02}/'\n",
    "    loaded_model = tf.keras.models.load_model(save_model_name)\n",
    "    X, y = X_test, y_test\n",
    "    y_pred = loaded_model.predict(X)\n",
    "    auc = roc_auc_score(y, y_pred)\n",
    "    acc = get_highest_accuracy(y, y_pred)\n",
    "    AUC.append(auc)\n",
    "    ACC.append(acc)\n",
    "\n",
    "AUC = np.array(AUC)\n",
    "ACC = np.array(ACC)\n",
    "\n",
    "print(f'ACC: {ACC.mean():.3f} ± {ACC.std():.3f}')\n",
    "print(f'AUC: {AUC.mean():.3f} ± {AUC.std():.3f}')"
   ]
  },
  {
   "cell_type": "code",
   "execution_count": 9,
   "metadata": {},
   "outputs": [],
   "source": [
    "pairing_method = 'chi2_pairing'\n",
    "X_test, y_test = get_testing_data(pairing_method)"
   ]
  },
  {
   "cell_type": "code",
   "execution_count": 10,
   "metadata": {},
   "outputs": [
    {
     "name": "stdout",
     "output_type": "stream",
     "text": [
      "469/469 [==============================] - 1s 2ms/step\n",
      "469/469 [==============================] - 1s 2ms/step\n",
      "469/469 [==============================] - 1s 2ms/step\n",
      "469/469 [==============================] - 1s 2ms/step\n",
      "469/469 [==============================] - 1s 2ms/step\n",
      "469/469 [==============================] - 1s 2ms/step\n",
      "469/469 [==============================] - 1s 2ms/step\n",
      "469/469 [==============================] - 1s 1ms/step\n",
      "469/469 [==============================] - 1s 2ms/step\n",
      "469/469 [==============================] - 1s 2ms/step\n",
      "ACC: 0.837 ± 0.003\n",
      "AUC: 0.900 ± 0.002\n"
     ]
    }
   ],
   "source": [
    "AUC, ACC = [], []\n",
    "for i in range(1, 11):\n",
    "\n",
    "    save_model_name = f'DNN_models/last_model_resonant_{pairing_method}_{i:02}/'\n",
    "    loaded_model = tf.keras.models.load_model(save_model_name)\n",
    "    X, y = X_test, y_test\n",
    "    y_pred = loaded_model.predict(X)\n",
    "    auc = roc_auc_score(y, y_pred)\n",
    "    acc = get_highest_accuracy(y, y_pred)\n",
    "    AUC.append(auc)\n",
    "    ACC.append(acc)\n",
    "\n",
    "AUC = np.array(AUC)\n",
    "ACC = np.array(ACC)\n",
    "\n",
    "print(f'ACC: {ACC.mean():.3f} ± {ACC.std():.3f}')\n",
    "print(f'AUC: {AUC.mean():.3f} ± {AUC.std():.3f}')"
   ]
  },
  {
   "cell_type": "code",
   "execution_count": 11,
   "metadata": {},
   "outputs": [],
   "source": [
    "pairing_method = '4b_SPANet_pairing'\n",
    "X_test, y_test = get_testing_data(pairing_method)"
   ]
  },
  {
   "cell_type": "code",
   "execution_count": 12,
   "metadata": {},
   "outputs": [
    {
     "name": "stdout",
     "output_type": "stream",
     "text": [
      "469/469 [==============================] - 1s 2ms/step\n",
      "469/469 [==============================] - 1s 2ms/step\n",
      "469/469 [==============================] - 1s 2ms/step\n",
      "469/469 [==============================] - 1s 2ms/step\n",
      "469/469 [==============================] - 1s 2ms/step\n",
      "469/469 [==============================] - 1s 1ms/step\n",
      "469/469 [==============================] - 1s 1ms/step\n",
      "469/469 [==============================] - 1s 2ms/step\n",
      "469/469 [==============================] - 1s 2ms/step\n",
      "469/469 [==============================] - 1s 1ms/step\n",
      "ACC: 0.829 ± 0.004\n",
      "AUC: 0.899 ± 0.006\n"
     ]
    }
   ],
   "source": [
    "AUC, ACC = [], []\n",
    "for i in range(1, 11):\n",
    "\n",
    "    save_model_name = f'DNN_models/last_model_resonant_{pairing_method}_{i:02}/'\n",
    "    loaded_model = tf.keras.models.load_model(save_model_name)\n",
    "    X, y = X_test, y_test\n",
    "    y_pred = loaded_model.predict(X)\n",
    "    auc = roc_auc_score(y, y_pred)\n",
    "    acc = get_highest_accuracy(y, y_pred)\n",
    "    AUC.append(auc)\n",
    "    ACC.append(acc)\n",
    "\n",
    "AUC = np.array(AUC)\n",
    "ACC = np.array(ACC)\n",
    "\n",
    "print(f'ACC: {ACC.mean():.3f} ± {ACC.std():.3f}')\n",
    "print(f'AUC: {AUC.mean():.3f} ± {AUC.std():.3f}')"
   ]
  },
  {
   "cell_type": "markdown",
   "metadata": {},
   "source": [
    "## 100k datasets"
   ]
  },
  {
   "cell_type": "code",
   "execution_count": 13,
   "metadata": {},
   "outputs": [],
   "source": [
    "pairing_method = 'abs_pairing'\n",
    "X_test, y_test = get_testing_data(pairing_method)"
   ]
  },
  {
   "cell_type": "code",
   "execution_count": 14,
   "metadata": {},
   "outputs": [
    {
     "name": "stdout",
     "output_type": "stream",
     "text": [
      "469/469 [==============================] - 1s 2ms/step\n",
      "469/469 [==============================] - 1s 2ms/step\n",
      "469/469 [==============================] - 1s 2ms/step\n",
      "469/469 [==============================] - 1s 1ms/step\n",
      "469/469 [==============================] - 1s 2ms/step\n",
      "469/469 [==============================] - 1s 2ms/step\n",
      "469/469 [==============================] - 1s 2ms/step\n",
      "469/469 [==============================] - 1s 2ms/step\n",
      "469/469 [==============================] - 1s 2ms/step\n",
      "469/469 [==============================] - 1s 1ms/step\n",
      "ACC: 0.841 ± 0.003\n",
      "AUC: 0.903 ± 0.003\n"
     ]
    }
   ],
   "source": [
    "AUC, ACC = [], []\n",
    "for i in range(1, 11):\n",
    "\n",
    "    save_model_name = f'DNN_models/last_model_resonant_4b-{pairing_method}_{i:02}/'\n",
    "    loaded_model = tf.keras.models.load_model(save_model_name)\n",
    "    X, y = X_test, y_test\n",
    "    y_pred = loaded_model.predict(X)\n",
    "    auc = roc_auc_score(y, y_pred)\n",
    "    acc = get_highest_accuracy(y, y_pred)\n",
    "    AUC.append(auc)\n",
    "    ACC.append(acc)\n",
    "\n",
    "AUC = np.array(AUC)\n",
    "ACC = np.array(ACC)\n",
    "\n",
    "print(f'ACC: {ACC.mean():.3f} ± {ACC.std():.3f}')\n",
    "print(f'AUC: {AUC.mean():.3f} ± {AUC.std():.3f}')"
   ]
  },
  {
   "cell_type": "code",
   "execution_count": 15,
   "metadata": {},
   "outputs": [],
   "source": [
    "pairing_method = 'chi2_pairing'\n",
    "X_test, y_test = get_testing_data(pairing_method)"
   ]
  },
  {
   "cell_type": "code",
   "execution_count": 16,
   "metadata": {},
   "outputs": [
    {
     "name": "stdout",
     "output_type": "stream",
     "text": [
      "469/469 [==============================] - 1s 2ms/step\n",
      "469/469 [==============================] - 1s 1ms/step\n",
      "469/469 [==============================] - 1s 1ms/step\n",
      "469/469 [==============================] - 1s 2ms/step\n",
      "469/469 [==============================] - 1s 2ms/step\n",
      "469/469 [==============================] - 1s 2ms/step\n",
      "469/469 [==============================] - 1s 2ms/step\n",
      "469/469 [==============================] - 1s 2ms/step\n",
      "469/469 [==============================] - 1s 1ms/step\n",
      "469/469 [==============================] - 1s 2ms/step\n",
      "ACC: 0.838 ± 0.003\n",
      "AUC: 0.901 ± 0.002\n"
     ]
    }
   ],
   "source": [
    "AUC, ACC = [], []\n",
    "for i in range(1, 11):\n",
    "\n",
    "    save_model_name = f'DNN_models/last_model_resonant_4b-{pairing_method}_{i:02}/'\n",
    "    loaded_model = tf.keras.models.load_model(save_model_name)\n",
    "    X, y = X_test, y_test\n",
    "    y_pred = loaded_model.predict(X)\n",
    "    auc = roc_auc_score(y, y_pred)\n",
    "    acc = get_highest_accuracy(y, y_pred)\n",
    "    AUC.append(auc)\n",
    "    ACC.append(acc)\n",
    "\n",
    "AUC = np.array(AUC)\n",
    "ACC = np.array(ACC)\n",
    "\n",
    "print(f'ACC: {ACC.mean():.3f} ± {ACC.std():.3f}')\n",
    "print(f'AUC: {AUC.mean():.3f} ± {AUC.std():.3f}')"
   ]
  },
  {
   "cell_type": "code",
   "execution_count": 17,
   "metadata": {},
   "outputs": [],
   "source": [
    "pairing_method = '4b_SPANet_pairing'\n",
    "X_test, y_test = get_testing_data(pairing_method)"
   ]
  },
  {
   "cell_type": "code",
   "execution_count": null,
   "metadata": {},
   "outputs": [
    {
     "name": "stdout",
     "output_type": "stream",
     "text": [
      "469/469 [==============================] - 1s 2ms/step\n",
      "469/469 [==============================] - 1s 1ms/step\n",
      "469/469 [==============================] - 1s 2ms/step\n",
      "469/469 [==============================] - 1s 2ms/step\n",
      "469/469 [==============================] - 1s 2ms/step\n",
      "469/469 [==============================] - 1s 2ms/step\n",
      "469/469 [==============================] - 1s 1ms/step\n",
      "469/469 [==============================] - 1s 2ms/step\n",
      "469/469 [==============================] - 1s 2ms/step\n",
      "469/469 [==============================] - 1s 2ms/step\n",
      "ACC: 0.834 ± 0.006\n",
      "AUC: 0.905 ± 0.005\n"
     ]
    },
    {
     "ename": "",
     "evalue": "",
     "output_type": "error",
     "traceback": [
      "\u001b[1;31m在目前儲存格或上一個儲存格中執行程式碼時，Kernel 已損毀。\n",
      "\u001b[1;31m請檢閱儲存格中的程式碼，找出失敗的可能原因。\n",
      "\u001b[1;31m如需詳細資訊，請按一下<a href='https://aka.ms/vscodeJupyterKernelCrash'>這裡</a>。\n",
      "\u001b[1;31m如需詳細資料，請檢視 Jupyter <a href='command:jupyter.viewOutput'>記錄</a>。"
     ]
    }
   ],
   "source": [
    "AUC, ACC = [], []\n",
    "for i in range(1, 11):\n",
    "\n",
    "    save_model_name = f'DNN_models/last_model_resonant_4b-{pairing_method}_{i:02}/'\n",
    "    loaded_model = tf.keras.models.load_model(save_model_name)\n",
    "    X, y = X_test, y_test\n",
    "    y_pred = loaded_model.predict(X)\n",
    "    auc = roc_auc_score(y, y_pred)\n",
    "    acc = get_highest_accuracy(y, y_pred)\n",
    "    AUC.append(auc)\n",
    "    ACC.append(acc)\n",
    "\n",
    "AUC = np.array(AUC)\n",
    "ACC = np.array(ACC)\n",
    "\n",
    "print(f'ACC: {ACC.mean():.3f} ± {ACC.std():.3f}')\n",
    "print(f'AUC: {AUC.mean():.3f} ± {AUC.std():.3f}')"
   ]
  },
  {
   "cell_type": "markdown",
   "metadata": {},
   "source": [
    "## 4b 500k datasets"
   ]
  },
  {
   "cell_type": "code",
   "execution_count": 6,
   "metadata": {},
   "outputs": [
    {
     "name": "stderr",
     "output_type": "stream",
     "text": [
      "2024-11-19 15:27:34.481087: I tensorflow/core/platform/cpu_feature_guard.cc:193] This TensorFlow binary is optimized with oneAPI Deep Neural Network Library (oneDNN) to use the following CPU instructions in performance-critical operations:  SSE4.1 SSE4.2 AVX AVX2 AVX512F AVX512_VNNI FMA\n",
      "To enable them in other operations, rebuild TensorFlow with the appropriate compiler flags.\n",
      "2024-11-19 15:27:35.122989: I tensorflow/core/common_runtime/gpu/gpu_device.cc:1613] Created device /job:localhost/replica:0/task:0/device:GPU:0 with 22288 MB memory:  -> device: 0, name: NVIDIA GeForce RTX 3090, pci bus id: 0000:d8:00.0, compute capability: 8.6\n"
     ]
    },
    {
     "name": "stdout",
     "output_type": "stream",
     "text": [
      " 66/469 [===>..........................] - ETA: 0s"
     ]
    },
    {
     "name": "stderr",
     "output_type": "stream",
     "text": [
      "2024-11-19 15:27:37.105512: I tensorflow/compiler/xla/stream_executor/cuda/cuda_blas.cc:630] TensorFloat-32 will be used for the matrix multiplication. This will only be logged once.\n"
     ]
    },
    {
     "name": "stdout",
     "output_type": "stream",
     "text": [
      "469/469 [==============================] - 2s 2ms/step\n",
      "469/469 [==============================] - 1s 1ms/step\n",
      "469/469 [==============================] - 1s 2ms/step\n",
      "469/469 [==============================] - 1s 2ms/step\n",
      "469/469 [==============================] - 1s 1ms/step\n",
      "469/469 [==============================] - 1s 2ms/step\n",
      "469/469 [==============================] - 1s 2ms/step\n",
      "469/469 [==============================] - 1s 2ms/step\n",
      "469/469 [==============================] - 1s 2ms/step\n",
      "469/469 [==============================] - 1s 1ms/step\n",
      "ACC: 0.844 ± 0.007\n",
      "AUC: 0.906 ± 0.008\n"
     ]
    }
   ],
   "source": [
    "pairing_method = 'abs_pairing'\n",
    "model_name = f'DNN_models/last_model_resonant_4b-{pairing_method}'\n",
    "X_test, y_test = get_testing_data(pairing_method)\n",
    "\n",
    "print_ACC_AUC(model_name, X_test, y_test)"
   ]
  },
  {
   "cell_type": "code",
   "execution_count": 7,
   "metadata": {},
   "outputs": [
    {
     "name": "stdout",
     "output_type": "stream",
     "text": [
      "469/469 [==============================] - 1s 2ms/step\n",
      "469/469 [==============================] - 1s 2ms/step\n",
      "469/469 [==============================] - 1s 2ms/step\n",
      "469/469 [==============================] - 1s 2ms/step\n",
      "469/469 [==============================] - 1s 1ms/step\n",
      "469/469 [==============================] - 1s 1ms/step\n",
      "469/469 [==============================] - 1s 2ms/step\n",
      "469/469 [==============================] - 1s 2ms/step\n",
      "469/469 [==============================] - 1s 2ms/step\n",
      "469/469 [==============================] - 1s 2ms/step\n",
      "ACC: 0.844 ± 0.003\n",
      "AUC: 0.908 ± 0.004\n"
     ]
    }
   ],
   "source": [
    "pairing_method = 'chi2_pairing'\n",
    "model_name = f'DNN_models/last_model_resonant_4b-{pairing_method}'\n",
    "X_test, y_test = get_testing_data(pairing_method)\n",
    "\n",
    "print_ACC_AUC(model_name, X_test, y_test)"
   ]
  },
  {
   "cell_type": "code",
   "execution_count": 8,
   "metadata": {},
   "outputs": [
    {
     "name": "stdout",
     "output_type": "stream",
     "text": [
      "469/469 [==============================] - 1s 2ms/step\n",
      "469/469 [==============================] - 1s 2ms/step\n",
      "469/469 [==============================] - 1s 1ms/step\n",
      "469/469 [==============================] - 1s 1ms/step\n",
      "469/469 [==============================] - 1s 1ms/step\n",
      "469/469 [==============================] - 1s 2ms/step\n",
      "469/469 [==============================] - 1s 2ms/step\n",
      "469/469 [==============================] - 1s 2ms/step\n",
      "469/469 [==============================] - 1s 2ms/step\n",
      "469/469 [==============================] - 1s 2ms/step\n",
      "ACC: 0.836 ± 0.004\n",
      "AUC: 0.907 ± 0.004\n"
     ]
    }
   ],
   "source": [
    "pairing_method = '4b_SPANet_pairing'\n",
    "model_name = f'DNN_models/last_model_resonant_4b-{pairing_method}'\n",
    "X_test, y_test = get_testing_data(pairing_method)\n",
    "\n",
    "print_ACC_AUC(model_name, X_test, y_test)"
   ]
  },
  {
   "cell_type": "markdown",
   "metadata": {},
   "source": [
    "## 4b 500k datasets, 256 nodes"
   ]
  },
  {
   "cell_type": "code",
   "execution_count": 6,
   "metadata": {},
   "outputs": [
    {
     "name": "stderr",
     "output_type": "stream",
     "text": [
      "2024-11-19 16:05:19.594318: I tensorflow/core/platform/cpu_feature_guard.cc:193] This TensorFlow binary is optimized with oneAPI Deep Neural Network Library (oneDNN) to use the following CPU instructions in performance-critical operations:  SSE4.1 SSE4.2 AVX AVX2 AVX512F AVX512_VNNI FMA\n",
      "To enable them in other operations, rebuild TensorFlow with the appropriate compiler flags.\n",
      "2024-11-19 16:05:20.198835: I tensorflow/core/common_runtime/gpu/gpu_device.cc:1613] Created device /job:localhost/replica:0/task:0/device:GPU:0 with 22288 MB memory:  -> device: 0, name: NVIDIA GeForce RTX 3090, pci bus id: 0000:d8:00.0, compute capability: 8.6\n"
     ]
    },
    {
     "name": "stdout",
     "output_type": "stream",
     "text": [
      " 56/469 [==>...........................] - ETA: 1s"
     ]
    },
    {
     "name": "stderr",
     "output_type": "stream",
     "text": [
      "2024-11-19 16:05:22.098015: I tensorflow/compiler/xla/stream_executor/cuda/cuda_blas.cc:630] TensorFloat-32 will be used for the matrix multiplication. This will only be logged once.\n"
     ]
    },
    {
     "name": "stdout",
     "output_type": "stream",
     "text": [
      "469/469 [==============================] - 2s 3ms/step\n",
      "469/469 [==============================] - 1s 3ms/step\n",
      "469/469 [==============================] - 1s 3ms/step\n",
      "469/469 [==============================] - 1s 3ms/step\n",
      "469/469 [==============================] - 1s 3ms/step\n",
      "469/469 [==============================] - 1s 3ms/step\n",
      "469/469 [==============================] - 1s 3ms/step\n",
      "469/469 [==============================] - 1s 3ms/step\n",
      "469/469 [==============================] - 1s 3ms/step\n",
      "469/469 [==============================] - 1s 3ms/step\n",
      "ACC: 0.8552 ± 0.0015\n",
      "AUC: 0.9221 ± 0.0006\n"
     ]
    }
   ],
   "source": [
    "pairing_method = 'abs_pairing'\n",
    "model_name = f'DNN_models/last_model_resonant_4b_node_256-{pairing_method}'\n",
    "X_test, y_test = get_testing_data(pairing_method)\n",
    "\n",
    "print_ACC_AUC(model_name, X_test, y_test)"
   ]
  },
  {
   "cell_type": "code",
   "execution_count": 7,
   "metadata": {},
   "outputs": [
    {
     "name": "stdout",
     "output_type": "stream",
     "text": [
      "469/469 [==============================] - 1s 3ms/step\n",
      "469/469 [==============================] - 1s 3ms/step\n",
      "469/469 [==============================] - 1s 3ms/step\n",
      "469/469 [==============================] - 1s 3ms/step\n",
      "469/469 [==============================] - 1s 3ms/step\n",
      "469/469 [==============================] - 1s 3ms/step\n",
      "469/469 [==============================] - 1s 3ms/step\n",
      "469/469 [==============================] - 1s 3ms/step\n",
      "469/469 [==============================] - 1s 3ms/step\n",
      "469/469 [==============================] - 1s 3ms/step\n",
      "ACC: 0.8537 ± 0.0009\n",
      "AUC: 0.9212 ± 0.0006\n"
     ]
    }
   ],
   "source": [
    "pairing_method = 'chi2_pairing'\n",
    "model_name = f'DNN_models/last_model_resonant_4b_node_256-{pairing_method}'\n",
    "X_test, y_test = get_testing_data(pairing_method)\n",
    "\n",
    "print_ACC_AUC(model_name, X_test, y_test)"
   ]
  },
  {
   "cell_type": "code",
   "execution_count": 8,
   "metadata": {},
   "outputs": [
    {
     "name": "stdout",
     "output_type": "stream",
     "text": [
      "469/469 [==============================] - 1s 3ms/step\n",
      "469/469 [==============================] - 1s 3ms/step\n",
      "469/469 [==============================] - 1s 3ms/step\n",
      "469/469 [==============================] - 1s 3ms/step\n",
      "469/469 [==============================] - 1s 3ms/step\n",
      "469/469 [==============================] - 1s 3ms/step\n",
      "469/469 [==============================] - 1s 3ms/step\n",
      "469/469 [==============================] - 1s 3ms/step\n",
      "469/469 [==============================] - 1s 3ms/step\n",
      "469/469 [==============================] - 1s 3ms/step\n",
      "ACC: 0.8543 ± 0.0009\n",
      "AUC: 0.9241 ± 0.0003\n"
     ]
    }
   ],
   "source": [
    "pairing_method = '4b_SPANet_pairing'\n",
    "model_name = f'DNN_models/last_model_resonant_4b_node_256-{pairing_method}'\n",
    "X_test, y_test = get_testing_data(pairing_method)\n",
    "\n",
    "print_ACC_AUC(model_name, X_test, y_test)"
   ]
  },
  {
   "cell_type": "markdown",
   "metadata": {},
   "source": [
    "## 4b 1M datasets, 256 nodes"
   ]
  },
  {
   "cell_type": "code",
   "execution_count": 6,
   "metadata": {},
   "outputs": [
    {
     "name": "stderr",
     "output_type": "stream",
     "text": [
      "2024-12-03 16:08:41.487551: I tensorflow/core/platform/cpu_feature_guard.cc:193] This TensorFlow binary is optimized with oneAPI Deep Neural Network Library (oneDNN) to use the following CPU instructions in performance-critical operations:  SSE4.1 SSE4.2 AVX AVX2 AVX512F AVX512_VNNI FMA\n",
      "To enable them in other operations, rebuild TensorFlow with the appropriate compiler flags.\n",
      "2024-12-03 16:08:42.101323: I tensorflow/core/common_runtime/gpu/gpu_device.cc:1613] Created device /job:localhost/replica:0/task:0/device:GPU:0 with 21847 MB memory:  -> device: 0, name: NVIDIA GeForce RTX 3090, pci bus id: 0000:d8:00.0, compute capability: 8.6\n"
     ]
    },
    {
     "name": "stdout",
     "output_type": "stream",
     "text": [
      "49/49 [==============================] - 1s 3ms/step\n"
     ]
    },
    {
     "name": "stderr",
     "output_type": "stream",
     "text": [
      "2024-12-03 16:08:44.000042: I tensorflow/compiler/xla/stream_executor/cuda/cuda_blas.cc:630] TensorFloat-32 will be used for the matrix multiplication. This will only be logged once.\n"
     ]
    },
    {
     "name": "stdout",
     "output_type": "stream",
     "text": [
      "49/49 [==============================] - 0s 2ms/step\n",
      "49/49 [==============================] - 0s 2ms/step\n",
      "49/49 [==============================] - 0s 2ms/step\n",
      "49/49 [==============================] - 0s 2ms/step\n",
      "49/49 [==============================] - 0s 2ms/step\n",
      "49/49 [==============================] - 0s 2ms/step\n",
      "49/49 [==============================] - 0s 2ms/step\n",
      "49/49 [==============================] - 0s 2ms/step\n",
      "49/49 [==============================] - 0s 2ms/step\n",
      "ACC: 0.8651 ± 0.0009\n",
      "AUC: 0.9317 ± 0.0005\n"
     ]
    }
   ],
   "source": [
    "pairing_method = 'abs_pairing'\n",
    "model_name = f'DNN_models/last_model_resonant_4b_1M-{pairing_method}'\n",
    "X_test = np.load(f'./DNN_features/triHiggs-4pT40_6b-{pairing_method}-data.npy')\n",
    "y_test = np.load(f'./DNN_features/triHiggs-4pT40_6b-{pairing_method}-label.npy')\n",
    "\n",
    "print_ACC_AUC(model_name, X_test, y_test)"
   ]
  },
  {
   "cell_type": "code",
   "execution_count": 7,
   "metadata": {},
   "outputs": [
    {
     "name": "stdout",
     "output_type": "stream",
     "text": [
      "49/49 [==============================] - 0s 2ms/step\n",
      "49/49 [==============================] - 0s 2ms/step\n",
      "49/49 [==============================] - 0s 2ms/step\n",
      "49/49 [==============================] - 0s 2ms/step\n",
      "49/49 [==============================] - 0s 2ms/step\n",
      "49/49 [==============================] - 0s 2ms/step\n",
      "49/49 [==============================] - 0s 2ms/step\n",
      "49/49 [==============================] - 0s 3ms/step\n",
      "49/49 [==============================] - 0s 2ms/step\n",
      "49/49 [==============================] - 0s 2ms/step\n",
      "ACC: 0.8645 ± 0.0006\n",
      "AUC: 0.9311 ± 0.0004\n"
     ]
    }
   ],
   "source": [
    "pairing_method = 'chi2_pairing'\n",
    "model_name = f'DNN_models/last_model_resonant_4b_1M-{pairing_method}'\n",
    "X_test = np.load(f'./DNN_features/triHiggs-4pT40_6b-{pairing_method}-data.npy')\n",
    "y_test = np.load(f'./DNN_features/triHiggs-4pT40_6b-{pairing_method}-label.npy')\n",
    "\n",
    "print_ACC_AUC(model_name, X_test, y_test)"
   ]
  },
  {
   "cell_type": "code",
   "execution_count": 8,
   "metadata": {},
   "outputs": [
    {
     "name": "stdout",
     "output_type": "stream",
     "text": [
      "49/49 [==============================] - 0s 2ms/step\n",
      "49/49 [==============================] - 0s 2ms/step\n",
      "49/49 [==============================] - 0s 2ms/step\n",
      "49/49 [==============================] - 0s 2ms/step\n",
      "49/49 [==============================] - 0s 2ms/step\n",
      "49/49 [==============================] - 1s 2ms/step\n",
      "49/49 [==============================] - 0s 2ms/step\n",
      "49/49 [==============================] - 0s 2ms/step\n",
      "49/49 [==============================] - 0s 2ms/step\n",
      "49/49 [==============================] - 0s 3ms/step\n",
      "ACC: 0.8648 ± 0.0004\n",
      "AUC: 0.9330 ± 0.0004\n"
     ]
    }
   ],
   "source": [
    "pairing_method = '4b_SPANet_pairing'\n",
    "model_name = f'DNN_models/last_model_resonant_4b_1M-{pairing_method}'\n",
    "X_test = np.load(f'./DNN_features/triHiggs-4pT40_6b-{pairing_method}-data.npy')\n",
    "y_test = np.load(f'./DNN_features/triHiggs-4pT40_6b-{pairing_method}-label.npy')\n",
    "\n",
    "print_ACC_AUC(model_name, X_test, y_test)"
   ]
  },
  {
   "cell_type": "markdown",
   "metadata": {},
   "source": [
    "## 4b mixed mass 1M datasets, 256 nodes"
   ]
  },
  {
   "cell_type": "code",
   "execution_count": 6,
   "metadata": {},
   "outputs": [
    {
     "name": "stderr",
     "output_type": "stream",
     "text": [
      "2024-12-18 09:27:15.379710: I tensorflow/core/platform/cpu_feature_guard.cc:193] This TensorFlow binary is optimized with oneAPI Deep Neural Network Library (oneDNN) to use the following CPU instructions in performance-critical operations:  SSE4.1 SSE4.2 AVX AVX2 AVX512F AVX512_VNNI FMA\n",
      "To enable them in other operations, rebuild TensorFlow with the appropriate compiler flags.\n",
      "2024-12-18 09:27:16.566897: I tensorflow/core/common_runtime/gpu/gpu_device.cc:1613] Created device /job:localhost/replica:0/task:0/device:GPU:0 with 22288 MB memory:  -> device: 0, name: NVIDIA GeForce RTX 3090, pci bus id: 0000:d8:00.0, compute capability: 8.6\n"
     ]
    },
    {
     "name": "stdout",
     "output_type": "stream",
     "text": [
      "49/49 [==============================] - 2s 2ms/step\n"
     ]
    },
    {
     "name": "stderr",
     "output_type": "stream",
     "text": [
      "2024-12-18 09:27:20.783602: I tensorflow/compiler/xla/stream_executor/cuda/cuda_blas.cc:630] TensorFloat-32 will be used for the matrix multiplication. This will only be logged once.\n"
     ]
    },
    {
     "name": "stdout",
     "output_type": "stream",
     "text": [
      "49/49 [==============================] - 0s 3ms/step\n",
      "49/49 [==============================] - 0s 2ms/step\n",
      "49/49 [==============================] - 0s 2ms/step\n",
      "49/49 [==============================] - 0s 3ms/step\n",
      "49/49 [==============================] - 0s 2ms/step\n",
      "49/49 [==============================] - 0s 2ms/step\n",
      "49/49 [==============================] - 0s 2ms/step\n",
      "49/49 [==============================] - 0s 2ms/step\n",
      "49/49 [==============================] - 0s 2ms/step\n",
      "ACC: 0.8262 ± 0.0004\n",
      "AUC: 0.8968 ± 0.0003\n",
      "$0.8262 \\pm 0.0004$ & $0.8968 \\pm 0.0003$\n"
     ]
    }
   ],
   "source": [
    "pairing_method = 'abs_pairing'\n",
    "model_name = f'DNN_models/last_model_resonant_4b_mix_1M-{pairing_method}'\n",
    "X_test = np.load(f'./DNN_features/triHiggs-4pT40_6b-mix-{pairing_method}-data.npy')\n",
    "y_test = np.load(f'./DNN_features/triHiggs-4pT40_6b-mix-{pairing_method}-label.npy')\n",
    "\n",
    "print_ACC_AUC(model_name, X_test, y_test)"
   ]
  },
  {
   "cell_type": "code",
   "execution_count": 7,
   "metadata": {},
   "outputs": [
    {
     "name": "stdout",
     "output_type": "stream",
     "text": [
      "49/49 [==============================] - 0s 2ms/step\n",
      "49/49 [==============================] - 0s 3ms/step\n",
      "49/49 [==============================] - 0s 2ms/step\n",
      "49/49 [==============================] - 0s 2ms/step\n",
      "49/49 [==============================] - 0s 2ms/step\n",
      "49/49 [==============================] - 0s 2ms/step\n",
      "49/49 [==============================] - 0s 2ms/step\n",
      "49/49 [==============================] - 0s 2ms/step\n",
      "49/49 [==============================] - 0s 2ms/step\n",
      "49/49 [==============================] - 0s 2ms/step\n",
      "ACC: 0.8248 ± 0.0004\n",
      "AUC: 0.8953 ± 0.0003\n",
      "$0.8248 \\pm 0.0004$ & $0.8953 \\pm 0.0003$\n"
     ]
    }
   ],
   "source": [
    "pairing_method = 'chi2_pairing'\n",
    "model_name = f'DNN_models/last_model_resonant_4b_mix_1M-{pairing_method}'\n",
    "X_test = np.load(f'./DNN_features/triHiggs-4pT40_6b-mix-{pairing_method}-data.npy')\n",
    "y_test = np.load(f'./DNN_features/triHiggs-4pT40_6b-mix-{pairing_method}-label.npy')\n",
    "\n",
    "print_ACC_AUC(model_name, X_test, y_test)"
   ]
  },
  {
   "cell_type": "code",
   "execution_count": 8,
   "metadata": {},
   "outputs": [
    {
     "name": "stdout",
     "output_type": "stream",
     "text": [
      "49/49 [==============================] - 0s 2ms/step\n",
      "49/49 [==============================] - 0s 2ms/step\n",
      "49/49 [==============================] - 0s 2ms/step\n",
      "49/49 [==============================] - 0s 2ms/step\n",
      "49/49 [==============================] - 0s 2ms/step\n",
      "49/49 [==============================] - 0s 2ms/step\n",
      "49/49 [==============================] - 0s 2ms/step\n",
      "49/49 [==============================] - 0s 2ms/step\n",
      "49/49 [==============================] - 0s 2ms/step\n",
      "49/49 [==============================] - 0s 2ms/step\n",
      "ACC: 0.8215 ± 0.0008\n",
      "AUC: 0.8939 ± 0.0003\n",
      "$0.8215 \\pm 0.0008$ & $0.8939 \\pm 0.0003$\n"
     ]
    }
   ],
   "source": [
    "pairing_method = '4b_SPANet_pairing'\n",
    "model_name = f'DNN_models/last_model_resonant_4b_mix_1M-{pairing_method}'\n",
    "X_test = np.load(f'./DNN_features/triHiggs-4pT40_6b-mix-{pairing_method}-data.npy')\n",
    "y_test = np.load(f'./DNN_features/triHiggs-4pT40_6b-mix-{pairing_method}-label.npy')\n",
    "\n",
    "print_ACC_AUC(model_name, X_test, y_test)"
   ]
  },
  {
   "cell_type": "markdown",
   "metadata": {},
   "source": [
    "## Each mass point"
   ]
  },
  {
   "cell_type": "code",
   "execution_count": 7,
   "metadata": {},
   "outputs": [
    {
     "name": "stderr",
     "output_type": "stream",
     "text": [
      "2024-12-24 12:44:20.990970: I tensorflow/core/platform/cpu_feature_guard.cc:193] This TensorFlow binary is optimized with oneAPI Deep Neural Network Library (oneDNN) to use the following CPU instructions in performance-critical operations:  SSE4.1 SSE4.2 AVX AVX2 AVX512F AVX512_VNNI FMA\n",
      "To enable them in other operations, rebuild TensorFlow with the appropriate compiler flags.\n",
      "2024-12-24 12:44:21.604928: I tensorflow/core/common_runtime/gpu/gpu_device.cc:1613] Created device /job:localhost/replica:0/task:0/device:GPU:0 with 22288 MB memory:  -> device: 0, name: NVIDIA GeForce RTX 3090, pci bus id: 0000:d8:00.0, compute capability: 8.6\n"
     ]
    },
    {
     "name": "stdout",
     "output_type": "stream",
     "text": [
      "56/98 [================>.............] - ETA: 0s"
     ]
    },
    {
     "name": "stderr",
     "output_type": "stream",
     "text": [
      "2024-12-24 12:44:23.460447: I tensorflow/compiler/xla/stream_executor/cuda/cuda_blas.cc:630] TensorFloat-32 will be used for the matrix multiplication. This will only be logged once.\n"
     ]
    },
    {
     "name": "stdout",
     "output_type": "stream",
     "text": [
      "98/98 [==============================] - 1s 3ms/step\n"
     ]
    },
    {
     "name": "stderr",
     "output_type": "stream",
     "text": [
      "100%|██████████| 1001/1001 [00:17<00:00, 56.93it/s]\n"
     ]
    },
    {
     "name": "stdout",
     "output_type": "stream",
     "text": [
      "62/62 [==============================] - 0s 2ms/step\n",
      "m3/m2:420_280, AUC=0.885\n",
      "62/62 [==============================] - 0s 2ms/step\n",
      "m3/m2:500_275, AUC=0.853\n",
      "62/62 [==============================] - 0s 3ms/step\n",
      "m3/m2:500_300, AUC=0.882\n",
      "62/62 [==============================] - 0s 3ms/step\n",
      "m3/m2:520_325, AUC=0.851\n",
      "49/49 [==============================] - 0s 2ms/step\n"
     ]
    },
    {
     "name": "stderr",
     "output_type": "stream",
     "text": [
      "100%|██████████| 1001/1001 [00:07<00:00, 135.73it/s]"
     ]
    },
    {
     "name": "stdout",
     "output_type": "stream",
     "text": [
      " 1/31 [..............................] - ETA: 0s"
     ]
    },
    {
     "name": "stderr",
     "output_type": "stream",
     "text": [
      "\n"
     ]
    },
    {
     "name": "stdout",
     "output_type": "stream",
     "text": [
      "31/31 [==============================] - 0s 1ms/step\n",
      "m3/m2:420_280, AUC=0.916\n",
      "31/31 [==============================] - 0s 1ms/step\n",
      "m3/m2:500_275, AUC=0.895\n",
      "31/31 [==============================] - 0s 1ms/step\n",
      "m3/m2:500_300, AUC=0.902\n",
      "31/31 [==============================] - 0s 1ms/step\n",
      "m3/m2:520_325, AUC=0.876\n"
     ]
    }
   ],
   "source": [
    "# load model\n",
    "pairing_method = 'abs_pairing'\n",
    "model_name = f'DNN_models/last_model_resonant_4b_mix_1M-{pairing_method}'\n",
    "save_model_name = f'{model_name}_01/'\n",
    "loaded_model = tf.keras.models.load_model(save_model_name)\n",
    "\n",
    "# 4b datasets\n",
    "# compute overall AUC and ACC\n",
    "X = np.load(f'./DNN_features/triHiggs-4pT40_4b-mix-test-{pairing_method}-data.npy')\n",
    "y = np.load(f'./DNN_features/triHiggs-4pT40_4b-mix-test-{pairing_method}-label.npy')\n",
    "y_pred = loaded_model.predict(X, batch_size=2048)\n",
    "AUC, ACC = get_AUC_ACC(y, y_pred)\n",
    "\n",
    "# compute AUC and ACC for each mass point\n",
    "X_test_b = np.load(f'./DNN_features/bkg/pp6b-4pT40_4b-test-{pairing_method}-data.npy')\n",
    "y_test_b = np.load(f'./DNN_features/bkg/pp6b-4pT40_4b-test-{pairing_method}-label.npy')\n",
    "for m3_m2 in ['420_280', '500_275', '500_300', '520_325']:\n",
    "\n",
    "    X_test_s = np.load(f'./DNN_features/sig/gghhh_bsm_{m3_m2}/gghhh-4pT40_4b-test-{pairing_method}-data.npy')\n",
    "    y_test_s = np.load(f'./DNN_features/sig/gghhh_bsm_{m3_m2}/gghhh-4pT40_4b-test-{pairing_method}-label.npy')\n",
    "    \n",
    "    X_test = np.concatenate((X_test_s, X_test_b), axis=0)\n",
    "    y_test = np.concatenate((y_test_s, y_test_b), axis=0)\n",
    "    y_pred = loaded_model.predict(X_test, batch_size=2048)\n",
    "\n",
    "    auc = roc_auc_score(y_test, y_pred)\n",
    "    print(f'm3/m2:{m3_m2}, AUC={auc:.3f}')\n",
    "\n",
    "    # save the AUC in pandas DataFrame\n",
    "    data_dict = {'AUC': [auc],\n",
    "                 'Overall ACC': [ACC],\n",
    "                 'Overall AUC': [AUC],\n",
    "                 }\n",
    "    df = pd.DataFrame(data_dict)\n",
    "    csv_path = Path(f'../classification_performance/gghhh_bsm_{m3_m2}/gghhh-4pT40_4b-test-DenseNN_{pairing_method}.csv')\n",
    "    csv_path.parent.mkdir(parents=True, exist_ok=True)\n",
    "    df.to_csv(csv_path, index=False)\n",
    "\n",
    "# 6b datasets\n",
    "# compute overall AUC and ACC\n",
    "X = np.load(f'./DNN_features/triHiggs-4pT40_6b-mix-{pairing_method}-data.npy')\n",
    "y = np.load(f'./DNN_features/triHiggs-4pT40_6b-mix-{pairing_method}-label.npy')\n",
    "y_pred = loaded_model.predict(X, batch_size=2048)\n",
    "AUC, ACC = get_AUC_ACC(y, y_pred)\n",
    "\n",
    "# compute AUC and ACC for each mass point\n",
    "X_test_b = np.load(f'./DNN_features/bkg/pp6b-4pT40_6b-{pairing_method}-data.npy')\n",
    "y_test_b = np.load(f'./DNN_features/bkg/pp6b-4pT40_6b-{pairing_method}-label.npy')\n",
    "for m3_m2 in ['420_280', '500_275', '500_300', '520_325']:\n",
    "\n",
    "    X_test_s = np.load(f'./DNN_features/sig/gghhh_bsm_{m3_m2}/gghhh-4pT40_6b-{pairing_method}-data.npy')\n",
    "    y_test_s = np.load(f'./DNN_features/sig/gghhh_bsm_{m3_m2}/gghhh-4pT40_6b-{pairing_method}-label.npy')\n",
    "\n",
    "    X_test = np.concatenate((X_test_s, X_test_b), axis=0)\n",
    "    y_test = np.concatenate((y_test_s, y_test_b), axis=0)\n",
    "    y_pred = loaded_model.predict(X_test, batch_size=2048)\n",
    "\n",
    "    auc = roc_auc_score(y_test, y_pred)\n",
    "\n",
    "    # save the AUC in pandas DataFrame\n",
    "    data_dict = {'AUC': [auc],\n",
    "                 'Overall ACC': [ACC],\n",
    "                 'Overall AUC': [AUC],\n",
    "                 }\n",
    "    df = pd.DataFrame(data_dict)\n",
    "    csv_path = Path(f'../classification_performance/gghhh_bsm_{m3_m2}/gghhh-4pT40_6b-DenseNN_{pairing_method}.csv')\n",
    "    csv_path.parent.mkdir(parents=True, exist_ok=True)\n",
    "    df.to_csv(csv_path, index=False)\n",
    "\n",
    "    print(f'm3/m2:{m3_m2}, AUC={auc:.3f}')"
   ]
  },
  {
   "cell_type": "code",
   "execution_count": 8,
   "metadata": {},
   "outputs": [
    {
     "name": "stdout",
     "output_type": "stream",
     "text": [
      "98/98 [==============================] - 0s 2ms/step\n"
     ]
    },
    {
     "name": "stderr",
     "output_type": "stream",
     "text": [
      "100%|██████████| 1001/1001 [00:17<00:00, 57.35it/s]\n"
     ]
    },
    {
     "name": "stdout",
     "output_type": "stream",
     "text": [
      "62/62 [==============================] - 0s 2ms/step\n",
      "m3/m2:420_280, AUC=0.883\n",
      "62/62 [==============================] - 0s 2ms/step\n",
      "m3/m2:500_275, AUC=0.853\n",
      "62/62 [==============================] - 0s 2ms/step\n",
      "m3/m2:500_300, AUC=0.880\n",
      "62/62 [==============================] - 0s 3ms/step\n",
      "m3/m2:520_325, AUC=0.851\n",
      "49/49 [==============================] - 0s 2ms/step\n"
     ]
    },
    {
     "name": "stderr",
     "output_type": "stream",
     "text": [
      "100%|██████████| 1001/1001 [00:07<00:00, 136.80it/s]"
     ]
    },
    {
     "name": "stdout",
     "output_type": "stream",
     "text": [
      " 1/31 [..............................] - ETA: 0s"
     ]
    },
    {
     "name": "stderr",
     "output_type": "stream",
     "text": [
      "\n"
     ]
    },
    {
     "name": "stdout",
     "output_type": "stream",
     "text": [
      "31/31 [==============================] - 0s 2ms/step\n",
      "m3/m2:420_280, AUC=0.914\n",
      "31/31 [==============================] - 0s 1ms/step\n",
      "m3/m2:500_275, AUC=0.893\n",
      "31/31 [==============================] - 0s 1ms/step\n",
      "m3/m2:500_300, AUC=0.900\n",
      "31/31 [==============================] - 0s 1ms/step\n",
      "m3/m2:520_325, AUC=0.875\n"
     ]
    }
   ],
   "source": [
    "# load model\n",
    "pairing_method = 'chi2_pairing'\n",
    "model_name = f'DNN_models/last_model_resonant_4b_mix_1M-{pairing_method}'\n",
    "save_model_name = f'{model_name}_01/'\n",
    "loaded_model = tf.keras.models.load_model(save_model_name)\n",
    "\n",
    "# 4b datasets\n",
    "# compute overall AUC and ACC\n",
    "X = np.load(f'./DNN_features/triHiggs-4pT40_4b-mix-test-{pairing_method}-data.npy')\n",
    "y = np.load(f'./DNN_features/triHiggs-4pT40_4b-mix-test-{pairing_method}-label.npy')\n",
    "y_pred = loaded_model.predict(X, batch_size=2048)\n",
    "AUC, ACC = get_AUC_ACC(y, y_pred)\n",
    "\n",
    "# compute AUC and ACC for each mass point\n",
    "X_test_b = np.load(f'./DNN_features/bkg/pp6b-4pT40_4b-test-{pairing_method}-data.npy')\n",
    "y_test_b = np.load(f'./DNN_features/bkg/pp6b-4pT40_4b-test-{pairing_method}-label.npy')\n",
    "for m3_m2 in ['420_280', '500_275', '500_300', '520_325']:\n",
    "\n",
    "    X_test_s = np.load(f'./DNN_features/sig/gghhh_bsm_{m3_m2}/gghhh-4pT40_4b-test-{pairing_method}-data.npy')\n",
    "    y_test_s = np.load(f'./DNN_features/sig/gghhh_bsm_{m3_m2}/gghhh-4pT40_4b-test-{pairing_method}-label.npy')\n",
    "    \n",
    "    X_test = np.concatenate((X_test_s, X_test_b), axis=0)\n",
    "    y_test = np.concatenate((y_test_s, y_test_b), axis=0)\n",
    "    y_pred = loaded_model.predict(X_test, batch_size=2048)\n",
    "\n",
    "    auc = roc_auc_score(y_test, y_pred)\n",
    "    print(f'm3/m2:{m3_m2}, AUC={auc:.3f}')\n",
    "\n",
    "    # save the AUC in pandas DataFrame\n",
    "    data_dict = {'AUC': [auc],\n",
    "                 'Overall ACC': [ACC],\n",
    "                 'Overall AUC': [AUC],\n",
    "                 }\n",
    "    df = pd.DataFrame(data_dict)\n",
    "    csv_path = Path(f'../classification_performance/gghhh_bsm_{m3_m2}/gghhh-4pT40_4b-test-DenseNN_{pairing_method}.csv')\n",
    "    csv_path.parent.mkdir(parents=True, exist_ok=True)\n",
    "    df.to_csv(csv_path, index=False)\n",
    "\n",
    "# 6b datasets\n",
    "# compute overall AUC and ACC\n",
    "X = np.load(f'./DNN_features/triHiggs-4pT40_6b-mix-{pairing_method}-data.npy')\n",
    "y = np.load(f'./DNN_features/triHiggs-4pT40_6b-mix-{pairing_method}-label.npy')\n",
    "y_pred = loaded_model.predict(X, batch_size=2048)\n",
    "AUC, ACC = get_AUC_ACC(y, y_pred)\n",
    "\n",
    "# compute AUC and ACC for each mass point\n",
    "X_test_b = np.load(f'./DNN_features/bkg/pp6b-4pT40_6b-{pairing_method}-data.npy')\n",
    "y_test_b = np.load(f'./DNN_features/bkg/pp6b-4pT40_6b-{pairing_method}-label.npy')\n",
    "for m3_m2 in ['420_280', '500_275', '500_300', '520_325']:\n",
    "\n",
    "    X_test_s = np.load(f'./DNN_features/sig/gghhh_bsm_{m3_m2}/gghhh-4pT40_6b-{pairing_method}-data.npy')\n",
    "    y_test_s = np.load(f'./DNN_features/sig/gghhh_bsm_{m3_m2}/gghhh-4pT40_6b-{pairing_method}-label.npy')\n",
    "\n",
    "    X_test = np.concatenate((X_test_s, X_test_b), axis=0)\n",
    "    y_test = np.concatenate((y_test_s, y_test_b), axis=0)\n",
    "    y_pred = loaded_model.predict(X_test, batch_size=2048)\n",
    "\n",
    "    auc = roc_auc_score(y_test, y_pred)\n",
    "\n",
    "    # save the AUC in pandas DataFrame\n",
    "    data_dict = {'AUC': [auc],\n",
    "                 'Overall ACC': [ACC],\n",
    "                 'Overall AUC': [AUC],\n",
    "                 }\n",
    "    df = pd.DataFrame(data_dict)\n",
    "    csv_path = Path(f'../classification_performance/gghhh_bsm_{m3_m2}/gghhh-4pT40_6b-DenseNN_{pairing_method}.csv')\n",
    "    csv_path.parent.mkdir(parents=True, exist_ok=True)\n",
    "    df.to_csv(csv_path, index=False)\n",
    "\n",
    "    print(f'm3/m2:{m3_m2}, AUC={auc:.3f}')"
   ]
  },
  {
   "cell_type": "code",
   "execution_count": 9,
   "metadata": {},
   "outputs": [
    {
     "name": "stdout",
     "output_type": "stream",
     "text": [
      "98/98 [==============================] - 0s 2ms/step\n"
     ]
    },
    {
     "name": "stderr",
     "output_type": "stream",
     "text": [
      "100%|██████████| 1001/1001 [00:17<00:00, 57.04it/s]\n"
     ]
    },
    {
     "name": "stdout",
     "output_type": "stream",
     "text": [
      "62/62 [==============================] - 0s 2ms/step\n",
      "m3/m2:420_280, AUC=0.890\n",
      "62/62 [==============================] - 0s 2ms/step\n",
      "m3/m2:500_275, AUC=0.850\n",
      "62/62 [==============================] - 0s 2ms/step\n",
      "m3/m2:500_300, AUC=0.883\n",
      "62/62 [==============================] - 0s 2ms/step\n",
      "m3/m2:520_325, AUC=0.850\n",
      "49/49 [==============================] - 0s 2ms/step\n"
     ]
    },
    {
     "name": "stderr",
     "output_type": "stream",
     "text": [
      "100%|██████████| 1001/1001 [00:07<00:00, 135.71it/s]"
     ]
    },
    {
     "name": "stdout",
     "output_type": "stream",
     "text": [
      " 1/31 [..............................] - ETA: 0s"
     ]
    },
    {
     "name": "stderr",
     "output_type": "stream",
     "text": [
      "\n"
     ]
    },
    {
     "name": "stdout",
     "output_type": "stream",
     "text": [
      "31/31 [==============================] - 0s 2ms/step\n",
      "m3/m2:420_280, AUC=0.915\n",
      "31/31 [==============================] - 0s 1ms/step\n",
      "m3/m2:500_275, AUC=0.890\n",
      "31/31 [==============================] - 0s 2ms/step\n",
      "m3/m2:500_300, AUC=0.898\n",
      "31/31 [==============================] - 0s 1ms/step\n",
      "m3/m2:520_325, AUC=0.874\n"
     ]
    }
   ],
   "source": [
    "# load model\n",
    "pairing_method = '4b_SPANet_pairing'\n",
    "model_name = f'DNN_models/last_model_resonant_4b_mix_1M-{pairing_method}'\n",
    "save_model_name = f'{model_name}_01/'\n",
    "loaded_model = tf.keras.models.load_model(save_model_name)\n",
    "\n",
    "# 4b datasets\n",
    "# compute overall AUC and ACC\n",
    "X = np.load(f'./DNN_features/triHiggs-4pT40_4b-mix-test-{pairing_method}-data.npy')\n",
    "y = np.load(f'./DNN_features/triHiggs-4pT40_4b-mix-test-{pairing_method}-label.npy')\n",
    "y_pred = loaded_model.predict(X, batch_size=2048)\n",
    "AUC, ACC = get_AUC_ACC(y, y_pred)\n",
    "\n",
    "# compute AUC and ACC for each mass point\n",
    "X_test_b = np.load(f'./DNN_features/bkg/pp6b-4pT40_4b-test-{pairing_method}-data.npy')\n",
    "y_test_b = np.load(f'./DNN_features/bkg/pp6b-4pT40_4b-test-{pairing_method}-label.npy')\n",
    "for m3_m2 in ['420_280', '500_275', '500_300', '520_325']:\n",
    "\n",
    "    X_test_s = np.load(f'./DNN_features/sig/gghhh_bsm_{m3_m2}/gghhh-4pT40_4b-test-{pairing_method}-data.npy')\n",
    "    y_test_s = np.load(f'./DNN_features/sig/gghhh_bsm_{m3_m2}/gghhh-4pT40_4b-test-{pairing_method}-label.npy')\n",
    "    \n",
    "    X_test = np.concatenate((X_test_s, X_test_b), axis=0)\n",
    "    y_test = np.concatenate((y_test_s, y_test_b), axis=0)\n",
    "    y_pred = loaded_model.predict(X_test, batch_size=2048)\n",
    "\n",
    "    auc = roc_auc_score(y_test, y_pred)\n",
    "    print(f'm3/m2:{m3_m2}, AUC={auc:.3f}')\n",
    "\n",
    "    # save the AUC in pandas DataFrame\n",
    "    data_dict = {'AUC': [auc],\n",
    "                 'Overall ACC': [ACC],\n",
    "                 'Overall AUC': [AUC],\n",
    "                 }\n",
    "    df = pd.DataFrame(data_dict)\n",
    "    csv_path = Path(f'../classification_performance/gghhh_bsm_{m3_m2}/gghhh-4pT40_4b-test-DenseNN_{pairing_method}.csv')\n",
    "    csv_path.parent.mkdir(parents=True, exist_ok=True)\n",
    "    df.to_csv(csv_path, index=False)\n",
    "\n",
    "# 6b datasets\n",
    "# compute overall AUC and ACC\n",
    "X = np.load(f'./DNN_features/triHiggs-4pT40_6b-mix-{pairing_method}-data.npy')\n",
    "y = np.load(f'./DNN_features/triHiggs-4pT40_6b-mix-{pairing_method}-label.npy')\n",
    "y_pred = loaded_model.predict(X, batch_size=2048)\n",
    "AUC, ACC = get_AUC_ACC(y, y_pred)\n",
    "\n",
    "# compute AUC and ACC for each mass point\n",
    "X_test_b = np.load(f'./DNN_features/bkg/pp6b-4pT40_6b-{pairing_method}-data.npy')\n",
    "y_test_b = np.load(f'./DNN_features/bkg/pp6b-4pT40_6b-{pairing_method}-label.npy')\n",
    "for m3_m2 in ['420_280', '500_275', '500_300', '520_325']:\n",
    "\n",
    "    X_test_s = np.load(f'./DNN_features/sig/gghhh_bsm_{m3_m2}/gghhh-4pT40_6b-{pairing_method}-data.npy')\n",
    "    y_test_s = np.load(f'./DNN_features/sig/gghhh_bsm_{m3_m2}/gghhh-4pT40_6b-{pairing_method}-label.npy')\n",
    "\n",
    "    X_test = np.concatenate((X_test_s, X_test_b), axis=0)\n",
    "    y_test = np.concatenate((y_test_s, y_test_b), axis=0)\n",
    "    y_pred = loaded_model.predict(X_test, batch_size=2048)\n",
    "\n",
    "    auc = roc_auc_score(y_test, y_pred)\n",
    "\n",
    "    # save the AUC in pandas DataFrame\n",
    "    data_dict = {'AUC': [auc],\n",
    "                 'Overall ACC': [ACC],\n",
    "                 'Overall AUC': [AUC],\n",
    "                 }\n",
    "    df = pd.DataFrame(data_dict)\n",
    "    csv_path = Path(f'../classification_performance/gghhh_bsm_{m3_m2}/gghhh-4pT40_6b-DenseNN_{pairing_method}.csv')\n",
    "    csv_path.parent.mkdir(parents=True, exist_ok=True)\n",
    "    df.to_csv(csv_path, index=False)\n",
    "\n",
    "    print(f'm3/m2:{m3_m2}, AUC={auc:.3f}')"
   ]
  }
 ],
 "metadata": {
  "kernelspec": {
   "display_name": "tf2",
   "language": "python",
   "name": "python3"
  },
  "language_info": {
   "codemirror_mode": {
    "name": "ipython",
    "version": 3
   },
   "file_extension": ".py",
   "mimetype": "text/x-python",
   "name": "python",
   "nbconvert_exporter": "python",
   "pygments_lexer": "ipython3",
   "version": "3.8.16"
  }
 },
 "nbformat": 4,
 "nbformat_minor": 2
}
