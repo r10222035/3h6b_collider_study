{
 "cells": [
  {
   "cell_type": "code",
   "execution_count": 1,
   "metadata": {},
   "outputs": [],
   "source": [
    "import os\n",
    "import json"
   ]
  },
  {
   "cell_type": "code",
   "execution_count": 2,
   "metadata": {},
   "outputs": [
    {
     "name": "stdout",
     "output_type": "stream",
     "text": [
      "python train_DNN.py config_files/abs_pairing_config_01.json\n",
      "python train_DNN.py config_files/abs_pairing_config_02.json\n",
      "python train_DNN.py config_files/abs_pairing_config_03.json\n",
      "python train_DNN.py config_files/abs_pairing_config_04.json\n",
      "python train_DNN.py config_files/abs_pairing_config_05.json\n",
      "python train_DNN.py config_files/abs_pairing_config_06.json\n",
      "python train_DNN.py config_files/abs_pairing_config_07.json\n",
      "python train_DNN.py config_files/abs_pairing_config_08.json\n",
      "python train_DNN.py config_files/abs_pairing_config_09.json\n",
      "python train_DNN.py config_files/abs_pairing_config_10.json\n"
     ]
    }
   ],
   "source": [
    "i = 1\n",
    "for seed in range(123, 1100, 100):\n",
    "    config_path = f'config_files/abs_pairing_config_{i:02}.json'\n",
    "    with open(config_path, 'w') as f:\n",
    "        data = {}\n",
    "\n",
    "        data['signal_npy_path'] = './DNN_features/resonant-abs_pairing.npy'\n",
    "        data['background_npy_path'] = './DNN_features/pp6b-abs_pairing.npy'\n",
    "        data['batch_size'] = 128\n",
    "        data['model_name'] = f'resonant_abs_pairing_{i:02}'\n",
    "        data['sample_type'] = f'Resonant, Absolute value pairing'\n",
    "\n",
    "        json.dump(data, f, indent=4)\n",
    "\n",
    "    cmd = f'python train_DNN.py {config_path}'\n",
    "    print(cmd)\n",
    "    i += 1"
   ]
  },
  {
   "cell_type": "code",
   "execution_count": 3,
   "metadata": {},
   "outputs": [
    {
     "name": "stdout",
     "output_type": "stream",
     "text": [
      "python train_DNN.py config_files/4b_SPANet_pairing_config_01.json\n",
      "python train_DNN.py config_files/4b_SPANet_pairing_config_02.json\n",
      "python train_DNN.py config_files/4b_SPANet_pairing_config_03.json\n",
      "python train_DNN.py config_files/4b_SPANet_pairing_config_04.json\n",
      "python train_DNN.py config_files/4b_SPANet_pairing_config_05.json\n",
      "python train_DNN.py config_files/4b_SPANet_pairing_config_06.json\n",
      "python train_DNN.py config_files/4b_SPANet_pairing_config_07.json\n",
      "python train_DNN.py config_files/4b_SPANet_pairing_config_08.json\n",
      "python train_DNN.py config_files/4b_SPANet_pairing_config_09.json\n",
      "python train_DNN.py config_files/4b_SPANet_pairing_config_10.json\n"
     ]
    }
   ],
   "source": [
    "i = 1\n",
    "for seed in range(123, 1100, 100):\n",
    "    config_path = f'config_files/4b_SPANet_pairing_config_{i:02}.json'\n",
    "    with open(config_path, 'w') as f:\n",
    "        data = {}\n",
    "\n",
    "        data['signal_npy_path'] = './DNN_features/resonant-4b_SPANet_pairing.npy'\n",
    "        data['background_npy_path'] = './DNN_features/pp6b-4b_SPANet_pairing.npy'\n",
    "        data['batch_size'] = 128\n",
    "        data['model_name'] = f'resonant_4b_SPANet_pairing_{i:02}'\n",
    "        data['sample_type'] = f'Resonant, 4b SPANet pairing'\n",
    "\n",
    "        json.dump(data, f, indent=4)\n",
    "\n",
    "    cmd = f'python train_DNN.py {config_path}'\n",
    "    print(cmd)\n",
    "    i += 1"
   ]
  },
  {
   "cell_type": "code",
   "execution_count": 4,
   "metadata": {},
   "outputs": [
    {
     "name": "stdout",
     "output_type": "stream",
     "text": [
      "python train_DNN.py config_files/chi2_pairing_config_01.json\n",
      "python train_DNN.py config_files/chi2_pairing_config_02.json\n",
      "python train_DNN.py config_files/chi2_pairing_config_03.json\n",
      "python train_DNN.py config_files/chi2_pairing_config_04.json\n",
      "python train_DNN.py config_files/chi2_pairing_config_05.json\n",
      "python train_DNN.py config_files/chi2_pairing_config_06.json\n",
      "python train_DNN.py config_files/chi2_pairing_config_07.json\n",
      "python train_DNN.py config_files/chi2_pairing_config_08.json\n",
      "python train_DNN.py config_files/chi2_pairing_config_09.json\n",
      "python train_DNN.py config_files/chi2_pairing_config_10.json\n"
     ]
    }
   ],
   "source": [
    "i = 1\n",
    "for seed in range(123, 1100, 100):\n",
    "    config_path = f'config_files/chi2_pairing_config_{i:02}.json'\n",
    "    with open(config_path, 'w') as f:\n",
    "        data = {}\n",
    "\n",
    "        data['signal_npy_path'] = './DNN_features/resonant-chi2_pairing.npy'\n",
    "        data['background_npy_path'] = './DNN_features/pp6b-chi2_pairing.npy'\n",
    "        data['batch_size'] = 128\n",
    "        data['model_name'] = f'resonant_chi2_pairing_{i:02}'\n",
    "        data['sample_type'] = f'Resonant, chi2 pairing'\n",
    "\n",
    "        json.dump(data, f, indent=4)\n",
    "\n",
    "    cmd = f'python train_DNN.py {config_path}'\n",
    "    print(cmd)\n",
    "    i += 1"
   ]
  },
  {
   "cell_type": "markdown",
   "metadata": {},
   "source": [
    "# 4b sample"
   ]
  },
  {
   "cell_type": "code",
   "execution_count": 5,
   "metadata": {},
   "outputs": [
    {
     "name": "stdout",
     "output_type": "stream",
     "text": [
      "python train_DNN.py config_files/abs_pairing_config_01.json\n",
      "python train_DNN.py config_files/abs_pairing_config_02.json\n",
      "python train_DNN.py config_files/abs_pairing_config_03.json\n",
      "python train_DNN.py config_files/abs_pairing_config_04.json\n",
      "python train_DNN.py config_files/abs_pairing_config_05.json\n",
      "python train_DNN.py config_files/abs_pairing_config_06.json\n",
      "python train_DNN.py config_files/abs_pairing_config_07.json\n",
      "python train_DNN.py config_files/abs_pairing_config_08.json\n",
      "python train_DNN.py config_files/abs_pairing_config_09.json\n",
      "python train_DNN.py config_files/abs_pairing_config_10.json\n"
     ]
    }
   ],
   "source": [
    "i = 1\n",
    "for seed in range(123, 1100, 100):\n",
    "    config_path = f'config_files/abs_pairing_config_{i:02}.json'\n",
    "    with open(config_path, 'w') as f:\n",
    "        data = {}\n",
    "\n",
    "        data['signal_npy_path'] = './DNN_features/resonant_4b-abs_pairing.npy'\n",
    "        data['background_npy_path'] = './DNN_features/pp6b_4b-abs_pairing.npy'\n",
    "        data['batch_size'] = 128\n",
    "        data['model_name'] = f'resonant_abs_pairing_{i:02}'\n",
    "        data['sample_type'] = f'Resonant, Absolute value pairing, 4 b-tagged jets'\n",
    "\n",
    "        json.dump(data, f, indent=4)\n",
    "\n",
    "    cmd = f'python train_DNN.py {config_path}'\n",
    "    print(cmd)\n",
    "    i += 1"
   ]
  },
  {
   "cell_type": "code",
   "execution_count": 6,
   "metadata": {},
   "outputs": [
    {
     "name": "stdout",
     "output_type": "stream",
     "text": [
      "python train_DNN.py config_files/4b_SPANet_pairing_config_01.json\n",
      "python train_DNN.py config_files/4b_SPANet_pairing_config_02.json\n",
      "python train_DNN.py config_files/4b_SPANet_pairing_config_03.json\n",
      "python train_DNN.py config_files/4b_SPANet_pairing_config_04.json\n",
      "python train_DNN.py config_files/4b_SPANet_pairing_config_05.json\n",
      "python train_DNN.py config_files/4b_SPANet_pairing_config_06.json\n",
      "python train_DNN.py config_files/4b_SPANet_pairing_config_07.json\n",
      "python train_DNN.py config_files/4b_SPANet_pairing_config_08.json\n",
      "python train_DNN.py config_files/4b_SPANet_pairing_config_09.json\n",
      "python train_DNN.py config_files/4b_SPANet_pairing_config_10.json\n"
     ]
    }
   ],
   "source": [
    "i = 1\n",
    "for seed in range(123, 1100, 100):\n",
    "    config_path = f'config_files/4b_SPANet_pairing_config_{i:02}.json'\n",
    "    with open(config_path, 'w') as f:\n",
    "        data = {}\n",
    "\n",
    "        data['signal_npy_path'] = './DNN_features/resonant_4b-4b_SPANet_pairing.npy'\n",
    "        data['background_npy_path'] = './DNN_features/pp6b_4b-4b_SPANet_pairing.npy'\n",
    "        data['batch_size'] = 128\n",
    "        data['model_name'] = f'resonant_4b_SPANet_pairing_{i:02}'\n",
    "        data['sample_type'] = f'Resonant, 4b SPANet pairing, 4 b-tagged jets'\n",
    "\n",
    "        json.dump(data, f, indent=4)\n",
    "\n",
    "    cmd = f'python train_DNN.py {config_path}'\n",
    "    print(cmd)\n",
    "    i += 1"
   ]
  },
  {
   "cell_type": "code",
   "execution_count": 7,
   "metadata": {},
   "outputs": [
    {
     "name": "stdout",
     "output_type": "stream",
     "text": [
      "python train_DNN.py config_files/chi2_pairing_config_01.json\n",
      "python train_DNN.py config_files/chi2_pairing_config_02.json\n",
      "python train_DNN.py config_files/chi2_pairing_config_03.json\n",
      "python train_DNN.py config_files/chi2_pairing_config_04.json\n",
      "python train_DNN.py config_files/chi2_pairing_config_05.json\n",
      "python train_DNN.py config_files/chi2_pairing_config_06.json\n",
      "python train_DNN.py config_files/chi2_pairing_config_07.json\n",
      "python train_DNN.py config_files/chi2_pairing_config_08.json\n",
      "python train_DNN.py config_files/chi2_pairing_config_09.json\n",
      "python train_DNN.py config_files/chi2_pairing_config_10.json\n"
     ]
    }
   ],
   "source": [
    "i = 1\n",
    "for seed in range(123, 1100, 100):\n",
    "    config_path = f'config_files/chi2_pairing_config_{i:02}.json'\n",
    "    with open(config_path, 'w') as f:\n",
    "        data = {}\n",
    "\n",
    "        data['signal_npy_path'] = './DNN_features/resonant_4b-chi2_pairing.npy'\n",
    "        data['background_npy_path'] = './DNN_features/pp6b_4b-chi2_pairing.npy'\n",
    "        data['batch_size'] = 128\n",
    "        data['model_name'] = f'resonant_chi2_pairing_{i:02}'\n",
    "        data['sample_type'] = f'Resonant, chi2 pairing, 4 b-tagged jets'\n",
    "\n",
    "        json.dump(data, f, indent=4)\n",
    "\n",
    "    cmd = f'python train_DNN.py {config_path}'\n",
    "    print(cmd)\n",
    "    i += 1"
   ]
  },
  {
   "cell_type": "code",
   "execution_count": 8,
   "metadata": {},
   "outputs": [
    {
     "name": "stdout",
     "output_type": "stream",
     "text": [
      "python train_DNN.py config_files/abs_pairing_4b_config_01.json\n",
      "python train_DNN.py config_files/abs_pairing_4b_config_02.json\n",
      "python train_DNN.py config_files/abs_pairing_4b_config_03.json\n",
      "python train_DNN.py config_files/abs_pairing_4b_config_04.json\n",
      "python train_DNN.py config_files/abs_pairing_4b_config_05.json\n",
      "python train_DNN.py config_files/abs_pairing_4b_config_06.json\n",
      "python train_DNN.py config_files/abs_pairing_4b_config_07.json\n",
      "python train_DNN.py config_files/abs_pairing_4b_config_08.json\n",
      "python train_DNN.py config_files/abs_pairing_4b_config_09.json\n",
      "python train_DNN.py config_files/abs_pairing_4b_config_10.json\n"
     ]
    }
   ],
   "source": [
    "i = 1\n",
    "for seed in range(123, 1100, 100):\n",
    "    config_path = f'config_files/abs_pairing_4b_config_{i:02}.json'\n",
    "    with open(config_path, 'w') as f:\n",
    "        data = {}\n",
    "\n",
    "        data['signal_npy_path'] = './DNN_features/resonant_4b-abs_pairing.npy'\n",
    "        data['background_npy_path'] = './DNN_features/pp6b_4b-abs_pairing.npy'\n",
    "        data['signal_size'] = 100000\n",
    "        data['background_size'] = 100000\n",
    "        data['batch_size'] = 128\n",
    "        data['model_name'] = f'resonant_4b-abs_pairing_{i:02}'\n",
    "        data['sample_type'] = f'Resonant, Absolute value pairing, 4 b-tagged jets'\n",
    "\n",
    "        json.dump(data, f, indent=4)\n",
    "\n",
    "    cmd = f'python train_DNN.py {config_path}'\n",
    "    print(cmd)\n",
    "    i += 1"
   ]
  },
  {
   "cell_type": "code",
   "execution_count": 9,
   "metadata": {},
   "outputs": [
    {
     "name": "stdout",
     "output_type": "stream",
     "text": [
      "python train_DNN.py config_files/4b_SPANet_pairing_4b_config_01.json\n",
      "python train_DNN.py config_files/4b_SPANet_pairing_4b_config_02.json\n",
      "python train_DNN.py config_files/4b_SPANet_pairing_4b_config_03.json\n",
      "python train_DNN.py config_files/4b_SPANet_pairing_4b_config_04.json\n",
      "python train_DNN.py config_files/4b_SPANet_pairing_4b_config_05.json\n",
      "python train_DNN.py config_files/4b_SPANet_pairing_4b_config_06.json\n",
      "python train_DNN.py config_files/4b_SPANet_pairing_4b_config_07.json\n",
      "python train_DNN.py config_files/4b_SPANet_pairing_4b_config_08.json\n",
      "python train_DNN.py config_files/4b_SPANet_pairing_4b_config_09.json\n",
      "python train_DNN.py config_files/4b_SPANet_pairing_4b_config_10.json\n"
     ]
    }
   ],
   "source": [
    "i = 1\n",
    "for seed in range(123, 1100, 100):\n",
    "    config_path = f'config_files/4b_SPANet_pairing_4b_config_{i:02}.json'\n",
    "    with open(config_path, 'w') as f:\n",
    "        data = {}\n",
    "\n",
    "        data['signal_npy_path'] = './DNN_features/resonant_4b-4b_SPANet_pairing.npy'\n",
    "        data['background_npy_path'] = './DNN_features/pp6b_4b-4b_SPANet_pairing.npy'\n",
    "        data['signal_size'] = 100000\n",
    "        data['background_size'] = 100000\n",
    "        data['batch_size'] = 128\n",
    "        data['model_name'] = f'resonant_4b-4b_SPANet_pairing_{i:02}'\n",
    "        data['sample_type'] = f'Resonant, 4b SPANet pairing, 4 b-tagged jets'\n",
    "\n",
    "        json.dump(data, f, indent=4)\n",
    "\n",
    "    cmd = f'python train_DNN.py {config_path}'\n",
    "    print(cmd)\n",
    "    i += 1"
   ]
  },
  {
   "cell_type": "code",
   "execution_count": 10,
   "metadata": {},
   "outputs": [
    {
     "name": "stdout",
     "output_type": "stream",
     "text": [
      "python train_DNN.py config_files/chi2_pairing_4b_config_01.json\n",
      "python train_DNN.py config_files/chi2_pairing_4b_config_02.json\n",
      "python train_DNN.py config_files/chi2_pairing_4b_config_03.json\n",
      "python train_DNN.py config_files/chi2_pairing_4b_config_04.json\n",
      "python train_DNN.py config_files/chi2_pairing_4b_config_05.json\n",
      "python train_DNN.py config_files/chi2_pairing_4b_config_06.json\n",
      "python train_DNN.py config_files/chi2_pairing_4b_config_07.json\n",
      "python train_DNN.py config_files/chi2_pairing_4b_config_08.json\n",
      "python train_DNN.py config_files/chi2_pairing_4b_config_09.json\n",
      "python train_DNN.py config_files/chi2_pairing_4b_config_10.json\n"
     ]
    }
   ],
   "source": [
    "i = 1\n",
    "for seed in range(123, 1100, 100):\n",
    "    config_path = f'config_files/chi2_pairing_4b_config_{i:02}.json'\n",
    "    with open(config_path, 'w') as f:\n",
    "        data = {}\n",
    "\n",
    "        data['signal_npy_path'] = './DNN_features/resonant_4b-chi2_pairing.npy'\n",
    "        data['background_npy_path'] = './DNN_features/pp6b_4b-chi2_pairing.npy'\n",
    "        data['signal_size'] = 100000\n",
    "        data['background_size'] = 100000\n",
    "        data['batch_size'] = 128\n",
    "        data['model_name'] = f'resonant_4b-chi2_pairing_{i:02}'\n",
    "        data['sample_type'] = f'Resonant, chi2 pairing, 4 b-tagged jets'\n",
    "\n",
    "        json.dump(data, f, indent=4)\n",
    "\n",
    "    cmd = f'python train_DNN.py {config_path}'\n",
    "    print(cmd)\n",
    "    i += 1"
   ]
  },
  {
   "cell_type": "markdown",
   "metadata": {},
   "source": [
    "## 500k "
   ]
  },
  {
   "cell_type": "code",
   "execution_count": 2,
   "metadata": {},
   "outputs": [
    {
     "name": "stdout",
     "output_type": "stream",
     "text": [
      "python train_DNN.py config_files/abs_pairing_4b_config_01.json\n",
      "python train_DNN.py config_files/abs_pairing_4b_config_02.json\n",
      "python train_DNN.py config_files/abs_pairing_4b_config_03.json\n",
      "python train_DNN.py config_files/abs_pairing_4b_config_04.json\n",
      "python train_DNN.py config_files/abs_pairing_4b_config_05.json\n",
      "python train_DNN.py config_files/abs_pairing_4b_config_06.json\n",
      "python train_DNN.py config_files/abs_pairing_4b_config_07.json\n",
      "python train_DNN.py config_files/abs_pairing_4b_config_08.json\n",
      "python train_DNN.py config_files/abs_pairing_4b_config_09.json\n",
      "python train_DNN.py config_files/abs_pairing_4b_config_10.json\n"
     ]
    }
   ],
   "source": [
    "i = 1\n",
    "for seed in range(123, 1100, 100):\n",
    "    config_path = f'config_files/abs_pairing_4b_config_{i:02}.json'\n",
    "    with open(config_path, 'w') as f:\n",
    "        data = {}\n",
    "\n",
    "        data['signal_npy_path'] = './DNN_features/resonant_4b-abs_pairing.npy'\n",
    "        data['background_npy_path'] = './DNN_features/pp6b_4b-abs_pairing.npy'\n",
    "        data['signal_size'] = 500000\n",
    "        data['background_size'] = 500000\n",
    "        data['batch_size'] = 1024\n",
    "        data['model_name'] = f'resonant_4b-abs_pairing_{i:02}'\n",
    "        data['sample_type'] = f'Resonant, Absolute value pairing, 4 b-tagged jets'\n",
    "\n",
    "        json.dump(data, f, indent=4)\n",
    "\n",
    "    cmd = f'python train_DNN.py {config_path}'\n",
    "    print(cmd)\n",
    "    i += 1"
   ]
  },
  {
   "cell_type": "code",
   "execution_count": 3,
   "metadata": {},
   "outputs": [
    {
     "name": "stdout",
     "output_type": "stream",
     "text": [
      "python train_DNN.py config_files/4b_SPANet_pairing_4b_config_01.json\n",
      "python train_DNN.py config_files/4b_SPANet_pairing_4b_config_02.json\n",
      "python train_DNN.py config_files/4b_SPANet_pairing_4b_config_03.json\n",
      "python train_DNN.py config_files/4b_SPANet_pairing_4b_config_04.json\n",
      "python train_DNN.py config_files/4b_SPANet_pairing_4b_config_05.json\n",
      "python train_DNN.py config_files/4b_SPANet_pairing_4b_config_06.json\n",
      "python train_DNN.py config_files/4b_SPANet_pairing_4b_config_07.json\n",
      "python train_DNN.py config_files/4b_SPANet_pairing_4b_config_08.json\n",
      "python train_DNN.py config_files/4b_SPANet_pairing_4b_config_09.json\n",
      "python train_DNN.py config_files/4b_SPANet_pairing_4b_config_10.json\n"
     ]
    }
   ],
   "source": [
    "i = 1\n",
    "for seed in range(123, 1100, 100):\n",
    "    config_path = f'config_files/4b_SPANet_pairing_4b_config_{i:02}.json'\n",
    "    with open(config_path, 'w') as f:\n",
    "        data = {}\n",
    "\n",
    "        data['signal_npy_path'] = './DNN_features/resonant_4b-4b_SPANet_pairing.npy'\n",
    "        data['background_npy_path'] = './DNN_features/pp6b_4b-4b_SPANet_pairing.npy'\n",
    "        data['signal_size'] = 500000\n",
    "        data['background_size'] = 500000\n",
    "        data['batch_size'] = 1024\n",
    "        data['model_name'] = f'resonant_4b-4b_SPANet_pairing_{i:02}'\n",
    "        data['sample_type'] = f'Resonant, 4b SPANet pairing, 4 b-tagged jets'\n",
    "\n",
    "        json.dump(data, f, indent=4)\n",
    "\n",
    "    cmd = f'python train_DNN.py {config_path}'\n",
    "    print(cmd)\n",
    "    i += 1"
   ]
  },
  {
   "cell_type": "code",
   "execution_count": 4,
   "metadata": {},
   "outputs": [
    {
     "name": "stdout",
     "output_type": "stream",
     "text": [
      "python train_DNN.py config_files/chi2_pairing_4b_config_01.json\n",
      "python train_DNN.py config_files/chi2_pairing_4b_config_02.json\n",
      "python train_DNN.py config_files/chi2_pairing_4b_config_03.json\n",
      "python train_DNN.py config_files/chi2_pairing_4b_config_04.json\n",
      "python train_DNN.py config_files/chi2_pairing_4b_config_05.json\n",
      "python train_DNN.py config_files/chi2_pairing_4b_config_06.json\n",
      "python train_DNN.py config_files/chi2_pairing_4b_config_07.json\n",
      "python train_DNN.py config_files/chi2_pairing_4b_config_08.json\n",
      "python train_DNN.py config_files/chi2_pairing_4b_config_09.json\n",
      "python train_DNN.py config_files/chi2_pairing_4b_config_10.json\n"
     ]
    }
   ],
   "source": [
    "i = 1\n",
    "for seed in range(123, 1100, 100):\n",
    "    config_path = f'config_files/chi2_pairing_4b_config_{i:02}.json'\n",
    "    with open(config_path, 'w') as f:\n",
    "        data = {}\n",
    "\n",
    "        data['signal_npy_path'] = './DNN_features/resonant_4b-chi2_pairing.npy'\n",
    "        data['background_npy_path'] = './DNN_features/pp6b_4b-chi2_pairing.npy'\n",
    "        data['signal_size'] = 500000\n",
    "        data['background_size'] = 500000\n",
    "        data['batch_size'] = 1024\n",
    "        data['model_name'] = f'resonant_4b-chi2_pairing_{i:02}'\n",
    "        data['sample_type'] = f'Resonant, chi2 pairing, 4 b-tagged jets'\n",
    "\n",
    "        json.dump(data, f, indent=4)\n",
    "\n",
    "    cmd = f'python train_DNN.py {config_path}'\n",
    "    print(cmd)\n",
    "    i += 1"
   ]
  },
  {
   "cell_type": "markdown",
   "metadata": {},
   "source": [
    "## Modified hyperparameter: 256 nodes"
   ]
  },
  {
   "cell_type": "code",
   "execution_count": 3,
   "metadata": {},
   "outputs": [
    {
     "name": "stdout",
     "output_type": "stream",
     "text": [
      "python train_DNN.py config_files/abs_pairing_4b_node_256_config_01.json\n",
      "python train_DNN.py config_files/abs_pairing_4b_node_256_config_02.json\n",
      "python train_DNN.py config_files/abs_pairing_4b_node_256_config_03.json\n",
      "python train_DNN.py config_files/abs_pairing_4b_node_256_config_04.json\n",
      "python train_DNN.py config_files/abs_pairing_4b_node_256_config_05.json\n",
      "python train_DNN.py config_files/abs_pairing_4b_node_256_config_06.json\n",
      "python train_DNN.py config_files/abs_pairing_4b_node_256_config_07.json\n",
      "python train_DNN.py config_files/abs_pairing_4b_node_256_config_08.json\n",
      "python train_DNN.py config_files/abs_pairing_4b_node_256_config_09.json\n",
      "python train_DNN.py config_files/abs_pairing_4b_node_256_config_10.json\n"
     ]
    }
   ],
   "source": [
    "i = 1\n",
    "for seed in range(123, 1100, 100):\n",
    "    config_path = f'config_files/abs_pairing_4b_node_256_config_{i:02}.json'\n",
    "    with open(config_path, 'w') as f:\n",
    "        data = {}\n",
    "\n",
    "        data['signal_npy_path'] = './DNN_features/resonant_4b-abs_pairing.npy'\n",
    "        data['background_npy_path'] = './DNN_features/pp6b_4b-abs_pairing.npy'\n",
    "        data['signal_size'] = 500000\n",
    "        data['background_size'] = 500000\n",
    "        data['batch_size'] = 1024\n",
    "        data['model_name'] = f'resonant_4b_node_256-abs_pairing_{i:02}'\n",
    "        data['sample_type'] = f'Resonant, Absolute value pairing, 4 b-tagged jets'\n",
    "\n",
    "        json.dump(data, f, indent=4)\n",
    "\n",
    "    cmd = f'python train_DNN.py {config_path}'\n",
    "    print(cmd)\n",
    "    i += 1"
   ]
  },
  {
   "cell_type": "code",
   "execution_count": 4,
   "metadata": {},
   "outputs": [
    {
     "name": "stdout",
     "output_type": "stream",
     "text": [
      "python train_DNN.py config_files/4b_SPANet_pairing_4b_node_256_config_01.json\n",
      "python train_DNN.py config_files/4b_SPANet_pairing_4b_node_256_config_02.json\n",
      "python train_DNN.py config_files/4b_SPANet_pairing_4b_node_256_config_03.json\n",
      "python train_DNN.py config_files/4b_SPANet_pairing_4b_node_256_config_04.json\n",
      "python train_DNN.py config_files/4b_SPANet_pairing_4b_node_256_config_05.json\n",
      "python train_DNN.py config_files/4b_SPANet_pairing_4b_node_256_config_06.json\n",
      "python train_DNN.py config_files/4b_SPANet_pairing_4b_node_256_config_07.json\n",
      "python train_DNN.py config_files/4b_SPANet_pairing_4b_node_256_config_08.json\n",
      "python train_DNN.py config_files/4b_SPANet_pairing_4b_node_256_config_09.json\n",
      "python train_DNN.py config_files/4b_SPANet_pairing_4b_node_256_config_10.json\n"
     ]
    }
   ],
   "source": [
    "i = 1\n",
    "for seed in range(123, 1100, 100):\n",
    "    config_path = f'config_files/4b_SPANet_pairing_4b_node_256_config_{i:02}.json'\n",
    "    with open(config_path, 'w') as f:\n",
    "        data = {}\n",
    "\n",
    "        data['signal_npy_path'] = './DNN_features/resonant_4b-4b_SPANet_pairing.npy'\n",
    "        data['background_npy_path'] = './DNN_features/pp6b_4b-4b_SPANet_pairing.npy'\n",
    "        data['signal_size'] = 500000\n",
    "        data['background_size'] = 500000\n",
    "        data['batch_size'] = 1024\n",
    "        data['model_name'] = f'resonant_4b_node_256-4b_SPANet_pairing_{i:02}'\n",
    "        data['sample_type'] = f'Resonant, 4b SPANet pairing, 4 b-tagged jets'\n",
    "\n",
    "        json.dump(data, f, indent=4)\n",
    "\n",
    "    cmd = f'python train_DNN.py {config_path}'\n",
    "    print(cmd)\n",
    "    i += 1"
   ]
  },
  {
   "cell_type": "code",
   "execution_count": null,
   "metadata": {},
   "outputs": [
    {
     "name": "stdout",
     "output_type": "stream",
     "text": [
      "python train_DNN.py config_files/chi2_pairing_4b_node_256_config_01.json\n",
      "python train_DNN.py config_files/chi2_pairing_4b_node_256_config_02.json\n",
      "python train_DNN.py config_files/chi2_pairing_4b_node_256_config_03.json\n",
      "python train_DNN.py config_files/chi2_pairing_4b_node_256_config_04.json\n",
      "python train_DNN.py config_files/chi2_pairing_4b_node_256_config_05.json\n",
      "python train_DNN.py config_files/chi2_pairing_4b_node_256_config_06.json\n",
      "python train_DNN.py config_files/chi2_pairing_4b_node_256_config_07.json\n",
      "python train_DNN.py config_files/chi2_pairing_4b_node_256_config_08.json\n",
      "python train_DNN.py config_files/chi2_pairing_4b_node_256_config_09.json\n",
      "python train_DNN.py config_files/chi2_pairing_4b_node_256_config_10.json\n"
     ]
    }
   ],
   "source": [
    "i = 1\n",
    "for seed in range(123, 1100, 100):\n",
    "    config_path = f'config_files/chi2_pairing_4b_node_256_config_{i:02}.json'\n",
    "    with open(config_path, 'w') as f:\n",
    "        data = {}\n",
    "\n",
    "        data['signal_npy_path'] = './DNN_features/resonant_4b-chi2_pairing.npy'\n",
    "        data['background_npy_path'] = './DNN_features/pp6b_4b-chi2_pairing.npy'\n",
    "        data['signal_size'] = 500000\n",
    "        data['background_size'] = 500000\n",
    "        data['batch_size'] = 1024\n",
    "        data['model_name'] = f'resonant_4b_node_256-chi2_pairing_{i:02}'\n",
    "        data['sample_type'] = f'Resonant, chi2 pairing, 4 b-tagged jets'\n",
    "\n",
    "        json.dump(data, f, indent=4)\n",
    "\n",
    "    cmd = f'python train_DNN.py {config_path}'\n",
    "    print(cmd)\n",
    "    i += 1"
   ]
  },
  {
   "cell_type": "markdown",
   "metadata": {},
   "source": [
    "## 1M"
   ]
  },
  {
   "cell_type": "code",
   "execution_count": 6,
   "metadata": {},
   "outputs": [
    {
     "name": "stdout",
     "output_type": "stream",
     "text": [
      "python train_DNN.py config_files/chi2_pairing_4b_1M_config_01.json\n",
      "python train_DNN.py config_files/chi2_pairing_4b_1M_config_02.json\n",
      "python train_DNN.py config_files/chi2_pairing_4b_1M_config_03.json\n",
      "python train_DNN.py config_files/chi2_pairing_4b_1M_config_04.json\n",
      "python train_DNN.py config_files/chi2_pairing_4b_1M_config_05.json\n",
      "python train_DNN.py config_files/chi2_pairing_4b_1M_config_06.json\n",
      "python train_DNN.py config_files/chi2_pairing_4b_1M_config_07.json\n",
      "python train_DNN.py config_files/chi2_pairing_4b_1M_config_08.json\n",
      "python train_DNN.py config_files/chi2_pairing_4b_1M_config_09.json\n",
      "python train_DNN.py config_files/chi2_pairing_4b_1M_config_10.json\n"
     ]
    }
   ],
   "source": [
    "i = 1\n",
    "for seed in range(123, 1100, 100):\n",
    "    config_path = f'config_files/chi2_pairing_4b_1M_config_{i:02}.json'\n",
    "    with open(config_path, 'w') as f:\n",
    "        data = {}\n",
    "\n",
    "        data['train_npy_path'] = './DNN_features/triHiggs-4pT40_4b-train-chi2_pairing.npy'\n",
    "        data['test_npy_path'] = './DNN_features/triHiggs-4pT40_4b-test-chi2_pairing.npy'\n",
    "        data['batch_size'] = 2048\n",
    "        data['model_name'] = f'resonant_4b_1M-chi2_pairing_{i:02}'\n",
    "        data['sample_type'] = f'Resonant, chi2 pairing, 4 b-tagged jets'\n",
    "\n",
    "        json.dump(data, f, indent=4)\n",
    "\n",
    "    cmd = f'python train_DNN.py {config_path}'\n",
    "    print(cmd)\n",
    "    i += 1"
   ]
  },
  {
   "cell_type": "code",
   "execution_count": 3,
   "metadata": {},
   "outputs": [
    {
     "name": "stdout",
     "output_type": "stream",
     "text": [
      "python train_DNN.py config_files/abs_pairing_4b_1M_config_01.json\n",
      "python train_DNN.py config_files/abs_pairing_4b_1M_config_02.json\n",
      "python train_DNN.py config_files/abs_pairing_4b_1M_config_03.json\n",
      "python train_DNN.py config_files/abs_pairing_4b_1M_config_04.json\n",
      "python train_DNN.py config_files/abs_pairing_4b_1M_config_05.json\n",
      "python train_DNN.py config_files/abs_pairing_4b_1M_config_06.json\n",
      "python train_DNN.py config_files/abs_pairing_4b_1M_config_07.json\n",
      "python train_DNN.py config_files/abs_pairing_4b_1M_config_08.json\n",
      "python train_DNN.py config_files/abs_pairing_4b_1M_config_09.json\n",
      "python train_DNN.py config_files/abs_pairing_4b_1M_config_10.json\n"
     ]
    }
   ],
   "source": [
    "i = 1\n",
    "for seed in range(123, 1100, 100):\n",
    "    config_path = f'config_files/abs_pairing_4b_1M_config_{i:02}.json'\n",
    "    with open(config_path, 'w') as f:\n",
    "        data = {}\n",
    "\n",
    "        data['train_npy_path'] = './DNN_features/triHiggs-4pT40_4b-train-abs_pairing.npy'\n",
    "        data['test_npy_path'] = './DNN_features/triHiggs-4pT40_4b-test-abs_pairing.npy'\n",
    "        data['batch_size'] = 2048\n",
    "        data['model_name'] = f'resonant_4b_1M-abs_pairing_{i:02}'\n",
    "        data['sample_type'] = f'Resonant, Absolute value pairing, 4 b-tagged jets'\n",
    "\n",
    "        json.dump(data, f, indent=4)\n",
    "\n",
    "    cmd = f'python train_DNN.py {config_path}'\n",
    "    print(cmd)\n",
    "    i += 1"
   ]
  },
  {
   "cell_type": "code",
   "execution_count": 5,
   "metadata": {},
   "outputs": [
    {
     "name": "stdout",
     "output_type": "stream",
     "text": [
      "python train_DNN.py config_files/4b_SPANet_pairing_4b_1M_config_01.json\n",
      "python train_DNN.py config_files/4b_SPANet_pairing_4b_1M_config_02.json\n",
      "python train_DNN.py config_files/4b_SPANet_pairing_4b_1M_config_03.json\n",
      "python train_DNN.py config_files/4b_SPANet_pairing_4b_1M_config_04.json\n",
      "python train_DNN.py config_files/4b_SPANet_pairing_4b_1M_config_05.json\n",
      "python train_DNN.py config_files/4b_SPANet_pairing_4b_1M_config_06.json\n",
      "python train_DNN.py config_files/4b_SPANet_pairing_4b_1M_config_07.json\n",
      "python train_DNN.py config_files/4b_SPANet_pairing_4b_1M_config_08.json\n",
      "python train_DNN.py config_files/4b_SPANet_pairing_4b_1M_config_09.json\n",
      "python train_DNN.py config_files/4b_SPANet_pairing_4b_1M_config_10.json\n"
     ]
    }
   ],
   "source": [
    "i = 1\n",
    "for seed in range(123, 1100, 100):\n",
    "    config_path = f'config_files/4b_SPANet_pairing_4b_1M_config_{i:02}.json'\n",
    "    with open(config_path, 'w') as f:\n",
    "        data = {}\n",
    "\n",
    "        data['train_npy_path'] = './DNN_features/triHiggs-4pT40_4b-train-4b_SPANet_pairing.npy'\n",
    "        data['test_npy_path'] = './DNN_features/triHiggs-4pT40_4b-test-4b_SPANet_pairing.npy'\n",
    "        data['batch_size'] = 2048\n",
    "        data['model_name'] = f'resonant_4b_1M-4b_SPANet_pairing_{i:02}'\n",
    "        data['sample_type'] = f'Resonant, 4b SPANet pairing, 4 b-tagged jets'\n",
    "\n",
    "        json.dump(data, f, indent=4)\n",
    "\n",
    "    cmd = f'python train_DNN.py {config_path}'\n",
    "    print(cmd)\n",
    "    i += 1"
   ]
  },
  {
   "cell_type": "markdown",
   "metadata": {},
   "source": [
    "## Mixed mass: 1M"
   ]
  },
  {
   "cell_type": "code",
   "execution_count": null,
   "metadata": {},
   "outputs": [
    {
     "name": "stdout",
     "output_type": "stream",
     "text": [
      "python train_DNN.py config_files/chi2_pairing_4b_mix_1M_config_01.json\n",
      "python train_DNN.py config_files/chi2_pairing_4b_mix_1M_config_02.json\n",
      "python train_DNN.py config_files/chi2_pairing_4b_mix_1M_config_03.json\n",
      "python train_DNN.py config_files/chi2_pairing_4b_mix_1M_config_04.json\n",
      "python train_DNN.py config_files/chi2_pairing_4b_mix_1M_config_05.json\n",
      "python train_DNN.py config_files/chi2_pairing_4b_mix_1M_config_06.json\n",
      "python train_DNN.py config_files/chi2_pairing_4b_mix_1M_config_07.json\n",
      "python train_DNN.py config_files/chi2_pairing_4b_mix_1M_config_08.json\n",
      "python train_DNN.py config_files/chi2_pairing_4b_mix_1M_config_09.json\n",
      "python train_DNN.py config_files/chi2_pairing_4b_mix_1M_config_10.json\n"
     ]
    }
   ],
   "source": [
    "i = 1\n",
    "for seed in range(123, 1100, 100):\n",
    "    config_path = f'config_files/chi2_pairing_4b_mix_1M_config_{i:02}.json'\n",
    "    with open(config_path, 'w') as f:\n",
    "        data = {}\n",
    "\n",
    "        data['train_npy_path'] = './DNN_features/triHiggs-4pT40_4b-mix-train-chi2_pairing.npy'\n",
    "        data['test_npy_path'] = './DNN_features/triHiggs-4pT40_4b-mix-test-chi2_pairing.npy'\n",
    "        data['batch_size'] = 2048\n",
    "        data['model_name'] = f'resonant_4b_mix_1M-chi2_pairing_{i:02}'\n",
    "        data['sample_type'] = f'Resonant, Mixed mass, chi2 pairing, 4 b-tagged jets'\n",
    "\n",
    "        json.dump(data, f, indent=4)\n",
    "\n",
    "    cmd = f'python train_DNN.py {config_path}'\n",
    "    print(cmd)\n",
    "    i += 1\n",
    "\n",
    "i = 1\n",
    "for seed in range(123, 1100, 100):\n",
    "    config_path = f'config_files/abs_pairing_4b_mix_1M_config_{i:02}.json'\n",
    "    with open(config_path, 'w') as f:\n",
    "        data = {}\n",
    "\n",
    "        data['train_npy_path'] = './DNN_features/triHiggs-4pT40_4b-mix-train-abs_pairing.npy'\n",
    "        data['test_npy_path'] = './DNN_features/triHiggs-4pT40_4b-mix-test-abs_pairing.npy'\n",
    "        data['batch_size'] = 2048\n",
    "        data['model_name'] = f'resonant_4b_mix_1M-abs_pairing_{i:02}'\n",
    "        data['sample_type'] = f'Resonant, Mixed mass, Absolute value pairing, 4 b-tagged jets'\n",
    "\n",
    "        json.dump(data, f, indent=4)\n",
    "\n",
    "    cmd = f'python train_DNN.py {config_path}'\n",
    "    print(cmd)\n",
    "    i += 1\n",
    "\n",
    "i = 1\n",
    "for seed in range(123, 1100, 100):\n",
    "    config_path = f'config_files/4b_SPANet_pairing_4b_mix_1M_config_{i:02}.json'\n",
    "    with open(config_path, 'w') as f:\n",
    "        data = {}\n",
    "\n",
    "        data['train_npy_path'] = './DNN_features/triHiggs-4pT40_4b-mix-train-4b_SPANet_pairing.npy'\n",
    "        data['test_npy_path'] = './DNN_features/triHiggs-4pT40_4b-mix-test-4b_SPANet_pairing.npy'\n",
    "        data['batch_size'] = 2048\n",
    "        data['model_name'] = f'resonant_4b_mix_1M-4b_SPANet_pairing_{i:02}'\n",
    "        data['sample_type'] = f'Resonant, Mixed mass, 4b SPANet pairing, 4 b-tagged jets'\n",
    "\n",
    "        json.dump(data, f, indent=4)\n",
    "\n",
    "    cmd = f'python train_DNN.py {config_path}'\n",
    "    print(cmd)\n",
    "    i += 1"
   ]
  },
  {
   "cell_type": "markdown",
   "metadata": {},
   "source": [
    "## TRSM: 4 mass points mixed: 250k"
   ]
  },
  {
   "cell_type": "code",
   "execution_count": null,
   "metadata": {},
   "outputs": [
    {
     "name": "stdout",
     "output_type": "stream",
     "text": [
      "python train_DNN.py config_files/chi2_pairing-trsm_4b-mix_4-1M_config_01.json\n",
      "python train_DNN.py config_files/chi2_pairing-trsm_4b-mix_4-1M_config_02.json\n",
      "python train_DNN.py config_files/chi2_pairing-trsm_4b-mix_4-1M_config_03.json\n",
      "python train_DNN.py config_files/chi2_pairing-trsm_4b-mix_4-1M_config_04.json\n",
      "python train_DNN.py config_files/chi2_pairing-trsm_4b-mix_4-1M_config_05.json\n",
      "python train_DNN.py config_files/chi2_pairing-trsm_4b-mix_4-1M_config_06.json\n",
      "python train_DNN.py config_files/chi2_pairing-trsm_4b-mix_4-1M_config_07.json\n",
      "python train_DNN.py config_files/chi2_pairing-trsm_4b-mix_4-1M_config_08.json\n",
      "python train_DNN.py config_files/chi2_pairing-trsm_4b-mix_4-1M_config_09.json\n",
      "python train_DNN.py config_files/chi2_pairing-trsm_4b-mix_4-1M_config_10.json\n",
      "python train_DNN.py config_files/abs_pairing-trsm_4b-mix_4-1M_config_01.json\n",
      "python train_DNN.py config_files/abs_pairing-trsm_4b-mix_4-1M_config_02.json\n",
      "python train_DNN.py config_files/abs_pairing-trsm_4b-mix_4-1M_config_03.json\n",
      "python train_DNN.py config_files/abs_pairing-trsm_4b-mix_4-1M_config_04.json\n",
      "python train_DNN.py config_files/abs_pairing-trsm_4b-mix_4-1M_config_05.json\n",
      "python train_DNN.py config_files/abs_pairing-trsm_4b-mix_4-1M_config_06.json\n",
      "python train_DNN.py config_files/abs_pairing-trsm_4b-mix_4-1M_config_07.json\n",
      "python train_DNN.py config_files/abs_pairing-trsm_4b-mix_4-1M_config_08.json\n",
      "python train_DNN.py config_files/abs_pairing-trsm_4b-mix_4-1M_config_09.json\n",
      "python train_DNN.py config_files/abs_pairing-trsm_4b-mix_4-1M_config_10.json\n",
      "python train_DNN.py config_files/4b_SPANet_pairing-trsm_4b-mix_4-1M_config_01.json\n",
      "python train_DNN.py config_files/4b_SPANet_pairing-trsm_4b-mix_4-1M_config_02.json\n",
      "python train_DNN.py config_files/4b_SPANet_pairing-trsm_4b-mix_4-1M_config_03.json\n",
      "python train_DNN.py config_files/4b_SPANet_pairing-trsm_4b-mix_4-1M_config_04.json\n",
      "python train_DNN.py config_files/4b_SPANet_pairing-trsm_4b-mix_4-1M_config_05.json\n",
      "python train_DNN.py config_files/4b_SPANet_pairing-trsm_4b-mix_4-1M_config_06.json\n",
      "python train_DNN.py config_files/4b_SPANet_pairing-trsm_4b-mix_4-1M_config_07.json\n",
      "python train_DNN.py config_files/4b_SPANet_pairing-trsm_4b-mix_4-1M_config_08.json\n",
      "python train_DNN.py config_files/4b_SPANet_pairing-trsm_4b-mix_4-1M_config_09.json\n",
      "python train_DNN.py config_files/4b_SPANet_pairing-trsm_4b-mix_4-1M_config_10.json\n"
     ]
    }
   ],
   "source": [
    "i = 1\n",
    "for seed in range(123, 1100, 100):\n",
    "    config_path = f'config_files/chi2_pairing-trsm_4b-mix_4-1M_config_{i:02}.json'\n",
    "    with open(config_path, 'w') as f:\n",
    "        data = {}\n",
    "\n",
    "        data['train_npy_path'] = './DNN_features/TRSM/triHiggs_TRSM-4pT40_4b-mix_4-train-chi2_pairing.npy'\n",
    "        data['test_npy_path'] = './DNN_features/TRSM/triHiggs_TRSM-4pT40_4b-mix_4-test-chi2_pairing.npy'\n",
    "        data['6b_test_npy_path'] = './DNN_features/TRSM/triHiggs_TRSM-4pT40_6b-mix_4-chi2_pairing.npy'\n",
    "        data['batch_size'] = 2048\n",
    "        data['model_name'] = f'trsm_4b-mix_4-1M-chi2_pairing_{i:02}'\n",
    "        data['sample_type'] = f'TRSM, 4 mass mixed, chi2 pairing, 4 b-tagged jets'\n",
    "\n",
    "        json.dump(data, f, indent=4)\n",
    "\n",
    "    cmd = f'python train_DNN.py {config_path}'\n",
    "    print(cmd)\n",
    "    i += 1\n",
    "\n",
    "i = 1\n",
    "for seed in range(123, 1100, 100):\n",
    "    config_path = f'config_files/abs_pairing-trsm_4b-mix_4-1M_config_{i:02}.json'\n",
    "    with open(config_path, 'w') as f:\n",
    "        data = {}\n",
    "\n",
    "        data['train_npy_path'] = './DNN_features/TRSM/triHiggs_TRSM-4pT40_4b-mix_4-train-abs_pairing.npy'\n",
    "        data['test_npy_path'] = './DNN_features/TRSM/triHiggs_TRSM-4pT40_4b-mix_4-test-abs_pairing.npy'\n",
    "        data['6b_test_npy_path'] = './DNN_features/TRSM/triHiggs_TRSM-4pT40_6b-mix_4-abs_pairing.npy'\n",
    "        data['batch_size'] = 2048\n",
    "        data['model_name'] = f'trsm_4b-mix_4-1M-abs_pairing_{i:02}'\n",
    "        data['sample_type'] = f'TRSM, 4 mass mixed, Absolute value pairing, 4 b-tagged jets'\n",
    "\n",
    "        json.dump(data, f, indent=4)\n",
    "\n",
    "    cmd = f'python train_DNN.py {config_path}'\n",
    "    print(cmd)\n",
    "    i += 1\n",
    "\n",
    "i = 1\n",
    "for seed in range(123, 1100, 100):\n",
    "    config_path = f'config_files/4b_SPANet_pairing-trsm_4b-mix_4-1M_config_{i:02}.json'\n",
    "    with open(config_path, 'w') as f:\n",
    "        data = {}\n",
    "\n",
    "        data['train_npy_path'] = './DNN_features/TRSM/triHiggs_TRSM-4pT40_4b-mix_4-train-4b_SPANet_pairing.npy'\n",
    "        data['test_npy_path'] = './DNN_features/TRSM/triHiggs_TRSM-4pT40_4b-mix_4-test-4b_SPANet_pairing.npy'\n",
    "        data['6b_test_npy_path'] = './DNN_features/TRSM/triHiggs_TRSM-4pT40_6b-mix_4-4b_SPANet_pairing.npy'\n",
    "        data['batch_size'] = 2048\n",
    "        data['model_name'] = f'trsm_4b-mix_4-1M-4b_SPANet_pairing_{i:02}'\n",
    "        data['sample_type'] = f'TRSM, 4 mass mixed, 4b SPANet pairing, 4 b-tagged jets'\n",
    "\n",
    "        json.dump(data, f, indent=4)\n",
    "\n",
    "    cmd = f'python train_DNN.py {config_path}'\n",
    "    print(cmd)\n",
    "    i += 1"
   ]
  },
  {
   "cell_type": "markdown",
   "metadata": {},
   "source": [
    "## TRSM: 4 mass points mixed: 750k"
   ]
  },
  {
   "cell_type": "code",
   "execution_count": 2,
   "metadata": {},
   "outputs": [
    {
     "name": "stdout",
     "output_type": "stream",
     "text": [
      "python train_DNN.py config_files/chi2_pairing-trsm_4b-mix_4-750k_config_01.json\n",
      "python train_DNN.py config_files/chi2_pairing-trsm_4b-mix_4-750k_config_02.json\n",
      "python train_DNN.py config_files/chi2_pairing-trsm_4b-mix_4-750k_config_03.json\n",
      "python train_DNN.py config_files/chi2_pairing-trsm_4b-mix_4-750k_config_04.json\n",
      "python train_DNN.py config_files/chi2_pairing-trsm_4b-mix_4-750k_config_05.json\n",
      "python train_DNN.py config_files/chi2_pairing-trsm_4b-mix_4-750k_config_06.json\n",
      "python train_DNN.py config_files/chi2_pairing-trsm_4b-mix_4-750k_config_07.json\n",
      "python train_DNN.py config_files/chi2_pairing-trsm_4b-mix_4-750k_config_08.json\n",
      "python train_DNN.py config_files/chi2_pairing-trsm_4b-mix_4-750k_config_09.json\n",
      "python train_DNN.py config_files/chi2_pairing-trsm_4b-mix_4-750k_config_10.json\n",
      "python train_DNN.py config_files/abs_pairing-trsm_4b-mix_4-750k_config_01.json\n",
      "python train_DNN.py config_files/abs_pairing-trsm_4b-mix_4-750k_config_02.json\n",
      "python train_DNN.py config_files/abs_pairing-trsm_4b-mix_4-750k_config_03.json\n",
      "python train_DNN.py config_files/abs_pairing-trsm_4b-mix_4-750k_config_04.json\n",
      "python train_DNN.py config_files/abs_pairing-trsm_4b-mix_4-750k_config_05.json\n",
      "python train_DNN.py config_files/abs_pairing-trsm_4b-mix_4-750k_config_06.json\n",
      "python train_DNN.py config_files/abs_pairing-trsm_4b-mix_4-750k_config_07.json\n",
      "python train_DNN.py config_files/abs_pairing-trsm_4b-mix_4-750k_config_08.json\n",
      "python train_DNN.py config_files/abs_pairing-trsm_4b-mix_4-750k_config_09.json\n",
      "python train_DNN.py config_files/abs_pairing-trsm_4b-mix_4-750k_config_10.json\n",
      "python train_DNN.py config_files/4b_SPANet_pairing-trsm_4b-mix_4-750k_config_01.json\n",
      "python train_DNN.py config_files/4b_SPANet_pairing-trsm_4b-mix_4-750k_config_02.json\n",
      "python train_DNN.py config_files/4b_SPANet_pairing-trsm_4b-mix_4-750k_config_03.json\n",
      "python train_DNN.py config_files/4b_SPANet_pairing-trsm_4b-mix_4-750k_config_04.json\n",
      "python train_DNN.py config_files/4b_SPANet_pairing-trsm_4b-mix_4-750k_config_05.json\n",
      "python train_DNN.py config_files/4b_SPANet_pairing-trsm_4b-mix_4-750k_config_06.json\n",
      "python train_DNN.py config_files/4b_SPANet_pairing-trsm_4b-mix_4-750k_config_07.json\n",
      "python train_DNN.py config_files/4b_SPANet_pairing-trsm_4b-mix_4-750k_config_08.json\n",
      "python train_DNN.py config_files/4b_SPANet_pairing-trsm_4b-mix_4-750k_config_09.json\n",
      "python train_DNN.py config_files/4b_SPANet_pairing-trsm_4b-mix_4-750k_config_10.json\n"
     ]
    }
   ],
   "source": [
    "i = 1\n",
    "for seed in range(123, 1100, 100):\n",
    "    config_path = f'config_files/chi2_pairing-trsm_4b-mix_4-750k_config_{i:02}.json'\n",
    "    with open(config_path, 'w') as f:\n",
    "        data = {}\n",
    "\n",
    "        data['train_npy_path'] = './DNN_features/TRSM/triHiggs_TRSM-4pT40_4b-mix_4-train-chi2_pairing.npy'\n",
    "        data['test_npy_path'] = './DNN_features/TRSM/triHiggs_TRSM-4pT40_4b-mix_4-test-chi2_pairing.npy'\n",
    "        data['6b_test_npy_path'] = './DNN_features/TRSM/triHiggs_TRSM-4pT40_6b-mix_4-chi2_pairing.npy'\n",
    "        data['batch_size'] = 2048\n",
    "        data['model_name'] = f'trsm_4b-mix_4-750k-chi2_pairing_{i:02}'\n",
    "        data['sample_type'] = f'TRSM, 4 mass mixed, chi2 pairing, 4 b-tagged jets'\n",
    "\n",
    "        json.dump(data, f, indent=4)\n",
    "\n",
    "    cmd = f'python train_DNN.py {config_path}'\n",
    "    print(cmd)\n",
    "    i += 1\n",
    "\n",
    "i = 1\n",
    "for seed in range(123, 1100, 100):\n",
    "    config_path = f'config_files/abs_pairing-trsm_4b-mix_4-750k_config_{i:02}.json'\n",
    "    with open(config_path, 'w') as f:\n",
    "        data = {}\n",
    "\n",
    "        data['train_npy_path'] = './DNN_features/TRSM/triHiggs_TRSM-4pT40_4b-mix_4-train-abs_pairing.npy'\n",
    "        data['test_npy_path'] = './DNN_features/TRSM/triHiggs_TRSM-4pT40_4b-mix_4-test-abs_pairing.npy'\n",
    "        data['6b_test_npy_path'] = './DNN_features/TRSM/triHiggs_TRSM-4pT40_6b-mix_4-abs_pairing.npy'\n",
    "        data['batch_size'] = 2048\n",
    "        data['model_name'] = f'trsm_4b-mix_4-750k-abs_pairing_{i:02}'\n",
    "        data['sample_type'] = f'TRSM, 4 mass mixed, Absolute value pairing, 4 b-tagged jets'\n",
    "\n",
    "        json.dump(data, f, indent=4)\n",
    "\n",
    "    cmd = f'python train_DNN.py {config_path}'\n",
    "    print(cmd)\n",
    "    i += 1\n",
    "\n",
    "i = 1\n",
    "for seed in range(123, 1100, 100):\n",
    "    config_path = f'config_files/4b_SPANet_pairing-trsm_4b-mix_4-750k_config_{i:02}.json'\n",
    "    with open(config_path, 'w') as f:\n",
    "        data = {}\n",
    "\n",
    "        data['train_npy_path'] = './DNN_features/TRSM/triHiggs_TRSM-4pT40_4b-mix_4-train-4b_SPANet_pairing.npy'\n",
    "        data['test_npy_path'] = './DNN_features/TRSM/triHiggs_TRSM-4pT40_4b-mix_4-test-4b_SPANet_pairing.npy'\n",
    "        data['6b_test_npy_path'] = './DNN_features/TRSM/triHiggs_TRSM-4pT40_6b-mix_4-4b_SPANet_pairing.npy'\n",
    "        data['batch_size'] = 2048\n",
    "        data['model_name'] = f'trsm_4b-mix_4-750k-4b_SPANet_pairing_{i:02}'\n",
    "        data['sample_type'] = f'TRSM, 4 mass mixed, 4b SPANet pairing, 4 b-tagged jets'\n",
    "\n",
    "        json.dump(data, f, indent=4)\n",
    "\n",
    "    cmd = f'python train_DNN.py {config_path}'\n",
    "    print(cmd)\n",
    "    i += 1"
   ]
  }
 ],
 "metadata": {
  "kernelspec": {
   "display_name": "jupyter",
   "language": "python",
   "name": "python3"
  },
  "language_info": {
   "codemirror_mode": {
    "name": "ipython",
    "version": 3
   },
   "file_extension": ".py",
   "mimetype": "text/x-python",
   "name": "python",
   "nbconvert_exporter": "python",
   "pygments_lexer": "ipython3",
   "version": "3.8.16"
  }
 },
 "nbformat": 4,
 "nbformat_minor": 2
}
