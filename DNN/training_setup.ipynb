{
 "cells": [
  {
   "cell_type": "code",
   "execution_count": 1,
   "metadata": {},
   "outputs": [],
   "source": [
    "import os\n",
    "import json"
   ]
  },
  {
   "cell_type": "code",
   "execution_count": 2,
   "metadata": {},
   "outputs": [
    {
     "name": "stdout",
     "output_type": "stream",
     "text": [
      "python train_DNN.py config_files/abs_pairing_config_01.json\n",
      "python train_DNN.py config_files/abs_pairing_config_02.json\n",
      "python train_DNN.py config_files/abs_pairing_config_03.json\n",
      "python train_DNN.py config_files/abs_pairing_config_04.json\n",
      "python train_DNN.py config_files/abs_pairing_config_05.json\n",
      "python train_DNN.py config_files/abs_pairing_config_06.json\n",
      "python train_DNN.py config_files/abs_pairing_config_07.json\n",
      "python train_DNN.py config_files/abs_pairing_config_08.json\n",
      "python train_DNN.py config_files/abs_pairing_config_09.json\n",
      "python train_DNN.py config_files/abs_pairing_config_10.json\n"
     ]
    }
   ],
   "source": [
    "i = 1\n",
    "for seed in range(123, 1100, 100):\n",
    "    config_path = f'config_files/abs_pairing_config_{i:02}.json'\n",
    "    with open(config_path, 'w') as f:\n",
    "        data = {}\n",
    "\n",
    "        data['signal_npy_path'] = './DNN_features/resonant-abs_pairing.npy'\n",
    "        data['background_npy_path'] = './DNN_features/pp6b-abs_pairing.npy'\n",
    "        data['batch_size'] = 128\n",
    "        data['model_name'] = f'resonant_abs_pairing_{i:02}'\n",
    "        data['sample_type'] = f'Resonant, Absolute value pairing'\n",
    "\n",
    "        json.dump(data, f, indent=4)\n",
    "\n",
    "    cmd = f'python train_DNN.py {config_path}'\n",
    "    print(cmd)\n",
    "    i += 1"
   ]
  },
  {
   "cell_type": "code",
   "execution_count": 3,
   "metadata": {},
   "outputs": [
    {
     "name": "stdout",
     "output_type": "stream",
     "text": [
      "python train_DNN.py config_files/4b_SPANet_pairing_config_01.json\n",
      "python train_DNN.py config_files/4b_SPANet_pairing_config_02.json\n",
      "python train_DNN.py config_files/4b_SPANet_pairing_config_03.json\n",
      "python train_DNN.py config_files/4b_SPANet_pairing_config_04.json\n",
      "python train_DNN.py config_files/4b_SPANet_pairing_config_05.json\n",
      "python train_DNN.py config_files/4b_SPANet_pairing_config_06.json\n",
      "python train_DNN.py config_files/4b_SPANet_pairing_config_07.json\n",
      "python train_DNN.py config_files/4b_SPANet_pairing_config_08.json\n",
      "python train_DNN.py config_files/4b_SPANet_pairing_config_09.json\n",
      "python train_DNN.py config_files/4b_SPANet_pairing_config_10.json\n"
     ]
    }
   ],
   "source": [
    "i = 1\n",
    "for seed in range(123, 1100, 100):\n",
    "    config_path = f'config_files/4b_SPANet_pairing_config_{i:02}.json'\n",
    "    with open(config_path, 'w') as f:\n",
    "        data = {}\n",
    "\n",
    "        data['signal_npy_path'] = './DNN_features/resonant-4b_SPANet_pairing.npy'\n",
    "        data['background_npy_path'] = './DNN_features/pp6b-4b_SPANet_pairing.npy'\n",
    "        data['batch_size'] = 128\n",
    "        data['model_name'] = f'resonant_4b_SPANet_pairing_{i:02}'\n",
    "        data['sample_type'] = f'Resonant, 4b SPANet pairing'\n",
    "\n",
    "        json.dump(data, f, indent=4)\n",
    "\n",
    "    cmd = f'python train_DNN.py {config_path}'\n",
    "    print(cmd)\n",
    "    i += 1"
   ]
  },
  {
   "cell_type": "code",
   "execution_count": 4,
   "metadata": {},
   "outputs": [
    {
     "name": "stdout",
     "output_type": "stream",
     "text": [
      "python train_DNN.py config_files/chi2_pairing_config_01.json\n",
      "python train_DNN.py config_files/chi2_pairing_config_02.json\n",
      "python train_DNN.py config_files/chi2_pairing_config_03.json\n",
      "python train_DNN.py config_files/chi2_pairing_config_04.json\n",
      "python train_DNN.py config_files/chi2_pairing_config_05.json\n",
      "python train_DNN.py config_files/chi2_pairing_config_06.json\n",
      "python train_DNN.py config_files/chi2_pairing_config_07.json\n",
      "python train_DNN.py config_files/chi2_pairing_config_08.json\n",
      "python train_DNN.py config_files/chi2_pairing_config_09.json\n",
      "python train_DNN.py config_files/chi2_pairing_config_10.json\n"
     ]
    }
   ],
   "source": [
    "i = 1\n",
    "for seed in range(123, 1100, 100):\n",
    "    config_path = f'config_files/chi2_pairing_config_{i:02}.json'\n",
    "    with open(config_path, 'w') as f:\n",
    "        data = {}\n",
    "\n",
    "        data['signal_npy_path'] = './DNN_features/resonant-chi2_pairing.npy'\n",
    "        data['background_npy_path'] = './DNN_features/pp6b-chi2_pairing.npy'\n",
    "        data['batch_size'] = 128\n",
    "        data['model_name'] = f'resonant_chi2_pairing_{i:02}'\n",
    "        data['sample_type'] = f'Resonant, chi2 pairing'\n",
    "\n",
    "        json.dump(data, f, indent=4)\n",
    "\n",
    "    cmd = f'python train_DNN.py {config_path}'\n",
    "    print(cmd)\n",
    "    i += 1"
   ]
  }
 ],
 "metadata": {
  "kernelspec": {
   "display_name": "jupyter",
   "language": "python",
   "name": "python3"
  },
  "language_info": {
   "codemirror_mode": {
    "name": "ipython",
    "version": 3
   },
   "file_extension": ".py",
   "mimetype": "text/x-python",
   "name": "python",
   "nbconvert_exporter": "python",
   "pygments_lexer": "ipython3",
   "version": "3.8.16"
  }
 },
 "nbformat": 4,
 "nbformat_minor": 2
}
