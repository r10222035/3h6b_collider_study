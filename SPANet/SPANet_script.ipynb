{
 "cells": [
  {
   "cell_type": "markdown",
   "metadata": {},
   "source": [
    "# Train"
   ]
  },
  {
   "cell_type": "code",
   "execution_count": 1,
   "metadata": {},
   "outputs": [
    {
     "name": "stdout",
     "output_type": "stream",
     "text": [
      "python -m spanet.train -of options_files/triHiggs/triHiggs_0b.json --log_dir triHiggs  --name triHiggs_0b\n"
     ]
    }
   ],
   "source": [
    "option_file = 'options_files/triHiggs/triHiggs_0b.json'\n",
    "log_dir = 'triHiggs'\n",
    "sub_log_dir = 'triHiggs_0b'\n",
    "\n",
    "cmd = f'python -m spanet.train -of {option_file} --log_dir {log_dir}  --name {sub_log_dir}'\n",
    "print(cmd)"
   ]
  },
  {
   "cell_type": "code",
   "execution_count": 2,
   "metadata": {},
   "outputs": [
    {
     "name": "stdout",
     "output_type": "stream",
     "text": [
      "python -m spanet.train -of options_files/triHiggs/triHiggs_0b_class.json --log_dir triHiggs  --name triHiggs_0b_class\n"
     ]
    }
   ],
   "source": [
    "option_file = 'options_files/triHiggs/triHiggs_0b_class.json'\n",
    "log_dir = 'triHiggs'\n",
    "sub_log_dir = 'triHiggs_0b_class'\n",
    "\n",
    "cmd = f'python -m spanet.train -of {option_file} --log_dir {log_dir}  --name {sub_log_dir}'\n",
    "print(cmd)"
   ]
  },
  {
   "cell_type": "markdown",
   "metadata": {},
   "source": [
    "# Test"
   ]
  },
  {
   "cell_type": "code",
   "execution_count": 3,
   "metadata": {},
   "outputs": [
    {
     "name": "stdout",
     "output_type": "stream",
     "text": [
      "python -m spanet.test ./triHiggs/triHiggs_0b/version_0 -tf ./data/triHiggs/gghhh_0b_test.h5 --gpu\n"
     ]
    }
   ],
   "source": [
    "log_dir = './triHiggs/triHiggs_0b/version_0'\n",
    "test_file = './data/triHiggs/gghhh_0b_test.h5'\n",
    "\n",
    "cmd = f'python -m spanet.test {log_dir} -tf {test_file} --gpu'\n",
    "print(cmd)"
   ]
  },
  {
   "cell_type": "code",
   "execution_count": 4,
   "metadata": {},
   "outputs": [
    {
     "name": "stdout",
     "output_type": "stream",
     "text": [
      "python -m spanet.test ./triHiggs/triHiggs_0b_class/version_0 -tf ./data/triHiggs/triHiggs_0b_test.h5 --gpu\n"
     ]
    }
   ],
   "source": [
    "log_dir = './triHiggs/triHiggs_0b_class/version_0'\n",
    "test_file = './data/triHiggs/triHiggs_0b_test.h5'\n",
    "\n",
    "cmd = f'python -m spanet.test {log_dir} -tf {test_file} --gpu'\n",
    "print(cmd)"
   ]
  },
  {
   "cell_type": "markdown",
   "metadata": {},
   "source": [
    "# Predict"
   ]
  },
  {
   "cell_type": "code",
   "execution_count": 5,
   "metadata": {},
   "outputs": [
    {
     "name": "stdout",
     "output_type": "stream",
     "text": [
      "python -m spanet.predict ./triHiggs/triHiggs_0b/version_0 ./data/triHiggs/gghhh_0b_test-predict.h5 -tf ./data/triHiggs/gghhh_0b_test.h5 --gpu\n"
     ]
    }
   ],
   "source": [
    "log_dir = './triHiggs/triHiggs_0b/version_0'\n",
    "test_file = './data/triHiggs/gghhh_0b_test.h5'\n",
    "output_file = './data/triHiggs/gghhh_0b_test-predict.h5'\n",
    "\n",
    "cmd = f'python -m spanet.predict {log_dir} {output_file} -tf {test_file} --gpu'\n",
    "print(cmd)"
   ]
  }
 ],
 "metadata": {
  "kernelspec": {
   "display_name": "jupyter",
   "language": "python",
   "name": "python3"
  },
  "language_info": {
   "codemirror_mode": {
    "name": "ipython",
    "version": 3
   },
   "file_extension": ".py",
   "mimetype": "text/x-python",
   "name": "python",
   "nbconvert_exporter": "python",
   "pygments_lexer": "ipython3",
   "version": "3.8.16"
  }
 },
 "nbformat": 4,
 "nbformat_minor": 2
}
