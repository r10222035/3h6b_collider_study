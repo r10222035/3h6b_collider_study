{
 "cells": [
  {
   "cell_type": "markdown",
   "metadata": {},
   "source": [
    "# Train"
   ]
  },
  {
   "cell_type": "code",
   "execution_count": 1,
   "metadata": {},
   "outputs": [
    {
     "name": "stdout",
     "output_type": "stream",
     "text": [
      "python -m spanet.train -of options_files/triHiggs/triHiggs_4b_PT40.json --log_dir triHiggs  --name triHiggs_4b_PT40\n"
     ]
    }
   ],
   "source": [
    "option_file = 'options_files/triHiggs/triHiggs_4b_PT40.json'\n",
    "log_dir = 'triHiggs'\n",
    "sub_log_dir = 'triHiggs_4b_PT40'\n",
    "\n",
    "cmd = f'python -m spanet.train -of {option_file} --log_dir {log_dir}  --name {sub_log_dir}'\n",
    "print(cmd)"
   ]
  },
  {
   "cell_type": "code",
   "execution_count": 1,
   "metadata": {},
   "outputs": [
    {
     "name": "stdout",
     "output_type": "stream",
     "text": [
      "python -m spanet.train -of options_files/triHiggs/triHiggs_4b_PT40_class.json --log_dir triHiggs  --name triHiggs_4b_PT40_class\n"
     ]
    }
   ],
   "source": [
    "option_file = 'options_files/triHiggs/triHiggs_4b_PT40_class.json'\n",
    "log_dir = 'triHiggs'\n",
    "sub_log_dir = 'triHiggs_4b_PT40_class'\n",
    "\n",
    "cmd = f'python -m spanet.train -of {option_file} --log_dir {log_dir}  --name {sub_log_dir}'\n",
    "print(cmd)"
   ]
  },
  {
   "cell_type": "code",
   "execution_count": 1,
   "metadata": {},
   "outputs": [
    {
     "name": "stdout",
     "output_type": "stream",
     "text": [
      "python -m spanet.train -of options_files/triHiggs/triHiggs_6b_PT40.json --log_dir triHiggs  --name triHiggs_6b_PT40\n"
     ]
    }
   ],
   "source": [
    "option_file = 'options_files/triHiggs/triHiggs_6b_PT40.json'\n",
    "log_dir = 'triHiggs'\n",
    "sub_log_dir = 'triHiggs_6b_PT40'\n",
    "\n",
    "cmd = f'python -m spanet.train -of {option_file} --log_dir {log_dir}  --name {sub_log_dir}'\n",
    "print(cmd)"
   ]
  },
  {
   "cell_type": "code",
   "execution_count": 1,
   "metadata": {},
   "outputs": [
    {
     "name": "stdout",
     "output_type": "stream",
     "text": [
      "python -m spanet.train -of options_files/triHiggs/triHiggs-4pT40_4b-class.json --log_dir triHiggs  --name triHiggs-4pT40_4b-class\n"
     ]
    }
   ],
   "source": [
    "option_file = 'options_files/triHiggs/triHiggs-4pT40_4b-class.json'\n",
    "log_dir = 'triHiggs'\n",
    "sub_log_dir = 'triHiggs-4pT40_4b-class'\n",
    "\n",
    "cmd = f'python -m spanet.train -of {option_file} --log_dir {log_dir}  --name {sub_log_dir}'\n",
    "print(cmd)"
   ]
  },
  {
   "cell_type": "code",
   "execution_count": 1,
   "metadata": {},
   "outputs": [
    {
     "name": "stdout",
     "output_type": "stream",
     "text": [
      "python -m spanet.train -of options_files/triHiggs/triHiggs-4pT40_4b-mix-class.json --log_dir triHiggs  --name triHiggs-4pT40_4b-mix-class\n"
     ]
    }
   ],
   "source": [
    "option_file = 'options_files/triHiggs/triHiggs-4pT40_4b-mix-class.json'\n",
    "log_dir = 'triHiggs'\n",
    "sub_log_dir = 'triHiggs-4pT40_4b-mix-class'\n",
    "\n",
    "cmd = f'python -m spanet.train -of {option_file} --log_dir {log_dir}  --name {sub_log_dir}'\n",
    "print(cmd)"
   ]
  },
  {
   "cell_type": "markdown",
   "metadata": {},
   "source": [
    "# Test"
   ]
  },
  {
   "cell_type": "code",
   "execution_count": 2,
   "metadata": {},
   "outputs": [
    {
     "name": "stdout",
     "output_type": "stream",
     "text": [
      "python -m spanet.test ./triHiggs/triHiggs_4b_PT40/version_0 -tf ./data/triHiggs/gghhh_4b_PT40_test.h5 --gpu\n"
     ]
    }
   ],
   "source": [
    "log_dir = './triHiggs/triHiggs_4b_PT40/version_0'\n",
    "test_file = './data/triHiggs/gghhh_4b_PT40_test.h5'\n",
    "\n",
    "cmd = f'python -m spanet.test {log_dir} -tf {test_file} --gpu'\n",
    "print(cmd)"
   ]
  },
  {
   "cell_type": "code",
   "execution_count": 2,
   "metadata": {},
   "outputs": [
    {
     "name": "stdout",
     "output_type": "stream",
     "text": [
      "python -m spanet.test ./triHiggs/triHiggs_4b_PT40_class/version_0 -tf ./data/triHiggs/triHiggs_4b_PT40_test.h5 --gpu\n"
     ]
    }
   ],
   "source": [
    "log_dir = './triHiggs/triHiggs_4b_PT40_class/version_0'\n",
    "test_file = './data/triHiggs/triHiggs_4b_PT40_test.h5'\n",
    "\n",
    "cmd = f'python -m spanet.test {log_dir} -tf {test_file} --gpu'\n",
    "print(cmd)"
   ]
  },
  {
   "cell_type": "code",
   "execution_count": 1,
   "metadata": {},
   "outputs": [
    {
     "name": "stdout",
     "output_type": "stream",
     "text": [
      "python -m spanet.test ./triHiggs/triHiggs_6b_PT40/version_0 -tf ./data/triHiggs/gghhh_6b_PT40_test.h5 --gpu\n"
     ]
    }
   ],
   "source": [
    "log_dir = './triHiggs/triHiggs_6b_PT40/version_0'\n",
    "test_file = './data/triHiggs/gghhh_6b_PT40_test.h5'\n",
    "\n",
    "cmd = f'python -m spanet.test {log_dir} -tf {test_file} --gpu'\n",
    "print(cmd)"
   ]
  },
  {
   "cell_type": "code",
   "execution_count": 1,
   "metadata": {},
   "outputs": [
    {
     "name": "stdout",
     "output_type": "stream",
     "text": [
      "python -m spanet.test ./triHiggs/triHiggs_4b_PT40/version_0 -tf ./data/triHiggs/gghhh_6b_PT40_test.h5 --gpu\n"
     ]
    }
   ],
   "source": [
    "log_dir = './triHiggs/triHiggs_4b_PT40/version_0'\n",
    "test_file = './data/triHiggs/gghhh_6b_PT40_test.h5'\n",
    "\n",
    "cmd = f'python -m spanet.test {log_dir} -tf {test_file} --gpu'\n",
    "print(cmd)"
   ]
  },
  {
   "cell_type": "code",
   "execution_count": 1,
   "metadata": {},
   "outputs": [
    {
     "name": "stdout",
     "output_type": "stream",
     "text": [
      "python -m spanet.test ./triHiggs/triHiggs-4pT40_4b-class/version_0 -tf ./data/triHiggs/triHiggs-4pT40_4b-test.h5 --gpu\n"
     ]
    }
   ],
   "source": [
    "log_dir = './triHiggs/triHiggs-4pT40_4b-class/version_0'\n",
    "test_file = './data/triHiggs/triHiggs-4pT40_4b-test.h5'\n",
    "\n",
    "cmd = f'python -m spanet.test {log_dir} -tf {test_file} --gpu'\n",
    "print(cmd)"
   ]
  },
  {
   "cell_type": "code",
   "execution_count": 1,
   "metadata": {},
   "outputs": [
    {
     "name": "stdout",
     "output_type": "stream",
     "text": [
      "python -m spanet.test ./triHiggs/triHiggs-4pT40_4b-mix-class/version_0 -tf ./data/triHiggs/triHiggs-4pT40_4b-mix-test.h5 --gpu\n"
     ]
    }
   ],
   "source": [
    "log_dir = './triHiggs/triHiggs-4pT40_4b-mix-class/version_0'\n",
    "test_file = './data/triHiggs/triHiggs-4pT40_4b-mix-test.h5'\n",
    "\n",
    "cmd = f'python -m spanet.test {log_dir} -tf {test_file} --gpu'\n",
    "print(cmd)"
   ]
  },
  {
   "cell_type": "markdown",
   "metadata": {},
   "source": [
    "# Predict"
   ]
  },
  {
   "cell_type": "code",
   "execution_count": 3,
   "metadata": {},
   "outputs": [
    {
     "name": "stdout",
     "output_type": "stream",
     "text": [
      "python -m spanet.predict ./triHiggs/triHiggs_4b_PT40_class/version_1 ./data/triHiggs/triHiggs_4b_PT40_test-predict.h5 -tf ./data/triHiggs/triHiggs_4b_PT40_test.h5 --gpu\n"
     ]
    }
   ],
   "source": [
    "log_dir = './triHiggs/triHiggs_4b_PT40_class/version_1'\n",
    "test_file = './data/triHiggs/triHiggs_4b_PT40_test.h5'\n",
    "output_file = './data/triHiggs/triHiggs_4b_PT40_test-predict.h5'\n",
    "\n",
    "cmd = f'python -m spanet.predict {log_dir} {output_file} -tf {test_file} --gpu'\n",
    "print(cmd)"
   ]
  },
  {
   "cell_type": "code",
   "execution_count": 1,
   "metadata": {},
   "outputs": [
    {
     "name": "stdout",
     "output_type": "stream",
     "text": [
      "python -m spanet.predict ./triHiggs/triHiggs_4b_PT40_class/version_1 ../3h6b_collider_study/Sample/SPANet/triHiggs_6b_test-4b_SPANet_cls_predict.h5 -tf ../3h6b_collider_study/Sample/SPANet/triHiggs_6b_test.h5 --gpu\n"
     ]
    }
   ],
   "source": [
    "log_dir = './triHiggs/triHiggs_4b_PT40_class/version_1'\n",
    "test_file = '../3h6b_collider_study/Sample/SPANet/triHiggs_6b_test.h5'\n",
    "output_file = '../3h6b_collider_study/Sample/SPANet/triHiggs_6b_test-4b_SPANet_cls_predict.h5'\n",
    "\n",
    "cmd = f'python -m spanet.predict {log_dir} {output_file} -tf {test_file} --gpu'\n",
    "print(cmd)"
   ]
  },
  {
   "cell_type": "code",
   "execution_count": 2,
   "metadata": {},
   "outputs": [
    {
     "name": "stdout",
     "output_type": "stream",
     "text": [
      "python -m spanet.predict ./triHiggs/triHiggs_4b_PT40/version_0 ./data/triHiggs/gghhh_6b_PT40_test-4b_SPANet_pairing.h5 -tf ./data/triHiggs/gghhh_6b_PT40_test.h5 --gpu\n"
     ]
    }
   ],
   "source": [
    "log_dir = './triHiggs/triHiggs_4b_PT40/version_0'\n",
    "test_file = './data/triHiggs/gghhh_6b_PT40_test.h5'\n",
    "output_file = './data/triHiggs/gghhh_6b_PT40_test-4b_SPANet_pairing.h5'\n",
    "\n",
    "cmd = f'python -m spanet.predict {log_dir} {output_file} -tf {test_file} --gpu'\n",
    "print(cmd)"
   ]
  },
  {
   "cell_type": "code",
   "execution_count": 1,
   "metadata": {},
   "outputs": [
    {
     "name": "stdout",
     "output_type": "stream",
     "text": [
      "python -m spanet.predict ./triHiggs/triHiggs_4b_PT40/version_0 ../3h6b_collider_study/Sample/SPANet/gghhh_6b_PT40_DNN-4b_SPANet_pairing.h5 -tf ../3h6b_collider_study/Sample/SPANet/gghhh_6b_PT40_DNN.h5 --gpu\n"
     ]
    }
   ],
   "source": [
    "log_dir = './triHiggs/triHiggs_4b_PT40/version_0'\n",
    "test_file = '../3h6b_collider_study/Sample/SPANet/gghhh_6b_PT40_DNN.h5'\n",
    "output_file = '../3h6b_collider_study/Sample/SPANet/gghhh_6b_PT40_DNN-4b_SPANet_pairing.h5'\n",
    "\n",
    "cmd = f'python -m spanet.predict {log_dir} {output_file} -tf {test_file} --gpu'\n",
    "print(cmd)"
   ]
  },
  {
   "cell_type": "code",
   "execution_count": 1,
   "metadata": {},
   "outputs": [
    {
     "name": "stdout",
     "output_type": "stream",
     "text": [
      "python -m spanet.predict ./triHiggs/triHiggs_4b_PT40/version_0 ../3h6b_collider_study/Sample/SPANet/gghhh_4b_PT40_test-4b_SPANet_pairing.h5 -tf ../3h6b_collider_study/Sample/SPANet/gghhh_4b_PT40_test.h5 --gpu\n"
     ]
    }
   ],
   "source": [
    "log_dir = './triHiggs/triHiggs_4b_PT40/version_0'\n",
    "test_file = '../3h6b_collider_study/Sample/SPANet/gghhh_4b_PT40_test.h5'\n",
    "output_file = '../3h6b_collider_study/Sample/SPANet/gghhh_4b_PT40_test-4b_SPANet_pairing.h5'\n",
    "\n",
    "cmd = f'python -m spanet.predict {log_dir} {output_file} -tf {test_file} --gpu'\n",
    "print(cmd)"
   ]
  },
  {
   "cell_type": "code",
   "execution_count": 1,
   "metadata": {},
   "outputs": [
    {
     "name": "stdout",
     "output_type": "stream",
     "text": [
      "python -m spanet.predict ./triHiggs/triHiggs_4b_PT40/version_0 ../3h6b_collider_study/Sample/SPANet/gghhh_4b_PT40_DNN-4b_SPANet_pairing.h5 -tf ../3h6b_collider_study/Sample/SPANet/gghhh_4b_PT40_DNN.h5 --gpu\n"
     ]
    }
   ],
   "source": [
    "log_dir = './triHiggs/triHiggs_4b_PT40/version_0'\n",
    "test_file = '../3h6b_collider_study/Sample/SPANet/gghhh_4b_PT40_DNN.h5'\n",
    "output_file = '../3h6b_collider_study/Sample/SPANet/gghhh_4b_PT40_DNN-4b_SPANet_pairing.h5'\n",
    "\n",
    "cmd = f'python -m spanet.predict {log_dir} {output_file} -tf {test_file} --gpu'\n",
    "print(cmd)"
   ]
  },
  {
   "cell_type": "code",
   "execution_count": 1,
   "metadata": {},
   "outputs": [
    {
     "name": "stdout",
     "output_type": "stream",
     "text": [
      "python -m spanet.predict ./triHiggs/triHiggs_4b_PT40/version_0 ../3h6b_collider_study/Sample/SPANet/pp6b_6b-4b_SPANet_pairing.h5 -tf ../3h6b_collider_study/Sample/SPANet/pp6b_6b.h5 --gpu\n"
     ]
    }
   ],
   "source": [
    "log_dir = './triHiggs/triHiggs_4b_PT40/version_0'\n",
    "test_file = '../3h6b_collider_study/Sample/SPANet/pp6b_4b.h5'\n",
    "output_file = '../3h6b_collider_study/Sample/SPANet/pp6b_4b-4b_SPANet_pairing.h5'\n",
    "\n",
    "cmd = f'python -m spanet.predict {log_dir} {output_file} -tf {test_file} --gpu'\n",
    "print(cmd)"
   ]
  },
  {
   "cell_type": "code",
   "execution_count": 3,
   "metadata": {},
   "outputs": [
    {
     "name": "stdout",
     "output_type": "stream",
     "text": [
      "python -m spanet.predict ./triHiggs/triHiggs_6b_PT40/version_0 ./data/triHiggs/gghhh_6b_PT40_test-6b_SPANet_pairing.h5 -tf ./data/triHiggs/gghhh_6b_PT40_test.h5 --gpu\n"
     ]
    }
   ],
   "source": [
    "log_dir = './triHiggs/triHiggs_6b_PT40/version_0'\n",
    "test_file = './data/triHiggs/gghhh_6b_PT40_test.h5'\n",
    "output_file = './data/triHiggs/gghhh_6b_PT40_test-6b_SPANet_pairing.h5'\n",
    "\n",
    "cmd = f'python -m spanet.predict {log_dir} {output_file} -tf {test_file} --gpu'\n",
    "print(cmd)"
   ]
  },
  {
   "cell_type": "code",
   "execution_count": null,
   "metadata": {},
   "outputs": [
    {
     "name": "stdout",
     "output_type": "stream",
     "text": [
      "python -m spanet.predict ./triHiggs/triHiggs-4pT40_4b-class/version_0 ../3h6b_collider_study/Sample/SPANet/triHiggs-4pT40_4b-train-4b_SPANet_pairing.h5 -tf ../3h6b_collider_study/Sample/SPANet/triHiggs-4pT40_4b-train.h5 --gpu\n"
     ]
    }
   ],
   "source": [
    "log_dir = './triHiggs/triHiggs-4pT40_4b-class/version_0'\n",
    "test_file = '../3h6b_collider_study/Sample/SPANet/triHiggs-4pT40_4b-train.h5'\n",
    "output_file = '../3h6b_collider_study/Sample/SPANet/triHiggs-4pT40_4b-train-4b_SPANet_pairing.h5'\n",
    "\n",
    "cmd = f'python -m spanet.predict {log_dir} {output_file} -tf {test_file} --gpu'\n",
    "print(cmd)"
   ]
  },
  {
   "cell_type": "code",
   "execution_count": 2,
   "metadata": {},
   "outputs": [
    {
     "name": "stdout",
     "output_type": "stream",
     "text": [
      "python -m spanet.predict ./triHiggs/triHiggs-4pT40_4b-class/version_0 ../3h6b_collider_study/Sample/SPANet/triHiggs-4pT40_4b-test-4b_SPANet_pairing.h5 -tf ../3h6b_collider_study/Sample/SPANet/triHiggs-4pT40_4b-test.h5 --gpu\n"
     ]
    }
   ],
   "source": [
    "log_dir = './triHiggs/triHiggs-4pT40_4b-class/version_0'\n",
    "test_file = '../3h6b_collider_study/Sample/SPANet/triHiggs-4pT40_4b-test.h5'\n",
    "output_file = '../3h6b_collider_study/Sample/SPANet/triHiggs-4pT40_4b-test-4b_SPANet_pairing.h5'\n",
    "\n",
    "cmd = f'python -m spanet.predict {log_dir} {output_file} -tf {test_file} --gpu'\n",
    "print(cmd)\n",
    "\n",
    "log_dir = './triHiggs/triHiggs-4pT40_4b-class/version_0'\n",
    "test_file = '../3h6b_collider_study/Sample/SPANet/triHiggs-4pT40_4b-test.h5'\n",
    "output_file = '../3h6b_collider_study/Sample/SPANet/triHiggs-4pT40_4b-test-4b_SPANet_predict.h5'\n",
    "\n",
    "cmd = f'python -m spanet.predict {log_dir} {output_file} -tf {test_file} --gpu'\n",
    "print(cmd)"
   ]
  },
  {
   "cell_type": "code",
   "execution_count": 3,
   "metadata": {},
   "outputs": [
    {
     "name": "stdout",
     "output_type": "stream",
     "text": [
      "python -m spanet.predict ./triHiggs/triHiggs-4pT40_4b-class/version_0 ../3h6b_collider_study/Sample/SPANet/triHiggs-4pT40_6b-4b_SPANet_predict.h5 -tf ../3h6b_collider_study/Sample/SPANet/triHiggs-4pT40_6b.h5 --gpu\n"
     ]
    }
   ],
   "source": [
    "log_dir = './triHiggs/triHiggs-4pT40_4b-class/version_0'\n",
    "test_file = '../3h6b_collider_study/Sample/SPANet/triHiggs-4pT40_6b.h5'\n",
    "output_file = '../3h6b_collider_study/Sample/SPANet/triHiggs-4pT40_6b-4b_SPANet_predict.h5'\n",
    "\n",
    "cmd = f'python -m spanet.predict {log_dir} {output_file} -tf {test_file} --gpu'\n",
    "print(cmd)\n",
    "\n",
    "log_dir = './triHiggs/triHiggs-4pT40_4b-class/version_0'\n",
    "test_file = '../3h6b_collider_study/Sample/SPANet/triHiggs-4pT40_6b.h5'\n",
    "output_file = '../3h6b_collider_study/Sample/SPANet/triHiggs-4pT40_6b-4b_SPANet_pairing.h5'\n",
    "\n",
    "cmd = f'python -m spanet.predict {log_dir} {output_file} -tf {test_file} --gpu'\n",
    "print(cmd)"
   ]
  },
  {
   "cell_type": "code",
   "execution_count": 1,
   "metadata": {},
   "outputs": [
    {
     "name": "stdout",
     "output_type": "stream",
     "text": [
      "python -m spanet.predict ./triHiggs/triHiggs-4pT40_4b-mix-class/version_0 ../3h6b_collider_study/Sample/SPANet/triHiggs-4pT40_4b-mix-train-4b_SPANet_pairing.h5 -tf ../3h6b_collider_study/Sample/SPANet/triHiggs-4pT40_4b-mix-train.h5 --gpu\n",
      "python -m spanet.predict ./triHiggs/triHiggs-4pT40_4b-mix-class/version_0 ../3h6b_collider_study/Sample/SPANet/triHiggs-4pT40_4b-mix-test-4b_SPANet_pairing.h5 -tf ../3h6b_collider_study/Sample/SPANet/triHiggs-4pT40_4b-mix-test.h5 --gpu\n",
      "python -m spanet.predict ./triHiggs/triHiggs-4pT40_4b-mix-class/version_0 ../3h6b_collider_study/Sample/SPANet/triHiggs-4pT40_4b-mix-test-4b_SPANet_predict.h5 -tf ../3h6b_collider_study/Sample/SPANet/triHiggs-4pT40_4b-mix-test.h5 --gpu\n",
      "python -m spanet.predict ./triHiggs/triHiggs-4pT40_4b-mix-class/version_0 ../3h6b_collider_study/Sample/SPANet/triHiggs-4pT40_6b-mix-4b_SPANet_predict.h5 -tf ../3h6b_collider_study/Sample/SPANet/triHiggs-4pT40_6b-mix.h5 --gpu\n",
      "python -m spanet.predict ./triHiggs/triHiggs-4pT40_4b-mix-class/version_0 ../3h6b_collider_study/Sample/SPANet/triHiggs-4pT40_6b-mix-4b_SPANet_pairing.h5 -tf ../3h6b_collider_study/Sample/SPANet/triHiggs-4pT40_6b-mix.h5 --gpu\n"
     ]
    }
   ],
   "source": [
    "log_dir = './triHiggs/triHiggs-4pT40_4b-mix-class/version_0'\n",
    "\n",
    "test_file = '../3h6b_collider_study/Sample/SPANet/triHiggs-4pT40_4b-mix-train.h5'\n",
    "output_file = '../3h6b_collider_study/Sample/SPANet/triHiggs-4pT40_4b-mix-train-4b_SPANet_pairing.h5'\n",
    "cmd = f'python -m spanet.predict {log_dir} {output_file} -tf {test_file} --gpu'\n",
    "print(cmd)\n",
    "\n",
    "\n",
    "test_file = '../3h6b_collider_study/Sample/SPANet/triHiggs-4pT40_4b-mix-test.h5'\n",
    "output_file = '../3h6b_collider_study/Sample/SPANet/triHiggs-4pT40_4b-mix-test-4b_SPANet_pairing.h5' # only use the pairing results, the classification output would be replaced\n",
    "cmd = f'python -m spanet.predict {log_dir} {output_file} -tf {test_file} --gpu'\n",
    "print(cmd)\n",
    "\n",
    "output_file = '../3h6b_collider_study/Sample/SPANet/triHiggs-4pT40_4b-mix-test-4b_SPANet_predict.h5' # check the classification results\n",
    "cmd = f'python -m spanet.predict {log_dir} {output_file} -tf {test_file} --gpu'\n",
    "print(cmd)\n",
    "\n",
    "\n",
    "test_file = '../3h6b_collider_study/Sample/SPANet/triHiggs-4pT40_6b-mix.h5'\n",
    "output_file = '../3h6b_collider_study/Sample/SPANet/triHiggs-4pT40_6b-mix-4b_SPANet_predict.h5'\n",
    "cmd = f'python -m spanet.predict {log_dir} {output_file} -tf {test_file} --gpu'\n",
    "print(cmd)\n",
    "\n",
    "output_file = '../3h6b_collider_study/Sample/SPANet/triHiggs-4pT40_6b-mix-4b_SPANet_pairing.h5'\n",
    "cmd = f'python -m spanet.predict {log_dir} {output_file} -tf {test_file} --gpu'\n",
    "print(cmd)"
   ]
  },
  {
   "cell_type": "code",
   "execution_count": 1,
   "metadata": {},
   "outputs": [
    {
     "name": "stdout",
     "output_type": "stream",
     "text": [
      "python -m spanet.predict ./triHiggs/triHiggs-4pT40_4b-mix-class/version_0 ../3h6b_collider_study/Sample/SPANet/sig/gghhh_bsm_420_280/gghhh-4pT40_4b-test-4b_SPANet_predict.h5 -tf ../3h6b_collider_study/Sample/SPANet/sig/gghhh_bsm_420_280/gghhh-4pT40_4b-test.h5 --gpu\n",
      "python -m spanet.predict ./triHiggs/triHiggs-4pT40_4b-mix-class/version_0 ../3h6b_collider_study/Sample/SPANet/sig/gghhh_bsm_420_280/gghhh-4pT40_6b-1-4b_SPANet_predict.h5 -tf ../3h6b_collider_study/Sample/SPANet/sig/gghhh_bsm_420_280/gghhh-4pT40_6b-1.h5 --gpu\n",
      "python -m spanet.predict ./triHiggs/triHiggs-4pT40_4b-mix-class/version_0 ../3h6b_collider_study/Sample/SPANet/sig/gghhh_bsm_500_275/gghhh-4pT40_4b-test-4b_SPANet_predict.h5 -tf ../3h6b_collider_study/Sample/SPANet/sig/gghhh_bsm_500_275/gghhh-4pT40_4b-test.h5 --gpu\n",
      "python -m spanet.predict ./triHiggs/triHiggs-4pT40_4b-mix-class/version_0 ../3h6b_collider_study/Sample/SPANet/sig/gghhh_bsm_500_275/gghhh-4pT40_6b-1-4b_SPANet_predict.h5 -tf ../3h6b_collider_study/Sample/SPANet/sig/gghhh_bsm_500_275/gghhh-4pT40_6b-1.h5 --gpu\n",
      "python -m spanet.predict ./triHiggs/triHiggs-4pT40_4b-mix-class/version_0 ../3h6b_collider_study/Sample/SPANet/sig/gghhh_bsm_500_300/gghhh-4pT40_4b-test-4b_SPANet_predict.h5 -tf ../3h6b_collider_study/Sample/SPANet/sig/gghhh_bsm_500_300/gghhh-4pT40_4b-test.h5 --gpu\n",
      "python -m spanet.predict ./triHiggs/triHiggs-4pT40_4b-mix-class/version_0 ../3h6b_collider_study/Sample/SPANet/sig/gghhh_bsm_500_300/gghhh-4pT40_6b-1-4b_SPANet_predict.h5 -tf ../3h6b_collider_study/Sample/SPANet/sig/gghhh_bsm_500_300/gghhh-4pT40_6b-1.h5 --gpu\n",
      "python -m spanet.predict ./triHiggs/triHiggs-4pT40_4b-mix-class/version_0 ../3h6b_collider_study/Sample/SPANet/sig/gghhh_bsm_520_325/gghhh-4pT40_4b-test-4b_SPANet_predict.h5 -tf ../3h6b_collider_study/Sample/SPANet/sig/gghhh_bsm_520_325/gghhh-4pT40_4b-test.h5 --gpu\n",
      "python -m spanet.predict ./triHiggs/triHiggs-4pT40_4b-mix-class/version_0 ../3h6b_collider_study/Sample/SPANet/sig/gghhh_bsm_520_325/gghhh-4pT40_6b-1-4b_SPANet_predict.h5 -tf ../3h6b_collider_study/Sample/SPANet/sig/gghhh_bsm_520_325/gghhh-4pT40_6b-1.h5 --gpu\n",
      "python -m spanet.predict ./triHiggs/triHiggs-4pT40_4b-mix-class/version_0 ../3h6b_collider_study/Sample/SPANet/sig/gghhh_bsm_420_280/gghhh-4pT40_4b-test-4b_SPANet_pairing.h5 -tf ../3h6b_collider_study/Sample/SPANet/sig/gghhh_bsm_420_280/gghhh-4pT40_4b-test.h5 --gpu\n",
      "python -m spanet.predict ./triHiggs/triHiggs-4pT40_4b-mix-class/version_0 ../3h6b_collider_study/Sample/SPANet/sig/gghhh_bsm_420_280/gghhh-4pT40_6b-1-4b_SPANet_pairing.h5 -tf ../3h6b_collider_study/Sample/SPANet/sig/gghhh_bsm_420_280/gghhh-4pT40_6b-1.h5 --gpu\n",
      "python -m spanet.predict ./triHiggs/triHiggs-4pT40_4b-mix-class/version_0 ../3h6b_collider_study/Sample/SPANet/sig/gghhh_bsm_500_275/gghhh-4pT40_4b-test-4b_SPANet_pairing.h5 -tf ../3h6b_collider_study/Sample/SPANet/sig/gghhh_bsm_500_275/gghhh-4pT40_4b-test.h5 --gpu\n",
      "python -m spanet.predict ./triHiggs/triHiggs-4pT40_4b-mix-class/version_0 ../3h6b_collider_study/Sample/SPANet/sig/gghhh_bsm_500_275/gghhh-4pT40_6b-1-4b_SPANet_pairing.h5 -tf ../3h6b_collider_study/Sample/SPANet/sig/gghhh_bsm_500_275/gghhh-4pT40_6b-1.h5 --gpu\n",
      "python -m spanet.predict ./triHiggs/triHiggs-4pT40_4b-mix-class/version_0 ../3h6b_collider_study/Sample/SPANet/sig/gghhh_bsm_500_300/gghhh-4pT40_4b-test-4b_SPANet_pairing.h5 -tf ../3h6b_collider_study/Sample/SPANet/sig/gghhh_bsm_500_300/gghhh-4pT40_4b-test.h5 --gpu\n",
      "python -m spanet.predict ./triHiggs/triHiggs-4pT40_4b-mix-class/version_0 ../3h6b_collider_study/Sample/SPANet/sig/gghhh_bsm_500_300/gghhh-4pT40_6b-1-4b_SPANet_pairing.h5 -tf ../3h6b_collider_study/Sample/SPANet/sig/gghhh_bsm_500_300/gghhh-4pT40_6b-1.h5 --gpu\n",
      "python -m spanet.predict ./triHiggs/triHiggs-4pT40_4b-mix-class/version_0 ../3h6b_collider_study/Sample/SPANet/sig/gghhh_bsm_520_325/gghhh-4pT40_4b-test-4b_SPANet_pairing.h5 -tf ../3h6b_collider_study/Sample/SPANet/sig/gghhh_bsm_520_325/gghhh-4pT40_4b-test.h5 --gpu\n",
      "python -m spanet.predict ./triHiggs/triHiggs-4pT40_4b-mix-class/version_0 ../3h6b_collider_study/Sample/SPANet/sig/gghhh_bsm_520_325/gghhh-4pT40_6b-1-4b_SPANet_pairing.h5 -tf ../3h6b_collider_study/Sample/SPANet/sig/gghhh_bsm_520_325/gghhh-4pT40_6b-1.h5 --gpu\n",
      "python -m spanet.predict ./triHiggs/triHiggs-4pT40_4b-mix-class/version_0 ../3h6b_collider_study/Sample/SPANet/bkg/pp6b-4pT40_4b-test-4b_SPANet_predict.h5 -tf ../3h6b_collider_study/Sample/SPANet/bkg/pp6b-4pT40_4b-test.h5 --gpu\n",
      "python -m spanet.predict ./triHiggs/triHiggs-4pT40_4b-mix-class/version_0 ../3h6b_collider_study/Sample/SPANet/bkg/pp6b-4pT40_6b-1-4b_SPANet_predict.h5 -tf ../3h6b_collider_study/Sample/SPANet/bkg/pp6b-4pT40_6b-1.h5 --gpu\n",
      "python -m spanet.predict ./triHiggs/triHiggs-4pT40_4b-mix-class/version_0 ../3h6b_collider_study/Sample/SPANet/bkg/pp6b-4pT40_4b-test-4b_SPANet_pairing.h5 -tf ../3h6b_collider_study/Sample/SPANet/bkg/pp6b-4pT40_4b-test.h5 --gpu\n",
      "python -m spanet.predict ./triHiggs/triHiggs-4pT40_4b-mix-class/version_0 ../3h6b_collider_study/Sample/SPANet/bkg/pp6b-4pT40_6b-1-4b_SPANet_pairing.h5 -tf ../3h6b_collider_study/Sample/SPANet/bkg/pp6b-4pT40_6b-1.h5 --gpu\n"
     ]
    }
   ],
   "source": [
    "log_dir = './triHiggs/triHiggs-4pT40_4b-mix-class/version_0'\n",
    "\n",
    "for m3_m2 in ['420_280', '500_275', '500_300', '520_325']:\n",
    "    test_file = f'../3h6b_collider_study/Sample/SPANet/sig/gghhh_bsm_{m3_m2}/gghhh-4pT40_4b-test.h5'\n",
    "    output_file = f'../3h6b_collider_study/Sample/SPANet/sig/gghhh_bsm_{m3_m2}/gghhh-4pT40_4b-test-4b_SPANet_predict.h5'\n",
    "    cmd = f'python -m spanet.predict {log_dir} {output_file} -tf {test_file} --gpu'\n",
    "    print(cmd)\n",
    "\n",
    "    test_file = f'../3h6b_collider_study/Sample/SPANet/sig/gghhh_bsm_{m3_m2}/gghhh-4pT40_6b-1.h5'\n",
    "    output_file = f'../3h6b_collider_study/Sample/SPANet/sig/gghhh_bsm_{m3_m2}/gghhh-4pT40_6b-1-4b_SPANet_predict.h5'\n",
    "    cmd = f'python -m spanet.predict {log_dir} {output_file} -tf {test_file} --gpu'\n",
    "    print(cmd)\n",
    "\n",
    "for m3_m2 in ['420_280', '500_275', '500_300', '520_325']:\n",
    "    test_file = f'../3h6b_collider_study/Sample/SPANet/sig/gghhh_bsm_{m3_m2}/gghhh-4pT40_4b-test.h5'\n",
    "    output_file = f'../3h6b_collider_study/Sample/SPANet/sig/gghhh_bsm_{m3_m2}/gghhh-4pT40_4b-test-4b_SPANet_pairing.h5'\n",
    "    cmd = f'python -m spanet.predict {log_dir} {output_file} -tf {test_file} --gpu'\n",
    "    print(cmd)\n",
    "\n",
    "    test_file = f'../3h6b_collider_study/Sample/SPANet/sig/gghhh_bsm_{m3_m2}/gghhh-4pT40_6b-1.h5'\n",
    "    output_file = f'../3h6b_collider_study/Sample/SPANet/sig/gghhh_bsm_{m3_m2}/gghhh-4pT40_6b-1-4b_SPANet_pairing.h5'\n",
    "    cmd = f'python -m spanet.predict {log_dir} {output_file} -tf {test_file} --gpu'\n",
    "    print(cmd)\n",
    "\n",
    "log_dir = './triHiggs/triHiggs-4pT40_4b-mix-class/version_0'\n",
    "\n",
    "test_file = f'../3h6b_collider_study/Sample/SPANet/bkg/pp6b-4pT40_4b-test.h5'\n",
    "output_file = f'../3h6b_collider_study/Sample/SPANet/bkg/pp6b-4pT40_4b-test-4b_SPANet_predict.h5'\n",
    "cmd = f'python -m spanet.predict {log_dir} {output_file} -tf {test_file} --gpu'\n",
    "print(cmd)\n",
    "\n",
    "test_file = f'../3h6b_collider_study/Sample/SPANet/bkg/pp6b-4pT40_6b-1.h5'\n",
    "output_file = f'../3h6b_collider_study/Sample/SPANet/bkg/pp6b-4pT40_6b-1-4b_SPANet_predict.h5'\n",
    "cmd = f'python -m spanet.predict {log_dir} {output_file} -tf {test_file} --gpu'\n",
    "print(cmd)\n",
    "\n",
    "test_file = f'../3h6b_collider_study/Sample/SPANet/bkg/pp6b-4pT40_4b-test.h5'\n",
    "output_file = f'../3h6b_collider_study/Sample/SPANet/bkg/pp6b-4pT40_4b-test-4b_SPANet_pairing.h5'\n",
    "cmd = f'python -m spanet.predict {log_dir} {output_file} -tf {test_file} --gpu'\n",
    "print(cmd)\n",
    "\n",
    "test_file = f'../3h6b_collider_study/Sample/SPANet/bkg/pp6b-4pT40_6b-1.h5'\n",
    "output_file = f'../3h6b_collider_study/Sample/SPANet/bkg/pp6b-4pT40_6b-1-4b_SPANet_pairing.h5'\n",
    "cmd = f'python -m spanet.predict {log_dir} {output_file} -tf {test_file} --gpu'\n",
    "print(cmd)"
   ]
  }
 ],
 "metadata": {
  "kernelspec": {
   "display_name": "jupyter",
   "language": "python",
   "name": "python3"
  },
  "language_info": {
   "codemirror_mode": {
    "name": "ipython",
    "version": 3
   },
   "file_extension": ".py",
   "mimetype": "text/x-python",
   "name": "python",
   "nbconvert_exporter": "python",
   "pygments_lexer": "ipython3",
   "version": "3.8.16"
  }
 },
 "nbformat": 4,
 "nbformat_minor": 2
}
