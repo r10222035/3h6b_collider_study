{
 "cells": [
  {
   "cell_type": "code",
   "execution_count": 1,
   "metadata": {},
   "outputs": [],
   "source": [
    "from pathlib import Path"
   ]
  },
  {
   "cell_type": "markdown",
   "metadata": {},
   "source": [
    "# Train"
   ]
  },
  {
   "cell_type": "code",
   "execution_count": 2,
   "metadata": {},
   "outputs": [
    {
     "name": "stdout",
     "output_type": "stream",
     "text": [
      "python -m spanet.train -of options_files/triHiggs/triHiggs-4pT40_4b-mix_10-class.json --log_dir triHiggs  --name triHiggs-4pT40_4b-mix_10-class\n"
     ]
    }
   ],
   "source": [
    "option_file = 'options_files/triHiggs/triHiggs-4pT40_4b-mix_10-class.json'\n",
    "log_dir = 'triHiggs'\n",
    "sub_log_dir = 'triHiggs-4pT40_4b-mix_10-class'\n",
    "\n",
    "cmd = f'python -m spanet.train -of {option_file} --log_dir {log_dir}  --name {sub_log_dir}'\n",
    "print(cmd)"
   ]
  },
  {
   "cell_type": "code",
   "execution_count": 3,
   "metadata": {},
   "outputs": [
    {
     "name": "stdout",
     "output_type": "stream",
     "text": [
      "python -m spanet.train -of options_files/triHiggs/triHiggs_TRSM-4pT40_4b-mix_5-class.json --log_dir triHiggs  --name triHiggs_TRSM-4pT40_4b-mix_5-class\n"
     ]
    }
   ],
   "source": [
    "option_file = 'options_files/triHiggs/triHiggs_TRSM-4pT40_4b-mix_5-class.json'\n",
    "log_dir = 'triHiggs'\n",
    "sub_log_dir = 'triHiggs_TRSM-4pT40_4b-mix_5-class'\n",
    "\n",
    "cmd = f'python -m spanet.train -of {option_file} --log_dir {log_dir}  --name {sub_log_dir}'\n",
    "print(cmd)"
   ]
  },
  {
   "cell_type": "markdown",
   "metadata": {},
   "source": [
    "# Test"
   ]
  },
  {
   "cell_type": "code",
   "execution_count": 4,
   "metadata": {},
   "outputs": [
    {
     "name": "stdout",
     "output_type": "stream",
     "text": [
      "python -m spanet.test ./triHiggs/triHiggs_TRSM-4pT40_4b-mix_5-class/version_0 -tf ../3h6b_collider_study/Sample/SPANet/TRSM/triHiggs_TRSM-4pT40_4b-mix_5-test.h5 --gpu\n",
      "python -m spanet.test ./triHiggs/triHiggs_TRSM-4pT40_4b-mix_5-class/version_0 -tf ../3h6b_collider_study/Sample/SPANet/TRSM/triHiggs_TRSM-4pT40_6b-mix_5.h5 --gpu\n"
     ]
    }
   ],
   "source": [
    "log_dir = './triHiggs/triHiggs_TRSM-4pT40_4b-mix_5-class/version_0'\n",
    "sample_path = Path('../3h6b_collider_study/Sample/SPANet')\n",
    "sig_path = sample_path / 'TRSM'\n",
    "\n",
    "test_file = sig_path / 'triHiggs_TRSM-4pT40_4b-mix_5-test.h5'\n",
    "cmd = f'python -m spanet.test {log_dir} -tf {test_file} --gpu'\n",
    "print(cmd)\n",
    "\n",
    "test_file = sig_path / 'triHiggs_TRSM-4pT40_6b-mix_5.h5'\n",
    "cmd = f'python -m spanet.test {log_dir} -tf {test_file} --gpu'\n",
    "print(cmd)"
   ]
  },
  {
   "cell_type": "markdown",
   "metadata": {},
   "source": [
    "# Predict"
   ]
  },
  {
   "cell_type": "code",
   "execution_count": 5,
   "metadata": {},
   "outputs": [
    {
     "name": "stdout",
     "output_type": "stream",
     "text": [
      "python -m spanet.predict ./triHiggs/triHiggs_TRSM-4pT40_4b-mix_4-class/version_1 ../3h6b_collider_study/Sample/SPANet/TRSM/triHiggs_TRSM-4pT40_4b-mix_4-train-4b_SPANet_pairing.h5 -tf ../3h6b_collider_study/Sample/SPANet/TRSM/triHiggs_TRSM-4pT40_4b-mix_4-train.h5 --gpu\n",
      "python -m spanet.predict ./triHiggs/triHiggs_TRSM-4pT40_4b-mix_4-class/version_1 ../3h6b_collider_study/Sample/SPANet/TRSM/triHiggs_TRSM-4pT40_4b-mix_4-test-4b_SPANet_pairing.h5 -tf ../3h6b_collider_study/Sample/SPANet/TRSM/triHiggs_TRSM-4pT40_4b-mix_4-test.h5 --gpu\n",
      "python -m spanet.predict ./triHiggs/triHiggs_TRSM-4pT40_4b-mix_4-class/version_1 ../3h6b_collider_study/Sample/SPANet/TRSM/triHiggs_TRSM-4pT40_4b-mix_4-test-4b_SPANet_predict.h5 -tf ../3h6b_collider_study/Sample/SPANet/TRSM/triHiggs_TRSM-4pT40_4b-mix_4-test.h5 --gpu\n",
      "python -m spanet.predict ./triHiggs/triHiggs_TRSM-4pT40_4b-mix_4-class/version_1 ../3h6b_collider_study/Sample/SPANet/TRSM/triHiggs_TRSM-4pT40_6b-mix_4-4b_SPANet_pairing.h5 -tf ../3h6b_collider_study/Sample/SPANet/TRSM/triHiggs_TRSM-4pT40_6b-mix_4.h5 --gpu\n",
      "python -m spanet.predict ./triHiggs/triHiggs_TRSM-4pT40_4b-mix_4-class/version_1 ../3h6b_collider_study/Sample/SPANet/TRSM/triHiggs_TRSM-4pT40_6b-mix_4-4b_SPANet_predict.h5 -tf ../3h6b_collider_study/Sample/SPANet/TRSM/triHiggs_TRSM-4pT40_6b-mix_4.h5 --gpu\n",
      "python -m spanet.predict ./triHiggs/triHiggs_TRSM-4pT40_4b-mix_4-class/version_1 ../3h6b_collider_study/Sample/SPANet/TRSM/TRSM_420_280/gghhh-4pT40_4b-test-4b_SPANet_predict.h5 -tf ../3h6b_collider_study/Sample/SPANet/TRSM/TRSM_420_280/gghhh-4pT40_4b-test.h5 --gpu\n",
      "python -m spanet.predict ./triHiggs/triHiggs_TRSM-4pT40_4b-mix_4-class/version_1 ../3h6b_collider_study/Sample/SPANet/TRSM/TRSM_420_280/gghhh-4pT40_4b-test-4b_SPANet_pairing.h5 -tf ../3h6b_collider_study/Sample/SPANet/TRSM/TRSM_420_280/gghhh-4pT40_4b-test.h5 --gpu\n",
      "python -m spanet.predict ./triHiggs/triHiggs_TRSM-4pT40_4b-mix_4-class/version_1 ../3h6b_collider_study/Sample/SPANet/TRSM/TRSM_420_280/gghhh-4pT40_6b-1-4b_SPANet_predict.h5 -tf ../3h6b_collider_study/Sample/SPANet/TRSM/TRSM_420_280/gghhh-4pT40_6b-1.h5 --gpu\n",
      "python -m spanet.predict ./triHiggs/triHiggs_TRSM-4pT40_4b-mix_4-class/version_1 ../3h6b_collider_study/Sample/SPANet/TRSM/TRSM_420_280/gghhh-4pT40_6b-1-4b_SPANet_pairing.h5 -tf ../3h6b_collider_study/Sample/SPANet/TRSM/TRSM_420_280/gghhh-4pT40_6b-1.h5 --gpu\n",
      "python -m spanet.predict ./triHiggs/triHiggs_TRSM-4pT40_4b-mix_4-class/version_1 ../3h6b_collider_study/Sample/SPANet/TRSM/TRSM_500_275/gghhh-4pT40_4b-test-4b_SPANet_predict.h5 -tf ../3h6b_collider_study/Sample/SPANet/TRSM/TRSM_500_275/gghhh-4pT40_4b-test.h5 --gpu\n",
      "python -m spanet.predict ./triHiggs/triHiggs_TRSM-4pT40_4b-mix_4-class/version_1 ../3h6b_collider_study/Sample/SPANet/TRSM/TRSM_500_275/gghhh-4pT40_4b-test-4b_SPANet_pairing.h5 -tf ../3h6b_collider_study/Sample/SPANet/TRSM/TRSM_500_275/gghhh-4pT40_4b-test.h5 --gpu\n",
      "python -m spanet.predict ./triHiggs/triHiggs_TRSM-4pT40_4b-mix_4-class/version_1 ../3h6b_collider_study/Sample/SPANet/TRSM/TRSM_500_275/gghhh-4pT40_6b-1-4b_SPANet_predict.h5 -tf ../3h6b_collider_study/Sample/SPANet/TRSM/TRSM_500_275/gghhh-4pT40_6b-1.h5 --gpu\n",
      "python -m spanet.predict ./triHiggs/triHiggs_TRSM-4pT40_4b-mix_4-class/version_1 ../3h6b_collider_study/Sample/SPANet/TRSM/TRSM_500_275/gghhh-4pT40_6b-1-4b_SPANet_pairing.h5 -tf ../3h6b_collider_study/Sample/SPANet/TRSM/TRSM_500_275/gghhh-4pT40_6b-1.h5 --gpu\n",
      "python -m spanet.predict ./triHiggs/triHiggs_TRSM-4pT40_4b-mix_4-class/version_1 ../3h6b_collider_study/Sample/SPANet/TRSM/TRSM_500_300/gghhh-4pT40_4b-test-4b_SPANet_predict.h5 -tf ../3h6b_collider_study/Sample/SPANet/TRSM/TRSM_500_300/gghhh-4pT40_4b-test.h5 --gpu\n",
      "python -m spanet.predict ./triHiggs/triHiggs_TRSM-4pT40_4b-mix_4-class/version_1 ../3h6b_collider_study/Sample/SPANet/TRSM/TRSM_500_300/gghhh-4pT40_4b-test-4b_SPANet_pairing.h5 -tf ../3h6b_collider_study/Sample/SPANet/TRSM/TRSM_500_300/gghhh-4pT40_4b-test.h5 --gpu\n",
      "python -m spanet.predict ./triHiggs/triHiggs_TRSM-4pT40_4b-mix_4-class/version_1 ../3h6b_collider_study/Sample/SPANet/TRSM/TRSM_500_300/gghhh-4pT40_6b-1-4b_SPANet_predict.h5 -tf ../3h6b_collider_study/Sample/SPANet/TRSM/TRSM_500_300/gghhh-4pT40_6b-1.h5 --gpu\n",
      "python -m spanet.predict ./triHiggs/triHiggs_TRSM-4pT40_4b-mix_4-class/version_1 ../3h6b_collider_study/Sample/SPANet/TRSM/TRSM_500_300/gghhh-4pT40_6b-1-4b_SPANet_pairing.h5 -tf ../3h6b_collider_study/Sample/SPANet/TRSM/TRSM_500_300/gghhh-4pT40_6b-1.h5 --gpu\n",
      "python -m spanet.predict ./triHiggs/triHiggs_TRSM-4pT40_4b-mix_4-class/version_1 ../3h6b_collider_study/Sample/SPANet/TRSM/TRSM_520_325/gghhh-4pT40_4b-test-4b_SPANet_predict.h5 -tf ../3h6b_collider_study/Sample/SPANet/TRSM/TRSM_520_325/gghhh-4pT40_4b-test.h5 --gpu\n",
      "python -m spanet.predict ./triHiggs/triHiggs_TRSM-4pT40_4b-mix_4-class/version_1 ../3h6b_collider_study/Sample/SPANet/TRSM/TRSM_520_325/gghhh-4pT40_4b-test-4b_SPANet_pairing.h5 -tf ../3h6b_collider_study/Sample/SPANet/TRSM/TRSM_520_325/gghhh-4pT40_4b-test.h5 --gpu\n",
      "python -m spanet.predict ./triHiggs/triHiggs_TRSM-4pT40_4b-mix_4-class/version_1 ../3h6b_collider_study/Sample/SPANet/TRSM/TRSM_520_325/gghhh-4pT40_6b-1-4b_SPANet_predict.h5 -tf ../3h6b_collider_study/Sample/SPANet/TRSM/TRSM_520_325/gghhh-4pT40_6b-1.h5 --gpu\n",
      "python -m spanet.predict ./triHiggs/triHiggs_TRSM-4pT40_4b-mix_4-class/version_1 ../3h6b_collider_study/Sample/SPANet/TRSM/TRSM_520_325/gghhh-4pT40_6b-1-4b_SPANet_pairing.h5 -tf ../3h6b_collider_study/Sample/SPANet/TRSM/TRSM_520_325/gghhh-4pT40_6b-1.h5 --gpu\n",
      "python -m spanet.predict ./triHiggs/triHiggs_TRSM-4pT40_4b-mix_4-class/version_1 ../3h6b_collider_study/Sample/SPANet/TRSM/pp6b-4pT40_4b-test-4b_SPANet_predict.h5 -tf ../3h6b_collider_study/Sample/SPANet/bkg/pp6b-4pT40_4b-test.h5 --gpu\n",
      "python -m spanet.predict ./triHiggs/triHiggs_TRSM-4pT40_4b-mix_4-class/version_1 ../3h6b_collider_study/Sample/SPANet/TRSM/pp6b-4pT40_4b-test-4b_SPANet_pairing.h5 -tf ../3h6b_collider_study/Sample/SPANet/bkg/pp6b-4pT40_4b-test.h5 --gpu\n",
      "python -m spanet.predict ./triHiggs/triHiggs_TRSM-4pT40_4b-mix_4-class/version_1 ../3h6b_collider_study/Sample/SPANet/TRSM/pp6b-4pT40_6b-1-4b_SPANet_predict.h5 -tf ../3h6b_collider_study/Sample/SPANet/bkg/pp6b-4pT40_6b-1.h5 --gpu\n",
      "python -m spanet.predict ./triHiggs/triHiggs_TRSM-4pT40_4b-mix_4-class/version_1 ../3h6b_collider_study/Sample/SPANet/TRSM/pp6b-4pT40_6b-1-4b_SPANet_pairing.h5 -tf ../3h6b_collider_study/Sample/SPANet/bkg/pp6b-4pT40_6b-1.h5 --gpu\n"
     ]
    }
   ],
   "source": [
    "log_dir = './triHiggs/triHiggs_TRSM-4pT40_4b-mix_4-class/version_1'\n",
    "sample_path = Path('../3h6b_collider_study/Sample/SPANet')\n",
    "sig_path = sample_path / 'TRSM'\n",
    "\n",
    "# for DNN training\n",
    "test_file = sig_path / 'triHiggs_TRSM-4pT40_4b-mix_4-train.h5'\n",
    "output_file = sig_path / 'triHiggs_TRSM-4pT40_4b-mix_4-train-4b_SPANet_pairing.h5'\n",
    "cmd = f'python -m spanet.predict {log_dir} {output_file} -tf {test_file} --gpu'\n",
    "print(cmd)\n",
    "\n",
    "# evaluate the pairing and classification results on 4b test sample\n",
    "test_file = sig_path / 'triHiggs_TRSM-4pT40_4b-mix_4-test.h5'\n",
    "output_file = sig_path / 'triHiggs_TRSM-4pT40_4b-mix_4-test-4b_SPANet_pairing.h5' # only use the pairing results, the classification output would be replaced\n",
    "cmd = f'python -m spanet.predict {log_dir} {output_file} -tf {test_file} --gpu'\n",
    "print(cmd)\n",
    "output_file = sig_path / 'triHiggs_TRSM-4pT40_4b-mix_4-test-4b_SPANet_predict.h5' # check the classification results\n",
    "cmd = f'python -m spanet.predict {log_dir} {output_file} -tf {test_file} --gpu'\n",
    "print(cmd)\n",
    "\n",
    "# evaluate the pairing and classification results on 6b test sample\n",
    "test_file = sig_path / 'triHiggs_TRSM-4pT40_6b-mix_4.h5'\n",
    "output_file = sig_path / 'triHiggs_TRSM-4pT40_6b-mix_4-4b_SPANet_pairing.h5'\n",
    "cmd = f'python -m spanet.predict {log_dir} {output_file} -tf {test_file} --gpu'\n",
    "print(cmd)\n",
    "output_file = sig_path / 'triHiggs_TRSM-4pT40_6b-mix_4-4b_SPANet_predict.h5'\n",
    "cmd = f'python -m spanet.predict {log_dir} {output_file} -tf {test_file} --gpu'\n",
    "print(cmd)\n",
    "\n",
    "# evaluate the pairing and classification results on each mass point\n",
    "for m3_m2 in ['420_280', '500_275', '500_300', '520_325']:\n",
    "    \n",
    "    test_file = sig_path / f'TRSM_{m3_m2}/gghhh-4pT40_4b-test.h5'\n",
    "    output_file = sig_path / f'TRSM_{m3_m2}/gghhh-4pT40_4b-test-4b_SPANet_predict.h5'\n",
    "    cmd = f'python -m spanet.predict {log_dir} {output_file} -tf {test_file} --gpu'\n",
    "    print(cmd)\n",
    "\n",
    "    output_file = sig_path / f'TRSM_{m3_m2}/gghhh-4pT40_4b-test-4b_SPANet_pairing.h5'\n",
    "    cmd = f'python -m spanet.predict {log_dir} {output_file} -tf {test_file} --gpu'\n",
    "    print(cmd)\n",
    "\n",
    "    test_file = sig_path / f'TRSM_{m3_m2}/gghhh-4pT40_6b-1.h5'\n",
    "    output_file = sig_path / f'TRSM_{m3_m2}/gghhh-4pT40_6b-1-4b_SPANet_predict.h5'\n",
    "    cmd = f'python -m spanet.predict {log_dir} {output_file} -tf {test_file} --gpu'\n",
    "    print(cmd)\n",
    "\n",
    "    output_file = sig_path / f'TRSM_{m3_m2}/gghhh-4pT40_6b-1-4b_SPANet_pairing.h5'\n",
    "    cmd = f'python -m spanet.predict {log_dir} {output_file} -tf {test_file} --gpu'\n",
    "    print(cmd)\n",
    "\n",
    "test_file = sample_path / 'bkg/pp6b-4pT40_4b-test.h5'\n",
    "output_file = sig_path / 'pp6b-4pT40_4b-test-4b_SPANet_predict.h5'\n",
    "cmd = f'python -m spanet.predict {log_dir} {output_file} -tf {test_file} --gpu'\n",
    "print(cmd)\n",
    "\n",
    "output_file = sig_path / 'pp6b-4pT40_4b-test-4b_SPANet_pairing.h5'\n",
    "cmd = f'python -m spanet.predict {log_dir} {output_file} -tf {test_file} --gpu'\n",
    "print(cmd)\n",
    "\n",
    "test_file = sample_path / 'bkg/pp6b-4pT40_6b-1.h5'\n",
    "output_file = sig_path / 'pp6b-4pT40_6b-1-4b_SPANet_predict.h5'\n",
    "cmd = f'python -m spanet.predict {log_dir} {output_file} -tf {test_file} --gpu'\n",
    "print(cmd)\n",
    "\n",
    "output_file = sig_path / 'pp6b-4pT40_6b-1-4b_SPANet_pairing.h5'\n",
    "cmd = f'python -m spanet.predict {log_dir} {output_file} -tf {test_file} --gpu'\n",
    "print(cmd)"
   ]
  },
  {
   "cell_type": "code",
   "execution_count": 6,
   "metadata": {},
   "outputs": [
    {
     "name": "stdout",
     "output_type": "stream",
     "text": [
      "python -m spanet.predict ./triHiggs/triHiggs_TRSM-4pT40_4b-mix_5-class/version_3 ../3h6b_collider_study/Sample/SPANet/TRSM/TRSM_420_280/gghhh-4pT40_4b-test-4b_SPANet_pairing-mix_5-1M.h5 -tf ../3h6b_collider_study/Sample/SPANet/TRSM/TRSM_420_280/gghhh-4pT40_4b-test.h5 --gpu\n",
      "cp ../3h6b_collider_study/Sample/SPANet/TRSM/TRSM_420_280/gghhh-4pT40_4b-test-4b_SPANet_pairing-mix_5-1M.h5 ../3h6b_collider_study/Sample/SPANet/TRSM/TRSM_420_280/gghhh-4pT40_4b-test-4b_SPANet_predict-mix_5-1M.h5\n",
      "python -m spanet.predict ./triHiggs/triHiggs_TRSM-4pT40_4b-mix_5-class/version_3 ../3h6b_collider_study/Sample/SPANet/TRSM/TRSM_500_275/gghhh-4pT40_4b-test-4b_SPANet_pairing-mix_5-1M.h5 -tf ../3h6b_collider_study/Sample/SPANet/TRSM/TRSM_500_275/gghhh-4pT40_4b-test.h5 --gpu\n",
      "cp ../3h6b_collider_study/Sample/SPANet/TRSM/TRSM_500_275/gghhh-4pT40_4b-test-4b_SPANet_pairing-mix_5-1M.h5 ../3h6b_collider_study/Sample/SPANet/TRSM/TRSM_500_275/gghhh-4pT40_4b-test-4b_SPANet_predict-mix_5-1M.h5\n",
      "python -m spanet.predict ./triHiggs/triHiggs_TRSM-4pT40_4b-mix_5-class/version_3 ../3h6b_collider_study/Sample/SPANet/TRSM/TRSM_500_300/gghhh-4pT40_4b-test-4b_SPANet_pairing-mix_5-1M.h5 -tf ../3h6b_collider_study/Sample/SPANet/TRSM/TRSM_500_300/gghhh-4pT40_4b-test.h5 --gpu\n",
      "cp ../3h6b_collider_study/Sample/SPANet/TRSM/TRSM_500_300/gghhh-4pT40_4b-test-4b_SPANet_pairing-mix_5-1M.h5 ../3h6b_collider_study/Sample/SPANet/TRSM/TRSM_500_300/gghhh-4pT40_4b-test-4b_SPANet_predict-mix_5-1M.h5\n",
      "python -m spanet.predict ./triHiggs/triHiggs_TRSM-4pT40_4b-mix_5-class/version_3 ../3h6b_collider_study/Sample/SPANet/TRSM/TRSM_520_325/gghhh-4pT40_4b-test-4b_SPANet_pairing-mix_5-1M.h5 -tf ../3h6b_collider_study/Sample/SPANet/TRSM/TRSM_520_325/gghhh-4pT40_4b-test.h5 --gpu\n",
      "cp ../3h6b_collider_study/Sample/SPANet/TRSM/TRSM_520_325/gghhh-4pT40_4b-test-4b_SPANet_pairing-mix_5-1M.h5 ../3h6b_collider_study/Sample/SPANet/TRSM/TRSM_520_325/gghhh-4pT40_4b-test-4b_SPANet_predict-mix_5-1M.h5\n",
      "python -m spanet.predict ./triHiggs/triHiggs_TRSM-4pT40_4b-mix_5-class/version_3 ../3h6b_collider_study/Sample/SPANet/TRSM/TRSM_500_350/gghhh-4pT40_4b-test-4b_SPANet_pairing-mix_5-1M.h5 -tf ../3h6b_collider_study/Sample/SPANet/TRSM/TRSM_500_350/gghhh-4pT40_4b-test.h5 --gpu\n",
      "cp ../3h6b_collider_study/Sample/SPANet/TRSM/TRSM_500_350/gghhh-4pT40_4b-test-4b_SPANet_pairing-mix_5-1M.h5 ../3h6b_collider_study/Sample/SPANet/TRSM/TRSM_500_350/gghhh-4pT40_4b-test-4b_SPANet_predict-mix_5-1M.h5\n",
      "python -m spanet.predict ./triHiggs/triHiggs_TRSM-4pT40_4b-mix_5-class/version_3 ../3h6b_collider_study/Sample/SPANet/TRSM/gghhh-4pT40_4b-mix_5-test-4b_SPANet_pairing-mix_5-1M.h5 -tf ../3h6b_collider_study/Sample/SPANet/TRSM/gghhh-4pT40_4b-mix_5-test.h5 --gpu\n",
      "python -m spanet.predict ./triHiggs/triHiggs_TRSM-4pT40_4b-mix_5-class/version_3 ../3h6b_collider_study/Sample/SPANet/TRSM/pp6b-4pT40_4b-test-4b_SPANet_pairing-mix_5-1M.h5 -tf ../3h6b_collider_study/Sample/SPANet/bkg/pp6b-4pT40_4b-test.h5 --gpu\n",
      "cp ../3h6b_collider_study/Sample/SPANet/TRSM/pp6b-4pT40_4b-test-4b_SPANet_pairing-mix_5-1M.h5 ../3h6b_collider_study/Sample/SPANet/TRSM/pp6b-4pT40_4b-test-4b_SPANet_predict-mix_5-1M.h5\n",
      "python -m spanet.predict ./triHiggs/triHiggs_TRSM-4pT40_4b-mix_5-class/version_3 ../3h6b_collider_study/Sample/SPANet/TRSM/triHiggs_TRSM-4pT40_4b-mix_5-test-4b_SPANet_pairing-mix_5-1M.h5 -tf ../3h6b_collider_study/Sample/SPANet/TRSM/triHiggs_TRSM-4pT40_4b-mix_5-test.h5 --gpu\n",
      "cp ../3h6b_collider_study/Sample/SPANet/TRSM/triHiggs_TRSM-4pT40_4b-mix_5-test-4b_SPANet_pairing-mix_5-1M.h5 ../3h6b_collider_study/Sample/SPANet/TRSM/triHiggs_TRSM-4pT40_4b-mix_5-test-4b_SPANet_predict-mix_5-1M.h5\n",
      "python -m spanet.predict ./triHiggs/triHiggs_TRSM-4pT40_4b-mix_5-class/version_3 ../3h6b_collider_study/Sample/SPANet/TRSM/TRSM_420_280/gghhh-4pT40_6b-test-4b_SPANet_pairing-mix_5-1M.h5 -tf ../3h6b_collider_study/Sample/SPANet/TRSM/TRSM_420_280/gghhh-4pT40_6b-test.h5 --gpu\n",
      "cp ../3h6b_collider_study/Sample/SPANet/TRSM/TRSM_420_280/gghhh-4pT40_6b-test-4b_SPANet_pairing-mix_5-1M.h5 ../3h6b_collider_study/Sample/SPANet/TRSM/TRSM_420_280/gghhh-4pT40_6b-test-4b_SPANet_predict-mix_5-1M.h5\n",
      "python -m spanet.predict ./triHiggs/triHiggs_TRSM-4pT40_4b-mix_5-class/version_3 ../3h6b_collider_study/Sample/SPANet/TRSM/TRSM_500_275/gghhh-4pT40_6b-test-4b_SPANet_pairing-mix_5-1M.h5 -tf ../3h6b_collider_study/Sample/SPANet/TRSM/TRSM_500_275/gghhh-4pT40_6b-test.h5 --gpu\n",
      "cp ../3h6b_collider_study/Sample/SPANet/TRSM/TRSM_500_275/gghhh-4pT40_6b-test-4b_SPANet_pairing-mix_5-1M.h5 ../3h6b_collider_study/Sample/SPANet/TRSM/TRSM_500_275/gghhh-4pT40_6b-test-4b_SPANet_predict-mix_5-1M.h5\n",
      "python -m spanet.predict ./triHiggs/triHiggs_TRSM-4pT40_4b-mix_5-class/version_3 ../3h6b_collider_study/Sample/SPANet/TRSM/TRSM_500_300/gghhh-4pT40_6b-test-4b_SPANet_pairing-mix_5-1M.h5 -tf ../3h6b_collider_study/Sample/SPANet/TRSM/TRSM_500_300/gghhh-4pT40_6b-test.h5 --gpu\n",
      "cp ../3h6b_collider_study/Sample/SPANet/TRSM/TRSM_500_300/gghhh-4pT40_6b-test-4b_SPANet_pairing-mix_5-1M.h5 ../3h6b_collider_study/Sample/SPANet/TRSM/TRSM_500_300/gghhh-4pT40_6b-test-4b_SPANet_predict-mix_5-1M.h5\n",
      "python -m spanet.predict ./triHiggs/triHiggs_TRSM-4pT40_4b-mix_5-class/version_3 ../3h6b_collider_study/Sample/SPANet/TRSM/TRSM_520_325/gghhh-4pT40_6b-test-4b_SPANet_pairing-mix_5-1M.h5 -tf ../3h6b_collider_study/Sample/SPANet/TRSM/TRSM_520_325/gghhh-4pT40_6b-test.h5 --gpu\n",
      "cp ../3h6b_collider_study/Sample/SPANet/TRSM/TRSM_520_325/gghhh-4pT40_6b-test-4b_SPANet_pairing-mix_5-1M.h5 ../3h6b_collider_study/Sample/SPANet/TRSM/TRSM_520_325/gghhh-4pT40_6b-test-4b_SPANet_predict-mix_5-1M.h5\n",
      "python -m spanet.predict ./triHiggs/triHiggs_TRSM-4pT40_4b-mix_5-class/version_3 ../3h6b_collider_study/Sample/SPANet/TRSM/TRSM_500_350/gghhh-4pT40_6b-test-4b_SPANet_pairing-mix_5-1M.h5 -tf ../3h6b_collider_study/Sample/SPANet/TRSM/TRSM_500_350/gghhh-4pT40_6b-test.h5 --gpu\n",
      "cp ../3h6b_collider_study/Sample/SPANet/TRSM/TRSM_500_350/gghhh-4pT40_6b-test-4b_SPANet_pairing-mix_5-1M.h5 ../3h6b_collider_study/Sample/SPANet/TRSM/TRSM_500_350/gghhh-4pT40_6b-test-4b_SPANet_predict-mix_5-1M.h5\n",
      "python -m spanet.predict ./triHiggs/triHiggs_TRSM-4pT40_4b-mix_5-class/version_3 ../3h6b_collider_study/Sample/SPANet/TRSM/gghhh-4pT40_6b-mix_5-test-4b_SPANet_pairing-mix_5-1M.h5 -tf ../3h6b_collider_study/Sample/SPANet/TRSM/gghhh-4pT40_6b-mix_5-test.h5 --gpu\n",
      "python -m spanet.predict ./triHiggs/triHiggs_TRSM-4pT40_4b-mix_5-class/version_3 ../3h6b_collider_study/Sample/SPANet/TRSM/pp6b-4pT40_6b-test-4b_SPANet_pairing-mix_5-1M.h5 -tf ../3h6b_collider_study/Sample/SPANet/bkg/pp6b-4pT40_6b-test.h5 --gpu\n",
      "cp ../3h6b_collider_study/Sample/SPANet/TRSM/pp6b-4pT40_6b-test-4b_SPANet_pairing-mix_5-1M.h5 ../3h6b_collider_study/Sample/SPANet/TRSM/pp6b-4pT40_6b-test-4b_SPANet_predict-mix_5-1M.h5\n",
      "python -m spanet.predict ./triHiggs/triHiggs_TRSM-4pT40_4b-mix_5-class/version_3 ../3h6b_collider_study/Sample/SPANet/TRSM/triHiggs_TRSM-4pT40_6b-mix_5-test-4b_SPANet_pairing-mix_5-1M.h5 -tf ../3h6b_collider_study/Sample/SPANet/TRSM/triHiggs_TRSM-4pT40_6b-mix_5-test.h5 --gpu\n",
      "cp ../3h6b_collider_study/Sample/SPANet/TRSM/triHiggs_TRSM-4pT40_6b-mix_5-test-4b_SPANet_pairing-mix_5-1M.h5 ../3h6b_collider_study/Sample/SPANet/TRSM/triHiggs_TRSM-4pT40_6b-mix_5-test-4b_SPANet_predict-mix_5-1M.h5\n",
      "python -m spanet.predict ./triHiggs/triHiggs_TRSM-4pT40_4b-mix_5-class/version_3 ../3h6b_collider_study/Sample/SPANet/TRSM/triHiggs_TRSM-4pT40_4b-mix_5-train-4b_SPANet_pairing-mix_5-1M.h5 -tf ../3h6b_collider_study/Sample/SPANet/TRSM/triHiggs_TRSM-4pT40_4b-mix_5-train.h5 --gpu\n"
     ]
    }
   ],
   "source": [
    "# for evaluating the performance of the pairing method\n",
    "# (4b test, 6b test) x (each signal point, combine all signal points)\n",
    "\n",
    "# for Dense-NN training and testing\n",
    "# (4b train)\n",
    "# (4b test, 6b test) x (each signal point, background, combine all signal and backgroud)\n",
    "\n",
    "m3_m2_list = [(420, 280), (500, 275), (500, 300), (520, 325), (500, 350)]\n",
    "\n",
    "log_dir = './triHiggs/triHiggs_TRSM-4pT40_4b-mix_5-class/version_3'\n",
    "sample_path = Path('../3h6b_collider_study/Sample/SPANet')\n",
    "sig_path = sample_path / 'TRSM'\n",
    "\n",
    "pairing_method = '4b_SPANet_pairing-mix_5-1M' # only use the pairing results, the classification output would be replaced\n",
    "predict_method = '4b_SPANet_predict-mix_5-1M'\n",
    "\n",
    "for n in [4, 6]:\n",
    "    # each signal point\n",
    "    for m3, m2 in m3_m2_list:\n",
    "        test_file = sig_path / f'TRSM_{m3}_{m2}/gghhh-4pT40_{n}b-test.h5'\n",
    "        output_file = sig_path / f'TRSM_{m3}_{m2}/gghhh-4pT40_{n}b-test-{pairing_method}.h5'\n",
    "        cmd = f'python -m spanet.predict {log_dir} {output_file} -tf {test_file} --gpu'\n",
    "        print(cmd)\n",
    "        output_file2 = sig_path / f'TRSM_{m3}_{m2}/gghhh-4pT40_{n}b-test-{predict_method}.h5'\n",
    "        print(f'cp {output_file} {output_file2}')\n",
    "\n",
    "    # all signal points\n",
    "    test_file = sig_path / f'gghhh-4pT40_{n}b-mix_5-test.h5'\n",
    "    output_file = sig_path / f'gghhh-4pT40_{n}b-mix_5-test-{pairing_method}.h5'\n",
    "    cmd = f'python -m spanet.predict {log_dir} {output_file} -tf {test_file} --gpu'\n",
    "    print(cmd)\n",
    "\n",
    "    # background\n",
    "    test_file = sample_path / f'bkg/pp6b-4pT40_{n}b-test.h5'\n",
    "    output_file = sig_path / f'pp6b-4pT40_{n}b-test-{pairing_method}.h5'\n",
    "    cmd = f'python -m spanet.predict {log_dir} {output_file} -tf {test_file} --gpu'\n",
    "    print(cmd)\n",
    "    output_file2 = sig_path / f'pp6b-4pT40_{n}b-test-{predict_method}.h5'\n",
    "    print(f'cp {output_file} {output_file2}')\n",
    "\n",
    "    # all signal and background\n",
    "    test_file = sig_path / f'triHiggs_TRSM-4pT40_{n}b-mix_5-test.h5'\n",
    "    output_file = sig_path / f'triHiggs_TRSM-4pT40_{n}b-mix_5-test-{pairing_method}.h5'\n",
    "    cmd = f'python -m spanet.predict {log_dir} {output_file} -tf {test_file} --gpu'\n",
    "    print(cmd)\n",
    "    output_file2 = sig_path / f'triHiggs_TRSM-4pT40_{n}b-mix_5-test-{predict_method}.h5'\n",
    "    print(f'cp {output_file} {output_file2}')\n",
    "\n",
    "# for DNN training\n",
    "test_file = sig_path / 'triHiggs_TRSM-4pT40_4b-mix_5-train.h5'\n",
    "output_file = sig_path / f'triHiggs_TRSM-4pT40_4b-mix_5-train-{pairing_method}.h5'\n",
    "cmd = f'python -m spanet.predict {log_dir} {output_file} -tf {test_file} --gpu'\n",
    "print(cmd)"
   ]
  }
 ],
 "metadata": {
  "kernelspec": {
   "display_name": "jupyter",
   "language": "python",
   "name": "python3"
  },
  "language_info": {
   "codemirror_mode": {
    "name": "ipython",
    "version": 3
   },
   "file_extension": ".py",
   "mimetype": "text/x-python",
   "name": "python",
   "nbconvert_exporter": "python",
   "pygments_lexer": "ipython3",
   "version": "3.8.16"
  }
 },
 "nbformat": 4,
 "nbformat_minor": 2
}
